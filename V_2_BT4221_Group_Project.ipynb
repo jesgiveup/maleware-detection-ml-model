{
 "cells": [
  {
   "cell_type": "markdown",
   "metadata": {
    "application/vnd.databricks.v1+cell": {
     "cellMetadata": {},
     "inputWidgets": {},
     "nuid": "ab7fffc2-5b46-4c38-aed0-418e281837ee",
     "showTitle": false,
     "tableResultSettingsMap": {},
     "title": ""
    },
    "id": "MuHMusOPE9ag"
   },
   "source": [
    "# Load Dataset"
   ]
  },
  {
   "cell_type": "code",
   "execution_count": 1,
   "metadata": {
    "application/vnd.databricks.v1+cell": {
     "cellMetadata": {},
     "inputWidgets": {},
     "nuid": "3015a722-fa1d-45bc-8909-0c1956f120a7",
     "showTitle": false,
     "tableResultSettingsMap": {},
     "title": ""
    },
    "colab": {
     "base_uri": "https://localhost:8080/"
    },
    "id": "U9d8CGDIJMeN",
    "outputId": "6e375b9c-f67a-494c-9065-176e66108b1b"
   },
   "outputs": [
    {
     "name": "stdout",
     "output_type": "stream",
     "text": [
      "Requirement already satisfied: pyspark in c:\\users\\aaron\\appdata\\local\\packages\\pythonsoftwarefoundation.python.3.11_qbz5n2kfra8p0\\localcache\\local-packages\\python311\\site-packages (3.5.5)\n",
      "Requirement already satisfied: py4j==0.10.9.7 in c:\\users\\aaron\\appdata\\local\\packages\\pythonsoftwarefoundation.python.3.11_qbz5n2kfra8p0\\localcache\\local-packages\\python311\\site-packages (from pyspark) (0.10.9.7)\n",
      "Note: you may need to restart the kernel to use updated packages.\n"
     ]
    },
    {
     "name": "stderr",
     "output_type": "stream",
     "text": [
      "\n",
      "[notice] A new release of pip is available: 24.0 -> 25.0.1\n",
      "[notice] To update, run: C:\\Users\\aaron\\AppData\\Local\\Microsoft\\WindowsApps\\PythonSoftwareFoundation.Python.3.11_qbz5n2kfra8p0\\python.exe -m pip install --upgrade pip\n"
     ]
    },
    {
     "name": "stdout",
     "output_type": "stream",
     "text": [
      "Requirement already satisfied: seaborn in c:\\users\\aaron\\appdata\\local\\packages\\pythonsoftwarefoundation.python.3.11_qbz5n2kfra8p0\\localcache\\local-packages\\python311\\site-packages (0.13.2)\n",
      "Requirement already satisfied: numpy!=1.24.0,>=1.20 in c:\\users\\aaron\\appdata\\local\\packages\\pythonsoftwarefoundation.python.3.11_qbz5n2kfra8p0\\localcache\\local-packages\\python311\\site-packages (from seaborn) (2.2.4)\n",
      "Requirement already satisfied: pandas>=1.2 in c:\\users\\aaron\\appdata\\local\\packages\\pythonsoftwarefoundation.python.3.11_qbz5n2kfra8p0\\localcache\\local-packages\\python311\\site-packages (from seaborn) (2.2.3)\n",
      "Requirement already satisfied: matplotlib!=3.6.1,>=3.4 in c:\\users\\aaron\\appdata\\local\\packages\\pythonsoftwarefoundation.python.3.11_qbz5n2kfra8p0\\localcache\\local-packages\\python311\\site-packages (from seaborn) (3.10.1)\n",
      "Requirement already satisfied: contourpy>=1.0.1 in c:\\users\\aaron\\appdata\\local\\packages\\pythonsoftwarefoundation.python.3.11_qbz5n2kfra8p0\\localcache\\local-packages\\python311\\site-packages (from matplotlib!=3.6.1,>=3.4->seaborn) (1.3.1)\n",
      "Requirement already satisfied: cycler>=0.10 in c:\\users\\aaron\\appdata\\local\\packages\\pythonsoftwarefoundation.python.3.11_qbz5n2kfra8p0\\localcache\\local-packages\\python311\\site-packages (from matplotlib!=3.6.1,>=3.4->seaborn) (0.12.1)\n",
      "Requirement already satisfied: fonttools>=4.22.0 in c:\\users\\aaron\\appdata\\local\\packages\\pythonsoftwarefoundation.python.3.11_qbz5n2kfra8p0\\localcache\\local-packages\\python311\\site-packages (from matplotlib!=3.6.1,>=3.4->seaborn) (4.57.0)\n",
      "Requirement already satisfied: kiwisolver>=1.3.1 in c:\\users\\aaron\\appdata\\local\\packages\\pythonsoftwarefoundation.python.3.11_qbz5n2kfra8p0\\localcache\\local-packages\\python311\\site-packages (from matplotlib!=3.6.1,>=3.4->seaborn) (1.4.8)\n",
      "Requirement already satisfied: packaging>=20.0 in c:\\users\\aaron\\appdata\\local\\packages\\pythonsoftwarefoundation.python.3.11_qbz5n2kfra8p0\\localcache\\local-packages\\python311\\site-packages (from matplotlib!=3.6.1,>=3.4->seaborn) (24.2)\n",
      "Requirement already satisfied: pillow>=8 in c:\\users\\aaron\\appdata\\local\\packages\\pythonsoftwarefoundation.python.3.11_qbz5n2kfra8p0\\localcache\\local-packages\\python311\\site-packages (from matplotlib!=3.6.1,>=3.4->seaborn) (11.1.0)\n",
      "Requirement already satisfied: pyparsing>=2.3.1 in c:\\users\\aaron\\appdata\\local\\packages\\pythonsoftwarefoundation.python.3.11_qbz5n2kfra8p0\\localcache\\local-packages\\python311\\site-packages (from matplotlib!=3.6.1,>=3.4->seaborn) (3.2.3)\n",
      "Requirement already satisfied: python-dateutil>=2.7 in c:\\users\\aaron\\appdata\\local\\packages\\pythonsoftwarefoundation.python.3.11_qbz5n2kfra8p0\\localcache\\local-packages\\python311\\site-packages (from matplotlib!=3.6.1,>=3.4->seaborn) (2.9.0.post0)\n",
      "Requirement already satisfied: pytz>=2020.1 in c:\\users\\aaron\\appdata\\local\\packages\\pythonsoftwarefoundation.python.3.11_qbz5n2kfra8p0\\localcache\\local-packages\\python311\\site-packages (from pandas>=1.2->seaborn) (2025.2)\n",
      "Requirement already satisfied: tzdata>=2022.7 in c:\\users\\aaron\\appdata\\local\\packages\\pythonsoftwarefoundation.python.3.11_qbz5n2kfra8p0\\localcache\\local-packages\\python311\\site-packages (from pandas>=1.2->seaborn) (2025.2)\n",
      "Requirement already satisfied: six>=1.5 in c:\\users\\aaron\\appdata\\local\\packages\\pythonsoftwarefoundation.python.3.11_qbz5n2kfra8p0\\localcache\\local-packages\\python311\\site-packages (from python-dateutil>=2.7->matplotlib!=3.6.1,>=3.4->seaborn) (1.17.0)\n",
      "Note: you may need to restart the kernel to use updated packages.\n"
     ]
    },
    {
     "name": "stderr",
     "output_type": "stream",
     "text": [
      "\n",
      "[notice] A new release of pip is available: 24.0 -> 25.0.1\n",
      "[notice] To update, run: C:\\Users\\aaron\\AppData\\Local\\Microsoft\\WindowsApps\\PythonSoftwareFoundation.Python.3.11_qbz5n2kfra8p0\\python.exe -m pip install --upgrade pip\n"
     ]
    },
    {
     "name": "stdout",
     "output_type": "stream",
     "text": [
      "Requirement already satisfied: seaborn in c:\\users\\aaron\\appdata\\local\\packages\\pythonsoftwarefoundation.python.3.11_qbz5n2kfra8p0\\localcache\\local-packages\\python311\\site-packages (0.13.2)\n",
      "Requirement already satisfied: matplotlib in c:\\users\\aaron\\appdata\\local\\packages\\pythonsoftwarefoundation.python.3.11_qbz5n2kfra8p0\\localcache\\local-packages\\python311\\site-packages (3.10.1)\n",
      "Requirement already satisfied: pandas in c:\\users\\aaron\\appdata\\local\\packages\\pythonsoftwarefoundation.python.3.11_qbz5n2kfra8p0\\localcache\\local-packages\\python311\\site-packages (2.2.3)\n",
      "Requirement already satisfied: numpy in c:\\users\\aaron\\appdata\\local\\packages\\pythonsoftwarefoundation.python.3.11_qbz5n2kfra8p0\\localcache\\local-packages\\python311\\site-packages (2.2.4)\n",
      "Requirement already satisfied: contourpy>=1.0.1 in c:\\users\\aaron\\appdata\\local\\packages\\pythonsoftwarefoundation.python.3.11_qbz5n2kfra8p0\\localcache\\local-packages\\python311\\site-packages (from matplotlib) (1.3.1)\n",
      "Requirement already satisfied: cycler>=0.10 in c:\\users\\aaron\\appdata\\local\\packages\\pythonsoftwarefoundation.python.3.11_qbz5n2kfra8p0\\localcache\\local-packages\\python311\\site-packages (from matplotlib) (0.12.1)\n",
      "Requirement already satisfied: fonttools>=4.22.0 in c:\\users\\aaron\\appdata\\local\\packages\\pythonsoftwarefoundation.python.3.11_qbz5n2kfra8p0\\localcache\\local-packages\\python311\\site-packages (from matplotlib) (4.57.0)\n",
      "Requirement already satisfied: kiwisolver>=1.3.1 in c:\\users\\aaron\\appdata\\local\\packages\\pythonsoftwarefoundation.python.3.11_qbz5n2kfra8p0\\localcache\\local-packages\\python311\\site-packages (from matplotlib) (1.4.8)\n",
      "Requirement already satisfied: packaging>=20.0 in c:\\users\\aaron\\appdata\\local\\packages\\pythonsoftwarefoundation.python.3.11_qbz5n2kfra8p0\\localcache\\local-packages\\python311\\site-packages (from matplotlib) (24.2)\n",
      "Requirement already satisfied: pillow>=8 in c:\\users\\aaron\\appdata\\local\\packages\\pythonsoftwarefoundation.python.3.11_qbz5n2kfra8p0\\localcache\\local-packages\\python311\\site-packages (from matplotlib) (11.1.0)\n",
      "Requirement already satisfied: pyparsing>=2.3.1 in c:\\users\\aaron\\appdata\\local\\packages\\pythonsoftwarefoundation.python.3.11_qbz5n2kfra8p0\\localcache\\local-packages\\python311\\site-packages (from matplotlib) (3.2.3)\n",
      "Requirement already satisfied: python-dateutil>=2.7 in c:\\users\\aaron\\appdata\\local\\packages\\pythonsoftwarefoundation.python.3.11_qbz5n2kfra8p0\\localcache\\local-packages\\python311\\site-packages (from matplotlib) (2.9.0.post0)\n",
      "Requirement already satisfied: pytz>=2020.1 in c:\\users\\aaron\\appdata\\local\\packages\\pythonsoftwarefoundation.python.3.11_qbz5n2kfra8p0\\localcache\\local-packages\\python311\\site-packages (from pandas) (2025.2)\n",
      "Requirement already satisfied: tzdata>=2022.7 in c:\\users\\aaron\\appdata\\local\\packages\\pythonsoftwarefoundation.python.3.11_qbz5n2kfra8p0\\localcache\\local-packages\\python311\\site-packages (from pandas) (2025.2)\n",
      "Requirement already satisfied: six>=1.5 in c:\\users\\aaron\\appdata\\local\\packages\\pythonsoftwarefoundation.python.3.11_qbz5n2kfra8p0\\localcache\\local-packages\\python311\\site-packages (from python-dateutil>=2.7->matplotlib) (1.17.0)\n",
      "Note: you may need to restart the kernel to use updated packages.\n"
     ]
    },
    {
     "name": "stderr",
     "output_type": "stream",
     "text": [
      "\n",
      "[notice] A new release of pip is available: 24.0 -> 25.0.1\n",
      "[notice] To update, run: C:\\Users\\aaron\\AppData\\Local\\Microsoft\\WindowsApps\\PythonSoftwareFoundation.Python.3.11_qbz5n2kfra8p0\\python.exe -m pip install --upgrade pip\n"
     ]
    }
   ],
   "source": [
    "%pip install pyspark\n",
    "%pip install seaborn\n",
    "%pip install seaborn matplotlib pandas numpy"
   ]
  },
  {
   "cell_type": "code",
   "execution_count": 2,
   "metadata": {
    "application/vnd.databricks.v1+cell": {
     "cellMetadata": {
      "byteLimit": 2048000,
      "rowLimit": 10000
     },
     "inputWidgets": {},
     "nuid": "de144ed6-9b78-43a3-9fc1-f501d3811db2",
     "showTitle": false,
     "tableResultSettingsMap": {},
     "title": ""
    },
    "id": "wza_1GzTtyur"
   },
   "outputs": [],
   "source": [
    "# imports\n",
    "from pyspark.sql import SparkSession\n",
    "from pyspark.sql import functions as F\n",
    "from pyspark.sql.functions import split, col, count, when, sum, expr, udf\n",
    "from pyspark.sql.types import FloatType, DoubleType\n",
    "from pyspark.sql.window import Window\n",
    "from pyspark.ml.clustering import KMeans\n",
    "from pyspark.ml.feature import VectorAssembler, StandardScaler\n",
    "from pyspark.ml import Pipeline\n",
    "\n",
    "import math\n",
    "import seaborn as sns\n",
    "import matplotlib.pyplot as plt\n",
    "import pandas as pd\n",
    "import numpy as np\n",
    "\n",
    "# from google.colab import files"
   ]
  },
  {
   "cell_type": "code",
   "execution_count": 3,
   "metadata": {
    "application/vnd.databricks.v1+cell": {
     "cellMetadata": {
      "byteLimit": 2048000,
      "rowLimit": 10000
     },
     "inputWidgets": {},
     "nuid": "515b6157-14c8-4c9e-a73c-5d9f995ce26c",
     "showTitle": false,
     "tableResultSettingsMap": {},
     "title": ""
    },
    "colab": {
     "base_uri": "https://localhost:8080/"
    },
    "id": "bHvifmtp9W8I",
    "outputId": "a1fd5426-fc7b-4d24-ee69-e9a5f0644a1c"
   },
   "outputs": [
    {
     "name": "stdout",
     "output_type": "stream",
     "text": [
      "Spark session created.\n"
     ]
    }
   ],
   "source": [
    "from pyspark.sql import SparkSession\n",
    "\n",
    "if \"spark\" in locals():\n",
    "    spark.stop()\n",
    "    print(\"Spark session stopped.\")\n",
    "\n",
    "# Initialize Spark session\n",
    "spark = SparkSession.builder.appName(\"Malware Network Traffic\").getOrCreate()\n",
    "print(\"Spark session created.\")"
   ]
  },
  {
   "cell_type": "code",
   "execution_count": 4,
   "metadata": {},
   "outputs": [
    {
     "name": "stdout",
     "output_type": "stream",
     "text": [
      "local[*]\n"
     ]
    }
   ],
   "source": [
    "print(spark.sparkContext.master)"
   ]
  },
  {
   "cell_type": "code",
   "execution_count": 5,
   "metadata": {
    "application/vnd.databricks.v1+cell": {
     "cellMetadata": {
      "byteLimit": 2048000,
      "rowLimit": 10000
     },
     "inputWidgets": {},
     "nuid": "2c2c47ad-ebf3-4023-a566-911247bc3ba5",
     "showTitle": false,
     "tableResultSettingsMap": {},
     "title": ""
    }
   },
   "outputs": [],
   "source": [
    "# Path to the file (same folder as notebook)\n",
    "file_path = r\"C:\\Users\\aaron\\OneDrive\\Desktop\\NUS\\Y4S2 BZA\\BT4221\\maleware-detection-ml-model\\CTU-IoT-Malware-Capture-35-1conn.log.labeled.csv\" # change name if needed\n",
    "\n",
    "# Load the CSV into a Spark DataFrame\n",
    "df = spark.read.csv(file_path, header=True, inferSchema=True, sep=\"|\")"
   ]
  },
  {
   "cell_type": "markdown",
   "metadata": {
    "application/vnd.databricks.v1+cell": {
     "cellMetadata": {},
     "inputWidgets": {},
     "nuid": "ae4cea10-5ca9-4525-9e60-8bd65021b416",
     "showTitle": false,
     "tableResultSettingsMap": {},
     "title": ""
    },
    "id": "7imKjAzND901"
   },
   "source": [
    "# Light Data Exploration"
   ]
  },
  {
   "cell_type": "markdown",
   "metadata": {
    "application/vnd.databricks.v1+cell": {
     "cellMetadata": {},
     "inputWidgets": {},
     "nuid": "8a4c36ce-3941-44cd-8111-9855ca3178f5",
     "showTitle": false,
     "tableResultSettingsMap": {},
     "title": ""
    },
    "id": "KJExQrJbDw9S"
   },
   "source": [
    "## Display first 5 rows in dataset"
   ]
  },
  {
   "cell_type": "code",
   "execution_count": 6,
   "metadata": {
    "application/vnd.databricks.v1+cell": {
     "cellMetadata": {},
     "inputWidgets": {},
     "nuid": "3f94f75d-65f7-493c-bda0-bb9f42713118",
     "showTitle": false,
     "tableResultSettingsMap": {},
     "title": ""
    },
    "colab": {
     "base_uri": "https://localhost:8080/"
    },
    "collapsed": true,
    "id": "cTmZ3Gygzz4S",
    "outputId": "b967f68f-98ca-4d05-fda5-fd8dfe52cca1"
   },
   "outputs": [
    {
     "name": "stdout",
     "output_type": "stream",
     "text": [
      "+-------------------+------------------+-------------+---------+--------------+---------+-----+-------+--------+----------+----------+----------+----------+----------+------------+-------+---------+-------------+---------+-------------+--------------+---------------+--------------+\n",
      "|                 ts|               uid|    id.orig_h|id.orig_p|     id.resp_h|id.resp_p|proto|service|duration|orig_bytes|resp_bytes|conn_state|local_orig|local_resp|missed_bytes|history|orig_pkts|orig_ip_bytes|resp_pkts|resp_ip_bytes|tunnel_parents|          label|detailed-label|\n",
      "+-------------------+------------------+-------------+---------+--------------+---------+-----+-------+--------+----------+----------+----------+----------+----------+------------+-------+---------+-------------+---------+-------------+--------------+---------------+--------------+\n",
      "|1.545402842863612E9|CdNmOg26ZIaBRzPvWj|192.168.1.196|  59932.0|104.248.160.24|     80.0|  tcp|      -|3.097754|         0|         0|        S0|         -|         -|         0.0|      S|      3.0|        180.0|      0.0|          0.0|             -|Malicious   C&C|          NULL|\n",
      "|1.545402850041294E9|CgzGV333k9WCximeu8|192.168.1.196|  59932.0|104.248.160.24|     80.0|  tcp|      -|       -|         -|         -|        S0|         -|         -|         0.0|      S|      1.0|         60.0|      0.0|          0.0|             -|Malicious   C&C|          NULL|\n",
      "|1.545402858441479E9|CLm5Pd3ZnqmYVjrZ44|192.168.1.196|  59932.0|104.248.160.24|     80.0|  tcp|      -|       -|         -|         -|        S0|         -|         -|         0.0|      S|      1.0|         60.0|      0.0|          0.0|             -|Malicious   C&C|          NULL|\n",
      "|1.545402853913069E9|CDn2pd1rDD1lCMXAia|192.168.1.196|  35883.0|   192.168.1.1|     53.0|  udp|    dns|5.005148|        78|         0|        S0|         -|         -|         0.0|      D|      2.0|        134.0|      0.0|          0.0|             -|         Benign|             -|\n",
      "| 1.54540284390254E9|C1NKkV3tB4rImzbpDj|192.168.1.196|  43531.0|   192.168.1.1|     53.0|  udp|    dns|5.005145|        78|         0|        S0|         -|         -|         0.0|      D|      2.0|        134.0|      0.0|          0.0|             -|         Benign|             -|\n",
      "+-------------------+------------------+-------------+---------+--------------+---------+-----+-------+--------+----------+----------+----------+----------+----------+------------+-------+---------+-------------+---------+-------------+--------------+---------------+--------------+\n",
      "only showing top 5 rows\n",
      "\n"
     ]
    }
   ],
   "source": [
    "# print(df_split.head())\n",
    "# Show first 5 rows\n",
    "df.show(5)"
   ]
  },
  {
   "cell_type": "markdown",
   "metadata": {
    "application/vnd.databricks.v1+cell": {
     "cellMetadata": {},
     "inputWidgets": {},
     "nuid": "7ddb7214-867b-4ec8-874d-e68fa9b23691",
     "showTitle": false,
     "tableResultSettingsMap": {},
     "title": ""
    },
    "id": "LlXAE87KCnu9"
   },
   "source": [
    "## Show schema to identify column types"
   ]
  },
  {
   "cell_type": "code",
   "execution_count": 7,
   "metadata": {
    "application/vnd.databricks.v1+cell": {
     "cellMetadata": {},
     "inputWidgets": {},
     "nuid": "8b6c1d18-018f-4435-8bda-b942fa85d57f",
     "showTitle": false,
     "tableResultSettingsMap": {},
     "title": ""
    },
    "colab": {
     "base_uri": "https://localhost:8080/"
    },
    "collapsed": true,
    "id": "ocADM6cYz2kk",
    "outputId": "52e67fb5-554c-4b7f-a1ba-105e697feebc"
   },
   "outputs": [
    {
     "name": "stdout",
     "output_type": "stream",
     "text": [
      "root\n",
      " |-- ts: double (nullable = true)\n",
      " |-- uid: string (nullable = true)\n",
      " |-- id.orig_h: string (nullable = true)\n",
      " |-- id.orig_p: double (nullable = true)\n",
      " |-- id.resp_h: string (nullable = true)\n",
      " |-- id.resp_p: double (nullable = true)\n",
      " |-- proto: string (nullable = true)\n",
      " |-- service: string (nullable = true)\n",
      " |-- duration: string (nullable = true)\n",
      " |-- orig_bytes: string (nullable = true)\n",
      " |-- resp_bytes: string (nullable = true)\n",
      " |-- conn_state: string (nullable = true)\n",
      " |-- local_orig: string (nullable = true)\n",
      " |-- local_resp: string (nullable = true)\n",
      " |-- missed_bytes: double (nullable = true)\n",
      " |-- history: string (nullable = true)\n",
      " |-- orig_pkts: double (nullable = true)\n",
      " |-- orig_ip_bytes: double (nullable = true)\n",
      " |-- resp_pkts: double (nullable = true)\n",
      " |-- resp_ip_bytes: double (nullable = true)\n",
      " |-- tunnel_parents: string (nullable = true)\n",
      " |-- label: string (nullable = true)\n",
      " |-- detailed-label: string (nullable = true)\n",
      "\n"
     ]
    }
   ],
   "source": [
    "df.printSchema()"
   ]
  },
  {
   "cell_type": "markdown",
   "metadata": {
    "application/vnd.databricks.v1+cell": {
     "cellMetadata": {},
     "inputWidgets": {},
     "nuid": "7e24656b-aa19-4bb9-9030-65e5d23f7caa",
     "showTitle": false,
     "tableResultSettingsMap": {},
     "title": ""
    }
   },
   "source": [
    "## Check number of rows and columns"
   ]
  },
  {
   "cell_type": "code",
   "execution_count": 8,
   "metadata": {
    "application/vnd.databricks.v1+cell": {
     "cellMetadata": {},
     "inputWidgets": {},
     "nuid": "bba600aa-df94-42c2-9599-2371b84a236c",
     "showTitle": false,
     "tableResultSettingsMap": {},
     "title": ""
    }
   },
   "outputs": [
    {
     "name": "stdout",
     "output_type": "stream",
     "text": [
      "Number of rows: 10447787\n",
      "Number of columns: 23\n"
     ]
    }
   ],
   "source": [
    "num_rows = df.count()\n",
    "print(f\"Number of rows: {num_rows}\")\n",
    "num_columns = len(df.columns)\n",
    "print(f\"Number of columns: {num_columns}\")"
   ]
  },
  {
   "cell_type": "markdown",
   "metadata": {
    "application/vnd.databricks.v1+cell": {
     "cellMetadata": {},
     "inputWidgets": {},
     "nuid": "b2c493bc-4eee-4f8c-997a-7db6d3ddd96a",
     "showTitle": false,
     "tableResultSettingsMap": {},
     "title": ""
    }
   },
   "source": [
    "# Data Cleaning"
   ]
  },
  {
   "cell_type": "markdown",
   "metadata": {
    "application/vnd.databricks.v1+cell": {
     "cellMetadata": {},
     "inputWidgets": {},
     "nuid": "77968585-a0ea-4590-ae11-59c4eb3ec918",
     "showTitle": false,
     "tableResultSettingsMap": {},
     "title": ""
    },
    "id": "oE2c8Gp4RIIM"
   },
   "source": [
    "## Cast '-' to NaN change column names so that Spark will not misinterpret them"
   ]
  },
  {
   "cell_type": "code",
   "execution_count": 9,
   "metadata": {
    "application/vnd.databricks.v1+cell": {
     "cellMetadata": {
      "byteLimit": 2048000,
      "rowLimit": 10000
     },
     "inputWidgets": {},
     "nuid": "09fc8c04-bd82-46c0-9316-f1a03c7f65cf",
     "showTitle": false,
     "tableResultSettingsMap": {},
     "title": ""
    },
    "colab": {
     "base_uri": "https://localhost:8080/"
    },
    "collapsed": true,
    "id": "GUlLAcOpRITz",
    "outputId": "2aa93cba-8a1e-41eb-b1fc-58f440aa63a2"
   },
   "outputs": [
    {
     "name": "stdout",
     "output_type": "stream",
     "text": [
      "+-------------------+------------------+-------------+---------+--------------+---------+-----+-------+--------+----------+----------+----------+----------+----------+------------+-------+---------+-------------+---------+-------------+--------------+---------------+--------------+\n",
      "|                 ts|               uid|    id_orig_h|id_orig_p|     id_resp_h|id_resp_p|proto|service|duration|orig_bytes|resp_bytes|conn_state|local_orig|local_resp|missed_bytes|history|orig_pkts|orig_ip_bytes|resp_pkts|resp_ip_bytes|tunnel_parents|          label|detailed-label|\n",
      "+-------------------+------------------+-------------+---------+--------------+---------+-----+-------+--------+----------+----------+----------+----------+----------+------------+-------+---------+-------------+---------+-------------+--------------+---------------+--------------+\n",
      "|1.545402842863612E9|CdNmOg26ZIaBRzPvWj|192.168.1.196|  59932.0|104.248.160.24|     80.0|  tcp|   NULL|3.097754|         0|         0|        S0|      NULL|      NULL|         0.0|      S|      3.0|        180.0|      0.0|          0.0|          NULL|Malicious   C&C|          NULL|\n",
      "|1.545402850041294E9|CgzGV333k9WCximeu8|192.168.1.196|  59932.0|104.248.160.24|     80.0|  tcp|   NULL|    NULL|      NULL|      NULL|        S0|      NULL|      NULL|         0.0|      S|      1.0|         60.0|      0.0|          0.0|          NULL|Malicious   C&C|          NULL|\n",
      "|1.545402858441479E9|CLm5Pd3ZnqmYVjrZ44|192.168.1.196|  59932.0|104.248.160.24|     80.0|  tcp|   NULL|    NULL|      NULL|      NULL|        S0|      NULL|      NULL|         0.0|      S|      1.0|         60.0|      0.0|          0.0|          NULL|Malicious   C&C|          NULL|\n",
      "|1.545402853913069E9|CDn2pd1rDD1lCMXAia|192.168.1.196|  35883.0|   192.168.1.1|     53.0|  udp|    dns|5.005148|        78|         0|        S0|      NULL|      NULL|         0.0|      D|      2.0|        134.0|      0.0|          0.0|          NULL|         Benign|          NULL|\n",
      "| 1.54540284390254E9|C1NKkV3tB4rImzbpDj|192.168.1.196|  43531.0|   192.168.1.1|     53.0|  udp|    dns|5.005145|        78|         0|        S0|      NULL|      NULL|         0.0|      D|      2.0|        134.0|      0.0|          0.0|          NULL|         Benign|          NULL|\n",
      "+-------------------+------------------+-------------+---------+--------------+---------+-----+-------+--------+----------+----------+----------+----------+----------+------------+-------+---------+-------------+---------+-------------+--------------+---------------+--------------+\n",
      "only showing top 5 rows\n",
      "\n"
     ]
    }
   ],
   "source": [
    "from pyspark.sql.functions import col, when\n",
    "\n",
    "for column in df.columns:\n",
    "    df = df.withColumn(column, when(col(f\"`{column}`\") == \"-\", None).otherwise(col(f\"`{column}`\")))\n",
    "\n",
    "# Rename columns to replace dots with underscores\n",
    "new_column_names = [c.replace(\".\", \"_\") for c in df.columns]\n",
    "df = df.toDF(*new_column_names)\n",
    "\n",
    "# Check\n",
    "df.show(5)"
   ]
  },
  {
   "cell_type": "markdown",
   "metadata": {
    "application/vnd.databricks.v1+cell": {
     "cellMetadata": {},
     "inputWidgets": {},
     "nuid": "d3c757cd-2df2-495e-8119-3bb5ffc9e795",
     "showTitle": false,
     "tableResultSettingsMap": {},
     "title": ""
    }
   },
   "source": [
    "## Dealing with missing values"
   ]
  },
  {
   "cell_type": "code",
   "execution_count": 10,
   "metadata": {
    "application/vnd.databricks.v1+cell": {
     "cellMetadata": {
      "byteLimit": 2048000,
      "rowLimit": 10000
     },
     "inputWidgets": {},
     "nuid": "392bb792-a111-49fd-8d9b-aefe9e058da6",
     "showTitle": false,
     "tableResultSettingsMap": {},
     "title": ""
    }
   },
   "outputs": [
    {
     "data": {
      "text/html": [
       "<div>\n",
       "<style scoped>\n",
       "    .dataframe tbody tr th:only-of-type {\n",
       "        vertical-align: middle;\n",
       "    }\n",
       "\n",
       "    .dataframe tbody tr th {\n",
       "        vertical-align: top;\n",
       "    }\n",
       "\n",
       "    .dataframe thead th {\n",
       "        text-align: right;\n",
       "    }\n",
       "</style>\n",
       "<table border=\"1\" class=\"dataframe\">\n",
       "  <thead>\n",
       "    <tr style=\"text-align: right;\">\n",
       "      <th></th>\n",
       "      <th>Count</th>\n",
       "    </tr>\n",
       "  </thead>\n",
       "  <tbody>\n",
       "    <tr>\n",
       "      <th>ts</th>\n",
       "      <td>0</td>\n",
       "    </tr>\n",
       "    <tr>\n",
       "      <th>uid</th>\n",
       "      <td>0</td>\n",
       "    </tr>\n",
       "    <tr>\n",
       "      <th>id_orig_h</th>\n",
       "      <td>0</td>\n",
       "    </tr>\n",
       "    <tr>\n",
       "      <th>id_orig_p</th>\n",
       "      <td>0</td>\n",
       "    </tr>\n",
       "    <tr>\n",
       "      <th>id_resp_h</th>\n",
       "      <td>0</td>\n",
       "    </tr>\n",
       "    <tr>\n",
       "      <th>id_resp_p</th>\n",
       "      <td>0</td>\n",
       "    </tr>\n",
       "    <tr>\n",
       "      <th>proto</th>\n",
       "      <td>0</td>\n",
       "    </tr>\n",
       "    <tr>\n",
       "      <th>service</th>\n",
       "      <td>10446261</td>\n",
       "    </tr>\n",
       "    <tr>\n",
       "      <th>duration</th>\n",
       "      <td>4432615</td>\n",
       "    </tr>\n",
       "    <tr>\n",
       "      <th>orig_bytes</th>\n",
       "      <td>4432615</td>\n",
       "    </tr>\n",
       "    <tr>\n",
       "      <th>resp_bytes</th>\n",
       "      <td>4432615</td>\n",
       "    </tr>\n",
       "    <tr>\n",
       "      <th>conn_state</th>\n",
       "      <td>0</td>\n",
       "    </tr>\n",
       "    <tr>\n",
       "      <th>local_orig</th>\n",
       "      <td>10447787</td>\n",
       "    </tr>\n",
       "    <tr>\n",
       "      <th>local_resp</th>\n",
       "      <td>10447787</td>\n",
       "    </tr>\n",
       "    <tr>\n",
       "      <th>missed_bytes</th>\n",
       "      <td>0</td>\n",
       "    </tr>\n",
       "    <tr>\n",
       "      <th>history</th>\n",
       "      <td>1638</td>\n",
       "    </tr>\n",
       "    <tr>\n",
       "      <th>orig_pkts</th>\n",
       "      <td>0</td>\n",
       "    </tr>\n",
       "    <tr>\n",
       "      <th>orig_ip_bytes</th>\n",
       "      <td>0</td>\n",
       "    </tr>\n",
       "    <tr>\n",
       "      <th>resp_pkts</th>\n",
       "      <td>0</td>\n",
       "    </tr>\n",
       "    <tr>\n",
       "      <th>resp_ip_bytes</th>\n",
       "      <td>0</td>\n",
       "    </tr>\n",
       "    <tr>\n",
       "      <th>tunnel_parents</th>\n",
       "      <td>10447787</td>\n",
       "    </tr>\n",
       "    <tr>\n",
       "      <th>label</th>\n",
       "      <td>0</td>\n",
       "    </tr>\n",
       "    <tr>\n",
       "      <th>detailed-label</th>\n",
       "      <td>10447775</td>\n",
       "    </tr>\n",
       "  </tbody>\n",
       "</table>\n",
       "</div>"
      ],
      "text/plain": [
       "                   Count\n",
       "ts                     0\n",
       "uid                    0\n",
       "id_orig_h              0\n",
       "id_orig_p              0\n",
       "id_resp_h              0\n",
       "id_resp_p              0\n",
       "proto                  0\n",
       "service         10446261\n",
       "duration         4432615\n",
       "orig_bytes       4432615\n",
       "resp_bytes       4432615\n",
       "conn_state             0\n",
       "local_orig      10447787\n",
       "local_resp      10447787\n",
       "missed_bytes           0\n",
       "history             1638\n",
       "orig_pkts              0\n",
       "orig_ip_bytes          0\n",
       "resp_pkts              0\n",
       "resp_ip_bytes          0\n",
       "tunnel_parents  10447787\n",
       "label                  0\n",
       "detailed-label  10447775"
      ]
     },
     "metadata": {},
     "output_type": "display_data"
    }
   ],
   "source": [
    "from pyspark.sql.functions import col, sum as spark_sum\n",
    "\n",
    "null_values = (\n",
    "    df.select([\n",
    "        spark_sum(col(c).isNull().cast(\"int\")).alias(c)\n",
    "        for c in df.columns\n",
    "    ])\n",
    "    .toPandas()\n",
    "    .T.rename(columns={0: \"Count\"})\n",
    ")\n",
    "\n",
    "display(null_values)"
   ]
  },
  {
   "cell_type": "markdown",
   "metadata": {
    "application/vnd.databricks.v1+cell": {
     "cellMetadata": {},
     "inputWidgets": {},
     "nuid": "9e38f694-c9ff-461c-908f-ddc86cf30e2f",
     "showTitle": false,
     "tableResultSettingsMap": {},
     "title": ""
    }
   },
   "source": [
    "Since duration, orig_bytes, resp_bytes all have same number of null values (4432615), very likely they are from the same few rows. All three columns are critical for modelling so it is best to drop the rows containing null values in those fields.\n",
    "\n",
    "Others like service, local_orig, local_resp, tunnel_parents amd detailed_label all have more than 10446261 out of 10447787 null values. These will not help our model and will just bloat memory, so we can drop these columns."
   ]
  },
  {
   "cell_type": "code",
   "execution_count": 11,
   "metadata": {
    "application/vnd.databricks.v1+cell": {
     "cellMetadata": {
      "byteLimit": 2048000,
      "rowLimit": 10000
     },
     "inputWidgets": {},
     "nuid": "73748ea0-cadd-4e1c-b9d5-7e7dff1857e5",
     "showTitle": false,
     "tableResultSettingsMap": {},
     "title": ""
    }
   },
   "outputs": [
    {
     "data": {
      "text/html": [
       "<div>\n",
       "<style scoped>\n",
       "    .dataframe tbody tr th:only-of-type {\n",
       "        vertical-align: middle;\n",
       "    }\n",
       "\n",
       "    .dataframe tbody tr th {\n",
       "        vertical-align: top;\n",
       "    }\n",
       "\n",
       "    .dataframe thead th {\n",
       "        text-align: right;\n",
       "    }\n",
       "</style>\n",
       "<table border=\"1\" class=\"dataframe\">\n",
       "  <thead>\n",
       "    <tr style=\"text-align: right;\">\n",
       "      <th></th>\n",
       "      <th>Count</th>\n",
       "    </tr>\n",
       "  </thead>\n",
       "  <tbody>\n",
       "    <tr>\n",
       "      <th>ts</th>\n",
       "      <td>0</td>\n",
       "    </tr>\n",
       "    <tr>\n",
       "      <th>uid</th>\n",
       "      <td>0</td>\n",
       "    </tr>\n",
       "    <tr>\n",
       "      <th>id_orig_h</th>\n",
       "      <td>0</td>\n",
       "    </tr>\n",
       "    <tr>\n",
       "      <th>id_orig_p</th>\n",
       "      <td>0</td>\n",
       "    </tr>\n",
       "    <tr>\n",
       "      <th>id_resp_h</th>\n",
       "      <td>0</td>\n",
       "    </tr>\n",
       "    <tr>\n",
       "      <th>id_resp_p</th>\n",
       "      <td>0</td>\n",
       "    </tr>\n",
       "    <tr>\n",
       "      <th>proto</th>\n",
       "      <td>0</td>\n",
       "    </tr>\n",
       "    <tr>\n",
       "      <th>duration</th>\n",
       "      <td>0</td>\n",
       "    </tr>\n",
       "    <tr>\n",
       "      <th>orig_bytes</th>\n",
       "      <td>0</td>\n",
       "    </tr>\n",
       "    <tr>\n",
       "      <th>resp_bytes</th>\n",
       "      <td>0</td>\n",
       "    </tr>\n",
       "    <tr>\n",
       "      <th>conn_state</th>\n",
       "      <td>0</td>\n",
       "    </tr>\n",
       "    <tr>\n",
       "      <th>missed_bytes</th>\n",
       "      <td>0</td>\n",
       "    </tr>\n",
       "    <tr>\n",
       "      <th>history</th>\n",
       "      <td>0</td>\n",
       "    </tr>\n",
       "    <tr>\n",
       "      <th>orig_pkts</th>\n",
       "      <td>0</td>\n",
       "    </tr>\n",
       "    <tr>\n",
       "      <th>orig_ip_bytes</th>\n",
       "      <td>0</td>\n",
       "    </tr>\n",
       "    <tr>\n",
       "      <th>resp_pkts</th>\n",
       "      <td>0</td>\n",
       "    </tr>\n",
       "    <tr>\n",
       "      <th>resp_ip_bytes</th>\n",
       "      <td>0</td>\n",
       "    </tr>\n",
       "    <tr>\n",
       "      <th>label</th>\n",
       "      <td>0</td>\n",
       "    </tr>\n",
       "  </tbody>\n",
       "</table>\n",
       "</div>"
      ],
      "text/plain": [
       "               Count\n",
       "ts                 0\n",
       "uid                0\n",
       "id_orig_h          0\n",
       "id_orig_p          0\n",
       "id_resp_h          0\n",
       "id_resp_p          0\n",
       "proto              0\n",
       "duration           0\n",
       "orig_bytes         0\n",
       "resp_bytes         0\n",
       "conn_state         0\n",
       "missed_bytes       0\n",
       "history            0\n",
       "orig_pkts          0\n",
       "orig_ip_bytes      0\n",
       "resp_pkts          0\n",
       "resp_ip_bytes      0\n",
       "label              0"
      ]
     },
     "metadata": {},
     "output_type": "display_data"
    }
   ],
   "source": [
    "from pyspark.sql.functions import when, col\n",
    "\n",
    "# Columns you care about\n",
    "columns_to_clean = ['duration', 'orig_bytes', 'resp_bytes', 'history']\n",
    "\n",
    "# Replace \"NULL\" or \"null\" strings with actual nulls (None)\n",
    "for c in columns_to_clean:\n",
    "    df = df.withColumn(c, when((col(c) == \"NULL\") | (col(c) == \"null\"), None).otherwise(col(c)))\n",
    "\n",
    "# Now drop rows where any of these are null\n",
    "df = df.dropna(subset=columns_to_clean)\n",
    "\n",
    "from pyspark.sql.functions import col, sum as spark_sum\n",
    "\n",
    "# now drop columns with largely null values\n",
    "columns_to_drop = [\"service\", \"local_orig\", \"local_resp\", \"tunnel_parents\", \"detailed-label\"]\n",
    "df = df.drop(*columns_to_drop)\n",
    "\n",
    "\n",
    "null_values = (\n",
    "    df.select([\n",
    "        spark_sum(col(c).isNull().cast(\"int\")).alias(c)\n",
    "        for c in df.columns\n",
    "    ])\n",
    "    .toPandas()\n",
    "    .T.rename(columns={0: \"Count\"})\n",
    ")\n",
    "\n",
    "display(null_values)"
   ]
  },
  {
   "cell_type": "markdown",
   "metadata": {
    "application/vnd.databricks.v1+cell": {
     "cellMetadata": {},
     "inputWidgets": {},
     "nuid": "1eabe3f2-28c3-4935-83a1-ad17f6179db7",
     "showTitle": false,
     "tableResultSettingsMap": {},
     "title": ""
    }
   },
   "source": [
    "They are indeed from the same few rows. now there are 0 NULL count for duration, orig_bytes and resp_bytes."
   ]
  },
  {
   "cell_type": "markdown",
   "metadata": {
    "application/vnd.databricks.v1+cell": {
     "cellMetadata": {},
     "inputWidgets": {},
     "nuid": "5b88fafb-8a2a-4d36-a787-55667751abd1",
     "showTitle": false,
     "tableResultSettingsMap": {},
     "title": ""
    }
   },
   "source": [
    "## check number of rows and colums after dropping rows with null values"
   ]
  },
  {
   "cell_type": "code",
   "execution_count": 12,
   "metadata": {
    "application/vnd.databricks.v1+cell": {
     "cellMetadata": {},
     "inputWidgets": {},
     "nuid": "b88860d4-4e27-43db-8ff9-c46b035996dc",
     "showTitle": false,
     "tableResultSettingsMap": {},
     "title": ""
    }
   },
   "outputs": [
    {
     "name": "stdout",
     "output_type": "stream",
     "text": [
      "Number of rows: 6015150\n",
      "Number of columns: 18\n"
     ]
    }
   ],
   "source": [
    "num_rows = df.count()\n",
    "print(f\"Number of rows: {num_rows}\")\n",
    "num_columns = len(df.columns)\n",
    "print(f\"Number of columns: {num_columns}\")"
   ]
  },
  {
   "cell_type": "markdown",
   "metadata": {
    "application/vnd.databricks.v1+cell": {
     "cellMetadata": {},
     "inputWidgets": {},
     "nuid": "9b5ce9f0-2bcd-4588-91fd-5743f2b57b32",
     "showTitle": false,
     "tableResultSettingsMap": {},
     "title": ""
    }
   },
   "source": [
    "# Deeper Data Exploration"
   ]
  },
  {
   "cell_type": "markdown",
   "metadata": {
    "application/vnd.databricks.v1+cell": {
     "cellMetadata": {},
     "inputWidgets": {},
     "nuid": "d6a3c340-5822-4a60-871b-96bf60295c04",
     "showTitle": false,
     "tableResultSettingsMap": {},
     "title": ""
    },
    "id": "talBuE4C5QnW"
   },
   "source": [
    "## Checking for Distribution of Target Variable\n"
   ]
  },
  {
   "cell_type": "code",
   "execution_count": 13,
   "metadata": {
    "application/vnd.databricks.v1+cell": {
     "cellMetadata": {
      "byteLimit": 2048000,
      "rowLimit": 10000
     },
     "inputWidgets": {},
     "nuid": "7f4155f5-801d-4398-adca-2c2837796586",
     "showTitle": false,
     "tableResultSettingsMap": {},
     "title": ""
    },
    "id": "dnJM_1MM5ZA-"
   },
   "outputs": [
    {
     "name": "stdout",
     "output_type": "stream",
     "text": [
      "+------------------+-------+\n",
      "|             label|  count|\n",
      "+------------------+-------+\n",
      "|            Benign|4108318|\n",
      "|Malicious   Attack|      3|\n",
      "|   Malicious   C&C|     33|\n",
      "|  Malicious   DDoS|1906796|\n",
      "+------------------+-------+\n",
      "\n"
     ]
    }
   ],
   "source": [
    "# Register DataFrame as a SQL table\n",
    "df.createOrReplaceTempView(\"malware_data\")\n",
    "\n",
    "# Define SQL Query to count the number of rows with 0 and 1 in the target variable\n",
    "query = \"\"\"\n",
    "SELECT\n",
    "    label,\n",
    "    COUNT(*) AS count\n",
    "FROM\n",
    "    malware_data\n",
    "GROUP BY\n",
    "    label\n",
    "\"\"\"\n",
    "\n",
    "# Run the SQL query\n",
    "result = spark.sql(query)\n",
    "result.show()"
   ]
  },
  {
   "cell_type": "code",
   "execution_count": 14,
   "metadata": {},
   "outputs": [],
   "source": [
    "# DROPPING ROWS WITH VERY LOW FREQUENCY --------------------------------\n",
    "df = df.filter(~col(\"label\").isin(\"Malicious   Attack\", \"Malicious   C&C\"))"
   ]
  },
  {
   "cell_type": "markdown",
   "metadata": {},
   "source": [
    "Check distribution again:"
   ]
  },
  {
   "cell_type": "code",
   "execution_count": 15,
   "metadata": {},
   "outputs": [
    {
     "name": "stdout",
     "output_type": "stream",
     "text": [
      "+----------------+-------+\n",
      "|           label|  count|\n",
      "+----------------+-------+\n",
      "|          Benign|4108318|\n",
      "|Malicious   DDoS|1906796|\n",
      "+----------------+-------+\n",
      "\n"
     ]
    }
   ],
   "source": [
    "# Register DataFrame as a SQL table\n",
    "df.createOrReplaceTempView(\"malware_data\")\n",
    "\n",
    "# Define SQL Query to count the number of rows with 0 and 1 in the target variable\n",
    "query = \"\"\"\n",
    "SELECT\n",
    "    label,\n",
    "    COUNT(*) AS count\n",
    "FROM\n",
    "    malware_data\n",
    "GROUP BY\n",
    "    label\n",
    "\"\"\"\n",
    "\n",
    "# Run the SQL query\n",
    "result = spark.sql(query)\n",
    "result.show()"
   ]
  },
  {
   "cell_type": "markdown",
   "metadata": {
    "application/vnd.databricks.v1+cell": {
     "cellMetadata": {},
     "inputWidgets": {},
     "nuid": "cb14e088-859b-4999-81c2-3413aa8d155b",
     "showTitle": false,
     "tableResultSettingsMap": {},
     "title": ""
    },
    "id": "ctcKSB-xd2Vm"
   },
   "source": [
    "Roughly 2:1 ratio, mildly imbalanced."
   ]
  },
  {
   "cell_type": "markdown",
   "metadata": {},
   "source": [
    "## Performing Stratified Undersampling of majority benign class"
   ]
  },
  {
   "cell_type": "code",
   "execution_count": 16,
   "metadata": {},
   "outputs": [
    {
     "name": "stdout",
     "output_type": "stream",
     "text": [
      "+----------------+-------+\n",
      "|           label|  count|\n",
      "+----------------+-------+\n",
      "|          Benign|2001619|\n",
      "|Malicious   DDoS|1906796|\n",
      "+----------------+-------+\n",
      "\n"
     ]
    }
   ],
   "source": [
    "# Split the data set according to the target variable\n",
    "malware_df = df.filter(col(\"label\") == \"Malicious   DDoS\")\n",
    "benign_df = df.filter(col(\"label\") == \"Benign\")\n",
    "\n",
    "benign_strata_counts = benign_df.groupBy(\"conn_state\").count().collect()\n",
    "\n",
    "target_total = 2000000\n",
    "total_benign = benign_df.count()\n",
    "\n",
    "# Turn list of Rows into a Python dict for easier access\n",
    "stratum_counts = {row['conn_state']: row['count'] for row in benign_strata_counts}\n",
    "\n",
    "# Calculate sampling fraction per category\n",
    "sampling_fractions = {\n",
    "    k: (count / total_benign) * target_total / count\n",
    "    for k, count in stratum_counts.items()\n",
    "}\n",
    "\n",
    "# Sample the data set according to the calculated sampling fractions\n",
    "sampled_benign_df = benign_df.sampleBy(\"conn_state\", fractions=sampling_fractions, seed=42)\n",
    "\n",
    "# Union the sampled benign data with the malware data and create a new DataFrame\n",
    "final_balanced_df = sampled_benign_df.union(malware_df)\n",
    "df = final_balanced_df\n",
    " \n",
    "# ---------------------------------------------------------Show distribution of new undersampled data set -------------------------------------\n",
    "\n",
    "# Register DataFrame as a SQL table\n",
    "df.createOrReplaceTempView(\"malware_data\")\n",
    "\n",
    "# Define SQL Query to count the number of rows with 0 and 1 in the target variable\n",
    "sampled_query = \"\"\"\n",
    "SELECT\n",
    "    label,\n",
    "    COUNT(*) AS count\n",
    "FROM\n",
    "    malware_data\n",
    "GROUP BY\n",
    "    label\n",
    "\"\"\"\n",
    "\n",
    "# Run the SQL query\n",
    "result = spark.sql(sampled_query)\n",
    "result.show()"
   ]
  },
  {
   "cell_type": "markdown",
   "metadata": {
    "application/vnd.databricks.v1+cell": {
     "cellMetadata": {},
     "inputWidgets": {},
     "nuid": "bb5d53bf-5112-4cdd-8339-cb7bd7d7d6db",
     "showTitle": false,
     "tableResultSettingsMap": {},
     "title": ""
    },
    "id": "p6wuYZ0OJzfC"
   },
   "source": [
    "## Summary statistics for numeric columns"
   ]
  },
  {
   "cell_type": "code",
   "execution_count": 17,
   "metadata": {
    "application/vnd.databricks.v1+cell": {
     "cellMetadata": {
      "byteLimit": 2048000,
      "rowLimit": 10000
     },
     "inputWidgets": {},
     "nuid": "36322be7-16e8-466e-8b59-e64f350208a5",
     "showTitle": false,
     "tableResultSettingsMap": {},
     "title": ""
    },
    "id": "7fx_4-ySJ3-b"
   },
   "outputs": [
    {
     "data": {
      "text/html": [
       "<div>\n",
       "<style scoped>\n",
       "    .dataframe tbody tr th:only-of-type {\n",
       "        vertical-align: middle;\n",
       "    }\n",
       "\n",
       "    .dataframe tbody tr th {\n",
       "        vertical-align: top;\n",
       "    }\n",
       "\n",
       "    .dataframe thead th {\n",
       "        text-align: right;\n",
       "    }\n",
       "</style>\n",
       "<table border=\"1\" class=\"dataframe\">\n",
       "  <thead>\n",
       "    <tr style=\"text-align: right;\">\n",
       "      <th>summary</th>\n",
       "      <th>count</th>\n",
       "      <th>mean</th>\n",
       "      <th>stddev</th>\n",
       "      <th>min</th>\n",
       "      <th>25%</th>\n",
       "      <th>50%</th>\n",
       "      <th>75%</th>\n",
       "      <th>max</th>\n",
       "    </tr>\n",
       "  </thead>\n",
       "  <tbody>\n",
       "    <tr>\n",
       "      <th>duration</th>\n",
       "      <td>3908415</td>\n",
       "      <td>4.818827012530115</td>\n",
       "      <td>12.193839220853286</td>\n",
       "      <td>2.0E-6</td>\n",
       "      <td>3.09399</td>\n",
       "      <td>3.132466</td>\n",
       "      <td>3.707644</td>\n",
       "      <td>582.169</td>\n",
       "    </tr>\n",
       "    <tr>\n",
       "      <th>orig_bytes</th>\n",
       "      <td>3908415</td>\n",
       "      <td>5.47913679869496E8</td>\n",
       "      <td>4.289701267674327E9</td>\n",
       "      <td>0.0</td>\n",
       "      <td>0.0</td>\n",
       "      <td>0.0</td>\n",
       "      <td>0.0</td>\n",
       "      <td>6.6205577E10</td>\n",
       "    </tr>\n",
       "    <tr>\n",
       "      <th>resp_bytes</th>\n",
       "      <td>3908415</td>\n",
       "      <td>489.28767057745915</td>\n",
       "      <td>965527.3881510182</td>\n",
       "      <td>0.0</td>\n",
       "      <td>0.0</td>\n",
       "      <td>0.0</td>\n",
       "      <td>0.0</td>\n",
       "      <td>1.9088195E9</td>\n",
       "    </tr>\n",
       "    <tr>\n",
       "      <th>missed_bytes</th>\n",
       "      <td>3908415</td>\n",
       "      <td>488.394506724593</td>\n",
       "      <td>965527.2098585557</td>\n",
       "      <td>0.0</td>\n",
       "      <td>0.0</td>\n",
       "      <td>0.0</td>\n",
       "      <td>0.0</td>\n",
       "      <td>1.9088195E9</td>\n",
       "    </tr>\n",
       "    <tr>\n",
       "      <th>orig_pkts</th>\n",
       "      <td>3908415</td>\n",
       "      <td>8.14891714416202</td>\n",
       "      <td>3722.912249777925</td>\n",
       "      <td>1.0</td>\n",
       "      <td>3.0</td>\n",
       "      <td>3.0</td>\n",
       "      <td>3.0</td>\n",
       "      <td>4027345.0</td>\n",
       "    </tr>\n",
       "    <tr>\n",
       "      <th>orig_ip_bytes</th>\n",
       "      <td>3908415</td>\n",
       "      <td>320.80812707964736</td>\n",
       "      <td>104241.92884383083</td>\n",
       "      <td>49.0</td>\n",
       "      <td>120.0</td>\n",
       "      <td>180.0</td>\n",
       "      <td>180.0</td>\n",
       "      <td>1.1276566E8</td>\n",
       "    </tr>\n",
       "    <tr>\n",
       "      <th>resp_pkts</th>\n",
       "      <td>3908415</td>\n",
       "      <td>0.0011953694784202803</td>\n",
       "      <td>0.4197843492185459</td>\n",
       "      <td>0.0</td>\n",
       "      <td>0.0</td>\n",
       "      <td>0.0</td>\n",
       "      <td>0.0</td>\n",
       "      <td>279.0</td>\n",
       "    </tr>\n",
       "    <tr>\n",
       "      <th>resp_ip_bytes</th>\n",
       "      <td>3908415</td>\n",
       "      <td>0.96240496467238</td>\n",
       "      <td>613.0211744706407</td>\n",
       "      <td>0.0</td>\n",
       "      <td>0.0</td>\n",
       "      <td>0.0</td>\n",
       "      <td>0.0</td>\n",
       "      <td>413488.0</td>\n",
       "    </tr>\n",
       "  </tbody>\n",
       "</table>\n",
       "</div>"
      ],
      "text/plain": [
       "summary          count                   mean               stddev     min  \\\n",
       "duration       3908415      4.818827012530115   12.193839220853286  2.0E-6   \n",
       "orig_bytes     3908415     5.47913679869496E8  4.289701267674327E9     0.0   \n",
       "resp_bytes     3908415     489.28767057745915    965527.3881510182     0.0   \n",
       "missed_bytes   3908415       488.394506724593    965527.2098585557     0.0   \n",
       "orig_pkts      3908415       8.14891714416202    3722.912249777925     1.0   \n",
       "orig_ip_bytes  3908415     320.80812707964736   104241.92884383083    49.0   \n",
       "resp_pkts      3908415  0.0011953694784202803   0.4197843492185459     0.0   \n",
       "resp_ip_bytes  3908415       0.96240496467238    613.0211744706407     0.0   \n",
       "\n",
       "summary            25%       50%       75%           max  \n",
       "duration       3.09399  3.132466  3.707644       582.169  \n",
       "orig_bytes         0.0       0.0       0.0  6.6205577E10  \n",
       "resp_bytes         0.0       0.0       0.0   1.9088195E9  \n",
       "missed_bytes       0.0       0.0       0.0   1.9088195E9  \n",
       "orig_pkts          3.0       3.0       3.0     4027345.0  \n",
       "orig_ip_bytes    120.0     180.0     180.0   1.1276566E8  \n",
       "resp_pkts          0.0       0.0       0.0         279.0  \n",
       "resp_ip_bytes      0.0       0.0       0.0      413488.0  "
      ]
     },
     "metadata": {},
     "output_type": "display_data"
    }
   ],
   "source": [
    "# convert numerical columns\n",
    "cols_to_convert = [\n",
    "    \"duration\", \"orig_bytes\", \"resp_bytes\",\n",
    "    \"missed_bytes\", \"orig_pkts\", \"orig_ip_bytes\", \"resp_pkts\", \"resp_ip_bytes\"\n",
    "]\n",
    "\n",
    "# Convert to FloatType\n",
    "for column in cols_to_convert:\n",
    "    df = df.withColumn(column, col(column).cast(FloatType()))\n",
    "\n",
    "# Descriptive stats with Pandas for nicer formatting\n",
    "desc_stats = df.select(cols_to_convert).summary().toPandas()\n",
    "desc_stats_pd = desc_stats.set_index('summary').rename_axis(None, axis=1).T\n",
    "display(desc_stats_pd)"
   ]
  },
  {
   "cell_type": "markdown",
   "metadata": {
    "application/vnd.databricks.v1+cell": {
     "cellMetadata": {},
     "inputWidgets": {},
     "nuid": "2f425b27-bfb5-4918-8322-8b4b63b6ffe1",
     "showTitle": false,
     "tableResultSettingsMap": {},
     "title": ""
    }
   },
   "source": [
    "## Boxplots for numerical variables"
   ]
  },
  {
   "cell_type": "code",
   "execution_count": 18,
   "metadata": {
    "application/vnd.databricks.v1+cell": {
     "cellMetadata": {},
     "inputWidgets": {},
     "nuid": "e7b951d2-a171-431f-a381-31849f969465",
     "showTitle": false,
     "tableResultSettingsMap": {},
     "title": ""
    }
   },
   "outputs": [
    {
     "data": {
      "image/png": "[encoded data removed]",
      "text/plain": [
       "<Figure size 2500x800 with 8 Axes>"
      ]
     },
     "metadata": {},
     "output_type": "display_data"
    }
   ],
   "source": [
    "import seaborn as sns\n",
    "import matplotlib.pyplot as plt\n",
    "\n",
    "# Use your actual numeric variables (but check for existence)\n",
    "all_numeric_cols = [\n",
    "    \"duration\", \"orig_bytes\", \"resp_bytes\",\n",
    "    \"missed_bytes\", \"orig_pkts\", \"orig_ip_bytes\", \"resp_pkts\", \"resp_ip_bytes\"\n",
    "]\n",
    "\n",
    "# Filter only columns that exist in df\n",
    "numeric_cols = [col_name for col_name in all_numeric_cols if col_name in df.columns]\n",
    "\n",
    "# Optional: handle nulls before collecting (replace with 0 or drop rows)\n",
    "from pyspark.sql.functions import when, isnan\n",
    "\n",
    "for col_name in numeric_cols:\n",
    "    df = df.withColumn(col_name, when(\n",
    "        (col(col_name).isNull()) | (isnan(col(col_name))), 0\n",
    "    ).otherwise(col(col_name)))\n",
    "\n",
    "# Sample to avoid memory issues (optional)\n",
    "df_sample = df.select(numeric_cols).sample(False, 0.5, seed=42)\n",
    "\n",
    "# Convert to pandas for plotting\n",
    "df_pandas = df_sample.toPandas()\n",
    "\n",
    "# Plot boxplots\n",
    "num_cols = 5\n",
    "num_vars = len(numeric_cols)\n",
    "num_rows = (num_vars + num_cols - 1) // num_cols\n",
    "\n",
    "fig, axes = plt.subplots(num_rows, num_cols, figsize=(5 * num_cols, 4 * num_rows))\n",
    "axes = axes.flatten()\n",
    "\n",
    "for i, col_name in enumerate(numeric_cols):\n",
    "    sns.boxplot(x=df_pandas[col_name], ax=axes[i], color='skyblue')\n",
    "    axes[i].set_title(col_name)\n",
    "    axes[i].set_xlabel(\"\")  # cleaner look\n",
    "\n",
    "# Remove empty plots\n",
    "for i in range(num_vars, len(axes)):\n",
    "    fig.delaxes(axes[i])\n",
    "\n",
    "plt.tight_layout()\n",
    "plt.show()\n"
   ]
  },
  {
   "cell_type": "markdown",
   "metadata": {
    "application/vnd.databricks.v1+cell": {
     "cellMetadata": {},
     "inputWidgets": {},
     "nuid": "b116220a-d9ac-4de7-8a04-27fe3cdf881c",
     "showTitle": false,
     "tableResultSettingsMap": {},
     "title": ""
    },
    "id": "x1Tp_JOOtNht"
   },
   "source": [
    "## Categorical Value Distibution"
   ]
  },
  {
   "cell_type": "code",
   "execution_count": 19,
   "metadata": {
    "application/vnd.databricks.v1+cell": {
     "cellMetadata": {},
     "inputWidgets": {},
     "nuid": "cf9a65e7-1b59-4f98-9bcf-9aba2a00925f",
     "showTitle": false,
     "tableResultSettingsMap": {},
     "title": ""
    },
    "colab": {
     "base_uri": "https://localhost:8080/",
     "height": 1000
    },
    "collapsed": true,
    "id": "rVdzZqH_tQor",
    "outputId": "5ed9247b-a7d6-4d64-d5ff-d35fe708b9ad"
   },
   "outputs": [
    {
     "name": "stdout",
     "output_type": "stream",
     "text": [
      "=== proto Value Counts ===\n"
     ]
    },
    {
     "data": {
      "text/html": [
       "<div>\n",
       "<style scoped>\n",
       "    .dataframe tbody tr th:only-of-type {\n",
       "        vertical-align: middle;\n",
       "    }\n",
       "\n",
       "    .dataframe tbody tr th {\n",
       "        vertical-align: top;\n",
       "    }\n",
       "\n",
       "    .dataframe thead th {\n",
       "        text-align: right;\n",
       "    }\n",
       "</style>\n",
       "<table border=\"1\" class=\"dataframe\">\n",
       "  <thead>\n",
       "    <tr style=\"text-align: right;\">\n",
       "      <th></th>\n",
       "      <th>proto</th>\n",
       "      <th>count</th>\n",
       "    </tr>\n",
       "  </thead>\n",
       "  <tbody>\n",
       "    <tr>\n",
       "      <th>0</th>\n",
       "      <td>tcp</td>\n",
       "      <td>3907526</td>\n",
       "    </tr>\n",
       "    <tr>\n",
       "      <th>1</th>\n",
       "      <td>udp</td>\n",
       "      <td>889</td>\n",
       "    </tr>\n",
       "  </tbody>\n",
       "</table>\n",
       "</div>"
      ],
      "text/plain": [
       "  proto    count\n",
       "0   tcp  3907526\n",
       "1   udp      889"
      ]
     },
     "metadata": {},
     "output_type": "display_data"
    },
    {
     "name": "stdout",
     "output_type": "stream",
     "text": [
      "=== conn_state Value Counts ===\n"
     ]
    },
    {
     "data": {
      "text/html": [
       "<div>\n",
       "<style scoped>\n",
       "    .dataframe tbody tr th:only-of-type {\n",
       "        vertical-align: middle;\n",
       "    }\n",
       "\n",
       "    .dataframe tbody tr th {\n",
       "        vertical-align: top;\n",
       "    }\n",
       "\n",
       "    .dataframe thead th {\n",
       "        text-align: right;\n",
       "    }\n",
       "</style>\n",
       "<table border=\"1\" class=\"dataframe\">\n",
       "  <thead>\n",
       "    <tr style=\"text-align: right;\">\n",
       "      <th></th>\n",
       "      <th>conn_state</th>\n",
       "      <th>count</th>\n",
       "    </tr>\n",
       "  </thead>\n",
       "  <tbody>\n",
       "    <tr>\n",
       "      <th>0</th>\n",
       "      <td>S0</td>\n",
       "      <td>2000316</td>\n",
       "    </tr>\n",
       "    <tr>\n",
       "      <th>1</th>\n",
       "      <td>RSTOS0</td>\n",
       "      <td>1841172</td>\n",
       "    </tr>\n",
       "    <tr>\n",
       "      <th>2</th>\n",
       "      <td>OTH</td>\n",
       "      <td>65535</td>\n",
       "    </tr>\n",
       "    <tr>\n",
       "      <th>3</th>\n",
       "      <td>REJ</td>\n",
       "      <td>933</td>\n",
       "    </tr>\n",
       "    <tr>\n",
       "      <th>4</th>\n",
       "      <td>SF</td>\n",
       "      <td>393</td>\n",
       "    </tr>\n",
       "    <tr>\n",
       "      <th>5</th>\n",
       "      <td>RSTO</td>\n",
       "      <td>27</td>\n",
       "    </tr>\n",
       "    <tr>\n",
       "      <th>6</th>\n",
       "      <td>RSTR</td>\n",
       "      <td>16</td>\n",
       "    </tr>\n",
       "    <tr>\n",
       "      <th>7</th>\n",
       "      <td>S1</td>\n",
       "      <td>12</td>\n",
       "    </tr>\n",
       "    <tr>\n",
       "      <th>8</th>\n",
       "      <td>S2</td>\n",
       "      <td>7</td>\n",
       "    </tr>\n",
       "    <tr>\n",
       "      <th>9</th>\n",
       "      <td>SH</td>\n",
       "      <td>2</td>\n",
       "    </tr>\n",
       "    <tr>\n",
       "      <th>10</th>\n",
       "      <td>RSTRH</td>\n",
       "      <td>1</td>\n",
       "    </tr>\n",
       "    <tr>\n",
       "      <th>11</th>\n",
       "      <td>S3</td>\n",
       "      <td>1</td>\n",
       "    </tr>\n",
       "  </tbody>\n",
       "</table>\n",
       "</div>"
      ],
      "text/plain": [
       "   conn_state    count\n",
       "0          S0  2000316\n",
       "1      RSTOS0  1841172\n",
       "2         OTH    65535\n",
       "3         REJ      933\n",
       "4          SF      393\n",
       "5        RSTO       27\n",
       "6        RSTR       16\n",
       "7          S1       12\n",
       "8          S2        7\n",
       "9          SH        2\n",
       "10      RSTRH        1\n",
       "11         S3        1"
      ]
     },
     "metadata": {},
     "output_type": "display_data"
    },
    {
     "name": "stdout",
     "output_type": "stream",
     "text": [
      "=== history Value Counts ===\n"
     ]
    },
    {
     "data": {
      "text/html": [
       "<div>\n",
       "<style scoped>\n",
       "    .dataframe tbody tr th:only-of-type {\n",
       "        vertical-align: middle;\n",
       "    }\n",
       "\n",
       "    .dataframe tbody tr th {\n",
       "        vertical-align: top;\n",
       "    }\n",
       "\n",
       "    .dataframe thead th {\n",
       "        text-align: right;\n",
       "    }\n",
       "</style>\n",
       "<table border=\"1\" class=\"dataframe\">\n",
       "  <thead>\n",
       "    <tr style=\"text-align: right;\">\n",
       "      <th></th>\n",
       "      <th>history</th>\n",
       "      <th>count</th>\n",
       "    </tr>\n",
       "  </thead>\n",
       "  <tbody>\n",
       "    <tr>\n",
       "      <th>0</th>\n",
       "      <td>S</td>\n",
       "      <td>1999765</td>\n",
       "    </tr>\n",
       "    <tr>\n",
       "      <th>1</th>\n",
       "      <td>I</td>\n",
       "      <td>1841162</td>\n",
       "    </tr>\n",
       "    <tr>\n",
       "      <th>2</th>\n",
       "      <td>DTT</td>\n",
       "      <td>65534</td>\n",
       "    </tr>\n",
       "    <tr>\n",
       "      <th>3</th>\n",
       "      <td>Sr</td>\n",
       "      <td>932</td>\n",
       "    </tr>\n",
       "    <tr>\n",
       "      <th>4</th>\n",
       "      <td>D</td>\n",
       "      <td>551</td>\n",
       "    </tr>\n",
       "    <tr>\n",
       "      <th>5</th>\n",
       "      <td>Dd</td>\n",
       "      <td>338</td>\n",
       "    </tr>\n",
       "    <tr>\n",
       "      <th>6</th>\n",
       "      <td>ShADdfFa</td>\n",
       "      <td>13</td>\n",
       "    </tr>\n",
       "    <tr>\n",
       "      <th>7</th>\n",
       "      <td>ShAdDaTR</td>\n",
       "      <td>12</td>\n",
       "    </tr>\n",
       "    <tr>\n",
       "      <th>8</th>\n",
       "      <td>ShAfFa</td>\n",
       "      <td>12</td>\n",
       "    </tr>\n",
       "    <tr>\n",
       "      <th>9</th>\n",
       "      <td>ShAdDaR</td>\n",
       "      <td>10</td>\n",
       "    </tr>\n",
       "    <tr>\n",
       "      <th>10</th>\n",
       "      <td>ShwA</td>\n",
       "      <td>10</td>\n",
       "    </tr>\n",
       "    <tr>\n",
       "      <th>11</th>\n",
       "      <td>SI</td>\n",
       "      <td>10</td>\n",
       "    </tr>\n",
       "    <tr>\n",
       "      <th>12</th>\n",
       "      <td>ShAr</td>\n",
       "      <td>9</td>\n",
       "    </tr>\n",
       "    <tr>\n",
       "      <th>13</th>\n",
       "      <td>ShADdattFfR</td>\n",
       "      <td>8</td>\n",
       "    </tr>\n",
       "    <tr>\n",
       "      <th>14</th>\n",
       "      <td>ShAF</td>\n",
       "      <td>7</td>\n",
       "    </tr>\n",
       "    <tr>\n",
       "      <th>15</th>\n",
       "      <td>ShAfF</td>\n",
       "      <td>6</td>\n",
       "    </tr>\n",
       "    <tr>\n",
       "      <th>16</th>\n",
       "      <td>ShADdfF</td>\n",
       "      <td>4</td>\n",
       "    </tr>\n",
       "    <tr>\n",
       "      <th>17</th>\n",
       "      <td>ShADadFf</td>\n",
       "      <td>3</td>\n",
       "    </tr>\n",
       "    <tr>\n",
       "      <th>18</th>\n",
       "      <td>ShAaw</td>\n",
       "      <td>2</td>\n",
       "    </tr>\n",
       "    <tr>\n",
       "      <th>19</th>\n",
       "      <td>ShAdfr</td>\n",
       "      <td>2</td>\n",
       "    </tr>\n",
       "    <tr>\n",
       "      <th>20</th>\n",
       "      <td>ShAdDafF</td>\n",
       "      <td>2</td>\n",
       "    </tr>\n",
       "    <tr>\n",
       "      <th>21</th>\n",
       "      <td>ShwAr</td>\n",
       "      <td>2</td>\n",
       "    </tr>\n",
       "    <tr>\n",
       "      <th>22</th>\n",
       "      <td>ShAdfFa</td>\n",
       "      <td>2</td>\n",
       "    </tr>\n",
       "    <tr>\n",
       "      <th>23</th>\n",
       "      <td>ShAdDaTFf</td>\n",
       "      <td>1</td>\n",
       "    </tr>\n",
       "    <tr>\n",
       "      <th>24</th>\n",
       "      <td>ShAdDaTFR</td>\n",
       "      <td>1</td>\n",
       "    </tr>\n",
       "    <tr>\n",
       "      <th>25</th>\n",
       "      <td>ShAdfDF</td>\n",
       "      <td>1</td>\n",
       "    </tr>\n",
       "    <tr>\n",
       "      <th>26</th>\n",
       "      <td>ShAdDar</td>\n",
       "      <td>1</td>\n",
       "    </tr>\n",
       "    <tr>\n",
       "      <th>27</th>\n",
       "      <td>ShAdDaRr</td>\n",
       "      <td>1</td>\n",
       "    </tr>\n",
       "    <tr>\n",
       "      <th>28</th>\n",
       "      <td>Fa</td>\n",
       "      <td>1</td>\n",
       "    </tr>\n",
       "    <tr>\n",
       "      <th>29</th>\n",
       "      <td>ShAdDafR</td>\n",
       "      <td>1</td>\n",
       "    </tr>\n",
       "    <tr>\n",
       "      <th>30</th>\n",
       "      <td>ShAdDaTRft</td>\n",
       "      <td>1</td>\n",
       "    </tr>\n",
       "    <tr>\n",
       "      <th>31</th>\n",
       "      <td>ShAdr</td>\n",
       "      <td>1</td>\n",
       "    </tr>\n",
       "    <tr>\n",
       "      <th>32</th>\n",
       "      <td>ShAdaDR</td>\n",
       "      <td>1</td>\n",
       "    </tr>\n",
       "    <tr>\n",
       "      <th>33</th>\n",
       "      <td>Dr</td>\n",
       "      <td>1</td>\n",
       "    </tr>\n",
       "    <tr>\n",
       "      <th>34</th>\n",
       "      <td>ShAdDaRRR</td>\n",
       "      <td>1</td>\n",
       "    </tr>\n",
       "    <tr>\n",
       "      <th>35</th>\n",
       "      <td>HaDdAr</td>\n",
       "      <td>1</td>\n",
       "    </tr>\n",
       "    <tr>\n",
       "      <th>36</th>\n",
       "      <td>DT</td>\n",
       "      <td>1</td>\n",
       "    </tr>\n",
       "    <tr>\n",
       "      <th>37</th>\n",
       "      <td>ShADdtatFfR</td>\n",
       "      <td>1</td>\n",
       "    </tr>\n",
       "    <tr>\n",
       "      <th>38</th>\n",
       "      <td>F</td>\n",
       "      <td>1</td>\n",
       "    </tr>\n",
       "    <tr>\n",
       "      <th>39</th>\n",
       "      <td>ShADdFaf</td>\n",
       "      <td>1</td>\n",
       "    </tr>\n",
       "    <tr>\n",
       "      <th>40</th>\n",
       "      <td>ShADdf</td>\n",
       "      <td>1</td>\n",
       "    </tr>\n",
       "    <tr>\n",
       "      <th>41</th>\n",
       "      <td>ShADdFf</td>\n",
       "      <td>1</td>\n",
       "    </tr>\n",
       "  </tbody>\n",
       "</table>\n",
       "</div>"
      ],
      "text/plain": [
       "        history    count\n",
       "0             S  1999765\n",
       "1             I  1841162\n",
       "2           DTT    65534\n",
       "3            Sr      932\n",
       "4             D      551\n",
       "5            Dd      338\n",
       "6      ShADdfFa       13\n",
       "7      ShAdDaTR       12\n",
       "8        ShAfFa       12\n",
       "9       ShAdDaR       10\n",
       "10         ShwA       10\n",
       "11           SI       10\n",
       "12         ShAr        9\n",
       "13  ShADdattFfR        8\n",
       "14         ShAF        7\n",
       "15        ShAfF        6\n",
       "16      ShADdfF        4\n",
       "17     ShADadFf        3\n",
       "18        ShAaw        2\n",
       "19       ShAdfr        2\n",
       "20     ShAdDafF        2\n",
       "21        ShwAr        2\n",
       "22      ShAdfFa        2\n",
       "23    ShAdDaTFf        1\n",
       "24    ShAdDaTFR        1\n",
       "25      ShAdfDF        1\n",
       "26      ShAdDar        1\n",
       "27     ShAdDaRr        1\n",
       "28           Fa        1\n",
       "29     ShAdDafR        1\n",
       "30   ShAdDaTRft        1\n",
       "31        ShAdr        1\n",
       "32      ShAdaDR        1\n",
       "33           Dr        1\n",
       "34    ShAdDaRRR        1\n",
       "35       HaDdAr        1\n",
       "36           DT        1\n",
       "37  ShADdtatFfR        1\n",
       "38            F        1\n",
       "39     ShADdFaf        1\n",
       "40       ShADdf        1\n",
       "41      ShADdFf        1"
      ]
     },
     "metadata": {},
     "output_type": "display_data"
    }
   ],
   "source": [
    "categorical_cols = [\"proto\", \"conn_state\", \"history\"]\n",
    "\n",
    "for col in categorical_cols:\n",
    "    count_df = df.groupBy(col).count().orderBy(\"count\", ascending=False).toPandas()\n",
    "    print(f\"=== {col} Value Counts ===\")\n",
    "    display(count_df)\n"
   ]
  },
  {
   "cell_type": "code",
   "execution_count": 20,
   "metadata": {
    "application/vnd.databricks.v1+cell": {
     "cellMetadata": {},
     "inputWidgets": {},
     "nuid": "4da3c72b-6391-45a1-98d5-3cb1510ba5e4",
     "showTitle": false,
     "tableResultSettingsMap": {},
     "title": ""
    }
   },
   "outputs": [
    {
     "name": "stdout",
     "output_type": "stream",
     "text": [
      "Cardinality of id_orig_h: 3\n",
      "Cardinality of id_orig_p: 65536\n",
      "Cardinality of id_resp_h: 1998985\n",
      "Cardinality of id_resp_p: 10\n"
     ]
    }
   ],
   "source": [
    "from pyspark.sql.functions import countDistinct\n",
    "\n",
    "# Count distinct values for each column\n",
    "cardinality = df.select(\n",
    "    countDistinct(\"id_orig_h\").alias(\"id_orig_h_cardinality\"),\n",
    "    countDistinct(\"id_orig_p\").alias(\"id_orig_p_cardinality\"),\n",
    "    countDistinct(\"id_resp_h\").alias(\"id_resp_h_cardinality\"),\n",
    "    countDistinct(\"id_resp_p\").alias(\"id_resp_p_cardinality\")\n",
    ").collect()[0]\n",
    "\n",
    "# Print the cardinality of each column\n",
    "print(f\"Cardinality of id_orig_h: {cardinality['id_orig_h_cardinality']}\")\n",
    "print(f\"Cardinality of id_orig_p: {cardinality['id_orig_p_cardinality']}\")\n",
    "print(f\"Cardinality of id_resp_h: {cardinality['id_resp_h_cardinality']}\")\n",
    "print(f\"Cardinality of id_resp_p: {cardinality['id_resp_p_cardinality']}\")"
   ]
  },
  {
   "cell_type": "markdown",
   "metadata": {
    "application/vnd.databricks.v1+cell": {
     "cellMetadata": {},
     "inputWidgets": {},
     "nuid": "a21cd5f4-9510-4c68-acbb-a3387701c63e",
     "showTitle": false,
     "tableResultSettingsMap": {},
     "title": ""
    }
   },
   "source": [
    "id_orig_h has low cardinality -> 28, so likely represent small number of internal source IPs (devices on your network)\n",
    "\n",
    "id_resp_p has low cardinality -> 16 destination ports, likely standard ones like 80, 443, 22. tells you what kind of service was accessed. "
   ]
  },
  {
   "cell_type": "markdown",
   "metadata": {
    "application/vnd.databricks.v1+cell": {
     "cellMetadata": {},
     "inputWidgets": {},
     "nuid": "c71a9ece-4a57-444f-af6f-37706f28e5f7",
     "showTitle": false,
     "tableResultSettingsMap": {},
     "title": ""
    },
    "id": "KL647mftDNjA"
   },
   "source": [
    "## Correlation matrix for numeric columns"
   ]
  },
  {
   "cell_type": "code",
   "execution_count": 21,
   "metadata": {
    "application/vnd.databricks.v1+cell": {
     "cellMetadata": {
      "byteLimit": 2048000,
      "rowLimit": 10000
     },
     "inputWidgets": {},
     "nuid": "e8bbb42f-7bc5-4351-9660-3ecf4402f4b3",
     "showTitle": false,
     "tableResultSettingsMap": {},
     "title": ""
    },
    "colab": {
     "base_uri": "https://localhost:8080/",
     "height": 626
    },
    "collapsed": true,
    "id": "xtFeK3cX01Ul",
    "outputId": "bbcc9cf8-d740-477f-c64e-896f48d08fc7"
   },
   "outputs": [
    {
     "data": {
      "image/png": "[encoded data removed]",
      "text/plain": [
       "<Figure size 1200x600 with 2 Axes>"
      ]
     },
     "metadata": {},
     "output_type": "display_data"
    }
   ],
   "source": [
    "from pyspark.sql.types import FloatType, DoubleType\n",
    "\n",
    "# Define numeric features to keep (excluding ID-like columns)\n",
    "numeric_cols = [\n",
    "    \"duration\", \"orig_bytes\", \"resp_bytes\",\n",
    "    \"missed_bytes\", \"orig_pkts\", \"orig_ip_bytes\", \"resp_pkts\", \"resp_ip_bytes\"\n",
    "]\n",
    "\n",
    "# Convert PySpark DataFrame to pandas DataFrame for correlation calculation\n",
    "pandas_df = df.select(numeric_cols).toPandas()\n",
    "\n",
    "# Plot correlation heatmap\n",
    "plt.figure(figsize=(12, 6))\n",
    "sns.heatmap(pandas_df.corr(), annot=True, cmap=\"coolwarm\", fmt=\".2f\")\n",
    "plt.title(\"Correlation Between Numeric Features\")\n",
    "plt.show()"
   ]
  },
  {
   "cell_type": "markdown",
   "metadata": {
    "application/vnd.databricks.v1+cell": {
     "cellMetadata": {},
     "inputWidgets": {},
     "nuid": "be979fe0-cd7f-4fb7-9c67-1d4907a41948",
     "showTitle": false,
     "tableResultSettingsMap": {},
     "title": ""
    },
    "id": "tM7tDTvfVa7T"
   },
   "source": [
    "From the correlation matrix, it can be seen that:\n",
    "1. Strong Positive Correlation (Close to 1.0)\n",
    "  - `resp_bytes` and `resp_ip_bytes` are similarly strongly correlated (0.98). This could also mean one of the columns might be redundant.\n",
    "  - `duration` and `resp_pkts` are also strongly correlated (0.95). This makes sense as longer durations correlate with more response packets, indicating sustained communication during the duration.\n",
    "2. Weak/Negligible Correlations (Close to 0):\n",
    "  - Port numbers (`id.orig_p`, `id.resp_p`) have near-zero correlations with other features suggesting that ports do not directly influence traffic metrics (e.g. duration, bytes). This is expected as ports are identifiers, not quantitative measures.\n",
    "  - Except for its strong positive correlation to `resp_ip_bytes`, `resp_bytes` and most other features have weak/negligible correlations (0.00-0.21) possibly indicating isolated response behaviors."
   ]
  },
  {
   "cell_type": "markdown",
   "metadata": {
    "application/vnd.databricks.v1+cell": {
     "cellMetadata": {},
     "inputWidgets": {},
     "nuid": "e679d16b-d2ae-4b5d-8b54-13ad7ac23e53",
     "showTitle": false,
     "tableResultSettingsMap": {},
     "title": ""
    },
    "id": "xvu7dhOjFPyJ"
   },
   "source": [
    "## Mutual Information Scoring"
   ]
  },
  {
   "cell_type": "code",
   "execution_count": 22,
   "metadata": {},
   "outputs": [
    {
     "ename": "NameError",
     "evalue": "name 'stop' is not defined",
     "output_type": "error",
     "traceback": [
      "\u001b[31m---------------------------------------------------------------------------\u001b[39m",
      "\u001b[31mNameError\u001b[39m                                 Traceback (most recent call last)",
      "\u001b[36mCell\u001b[39m\u001b[36m \u001b[39m\u001b[32mIn[22]\u001b[39m\u001b[32m, line 1\u001b[39m\n\u001b[32m----> \u001b[39m\u001b[32m1\u001b[39m \u001b[43mstop\u001b[49m\n",
      "\u001b[31mNameError\u001b[39m: name 'stop' is not defined"
     ]
    }
   ],
   "source": [
    "stop"
   ]
  },
  {
   "cell_type": "code",
   "execution_count": null,
   "metadata": {
    "application/vnd.databricks.v1+cell": {
     "cellMetadata": {},
     "inputWidgets": {},
     "nuid": "f5b621ee-90d2-44ae-9022-daaeda200935",
     "showTitle": false,
     "tableResultSettingsMap": {},
     "title": ""
    },
    "colab": {
     "base_uri": "https://localhost:8080/"
    },
    "collapsed": true,
    "id": "1wRa5nMjUwBX",
    "outputId": "df3e051a-ae0a-4079-ed24-153fae89a2a6"
   },
   "outputs": [
    {
     "name": "stdout",
     "output_type": "stream",
     "text": [
      "MI for ts: 0.3668\n",
      "MI for uid: 0.9996\n",
      "MI for id_orig_h: 0.0000\n",
      "MI for id_orig_p: 0.2570\n",
      "MI for id_resp_h: 0.9996\n",
      "MI for id_resp_p: 0.7279\n",
      "MI for proto: 0.0002\n",
      "MI for duration: 0.6271\n",
      "MI for orig_bytes: 0.7990\n",
      "MI for resp_bytes: 0.8005\n",
      "MI for conn_state: 0.9993\n",
      "MI for missed_bytes: 0.0017\n",
      "MI for history: 0.9993\n",
      "MI for orig_pkts: 0.5076\n",
      "MI for orig_ip_bytes: 0.6428\n",
      "MI for resp_pkts: 0.0017\n",
      "MI for resp_ip_bytes: 0.0017\n",
      "\n",
      "=== Features sorted by Mutual Information ===\n",
      "id_resp_h: 0.9996\n",
      "uid: 0.9996\n",
      "history: 0.9993\n",
      "conn_state: 0.9993\n",
      "resp_bytes: 0.8005\n",
      "orig_bytes: 0.7990\n",
      "id_resp_p: 0.7279\n",
      "orig_ip_bytes: 0.6428\n",
      "duration: 0.6271\n",
      "orig_pkts: 0.5076\n",
      "ts: 0.3668\n",
      "id_orig_p: 0.2570\n",
      "missed_bytes: 0.0017\n",
      "resp_pkts: 0.0017\n",
      "resp_ip_bytes: 0.0017\n",
      "proto: 0.0002\n",
      "id_orig_h: 0.0000\n"
     ]
    }
   ],
   "source": [
    "# Discretise numerical features\n",
    "numeric_cols = [col_name for col_name, dtype in df.dtypes if dtype in ['int', 'double', 'float']]\n",
    "\n",
    "# compute mutual info\n",
    "def compute_mutual_info(df, feature_col, target_col=\"label\", n_bins=5):\n",
    "    # 5 quantile based bins per numerical col\n",
    "    if feature_col in numeric_cols:\n",
    "        df = df.withColumn(\n",
    "            f\"{feature_col}_bin\",\n",
    "            F.ntile(n_bins).over(Window.orderBy(feature_col)))\n",
    "        feature_col = f\"{feature_col}_bin\"\n",
    "\n",
    "    # Compute joint probability P(X,Y)\n",
    "    joint_prob = (\n",
    "        df.groupBy(feature_col, target_col)\n",
    "        .agg(F.count(\"*\").alias(\"count\"))\n",
    "        .withColumn(\"p_xy\", F.col(\"count\") / df.count())\n",
    "    )\n",
    "\n",
    "    # Compute marginal probabilities P(X) and P(Y)\n",
    "    p_x = joint_prob.groupBy(feature_col).agg(F.sum(\"p_xy\").alias(\"p_x\"))\n",
    "    p_y = joint_prob.groupBy(target_col).agg(F.sum(\"p_xy\").alias(\"p_y\"))\n",
    "\n",
    "    # Calculate MI terms: p_xy * log2(p_xy / (p_x * p_y))\n",
    "    mi_terms = (\n",
    "        joint_prob.join(p_x, feature_col)\n",
    "        .join(p_y, target_col)\n",
    "        .withColumn(\n",
    "            \"mi_term\",\n",
    "            F.col(\"p_xy\") * F.log2(F.col(\"p_xy\") / (F.col(\"p_x\") * F.col(\"p_y\")))\n",
    "        )\n",
    "    )\n",
    "\n",
    "    # Sum MI terms to get final score\n",
    "    mi = mi_terms.agg(F.sum(\"mi_term\").alias(\"mi\")).collect()[0][\"mi\"]\n",
    "    return float(mi) if mi else 0.0\n",
    "\n",
    "# Compute MI for all features\n",
    "df_mis = df.select(\"*\")\n",
    "mi_results = {}\n",
    "\n",
    "for feature in df_mis.columns:  # Combine all features\n",
    "    if feature == \"label\":\n",
    "        continue\n",
    "    mi_score = compute_mutual_info(df_mis, feature)\n",
    "    mi_results[feature] = mi_score\n",
    "    print(f\"MI for {feature}: {mi_score:.4f}\")\n",
    "\n",
    "# Sort the MI and display results\n",
    "sorted_mi_results = sorted(mi_results.items(), key=lambda x: x[1], reverse=True)\n",
    "print(\"\\n=== Features sorted by Mutual Information ===\")\n",
    "for feature, mi_score in sorted_mi_results:\n",
    "    print(f\"{feature}: {mi_score:.4f}\")"
   ]
  },
  {
   "cell_type": "markdown",
   "metadata": {
    "application/vnd.databricks.v1+cell": {
     "cellMetadata": {},
     "inputWidgets": {},
     "nuid": "4b457bb5-cdd3-4a27-ac54-5b61dd405b9d",
     "showTitle": false,
     "tableResultSettingsMap": {},
     "title": ""
    },
    "id": "vXRzg0OfdxU1"
   },
   "source": [
    "**Interpretation of Mutual Information (MI) Scoring:**\n",
    "\n",
    "MI scoring is a measure of how much information one variable (feature) provides about another (target variable, in this case, `label`). It helps identify which features are most relevant for predicting the target, where a higher MI score means the feature is more informative for the prediction and should be prioritised for model training.\n",
    "\n",
    "From the results:\n",
    "The top 5 informative features are\n",
    "1. `id_resp_h` (0.901)\n",
    "2. `uid` (0.901)\n",
    "3. `history` (0.901)\n",
    "4. `conn_state` (0.901)\n",
    "5. `id_resp_p` (0.640)\n",
    "\n",
    "On the other hand, the features with low/zero MI score are `proto` (0.0002) and `id_orig_h` (0.000) which have very low MI and may have a negligible effect on prediction.\n",
    "\n",
    "**Data Leakage Issue** - to edit\n",
    "\n",
    "While `uid` has a high MI score, it could suggest that the `uid` is leaking information about the `label` as `uid` is supposed to be a unique identifier for the connection. Since it is unique per row, it has zero predictive power on new data and cannot be generalised onto new samples. This could cause the model to perform extremely well on training data but fail on unseen data."
   ]
  },
  {
   "cell_type": "markdown",
   "metadata": {
    "application/vnd.databricks.v1+cell": {
     "cellMetadata": {},
     "inputWidgets": {},
     "nuid": "d1a3f879-afbf-4ad8-9db6-d45561fc102d",
     "showTitle": false,
     "tableResultSettingsMap": {},
     "title": ""
    },
    "id": "-LwH82mRclPZ"
   },
   "source": [
    "# Feature Engineering"
   ]
  },
  {
   "cell_type": "markdown",
   "metadata": {
    "application/vnd.databricks.v1+cell": {
     "cellMetadata": {},
     "inputWidgets": {},
     "nuid": "9cec1cac-d7bf-4d31-bd7a-e8d6465b772b",
     "showTitle": false,
     "tableResultSettingsMap": {},
     "title": ""
    },
    "id": "rTUT3pONMZ4x"
   },
   "source": [
    "## Engineering new Meaningful Features"
   ]
  },
  {
   "cell_type": "code",
   "execution_count": 23,
   "metadata": {},
   "outputs": [
    {
     "name": "stdout",
     "output_type": "stream",
     "text": [
      "+-----------+------------------+---------+----------+------------------+----------+\n",
      "|total_bytes|        byte_ratio|pkt_ratio|total_pkts|        throughput|efficiency|\n",
      "+-----------+------------------+---------+----------+------------------+----------+\n",
      "|       96.0|0.9795918367346939|      0.5|       2.0|  668.295643928812|      32.0|\n",
      "|       78.0|              78.0|      2.0|       2.0|15.599497018288181|      26.0|\n",
      "|       78.0|              78.0|      2.0|       2.0|15.583974122335873|      26.0|\n",
      "|       78.0|              78.0|      2.0|       2.0|15.583923643487838|      26.0|\n",
      "|       78.0|              78.0|      2.0|       2.0|15.583960760256039|      26.0|\n",
      "+-----------+------------------+---------+----------+------------------+----------+\n",
      "only showing top 5 rows\n",
      "\n"
     ]
    }
   ],
   "source": [
    "# NEW VERSION\n",
    "from pyspark.sql.functions import col, when, lit, log1p\n",
    "\n",
    "df = df \\\n",
    "    .withColumn(\"total_bytes\", col(\"orig_bytes\") + col(\"resp_bytes\")) \\\n",
    "    .withColumn(\"byte_ratio\", col(\"orig_bytes\") / (col(\"resp_bytes\") + lit(1))) \\\n",
    "    .withColumn(\"pkt_ratio\", col(\"orig_pkts\") / (col(\"resp_pkts\") + lit(1))) \\\n",
    "    .withColumn(\"total_pkts\", col(\"orig_pkts\") + col(\"resp_pkts\")) \\\n",
    "    .withColumn(\"throughput\", col(\"total_bytes\") / (col(\"duration\") + lit(1e-6))) \\\n",
    "    .withColumn(\"efficiency\", col(\"total_bytes\") / (col(\"total_pkts\") + lit(1)))\n",
    "\n",
    "df.select(\"total_bytes\", \"byte_ratio\", \"pkt_ratio\", \"total_pkts\", \"throughput\", \"efficiency\").show(5)"
   ]
  },
  {
   "cell_type": "markdown",
   "metadata": {},
   "source": [
    "## Label Indexing and Train Data Splitting"
   ]
  },
  {
   "cell_type": "code",
   "execution_count": 24,
   "metadata": {},
   "outputs": [],
   "source": [
    "from pyspark.ml.feature import StringIndexer\n",
    "\n",
    "# Create a label indexer for string labels.\n",
    "label_indexer = StringIndexer(inputCol=\"label\", outputCol=\"label_index\", handleInvalid=\"keep\")\n",
    "\n",
    "train_df, test_df = df.randomSplit([0.8, 0.2], seed=42)"
   ]
  },
  {
   "cell_type": "markdown",
   "metadata": {
    "application/vnd.databricks.v1+cell": {
     "cellMetadata": {},
     "inputWidgets": {},
     "nuid": "81273552-2de1-494c-aef7-33ace3c97695",
     "showTitle": false,
     "tableResultSettingsMap": {},
     "title": ""
    },
    "id": "HpbaXcxPLdjk"
   },
   "source": [
    "## Encoding of Categorical Variables:"
   ]
  },
  {
   "cell_type": "markdown",
   "metadata": {
    "application/vnd.databricks.v1+cell": {
     "cellMetadata": {},
     "inputWidgets": {},
     "nuid": "f8eb3cd3-a280-45db-ac7b-3117917e8209",
     "showTitle": false,
     "tableResultSettingsMap": {},
     "title": ""
    }
   },
   "source": [
    "Categorical varaiables included are History, proto, conn_state, and id_resp_p. From data exploration, cardinality of each of them are 61, 3, 11, 16 respectively.\n",
    "\n",
    "History has high cardinality so need to do frequency encoding.\n",
    "Others have relative low cardinality so one-hot encoding is feasible."
   ]
  },
  {
   "cell_type": "code",
   "execution_count": 25,
   "metadata": {},
   "outputs": [],
   "source": [
    "# NEW VERSION - HIGH CARDINALITY\n",
    "from pyspark.sql.functions import count\n",
    "\n",
    "# for high cardinality categorical features, use frequency encoding\n",
    "\n",
    "history_freq_train = train_df.groupBy(\"history\").count().withColumnRenamed(\"count\", \"history_freq\")\n",
    "\n",
    "# Join the frequency mapping to the training data.\n",
    "train_df = train_df.join(history_freq_train, on=\"history\", how=\"left\")\n",
    "\n",
    "# Join the same mapping to the test data.\n",
    "test_df = test_df.join(history_freq_train, on=\"history\", how=\"left\")\n",
    "# Fill null values in test set for unseen \"history\" categories (if any) with 0.\n",
    "test_df = test_df.fillna({\"history_freq\": 0.0})"
   ]
  },
  {
   "cell_type": "code",
   "execution_count": 26,
   "metadata": {},
   "outputs": [],
   "source": [
    "# NEW VERSION - LOW CARDINALITY\n",
    "from pyspark.ml.feature import StringIndexer, OneHotEncoder\n",
    "\n",
    "# Low-cardinality categorical features to one-hot encode:\n",
    "low_card_cat = [\"proto\", \"conn_state\", \"id_resp_p\"]\n",
    "\n",
    "# Create StringIndexers for low-cardinality features.\n",
    "indexers = [StringIndexer(inputCol=cat, outputCol=cat + \"_index\", handleInvalid=\"keep\")\n",
    "            for cat in low_card_cat]\n",
    "\n",
    "# Create OneHotEncoders for the indexed features.\n",
    "encoders = [OneHotEncoder(inputCol=cat + \"_index\", outputCol=cat + \"_vec\")\n",
    "            for cat in low_card_cat]"
   ]
  },
  {
   "cell_type": "markdown",
   "metadata": {
    "application/vnd.databricks.v1+cell": {
     "cellMetadata": {},
     "inputWidgets": {},
     "nuid": "bafac25c-c3f4-4450-96b5-bd3d8e52731d",
     "showTitle": false,
     "tableResultSettingsMap": {},
     "title": ""
    },
    "id": "zIw_teB0ITOI"
   },
   "source": [
    "## Scaling of Numerical Features"
   ]
  },
  {
   "cell_type": "code",
   "execution_count": 27,
   "metadata": {},
   "outputs": [],
   "source": [
    "# NEW VERSION\n",
    "from pyspark.ml.feature import VectorAssembler, StandardScaler\n",
    "\n",
    "# List of numerical features to scale.\n",
    "numeric_features = [\"duration\", \"byte_ratio\", \"pkt_ratio\",\n",
    "                    \"total_bytes\", \"total_pkts\", \"efficiency\", \"throughput\", \"history_freq\"]\n",
    "\n",
    "# Ensure numeric feature columns are of type double.\n",
    "for feature in numeric_features:\n",
    "    train_df = train_df.withColumn(feature, col(feature).cast(\"double\"))\n",
    "    test_df = test_df.withColumn(feature, col(feature).cast(\"double\"))\n",
    "\n",
    "# Assemble numeric features into a vector.\n",
    "assembler_num = VectorAssembler(inputCols=numeric_features, outputCol=\"num_features\")\n",
    "\n",
    "# Scale numerical features using StandardScaler.\n",
    "scaler = StandardScaler(inputCol=\"num_features\", outputCol=\"features_scaled\")"
   ]
  },
  {
   "cell_type": "markdown",
   "metadata": {},
   "source": [
    "## K-Means clustering of categorical features into new cluster feature "
   ]
  },
  {
   "cell_type": "markdown",
   "metadata": {
    "application/vnd.databricks.v1+cell": {
     "cellMetadata": {},
     "inputWidgets": {},
     "nuid": "bf3c9aed-7c13-41a3-b17d-4255b84e7533",
     "showTitle": false,
     "tableResultSettingsMap": {},
     "title": ""
    },
    "id": "X0I8dV6gL7zN"
   },
   "source": [
    "## Assemble Features for Modelling"
   ]
  },
  {
   "cell_type": "code",
   "execution_count": 28,
   "metadata": {},
   "outputs": [],
   "source": [
    "# NEW VERSION\n",
    "from pyspark.ml.feature import VectorAssembler\n",
    "from pyspark.ml.classification import LogisticRegression\n",
    "\n",
    "final_features = [\"features_scaled\"] + [cat + \"_vec\" for cat in low_card_cat] + [\"history_freq\"]\n",
    "\n",
    "final_assembler = VectorAssembler(\n",
    "    inputCols=final_features,\n",
    "    outputCol=\"features\", handleInvalid=\"skip\"\n",
    ")"
   ]
  },
  {
   "cell_type": "code",
   "execution_count": 29,
   "metadata": {},
   "outputs": [
    {
     "ename": "NameError",
     "evalue": "name 'stop' is not defined",
     "output_type": "error",
     "traceback": [
      "\u001b[31m---------------------------------------------------------------------------\u001b[39m",
      "\u001b[31mNameError\u001b[39m                                 Traceback (most recent call last)",
      "\u001b[36mCell\u001b[39m\u001b[36m \u001b[39m\u001b[32mIn[29]\u001b[39m\u001b[32m, line 1\u001b[39m\n\u001b[32m----> \u001b[39m\u001b[32m1\u001b[39m \u001b[43mstop\u001b[49m\n",
      "\u001b[31mNameError\u001b[39m: name 'stop' is not defined"
     ]
    }
   ],
   "source": [
    "stop"
   ]
  },
  {
   "cell_type": "markdown",
   "metadata": {
    "application/vnd.databricks.v1+cell": {
     "cellMetadata": {},
     "inputWidgets": {},
     "nuid": "2d5e7df4-087a-4ca8-86b7-5816cea46ffa",
     "showTitle": false,
     "tableResultSettingsMap": {},
     "title": ""
    },
    "id": "R43x7rDi5sF8"
   },
   "source": [
    "# Model Training and Evaluation"
   ]
  },
  {
   "cell_type": "markdown",
   "metadata": {
    "application/vnd.databricks.v1+cell": {
     "cellMetadata": {},
     "inputWidgets": {},
     "nuid": "c99e9b25-dfbf-4411-8d71-0c6478fdc83c",
     "showTitle": false,
     "tableResultSettingsMap": {},
     "title": ""
    },
    "id": "yCclzB3TMgX6"
   },
   "source": [
    "## Logistic Regression"
   ]
  },
  {
   "cell_type": "code",
   "execution_count": null,
   "metadata": {},
   "outputs": [],
   "source": [
    "from pyspark.ml.tuning import CrossValidator, ParamGridBuilder\n",
    "from pyspark.ml.evaluation import BinaryClassificationEvaluator, MulticlassClassificationEvaluator\n",
    "\n",
    "lr = LogisticRegression(featuresCol=\"features\", labelCol=\"label_index\", maxIter=20, regParam=0.1)\n",
    "\n",
    "pipeline = Pipeline(stages=[label_indexer] + indexers + encoders + [assembler_num, scaler, final_assembler, lr])"
   ]
  },
  {
   "cell_type": "code",
   "execution_count": null,
   "metadata": {},
   "outputs": [],
   "source": [
    "from pyspark.ml.tuning import CrossValidator, ParamGridBuilder\n",
    "from pyspark.ml.evaluation import BinaryClassificationEvaluator, MulticlassClassificationEvaluator\n",
    "\n",
    "# Setup parameter grid for Logistic Regression.\n",
    "paramGrid = ParamGridBuilder() \\\n",
    "    .addGrid(lr.regParam, [0.01, 0.1]) \\\n",
    "    .addGrid(lr.elasticNetParam, [0.0]) \\\n",
    "    .build()\n",
    "\n",
    "# Define evaluator using area under ROC.\n",
    "evaluator = MulticlassClassificationEvaluator(\n",
    "    labelCol=\"label_index\", \n",
    "    predictionCol=\"prediction\", # default is \"prediction\"\n",
    "    metricName=\"accuracy\")\n",
    "\n",
    "# Setup 3-fold cross-validation.\n",
    "cv = CrossValidator(\n",
    "    estimator=pipeline,\n",
    "    estimatorParamMaps=paramGrid,\n",
    "    evaluator=evaluator,\n",
    "    numFolds=5\n",
    ")\n",
    "\n",
    "# Train the model using cross-validation on the training set.\n",
    "cvModel = cv.fit(train_df)"
   ]
  },
  {
   "cell_type": "code",
   "execution_count": null,
   "metadata": {},
   "outputs": [
    {
     "name": "stdout",
     "output_type": "stream",
     "text": [
      "Test AUC: 1.0000\n",
      "Test Accuracy: 1.0000\n",
      "Test F1 Score: 1.0000\n",
      "+-----------+----------+---------------------------------------------------------------+\n",
      "|label_index|prediction|probability                                                    |\n",
      "+-----------+----------+---------------------------------------------------------------+\n",
      "|0.0        |0.0       |[0.9781902700280899,0.02175395492858243,5.577504332758548E-5]  |\n",
      "|0.0        |0.0       |[0.978190269577245,0.021753955378904545,5.57750438504585E-5]   |\n",
      "|0.0        |0.0       |[0.9781902691738573,0.021753955781824326,5.5775044318292004E-5]|\n",
      "|0.0        |0.0       |[0.9781904930528603,0.02175373216246837,5.577478467117025E-5]  |\n",
      "|0.0        |0.0       |[0.9781902067673327,0.021754018115972263,5.57751166949473E-5]  |\n",
      "|0.0        |0.0       |[0.9781900211602791,0.02175420350776688,5.5775331954072534E-5] |\n",
      "|0.0        |0.0       |[0.9781902946584488,0.02175393032678902,5.577501476222191E-5]  |\n",
      "|0.0        |0.0       |[0.9781902698619892,0.021753955094490587,5.577504352022293E-5] |\n",
      "|0.0        |0.0       |[0.9321218786283968,0.06779890764256925,7.921372903400901E-5]  |\n",
      "|0.0        |0.0       |[0.9781902688179273,0.021753956137341775,5.577504473108639E-5] |\n",
      "+-----------+----------+---------------------------------------------------------------+\n",
      "only showing top 10 rows\n",
      "\n"
     ]
    }
   ],
   "source": [
    "# Make predictions on the test set.\n",
    "predictions = cvModel.transform(test_df)\n",
    "\n",
    "# Evaluate using AUC.\n",
    "auc = evaluator.evaluate(predictions)\n",
    "print(f\"Test AUC: {auc:.4f}\")\n",
    "\n",
    "# Evaluate using Accuracy.\n",
    "accuracy_evaluator = MulticlassClassificationEvaluator(labelCol=\"label_index\", predictionCol=\"prediction\", metricName=\"accuracy\")\n",
    "accuracy = accuracy_evaluator.evaluate(predictions)\n",
    "print(f\"Test Accuracy: {accuracy:.4f}\")\n",
    "\n",
    "# Evaluate using F1 Score.\n",
    "f1_evaluator = MulticlassClassificationEvaluator(labelCol=\"label_index\", predictionCol=\"prediction\", metricName=\"f1\")\n",
    "f1 = f1_evaluator.evaluate(predictions)\n",
    "print(f\"Test F1 Score: {f1:.4f}\")\n",
    "\n",
    "# Show sample predictions.\n",
    "predictions.select(\"label_index\", \"prediction\", \"probability\").show(10, truncate=False)"
   ]
  },
  {
   "cell_type": "markdown",
   "metadata": {
    "application/vnd.databricks.v1+cell": {
     "cellMetadata": {},
     "inputWidgets": {},
     "nuid": "f7822bf8-8514-4c87-aa29-71e0f9e44f3f",
     "showTitle": false,
     "tableResultSettingsMap": {},
     "title": ""
    }
   },
   "source": [
    "model performs well for common classes (0.0 and 1.0) but completely fails to identify class 2.0 (probably due to class imbalance)\n",
    "\n",
    "F1 = 1.0"
   ]
  },
  {
   "cell_type": "markdown",
   "metadata": {
    "application/vnd.databricks.v1+cell": {
     "cellMetadata": {},
     "inputWidgets": {},
     "nuid": "5fe93d9c-f6bb-496e-b464-67f4e5e146f7",
     "showTitle": false,
     "tableResultSettingsMap": {},
     "title": ""
    },
    "id": "phW0E54BMjuc"
   },
   "source": [
    "## Random Forest"
   ]
  },
  {
   "cell_type": "code",
   "execution_count": 30,
   "metadata": {
    "application/vnd.databricks.v1+cell": {
     "cellMetadata": {},
     "inputWidgets": {},
     "nuid": "1e128c25-f640-406a-91e9-f41ef69f7f77",
     "showTitle": false,
     "tableResultSettingsMap": {},
     "title": ""
    },
    "id": "4NxND86oM56v"
   },
   "outputs": [],
   "source": [
    "from pyspark.ml import Pipeline\n",
    "from pyspark.ml.feature import StringIndexer, VectorAssembler\n",
    "from pyspark.ml.classification import RandomForestClassifier\n",
    "from pyspark.ml.evaluation import BinaryClassificationEvaluator, MulticlassClassificationEvaluator\n",
    "from pyspark.ml.tuning import CrossValidator, ParamGridBuilder\n",
    "\n",
    "rf = RandomForestClassifier(\n",
    "    featuresCol=\"features\",\n",
    "    labelCol=\"label_index\",\n",
    "    numTrees=10,  \n",
    "    maxDepth=5    \n",
    ")\n",
    "\n",
    "rf_pipeline = Pipeline(stages=[label_indexer] + indexers + encoders + [assembler_num, scaler, final_assembler, rf])"
   ]
  },
  {
   "cell_type": "code",
   "execution_count": 31,
   "metadata": {},
   "outputs": [
    {
     "name": "stdout",
     "output_type": "stream",
     "text": [
      "RF Accuracy: 1.0000\n"
     ]
    }
   ],
   "source": [
    "paramGrid = ParamGridBuilder() \\\n",
    "    .addGrid(rf.numTrees, [5, 10]) \\\n",
    "    .addGrid(rf.maxDepth, [3, 5]) \\\n",
    "    .build()\n",
    "\n",
    "evaluator_acc = MulticlassClassificationEvaluator(\n",
    "    labelCol=\"label_index\",  \n",
    "    predictionCol=\"prediction\",  \n",
    "    metricName=\"accuracy\"  \n",
    ")\n",
    "cv = CrossValidator(\n",
    "    estimator=rf_pipeline,\n",
    "    estimatorParamMaps=paramGrid,\n",
    "    evaluator=evaluator_acc,\n",
    "    numFolds=3,\n",
    "    parallelism=1\n",
    ")\n",
    "\n",
    "cv_model = cv.fit(train_df)\n",
    "rf_predictions = cv_model.bestModel.transform(test_df)\n",
    "\n",
    "rf_accuracy = evaluator_acc.evaluate(rf_predictions)\n",
    "print(f\"RF Accuracy: {rf_accuracy:.4f}\")"
   ]
  },
  {
   "cell_type": "code",
   "execution_count": 32,
   "metadata": {},
   "outputs": [
    {
     "name": "stdout",
     "output_type": "stream",
     "text": [
      "RF AUC: 1.0000\n"
     ]
    }
   ],
   "source": [
    "evaluator_auc = BinaryClassificationEvaluator(\n",
    "    labelCol=\"label_index\",\n",
    "    rawPredictionCol=\"prediction\", \n",
    "    metricName=\"areaUnderROC\"\n",
    ")\n",
    "\n",
    "rf_auc = evaluator_auc.evaluate(rf_predictions)\n",
    "print(f\"RF AUC: {rf_auc:.4f}\")"
   ]
  },
  {
   "cell_type": "code",
   "execution_count": 44,
   "metadata": {},
   "outputs": [
    {
     "name": "stdout",
     "output_type": "stream",
     "text": [
      "RF recall: 1.0000\n"
     ]
    }
   ],
   "source": [
    "evaluator_recall = MulticlassClassificationEvaluator(\n",
    "    labelCol=\"label_index\",\n",
    "    predictionCol=\"prediction\",\n",
    "    metricName=\"weightedRecall\"\n",
    ")\n",
    "\n",
    "rf_recall = evaluator_recall.evaluate(rf_predictions)\n",
    "print(f\"RF recall: {rf_recall:.4f}\")"
   ]
  },
  {
   "cell_type": "code",
   "execution_count": 45,
   "metadata": {},
   "outputs": [
    {
     "name": "stdout",
     "output_type": "stream",
     "text": [
      "RF precision: 1.0000\n"
     ]
    }
   ],
   "source": [
    "evaluator_precision = MulticlassClassificationEvaluator(\n",
    "    labelCol=\"label_index\",\n",
    "    predictionCol=\"prediction\",\n",
    "    metricName=\"weightedPrecision\"\n",
    ")\n",
    "\n",
    "rf_precision = evaluator_precision.evaluate(rf_predictions)\n",
    "print(f\"RF precision: {rf_precision:.4f}\")"
   ]
  },
  {
   "cell_type": "code",
   "execution_count": 41,
   "metadata": {},
   "outputs": [
    {
     "name": "stdout",
     "output_type": "stream",
     "text": [
      "+------+-----------+---------------------------------------------+----------+\n",
      "|label |label_index|probability                                  |prediction|\n",
      "+------+-----------+---------------------------------------------+----------+\n",
      "|Benign|0.0        |[0.7967963078820495,0.20320369211795053,0.0] |0.0       |\n",
      "|Benign|0.0        |[0.9960374537346904,0.003962546265309587,0.0]|0.0       |\n",
      "|Benign|0.0        |[0.9960374537346904,0.003962546265309587,0.0]|0.0       |\n",
      "|Benign|0.0        |[0.9960374537346904,0.003962546265309587,0.0]|0.0       |\n",
      "|Benign|0.0        |[0.9960374537346904,0.003962546265309587,0.0]|0.0       |\n",
      "+------+-----------+---------------------------------------------+----------+\n",
      "only showing top 5 rows\n",
      "\n"
     ]
    }
   ],
   "source": [
    "rf_predictions.select(\"label\", \"label_index\", \"probability\", \"prediction\").show(5, truncate=False)"
   ]
  },
  {
   "cell_type": "code",
   "execution_count": 43,
   "metadata": {},
   "outputs": [
    {
     "name": "stdout",
     "output_type": "stream",
     "text": [
      "+-----------+------+------+\n",
      "|label_index|   0.0|   1.0|\n",
      "+-----------+------+------+\n",
      "|        0.0|400456|     2|\n",
      "|        1.0|     0|381048|\n",
      "+-----------+------+------+\n",
      "\n"
     ]
    }
   ],
   "source": [
    "confusion_matrix = rf_predictions.groupBy(\"label_index\").pivot(\"prediction\").count().na.fill(0)\n",
    "confusion_matrix.show()"
   ]
  },
  {
   "cell_type": "markdown",
   "metadata": {
    "application/vnd.databricks.v1+cell": {
     "cellMetadata": {},
     "inputWidgets": {},
     "nuid": "969e8004-3262-4927-b50b-b2e052708484",
     "showTitle": false,
     "tableResultSettingsMap": {},
     "title": ""
    },
    "id": "VLBMnQuGMwBZ"
   },
   "source": [
    "## Gradient Boosted Trees"
   ]
  },
  {
   "cell_type": "code",
   "execution_count": null,
   "metadata": {},
   "outputs": [],
   "source": [
    "# Gradient boosted tree is binary\n",
    "\n",
    "from pyspark.ml.classification import GBTClassifier\n",
    "from pyspark.ml import Pipeline\n",
    "\n",
    "# gbt regressor\n",
    "gbt = GBTClassifier(featuresCol=\"features\",\n",
    "                    labelCol=\"label_index\")\n",
    "\n",
    "gbt_pipeline = Pipeline(stages=[label_indexer] + indexers + encoders + [assembler_num, scaler, final_assembler, gbt])"
   ]
  },
  {
   "cell_type": "code",
   "execution_count": null,
   "metadata": {},
   "outputs": [
    {
     "name": "stdout",
     "output_type": "stream",
     "text": [
      "+------+-----------+----------------------------------------+----------+\n",
      "|label |label_index|probability                             |prediction|\n",
      "+------+-----------+----------------------------------------+----------+\n",
      "|Benign|0.0        |[0.9341221756527827,0.06587782434721734]|0.0       |\n",
      "|Benign|0.0        |[0.9341221756527827,0.06587782434721734]|0.0       |\n",
      "|Benign|0.0        |[0.9341221756527827,0.06587782434721734]|0.0       |\n",
      "|Benign|0.0        |[0.9341221756527827,0.06587782434721734]|0.0       |\n",
      "|Benign|0.0        |[0.9341221756527827,0.06587782434721734]|0.0       |\n",
      "+------+-----------+----------------------------------------+----------+\n",
      "only showing top 5 rows\n",
      "\n"
     ]
    }
   ],
   "source": [
    "from pyspark.ml.tuning import ParamGridBuilder, CrossValidator\n",
    "from pyspark.ml.evaluation import BinaryClassificationEvaluator\n",
    "\n",
    "# Define the Parameter Grid\n",
    "paramGrid_gbt = ParamGridBuilder() \\\n",
    "    .addGrid(gbt.maxIter, [10, 50]) \\\n",
    "    .addGrid(gbt.maxDepth, [3, 5]) \\\n",
    "    .build()\n",
    "\n",
    "# Evaluation\n",
    "# evaluate AUC using BinaryClassificationEvaluator\n",
    "evaluator_auc = BinaryClassificationEvaluator(\n",
    "    labelCol=\"label_index\",\n",
    "    rawPredictionCol=\"rawPrediction\",  # GBT outputs rawPrediction\n",
    "    metricName=\"areaUnderROC\"\n",
    ")\n",
    "\n",
    "cv_gbt = CrossValidator(estimator=gbt_pipeline,\n",
    "                        estimatorParamMaps=paramGrid_gbt,\n",
    "                        evaluator = evaluator_auc,\n",
    "                        numFolds=2)\n",
    "\n",
    "cv_model_gbt = cv_gbt.fit(train_df)\n",
    "best_gbt_model = cv_model_gbt.bestModel\n",
    "\n",
    "best_gbt_predictions = best_gbt_model.transform(test_df)\n",
    "\n",
    "best_gbt_predictions.select(\"label\", \"label_index\", \"probability\", \"prediction\").show(5, truncate=False)"
   ]
  },
  {
   "cell_type": "code",
   "execution_count": null,
   "metadata": {},
   "outputs": [
    {
     "name": "stdout",
     "output_type": "stream",
     "text": [
      "GBT AUC: 1.0000\n",
      "Test Accuracy: 1.0000\n",
      "Test F1 Score: 1.0000\n"
     ]
    }
   ],
   "source": [
    "# EValuate using AUC\n",
    "gbt_auc = evaluator_auc.evaluate(best_gbt_predictions)\n",
    "print(f\"GBT AUC: {gbt_auc:.4f}\")\n",
    "\n",
    "# Evaluate using Accuracy.\n",
    "accuracy_evaluator = MulticlassClassificationEvaluator(labelCol=\"label_index\", predictionCol=\"prediction\", metricName=\"accuracy\")\n",
    "accuracy = accuracy_evaluator.evaluate(best_gbt_predictions)\n",
    "print(f\"Test Accuracy: {accuracy:.4f}\")\n",
    "\n",
    "# Evaluate using F1 Score.\n",
    "f1_evaluator = MulticlassClassificationEvaluator(labelCol=\"label_index\", predictionCol=\"prediction\", metricName=\"f1\")\n",
    "f1 = f1_evaluator.evaluate(best_gbt_predictions)\n",
    "print(f\"Test F1 Score: {f1:.4f}\")"
   ]
  },
  {
   "cell_type": "code",
   "execution_count": 0,
   "metadata": {
    "application/vnd.databricks.v1+cell": {
     "cellMetadata": {
      "byteLimit": 2048000,
      "rowLimit": 10000
     },
     "inputWidgets": {},
     "nuid": "abc9e4ec-beae-4561-bc71-5635914ed671",
     "showTitle": false,
     "tableResultSettingsMap": {},
     "title": ""
    },
    "id": "Sy5xHJXsM7Nt"
   },
   "outputs": [],
   "source": [
    "# OLD VERSION\n",
    "# Gradient boosted tree is binary\n",
    "\n",
    "from pyspark.ml.classification import GBTClassifier\n",
    "# from pyspark.ml import Pipeline\n",
    "\n",
    "df_model = df_model.drop(\"label_index\") # force drop existing when rerunning the cell\n",
    "\n",
    "df_model = df_model.withColumn(\n",
    "    \"label\",\n",
    "    when(col(\"label\") == \"Benign\", \"Benign\").otherwise(\"Malicious\")\n",
    ")\n",
    "\n",
    "# reindex labels (Benign = 0, Malicious = 1)\n",
    "label_indexer = StringIndexer(inputCol=\"label\", outputCol=\"label_index\", handleInvalid=\"keep\")\n",
    "df_model = label_indexer.fit(df_model).transform(df_model)\n",
    "\n",
    "# train test split\n",
    "train_df, test_df = df_model.randomSplit([0.8, 0.2], seed=42)\n",
    "\n",
    "# gbt regressor\n",
    "gbt = GBTClassifier(featuresCol=\"features\",\n",
    "                    labelCol=\"label_index\", \n",
    "                    maxIter=50, \n",
    "                    maxDepth=5)\n",
    "\n",
    "# train the model\n",
    "gbt_model = gbt.fit(train_df)\n",
    "\n",
    "# Make predictions with Gradient Boosted Tree\n",
    "gbt_predictions = gbt_model.transform(test_df)\n",
    "\n",
    "# display predictions\n",
    "gbt_predictions.select(\"label\", \"label_index\", \"probability\", \"prediction\").show(5, truncate=False)"
   ]
  },
  {
   "cell_type": "code",
   "execution_count": 0,
   "metadata": {
    "application/vnd.databricks.v1+cell": {
     "cellMetadata": {
      "byteLimit": 2048000,
      "rowLimit": 10000
     },
     "inputWidgets": {},
     "nuid": "6fc624c7-042f-4fdd-98b3-6c5ec1ef94d0",
     "showTitle": false,
     "tableResultSettingsMap": {},
     "title": ""
    }
   },
   "outputs": [
    {
     "name": "stdout",
     "output_type": "stream",
     "text": [
      "+-----------+-------+\n",
      "|label_index|  count|\n",
      "+-----------+-------+\n",
      "|        0.0|4108318|\n",
      "|        1.0|1906832|\n",
      "+-----------+-------+\n",
      "\n"
     ]
    }
   ],
   "source": [
    "df_model.groupBy(\"label_index\").count().show()"
   ]
  },
  {
   "cell_type": "markdown",
   "metadata": {
    "application/vnd.databricks.v1+cell": {
     "cellMetadata": {},
     "inputWidgets": {},
     "nuid": "a345a235-a8c1-46fb-bf83-e4477bf6f0f9",
     "showTitle": false,
     "tableResultSettingsMap": {},
     "title": ""
    },
    "id": "Lehy1GtUM1bq"
   },
   "source": [
    "## MLP"
   ]
  },
  {
   "cell_type": "code",
   "execution_count": null,
   "metadata": {},
   "outputs": [],
   "source": [
    "from pyspark.ml.feature import StringIndexer\n",
    "\n",
    "df_model = df_model.drop(\"label_index\") # force drop existing when rerunning the cell\n",
    "\n",
    "label_indexer = StringIndexer(inputCol=\"label\", outputCol=\"label_index\", handleInvalid=\"keep\")\n",
    "df_model = label_indexer.fit(df_model).transform(df_model)\n",
    "\n",
    "train_df, test_df = df_model.randomSplit([0.8, 0.2], seed=42)"
   ]
  },
  {
   "cell_type": "code",
   "execution_count": null,
   "metadata": {
    "application/vnd.databricks.v1+cell": {
     "cellMetadata": {},
     "inputWidgets": {},
     "nuid": "9353c975-0344-463f-a616-8196f6f7b02e",
     "showTitle": false,
     "tableResultSettingsMap": {},
     "title": ""
    },
    "id": "MwdyBCqcM81h"
   },
   "outputs": [
    {
     "name": "stdout",
     "output_type": "stream",
     "text": [
      "+------+-----------+----------------------------------------+----------+\n",
      "|label |label_index|probability                             |prediction|\n",
      "+------+-----------+----------------------------------------+----------+\n",
      "|Benign|0.0        |[0.9181545583160051,0.08184544168399487]|0.0       |\n",
      "|Benign|0.0        |[0.903568435556681,0.09643156444331895] |0.0       |\n",
      "|Benign|0.0        |[0.8860422863896683,0.11395771361033155]|0.0       |\n",
      "|Benign|0.0        |[0.08633195661420173,0.9136680433857982]|1.0       |\n",
      "|Benign|0.0        |[0.08518375697967276,0.9148162430203273]|1.0       |\n",
      "+------+-----------+----------------------------------------+----------+\n",
      "only showing top 5 rows\n",
      "\n",
      "MLP Accuracy: 0.9510\n"
     ]
    }
   ],
   "source": [
    "from pyspark.ml.tuning import ParamGridBuilder, CrossValidator\n",
    "from pyspark.ml.evaluation import MulticlassClassificationEvaluator\n",
    "\n",
    "from pyspark.ml.classification import MultilayerPerceptronClassifier\n",
    "\n",
    "input_size = len(train_df.select(\"features\").first()['features'])\n",
    "layers = [input_size, 64, 32, 2]  # 2 output nodes for binary classification\n",
    "\n",
    "mlp = MultilayerPerceptronClassifier(\n",
    "    maxIter=100,\n",
    "    layers=layers,\n",
    "    blockSize=128,\n",
    "    seed=1234,\n",
    "    featuresCol=\"features\",\n",
    "    labelCol=\"label_index\"\n",
    ")\n",
    "\n",
    "mlp_model = mlp.fit(train_df)\n",
    "\n",
    "mlp_predictions = mlp_model.transform(test_df)\n",
    "\n",
    "mlp_predictions.select(\"label\", \"label_index\", \"probability\", \"prediction\").show(5, truncate=False)\n",
    "\n",
    "evaluator = MulticlassClassificationEvaluator(\n",
    "    labelCol=\"label_index\",\n",
    "    predictionCol=\"prediction\",\n",
    "    metricName=\"accuracy\"\n",
    ")\n",
    "\n",
    "\n",
    "mlp_accuracy = evaluator.evaluate(mlp_predictions)\n",
    "print(f\"MLP Accuracy: {mlp_accuracy:.4f}\")\n"
   ]
  },
  {
   "cell_type": "code",
   "execution_count": null,
   "metadata": {},
   "outputs": [
    {
     "name": "stdout",
     "output_type": "stream",
     "text": [
      "+-----------+------+------+\n",
      "|label_index|   0.0|   1.0|\n",
      "+-----------+------+------+\n",
      "|        0.0|398617|  1472|\n",
      "|        1.0| 36815|344720|\n",
      "+-----------+------+------+\n",
      "\n"
     ]
    }
   ],
   "source": [
    "# Create the confusion matrix\n",
    "confusion_matrix = mlp_predictions.groupBy(\"label_index\").pivot(\"prediction\").count().na.fill(0)\n",
    "\n",
    "confusion_matrix.show()"
   ]
  },
  {
   "cell_type": "code",
   "execution_count": null,
   "metadata": {},
   "outputs": [
    {
     "ename": "ConnectionRefusedError",
     "evalue": "[WinError 10061] No connection could be made because the target machine actively refused it",
     "output_type": "error",
     "traceback": [
      "\u001b[1;31m---------------------------------------------------------------------------\u001b[0m",
      "\u001b[1;31mConnectionRefusedError\u001b[0m                    Traceback (most recent call last)",
      "Cell \u001b[1;32mIn[38], line 21\u001b[0m\n\u001b[0;32m      6\u001b[0m paramGrid \u001b[38;5;241m=\u001b[39m ParamGridBuilder() \\\n\u001b[0;32m      7\u001b[0m     \u001b[38;5;241m.\u001b[39maddGrid(mlp\u001b[38;5;241m.\u001b[39mlayers, [\n\u001b[0;32m      8\u001b[0m         [input_size, \u001b[38;5;241m32\u001b[39m, \u001b[38;5;241m16\u001b[39m, \u001b[38;5;241m2\u001b[39m]\n\u001b[0;32m      9\u001b[0m     ]) \\\n\u001b[0;32m     10\u001b[0m     \u001b[38;5;241m.\u001b[39maddGrid(mlp\u001b[38;5;241m.\u001b[39mblockSize, [\u001b[38;5;241m64\u001b[39m, \u001b[38;5;241m128\u001b[39m]) \\\n\u001b[0;32m     11\u001b[0m     \u001b[38;5;241m.\u001b[39mbuild()\n\u001b[0;32m     13\u001b[0m cv \u001b[38;5;241m=\u001b[39m CrossValidator(\n\u001b[0;32m     14\u001b[0m     estimator\u001b[38;5;241m=\u001b[39mmlp,\n\u001b[0;32m     15\u001b[0m     estimatorParamMaps\u001b[38;5;241m=\u001b[39mparamGrid,\n\u001b[1;32m   (...)\u001b[0m\n\u001b[0;32m     18\u001b[0m     parallelism\u001b[38;5;241m=\u001b[39m\u001b[38;5;241m1\u001b[39m\n\u001b[0;32m     19\u001b[0m )\n\u001b[1;32m---> 21\u001b[0m cv_model \u001b[38;5;241m=\u001b[39m \u001b[43mcv\u001b[49m\u001b[38;5;241;43m.\u001b[39;49m\u001b[43mfit\u001b[49m\u001b[43m(\u001b[49m\u001b[43mtrain_df\u001b[49m\u001b[43m)\u001b[49m\n\u001b[0;32m     22\u001b[0m tuned_predictions \u001b[38;5;241m=\u001b[39m cv_model\u001b[38;5;241m.\u001b[39mbestModel\u001b[38;5;241m.\u001b[39mtransform(test_df)\n\u001b[0;32m     24\u001b[0m tuned_accuracy \u001b[38;5;241m=\u001b[39m evaluator\u001b[38;5;241m.\u001b[39mevaluate(tuned_predictions)\n",
      "File \u001b[1;32mc:\\Users\\Kenneth\\AppData\\Local\\Programs\\Python\\Python310\\lib\\site-packages\\pyspark\\ml\\base.py:205\u001b[0m, in \u001b[0;36mEstimator.fit\u001b[1;34m(self, dataset, params)\u001b[0m\n\u001b[0;32m    203\u001b[0m         \u001b[38;5;28;01mreturn\u001b[39;00m \u001b[38;5;28mself\u001b[39m\u001b[38;5;241m.\u001b[39mcopy(params)\u001b[38;5;241m.\u001b[39m_fit(dataset)\n\u001b[0;32m    204\u001b[0m     \u001b[38;5;28;01melse\u001b[39;00m:\n\u001b[1;32m--> 205\u001b[0m         \u001b[38;5;28;01mreturn\u001b[39;00m \u001b[38;5;28;43mself\u001b[39;49m\u001b[38;5;241;43m.\u001b[39;49m\u001b[43m_fit\u001b[49m\u001b[43m(\u001b[49m\u001b[43mdataset\u001b[49m\u001b[43m)\u001b[49m\n\u001b[0;32m    206\u001b[0m \u001b[38;5;28;01melse\u001b[39;00m:\n\u001b[0;32m    207\u001b[0m     \u001b[38;5;28;01mraise\u001b[39;00m \u001b[38;5;167;01mTypeError\u001b[39;00m(\n\u001b[0;32m    208\u001b[0m         \u001b[38;5;124m\"\u001b[39m\u001b[38;5;124mParams must be either a param map or a list/tuple of param maps, \u001b[39m\u001b[38;5;124m\"\u001b[39m\n\u001b[0;32m    209\u001b[0m         \u001b[38;5;124m\"\u001b[39m\u001b[38;5;124mbut got \u001b[39m\u001b[38;5;132;01m%s\u001b[39;00m\u001b[38;5;124m.\u001b[39m\u001b[38;5;124m\"\u001b[39m \u001b[38;5;241m%\u001b[39m \u001b[38;5;28mtype\u001b[39m(params)\n\u001b[0;32m    210\u001b[0m     )\n",
      "File \u001b[1;32mc:\\Users\\Kenneth\\AppData\\Local\\Programs\\Python\\Python310\\lib\\site-packages\\pyspark\\ml\\tuning.py:838\u001b[0m, in \u001b[0;36mCrossValidator._fit\u001b[1;34m(self, dataset)\u001b[0m\n\u001b[0;32m    835\u001b[0m \u001b[38;5;28;01mif\u001b[39;00m collectSubModelsParam:\n\u001b[0;32m    836\u001b[0m     subModels \u001b[38;5;241m=\u001b[39m [[\u001b[38;5;28;01mNone\u001b[39;00m \u001b[38;5;28;01mfor\u001b[39;00m j \u001b[38;5;129;01min\u001b[39;00m \u001b[38;5;28mrange\u001b[39m(numModels)] \u001b[38;5;28;01mfor\u001b[39;00m i \u001b[38;5;129;01min\u001b[39;00m \u001b[38;5;28mrange\u001b[39m(nFolds)]\n\u001b[1;32m--> 838\u001b[0m datasets \u001b[38;5;241m=\u001b[39m \u001b[38;5;28;43mself\u001b[39;49m\u001b[38;5;241;43m.\u001b[39;49m\u001b[43m_kFold\u001b[49m\u001b[43m(\u001b[49m\u001b[43mdataset\u001b[49m\u001b[43m)\u001b[49m\n\u001b[0;32m    839\u001b[0m \u001b[38;5;28;01mfor\u001b[39;00m i \u001b[38;5;129;01min\u001b[39;00m \u001b[38;5;28mrange\u001b[39m(nFolds):\n\u001b[0;32m    840\u001b[0m     validation \u001b[38;5;241m=\u001b[39m datasets[i][\u001b[38;5;241m1\u001b[39m]\u001b[38;5;241m.\u001b[39mcache()\n",
      "File \u001b[1;32mc:\\Users\\Kenneth\\AppData\\Local\\Programs\\Python\\Python310\\lib\\site-packages\\pyspark\\ml\\tuning.py:877\u001b[0m, in \u001b[0;36mCrossValidator._kFold\u001b[1;34m(self, dataset)\u001b[0m\n\u001b[0;32m    875\u001b[0m h \u001b[38;5;241m=\u001b[39m \u001b[38;5;241m1.0\u001b[39m \u001b[38;5;241m/\u001b[39m nFolds\n\u001b[0;32m    876\u001b[0m randCol \u001b[38;5;241m=\u001b[39m \u001b[38;5;28mself\u001b[39m\u001b[38;5;241m.\u001b[39muid \u001b[38;5;241m+\u001b[39m \u001b[38;5;124m\"\u001b[39m\u001b[38;5;124m_rand\u001b[39m\u001b[38;5;124m\"\u001b[39m\n\u001b[1;32m--> 877\u001b[0m df \u001b[38;5;241m=\u001b[39m dataset\u001b[38;5;241m.\u001b[39mselect(\u001b[38;5;124m\"\u001b[39m\u001b[38;5;124m*\u001b[39m\u001b[38;5;124m\"\u001b[39m, \u001b[43mrand\u001b[49m\u001b[43m(\u001b[49m\u001b[43mseed\u001b[49m\u001b[43m)\u001b[49m\u001b[38;5;241m.\u001b[39malias(randCol))\n\u001b[0;32m    878\u001b[0m \u001b[38;5;28;01mfor\u001b[39;00m i \u001b[38;5;129;01min\u001b[39;00m \u001b[38;5;28mrange\u001b[39m(nFolds):\n\u001b[0;32m    879\u001b[0m     validateLB \u001b[38;5;241m=\u001b[39m i \u001b[38;5;241m*\u001b[39m h\n",
      "File \u001b[1;32mc:\\Users\\Kenneth\\AppData\\Local\\Programs\\Python\\Python310\\lib\\site-packages\\pyspark\\sql\\utils.py:174\u001b[0m, in \u001b[0;36mtry_remote_functions.<locals>.wrapped\u001b[1;34m(*args, **kwargs)\u001b[0m\n\u001b[0;32m    172\u001b[0m     \u001b[38;5;28;01mreturn\u001b[39;00m \u001b[38;5;28mgetattr\u001b[39m(functions, f\u001b[38;5;241m.\u001b[39m\u001b[38;5;18m__name__\u001b[39m)(\u001b[38;5;241m*\u001b[39margs, \u001b[38;5;241m*\u001b[39m\u001b[38;5;241m*\u001b[39mkwargs)\n\u001b[0;32m    173\u001b[0m \u001b[38;5;28;01melse\u001b[39;00m:\n\u001b[1;32m--> 174\u001b[0m     \u001b[38;5;28;01mreturn\u001b[39;00m f(\u001b[38;5;241m*\u001b[39margs, \u001b[38;5;241m*\u001b[39m\u001b[38;5;241m*\u001b[39mkwargs)\n",
      "File \u001b[1;32mc:\\Users\\Kenneth\\AppData\\Local\\Programs\\Python\\Python310\\lib\\site-packages\\pyspark\\sql\\functions.py:4753\u001b[0m, in \u001b[0;36mrand\u001b[1;34m(seed)\u001b[0m\n\u001b[0;32m   4719\u001b[0m \u001b[38;5;250m\u001b[39m\u001b[38;5;124;03m\"\"\"Generates a random column with independent and identically distributed (i.i.d.) samples\u001b[39;00m\n\u001b[0;32m   4720\u001b[0m \u001b[38;5;124;03muniformly distributed in [0.0, 1.0).\u001b[39;00m\n\u001b[0;32m   4721\u001b[0m \n\u001b[1;32m   (...)\u001b[0m\n\u001b[0;32m   4750\u001b[0m \u001b[38;5;124;03m+---+------------------+\u001b[39;00m\n\u001b[0;32m   4751\u001b[0m \u001b[38;5;124;03m\"\"\"\u001b[39;00m\n\u001b[0;32m   4752\u001b[0m \u001b[38;5;28;01mif\u001b[39;00m seed \u001b[38;5;129;01mis\u001b[39;00m \u001b[38;5;129;01mnot\u001b[39;00m \u001b[38;5;28;01mNone\u001b[39;00m:\n\u001b[1;32m-> 4753\u001b[0m     \u001b[38;5;28;01mreturn\u001b[39;00m \u001b[43m_invoke_function\u001b[49m\u001b[43m(\u001b[49m\u001b[38;5;124;43m\"\u001b[39;49m\u001b[38;5;124;43mrand\u001b[39;49m\u001b[38;5;124;43m\"\u001b[39;49m\u001b[43m,\u001b[49m\u001b[43m \u001b[49m\u001b[43mseed\u001b[49m\u001b[43m)\u001b[49m\n\u001b[0;32m   4754\u001b[0m \u001b[38;5;28;01melse\u001b[39;00m:\n\u001b[0;32m   4755\u001b[0m     \u001b[38;5;28;01mreturn\u001b[39;00m _invoke_function(\u001b[38;5;124m\"\u001b[39m\u001b[38;5;124mrand\u001b[39m\u001b[38;5;124m\"\u001b[39m)\n",
      "File \u001b[1;32mc:\\Users\\Kenneth\\AppData\\Local\\Programs\\Python\\Python310\\lib\\site-packages\\pyspark\\sql\\functions.py:96\u001b[0m, in \u001b[0;36m_invoke_function\u001b[1;34m(name, *args)\u001b[0m\n\u001b[0;32m     91\u001b[0m \u001b[38;5;250m\u001b[39m\u001b[38;5;124;03m\"\"\"\u001b[39;00m\n\u001b[0;32m     92\u001b[0m \u001b[38;5;124;03mInvokes JVM function identified by name with args\u001b[39;00m\n\u001b[0;32m     93\u001b[0m \u001b[38;5;124;03mand wraps the result with :class:`~pyspark.sql.Column`.\u001b[39;00m\n\u001b[0;32m     94\u001b[0m \u001b[38;5;124;03m\"\"\"\u001b[39;00m\n\u001b[0;32m     95\u001b[0m \u001b[38;5;28;01massert\u001b[39;00m SparkContext\u001b[38;5;241m.\u001b[39m_active_spark_context \u001b[38;5;129;01mis\u001b[39;00m \u001b[38;5;129;01mnot\u001b[39;00m \u001b[38;5;28;01mNone\u001b[39;00m\n\u001b[1;32m---> 96\u001b[0m jf \u001b[38;5;241m=\u001b[39m \u001b[43m_get_jvm_function\u001b[49m\u001b[43m(\u001b[49m\u001b[43mname\u001b[49m\u001b[43m,\u001b[49m\u001b[43m \u001b[49m\u001b[43mSparkContext\u001b[49m\u001b[38;5;241;43m.\u001b[39;49m\u001b[43m_active_spark_context\u001b[49m\u001b[43m)\u001b[49m\n\u001b[0;32m     97\u001b[0m \u001b[38;5;28;01mreturn\u001b[39;00m Column(jf(\u001b[38;5;241m*\u001b[39margs))\n",
      "File \u001b[1;32mc:\\Users\\Kenneth\\AppData\\Local\\Programs\\Python\\Python310\\lib\\site-packages\\pyspark\\sql\\functions.py:87\u001b[0m, in \u001b[0;36m_get_jvm_function\u001b[1;34m(name, sc)\u001b[0m\n\u001b[0;32m     82\u001b[0m \u001b[38;5;250m\u001b[39m\u001b[38;5;124;03m\"\"\"\u001b[39;00m\n\u001b[0;32m     83\u001b[0m \u001b[38;5;124;03mRetrieves JVM function identified by name from\u001b[39;00m\n\u001b[0;32m     84\u001b[0m \u001b[38;5;124;03mJava gateway associated with sc.\u001b[39;00m\n\u001b[0;32m     85\u001b[0m \u001b[38;5;124;03m\"\"\"\u001b[39;00m\n\u001b[0;32m     86\u001b[0m \u001b[38;5;28;01massert\u001b[39;00m sc\u001b[38;5;241m.\u001b[39m_jvm \u001b[38;5;129;01mis\u001b[39;00m \u001b[38;5;129;01mnot\u001b[39;00m \u001b[38;5;28;01mNone\u001b[39;00m\n\u001b[1;32m---> 87\u001b[0m \u001b[38;5;28;01mreturn\u001b[39;00m \u001b[38;5;28mgetattr\u001b[39m(\u001b[43msc\u001b[49m\u001b[38;5;241;43m.\u001b[39;49m\u001b[43m_jvm\u001b[49m\u001b[38;5;241;43m.\u001b[39;49m\u001b[43mfunctions\u001b[49m, name)\n",
      "File \u001b[1;32mc:\\Users\\Kenneth\\AppData\\Local\\Programs\\Python\\Python310\\lib\\site-packages\\py4j\\java_gateway.py:1712\u001b[0m, in \u001b[0;36mJVMView.__getattr__\u001b[1;34m(self, name)\u001b[0m\n\u001b[0;32m   1709\u001b[0m \u001b[38;5;28;01mif\u001b[39;00m name \u001b[38;5;241m==\u001b[39m UserHelpAutoCompletion\u001b[38;5;241m.\u001b[39mKEY:\n\u001b[0;32m   1710\u001b[0m     \u001b[38;5;28;01mreturn\u001b[39;00m UserHelpAutoCompletion()\n\u001b[1;32m-> 1712\u001b[0m answer \u001b[38;5;241m=\u001b[39m \u001b[38;5;28;43mself\u001b[39;49m\u001b[38;5;241;43m.\u001b[39;49m\u001b[43m_gateway_client\u001b[49m\u001b[38;5;241;43m.\u001b[39;49m\u001b[43msend_command\u001b[49m\u001b[43m(\u001b[49m\n\u001b[0;32m   1713\u001b[0m \u001b[43m    \u001b[49m\u001b[43mproto\u001b[49m\u001b[38;5;241;43m.\u001b[39;49m\u001b[43mREFLECTION_COMMAND_NAME\u001b[49m\u001b[43m \u001b[49m\u001b[38;5;241;43m+\u001b[39;49m\n\u001b[0;32m   1714\u001b[0m \u001b[43m    \u001b[49m\u001b[43mproto\u001b[49m\u001b[38;5;241;43m.\u001b[39;49m\u001b[43mREFL_GET_UNKNOWN_SUB_COMMAND_NAME\u001b[49m\u001b[43m \u001b[49m\u001b[38;5;241;43m+\u001b[39;49m\u001b[43m \u001b[49m\u001b[43mname\u001b[49m\u001b[43m \u001b[49m\u001b[38;5;241;43m+\u001b[39;49m\u001b[43m \u001b[49m\u001b[38;5;124;43m\"\u001b[39;49m\u001b[38;5;130;43;01m\\n\u001b[39;49;00m\u001b[38;5;124;43m\"\u001b[39;49m\u001b[43m \u001b[49m\u001b[38;5;241;43m+\u001b[39;49m\u001b[43m \u001b[49m\u001b[38;5;28;43mself\u001b[39;49m\u001b[38;5;241;43m.\u001b[39;49m\u001b[43m_id\u001b[49m\u001b[43m \u001b[49m\u001b[38;5;241;43m+\u001b[39;49m\n\u001b[0;32m   1715\u001b[0m \u001b[43m    \u001b[49m\u001b[38;5;124;43m\"\u001b[39;49m\u001b[38;5;130;43;01m\\n\u001b[39;49;00m\u001b[38;5;124;43m\"\u001b[39;49m\u001b[43m \u001b[49m\u001b[38;5;241;43m+\u001b[39;49m\u001b[43m \u001b[49m\u001b[43mproto\u001b[49m\u001b[38;5;241;43m.\u001b[39;49m\u001b[43mEND_COMMAND_PART\u001b[49m\u001b[43m)\u001b[49m\n\u001b[0;32m   1716\u001b[0m \u001b[38;5;28;01mif\u001b[39;00m answer \u001b[38;5;241m==\u001b[39m proto\u001b[38;5;241m.\u001b[39mSUCCESS_PACKAGE:\n\u001b[0;32m   1717\u001b[0m     \u001b[38;5;28;01mreturn\u001b[39;00m JavaPackage(name, \u001b[38;5;28mself\u001b[39m\u001b[38;5;241m.\u001b[39m_gateway_client, jvm_id\u001b[38;5;241m=\u001b[39m\u001b[38;5;28mself\u001b[39m\u001b[38;5;241m.\u001b[39m_id)\n",
      "File \u001b[1;32mc:\\Users\\Kenneth\\AppData\\Local\\Programs\\Python\\Python310\\lib\\site-packages\\py4j\\java_gateway.py:1036\u001b[0m, in \u001b[0;36mGatewayClient.send_command\u001b[1;34m(self, command, retry, binary)\u001b[0m\n\u001b[0;32m   1015\u001b[0m \u001b[38;5;28;01mdef\u001b[39;00m\u001b[38;5;250m \u001b[39m\u001b[38;5;21msend_command\u001b[39m(\u001b[38;5;28mself\u001b[39m, command, retry\u001b[38;5;241m=\u001b[39m\u001b[38;5;28;01mTrue\u001b[39;00m, binary\u001b[38;5;241m=\u001b[39m\u001b[38;5;28;01mFalse\u001b[39;00m):\n\u001b[0;32m   1016\u001b[0m \u001b[38;5;250m    \u001b[39m\u001b[38;5;124;03m\"\"\"Sends a command to the JVM. This method is not intended to be\u001b[39;00m\n\u001b[0;32m   1017\u001b[0m \u001b[38;5;124;03m       called directly by Py4J users. It is usually called by\u001b[39;00m\n\u001b[0;32m   1018\u001b[0m \u001b[38;5;124;03m       :class:`JavaMember` instances.\u001b[39;00m\n\u001b[1;32m   (...)\u001b[0m\n\u001b[0;32m   1034\u001b[0m \u001b[38;5;124;03m     if `binary` is `True`.\u001b[39;00m\n\u001b[0;32m   1035\u001b[0m \u001b[38;5;124;03m    \"\"\"\u001b[39;00m\n\u001b[1;32m-> 1036\u001b[0m     connection \u001b[38;5;241m=\u001b[39m \u001b[38;5;28;43mself\u001b[39;49m\u001b[38;5;241;43m.\u001b[39;49m\u001b[43m_get_connection\u001b[49m\u001b[43m(\u001b[49m\u001b[43m)\u001b[49m\n\u001b[0;32m   1037\u001b[0m     \u001b[38;5;28;01mtry\u001b[39;00m:\n\u001b[0;32m   1038\u001b[0m         response \u001b[38;5;241m=\u001b[39m connection\u001b[38;5;241m.\u001b[39msend_command(command)\n",
      "File \u001b[1;32mc:\\Users\\Kenneth\\AppData\\Local\\Programs\\Python\\Python310\\lib\\site-packages\\py4j\\clientserver.py:284\u001b[0m, in \u001b[0;36mJavaClient._get_connection\u001b[1;34m(self)\u001b[0m\n\u001b[0;32m    281\u001b[0m     \u001b[38;5;28;01mpass\u001b[39;00m\n\u001b[0;32m    283\u001b[0m \u001b[38;5;28;01mif\u001b[39;00m connection \u001b[38;5;129;01mis\u001b[39;00m \u001b[38;5;28;01mNone\u001b[39;00m \u001b[38;5;129;01mor\u001b[39;00m connection\u001b[38;5;241m.\u001b[39msocket \u001b[38;5;129;01mis\u001b[39;00m \u001b[38;5;28;01mNone\u001b[39;00m:\n\u001b[1;32m--> 284\u001b[0m     connection \u001b[38;5;241m=\u001b[39m \u001b[38;5;28;43mself\u001b[39;49m\u001b[38;5;241;43m.\u001b[39;49m\u001b[43m_create_new_connection\u001b[49m\u001b[43m(\u001b[49m\u001b[43m)\u001b[49m\n\u001b[0;32m    285\u001b[0m \u001b[38;5;28;01mreturn\u001b[39;00m connection\n",
      "File \u001b[1;32mc:\\Users\\Kenneth\\AppData\\Local\\Programs\\Python\\Python310\\lib\\site-packages\\py4j\\clientserver.py:291\u001b[0m, in \u001b[0;36mJavaClient._create_new_connection\u001b[1;34m(self)\u001b[0m\n\u001b[0;32m    287\u001b[0m \u001b[38;5;28;01mdef\u001b[39;00m\u001b[38;5;250m \u001b[39m\u001b[38;5;21m_create_new_connection\u001b[39m(\u001b[38;5;28mself\u001b[39m):\n\u001b[0;32m    288\u001b[0m     connection \u001b[38;5;241m=\u001b[39m ClientServerConnection(\n\u001b[0;32m    289\u001b[0m         \u001b[38;5;28mself\u001b[39m\u001b[38;5;241m.\u001b[39mjava_parameters, \u001b[38;5;28mself\u001b[39m\u001b[38;5;241m.\u001b[39mpython_parameters,\n\u001b[0;32m    290\u001b[0m         \u001b[38;5;28mself\u001b[39m\u001b[38;5;241m.\u001b[39mgateway_property, \u001b[38;5;28mself\u001b[39m)\n\u001b[1;32m--> 291\u001b[0m     \u001b[43mconnection\u001b[49m\u001b[38;5;241;43m.\u001b[39;49m\u001b[43mconnect_to_java_server\u001b[49m\u001b[43m(\u001b[49m\u001b[43m)\u001b[49m\n\u001b[0;32m    292\u001b[0m     \u001b[38;5;28mself\u001b[39m\u001b[38;5;241m.\u001b[39mset_thread_connection(connection)\n\u001b[0;32m    293\u001b[0m     \u001b[38;5;28;01mreturn\u001b[39;00m connection\n",
      "File \u001b[1;32mc:\\Users\\Kenneth\\AppData\\Local\\Programs\\Python\\Python310\\lib\\site-packages\\py4j\\clientserver.py:438\u001b[0m, in \u001b[0;36mClientServerConnection.connect_to_java_server\u001b[1;34m(self)\u001b[0m\n\u001b[0;32m    435\u001b[0m \u001b[38;5;28;01mif\u001b[39;00m \u001b[38;5;28mself\u001b[39m\u001b[38;5;241m.\u001b[39mssl_context:\n\u001b[0;32m    436\u001b[0m     \u001b[38;5;28mself\u001b[39m\u001b[38;5;241m.\u001b[39msocket \u001b[38;5;241m=\u001b[39m \u001b[38;5;28mself\u001b[39m\u001b[38;5;241m.\u001b[39mssl_context\u001b[38;5;241m.\u001b[39mwrap_socket(\n\u001b[0;32m    437\u001b[0m         \u001b[38;5;28mself\u001b[39m\u001b[38;5;241m.\u001b[39msocket, server_hostname\u001b[38;5;241m=\u001b[39m\u001b[38;5;28mself\u001b[39m\u001b[38;5;241m.\u001b[39mjava_address)\n\u001b[1;32m--> 438\u001b[0m \u001b[38;5;28;43mself\u001b[39;49m\u001b[38;5;241;43m.\u001b[39;49m\u001b[43msocket\u001b[49m\u001b[38;5;241;43m.\u001b[39;49m\u001b[43mconnect\u001b[49m\u001b[43m(\u001b[49m\u001b[43m(\u001b[49m\u001b[38;5;28;43mself\u001b[39;49m\u001b[38;5;241;43m.\u001b[39;49m\u001b[43mjava_address\u001b[49m\u001b[43m,\u001b[49m\u001b[43m \u001b[49m\u001b[38;5;28;43mself\u001b[39;49m\u001b[38;5;241;43m.\u001b[39;49m\u001b[43mjava_port\u001b[49m\u001b[43m)\u001b[49m\u001b[43m)\u001b[49m\n\u001b[0;32m    439\u001b[0m \u001b[38;5;28mself\u001b[39m\u001b[38;5;241m.\u001b[39mstream \u001b[38;5;241m=\u001b[39m \u001b[38;5;28mself\u001b[39m\u001b[38;5;241m.\u001b[39msocket\u001b[38;5;241m.\u001b[39mmakefile(\u001b[38;5;124m\"\u001b[39m\u001b[38;5;124mrb\u001b[39m\u001b[38;5;124m\"\u001b[39m)\n\u001b[0;32m    440\u001b[0m \u001b[38;5;28mself\u001b[39m\u001b[38;5;241m.\u001b[39mis_connected \u001b[38;5;241m=\u001b[39m \u001b[38;5;28;01mTrue\u001b[39;00m\n",
      "\u001b[1;31mConnectionRefusedError\u001b[0m: [WinError 10061] No connection could be made because the target machine actively refused it"
     ]
    }
   ],
   "source": [
    "from pyspark.ml.tuning import ParamGridBuilder, CrossValidator\n",
    "from pyspark.ml.evaluation import MulticlassClassificationEvaluator\n",
    "from pyspark.ml.classification import MultilayerPerceptronClassifier\n",
    "from pyspark.sql import functions as F\n",
    "\n",
    "paramGrid = ParamGridBuilder() \\\n",
    "    .addGrid(mlp.layers, [\n",
    "        [input_size, 32, 16, 2]\n",
    "    ]) \\\n",
    "    .addGrid(mlp.blockSize, [64, 128]) \\\n",
    "    .build()\n",
    "\n",
    "cv = CrossValidator(\n",
    "    estimator=mlp,\n",
    "    estimatorParamMaps=paramGrid,\n",
    "    evaluator=evaluator,\n",
    "    numFolds=3,\n",
    "    parallelism=1\n",
    ")\n",
    "\n",
    "cv_model = cv.fit(train_df)\n",
    "tuned_predictions = cv_model.bestModel.transform(test_df)\n",
    "\n",
    "tuned_accuracy = evaluator.evaluate(tuned_predictions)\n",
    "print(f\"Tuned MLP Accuracy: {tuned_accuracy:.4f}\")\n",
    "\n",
    "tuned_predictions.select(\"label\", \"label_index\", \"probability\", \"prediction\").show(5, truncate=False)"
   ]
  },
  {
   "cell_type": "markdown",
   "metadata": {
    "application/vnd.databricks.v1+cell": {
     "cellMetadata": {},
     "inputWidgets": {},
     "nuid": "2745659a-e466-463c-8ffd-8438525b089d",
     "showTitle": false,
     "tableResultSettingsMap": {},
     "title": ""
    },
    "id": "O_f4FngJ5tOD"
   },
   "source": [
    "# Hyperparameter Tuning & Cross-Validation"
   ]
  },
  {
   "cell_type": "code",
   "execution_count": 0,
   "metadata": {
    "application/vnd.databricks.v1+cell": {
     "cellMetadata": {},
     "inputWidgets": {},
     "nuid": "b94701bd-edd8-4657-b039-c3bac6aad0fc",
     "showTitle": false,
     "tableResultSettingsMap": {},
     "title": ""
    },
    "id": "MHoLi5yvNHjz"
   },
   "outputs": [],
   "source": [
    "# to be done"
   ]
  },
  {
   "cell_type": "markdown",
   "metadata": {
    "application/vnd.databricks.v1+cell": {
     "cellMetadata": {},
     "inputWidgets": {},
     "nuid": "8ff4bec4-c10d-4b3e-9bbb-47c311d67481",
     "showTitle": false,
     "tableResultSettingsMap": {},
     "title": ""
    },
    "id": "sVSpNYqJ52bF"
   },
   "source": [
    "# Model Comparison"
   ]
  },
  {
   "cell_type": "markdown",
   "metadata": {
    "application/vnd.databricks.v1+cell": {
     "cellMetadata": {},
     "inputWidgets": {},
     "nuid": "52a6158a-6cda-4227-8d3e-8d84445fab67",
     "showTitle": false,
     "tableResultSettingsMap": {},
     "title": ""
    },
    "id": "phT0fenb56Nq"
   },
   "source": [
    "write interpretations here"
   ]
  }
 ],
 "metadata": {
  "application/vnd.databricks.v1+notebook": {
   "computePreferences": null,
   "dashboards": [],
   "environmentMetadata": null,
   "inputWidgetPreferences": null,
   "language": "python",
   "notebookMetadata": {
    "pythonIndentUnit": 4
   },
   "notebookName": "V_2_BT4221_Group_Project",
   "widgets": {}
  },
  "colab": {
   "provenance": [],
   "toc_visible": true
  },
  "kernelspec": {
   "display_name": "Python 3",
   "language": "python",
   "name": "python3"
  },
  "language_info": {
   "codemirror_mode": {
    "name": "ipython",
    "version": 3
   },
   "file_extension": ".py",
   "mimetype": "text/x-python",
   "name": "python",
   "nbconvert_exporter": "python",
   "pygments_lexer": "ipython3",
   "version": "3.11.9"
  }
 },
 "nbformat": 4,
 "nbformat_minor": 0
}
