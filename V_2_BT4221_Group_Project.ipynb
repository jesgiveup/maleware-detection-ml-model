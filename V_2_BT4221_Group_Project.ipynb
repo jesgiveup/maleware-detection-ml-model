{
 "cells": [
  {
   "cell_type": "markdown",
   "metadata": {
    "application/vnd.databricks.v1+cell": {
     "cellMetadata": {},
     "inputWidgets": {},
     "nuid": "ab7fffc2-5b46-4c38-aed0-418e281837ee",
     "showTitle": false,
     "tableResultSettingsMap": {},
     "title": ""
    },
    "id": "MuHMusOPE9ag"
   },
   "source": [
    "# Load Dataset"
   ]
  },
  {
   "cell_type": "code",
   "execution_count": 0,
   "metadata": {
    "application/vnd.databricks.v1+cell": {
     "cellMetadata": {},
     "inputWidgets": {},
     "nuid": "3015a722-fa1d-45bc-8909-0c1956f120a7",
     "showTitle": false,
     "tableResultSettingsMap": {},
     "title": ""
    },
    "colab": {
     "base_uri": "https://localhost:8080/"
    },
    "id": "U9d8CGDIJMeN",
    "outputId": "6e375b9c-f67a-494c-9065-176e66108b1b"
   },
   "outputs": [
    {
     "name": "stdout",
     "output_type": "stream",
     "text": [
      "Requirement already satisfied: pyspark in c:\\users\\jessi\\desktop\\bt4221\\maleware-detection-ml-model\\.venv\\lib\\site-packages (3.5.5)\n",
      "Requirement already satisfied: py4j==0.10.9.7 in c:\\users\\jessi\\desktop\\bt4221\\maleware-detection-ml-model\\.venv\\lib\\site-packages (from pyspark) (0.10.9.7)\n",
      "Note: you may need to restart the kernel to use updated packages.\n",
      "Requirement already satisfied: seaborn in c:\\users\\jessi\\desktop\\bt4221\\maleware-detection-ml-model\\.venv\\lib\\site-packages (0.13.2)\n",
      "Requirement already satisfied: numpy!=1.24.0,>=1.20 in c:\\users\\jessi\\desktop\\bt4221\\maleware-detection-ml-model\\.venv\\lib\\site-packages (from seaborn) (2.2.4)\n",
      "Requirement already satisfied: pandas>=1.2 in c:\\users\\jessi\\desktop\\bt4221\\maleware-detection-ml-model\\.venv\\lib\\site-packages (from seaborn) (2.2.3)\n",
      "Requirement already satisfied: matplotlib!=3.6.1,>=3.4 in c:\\users\\jessi\\desktop\\bt4221\\maleware-detection-ml-model\\.venv\\lib\\site-packages (from seaborn) (3.10.1)\n",
      "Requirement already satisfied: contourpy>=1.0.1 in c:\\users\\jessi\\desktop\\bt4221\\maleware-detection-ml-model\\.venv\\lib\\site-packages (from matplotlib!=3.6.1,>=3.4->seaborn) (1.3.1)\n",
      "Requirement already satisfied: cycler>=0.10 in c:\\users\\jessi\\desktop\\bt4221\\maleware-detection-ml-model\\.venv\\lib\\site-packages (from matplotlib!=3.6.1,>=3.4->seaborn) (0.12.1)\n",
      "Requirement already satisfied: fonttools>=4.22.0 in c:\\users\\jessi\\desktop\\bt4221\\maleware-detection-ml-model\\.venv\\lib\\site-packages (from matplotlib!=3.6.1,>=3.4->seaborn) (4.57.0)\n",
      "Requirement already satisfied: kiwisolver>=1.3.1 in c:\\users\\jessi\\desktop\\bt4221\\maleware-detection-ml-model\\.venv\\lib\\site-packages (from matplotlib!=3.6.1,>=3.4->seaborn) (1.4.8)\n",
      "Requirement already satisfied: packaging>=20.0 in c:\\users\\jessi\\desktop\\bt4221\\maleware-detection-ml-model\\.venv\\lib\\site-packages (from matplotlib!=3.6.1,>=3.4->seaborn) (24.2)\n",
      "Requirement already satisfied: pillow>=8 in c:\\users\\jessi\\desktop\\bt4221\\maleware-detection-ml-model\\.venv\\lib\\site-packages (from matplotlib!=3.6.1,>=3.4->seaborn) (11.1.0)\n",
      "Requirement already satisfied: pyparsing>=2.3.1 in c:\\users\\jessi\\desktop\\bt4221\\maleware-detection-ml-model\\.venv\\lib\\site-packages (from matplotlib!=3.6.1,>=3.4->seaborn) (3.2.3)\n",
      "Requirement already satisfied: python-dateutil>=2.7 in c:\\users\\jessi\\desktop\\bt4221\\maleware-detection-ml-model\\.venv\\lib\\site-packages (from matplotlib!=3.6.1,>=3.4->seaborn) (2.9.0.post0)\n",
      "Requirement already satisfied: pytz>=2020.1 in c:\\users\\jessi\\desktop\\bt4221\\maleware-detection-ml-model\\.venv\\lib\\site-packages (from pandas>=1.2->seaborn) (2025.2)\n",
      "Requirement already satisfied: tzdata>=2022.7 in c:\\users\\jessi\\desktop\\bt4221\\maleware-detection-ml-model\\.venv\\lib\\site-packages (from pandas>=1.2->seaborn) (2025.2)\n",
      "Requirement already satisfied: six>=1.5 in c:\\users\\jessi\\desktop\\bt4221\\maleware-detection-ml-model\\.venv\\lib\\site-packages (from python-dateutil>=2.7->matplotlib!=3.6.1,>=3.4->seaborn) (1.17.0)\n",
      "Note: you may need to restart the kernel to use updated packages.\n",
      "Requirement already satisfied: seaborn in c:\\users\\jessi\\desktop\\bt4221\\maleware-detection-ml-model\\.venv\\lib\\site-packages (0.13.2)\n",
      "Requirement already satisfied: matplotlib in c:\\users\\jessi\\desktop\\bt4221\\maleware-detection-ml-model\\.venv\\lib\\site-packages (3.10.1)\n",
      "Requirement already satisfied: pandas in c:\\users\\jessi\\desktop\\bt4221\\maleware-detection-ml-model\\.venv\\lib\\site-packages (2.2.3)\n",
      "Requirement already satisfied: numpy in c:\\users\\jessi\\desktop\\bt4221\\maleware-detection-ml-model\\.venv\\lib\\site-packages (2.2.4)\n",
      "Requirement already satisfied: contourpy>=1.0.1 in c:\\users\\jessi\\desktop\\bt4221\\maleware-detection-ml-model\\.venv\\lib\\site-packages (from matplotlib) (1.3.1)\n",
      "Requirement already satisfied: cycler>=0.10 in c:\\users\\jessi\\desktop\\bt4221\\maleware-detection-ml-model\\.venv\\lib\\site-packages (from matplotlib) (0.12.1)\n",
      "Requirement already satisfied: fonttools>=4.22.0 in c:\\users\\jessi\\desktop\\bt4221\\maleware-detection-ml-model\\.venv\\lib\\site-packages (from matplotlib) (4.57.0)\n",
      "Requirement already satisfied: kiwisolver>=1.3.1 in c:\\users\\jessi\\desktop\\bt4221\\maleware-detection-ml-model\\.venv\\lib\\site-packages (from matplotlib) (1.4.8)\n",
      "Requirement already satisfied: packaging>=20.0 in c:\\users\\jessi\\desktop\\bt4221\\maleware-detection-ml-model\\.venv\\lib\\site-packages (from matplotlib) (24.2)\n",
      "Requirement already satisfied: pillow>=8 in c:\\users\\jessi\\desktop\\bt4221\\maleware-detection-ml-model\\.venv\\lib\\site-packages (from matplotlib) (11.1.0)\n",
      "Requirement already satisfied: pyparsing>=2.3.1 in c:\\users\\jessi\\desktop\\bt4221\\maleware-detection-ml-model\\.venv\\lib\\site-packages (from matplotlib) (3.2.3)\n",
      "Requirement already satisfied: python-dateutil>=2.7 in c:\\users\\jessi\\desktop\\bt4221\\maleware-detection-ml-model\\.venv\\lib\\site-packages (from matplotlib) (2.9.0.post0)\n",
      "Requirement already satisfied: pytz>=2020.1 in c:\\users\\jessi\\desktop\\bt4221\\maleware-detection-ml-model\\.venv\\lib\\site-packages (from pandas) (2025.2)\n",
      "Requirement already satisfied: tzdata>=2022.7 in c:\\users\\jessi\\desktop\\bt4221\\maleware-detection-ml-model\\.venv\\lib\\site-packages (from pandas) (2025.2)\n",
      "Requirement already satisfied: six>=1.5 in c:\\users\\jessi\\desktop\\bt4221\\maleware-detection-ml-model\\.venv\\lib\\site-packages (from python-dateutil>=2.7->matplotlib) (1.17.0)\n",
      "Note: you may need to restart the kernel to use updated packages.\n"
     ]
    }
   ],
   "source": [
    "%pip install pyspark\n",
    "%pip install seaborn\n",
    "%pip install seaborn matplotlib pandas numpy\n"
   ]
  },
  {
   "cell_type": "code",
   "execution_count": 0,
   "metadata": {
    "application/vnd.databricks.v1+cell": {
     "cellMetadata": {
      "byteLimit": 2048000,
      "rowLimit": 10000
     },
     "inputWidgets": {},
     "nuid": "de144ed6-9b78-43a3-9fc1-f501d3811db2",
     "showTitle": false,
     "tableResultSettingsMap": {},
     "title": ""
    },
    "id": "wza_1GzTtyur"
   },
   "outputs": [
    {
     "data": {
      "application/vnd.databricks.v1+bamboolib_hint": "{\"pd.DataFrames\": [], \"version\": \"0.0.1\"}",
      "text/plain": []
     },
     "metadata": {},
     "output_type": "display_data"
    }
   ],
   "source": [
    "# imports\n",
    "from pyspark.sql import SparkSession\n",
    "from pyspark.sql import functions as F\n",
    "from pyspark.sql.functions import split, col, count, when, sum, expr, udf\n",
    "from pyspark.sql.types import FloatType, DoubleType\n",
    "from pyspark.sql.window import Window\n",
    "from pyspark.ml.clustering import KMeans\n",
    "from pyspark.ml.feature import VectorAssembler, StandardScaler\n",
    "from pyspark.ml import Pipeline\n",
    "\n",
    "import math\n",
    "import seaborn as sns\n",
    "import matplotlib.pyplot as plt\n",
    "import pandas as pd\n",
    "import numpy as np\n",
    "\n",
    "# from google.colab import files"
   ]
  },
  {
   "cell_type": "code",
   "execution_count": 0,
   "metadata": {
    "application/vnd.databricks.v1+cell": {
     "cellMetadata": {},
     "inputWidgets": {},
     "nuid": "6cac98d3-37cc-424a-b4d7-ef7183cebdaa",
     "showTitle": false,
     "tableResultSettingsMap": {},
     "title": ""
    }
   },
   "outputs": [],
   "source": [
    "import os\n",
    "os.environ[\"JAVA_HOME\"] = \"C:\\\\Program Files\\\\Eclipse Adoptium\\\\jdk-8.0.442.6-hotspot\"\n"
   ]
  },
  {
   "cell_type": "code",
   "execution_count": 0,
   "metadata": {
    "application/vnd.databricks.v1+cell": {
     "cellMetadata": {
      "byteLimit": 2048000,
      "rowLimit": 10000
     },
     "inputWidgets": {},
     "nuid": "515b6157-14c8-4c9e-a73c-5d9f995ce26c",
     "showTitle": false,
     "tableResultSettingsMap": {},
     "title": ""
    },
    "colab": {
     "base_uri": "https://localhost:8080/"
    },
    "id": "bHvifmtp9W8I",
    "outputId": "a1fd5426-fc7b-4d24-ee69-e9a5f0644a1c"
   },
   "outputs": [
    {
     "name": "stdout",
     "output_type": "stream",
     "text": [
      "🔄 Using existing Spark session.\n"
     ]
    }
   ],
   "source": [
    "from pyspark.sql import SparkSession\n",
    "\n",
    "# Check if a Spark session already exists\n",
    "spark = SparkSession.getActiveSession()\n",
    "if spark is None:\n",
    "    spark = SparkSession.builder.appName(\"NetTraffic\").getOrCreate()\n",
    "    print(\"✅ Spark session created.\")\n",
    "else:\n",
    "    print(\"🔄 Using existing Spark session.\")"
   ]
  },
  {
   "cell_type": "code",
   "execution_count": 0,
   "metadata": {
    "application/vnd.databricks.v1+cell": {
     "cellMetadata": {
      "byteLimit": 2048000,
      "rowLimit": 10000
     },
     "inputWidgets": {},
     "nuid": "2c2c47ad-ebf3-4023-a566-911247bc3ba5",
     "showTitle": false,
     "tableResultSettingsMap": {},
     "title": ""
    }
   },
   "outputs": [],
   "source": [
    "# Path to the file (same folder as notebook)\n",
    "file_path = \"CTU_IoT_Malware_Capture_35_1conn_log_labeled.csv\" # change name if needed\n",
    "\n",
    "# Load the CSV into a Spark DataFrame\n",
    "df = spark.read.csv(file_path, header=True, inferSchema=True, sep=\"|\")"
   ]
  },
  {
   "cell_type": "markdown",
   "metadata": {
    "application/vnd.databricks.v1+cell": {
     "cellMetadata": {},
     "inputWidgets": {},
     "nuid": "ae4cea10-5ca9-4525-9e60-8bd65021b416",
     "showTitle": false,
     "tableResultSettingsMap": {},
     "title": ""
    },
    "id": "7imKjAzND901"
   },
   "source": [
    "# Light Data Exploration"
   ]
  },
  {
   "cell_type": "markdown",
   "metadata": {
    "application/vnd.databricks.v1+cell": {
     "cellMetadata": {},
     "inputWidgets": {},
     "nuid": "8a4c36ce-3941-44cd-8111-9855ca3178f5",
     "showTitle": false,
     "tableResultSettingsMap": {},
     "title": ""
    },
    "id": "KJExQrJbDw9S"
   },
   "source": [
    "## Display first 5 rows in dataset"
   ]
  },
  {
   "cell_type": "code",
   "execution_count": 0,
   "metadata": {
    "application/vnd.databricks.v1+cell": {
     "cellMetadata": {},
     "inputWidgets": {},
     "nuid": "3f94f75d-65f7-493c-bda0-bb9f42713118",
     "showTitle": false,
     "tableResultSettingsMap": {},
     "title": ""
    },
    "colab": {
     "base_uri": "https://localhost:8080/"
    },
    "collapsed": true,
    "id": "cTmZ3Gygzz4S",
    "outputId": "b967f68f-98ca-4d05-fda5-fd8dfe52cca1"
   },
   "outputs": [
    {
     "name": "stdout",
     "output_type": "stream",
     "text": [
      "+-------------------+------------------+-------------+---------+--------------+---------+-----+-------+--------+----------+----------+----------+----------+----------+------------+-------+---------+-------------+---------+-------------+--------------+---------------+--------------+\n",
      "|                 ts|               uid|    id.orig_h|id.orig_p|     id.resp_h|id.resp_p|proto|service|duration|orig_bytes|resp_bytes|conn_state|local_orig|local_resp|missed_bytes|history|orig_pkts|orig_ip_bytes|resp_pkts|resp_ip_bytes|tunnel_parents|          label|detailed-label|\n",
      "+-------------------+------------------+-------------+---------+--------------+---------+-----+-------+--------+----------+----------+----------+----------+----------+------------+-------+---------+-------------+---------+-------------+--------------+---------------+--------------+\n",
      "|1.545402842863612E9|CdNmOg26ZIaBRzPvWj|192.168.1.196|  59932.0|104.248.160.24|     80.0|  tcp|      -|3.097754|         0|         0|        S0|         -|         -|         0.0|      S|      3.0|        180.0|      0.0|          0.0|             -|Malicious   C&C|          NULL|\n",
      "|1.545402850041294E9|CgzGV333k9WCximeu8|192.168.1.196|  59932.0|104.248.160.24|     80.0|  tcp|      -|       -|         -|         -|        S0|         -|         -|         0.0|      S|      1.0|         60.0|      0.0|          0.0|             -|Malicious   C&C|          NULL|\n",
      "|1.545402858441479E9|CLm5Pd3ZnqmYVjrZ44|192.168.1.196|  59932.0|104.248.160.24|     80.0|  tcp|      -|       -|         -|         -|        S0|         -|         -|         0.0|      S|      1.0|         60.0|      0.0|          0.0|             -|Malicious   C&C|          NULL|\n",
      "|1.545402853913069E9|CDn2pd1rDD1lCMXAia|192.168.1.196|  35883.0|   192.168.1.1|     53.0|  udp|    dns|5.005148|        78|         0|        S0|         -|         -|         0.0|      D|      2.0|        134.0|      0.0|          0.0|             -|         Benign|             -|\n",
      "| 1.54540284390254E9|C1NKkV3tB4rImzbpDj|192.168.1.196|  43531.0|   192.168.1.1|     53.0|  udp|    dns|5.005145|        78|         0|        S0|         -|         -|         0.0|      D|      2.0|        134.0|      0.0|          0.0|             -|         Benign|             -|\n",
      "+-------------------+------------------+-------------+---------+--------------+---------+-----+-------+--------+----------+----------+----------+----------+----------+------------+-------+---------+-------------+---------+-------------+--------------+---------------+--------------+\n",
      "only showing top 5 rows\n",
      "\n"
     ]
    }
   ],
   "source": [
    "# print(df_split.head())\n",
    "# Show first 5 rows\n",
    "df.show(5)"
   ]
  },
  {
   "cell_type": "markdown",
   "metadata": {
    "application/vnd.databricks.v1+cell": {
     "cellMetadata": {},
     "inputWidgets": {},
     "nuid": "7ddb7214-867b-4ec8-874d-e68fa9b23691",
     "showTitle": false,
     "tableResultSettingsMap": {},
     "title": ""
    },
    "id": "LlXAE87KCnu9"
   },
   "source": [
    "## Show schema to identify column types"
   ]
  },
  {
   "cell_type": "code",
   "execution_count": 0,
   "metadata": {
    "application/vnd.databricks.v1+cell": {
     "cellMetadata": {},
     "inputWidgets": {},
     "nuid": "8b6c1d18-018f-4435-8bda-b942fa85d57f",
     "showTitle": false,
     "tableResultSettingsMap": {},
     "title": ""
    },
    "colab": {
     "base_uri": "https://localhost:8080/"
    },
    "collapsed": true,
    "id": "ocADM6cYz2kk",
    "outputId": "52e67fb5-554c-4b7f-a1ba-105e697feebc"
   },
   "outputs": [
    {
     "name": "stdout",
     "output_type": "stream",
     "text": [
      "root\n",
      " |-- ts: double (nullable = true)\n",
      " |-- uid: string (nullable = true)\n",
      " |-- id.orig_h: string (nullable = true)\n",
      " |-- id.orig_p: double (nullable = true)\n",
      " |-- id.resp_h: string (nullable = true)\n",
      " |-- id.resp_p: double (nullable = true)\n",
      " |-- proto: string (nullable = true)\n",
      " |-- service: string (nullable = true)\n",
      " |-- duration: string (nullable = true)\n",
      " |-- orig_bytes: string (nullable = true)\n",
      " |-- resp_bytes: string (nullable = true)\n",
      " |-- conn_state: string (nullable = true)\n",
      " |-- local_orig: string (nullable = true)\n",
      " |-- local_resp: string (nullable = true)\n",
      " |-- missed_bytes: double (nullable = true)\n",
      " |-- history: string (nullable = true)\n",
      " |-- orig_pkts: double (nullable = true)\n",
      " |-- orig_ip_bytes: double (nullable = true)\n",
      " |-- resp_pkts: double (nullable = true)\n",
      " |-- resp_ip_bytes: double (nullable = true)\n",
      " |-- tunnel_parents: string (nullable = true)\n",
      " |-- label: string (nullable = true)\n",
      " |-- detailed-label: string (nullable = true)\n",
      "\n"
     ]
    }
   ],
   "source": [
    "df.printSchema()"
   ]
  },
  {
   "cell_type": "markdown",
   "metadata": {
    "application/vnd.databricks.v1+cell": {
     "cellMetadata": {},
     "inputWidgets": {},
     "nuid": "7e24656b-aa19-4bb9-9030-65e5d23f7caa",
     "showTitle": false,
     "tableResultSettingsMap": {},
     "title": ""
    }
   },
   "source": [
    "## Check number of rows and columns"
   ]
  },
  {
   "cell_type": "code",
   "execution_count": 0,
   "metadata": {
    "application/vnd.databricks.v1+cell": {
     "cellMetadata": {},
     "inputWidgets": {},
     "nuid": "bba600aa-df94-42c2-9599-2371b84a236c",
     "showTitle": false,
     "tableResultSettingsMap": {},
     "title": ""
    }
   },
   "outputs": [
    {
     "name": "stdout",
     "output_type": "stream",
     "text": [
      "Number of rows: 10447787\n",
      "Number of columns: 23\n"
     ]
    }
   ],
   "source": [
    "num_rows = df.count()\n",
    "print(f\"Number of rows: {num_rows}\")\n",
    "num_columns = len(df.columns)\n",
    "print(f\"Number of columns: {num_columns}\")"
   ]
  },
  {
   "cell_type": "markdown",
   "metadata": {
    "application/vnd.databricks.v1+cell": {
     "cellMetadata": {},
     "inputWidgets": {},
     "nuid": "b2c493bc-4eee-4f8c-997a-7db6d3ddd96a",
     "showTitle": false,
     "tableResultSettingsMap": {},
     "title": ""
    }
   },
   "source": [
    "# Data Cleaning"
   ]
  },
  {
   "cell_type": "markdown",
   "metadata": {
    "application/vnd.databricks.v1+cell": {
     "cellMetadata": {},
     "inputWidgets": {},
     "nuid": "77968585-a0ea-4590-ae11-59c4eb3ec918",
     "showTitle": false,
     "tableResultSettingsMap": {},
     "title": ""
    },
    "id": "oE2c8Gp4RIIM"
   },
   "source": [
    "## Cast '-' to NaN change column names so that Spark will not misinterpret them"
   ]
  },
  {
   "cell_type": "code",
   "execution_count": 0,
   "metadata": {
    "application/vnd.databricks.v1+cell": {
     "cellMetadata": {
      "byteLimit": 2048000,
      "rowLimit": 10000
     },
     "inputWidgets": {},
     "nuid": "09fc8c04-bd82-46c0-9316-f1a03c7f65cf",
     "showTitle": false,
     "tableResultSettingsMap": {},
     "title": ""
    },
    "colab": {
     "base_uri": "https://localhost:8080/"
    },
    "collapsed": true,
    "id": "GUlLAcOpRITz",
    "outputId": "2aa93cba-8a1e-41eb-b1fc-58f440aa63a2"
   },
   "outputs": [
    {
     "name": "stdout",
     "output_type": "stream",
     "text": [
      "+-------------------+------------------+-------------+---------+--------------+---------+-----+-------+--------+----------+----------+----------+----------+----------+------------+-------+---------+-------------+---------+-------------+--------------+---------------+--------------+\n",
      "|                 ts|               uid|    id_orig_h|id_orig_p|     id_resp_h|id_resp_p|proto|service|duration|orig_bytes|resp_bytes|conn_state|local_orig|local_resp|missed_bytes|history|orig_pkts|orig_ip_bytes|resp_pkts|resp_ip_bytes|tunnel_parents|          label|detailed-label|\n",
      "+-------------------+------------------+-------------+---------+--------------+---------+-----+-------+--------+----------+----------+----------+----------+----------+------------+-------+---------+-------------+---------+-------------+--------------+---------------+--------------+\n",
      "|1.545402842863612E9|CdNmOg26ZIaBRzPvWj|192.168.1.196|  59932.0|104.248.160.24|     80.0|  tcp|   null|3.097754|         0|         0|        S0|      null|      null|         0.0|      S|      3.0|        180.0|      0.0|          0.0|          null|Malicious   C&C|          null|\n",
      "|1.545402850041294E9|CgzGV333k9WCximeu8|192.168.1.196|  59932.0|104.248.160.24|     80.0|  tcp|   null|    null|      null|      null|        S0|      null|      null|         0.0|      S|      1.0|         60.0|      0.0|          0.0|          null|Malicious   C&C|          null|\n",
      "|1.545402858441479E9|CLm5Pd3ZnqmYVjrZ44|192.168.1.196|  59932.0|104.248.160.24|     80.0|  tcp|   null|    null|      null|      null|        S0|      null|      null|         0.0|      S|      1.0|         60.0|      0.0|          0.0|          null|Malicious   C&C|          null|\n",
      "|1.545402853913069E9|CDn2pd1rDD1lCMXAia|192.168.1.196|  35883.0|   192.168.1.1|     53.0|  udp|    dns|5.005148|        78|         0|        S0|      null|      null|         0.0|      D|      2.0|        134.0|      0.0|          0.0|          null|         Benign|          null|\n",
      "| 1.54540284390254E9|C1NKkV3tB4rImzbpDj|192.168.1.196|  43531.0|   192.168.1.1|     53.0|  udp|    dns|5.005145|        78|         0|        S0|      null|      null|         0.0|      D|      2.0|        134.0|      0.0|          0.0|          null|         Benign|          null|\n",
      "+-------------------+------------------+-------------+---------+--------------+---------+-----+-------+--------+----------+----------+----------+----------+----------+------------+-------+---------+-------------+---------+-------------+--------------+---------------+--------------+\n",
      "only showing top 5 rows\n",
      "\n"
     ]
    }
   ],
   "source": [
    "from pyspark.sql.functions import col, when\n",
    "\n",
    "for column in df.columns:\n",
    "    df = df.withColumn(column, when(col(f\"`{column}`\") == \"-\", None).otherwise(col(f\"`{column}`\")))\n",
    "\n",
    "# Rename columns to replace dots with underscores\n",
    "new_column_names = [c.replace(\".\", \"_\") for c in df.columns]\n",
    "df = df.toDF(*new_column_names)\n",
    "\n",
    "# Check\n",
    "df.show(5)"
   ]
  },
  {
   "cell_type": "markdown",
   "metadata": {
    "application/vnd.databricks.v1+cell": {
     "cellMetadata": {},
     "inputWidgets": {},
     "nuid": "d3c757cd-2df2-495e-8119-3bb5ffc9e795",
     "showTitle": false,
     "tableResultSettingsMap": {},
     "title": ""
    }
   },
   "source": [
    "## Dealing with missing values"
   ]
  },
  {
   "cell_type": "code",
   "execution_count": 0,
   "metadata": {
    "application/vnd.databricks.v1+cell": {
     "cellMetadata": {
      "byteLimit": 2048000,
      "rowLimit": 10000
     },
     "inputWidgets": {},
     "nuid": "392bb792-a111-49fd-8d9b-aefe9e058da6",
     "showTitle": false,
     "tableResultSettingsMap": {},
     "title": ""
    }
   },
   "outputs": [
    {
     "data": {
      "text/html": [
       "<style scoped>\n",
       "  .table-result-container {\n",
       "    max-height: 300px;\n",
       "    overflow: auto;\n",
       "  }\n",
       "  table, th, td {\n",
       "    border: 1px solid black;\n",
       "    border-collapse: collapse;\n",
       "  }\n",
       "  th, td {\n",
       "    padding: 5px;\n",
       "  }\n",
       "  th {\n",
       "    text-align: left;\n",
       "  }\n",
       "</style><div class='table-result-container'><table class='table-result'><thead style='background-color: white'><tr><th>Count</th></tr></thead><tbody><tr><td>0</td></tr><tr><td>0</td></tr><tr><td>0</td></tr><tr><td>0</td></tr><tr><td>0</td></tr><tr><td>0</td></tr><tr><td>0</td></tr><tr><td>10446261</td></tr><tr><td>4432615</td></tr><tr><td>4432615</td></tr><tr><td>4432615</td></tr><tr><td>0</td></tr><tr><td>10447787</td></tr><tr><td>10447787</td></tr><tr><td>0</td></tr><tr><td>1638</td></tr><tr><td>0</td></tr><tr><td>0</td></tr><tr><td>0</td></tr><tr><td>0</td></tr><tr><td>10447787</td></tr><tr><td>0</td></tr><tr><td>10447775</td></tr></tbody></table></div>"
      ]
     },
     "metadata": {
      "application/vnd.databricks.v1+output": {
       "addedWidgets": {},
       "aggData": [],
       "aggError": "",
       "aggOverflow": false,
       "aggSchema": [],
       "aggSeriesLimitReached": false,
       "aggType": "",
       "arguments": {},
       "columnCustomDisplayInfos": {},
       "data": [
        [
         0
        ],
        [
         0
        ],
        [
         0
        ],
        [
         0
        ],
        [
         0
        ],
        [
         0
        ],
        [
         0
        ],
        [
         10446261
        ],
        [
         4432615
        ],
        [
         4432615
        ],
        [
         4432615
        ],
        [
         0
        ],
        [
         10447787
        ],
        [
         10447787
        ],
        [
         0
        ],
        [
         1638
        ],
        [
         0
        ],
        [
         0
        ],
        [
         0
        ],
        [
         0
        ],
        [
         10447787
        ],
        [
         0
        ],
        [
         10447775
        ]
       ],
       "datasetInfos": [],
       "dbfsResultPath": null,
       "isJsonSchema": true,
       "metadata": {},
       "overflow": false,
       "plotOptions": {
        "customPlotOptions": {},
        "displayType": "table",
        "pivotAggregation": null,
        "pivotColumns": null,
        "xColumns": null,
        "yColumns": null
       },
       "removedWidgets": [],
       "schema": [
        {
         "metadata": "{}",
         "name": "Count",
         "type": "\"long\""
        }
       ],
       "type": "table"
      }
     },
     "output_type": "display_data"
    }
   ],
   "source": [
    "from pyspark.sql.functions import col, sum as spark_sum\n",
    "\n",
    "null_values = (\n",
    "    df.select([\n",
    "        spark_sum(col(c).isNull().cast(\"int\")).alias(c)\n",
    "        for c in df.columns\n",
    "    ])\n",
    "    .toPandas()\n",
    "    .T.rename(columns={0: \"Count\"})\n",
    ")\n",
    "\n",
    "display(null_values)"
   ]
  },
  {
   "cell_type": "markdown",
   "metadata": {
    "application/vnd.databricks.v1+cell": {
     "cellMetadata": {},
     "inputWidgets": {},
     "nuid": "9e38f694-c9ff-461c-908f-ddc86cf30e2f",
     "showTitle": false,
     "tableResultSettingsMap": {},
     "title": ""
    }
   },
   "source": [
    "Since duration, orig_bytes, resp_bytes all have same number of null values (4432615), very likely they are from the same few rows. All three columns are critical for modelling so it is best to drop the rows containing null values in those fields.\n",
    "\n",
    "Others like service, local_orig, local_resp, tunnel_parents amd detailed_label all have more than 10446261 out of 10447787 null values. These will not help our model and will just bloat memory, so we can drop these columns."
   ]
  },
  {
   "cell_type": "code",
   "execution_count": 0,
   "metadata": {
    "application/vnd.databricks.v1+cell": {
     "cellMetadata": {
      "byteLimit": 2048000,
      "rowLimit": 10000
     },
     "inputWidgets": {},
     "nuid": "73748ea0-cadd-4e1c-b9d5-7e7dff1857e5",
     "showTitle": false,
     "tableResultSettingsMap": {},
     "title": ""
    }
   },
   "outputs": [
    {
     "data": {
      "text/html": [
       "<style scoped>\n",
       "  .table-result-container {\n",
       "    max-height: 300px;\n",
       "    overflow: auto;\n",
       "  }\n",
       "  table, th, td {\n",
       "    border: 1px solid black;\n",
       "    border-collapse: collapse;\n",
       "  }\n",
       "  th, td {\n",
       "    padding: 5px;\n",
       "  }\n",
       "  th {\n",
       "    text-align: left;\n",
       "  }\n",
       "</style><div class='table-result-container'><table class='table-result'><thead style='background-color: white'><tr><th>Count</th></tr></thead><tbody><tr><td>0</td></tr><tr><td>0</td></tr><tr><td>0</td></tr><tr><td>0</td></tr><tr><td>0</td></tr><tr><td>0</td></tr><tr><td>0</td></tr><tr><td>0</td></tr><tr><td>0</td></tr><tr><td>0</td></tr><tr><td>0</td></tr><tr><td>0</td></tr><tr><td>22</td></tr><tr><td>0</td></tr><tr><td>0</td></tr><tr><td>0</td></tr><tr><td>0</td></tr><tr><td>0</td></tr></tbody></table></div>"
      ]
     },
     "metadata": {
      "application/vnd.databricks.v1+output": {
       "addedWidgets": {},
       "aggData": [],
       "aggError": "",
       "aggOverflow": false,
       "aggSchema": [],
       "aggSeriesLimitReached": false,
       "aggType": "",
       "arguments": {},
       "columnCustomDisplayInfos": {},
       "data": [
        [
         0
        ],
        [
         0
        ],
        [
         0
        ],
        [
         0
        ],
        [
         0
        ],
        [
         0
        ],
        [
         0
        ],
        [
         0
        ],
        [
         0
        ],
        [
         0
        ],
        [
         0
        ],
        [
         0
        ],
        [
         22
        ],
        [
         0
        ],
        [
         0
        ],
        [
         0
        ],
        [
         0
        ],
        [
         0
        ]
       ],
       "datasetInfos": [],
       "dbfsResultPath": null,
       "isJsonSchema": true,
       "metadata": {},
       "overflow": false,
       "plotOptions": {
        "customPlotOptions": {},
        "displayType": "table",
        "pivotAggregation": null,
        "pivotColumns": null,
        "xColumns": null,
        "yColumns": null
       },
       "removedWidgets": [],
       "schema": [
        {
         "metadata": "{}",
         "name": "Count",
         "type": "\"long\""
        }
       ],
       "type": "table"
      }
     },
     "output_type": "display_data"
    }
   ],
   "source": [
    "from pyspark.sql.functions import when, col\n",
    "\n",
    "# Columns you care about\n",
    "columns_to_clean = ['duration', 'orig_bytes', 'resp_bytes']\n",
    "\n",
    "# Replace \"NULL\" or \"null\" strings with actual nulls (None)\n",
    "for c in columns_to_clean:\n",
    "    df = df.withColumn(c, when((col(c) == \"NULL\") | (col(c) == \"null\"), None).otherwise(col(c)))\n",
    "\n",
    "# Now drop rows where any of these are null\n",
    "df = df.dropna(subset=columns_to_clean)\n",
    "\n",
    "from pyspark.sql.functions import col, sum as spark_sum\n",
    "\n",
    "# now drop columns with largely null values\n",
    "columns_to_drop = [\"service\", \"local_orig\", \"local_resp\", \"tunnel_parents\", \"detailed-label\"]\n",
    "df = df.drop(*columns_to_drop)\n",
    "\n",
    "\n",
    "null_values = (\n",
    "    df.select([\n",
    "        spark_sum(col(c).isNull().cast(\"int\")).alias(c)\n",
    "        for c in df.columns\n",
    "    ])\n",
    "    .toPandas()\n",
    "    .T.rename(columns={0: \"Count\"})\n",
    ")\n",
    "\n",
    "display(null_values)"
   ]
  },
  {
   "cell_type": "markdown",
   "metadata": {
    "application/vnd.databricks.v1+cell": {
     "cellMetadata": {},
     "inputWidgets": {},
     "nuid": "1eabe3f2-28c3-4935-83a1-ad17f6179db7",
     "showTitle": false,
     "tableResultSettingsMap": {},
     "title": ""
    }
   },
   "source": [
    "They are indeed from the same few rows. now there are 0 NULL count for duration, orig_bytes and resp_bytes."
   ]
  },
  {
   "cell_type": "markdown",
   "metadata": {
    "application/vnd.databricks.v1+cell": {
     "cellMetadata": {},
     "inputWidgets": {},
     "nuid": "5b88fafb-8a2a-4d36-a787-55667751abd1",
     "showTitle": false,
     "tableResultSettingsMap": {},
     "title": ""
    }
   },
   "source": [
    "## check number of rows and colums after dropping rows with null values"
   ]
  },
  {
   "cell_type": "code",
   "execution_count": 0,
   "metadata": {
    "application/vnd.databricks.v1+cell": {
     "cellMetadata": {},
     "inputWidgets": {},
     "nuid": "b88860d4-4e27-43db-8ff9-c46b035996dc",
     "showTitle": false,
     "tableResultSettingsMap": {},
     "title": ""
    }
   },
   "outputs": [
    {
     "name": "stdout",
     "output_type": "stream",
     "text": [
      "Number of rows: 6015172\n",
      "Number of columns: 18\n"
     ]
    }
   ],
   "source": [
    "num_rows = df.count()\n",
    "print(f\"Number of rows: {num_rows}\")\n",
    "num_columns = len(df.columns)\n",
    "print(f\"Number of columns: {num_columns}\")"
   ]
  },
  {
   "cell_type": "markdown",
   "metadata": {
    "application/vnd.databricks.v1+cell": {
     "cellMetadata": {},
     "inputWidgets": {},
     "nuid": "9b5ce9f0-2bcd-4588-91fd-5743f2b57b32",
     "showTitle": false,
     "tableResultSettingsMap": {},
     "title": ""
    }
   },
   "source": [
    "# Deeper Data Exploration"
   ]
  },
  {
   "cell_type": "markdown",
   "metadata": {
    "application/vnd.databricks.v1+cell": {
     "cellMetadata": {},
     "inputWidgets": {},
     "nuid": "d6a3c340-5822-4a60-871b-96bf60295c04",
     "showTitle": false,
     "tableResultSettingsMap": {},
     "title": ""
    },
    "id": "talBuE4C5QnW"
   },
   "source": [
    "## Checking for Distribution of Target Variable\n"
   ]
  },
  {
   "cell_type": "code",
   "execution_count": 0,
   "metadata": {
    "application/vnd.databricks.v1+cell": {
     "cellMetadata": {
      "byteLimit": 2048000,
      "rowLimit": 10000
     },
     "inputWidgets": {},
     "nuid": "7f4155f5-801d-4398-adca-2c2837796586",
     "showTitle": false,
     "tableResultSettingsMap": {},
     "title": ""
    },
    "id": "dnJM_1MM5ZA-"
   },
   "outputs": [
    {
     "name": "stdout",
     "output_type": "stream",
     "text": [
      "+------------------+-------+\n",
      "|             label|  count|\n",
      "+------------------+-------+\n",
      "|            Benign|4108340|\n",
      "|Malicious   Attack|      3|\n",
      "|   Malicious   C&C|     33|\n",
      "|  Malicious   DDoS|1906796|\n",
      "+------------------+-------+\n",
      "\n"
     ]
    }
   ],
   "source": [
    "# Register DataFrame as a SQL table\n",
    "df.createOrReplaceTempView(\"malware_data\")\n",
    "\n",
    "# Define SQL Query to count the number of rows with 0 and 1 in the target variable\n",
    "query = \"\"\"\n",
    "SELECT\n",
    "    label,\n",
    "    COUNT(*) AS count\n",
    "FROM\n",
    "    malware_data\n",
    "GROUP BY\n",
    "    label\n",
    "\"\"\"\n",
    "\n",
    "# Run the SQL query\n",
    "result = spark.sql(query)\n",
    "result.show()"
   ]
  },
  {
   "cell_type": "markdown",
   "metadata": {
    "application/vnd.databricks.v1+cell": {
     "cellMetadata": {},
     "inputWidgets": {},
     "nuid": "cb14e088-859b-4999-81c2-3413aa8d155b",
     "showTitle": false,
     "tableResultSettingsMap": {},
     "title": ""
    },
    "id": "ctcKSB-xd2Vm"
   },
   "source": [
    "Roughly 2:1 ratio, mildly imbalanced."
   ]
  },
  {
   "cell_type": "markdown",
   "metadata": {
    "application/vnd.databricks.v1+cell": {
     "cellMetadata": {},
     "inputWidgets": {},
     "nuid": "bb5d53bf-5112-4cdd-8339-cb7bd7d7d6db",
     "showTitle": false,
     "tableResultSettingsMap": {},
     "title": ""
    },
    "id": "p6wuYZ0OJzfC"
   },
   "source": [
    "## Summary statistics for numeric columns"
   ]
  },
  {
   "cell_type": "code",
   "execution_count": 0,
   "metadata": {
    "application/vnd.databricks.v1+cell": {
     "cellMetadata": {
      "byteLimit": 2048000,
      "rowLimit": 10000
     },
     "inputWidgets": {},
     "nuid": "36322be7-16e8-466e-8b59-e64f350208a5",
     "showTitle": false,
     "tableResultSettingsMap": {},
     "title": ""
    },
    "id": "7fx_4-ySJ3-b"
   },
   "outputs": [
    {
     "data": {
      "text/html": [
       "<style scoped>\n",
       "  .table-result-container {\n",
       "    max-height: 300px;\n",
       "    overflow: auto;\n",
       "  }\n",
       "  table, th, td {\n",
       "    border: 1px solid black;\n",
       "    border-collapse: collapse;\n",
       "  }\n",
       "  th, td {\n",
       "    padding: 5px;\n",
       "  }\n",
       "  th {\n",
       "    text-align: left;\n",
       "  }\n",
       "</style><div class='table-result-container'><table class='table-result'><thead style='background-color: white'><tr><th>count</th><th>mean</th><th>stddev</th><th>min</th><th>25%</th><th>50%</th><th>75%</th><th>max</th></tr></thead><tbody><tr><td>6015172</td><td>4.238091014245806</td><td>36.32997915353295</td><td>2.0E-6</td><td>3.097743</td><td>3.126737</td><td>3.155214</td><td>85755.84</td></tr><tr><td>6015172</td><td>3.5601210492327917E8</td><td>3.46769249204301E9</td><td>0.0</td><td>0.0</td><td>0.0</td><td>0.0</td><td>6.6205577E10</td></tr><tr><td>6015172</td><td>5591.520989258495</td><td>1.2956898601109164E7</td><td>0.0</td><td>0.0</td><td>0.0</td><td>0.0</td><td>3.17205115E10</td></tr><tr><td>6015172</td><td>317.33895822097855</td><td>778288.884426677</td><td>0.0</td><td>0.0</td><td>0.0</td><td>0.0</td><td>1.90881946E9</td></tr><tr><td>6015172</td><td>7.045628121689621</td><td>3458.6014117098466</td><td>0.0</td><td>3.0</td><td>3.0</td><td>3.0</td><td>4216883.0</td></tr><tr><td>6015172</td><td>291.06053143617504</td><td>96841.12785824487</td><td>0.0</td><td>180.0</td><td>180.0</td><td>180.0</td><td>1.1807272E8</td></tr><tr><td>6015172</td><td>0.0020454942934300135</td><td>1.9174041298190307</td><td>0.0</td><td>0.0</td><td>0.0</td><td>0.0</td><td>4621.0</td></tr><tr><td>6015172</td><td>0.8743738333666934</td><td>523.391398494566</td><td>0.0</td><td>0.0</td><td>0.0</td><td>0.0</td><td>413488.0</td></tr></tbody></table></div>"
      ]
     },
     "metadata": {
      "application/vnd.databricks.v1+output": {
       "addedWidgets": {},
       "aggData": [],
       "aggError": "",
       "aggOverflow": false,
       "aggSchema": [],
       "aggSeriesLimitReached": false,
       "aggType": "",
       "arguments": {},
       "columnCustomDisplayInfos": {},
       "data": [
        [
         "6015172",
         "4.238091014245806",
         "36.32997915353295",
         "2.0E-6",
         "3.097743",
         "3.126737",
         "3.155214",
         "85755.84"
        ],
        [
         "6015172",
         "3.5601210492327917E8",
         "3.46769249204301E9",
         "0.0",
         "0.0",
         "0.0",
         "0.0",
         "6.6205577E10"
        ],
        [
         "6015172",
         "5591.520989258495",
         "1.2956898601109164E7",
         "0.0",
         "0.0",
         "0.0",
         "0.0",
         "3.17205115E10"
        ],
        [
         "6015172",
         "317.33895822097855",
         "778288.884426677",
         "0.0",
         "0.0",
         "0.0",
         "0.0",
         "1.90881946E9"
        ],
        [
         "6015172",
         "7.045628121689621",
         "3458.6014117098466",
         "0.0",
         "3.0",
         "3.0",
         "3.0",
         "4216883.0"
        ],
        [
         "6015172",
         "291.06053143617504",
         "96841.12785824487",
         "0.0",
         "180.0",
         "180.0",
         "180.0",
         "1.1807272E8"
        ],
        [
         "6015172",
         "0.0020454942934300135",
         "1.9174041298190307",
         "0.0",
         "0.0",
         "0.0",
         "0.0",
         "4621.0"
        ],
        [
         "6015172",
         "0.8743738333666934",
         "523.391398494566",
         "0.0",
         "0.0",
         "0.0",
         "0.0",
         "413488.0"
        ]
       ],
       "datasetInfos": [],
       "dbfsResultPath": null,
       "isJsonSchema": true,
       "metadata": {},
       "overflow": false,
       "plotOptions": {
        "customPlotOptions": {},
        "displayType": "table",
        "pivotAggregation": null,
        "pivotColumns": null,
        "xColumns": null,
        "yColumns": null
       },
       "removedWidgets": [],
       "schema": [
        {
         "metadata": "{}",
         "name": "count",
         "type": "\"string\""
        },
        {
         "metadata": "{}",
         "name": "mean",
         "type": "\"string\""
        },
        {
         "metadata": "{}",
         "name": "stddev",
         "type": "\"string\""
        },
        {
         "metadata": "{}",
         "name": "min",
         "type": "\"string\""
        },
        {
         "metadata": "{}",
         "name": "25%",
         "type": "\"string\""
        },
        {
         "metadata": "{}",
         "name": "50%",
         "type": "\"string\""
        },
        {
         "metadata": "{}",
         "name": "75%",
         "type": "\"string\""
        },
        {
         "metadata": "{}",
         "name": "max",
         "type": "\"string\""
        }
       ],
       "type": "table"
      }
     },
     "output_type": "display_data"
    }
   ],
   "source": [
    "# convert numerical columns\n",
    "cols_to_convert = [\n",
    "    \"duration\", \"orig_bytes\", \"resp_bytes\",\n",
    "    \"missed_bytes\", \"orig_pkts\", \"orig_ip_bytes\", \"resp_pkts\", \"resp_ip_bytes\"\n",
    "]\n",
    "\n",
    "# Convert to FloatType\n",
    "for column in cols_to_convert:\n",
    "    df = df.withColumn(column, col(column).cast(FloatType()))\n",
    "\n",
    "# Descriptive stats with Pandas for nicer formatting\n",
    "desc_stats = df.select(cols_to_convert).summary().toPandas()\n",
    "desc_stats_pd = desc_stats.set_index('summary').rename_axis(None, axis=1).T\n",
    "display(desc_stats_pd)"
   ]
  },
  {
   "cell_type": "markdown",
   "metadata": {
    "application/vnd.databricks.v1+cell": {
     "cellMetadata": {},
     "inputWidgets": {},
     "nuid": "2f425b27-bfb5-4918-8322-8b4b63b6ffe1",
     "showTitle": false,
     "tableResultSettingsMap": {},
     "title": ""
    }
   },
   "source": [
    "## Boxplots for numerical variables"
   ]
  },
  {
   "cell_type": "code",
   "execution_count": 0,
   "metadata": {
    "application/vnd.databricks.v1+cell": {
     "cellMetadata": {},
     "inputWidgets": {},
     "nuid": "e7b951d2-a171-431f-a381-31849f969465",
     "showTitle": false,
     "tableResultSettingsMap": {},
     "title": ""
    }
   },
   "outputs": [
    {
     "data": {
      "image/png": "[encoded data removed]",
      "text/plain": [
       "<Figure size 2500x800 with 8 Axes>"
      ]
     },
     "metadata": {},
     "output_type": "display_data"
    }
   ],
   "source": [
    "import seaborn as sns\n",
    "import matplotlib.pyplot as plt\n",
    "\n",
    "# Use your actual numeric variables (but check for existence)\n",
    "all_numeric_cols = [\n",
    "    \"duration\", \"orig_bytes\", \"resp_bytes\",\n",
    "    \"missed_bytes\", \"orig_pkts\", \"orig_ip_bytes\", \"resp_pkts\", \"resp_ip_bytes\"\n",
    "]\n",
    "\n",
    "# Filter only columns that exist in df\n",
    "numeric_cols = [col_name for col_name in all_numeric_cols if col_name in df.columns]\n",
    "\n",
    "# Optional: handle nulls before collecting (replace with 0 or drop rows)\n",
    "from pyspark.sql.functions import when, isnan\n",
    "\n",
    "for col_name in numeric_cols:\n",
    "    df = df.withColumn(col_name, when(\n",
    "        (col(col_name).isNull()) | (isnan(col(col_name))), 0\n",
    "    ).otherwise(col(col_name)))\n",
    "\n",
    "# Sample to avoid memory issues (optional)\n",
    "df_sample = df.select(numeric_cols).sample(False, 0.5, seed=42)\n",
    "\n",
    "# Convert to pandas for plotting\n",
    "df_pandas = df_sample.toPandas()\n",
    "\n",
    "# Plot boxplots\n",
    "num_cols = 5\n",
    "num_vars = len(numeric_cols)\n",
    "num_rows = (num_vars + num_cols - 1) // num_cols\n",
    "\n",
    "fig, axes = plt.subplots(num_rows, num_cols, figsize=(5 * num_cols, 4 * num_rows))\n",
    "axes = axes.flatten()\n",
    "\n",
    "for i, col_name in enumerate(numeric_cols):\n",
    "    sns.boxplot(x=df_pandas[col_name], ax=axes[i], color='skyblue')\n",
    "    axes[i].set_title(col_name)\n",
    "    axes[i].set_xlabel(\"\")  # cleaner look\n",
    "\n",
    "# Remove empty plots\n",
    "for i in range(num_vars, len(axes)):\n",
    "    fig.delaxes(axes[i])\n",
    "\n",
    "plt.tight_layout()\n",
    "plt.show()\n"
   ]
  },
  {
   "cell_type": "markdown",
   "metadata": {
    "application/vnd.databricks.v1+cell": {
     "cellMetadata": {},
     "inputWidgets": {},
     "nuid": "b116220a-d9ac-4de7-8a04-27fe3cdf881c",
     "showTitle": false,
     "tableResultSettingsMap": {},
     "title": ""
    },
    "id": "x1Tp_JOOtNht"
   },
   "source": [
    "## Categorical Value Distibution"
   ]
  },
  {
   "cell_type": "code",
   "execution_count": 0,
   "metadata": {
    "application/vnd.databricks.v1+cell": {
     "cellMetadata": {},
     "inputWidgets": {},
     "nuid": "cf9a65e7-1b59-4f98-9bcf-9aba2a00925f",
     "showTitle": false,
     "tableResultSettingsMap": {},
     "title": ""
    },
    "colab": {
     "base_uri": "https://localhost:8080/",
     "height": 1000
    },
    "collapsed": true,
    "id": "rVdzZqH_tQor",
    "outputId": "5ed9247b-a7d6-4d64-d5ff-d35fe708b9ad"
   },
   "outputs": [
    {
     "name": "stdout",
     "output_type": "stream",
     "text": [
      "=== proto Value Counts ===\n"
     ]
    },
    {
     "data": {
      "text/html": [
       "<div>\n",
       "<style scoped>\n",
       "    .dataframe tbody tr th:only-of-type {\n",
       "        vertical-align: middle;\n",
       "    }\n",
       "\n",
       "    .dataframe tbody tr th {\n",
       "        vertical-align: top;\n",
       "    }\n",
       "\n",
       "    .dataframe thead th {\n",
       "        text-align: right;\n",
       "    }\n",
       "</style>\n",
       "<table border=\"1\" class=\"dataframe\">\n",
       "  <thead>\n",
       "    <tr style=\"text-align: right;\">\n",
       "      <th></th>\n",
       "      <th>proto</th>\n",
       "      <th>count</th>\n",
       "    </tr>\n",
       "  </thead>\n",
       "  <tbody>\n",
       "    <tr>\n",
       "      <th>0</th>\n",
       "      <td>tcp</td>\n",
       "      <td>6013405</td>\n",
       "    </tr>\n",
       "    <tr>\n",
       "      <th>1</th>\n",
       "      <td>udp</td>\n",
       "      <td>1745</td>\n",
       "    </tr>\n",
       "    <tr>\n",
       "      <th>2</th>\n",
       "      <td>icmp</td>\n",
       "      <td>22</td>\n",
       "    </tr>\n",
       "  </tbody>\n",
       "</table>\n",
       "</div>"
      ],
      "text/plain": [
       "  proto    count\n",
       "0   tcp  6013405\n",
       "1   udp     1745\n",
       "2  icmp       22"
      ]
     },
     "metadata": {},
     "output_type": "display_data"
    },
    {
     "name": "stdout",
     "output_type": "stream",
     "text": [
      "=== conn_state Value Counts ===\n"
     ]
    },
    {
     "data": {
      "text/html": [
       "<div>\n",
       "<style scoped>\n",
       "    .dataframe tbody tr th:only-of-type {\n",
       "        vertical-align: middle;\n",
       "    }\n",
       "\n",
       "    .dataframe tbody tr th {\n",
       "        vertical-align: top;\n",
       "    }\n",
       "\n",
       "    .dataframe thead th {\n",
       "        text-align: right;\n",
       "    }\n",
       "</style>\n",
       "<table border=\"1\" class=\"dataframe\">\n",
       "  <thead>\n",
       "    <tr style=\"text-align: right;\">\n",
       "      <th></th>\n",
       "      <th>conn_state</th>\n",
       "      <th>count</th>\n",
       "    </tr>\n",
       "  </thead>\n",
       "  <tbody>\n",
       "    <tr>\n",
       "      <th>0</th>\n",
       "      <td>S0</td>\n",
       "      <td>4105597</td>\n",
       "    </tr>\n",
       "    <tr>\n",
       "      <th>1</th>\n",
       "      <td>RSTOS0</td>\n",
       "      <td>1841173</td>\n",
       "    </tr>\n",
       "    <tr>\n",
       "      <th>2</th>\n",
       "      <td>OTH</td>\n",
       "      <td>65558</td>\n",
       "    </tr>\n",
       "    <tr>\n",
       "      <th>3</th>\n",
       "      <td>REJ</td>\n",
       "      <td>1949</td>\n",
       "    </tr>\n",
       "    <tr>\n",
       "      <th>4</th>\n",
       "      <td>SF</td>\n",
       "      <td>747</td>\n",
       "    </tr>\n",
       "    <tr>\n",
       "      <th>5</th>\n",
       "      <td>RSTO</td>\n",
       "      <td>52</td>\n",
       "    </tr>\n",
       "    <tr>\n",
       "      <th>6</th>\n",
       "      <td>RSTR</td>\n",
       "      <td>47</td>\n",
       "    </tr>\n",
       "    <tr>\n",
       "      <th>7</th>\n",
       "      <td>S2</td>\n",
       "      <td>26</td>\n",
       "    </tr>\n",
       "    <tr>\n",
       "      <th>8</th>\n",
       "      <td>S1</td>\n",
       "      <td>19</td>\n",
       "    </tr>\n",
       "    <tr>\n",
       "      <th>9</th>\n",
       "      <td>SH</td>\n",
       "      <td>2</td>\n",
       "    </tr>\n",
       "    <tr>\n",
       "      <th>10</th>\n",
       "      <td>RSTRH</td>\n",
       "      <td>1</td>\n",
       "    </tr>\n",
       "    <tr>\n",
       "      <th>11</th>\n",
       "      <td>S3</td>\n",
       "      <td>1</td>\n",
       "    </tr>\n",
       "  </tbody>\n",
       "</table>\n",
       "</div>"
      ],
      "text/plain": [
       "   conn_state    count\n",
       "0          S0  4105597\n",
       "1      RSTOS0  1841173\n",
       "2         OTH    65558\n",
       "3         REJ     1949\n",
       "4          SF      747\n",
       "5        RSTO       52\n",
       "6        RSTR       47\n",
       "7          S2       26\n",
       "8          S1       19\n",
       "9          SH        2\n",
       "10      RSTRH        1\n",
       "11         S3        1"
      ]
     },
     "metadata": {},
     "output_type": "display_data"
    },
    {
     "name": "stdout",
     "output_type": "stream",
     "text": [
      "=== history Value Counts ===\n"
     ]
    },
    {
     "data": {
      "text/html": [
       "<div>\n",
       "<style scoped>\n",
       "    .dataframe tbody tr th:only-of-type {\n",
       "        vertical-align: middle;\n",
       "    }\n",
       "\n",
       "    .dataframe tbody tr th {\n",
       "        vertical-align: top;\n",
       "    }\n",
       "\n",
       "    .dataframe thead th {\n",
       "        text-align: right;\n",
       "    }\n",
       "</style>\n",
       "<table border=\"1\" class=\"dataframe\">\n",
       "  <thead>\n",
       "    <tr style=\"text-align: right;\">\n",
       "      <th></th>\n",
       "      <th>history</th>\n",
       "      <th>count</th>\n",
       "    </tr>\n",
       "  </thead>\n",
       "  <tbody>\n",
       "    <tr>\n",
       "      <th>0</th>\n",
       "      <td>S</td>\n",
       "      <td>4104511</td>\n",
       "    </tr>\n",
       "    <tr>\n",
       "      <th>1</th>\n",
       "      <td>I</td>\n",
       "      <td>1841162</td>\n",
       "    </tr>\n",
       "    <tr>\n",
       "      <th>2</th>\n",
       "      <td>DTT</td>\n",
       "      <td>65534</td>\n",
       "    </tr>\n",
       "    <tr>\n",
       "      <th>3</th>\n",
       "      <td>Sr</td>\n",
       "      <td>1948</td>\n",
       "    </tr>\n",
       "    <tr>\n",
       "      <th>4</th>\n",
       "      <td>D</td>\n",
       "      <td>1086</td>\n",
       "    </tr>\n",
       "    <tr>\n",
       "      <th>...</th>\n",
       "      <td>...</td>\n",
       "      <td>...</td>\n",
       "    </tr>\n",
       "    <tr>\n",
       "      <th>57</th>\n",
       "      <td>ShAdDaRRR</td>\n",
       "      <td>1</td>\n",
       "    </tr>\n",
       "    <tr>\n",
       "      <th>58</th>\n",
       "      <td>ShAfdtF</td>\n",
       "      <td>1</td>\n",
       "    </tr>\n",
       "    <tr>\n",
       "      <th>59</th>\n",
       "      <td>ShADdFf</td>\n",
       "      <td>1</td>\n",
       "    </tr>\n",
       "    <tr>\n",
       "      <th>60</th>\n",
       "      <td>HaDdAr</td>\n",
       "      <td>1</td>\n",
       "    </tr>\n",
       "    <tr>\n",
       "      <th>61</th>\n",
       "      <td>ShADad</td>\n",
       "      <td>1</td>\n",
       "    </tr>\n",
       "  </tbody>\n",
       "</table>\n",
       "<p>62 rows × 2 columns</p>\n",
       "</div>"
      ],
      "text/plain": [
       "      history    count\n",
       "0           S  4104511\n",
       "1           I  1841162\n",
       "2         DTT    65534\n",
       "3          Sr     1948\n",
       "4           D     1086\n",
       "..        ...      ...\n",
       "57  ShAdDaRRR        1\n",
       "58    ShAfdtF        1\n",
       "59    ShADdFf        1\n",
       "60     HaDdAr        1\n",
       "61     ShADad        1\n",
       "\n",
       "[62 rows x 2 columns]"
      ]
     },
     "metadata": {},
     "output_type": "display_data"
    }
   ],
   "source": [
    "categorical_cols = [\"proto\", \"conn_state\", \"history\"]\n",
    "\n",
    "for col in categorical_cols:\n",
    "    count_df = df.groupBy(col).count().orderBy(\"count\", ascending=False).toPandas()\n",
    "    print(f\"=== {col} Value Counts ===\")\n",
    "    display(count_df)\n"
   ]
  },
  {
   "cell_type": "code",
   "execution_count": 0,
   "metadata": {
    "application/vnd.databricks.v1+cell": {
     "cellMetadata": {},
     "inputWidgets": {},
     "nuid": "4da3c72b-6391-45a1-98d5-3cb1510ba5e4",
     "showTitle": false,
     "tableResultSettingsMap": {},
     "title": ""
    }
   },
   "outputs": [
    {
     "name": "stdout",
     "output_type": "stream",
     "text": [
      "Cardinality of id_orig_h: 28\n",
      "Cardinality of id_orig_p: 65536\n",
      "Cardinality of id_resp_h: 4098969\n",
      "Cardinality of id_resp_p: 16\n"
     ]
    }
   ],
   "source": [
    "from pyspark.sql.functions import countDistinct\n",
    "\n",
    "# Count distinct values for each column\n",
    "cardinality = df.select(\n",
    "    countDistinct(\"id_orig_h\").alias(\"id_orig_h_cardinality\"),\n",
    "    countDistinct(\"id_orig_p\").alias(\"id_orig_p_cardinality\"),\n",
    "    countDistinct(\"id_resp_h\").alias(\"id_resp_h_cardinality\"),\n",
    "    countDistinct(\"id_resp_p\").alias(\"id_resp_p_cardinality\")\n",
    ").collect()[0]\n",
    "\n",
    "# Print the cardinality of each column\n",
    "print(f\"Cardinality of id_orig_h: {cardinality['id_orig_h_cardinality']}\")\n",
    "print(f\"Cardinality of id_orig_p: {cardinality['id_orig_p_cardinality']}\")\n",
    "print(f\"Cardinality of id_resp_h: {cardinality['id_resp_h_cardinality']}\")\n",
    "print(f\"Cardinality of id_resp_p: {cardinality['id_resp_p_cardinality']}\")"
   ]
  },
  {
   "cell_type": "markdown",
   "metadata": {
    "application/vnd.databricks.v1+cell": {
     "cellMetadata": {},
     "inputWidgets": {},
     "nuid": "a21cd5f4-9510-4c68-acbb-a3387701c63e",
     "showTitle": false,
     "tableResultSettingsMap": {},
     "title": ""
    }
   },
   "source": [
    "id_orig_h has low cardinality -> 28, so likely represent small number of internal source IPs (devices on your network)\n",
    "\n",
    "id_resp_p has low cardinality -> 16 destination ports, likely standard ones like 80, 443, 22. tells you what kind of service was accessed. "
   ]
  },
  {
   "cell_type": "markdown",
   "metadata": {
    "application/vnd.databricks.v1+cell": {
     "cellMetadata": {},
     "inputWidgets": {},
     "nuid": "c71a9ece-4a57-444f-af6f-37706f28e5f7",
     "showTitle": false,
     "tableResultSettingsMap": {},
     "title": ""
    },
    "id": "KL647mftDNjA"
   },
   "source": [
    "## Correlation matrix for numeric columns"
   ]
  },
  {
   "cell_type": "code",
   "execution_count": 0,
   "metadata": {
    "application/vnd.databricks.v1+cell": {
     "cellMetadata": {
      "byteLimit": 2048000,
      "rowLimit": 10000
     },
     "inputWidgets": {},
     "nuid": "e8bbb42f-7bc5-4351-9660-3ecf4402f4b3",
     "showTitle": false,
     "tableResultSettingsMap": {},
     "title": ""
    },
    "colab": {
     "base_uri": "https://localhost:8080/",
     "height": 626
    },
    "collapsed": true,
    "id": "xtFeK3cX01Ul",
    "outputId": "bbcc9cf8-d740-477f-c64e-896f48d08fc7"
   },
   "outputs": [
    {
     "data": {
      "image/png": "[encoded data removed]"
     },
     "metadata": {
      "application/vnd.databricks.v1+output": {
       "addedWidgets": {},
       "arguments": {},
       "data": "data:image/png;base64,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\n",
       "datasetInfos": [],
       "metadata": {},
       "removedWidgets": [],
       "type": "image"
      }
     },
     "output_type": "display_data"
    }
   ],
   "source": [
    "from pyspark.sql.types import FloatType, DoubleType\n",
    "\n",
    "# Define numeric features to keep (excluding ID-like columns)\n",
    "numeric_cols = [\n",
    "    \"duration\", \"orig_bytes\", \"resp_bytes\",\n",
    "    \"missed_bytes\", \"orig_pkts\", \"orig_ip_bytes\", \"resp_pkts\", \"resp_ip_bytes\"\n",
    "]\n",
    "\n",
    "# Convert PySpark DataFrame to pandas DataFrame for correlation calculation\n",
    "pandas_df = df.select(numeric_cols).toPandas()\n",
    "\n",
    "# Plot correlation heatmap\n",
    "plt.figure(figsize=(12, 6))\n",
    "sns.heatmap(pandas_df.corr(), annot=True, cmap=\"coolwarm\", fmt=\".2f\")\n",
    "plt.title(\"Correlation Between Numeric Features\")\n",
    "plt.show()"
   ]
  },
  {
   "cell_type": "markdown",
   "metadata": {
    "application/vnd.databricks.v1+cell": {
     "cellMetadata": {},
     "inputWidgets": {},
     "nuid": "be979fe0-cd7f-4fb7-9c67-1d4907a41948",
     "showTitle": false,
     "tableResultSettingsMap": {},
     "title": ""
    },
    "id": "tM7tDTvfVa7T"
   },
   "source": [
    "(need to rewrite as we using different dataset)\n",
    "From the correlation matrix, it can be seen that:\n",
    "1. Strong Positive Correlation (Close to 1.0)\n",
    "  - `orig_pkts` and `orig_ip_bytes` are perfectly correlated (1.00), suggesting that packet count and total IP bytes from the origin are directly proportional. One of the variables could be dropped to reduce redundancy.\n",
    "  - `resp_bytes` and `resp_ip_bytes` are similarly strongly correlated (0.98). This could also mean one of the columns might be redundant.\n",
    "  - `duration` and `resp_pkts` are also strongly correlated (0.95). This makes sense as longer durations correlate with more response packets, indicating sustained communication during the duration.\n",
    "2. Weak/Negligible Correlations (Close to 0):\n",
    "  - Port numbers (`id.orig_p`, `id.resp_p`) have near-zero correlations with other features suggesting that ports do not directly influence traffic metrics (e.g. duration, bytes). This is expected as ports are identifiers, not quantitative measures.\n",
    "  - Except for its strong positive correlation to `resp_ip_bytes`, `resp_bytes` and most other features have weak/negligible correlations (0.00-0.21) possibly indicating isolated response behaviors."
   ]
  },
  {
   "cell_type": "markdown",
   "metadata": {
    "application/vnd.databricks.v1+cell": {
     "cellMetadata": {},
     "inputWidgets": {},
     "nuid": "e679d16b-d2ae-4b5d-8b54-13ad7ac23e53",
     "showTitle": false,
     "tableResultSettingsMap": {},
     "title": ""
    },
    "id": "xvu7dhOjFPyJ"
   },
   "source": [
    "## Mutual Information Scoring"
   ]
  },
  {
   "cell_type": "code",
   "execution_count": 0,
   "metadata": {
    "application/vnd.databricks.v1+cell": {
     "cellMetadata": {},
     "inputWidgets": {},
     "nuid": "f5b621ee-90d2-44ae-9022-daaeda200935",
     "showTitle": false,
     "tableResultSettingsMap": {},
     "title": ""
    },
    "colab": {
     "base_uri": "https://localhost:8080/"
    },
    "collapsed": true,
    "id": "1wRa5nMjUwBX",
    "outputId": "df3e051a-ae0a-4079-ed24-153fae89a2a6"
   },
   "outputs": [
    {
     "name": "stdout",
     "output_type": "stream",
     "text": [
      "MI for ts: 0.0007\n",
      "MI for uid: 0.0282\n",
      "MI for id_orig_h: 0.0072\n",
      "MI for id_orig_p: 0.0025\n",
      "MI for id_resp_h: 0.0278\n",
      "MI for id_resp_p: 0.0016\n",
      "MI for proto: 0.0116\n",
      "MI for duration: 0.0039\n",
      "MI for orig_bytes: 0.0024\n",
      "MI for resp_bytes: 0.0004\n",
      "MI for conn_state: 0.0230\n",
      "MI for history: 0.0176\n",
      "MI for orig_pkts: 0.0010\n",
      "MI for orig_ip_bytes: 0.0017\n",
      "MI for resp_pkts: 0.0023\n",
      "MI for resp_ip_bytes: 0.0023\n",
      "MI for detailed-label: 0.0056\n",
      "\n",
      "=== Features sorted by Mutual Information ===\n",
      "uid: 0.0282\n",
      "id_resp_h: 0.0278\n",
      "conn_state: 0.0230\n",
      "history: 0.0176\n",
      "proto: 0.0116\n",
      "id_orig_h: 0.0072\n",
      "detailed-label: 0.0056\n",
      "duration: 0.0039\n",
      "id_orig_p: 0.0025\n",
      "orig_bytes: 0.0024\n",
      "resp_pkts: 0.0023\n",
      "resp_ip_bytes: 0.0023\n",
      "orig_ip_bytes: 0.0017\n",
      "id_resp_p: 0.0016\n",
      "orig_pkts: 0.0010\n",
      "ts: 0.0007\n",
      "resp_bytes: 0.0004\n"
     ]
    }
   ],
   "source": [
    "# Discretise numerical features\n",
    "numeric_cols = [col_name for col_name, dtype in df.dtypes if dtype in ['int', 'double', 'float']]\n",
    "\n",
    "# compute mutual info\n",
    "def compute_mutual_info(df, feature_col, target_col=\"label\", n_bins=5):\n",
    "    # 5 quantile based bins per numerical col\n",
    "    if feature_col in numeric_cols:\n",
    "        df = df.withColumn(\n",
    "            f\"{feature_col}_bin\",\n",
    "            F.ntile(n_bins).over(Window.orderBy(feature_col)))\n",
    "        feature_col = f\"{feature_col}_bin\"\n",
    "\n",
    "    # Compute joint probability P(X,Y)\n",
    "    joint_prob = (\n",
    "        df.groupBy(feature_col, target_col)\n",
    "        .agg(F.count(\"*\").alias(\"count\"))\n",
    "        .withColumn(\"p_xy\", F.col(\"count\") / df.count())\n",
    "    )\n",
    "\n",
    "    # Compute marginal probabilities P(X) and P(Y)\n",
    "    p_x = joint_prob.groupBy(feature_col).agg(F.sum(\"p_xy\").alias(\"p_x\"))\n",
    "    p_y = joint_prob.groupBy(target_col).agg(F.sum(\"p_xy\").alias(\"p_y\"))\n",
    "\n",
    "    # Calculate MI terms: p_xy * log2(p_xy / (p_x * p_y))\n",
    "    mi_terms = (\n",
    "        joint_prob.join(p_x, feature_col)\n",
    "        .join(p_y, target_col)\n",
    "        .withColumn(\n",
    "            \"mi_term\",\n",
    "            F.col(\"p_xy\") * F.log2(F.col(\"p_xy\") / (F.col(\"p_x\") * F.col(\"p_y\")))\n",
    "        )\n",
    "    )\n",
    "\n",
    "    # Sum MI terms to get final score\n",
    "    mi = mi_terms.agg(F.sum(\"mi_term\").alias(\"mi\")).collect()[0][\"mi\"]\n",
    "    return float(mi) if mi else 0.0\n",
    "\n",
    "# Compute MI for all features\n",
    "df_mis = df.select(\"*\")\n",
    "mi_results = {}\n",
    "\n",
    "for feature in df_mis.columns:  # Combine all features\n",
    "    if feature == \"label\":\n",
    "        continue\n",
    "    mi_score = compute_mutual_info(df_mis, feature)\n",
    "    mi_results[feature] = mi_score\n",
    "    print(f\"MI for {feature}: {mi_score:.4f}\")\n",
    "\n",
    "# Sort the MI and display results\n",
    "sorted_mi_results = sorted(mi_results.items(), key=lambda x: x[1], reverse=True)\n",
    "print(\"\\n=== Features sorted by Mutual Information ===\")\n",
    "for feature, mi_score in sorted_mi_results:\n",
    "    print(f\"{feature}: {mi_score:.4f}\")"
   ]
  },
  {
   "cell_type": "markdown",
   "metadata": {
    "application/vnd.databricks.v1+cell": {
     "cellMetadata": {},
     "inputWidgets": {},
     "nuid": "4b457bb5-cdd3-4a27-ac54-5b61dd405b9d",
     "showTitle": false,
     "tableResultSettingsMap": {},
     "title": ""
    },
    "id": "vXRzg0OfdxU1"
   },
   "source": [
    "(need to rewrite as we using different dataset now)\n",
    "**Interpretation of Mutual Information (MI) Scoring:**\n",
    "\n",
    "MI scoring is a measure of how much information one variable (feature) provides about another (target variable, in this case, `label`). It helps identify which features are most relevant for predicting the target, where a higher MI score means the feature is more informative for the prediction and should be prioritised for model training.\n",
    "\n",
    "From the results:\n",
    "The top 5 informative features are\n",
    "1. `uid` (0.0282)\n",
    "2. `id_resp_h` (0.0278)\n",
    "3. `conn_state` (0.0230)\n",
    "4. `history` (0.0176)\n",
    "5. `proto` (0.0116)\n",
    "\n",
    "On the other hand, the features with low/zero MI score are `resp_bytes` (0.0004) and `ts` (0.0007) which have very low MI and may have a negligible effect on prediction.\n",
    "\n",
    "**Data Leakage Issue**\n",
    "\n",
    "While `uid` has a high MI score, it could suggest that the `uid` is leaking information about the `label` as `uid` is supposed to be a unique identifier for the connection. Since it is unique per row, it has zero predictive power on new data and cannot be generalised onto new samples. This could cause the model to perform extremely well on training data but fail on unseen data."
   ]
  },
  {
   "cell_type": "markdown",
   "metadata": {
    "application/vnd.databricks.v1+cell": {
     "cellMetadata": {},
     "inputWidgets": {},
     "nuid": "d1a3f879-afbf-4ad8-9db6-d45561fc102d",
     "showTitle": false,
     "tableResultSettingsMap": {},
     "title": ""
    },
    "id": "-LwH82mRclPZ"
   },
   "source": [
    "# Feature Engineering"
   ]
  },
  {
   "cell_type": "markdown",
   "metadata": {
    "application/vnd.databricks.v1+cell": {
     "cellMetadata": {},
     "inputWidgets": {},
     "nuid": "9cec1cac-d7bf-4d31-bd7a-e8d6465b772b",
     "showTitle": false,
     "tableResultSettingsMap": {},
     "title": ""
    },
    "id": "rTUT3pONMZ4x"
   },
   "source": [
    "## Engineering new Meaningful Features"
   ]
  },
  {
   "cell_type": "code",
   "execution_count": 0,
   "metadata": {
    "application/vnd.databricks.v1+cell": {
     "cellMetadata": {
      "byteLimit": 2048000,
      "rowLimit": 10000
     },
     "inputWidgets": {},
     "nuid": "d51361c8-45f9-44dd-8c68-3ba4b9e29aff",
     "showTitle": false,
     "tableResultSettingsMap": {},
     "title": ""
    },
    "id": "G5RsBjD0cn3k"
   },
   "outputs": [
    {
     "name": "stdout",
     "output_type": "stream",
     "text": [
      "+-----------+------------------+---------+----------+------------------+----------+\n",
      "|total_bytes|        byte_ratio|pkt_ratio|total_pkts|        throughput|efficiency|\n",
      "+-----------+------------------+---------+----------+------------------+----------+\n",
      "|        0.0|               0.0|      3.0|       3.0|               0.0|       0.0|\n",
      "|       78.0|              78.0|      2.0|       2.0|15.583951852215545|      26.0|\n",
      "|       78.0|              78.0|      2.0|       2.0|15.583960760256039|      26.0|\n",
      "|       78.0|              78.0|      2.0|       2.0|15.583948882870978|      26.0|\n",
      "|       96.0|0.9795918367346939|      0.5|       2.0|  668.295643928812|      32.0|\n",
      "+-----------+------------------+---------+----------+------------------+----------+\n",
      "only showing top 5 rows\n",
      "\n"
     ]
    }
   ],
   "source": [
    "from pyspark.sql.functions import col, when, lit, log1p\n",
    "\n",
    "# Total Bytes\n",
    "df = df.withColumn(\"total_bytes\", col(\"orig_bytes\") + col(\"resp_bytes\"))\n",
    "\n",
    "# Byte Ratio (orig_bytes / (resp_bytes + 1))\n",
    "df = df.withColumn(\"byte_ratio\", col(\"orig_bytes\") / (col(\"resp_bytes\") + lit(1)))\n",
    "\n",
    "# Packet Ratio (orig_pkts / (resp_pkts + 1))\n",
    "df = df.withColumn(\"pkt_ratio\", col(\"orig_pkts\") / (col(\"resp_pkts\") + lit(1)))\n",
    "\n",
    "# Total Packet Count\n",
    "df = df.withColumn(\"total_pkts\", col(\"orig_pkts\") + col(\"resp_pkts\"))\n",
    "\n",
    "# Throughput = total_bytes / (duration + 1e-6)\n",
    "df = df.withColumn(\"throughput\", col(\"total_bytes\") / (col(\"duration\") + lit(1e-6)))\n",
    "\n",
    "# Data-to-packet efficiency\n",
    "df = df.withColumn(\"efficiency\", col(\"total_bytes\") / (col(\"total_pkts\") + lit(1)))\n",
    "\n",
    "df.select(\"total_bytes\", \"byte_ratio\", \"pkt_ratio\", \"total_pkts\", \"throughput\", \"efficiency\").show(5)\n"
   ]
  },
  {
   "cell_type": "markdown",
   "metadata": {
    "application/vnd.databricks.v1+cell": {
     "cellMetadata": {},
     "inputWidgets": {},
     "nuid": "81273552-2de1-494c-aef7-33ace3c97695",
     "showTitle": false,
     "tableResultSettingsMap": {},
     "title": ""
    },
    "id": "HpbaXcxPLdjk"
   },
   "source": [
    "## Encoding of Categorical Variables:"
   ]
  },
  {
   "cell_type": "markdown",
   "metadata": {
    "application/vnd.databricks.v1+cell": {
     "cellMetadata": {},
     "inputWidgets": {},
     "nuid": "f8eb3cd3-a280-45db-ac7b-3117917e8209",
     "showTitle": false,
     "tableResultSettingsMap": {},
     "title": ""
    }
   },
   "source": [
    "Categorical varaiables included are History, proto, conn_state, and id_resp_p. From data exploration, cardinality of each of them are 61, 3, 11, 16 respectively.\n",
    "\n",
    "History has high cardinality so need to do frequency encoding.\n",
    "Others have relative low cardinality so one-hot encoding is feasible."
   ]
  },
  {
   "cell_type": "code",
   "execution_count": 0,
   "metadata": {
    "application/vnd.databricks.v1+cell": {
     "cellMetadata": {
      "byteLimit": 2048000,
      "rowLimit": 10000
     },
     "inputWidgets": {},
     "nuid": "7917b181-51e3-437c-bdfd-46cdc5f3a531",
     "showTitle": false,
     "tableResultSettingsMap": {},
     "title": ""
    },
    "id": "84nGnJXTLpDp"
   },
   "outputs": [
    {
     "name": "stdout",
     "output_type": "stream",
     "text": [
      "+-------+--------------------+\n",
      "|history|history_freq_encoded|\n",
      "+-------+--------------------+\n",
      "| DdAaFf|                   1|\n",
      "|      D|                1086|\n",
      "|      D|                1086|\n",
      "|      D|                1086|\n",
      "|      D|                1086|\n",
      "|      D|                1086|\n",
      "|      D|                1086|\n",
      "|      D|                1086|\n",
      "|      D|                1086|\n",
      "|      D|                1086|\n",
      "|      D|                1086|\n",
      "|     Dd|                 659|\n",
      "|     Dd|                 659|\n",
      "|     Dd|                 659|\n",
      "|     Dd|                 659|\n",
      "|     Dd|                 659|\n",
      "|     Dd|                 659|\n",
      "|     Dd|                 659|\n",
      "|      S|             4104511|\n",
      "|      S|             4104511|\n",
      "+-------+--------------------+\n",
      "only showing top 20 rows\n",
      "\n"
     ]
    }
   ],
   "source": [
    "from pyspark.sql.functions import count\n",
    "\n",
    "## Frequency Encoding of High Cardinality Features such as History\n",
    "\n",
    "# Calculate frequency counts for each category in the 'history' column\n",
    "history_counts = df.groupBy(\"history\").agg(count(\"*\").alias(\"history_count\"))\n",
    "\n",
    "# Join the frequency counts back to the original DataFrame\n",
    "df = df.join(history_counts, \"history\", \"left\")\n",
    "\n",
    "# Create a new column 'history_freq_encoded' with the frequency counts\n",
    "df = df.withColumn(\"history_freq_encoded\", col(\"history_count\"))\n",
    "\n",
    "# Optionally drop the intermediate 'history_count' column\n",
    "df = df.drop(\"history_count\")\n",
    "\n",
    "# Show the DataFrame with the frequency encoded column\n",
    "df.select(\"history\", \"history_freq_encoded\").show()"
   ]
  },
  {
   "cell_type": "code",
   "execution_count": 0,
   "metadata": {
    "application/vnd.databricks.v1+cell": {
     "cellMetadata": {
      "byteLimit": 2048000,
      "rowLimit": 10000
     },
     "inputWidgets": {},
     "nuid": "2d39d092-582d-45bf-a917-ae4688562227",
     "showTitle": false,
     "tableResultSettingsMap": {},
     "title": ""
    },
    "id": "Bsqzm_ErHsbU"
   },
   "outputs": [
    {
     "name": "stdout",
     "output_type": "stream",
     "text": [
      "+-----+-----------+-------------+----------+----------------+------------------+---------+---------------+-----------------+\n",
      "|proto|proto_index|proto_encoded|conn_state|conn_state_index|conn_state_encoded|id_resp_p|id_resp_p_index|id_resp_p_encoded|\n",
      "+-----+-----------+-------------+----------+----------------+------------------+---------+---------------+-----------------+\n",
      "|  tcp|        0.0|(2,[0],[1.0])|        S0|             0.0|    (11,[0],[1.0])|     80.0|            2.0|   (15,[2],[1.0])|\n",
      "|  udp|        1.0|(2,[1],[1.0])|        S0|             0.0|    (11,[0],[1.0])|     53.0|            4.0|   (15,[4],[1.0])|\n",
      "|  udp|        1.0|(2,[1],[1.0])|        S0|             0.0|    (11,[0],[1.0])|     53.0|            4.0|   (15,[4],[1.0])|\n",
      "|  udp|        1.0|(2,[1],[1.0])|        S0|             0.0|    (11,[0],[1.0])|     53.0|            4.0|   (15,[4],[1.0])|\n",
      "|  udp|        1.0|(2,[1],[1.0])|        SF|             4.0|    (11,[4],[1.0])|    123.0|            5.0|   (15,[5],[1.0])|\n",
      "+-----+-----------+-------------+----------+----------------+------------------+---------+---------------+-----------------+\n",
      "only showing top 5 rows\n",
      "\n"
     ]
    }
   ],
   "source": [
    "from pyspark.ml.feature import StringIndexer, OneHotEncoder\n",
    "\n",
    "# one hot encoding of categorical features with low cardinality\n",
    "\n",
    "# Create StringIndexers for \"proto\" and \"conn_state\"\n",
    "proto_indexer = StringIndexer(inputCol=\"proto\", outputCol=\"proto_index\")\n",
    "conn_state_indexer = StringIndexer(inputCol=\"conn_state\", outputCol=\"conn_state_index\")\n",
    "port_indexer = StringIndexer(inputCol=\"id_resp_p\", outputCol=\"id_resp_p_index\")\n",
    "\n",
    "# Create OneHotEncoders for the indexed columns\n",
    "proto_encoder = OneHotEncoder(inputCol=\"proto_index\", outputCol=\"proto_encoded\")\n",
    "conn_state_encoder = OneHotEncoder(inputCol=\"conn_state_index\", outputCol=\"conn_state_encoded\")\n",
    "port_encoder = OneHotEncoder(inputCol=\"id_resp_p_index\", outputCol=\"id_resp_p_encoded\")\n",
    "\n",
    "# Fit and transform the DataFrame\n",
    "df = proto_indexer.fit(df).transform(df)\n",
    "df = conn_state_indexer.fit(df).transform(df)\n",
    "df = port_indexer.fit(df).transform(df)\n",
    "\n",
    "df = proto_encoder.fit(df).transform(df)\n",
    "df = conn_state_encoder.fit(df).transform(df)\n",
    "df = port_encoder.fit(df).transform(df)\n",
    "\n",
    "# Show the DataFrame with the one-hot encoded columns\n",
    "df.select(\"proto\", \"proto_index\", \"proto_encoded\", \"conn_state\", \"conn_state_index\", \"conn_state_encoded\", \"id_resp_p\", \"id_resp_p_index\", \"id_resp_p_encoded\").show(5)"
   ]
  },
  {
   "cell_type": "markdown",
   "metadata": {
    "application/vnd.databricks.v1+cell": {
     "cellMetadata": {},
     "inputWidgets": {},
     "nuid": "bafac25c-c3f4-4450-96b5-bd3d8e52731d",
     "showTitle": false,
     "tableResultSettingsMap": {},
     "title": ""
    },
    "id": "zIw_teB0ITOI"
   },
   "source": [
    "## Scaling of Numerical Features"
   ]
  },
  {
   "cell_type": "code",
   "execution_count": 0,
   "metadata": {
    "application/vnd.databricks.v1+cell": {
     "cellMetadata": {
      "byteLimit": 2048000,
      "rowLimit": 10000
     },
     "inputWidgets": {},
     "nuid": "06d43ceb-63b3-45e5-abc2-a085800b51f9",
     "showTitle": false,
     "tableResultSettingsMap": {},
     "title": ""
    },
    "id": "sHA9IuSTIh0Q"
   },
   "outputs": [
    {
     "name": "stdout",
     "output_type": "stream",
     "text": [
      "+---------------------------------------------------------------------------------------------------------------------------------------------------------+\n",
      "|features_scaled                                                                                                                                          |\n",
      "+---------------------------------------------------------------------------------------------------------------------------------------------------------+\n",
      "|[-0.031388320037541946,-0.10266541964926636,-0.0011691426302230367,-0.10266633244316568,-0.0011703203940343345,-0.10348968971642422,-0.10269310798838681]|\n",
      "|[0.021113607483025945,-0.10266539715592238,-0.0014582768872629774,-0.102666309949975,-0.001459454475748102,-0.10348921475423353,-0.102692668354665]      |\n",
      "|[0.021113528732005,-0.10266539715592238,-0.0014582768872629774,-0.102666309949975,-0.001459454475748102,-0.10348921475423353,-0.10269266835441371]       |\n",
      "|[0.02111363373336626,-0.10266539715592238,-0.0014582768872629774,-0.102666309949975,-0.001459454475748102,-0.10348921475423353,-0.10269266835474877]     |\n",
      "|[-0.11270149642450832,-0.10266541936677537,-0.0018919782728228887,-0.10266630475923869,-0.001459454475748102,-0.10348910514757413,-0.10267425492056485]  |\n",
      "+---------------------------------------------------------------------------------------------------------------------------------------------------------+\n",
      "only showing top 5 rows\n",
      "\n"
     ]
    }
   ],
   "source": [
    "# Assuming 'df' is your DataFrame and the features are already created\n",
    "\n",
    "# Define the columns to be scaled\n",
    "cols_to_scale = [\"duration\", \"byte_ratio\", \"pkt_ratio\", \"total_bytes\", \"total_pkts\", \"efficiency\", \"throughput\"]\n",
    "\n",
    "# Create a VectorAssembler to combine the features into a single vector column\n",
    "assembler = VectorAssembler(inputCols=cols_to_scale, outputCol=\"features_unscaled\")\n",
    "df = assembler.transform(df)\n",
    "\n",
    "# Create a StandardScaler to scale the features\n",
    "scaler = StandardScaler(inputCol=\"features_unscaled\", outputCol=\"features_scaled\", withStd=True, withMean=True)\n",
    "scaler_model = scaler.fit(df)\n",
    "df = scaler_model.transform(df)\n",
    "\n",
    "# Show the scaled features\n",
    "df.select(\"features_scaled\").show(5, truncate=False)\n"
   ]
  },
  {
   "cell_type": "markdown",
   "metadata": {},
   "source": [
    "## K-Means clustering of categorical features into new cluster feature "
   ]
  },
  {
   "cell_type": "code",
   "execution_count": null,
   "metadata": {},
   "outputs": [],
   "source": [
    "from pyspark.ml.clustering import KMeans\n",
    "import matplotlib.pyplot as plt\n",
    "\n",
    "assembler = VectorAssembler(\n",
    "    inputCols=[\"features_scaled\", \"proto_encoded\", \"conn_state_encoded\", \"id_resp_p_encoded\"],\n",
    "    outputCol=\"kmeans_features\"\n",
    ")\n",
    "\n",
    "# Define a range of k values to test\n",
    "k_values = range(2, 11)\n",
    "wcss = []\n",
    "\n",
    "for k in k_values:\n",
    "    kmeans = KMeans(featuresCol=\"kmeans_features\", k=k)\n",
    "    model = kmeans.fit(df)\n",
    "    wcss.append(model.summary.trainingCost)  # WCSS/Inertia\n",
    "\n",
    "# Plot the elbow curve\n",
    "plt.figure(figsize=(8, 5))\n",
    "plt.plot(k_values, wcss, marker='o')\n",
    "plt.title(\"Elbow Method for Optimal k\")\n",
    "plt.xlabel(\"Number of Clusters (k)\")\n",
    "plt.ylabel(\"WCSS (Within-Cluster Sum of Squares)\")\n",
    "plt.show()\n",
    "\n",
    "# Define K-Means model\n",
    "kmeans = KMeans(featuresCol=\"kmeans_features\", predictionCol=\"cluster\", k=5)  # Adjust k as needed\n",
    "\n",
    "# Fit the model\n",
    "kmeans_model = kmeans.fit(df)\n",
    "\n",
    "# Predict clusters\n",
    "df = kmeans_model.transform(df)"
   ]
  },
  {
   "cell_type": "markdown",
   "metadata": {
    "application/vnd.databricks.v1+cell": {
     "cellMetadata": {},
     "inputWidgets": {},
     "nuid": "bf3c9aed-7c13-41a3-b17d-4255b84e7533",
     "showTitle": false,
     "tableResultSettingsMap": {},
     "title": ""
    },
    "id": "X0I8dV6gL7zN"
   },
   "source": [
    "## Assemble Features for Modelling"
   ]
  },
  {
   "cell_type": "code",
   "execution_count": 0,
   "metadata": {
    "application/vnd.databricks.v1+cell": {
     "cellMetadata": {
      "byteLimit": 2048000,
      "rowLimit": 10000
     },
     "inputWidgets": {},
     "nuid": "04d3d2a8-a4ff-4739-970c-a546b87bed05",
     "showTitle": false,
     "tableResultSettingsMap": {},
     "title": ""
    },
    "id": "_uL1kqhTL_7d"
   },
   "outputs": [],
   "source": [
    "from pyspark.ml.feature import VectorAssembler\n",
    "\n",
    "final_features = [\n",
    "    \"features_scaled\",           # your numeric features\n",
    "    \"proto_encoded\",             # one-hot categorical\n",
    "    \"conn_state_encoded\",\n",
    "    \"id_resp_p_encoded\",\n",
    "    \"history_freq_encoded\"\n",
    "]\n",
    "\n",
    "assembler = VectorAssembler(inputCols=final_features, outputCol=\"features\")\n",
    "df_clean = df.dropna(subset=final_features) # i think history still have null values :(\n",
    "df_model = assembler.transform(df_clean)"
   ]
  },
  {
   "cell_type": "markdown",
   "metadata": {
    "application/vnd.databricks.v1+cell": {
     "cellMetadata": {},
     "inputWidgets": {},
     "nuid": "2d5e7df4-087a-4ca8-86b7-5816cea46ffa",
     "showTitle": false,
     "tableResultSettingsMap": {},
     "title": ""
    },
    "id": "R43x7rDi5sF8"
   },
   "source": [
    "# Model Training and Evaluation"
   ]
  },
  {
   "cell_type": "markdown",
   "metadata": {
    "application/vnd.databricks.v1+cell": {
     "cellMetadata": {},
     "inputWidgets": {},
     "nuid": "c99e9b25-dfbf-4411-8d71-0c6478fdc83c",
     "showTitle": false,
     "tableResultSettingsMap": {},
     "title": ""
    },
    "id": "yCclzB3TMgX6"
   },
   "source": [
    "## Logistic Regression"
   ]
  },
  {
   "cell_type": "code",
   "execution_count": 0,
   "metadata": {
    "application/vnd.databricks.v1+cell": {
     "cellMetadata": {},
     "inputWidgets": {},
     "nuid": "e30e70db-550d-4186-b9c7-9209d09ac218",
     "showTitle": false,
     "tableResultSettingsMap": {},
     "title": ""
    },
    "id": "sqGI5rYwM39F"
   },
   "outputs": [
    {
     "name": "stdout",
     "output_type": "stream",
     "text": [
      "+------+-----------+----------------------------------------------------------------------------------------------------------+----------+\n",
      "|label |label_index|probability                                                                                               |prediction|\n",
      "+------+-----------+----------------------------------------------------------------------------------------------------------+----------+\n",
      "|Benign|0.0        |[0.9471829434463268,0.052797362763439444,9.816902319680823E-7,1.3630853176379356E-7,1.8575791470258853E-5]|0.0       |\n",
      "|Benign|0.0        |[0.947182943544033,0.05279736266575741,9.81690230152097E-7,1.3630853160025183E-7,1.8575791448016232E-5]   |0.0       |\n",
      "|Benign|0.0        |[0.9471829434463268,0.052797362763439444,9.816902319680823E-7,1.3630853176379356E-7,1.8575791470258853E-5]|0.0       |\n",
      "|Benign|0.0        |[0.9471829404691611,0.052797365739866965,9.816902873022157E-7,1.363085367470043E-7,1.8575792148004477E-5] |0.0       |\n",
      "|Benign|0.0        |[0.9471829435038008,0.052797362705979387,9.816902308998564E-7,1.3630853166759264E-7,1.857579145717496E-5] |0.0       |\n",
      "+------+-----------+----------------------------------------------------------------------------------------------------------+----------+\n",
      "only showing top 5 rows\n",
      "\n"
     ]
    }
   ],
   "source": [
    "from pyspark.ml.classification import LogisticRegression\n",
    "from pyspark.ml.evaluation import BinaryClassificationEvaluator, MulticlassClassificationEvaluator\n",
    "\n",
    "from pyspark.ml.feature import StringIndexer\n",
    "\n",
    "# 2. Index the label\n",
    "df_model = df_model.drop(\"label_index\") # force drop existing when rerunning the cell\n",
    "\n",
    "label_indexer = StringIndexer(inputCol=\"label\", outputCol=\"label_index\", handleInvalid=\"keep\")\n",
    "df_model = label_indexer.fit(df_model).transform(df_model)\n",
    "\n",
    "train_df, test_df = df_model.randomSplit([0.8, 0.2], seed=42)\n",
    "\n",
    "lr = LogisticRegression(\n",
    "    featuresCol=\"features\",\n",
    "    labelCol=\"label_index\",\n",
    "    maxIter=20,\n",
    "    regParam=0.1,\n",
    "    elasticNetParam=0.0  # L2 regularization (Ridge)\n",
    ")\n",
    "lr_model = lr.fit(train_df)\n",
    "\n",
    "# 5. Predict on test set\n",
    "predictions = lr_model.transform(test_df)\n",
    "\n",
    "# 6. Show predictions\n",
    "predictions.select(\"label\", \"label_index\", \"probability\", \"prediction\").show(5, truncate=False)"
   ]
  },
  {
   "cell_type": "code",
   "execution_count": 0,
   "metadata": {
    "application/vnd.databricks.v1+cell": {
     "cellMetadata": {},
     "inputWidgets": {},
     "nuid": "99fef1d0-19a5-4d85-9abb-1c4497046aa4",
     "showTitle": false,
     "tableResultSettingsMap": {},
     "title": ""
    }
   },
   "outputs": [
    {
     "name": "stdout",
     "output_type": "stream",
     "text": [
      "Multiclass accuracy: 1.0000\n",
      "+-----------+----------+------+\n",
      "|label_index|prediction| count|\n",
      "+-----------+----------+------+\n",
      "|        2.0|       0.0|     5|\n",
      "|        2.0|       1.0|     1|\n",
      "|        0.0|       0.0|821951|\n",
      "|        1.0|       1.0|381230|\n",
      "|        0.0|       1.0|     2|\n",
      "|        1.0|       0.0|    12|\n",
      "+-----------+----------+------+\n",
      "\n",
      "F1 Score on test set: 1.0000\n"
     ]
    }
   ],
   "source": [
    "# 7. Evaluate ROC-AUC\n",
    "evaluator = MulticlassClassificationEvaluator(\n",
    "    labelCol=\"label_index\",\n",
    "    predictionCol=\"prediction\",\n",
    "    metricName=\"accuracy\"  # or \"f1\", \"weightedPrecision\", \"weightedRecall\"\n",
    ")\n",
    "\n",
    "accuracy = evaluator.evaluate(predictions)\n",
    "print(f\"Multiclass accuracy: {accuracy:.4f}\")\n",
    "\n",
    "# 8. Show confusion matrix\n",
    "predictions.groupBy(\"label_index\", \"prediction\").count().show()\n",
    "\n",
    "# 9. (Optional) Evaluate F1 score\n",
    "multi_eval = MulticlassClassificationEvaluator(\n",
    "    labelCol=\"label_index\", predictionCol=\"prediction\", metricName=\"f1\"\n",
    ")\n",
    "f1_score = multi_eval.evaluate(predictions)\n",
    "print(f\"F1 Score on test set: {f1_score:.4f}\")"
   ]
  },
  {
   "cell_type": "markdown",
   "metadata": {
    "application/vnd.databricks.v1+cell": {
     "cellMetadata": {},
     "inputWidgets": {},
     "nuid": "f7822bf8-8514-4c87-aa29-71e0f9e44f3f",
     "showTitle": false,
     "tableResultSettingsMap": {},
     "title": ""
    }
   },
   "source": [
    "model performs well for common classes (0.0 and 1.0) but completely fails to identify class 2.0 (probably due to class imbalance)\n",
    "\n",
    "F1 = 1.0"
   ]
  },
  {
   "cell_type": "code",
   "execution_count": 0,
   "metadata": {
    "application/vnd.databricks.v1+cell": {
     "cellMetadata": {},
     "inputWidgets": {},
     "nuid": "73aa0a2a-733d-4886-bca2-795313bbc11b",
     "showTitle": false,
     "tableResultSettingsMap": {},
     "title": ""
    }
   },
   "outputs": [
    {
     "name": "stdout",
     "output_type": "stream",
     "text": [
      "+------------------+-----------+\n",
      "|label             |label_index|\n",
      "+------------------+-----------+\n",
      "|Benign            |0.0        |\n",
      "|Malicious   DDoS  |1.0        |\n",
      "|Malicious   C&C   |2.0        |\n",
      "|Malicious   Attack|3.0        |\n",
      "+------------------+-----------+\n",
      "\n"
     ]
    }
   ],
   "source": [
    "df_model.select(\"label\", \"label_index\").distinct().orderBy(\"label_index\").show(truncate=False)\n"
   ]
  },
  {
   "cell_type": "code",
   "execution_count": 0,
   "metadata": {
    "application/vnd.databricks.v1+cell": {
     "cellMetadata": {},
     "inputWidgets": {},
     "nuid": "ef185b12-7d48-4496-a9ff-a8289f19c23d",
     "showTitle": false,
     "tableResultSettingsMap": {},
     "title": ""
    }
   },
   "outputs": [
    {
     "name": "stdout",
     "output_type": "stream",
     "text": [
      "+-----------+-------+\n",
      "|label_index|  count|\n",
      "+-----------+-------+\n",
      "|        0.0|4108318|\n",
      "|        3.0|      3|\n",
      "|        2.0|     33|\n",
      "|        1.0|1906796|\n",
      "+-----------+-------+\n",
      "\n",
      "+-----------+------+\n",
      "|label_index| count|\n",
      "+-----------+------+\n",
      "|        0.0|821953|\n",
      "|        2.0|     6|\n",
      "|        1.0|381242|\n",
      "+-----------+------+\n",
      "\n"
     ]
    }
   ],
   "source": [
    "df_model.groupBy(\"label_index\").count().show()\n",
    "test_df.groupBy(\"label_index\").count().show()\n"
   ]
  },
  {
   "cell_type": "markdown",
   "metadata": {
    "application/vnd.databricks.v1+cell": {
     "cellMetadata": {},
     "inputWidgets": {},
     "nuid": "5fe93d9c-f6bb-496e-b464-67f4e5e146f7",
     "showTitle": false,
     "tableResultSettingsMap": {},
     "title": ""
    },
    "id": "phW0E54BMjuc"
   },
   "source": [
    "## Random Forest"
   ]
  },
  {
   "cell_type": "code",
   "execution_count": 0,
   "metadata": {
    "application/vnd.databricks.v1+cell": {
     "cellMetadata": {},
     "inputWidgets": {},
     "nuid": "1e128c25-f640-406a-91e9-f41ef69f7f77",
     "showTitle": false,
     "tableResultSettingsMap": {},
     "title": ""
    },
    "id": "4NxND86oM56v"
   },
   "outputs": [],
   "source": [
    "from pyspark.ml.regression import LinearRegression, RandomForestRegressor, GBTRegressor\n",
    "from pyspark.ml.classification import LogisticRegression, RandomForestClassifier, GBTClassifier\n",
    "rf = RandomForestClassifier(\n",
    "    featuresCol=\"features\",\n",
    "    labelCol=\"label_index\",\n",
    "    numTrees=10,\n",
    "    maxDepth=5\n",
    ")\n",
    "\n",
    "# Create a Random Forest pipeline\n",
    "rf_pipeline = Pipeline(stages=[\n",
    "    label_indexer,\n",
    "    encoder,\n",
    "    assembler,\n",
    "    rf\n",
    "])\n",
    "\n",
    "# Train the Random Forest model\n",
    "rf_model = rf_pipeline.fit(train)\n",
    "\n",
    "rf_predictions = rf_model.transform(train)\n",
    "\n",
    "evaluator_auc = BinaryClassificationEvaluator(\n",
    "    labelCol=\"label_index\",\n",
    "    rawPredictionCol=\"rawPrediction\", \n",
    "    metricName=\"areaUnderROC\"\n",
    ")\n",
    "\n",
    "rf_auc = evaluator_auc.evaluate(rf_predictions)\n",
    "print(f\"GBT AUC: {rf_auc:.4f}\")\n",
    "\n",
    "evaluator_acc = MulticlassClassificationEvaluator(\n",
    "    labelCol=\"label_index\", \n",
    "    predictionCol=\"prediction\", \n",
    "    metricName=\"accuracy\"\n",
    ")\n",
    "\n",
    "rf_accuracy = evaluator_acc.evaluate(rf_predictions)\n",
    "print(f\"Accuracy: {rf_accuracy:.4f}\")"
   ]
  },
  {
   "cell_type": "markdown",
   "metadata": {
    "application/vnd.databricks.v1+cell": {
     "cellMetadata": {},
     "inputWidgets": {},
     "nuid": "969e8004-3262-4927-b50b-b2e052708484",
     "showTitle": false,
     "tableResultSettingsMap": {},
     "title": ""
    },
    "id": "VLBMnQuGMwBZ"
   },
   "source": [
    "## Gradient Boosted Trees"
   ]
  },
  {
   "cell_type": "code",
   "execution_count": 0,
   "metadata": {
    "application/vnd.databricks.v1+cell": {
     "cellMetadata": {
      "byteLimit": 2048000,
      "rowLimit": 10000
     },
     "inputWidgets": {},
     "nuid": "abc9e4ec-beae-4561-bc71-5635914ed671",
     "showTitle": false,
     "tableResultSettingsMap": {},
     "title": ""
    },
    "id": "Sy5xHJXsM7Nt"
   },
   "outputs": [
    {
     "name": "stdout",
     "output_type": "stream",
     "text": [
      "+------+-----------+-----------------------------------------+----------+\n",
      "|label |label_index|probability                              |prediction|\n",
      "+------+-----------+-----------------------------------------+----------+\n",
      "|Benign|0.0        |[0.9784791144416592,0.021520885558340752]|0.0       |\n",
      "|Benign|0.0        |[0.9784791144416592,0.021520885558340752]|0.0       |\n",
      "|Benign|0.0        |[0.9784791144416592,0.021520885558340752]|0.0       |\n",
      "|Benign|0.0        |[0.9784791144416592,0.021520885558340752]|0.0       |\n",
      "|Benign|0.0        |[0.9784791144416592,0.021520885558340752]|0.0       |\n",
      "+------+-----------+-----------------------------------------+----------+\n",
      "only showing top 5 rows\n",
      "\n"
     ]
    }
   ],
   "source": [
    "# Gradient boosted tree is binary\n",
    "\n",
    "from pyspark.ml.classification import GBTClassifier\n",
    "# from pyspark.ml import Pipeline\n",
    "\n",
    "df_model = df_model.drop(\"label_index\") # force drop existing when rerunning the cell\n",
    "\n",
    "df_model = df_model.withColumn(\n",
    "    \"label\",\n",
    "    when(col(\"label\") == \"Benign\", \"Benign\").otherwise(\"Malicious\")\n",
    ")\n",
    "\n",
    "# reindex labels (Benign = 0, Malicious = 1)\n",
    "label_indexer = StringIndexer(inputCol=\"label\", outputCol=\"label_index\", handleInvalid=\"keep\")\n",
    "df_model = label_indexer.fit(df_model).transform(df_model)\n",
    "\n",
    "# train test split\n",
    "train_df, test_df = df_model.randomSplit([0.8, 0.2], seed=42)\n",
    "\n",
    "# gbt regressor\n",
    "gbt = GBTClassifier(featuresCol=\"features\",\n",
    "                    labelCol=\"label_index\", \n",
    "                    maxIter=50, \n",
    "                    maxDepth=5)\n",
    "\n",
    "# train the model\n",
    "gbt_model = gbt.fit(train_df)\n",
    "\n",
    "# Make predictions with Gradient Boosted Tree\n",
    "gbt_predictions = gbt_model.transform(test_df)\n",
    "\n",
    "# display predictions\n",
    "gbt_predictions.select(\"label\", \"label_index\", \"probability\", \"prediction\").show(5, truncate=False)"
   ]
  },
  {
   "cell_type": "code",
   "execution_count": 0,
   "metadata": {
    "application/vnd.databricks.v1+cell": {
     "cellMetadata": {
      "byteLimit": 2048000,
      "rowLimit": 10000
     },
     "inputWidgets": {},
     "nuid": "6fc624c7-042f-4fdd-98b3-6c5ec1ef94d0",
     "showTitle": false,
     "tableResultSettingsMap": {},
     "title": ""
    }
   },
   "outputs": [
    {
     "name": "stdout",
     "output_type": "stream",
     "text": [
      "+-----------+-------+\n",
      "|label_index|  count|\n",
      "+-----------+-------+\n",
      "|        0.0|4108318|\n",
      "|        1.0|1906832|\n",
      "+-----------+-------+\n",
      "\n"
     ]
    }
   ],
   "source": [
    "df_model.groupBy(\"label_index\").count().show()"
   ]
  },
  {
   "cell_type": "code",
   "execution_count": 0,
   "metadata": {
    "application/vnd.databricks.v1+cell": {
     "cellMetadata": {
      "byteLimit": 2048000,
      "rowLimit": 10000
     },
     "inputWidgets": {},
     "nuid": "9271c448-f9c5-4f1e-844d-6bc5e598cc03",
     "showTitle": false,
     "tableResultSettingsMap": {},
     "title": ""
    }
   },
   "outputs": [
    {
     "name": "stdout",
     "output_type": "stream",
     "text": [
      "GBT AUC: 1.0000\n",
      "Accuracy: 1.0000\n"
     ]
    }
   ],
   "source": [
    "from pyspark.ml.evaluation import BinaryClassificationEvaluator, MulticlassClassificationEvaluator\n",
    "\n",
    "# Evaluation\n",
    "# evaluate AUC using BinaryClassificationEvaluator\n",
    "evaluator_auc = BinaryClassificationEvaluator(\n",
    "    labelCol=\"label_index\",\n",
    "    rawPredictionCol=\"rawPrediction\",  # GBT outputs rawPrediction\n",
    "    metricName=\"areaUnderROC\"\n",
    ")\n",
    "\n",
    "gbt_auc = evaluator_auc.evaluate(gbt_predictions)\n",
    "print(f\"GBT AUC: {gbt_auc:.4f}\")\n",
    "\n",
    "evaluator_acc = MulticlassClassificationEvaluator(\n",
    "    labelCol=\"label_index\", \n",
    "    predictionCol=\"prediction\", \n",
    "    metricName=\"accuracy\"\n",
    ")\n",
    "\n",
    "gbt_accuracy = evaluator_acc.evaluate(gbt_predictions)\n",
    "print(f\"Accuracy: {gbt_accuracy:.4f}\")"
   ]
  },
  {
   "cell_type": "markdown",
   "metadata": {
    "application/vnd.databricks.v1+cell": {
     "cellMetadata": {},
     "inputWidgets": {},
     "nuid": "a345a235-a8c1-46fb-bf83-e4477bf6f0f9",
     "showTitle": false,
     "tableResultSettingsMap": {},
     "title": ""
    },
    "id": "Lehy1GtUM1bq"
   },
   "source": [
    "## MLP"
   ]
  },
  {
   "cell_type": "code",
   "execution_count": 0,
   "metadata": {
    "application/vnd.databricks.v1+cell": {
     "cellMetadata": {},
     "inputWidgets": {},
     "nuid": "9353c975-0344-463f-a616-8196f6f7b02e",
     "showTitle": false,
     "tableResultSettingsMap": {},
     "title": ""
    },
    "id": "MwdyBCqcM81h"
   },
   "outputs": [],
   "source": [
    "# to be filled"
   ]
  },
  {
   "cell_type": "markdown",
   "metadata": {
    "application/vnd.databricks.v1+cell": {
     "cellMetadata": {},
     "inputWidgets": {},
     "nuid": "2745659a-e466-463c-8ffd-8438525b089d",
     "showTitle": false,
     "tableResultSettingsMap": {},
     "title": ""
    },
    "id": "O_f4FngJ5tOD"
   },
   "source": [
    "# Hyperparameter Tuning & Cross-Validation"
   ]
  },
  {
   "cell_type": "code",
   "execution_count": 0,
   "metadata": {
    "application/vnd.databricks.v1+cell": {
     "cellMetadata": {},
     "inputWidgets": {},
     "nuid": "b94701bd-edd8-4657-b039-c3bac6aad0fc",
     "showTitle": false,
     "tableResultSettingsMap": {},
     "title": ""
    },
    "id": "MHoLi5yvNHjz"
   },
   "outputs": [],
   "source": [
    "# to be done"
   ]
  },
  {
   "cell_type": "markdown",
   "metadata": {
    "application/vnd.databricks.v1+cell": {
     "cellMetadata": {},
     "inputWidgets": {},
     "nuid": "8ff4bec4-c10d-4b3e-9bbb-47c311d67481",
     "showTitle": false,
     "tableResultSettingsMap": {},
     "title": ""
    },
    "id": "sVSpNYqJ52bF"
   },
   "source": [
    "# Model Comparison"
   ]
  },
  {
   "cell_type": "code",
   "execution_count": 0,
   "metadata": {
    "application/vnd.databricks.v1+cell": {
     "cellMetadata": {},
     "inputWidgets": {},
     "nuid": "2675bcec-7c68-490c-a503-698301480209",
     "showTitle": false,
     "tableResultSettingsMap": {},
     "title": ""
    }
   },
   "outputs": [],
   "source": []
  },
  {
   "cell_type": "markdown",
   "metadata": {
    "application/vnd.databricks.v1+cell": {
     "cellMetadata": {},
     "inputWidgets": {},
     "nuid": "52a6158a-6cda-4227-8d3e-8d84445fab67",
     "showTitle": false,
     "tableResultSettingsMap": {},
     "title": ""
    },
    "id": "phT0fenb56Nq"
   },
   "source": [
    "write interpretations here"
   ]
  }
 ],
 "metadata": {
  "application/vnd.databricks.v1+notebook": {
   "computePreferences": null,
   "dashboards": [],
   "environmentMetadata": null,
   "inputWidgetPreferences": null,
   "language": "python",
   "notebookMetadata": {
    "pythonIndentUnit": 4
   },
   "notebookName": "V_2_BT4221_Group_Project",
   "widgets": {}
  },
  "colab": {
   "provenance": [],
   "toc_visible": true
  },
  "kernelspec": {
   "display_name": ".venv",
   "language": "python",
   "name": "python3"
  },
  "language_info": {
   "codemirror_mode": {
    "name": "ipython",
    "version": 3
   },
   "file_extension": ".py",
   "mimetype": "text/x-python",
   "name": "python",
   "nbconvert_exporter": "python",
   "pygments_lexer": "ipython3",
   "version": "3.13.2"
  }
 },
 "nbformat": 4,
 "nbformat_minor": 0
}
