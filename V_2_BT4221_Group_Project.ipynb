{
 "cells": [
  {
   "cell_type": "markdown",
   "metadata": {
    "application/vnd.databricks.v1+cell": {
     "cellMetadata": {},
     "inputWidgets": {},
     "nuid": "ab7fffc2-5b46-4c38-aed0-418e281837ee",
     "showTitle": false,
     "tableResultSettingsMap": {},
     "title": ""
    },
    "id": "MuHMusOPE9ag"
   },
   "source": [
    "# Load Dataset"
   ]
  },
  {
   "cell_type": "code",
   "execution_count": 1,
   "metadata": {
    "application/vnd.databricks.v1+cell": {
     "cellMetadata": {},
     "inputWidgets": {},
     "nuid": "3015a722-fa1d-45bc-8909-0c1956f120a7",
     "showTitle": false,
     "tableResultSettingsMap": {},
     "title": ""
    },
    "colab": {
     "base_uri": "https://localhost:8080/"
    },
    "id": "U9d8CGDIJMeN",
    "outputId": "6e375b9c-f67a-494c-9065-176e66108b1b"
   },
   "outputs": [
    {
     "name": "stdout",
     "output_type": "stream",
     "text": [
<<<<<<< HEAD
      "Requirement already satisfied: pyspark in c:\\users\\kenneth\\appdata\\local\\programs\\python\\python310\\lib\\site-packages (3.5.5)\n",
      "Requirement already satisfied: py4j==0.10.9.7 in c:\\users\\kenneth\\appdata\\local\\programs\\python\\python310\\lib\\site-packages (from pyspark) (0.10.9.7)\n",
      "Note: you may need to restart the kernel to use updated packages.\n"
     ]
    },
    {
     "name": "stderr",
     "output_type": "stream",
     "text": [
      "\n",
      "[notice] A new release of pip is available: 23.0.1 -> 25.0.1\n",
      "[notice] To update, run: python.exe -m pip install --upgrade pip\n"
     ]
    },
    {
     "name": "stdout",
     "output_type": "stream",
     "text": [
      "Requirement already satisfied: seaborn in c:\\users\\kenneth\\appdata\\local\\programs\\python\\python310\\lib\\site-packages (0.12.2)\n",
      "Requirement already satisfied: matplotlib!=3.6.1,>=3.1 in c:\\users\\kenneth\\appdata\\local\\programs\\python\\python310\\lib\\site-packages (from seaborn) (3.7.2)\n",
      "Requirement already satisfied: numpy!=1.24.0,>=1.17 in c:\\users\\kenneth\\appdata\\local\\programs\\python\\python310\\lib\\site-packages (from seaborn) (1.25.2)\n",
      "Requirement already satisfied: pandas>=0.25 in c:\\users\\kenneth\\appdata\\local\\programs\\python\\python310\\lib\\site-packages (from seaborn) (2.0.3)\n",
      "Requirement already satisfied: fonttools>=4.22.0 in c:\\users\\kenneth\\appdata\\local\\programs\\python\\python310\\lib\\site-packages (from matplotlib!=3.6.1,>=3.1->seaborn) (4.42.0)\n",
      "Requirement already satisfied: packaging>=20.0 in c:\\users\\kenneth\\appdata\\local\\programs\\python\\python310\\lib\\site-packages (from matplotlib!=3.6.1,>=3.1->seaborn) (23.1)\n",
      "Requirement already satisfied: python-dateutil>=2.7 in c:\\users\\kenneth\\appdata\\local\\programs\\python\\python310\\lib\\site-packages (from matplotlib!=3.6.1,>=3.1->seaborn) (2.8.2)\n",
      "Requirement already satisfied: pillow>=6.2.0 in c:\\users\\kenneth\\appdata\\local\\programs\\python\\python310\\lib\\site-packages (from matplotlib!=3.6.1,>=3.1->seaborn) (10.0.0)\n",
      "Requirement already satisfied: kiwisolver>=1.0.1 in c:\\users\\kenneth\\appdata\\local\\programs\\python\\python310\\lib\\site-packages (from matplotlib!=3.6.1,>=3.1->seaborn) (1.4.4)\n",
      "Requirement already satisfied: pyparsing<3.1,>=2.3.1 in c:\\users\\kenneth\\appdata\\local\\programs\\python\\python310\\lib\\site-packages (from matplotlib!=3.6.1,>=3.1->seaborn) (3.0.9)\n",
      "Requirement already satisfied: cycler>=0.10 in c:\\users\\kenneth\\appdata\\local\\programs\\python\\python310\\lib\\site-packages (from matplotlib!=3.6.1,>=3.1->seaborn) (0.11.0)\n",
      "Requirement already satisfied: contourpy>=1.0.1 in c:\\users\\kenneth\\appdata\\local\\programs\\python\\python310\\lib\\site-packages (from matplotlib!=3.6.1,>=3.1->seaborn) (1.1.0)\n",
      "Requirement already satisfied: pytz>=2020.1 in c:\\users\\kenneth\\appdata\\local\\programs\\python\\python310\\lib\\site-packages (from pandas>=0.25->seaborn) (2023.3)\n",
      "Requirement already satisfied: tzdata>=2022.1 in c:\\users\\kenneth\\appdata\\local\\programs\\python\\python310\\lib\\site-packages (from pandas>=0.25->seaborn) (2023.3)\n",
      "Requirement already satisfied: six>=1.5 in c:\\users\\kenneth\\appdata\\local\\programs\\python\\python310\\lib\\site-packages (from python-dateutil>=2.7->matplotlib!=3.6.1,>=3.1->seaborn) (1.16.0)\n",
      "Note: you may need to restart the kernel to use updated packages.\n"
     ]
    },
    {
     "name": "stderr",
     "output_type": "stream",
     "text": [
      "\n",
      "[notice] A new release of pip is available: 23.0.1 -> 25.0.1\n",
      "[notice] To update, run: python.exe -m pip install --upgrade pip\n"
     ]
    },
    {
     "name": "stdout",
     "output_type": "stream",
     "text": [
      "Requirement already satisfied: seaborn in c:\\users\\kenneth\\appdata\\local\\programs\\python\\python310\\lib\\site-packages (0.12.2)\n",
      "Requirement already satisfied: matplotlib in c:\\users\\kenneth\\appdata\\local\\programs\\python\\python310\\lib\\site-packages (3.7.2)\n",
      "Requirement already satisfied: pandas in c:\\users\\kenneth\\appdata\\local\\programs\\python\\python310\\lib\\site-packages (2.0.3)\n",
      "Requirement already satisfied: numpy in c:\\users\\kenneth\\appdata\\local\\programs\\python\\python310\\lib\\site-packages (1.25.2)\n",
      "Requirement already satisfied: pyparsing<3.1,>=2.3.1 in c:\\users\\kenneth\\appdata\\local\\programs\\python\\python310\\lib\\site-packages (from matplotlib) (3.0.9)\n",
      "Requirement already satisfied: cycler>=0.10 in c:\\users\\kenneth\\appdata\\local\\programs\\python\\python310\\lib\\site-packages (from matplotlib) (0.11.0)\n",
      "Requirement already satisfied: contourpy>=1.0.1 in c:\\users\\kenneth\\appdata\\local\\programs\\python\\python310\\lib\\site-packages (from matplotlib) (1.1.0)\n",
      "Requirement already satisfied: packaging>=20.0 in c:\\users\\kenneth\\appdata\\local\\programs\\python\\python310\\lib\\site-packages (from matplotlib) (23.1)\n",
      "Requirement already satisfied: kiwisolver>=1.0.1 in c:\\users\\kenneth\\appdata\\local\\programs\\python\\python310\\lib\\site-packages (from matplotlib) (1.4.4)\n",
      "Requirement already satisfied: fonttools>=4.22.0 in c:\\users\\kenneth\\appdata\\local\\programs\\python\\python310\\lib\\site-packages (from matplotlib) (4.42.0)\n",
      "Requirement already satisfied: python-dateutil>=2.7 in c:\\users\\kenneth\\appdata\\local\\programs\\python\\python310\\lib\\site-packages (from matplotlib) (2.8.2)\n",
      "Requirement already satisfied: pillow>=6.2.0 in c:\\users\\kenneth\\appdata\\local\\programs\\python\\python310\\lib\\site-packages (from matplotlib) (10.0.0)\n",
      "Requirement already satisfied: pytz>=2020.1 in c:\\users\\kenneth\\appdata\\local\\programs\\python\\python310\\lib\\site-packages (from pandas) (2023.3)\n",
      "Requirement already satisfied: tzdata>=2022.1 in c:\\users\\kenneth\\appdata\\local\\programs\\python\\python310\\lib\\site-packages (from pandas) (2023.3)\n",
      "Requirement already satisfied: six>=1.5 in c:\\users\\kenneth\\appdata\\local\\programs\\python\\python310\\lib\\site-packages (from python-dateutil>=2.7->matplotlib) (1.16.0)\n",
      "Note: you may need to restart the kernel to use updated packages.\n"
     ]
    },
    {
     "name": "stderr",
     "output_type": "stream",
     "text": [
      "\n",
      "[notice] A new release of pip is available: 23.0.1 -> 25.0.1\n",
      "[notice] To update, run: python.exe -m pip install --upgrade pip\n"
     ]
=======
      "Requirement already satisfied: pyspark in c:\\users\\jessi\\desktop\\bt4221\\maleware-detection-ml-model\\.venv\\lib\\site-packages (3.5.5)\n",
      "Requirement already satisfied: py4j==0.10.9.7 in c:\\users\\jessi\\desktop\\bt4221\\maleware-detection-ml-model\\.venv\\lib\\site-packages (from pyspark) (0.10.9.7)\n",
      "Note: you may need to restart the kernel to use updated packages.\n",
      "Requirement already satisfied: seaborn in c:\\users\\jessi\\desktop\\bt4221\\maleware-detection-ml-model\\.venv\\lib\\site-packages (0.13.2)\n",
      "Requirement already satisfied: numpy!=1.24.0,>=1.20 in c:\\users\\jessi\\desktop\\bt4221\\maleware-detection-ml-model\\.venv\\lib\\site-packages (from seaborn) (2.2.4)\n",
      "Requirement already satisfied: pandas>=1.2 in c:\\users\\jessi\\desktop\\bt4221\\maleware-detection-ml-model\\.venv\\lib\\site-packages (from seaborn) (2.2.3)\n",
      "Requirement already satisfied: matplotlib!=3.6.1,>=3.4 in c:\\users\\jessi\\desktop\\bt4221\\maleware-detection-ml-model\\.venv\\lib\\site-packages (from seaborn) (3.10.1)\n",
      "Requirement already satisfied: contourpy>=1.0.1 in c:\\users\\jessi\\desktop\\bt4221\\maleware-detection-ml-model\\.venv\\lib\\site-packages (from matplotlib!=3.6.1,>=3.4->seaborn) (1.3.1)\n",
      "Requirement already satisfied: cycler>=0.10 in c:\\users\\jessi\\desktop\\bt4221\\maleware-detection-ml-model\\.venv\\lib\\site-packages (from matplotlib!=3.6.1,>=3.4->seaborn) (0.12.1)\n",
      "Requirement already satisfied: fonttools>=4.22.0 in c:\\users\\jessi\\desktop\\bt4221\\maleware-detection-ml-model\\.venv\\lib\\site-packages (from matplotlib!=3.6.1,>=3.4->seaborn) (4.57.0)\n",
      "Requirement already satisfied: kiwisolver>=1.3.1 in c:\\users\\jessi\\desktop\\bt4221\\maleware-detection-ml-model\\.venv\\lib\\site-packages (from matplotlib!=3.6.1,>=3.4->seaborn) (1.4.8)\n",
      "Requirement already satisfied: packaging>=20.0 in c:\\users\\jessi\\desktop\\bt4221\\maleware-detection-ml-model\\.venv\\lib\\site-packages (from matplotlib!=3.6.1,>=3.4->seaborn) (24.2)\n",
      "Requirement already satisfied: pillow>=8 in c:\\users\\jessi\\desktop\\bt4221\\maleware-detection-ml-model\\.venv\\lib\\site-packages (from matplotlib!=3.6.1,>=3.4->seaborn) (11.1.0)\n",
      "Requirement already satisfied: pyparsing>=2.3.1 in c:\\users\\jessi\\desktop\\bt4221\\maleware-detection-ml-model\\.venv\\lib\\site-packages (from matplotlib!=3.6.1,>=3.4->seaborn) (3.2.3)\n",
      "Requirement already satisfied: python-dateutil>=2.7 in c:\\users\\jessi\\desktop\\bt4221\\maleware-detection-ml-model\\.venv\\lib\\site-packages (from matplotlib!=3.6.1,>=3.4->seaborn) (2.9.0.post0)\n",
      "Requirement already satisfied: pytz>=2020.1 in c:\\users\\jessi\\desktop\\bt4221\\maleware-detection-ml-model\\.venv\\lib\\site-packages (from pandas>=1.2->seaborn) (2025.2)\n",
      "Requirement already satisfied: tzdata>=2022.7 in c:\\users\\jessi\\desktop\\bt4221\\maleware-detection-ml-model\\.venv\\lib\\site-packages (from pandas>=1.2->seaborn) (2025.2)\n",
      "Requirement already satisfied: six>=1.5 in c:\\users\\jessi\\desktop\\bt4221\\maleware-detection-ml-model\\.venv\\lib\\site-packages (from python-dateutil>=2.7->matplotlib!=3.6.1,>=3.4->seaborn) (1.17.0)\n",
      "Note: you may need to restart the kernel to use updated packages.\n",
      "Requirement already satisfied: seaborn in c:\\users\\jessi\\desktop\\bt4221\\maleware-detection-ml-model\\.venv\\lib\\site-packages (0.13.2)\n",
      "Requirement already satisfied: matplotlib in c:\\users\\jessi\\desktop\\bt4221\\maleware-detection-ml-model\\.venv\\lib\\site-packages (3.10.1)\n",
      "Requirement already satisfied: pandas in c:\\users\\jessi\\desktop\\bt4221\\maleware-detection-ml-model\\.venv\\lib\\site-packages (2.2.3)\n",
      "Requirement already satisfied: numpy in c:\\users\\jessi\\desktop\\bt4221\\maleware-detection-ml-model\\.venv\\lib\\site-packages (2.2.4)\n",
      "Requirement already satisfied: contourpy>=1.0.1 in c:\\users\\jessi\\desktop\\bt4221\\maleware-detection-ml-model\\.venv\\lib\\site-packages (from matplotlib) (1.3.1)\n",
      "Requirement already satisfied: cycler>=0.10 in c:\\users\\jessi\\desktop\\bt4221\\maleware-detection-ml-model\\.venv\\lib\\site-packages (from matplotlib) (0.12.1)\n",
      "Requirement already satisfied: fonttools>=4.22.0 in c:\\users\\jessi\\desktop\\bt4221\\maleware-detection-ml-model\\.venv\\lib\\site-packages (from matplotlib) (4.57.0)\n",
      "Requirement already satisfied: kiwisolver>=1.3.1 in c:\\users\\jessi\\desktop\\bt4221\\maleware-detection-ml-model\\.venv\\lib\\site-packages (from matplotlib) (1.4.8)\n",
      "Requirement already satisfied: packaging>=20.0 in c:\\users\\jessi\\desktop\\bt4221\\maleware-detection-ml-model\\.venv\\lib\\site-packages (from matplotlib) (24.2)\n",
      "Requirement already satisfied: pillow>=8 in c:\\users\\jessi\\desktop\\bt4221\\maleware-detection-ml-model\\.venv\\lib\\site-packages (from matplotlib) (11.1.0)\n",
      "Requirement already satisfied: pyparsing>=2.3.1 in c:\\users\\jessi\\desktop\\bt4221\\maleware-detection-ml-model\\.venv\\lib\\site-packages (from matplotlib) (3.2.3)\n",
      "Requirement already satisfied: python-dateutil>=2.7 in c:\\users\\jessi\\desktop\\bt4221\\maleware-detection-ml-model\\.venv\\lib\\site-packages (from matplotlib) (2.9.0.post0)\n",
      "Requirement already satisfied: pytz>=2020.1 in c:\\users\\jessi\\desktop\\bt4221\\maleware-detection-ml-model\\.venv\\lib\\site-packages (from pandas) (2025.2)\n",
      "Requirement already satisfied: tzdata>=2022.7 in c:\\users\\jessi\\desktop\\bt4221\\maleware-detection-ml-model\\.venv\\lib\\site-packages (from pandas) (2025.2)\n",
      "Requirement already satisfied: six>=1.5 in c:\\users\\jessi\\desktop\\bt4221\\maleware-detection-ml-model\\.venv\\lib\\site-packages (from python-dateutil>=2.7->matplotlib) (1.17.0)\n",
      "Note: you may need to restart the kernel to use updated packages.\n"
     ]
>>>>>>> 4aaf0986c7893fe8035b68bba5c86946b3a43f5c
    }
   ],
   "source": [
    "%pip install pyspark\n",
    "%pip install seaborn\n",
    "%pip install seaborn matplotlib pandas numpy\n"
   ]
  },
  {
   "cell_type": "code",
   "execution_count": 2,
   "metadata": {
    "application/vnd.databricks.v1+cell": {
     "cellMetadata": {
      "byteLimit": 2048000,
      "rowLimit": 10000
     },
     "inputWidgets": {},
     "nuid": "de144ed6-9b78-43a3-9fc1-f501d3811db2",
     "showTitle": false,
     "tableResultSettingsMap": {},
     "title": ""
    },
    "id": "wza_1GzTtyur"
   },
   "outputs": [],
   "source": [
    "# imports\n",
    "from pyspark.sql import SparkSession\n",
    "from pyspark.sql import functions as F\n",
    "from pyspark.sql.functions import split, col, count, when, sum, expr, udf\n",
    "from pyspark.sql.types import FloatType, DoubleType\n",
    "from pyspark.sql.window import Window\n",
    "from pyspark.ml.clustering import KMeans\n",
    "from pyspark.ml.feature import VectorAssembler, StandardScaler\n",
    "from pyspark.ml import Pipeline\n",
    "\n",
    "import math\n",
    "import seaborn as sns\n",
    "import matplotlib.pyplot as plt\n",
    "import pandas as pd\n",
    "import numpy as np\n",
    "\n",
    "# from google.colab import files"
   ]
  },
  {
   "cell_type": "code",
   "execution_count": 3,
   "metadata": {},
   "outputs": [
    {
     "name": "stderr",
     "output_type": "stream",
     "text": [
      "<>:2: SyntaxWarning: invalid escape sequence '\\P'\n",
      "<>:2: SyntaxWarning: invalid escape sequence '\\P'\n",
      "C:\\Users\\jessi\\AppData\\Local\\Temp\\ipykernel_3248\\3929462842.py:2: SyntaxWarning: invalid escape sequence '\\P'\n",
      "  os.environ[\"JAVA_HOME\"] = \"C:\\Program Files\\Eclipse Adoptium\\jdk-8.0.442.6-hotspot\"\n"
     ]
    }
   ],
   "source": [
    "import os\n",
    "os.environ[\"JAVA_HOME\"] = \"C:\\Program Files\\Eclipse Adoptium\\jdk-8.0.442.6-hotspot\""
   ]
  },
  {
   "cell_type": "code",
   "execution_count": 4,
   "metadata": {
    "application/vnd.databricks.v1+cell": {
     "cellMetadata": {
      "byteLimit": 2048000,
      "rowLimit": 10000
     },
     "inputWidgets": {},
     "nuid": "515b6157-14c8-4c9e-a73c-5d9f995ce26c",
     "showTitle": false,
     "tableResultSettingsMap": {},
     "title": ""
    },
    "colab": {
     "base_uri": "https://localhost:8080/"
    },
    "id": "bHvifmtp9W8I",
    "outputId": "a1fd5426-fc7b-4d24-ee69-e9a5f0644a1c"
   },
   "outputs": [
    {
     "name": "stdout",
     "output_type": "stream",
     "text": [
      "Spark session created.\n"
     ]
    }
   ],
   "source": [
    "from pyspark.sql import SparkSession\n",
    "\n",
    "# Initialize Spark session\n",
    "spark = SparkSession.builder.appName(\"NetTraffic\").getOrCreate()\n",
    "print(\"Spark session created.\")"
   ]
  },
  {
   "cell_type": "code",
<<<<<<< HEAD
   "execution_count": 4,
   "metadata": {},
   "outputs": [
    {
     "name": "stdout",
     "output_type": "stream",
     "text": [
      "local[*]\n"
     ]
    }
   ],
   "source": [
    "print(spark.sparkContext.master)"
   ]
  },
  {
   "cell_type": "code",
   "execution_count": 11,
=======
   "execution_count": 5,
>>>>>>> 4aaf0986c7893fe8035b68bba5c86946b3a43f5c
   "metadata": {
    "application/vnd.databricks.v1+cell": {
     "cellMetadata": {
      "byteLimit": 2048000,
      "rowLimit": 10000
     },
     "inputWidgets": {},
     "nuid": "2c2c47ad-ebf3-4023-a566-911247bc3ba5",
     "showTitle": false,
     "tableResultSettingsMap": {},
     "title": ""
    }
   },
   "outputs": [],
   "source": [
    "# Path to the file (same folder as notebook)\n",
<<<<<<< HEAD
    "file_path = r\"malware.csv\" # change name if needed\n",
=======
    "file_path = \"dataset_malware.csv\" # change name if needed\n",
>>>>>>> 4aaf0986c7893fe8035b68bba5c86946b3a43f5c
    "\n",
    "# Load the CSV into a Spark DataFrame\n",
    "df = spark.read.csv(file_path, header=True, inferSchema=True, sep=\"|\")"
   ]
  },
  {
   "cell_type": "markdown",
   "metadata": {
    "application/vnd.databricks.v1+cell": {
     "cellMetadata": {},
     "inputWidgets": {},
     "nuid": "ae4cea10-5ca9-4525-9e60-8bd65021b416",
     "showTitle": false,
     "tableResultSettingsMap": {},
     "title": ""
    },
    "id": "7imKjAzND901"
   },
   "source": [
    "# Light Data Exploration"
   ]
  },
  {
   "cell_type": "markdown",
   "metadata": {
    "application/vnd.databricks.v1+cell": {
     "cellMetadata": {},
     "inputWidgets": {},
     "nuid": "8a4c36ce-3941-44cd-8111-9855ca3178f5",
     "showTitle": false,
     "tableResultSettingsMap": {},
     "title": ""
    },
    "id": "KJExQrJbDw9S"
   },
   "source": [
    "## Display first 5 rows in dataset"
   ]
  },
  {
   "cell_type": "code",
<<<<<<< HEAD
   "execution_count": 12,
=======
   "execution_count": 34,
>>>>>>> 4aaf0986c7893fe8035b68bba5c86946b3a43f5c
   "metadata": {
    "application/vnd.databricks.v1+cell": {
     "cellMetadata": {},
     "inputWidgets": {},
     "nuid": "3f94f75d-65f7-493c-bda0-bb9f42713118",
     "showTitle": false,
     "tableResultSettingsMap": {},
     "title": ""
    },
    "colab": {
     "base_uri": "https://localhost:8080/"
    },
    "collapsed": true,
    "id": "cTmZ3Gygzz4S",
    "outputId": "b967f68f-98ca-4d05-fda5-fd8dfe52cca1"
   },
   "outputs": [
    {
     "name": "stdout",
     "output_type": "stream",
     "text": [
      "+-------------------+------------------+-------------+---------+--------------+---------+-----+-------+--------+----------+----------+----------+----------+----------+------------+-------+---------+-------------+---------+-------------+--------------+---------------+--------------+\n",
      "|                 ts|               uid|    id.orig_h|id.orig_p|     id.resp_h|id.resp_p|proto|service|duration|orig_bytes|resp_bytes|conn_state|local_orig|local_resp|missed_bytes|history|orig_pkts|orig_ip_bytes|resp_pkts|resp_ip_bytes|tunnel_parents|          label|detailed-label|\n",
      "+-------------------+------------------+-------------+---------+--------------+---------+-----+-------+--------+----------+----------+----------+----------+----------+------------+-------+---------+-------------+---------+-------------+--------------+---------------+--------------+\n",
      "|1.545402842863612E9|CdNmOg26ZIaBRzPvWj|192.168.1.196|  59932.0|104.248.160.24|     80.0|  tcp|      -|3.097754|         0|         0|        S0|         -|         -|         0.0|      S|      3.0|        180.0|      0.0|          0.0|             -|Malicious   C&C|          NULL|\n",
      "|1.545402850041294E9|CgzGV333k9WCximeu8|192.168.1.196|  59932.0|104.248.160.24|     80.0|  tcp|      -|       -|         -|         -|        S0|         -|         -|         0.0|      S|      1.0|         60.0|      0.0|          0.0|             -|Malicious   C&C|          NULL|\n",
      "|1.545402858441479E9|CLm5Pd3ZnqmYVjrZ44|192.168.1.196|  59932.0|104.248.160.24|     80.0|  tcp|      -|       -|         -|         -|        S0|         -|         -|         0.0|      S|      1.0|         60.0|      0.0|          0.0|             -|Malicious   C&C|          NULL|\n",
      "|1.545402853913069E9|CDn2pd1rDD1lCMXAia|192.168.1.196|  35883.0|   192.168.1.1|     53.0|  udp|    dns|5.005148|        78|         0|        S0|         -|         -|         0.0|      D|      2.0|        134.0|      0.0|          0.0|             -|         Benign|             -|\n",
      "| 1.54540284390254E9|C1NKkV3tB4rImzbpDj|192.168.1.196|  43531.0|   192.168.1.1|     53.0|  udp|    dns|5.005145|        78|         0|        S0|         -|         -|         0.0|      D|      2.0|        134.0|      0.0|          0.0|             -|         Benign|             -|\n",
      "+-------------------+------------------+-------------+---------+--------------+---------+-----+-------+--------+----------+----------+----------+----------+----------+------------+-------+---------+-------------+---------+-------------+--------------+---------------+--------------+\n",
      "only showing top 5 rows\n",
      "\n"
     ]
    }
   ],
   "source": [
    "# print(df_split.head())\n",
    "# Show first 5 rows\n",
    "df.show(5)"
   ]
  },
  {
   "cell_type": "markdown",
   "metadata": {
    "application/vnd.databricks.v1+cell": {
     "cellMetadata": {},
     "inputWidgets": {},
     "nuid": "7ddb7214-867b-4ec8-874d-e68fa9b23691",
     "showTitle": false,
     "tableResultSettingsMap": {},
     "title": ""
    },
    "id": "LlXAE87KCnu9"
   },
   "source": [
    "## Show schema to identify column types"
   ]
  },
  {
   "cell_type": "code",
<<<<<<< HEAD
   "execution_count": 13,
=======
   "execution_count": 35,
>>>>>>> 4aaf0986c7893fe8035b68bba5c86946b3a43f5c
   "metadata": {
    "application/vnd.databricks.v1+cell": {
     "cellMetadata": {},
     "inputWidgets": {},
     "nuid": "8b6c1d18-018f-4435-8bda-b942fa85d57f",
     "showTitle": false,
     "tableResultSettingsMap": {},
     "title": ""
    },
    "colab": {
     "base_uri": "https://localhost:8080/"
    },
    "collapsed": true,
    "id": "ocADM6cYz2kk",
    "outputId": "52e67fb5-554c-4b7f-a1ba-105e697feebc"
   },
   "outputs": [
    {
     "name": "stdout",
     "output_type": "stream",
     "text": [
      "root\n",
      " |-- ts: double (nullable = true)\n",
      " |-- uid: string (nullable = true)\n",
      " |-- id.orig_h: string (nullable = true)\n",
      " |-- id.orig_p: double (nullable = true)\n",
      " |-- id.resp_h: string (nullable = true)\n",
      " |-- id.resp_p: double (nullable = true)\n",
      " |-- proto: string (nullable = true)\n",
      " |-- service: string (nullable = true)\n",
      " |-- duration: string (nullable = true)\n",
      " |-- orig_bytes: string (nullable = true)\n",
      " |-- resp_bytes: string (nullable = true)\n",
      " |-- conn_state: string (nullable = true)\n",
      " |-- local_orig: string (nullable = true)\n",
      " |-- local_resp: string (nullable = true)\n",
      " |-- missed_bytes: double (nullable = true)\n",
      " |-- history: string (nullable = true)\n",
      " |-- orig_pkts: double (nullable = true)\n",
      " |-- orig_ip_bytes: double (nullable = true)\n",
      " |-- resp_pkts: double (nullable = true)\n",
      " |-- resp_ip_bytes: double (nullable = true)\n",
      " |-- tunnel_parents: string (nullable = true)\n",
      " |-- label: string (nullable = true)\n",
      " |-- detailed-label: string (nullable = true)\n",
      "\n"
     ]
    }
   ],
   "source": [
    "df.printSchema()"
   ]
  },
  {
   "cell_type": "markdown",
   "metadata": {
    "application/vnd.databricks.v1+cell": {
     "cellMetadata": {},
     "inputWidgets": {},
     "nuid": "7e24656b-aa19-4bb9-9030-65e5d23f7caa",
     "showTitle": false,
     "tableResultSettingsMap": {},
     "title": ""
    }
   },
   "source": [
    "## Check number of rows and columns"
   ]
  },
  {
   "cell_type": "code",
<<<<<<< HEAD
   "execution_count": 14,
=======
   "execution_count": 36,
>>>>>>> 4aaf0986c7893fe8035b68bba5c86946b3a43f5c
   "metadata": {
    "application/vnd.databricks.v1+cell": {
     "cellMetadata": {},
     "inputWidgets": {},
     "nuid": "bba600aa-df94-42c2-9599-2371b84a236c",
     "showTitle": false,
     "tableResultSettingsMap": {},
     "title": ""
    }
   },
   "outputs": [
    {
     "name": "stdout",
     "output_type": "stream",
     "text": [
      "Number of rows: 10447787\n",
      "Number of columns: 23\n"
     ]
    }
   ],
   "source": [
    "num_rows = df.count()\n",
    "print(f\"Number of rows: {num_rows}\")\n",
    "num_columns = len(df.columns)\n",
    "print(f\"Number of columns: {num_columns}\")"
   ]
  },
  {
   "cell_type": "markdown",
   "metadata": {
    "application/vnd.databricks.v1+cell": {
     "cellMetadata": {},
     "inputWidgets": {},
     "nuid": "b2c493bc-4eee-4f8c-997a-7db6d3ddd96a",
     "showTitle": false,
     "tableResultSettingsMap": {},
     "title": ""
    }
   },
   "source": [
    "# Data Cleaning"
   ]
  },
  {
   "cell_type": "markdown",
   "metadata": {
    "application/vnd.databricks.v1+cell": {
     "cellMetadata": {},
     "inputWidgets": {},
     "nuid": "77968585-a0ea-4590-ae11-59c4eb3ec918",
     "showTitle": false,
     "tableResultSettingsMap": {},
     "title": ""
    },
    "id": "oE2c8Gp4RIIM"
   },
   "source": [
    "## Cast '-' to NaN change column names so that Spark will not misinterpret them"
   ]
  },
  {
   "cell_type": "code",
<<<<<<< HEAD
   "execution_count": 15,
=======
   "execution_count": 6,
>>>>>>> 4aaf0986c7893fe8035b68bba5c86946b3a43f5c
   "metadata": {
    "application/vnd.databricks.v1+cell": {
     "cellMetadata": {
      "byteLimit": 2048000,
      "rowLimit": 10000
     },
     "inputWidgets": {},
     "nuid": "09fc8c04-bd82-46c0-9316-f1a03c7f65cf",
     "showTitle": false,
     "tableResultSettingsMap": {},
     "title": ""
    },
    "colab": {
     "base_uri": "https://localhost:8080/"
    },
    "collapsed": true,
    "id": "GUlLAcOpRITz",
    "outputId": "2aa93cba-8a1e-41eb-b1fc-58f440aa63a2"
   },
   "outputs": [
    {
     "name": "stdout",
     "output_type": "stream",
     "text": [
      "+-------------------+------------------+-------------+---------+--------------+---------+-----+-------+--------+----------+----------+----------+----------+----------+------------+-------+---------+-------------+---------+-------------+--------------+---------------+--------------+\n",
      "|                 ts|               uid|    id_orig_h|id_orig_p|     id_resp_h|id_resp_p|proto|service|duration|orig_bytes|resp_bytes|conn_state|local_orig|local_resp|missed_bytes|history|orig_pkts|orig_ip_bytes|resp_pkts|resp_ip_bytes|tunnel_parents|          label|detailed-label|\n",
      "+-------------------+------------------+-------------+---------+--------------+---------+-----+-------+--------+----------+----------+----------+----------+----------+------------+-------+---------+-------------+---------+-------------+--------------+---------------+--------------+\n",
      "|1.545402842863612E9|CdNmOg26ZIaBRzPvWj|192.168.1.196|  59932.0|104.248.160.24|     80.0|  tcp|   NULL|3.097754|         0|         0|        S0|      NULL|      NULL|         0.0|      S|      3.0|        180.0|      0.0|          0.0|          NULL|Malicious   C&C|          NULL|\n",
      "|1.545402850041294E9|CgzGV333k9WCximeu8|192.168.1.196|  59932.0|104.248.160.24|     80.0|  tcp|   NULL|    NULL|      NULL|      NULL|        S0|      NULL|      NULL|         0.0|      S|      1.0|         60.0|      0.0|          0.0|          NULL|Malicious   C&C|          NULL|\n",
      "|1.545402858441479E9|CLm5Pd3ZnqmYVjrZ44|192.168.1.196|  59932.0|104.248.160.24|     80.0|  tcp|   NULL|    NULL|      NULL|      NULL|        S0|      NULL|      NULL|         0.0|      S|      1.0|         60.0|      0.0|          0.0|          NULL|Malicious   C&C|          NULL|\n",
      "|1.545402853913069E9|CDn2pd1rDD1lCMXAia|192.168.1.196|  35883.0|   192.168.1.1|     53.0|  udp|    dns|5.005148|        78|         0|        S0|      NULL|      NULL|         0.0|      D|      2.0|        134.0|      0.0|          0.0|          NULL|         Benign|          NULL|\n",
      "| 1.54540284390254E9|C1NKkV3tB4rImzbpDj|192.168.1.196|  43531.0|   192.168.1.1|     53.0|  udp|    dns|5.005145|        78|         0|        S0|      NULL|      NULL|         0.0|      D|      2.0|        134.0|      0.0|          0.0|          NULL|         Benign|          NULL|\n",
      "+-------------------+------------------+-------------+---------+--------------+---------+-----+-------+--------+----------+----------+----------+----------+----------+------------+-------+---------+-------------+---------+-------------+--------------+---------------+--------------+\n",
      "only showing top 5 rows\n",
      "\n"
     ]
    }
   ],
   "source": [
    "from pyspark.sql.functions import col, when\n",
    "\n",
    "for column in df.columns:\n",
    "    df = df.withColumn(column, when(col(f\"`{column}`\") == \"-\", None).otherwise(col(f\"`{column}`\")))\n",
    "\n",
    "# Rename columns to replace dots with underscores\n",
    "new_column_names = [c.replace(\".\", \"_\") for c in df.columns]\n",
    "df = df.toDF(*new_column_names)\n",
    "\n",
    "# Check\n",
    "df.show(5)"
   ]
  },
  {
   "cell_type": "markdown",
   "metadata": {
    "application/vnd.databricks.v1+cell": {
     "cellMetadata": {},
     "inputWidgets": {},
     "nuid": "d3c757cd-2df2-495e-8119-3bb5ffc9e795",
     "showTitle": false,
     "tableResultSettingsMap": {},
     "title": ""
    }
   },
   "source": [
    "## Dealing with missing values"
   ]
  },
  {
   "cell_type": "code",
<<<<<<< HEAD
   "execution_count": 16,
=======
   "execution_count": 38,
>>>>>>> 4aaf0986c7893fe8035b68bba5c86946b3a43f5c
   "metadata": {
    "application/vnd.databricks.v1+cell": {
     "cellMetadata": {
      "byteLimit": 2048000,
      "rowLimit": 10000
     },
     "inputWidgets": {},
     "nuid": "392bb792-a111-49fd-8d9b-aefe9e058da6",
     "showTitle": false,
     "tableResultSettingsMap": {},
     "title": ""
    }
   },
   "outputs": [
    {
     "data": {
      "text/html": [
       "<div>\n",
       "<style scoped>\n",
       "    .dataframe tbody tr th:only-of-type {\n",
       "        vertical-align: middle;\n",
       "    }\n",
       "\n",
       "    .dataframe tbody tr th {\n",
       "        vertical-align: top;\n",
       "    }\n",
       "\n",
       "    .dataframe thead th {\n",
       "        text-align: right;\n",
       "    }\n",
       "</style>\n",
       "<table border=\"1\" class=\"dataframe\">\n",
       "  <thead>\n",
       "    <tr style=\"text-align: right;\">\n",
       "      <th></th>\n",
       "      <th>Count</th>\n",
       "    </tr>\n",
       "  </thead>\n",
       "  <tbody>\n",
       "    <tr>\n",
       "      <th>ts</th>\n",
       "      <td>0</td>\n",
       "    </tr>\n",
       "    <tr>\n",
       "      <th>uid</th>\n",
       "      <td>0</td>\n",
       "    </tr>\n",
       "    <tr>\n",
       "      <th>id_orig_h</th>\n",
       "      <td>0</td>\n",
       "    </tr>\n",
       "    <tr>\n",
       "      <th>id_orig_p</th>\n",
       "      <td>0</td>\n",
       "    </tr>\n",
       "    <tr>\n",
       "      <th>id_resp_h</th>\n",
       "      <td>0</td>\n",
       "    </tr>\n",
       "    <tr>\n",
       "      <th>id_resp_p</th>\n",
       "      <td>0</td>\n",
       "    </tr>\n",
       "    <tr>\n",
       "      <th>proto</th>\n",
       "      <td>0</td>\n",
       "    </tr>\n",
       "    <tr>\n",
       "      <th>service</th>\n",
       "      <td>10446261</td>\n",
       "    </tr>\n",
       "    <tr>\n",
       "      <th>duration</th>\n",
       "      <td>4432615</td>\n",
       "    </tr>\n",
       "    <tr>\n",
       "      <th>orig_bytes</th>\n",
       "      <td>4432615</td>\n",
       "    </tr>\n",
       "    <tr>\n",
       "      <th>resp_bytes</th>\n",
       "      <td>4432615</td>\n",
       "    </tr>\n",
       "    <tr>\n",
       "      <th>conn_state</th>\n",
       "      <td>0</td>\n",
       "    </tr>\n",
       "    <tr>\n",
       "      <th>local_orig</th>\n",
       "      <td>10447787</td>\n",
       "    </tr>\n",
       "    <tr>\n",
       "      <th>local_resp</th>\n",
       "      <td>10447787</td>\n",
       "    </tr>\n",
       "    <tr>\n",
       "      <th>missed_bytes</th>\n",
       "      <td>0</td>\n",
       "    </tr>\n",
       "    <tr>\n",
       "      <th>history</th>\n",
       "      <td>1638</td>\n",
       "    </tr>\n",
       "    <tr>\n",
       "      <th>orig_pkts</th>\n",
       "      <td>0</td>\n",
       "    </tr>\n",
       "    <tr>\n",
       "      <th>orig_ip_bytes</th>\n",
       "      <td>0</td>\n",
       "    </tr>\n",
       "    <tr>\n",
       "      <th>resp_pkts</th>\n",
       "      <td>0</td>\n",
       "    </tr>\n",
       "    <tr>\n",
       "      <th>resp_ip_bytes</th>\n",
       "      <td>0</td>\n",
       "    </tr>\n",
       "    <tr>\n",
       "      <th>tunnel_parents</th>\n",
       "      <td>10447787</td>\n",
       "    </tr>\n",
       "    <tr>\n",
       "      <th>label</th>\n",
       "      <td>0</td>\n",
       "    </tr>\n",
       "    <tr>\n",
       "      <th>detailed-label</th>\n",
       "      <td>10447775</td>\n",
       "    </tr>\n",
       "  </tbody>\n",
       "</table>\n",
       "</div>"
      ],
      "text/plain": [
       "                   Count\n",
       "ts                     0\n",
       "uid                    0\n",
       "id_orig_h              0\n",
       "id_orig_p              0\n",
       "id_resp_h              0\n",
       "id_resp_p              0\n",
       "proto                  0\n",
       "service         10446261\n",
       "duration         4432615\n",
       "orig_bytes       4432615\n",
       "resp_bytes       4432615\n",
       "conn_state             0\n",
       "local_orig      10447787\n",
       "local_resp      10447787\n",
       "missed_bytes           0\n",
       "history             1638\n",
       "orig_pkts              0\n",
       "orig_ip_bytes          0\n",
       "resp_pkts              0\n",
       "resp_ip_bytes          0\n",
       "tunnel_parents  10447787\n",
       "label                  0\n",
       "detailed-label  10447775"
      ]
     },
     "metadata": {},
     "output_type": "display_data"
    }
   ],
   "source": [
    "from pyspark.sql.functions import col, sum as spark_sum\n",
    "\n",
    "null_values = (\n",
    "    df.select([\n",
    "        spark_sum(col(c).isNull().cast(\"int\")).alias(c)\n",
    "        for c in df.columns\n",
    "    ])\n",
    "    .toPandas()\n",
    "    .T.rename(columns={0: \"Count\"})\n",
    ")\n",
    "\n",
    "display(null_values)"
   ]
  },
  {
   "cell_type": "markdown",
   "metadata": {
    "application/vnd.databricks.v1+cell": {
     "cellMetadata": {},
     "inputWidgets": {},
     "nuid": "9e38f694-c9ff-461c-908f-ddc86cf30e2f",
     "showTitle": false,
     "tableResultSettingsMap": {},
     "title": ""
    }
   },
   "source": [
    "Since duration, orig_bytes, resp_bytes all have same number of null values (4432615), very likely they are from the same few rows. All three columns are critical for modelling so it is best to drop the rows containing null values in those fields.\n",
    "\n",
    "Others like service, local_orig, local_resp, tunnel_parents amd detailed_label all have more than 10446261 out of 10447787 null values. These will not help our model and will just bloat memory, so we can drop these columns."
   ]
  },
  {
   "cell_type": "code",
<<<<<<< HEAD
   "execution_count": 17,
=======
   "execution_count": 7,
>>>>>>> 4aaf0986c7893fe8035b68bba5c86946b3a43f5c
   "metadata": {
    "application/vnd.databricks.v1+cell": {
     "cellMetadata": {
      "byteLimit": 2048000,
      "rowLimit": 10000
     },
     "inputWidgets": {},
     "nuid": "73748ea0-cadd-4e1c-b9d5-7e7dff1857e5",
     "showTitle": false,
     "tableResultSettingsMap": {},
     "title": ""
    }
   },
   "outputs": [
    {
     "data": {
      "text/html": [
       "<div>\n",
       "<style scoped>\n",
       "    .dataframe tbody tr th:only-of-type {\n",
       "        vertical-align: middle;\n",
       "    }\n",
       "\n",
       "    .dataframe tbody tr th {\n",
       "        vertical-align: top;\n",
       "    }\n",
       "\n",
       "    .dataframe thead th {\n",
       "        text-align: right;\n",
       "    }\n",
       "</style>\n",
       "<table border=\"1\" class=\"dataframe\">\n",
       "  <thead>\n",
       "    <tr style=\"text-align: right;\">\n",
       "      <th></th>\n",
       "      <th>Count</th>\n",
       "    </tr>\n",
       "  </thead>\n",
       "  <tbody>\n",
       "    <tr>\n",
       "      <th>ts</th>\n",
       "      <td>0</td>\n",
       "    </tr>\n",
       "    <tr>\n",
       "      <th>uid</th>\n",
       "      <td>0</td>\n",
       "    </tr>\n",
       "    <tr>\n",
       "      <th>id_orig_h</th>\n",
       "      <td>0</td>\n",
       "    </tr>\n",
       "    <tr>\n",
       "      <th>id_orig_p</th>\n",
       "      <td>0</td>\n",
       "    </tr>\n",
       "    <tr>\n",
       "      <th>id_resp_h</th>\n",
       "      <td>0</td>\n",
       "    </tr>\n",
       "    <tr>\n",
       "      <th>id_resp_p</th>\n",
       "      <td>0</td>\n",
       "    </tr>\n",
       "    <tr>\n",
       "      <th>proto</th>\n",
       "      <td>0</td>\n",
       "    </tr>\n",
       "    <tr>\n",
       "      <th>duration</th>\n",
       "      <td>0</td>\n",
       "    </tr>\n",
       "    <tr>\n",
       "      <th>orig_bytes</th>\n",
       "      <td>0</td>\n",
       "    </tr>\n",
       "    <tr>\n",
       "      <th>resp_bytes</th>\n",
       "      <td>0</td>\n",
       "    </tr>\n",
       "    <tr>\n",
       "      <th>conn_state</th>\n",
       "      <td>0</td>\n",
       "    </tr>\n",
       "    <tr>\n",
       "      <th>missed_bytes</th>\n",
       "      <td>0</td>\n",
       "    </tr>\n",
       "    <tr>\n",
       "      <th>history</th>\n",
       "      <td>0</td>\n",
       "    </tr>\n",
       "    <tr>\n",
       "      <th>orig_pkts</th>\n",
       "      <td>0</td>\n",
       "    </tr>\n",
       "    <tr>\n",
       "      <th>orig_ip_bytes</th>\n",
       "      <td>0</td>\n",
       "    </tr>\n",
       "    <tr>\n",
       "      <th>resp_pkts</th>\n",
       "      <td>0</td>\n",
       "    </tr>\n",
       "    <tr>\n",
       "      <th>resp_ip_bytes</th>\n",
       "      <td>0</td>\n",
       "    </tr>\n",
       "    <tr>\n",
       "      <th>label</th>\n",
       "      <td>0</td>\n",
       "    </tr>\n",
       "  </tbody>\n",
       "</table>\n",
       "</div>"
      ],
      "text/plain": [
       "               Count\n",
       "ts                 0\n",
       "uid                0\n",
       "id_orig_h          0\n",
       "id_orig_p          0\n",
       "id_resp_h          0\n",
       "id_resp_p          0\n",
       "proto              0\n",
       "duration           0\n",
       "orig_bytes         0\n",
       "resp_bytes         0\n",
       "conn_state         0\n",
       "missed_bytes       0\n",
       "history            0\n",
       "orig_pkts          0\n",
       "orig_ip_bytes      0\n",
       "resp_pkts          0\n",
       "resp_ip_bytes      0\n",
       "label              0"
      ]
     },
     "metadata": {},
     "output_type": "display_data"
    }
   ],
   "source": [
    "from pyspark.sql.functions import when, col\n",
    "\n",
    "# Columns you care about\n",
    "columns_to_clean = ['duration', 'orig_bytes', 'resp_bytes', \"history\"]\n",
    "\n",
    "# Replace \"NULL\" or \"null\" strings with actual nulls (None)\n",
    "for c in columns_to_clean:\n",
    "    df = df.withColumn(c, when((col(c) == \"NULL\") | (col(c) == \"null\"), None).otherwise(col(c)))\n",
    "\n",
    "# Now drop rows where any of these are null\n",
    "df = df.dropna(subset=columns_to_clean)\n",
    "\n",
    "from pyspark.sql.functions import col, sum as spark_sum\n",
    "\n",
    "# now drop columns with largely null values\n",
    "columns_to_drop = [\"service\", \"local_orig\", \"local_resp\", \"tunnel_parents\", \"detailed-label\"]\n",
    "df = df.drop(*columns_to_drop)\n",
    "\n",
    "\n",
    "null_values = (\n",
    "    df.select([\n",
    "        spark_sum(col(c).isNull().cast(\"int\")).alias(c)\n",
    "        for c in df.columns\n",
    "    ])\n",
    "    .toPandas()\n",
    "    .T.rename(columns={0: \"Count\"})\n",
    ")\n",
    "\n",
    "display(null_values)"
   ]
  },
  {
   "cell_type": "markdown",
   "metadata": {
    "application/vnd.databricks.v1+cell": {
     "cellMetadata": {},
     "inputWidgets": {},
     "nuid": "1eabe3f2-28c3-4935-83a1-ad17f6179db7",
     "showTitle": false,
     "tableResultSettingsMap": {},
     "title": ""
    }
   },
   "source": [
    "They are indeed from the same few rows. now there are 0 NULL count for duration, orig_bytes and resp_bytes."
   ]
  },
  {
   "cell_type": "markdown",
   "metadata": {
    "application/vnd.databricks.v1+cell": {
     "cellMetadata": {},
     "inputWidgets": {},
     "nuid": "5b88fafb-8a2a-4d36-a787-55667751abd1",
     "showTitle": false,
     "tableResultSettingsMap": {},
     "title": ""
    }
   },
   "source": [
    "## check number of rows and colums after dropping rows with null values"
   ]
  },
  {
   "cell_type": "code",
<<<<<<< HEAD
   "execution_count": 18,
=======
   "execution_count": 41,
>>>>>>> 4aaf0986c7893fe8035b68bba5c86946b3a43f5c
   "metadata": {
    "application/vnd.databricks.v1+cell": {
     "cellMetadata": {},
     "inputWidgets": {},
     "nuid": "b88860d4-4e27-43db-8ff9-c46b035996dc",
     "showTitle": false,
     "tableResultSettingsMap": {},
     "title": ""
    }
   },
   "outputs": [
    {
     "name": "stdout",
     "output_type": "stream",
     "text": [
      "Number of rows: 6015150\n",
      "Number of columns: 18\n"
     ]
    }
   ],
   "source": [
    "num_rows = df.count()\n",
    "print(f\"Number of rows: {num_rows}\")\n",
    "num_columns = len(df.columns)\n",
    "print(f\"Number of columns: {num_columns}\")"
   ]
  },
  {
   "cell_type": "markdown",
   "metadata": {
    "application/vnd.databricks.v1+cell": {
     "cellMetadata": {},
     "inputWidgets": {},
     "nuid": "9b5ce9f0-2bcd-4588-91fd-5743f2b57b32",
     "showTitle": false,
     "tableResultSettingsMap": {},
     "title": ""
    }
   },
   "source": [
    "# Deeper Data Exploration"
   ]
  },
  {
   "cell_type": "markdown",
   "metadata": {
    "application/vnd.databricks.v1+cell": {
     "cellMetadata": {},
     "inputWidgets": {},
     "nuid": "d6a3c340-5822-4a60-871b-96bf60295c04",
     "showTitle": false,
     "tableResultSettingsMap": {},
     "title": ""
    },
    "id": "talBuE4C5QnW"
   },
   "source": [
    "## Checking for Distribution of Target Variable\n"
   ]
  },
  {
   "cell_type": "code",
<<<<<<< HEAD
   "execution_count": 19,
=======
   "execution_count": 8,
>>>>>>> 4aaf0986c7893fe8035b68bba5c86946b3a43f5c
   "metadata": {
    "application/vnd.databricks.v1+cell": {
     "cellMetadata": {
      "byteLimit": 2048000,
      "rowLimit": 10000
     },
     "inputWidgets": {},
     "nuid": "7f4155f5-801d-4398-adca-2c2837796586",
     "showTitle": false,
     "tableResultSettingsMap": {},
     "title": ""
    },
    "id": "dnJM_1MM5ZA-"
   },
   "outputs": [
    {
     "name": "stdout",
     "output_type": "stream",
     "text": [
      "+----------------+-------+\n",
      "|           label|  count|\n",
      "+----------------+-------+\n",
<<<<<<< HEAD
      "|          Benign|4108340|\n",
=======
      "|          Benign|4108318|\n",
>>>>>>> 4aaf0986c7893fe8035b68bba5c86946b3a43f5c
      "|Malicious   DDoS|1906796|\n",
      "+----------------+-------+\n",
      "\n"
     ]
    }
   ],
   "source": [
    "# DROPPING ROWS WITH VERY LOW FREQUENCY --------------------------------\n",
    "df = df.filter(~col(\"label\").isin(\"Malicious   Attack\", \"Malicious   C&C\"))\n",
    "\n",
    "# Register DataFrame as a SQL table\n",
    "df.createOrReplaceTempView(\"malware_data\")\n",
    "\n",
    "# Define SQL Query to count the number of rows with 0 and 1 in the target variable\n",
    "query = \"\"\"\n",
    "SELECT\n",
    "    label,\n",
    "    COUNT(*) AS count\n",
    "FROM\n",
    "    malware_data\n",
    "GROUP BY\n",
    "    label\n",
    "\"\"\"\n",
    "\n",
    "# Run the SQL query\n",
    "result = spark.sql(query)\n",
    "result.show()"
   ]
  },
  {
   "cell_type": "markdown",
   "metadata": {
    "application/vnd.databricks.v1+cell": {
     "cellMetadata": {},
     "inputWidgets": {},
     "nuid": "cb14e088-859b-4999-81c2-3413aa8d155b",
     "showTitle": false,
     "tableResultSettingsMap": {},
     "title": ""
    },
    "id": "ctcKSB-xd2Vm"
   },
   "source": [
    "Roughly 2:1 ratio, mildly imbalanced."
   ]
  },
  {
   "cell_type": "markdown",
   "metadata": {},
   "source": [
    "## Performing Stratified Undersampling of majority benign class"
   ]
  },
  {
   "cell_type": "code",
<<<<<<< HEAD
   "execution_count": 20,
=======
   "execution_count": 9,
>>>>>>> 4aaf0986c7893fe8035b68bba5c86946b3a43f5c
   "metadata": {},
   "outputs": [
    {
     "name": "stdout",
     "output_type": "stream",
     "text": [
      "+----------------+-------+\n",
      "|           label|  count|\n",
      "+----------------+-------+\n",
<<<<<<< HEAD
      "|          Benign|2001339|\n",
=======
      "|          Benign|2001051|\n",
>>>>>>> 4aaf0986c7893fe8035b68bba5c86946b3a43f5c
      "|Malicious   DDoS|1906796|\n",
      "+----------------+-------+\n",
      "\n"
     ]
    }
   ],
   "source": [
    "# Split the data set according to the target variable\n",
    "malware_df = df.filter(col(\"label\") == \"Malicious   DDoS\")\n",
    "benign_df = df.filter(col(\"label\") == \"Benign\")\n",
    "\n",
    "benign_strata_counts = benign_df.groupBy(\"conn_state\").count().collect()\n",
    "\n",
    "target_total = 2000000\n",
    "total_benign = benign_df.count()\n",
    "\n",
    "# Turn list of Rows into a Python dict for easier access\n",
    "stratum_counts = {row['conn_state']: row['count'] for row in benign_strata_counts}\n",
    "\n",
    "# Calculate sampling fraction per category\n",
    "sampling_fractions = {\n",
    "    k: (count / total_benign) * target_total / count\n",
    "    for k, count in stratum_counts.items()\n",
    "}\n",
    "\n",
    "# Sample the data set according to the calculated sampling fractions\n",
    "sampled_benign_df = benign_df.sampleBy(\"conn_state\", fractions=sampling_fractions, seed=42)\n",
    "\n",
    "# Union the sampled benign data with the malware data and create a new DataFrame\n",
    "final_balanced_df = sampled_benign_df.union(malware_df)\n",
    "df = final_balanced_df\n",
    " \n",
    "# ---------------------------------------------------------Show distribution of new undersampled data set -------------------------------------\n",
    "\n",
    "# Register DataFrame as a SQL table\n",
    "df.createOrReplaceTempView(\"malware_data\")\n",
    "\n",
    "# Define SQL Query to count the number of rows with 0 and 1 in the target variable\n",
    "sampled_query = \"\"\"\n",
    "SELECT\n",
    "    label,\n",
    "    COUNT(*) AS count\n",
    "FROM\n",
    "    malware_data\n",
    "GROUP BY\n",
    "    label\n",
    "\"\"\"\n",
    "\n",
    "# Run the SQL query\n",
    "result = spark.sql(sampled_query)\n",
    "result.show()"
   ]
  },
  {
   "cell_type": "markdown",
   "metadata": {
    "application/vnd.databricks.v1+cell": {
     "cellMetadata": {},
     "inputWidgets": {},
     "nuid": "bb5d53bf-5112-4cdd-8339-cb7bd7d7d6db",
     "showTitle": false,
     "tableResultSettingsMap": {},
     "title": ""
    },
    "id": "p6wuYZ0OJzfC"
   },
   "source": [
    "## Summary statistics for numeric columns"
   ]
  },
  {
   "cell_type": "code",
<<<<<<< HEAD
   "execution_count": 21,
=======
   "execution_count": 44,
>>>>>>> 4aaf0986c7893fe8035b68bba5c86946b3a43f5c
   "metadata": {
    "application/vnd.databricks.v1+cell": {
     "cellMetadata": {
      "byteLimit": 2048000,
      "rowLimit": 10000
     },
     "inputWidgets": {},
     "nuid": "36322be7-16e8-466e-8b59-e64f350208a5",
     "showTitle": false,
     "tableResultSettingsMap": {},
     "title": ""
    },
    "id": "7fx_4-ySJ3-b"
   },
   "outputs": [
    {
     "data": {
      "text/html": [
       "<div>\n",
       "<style scoped>\n",
       "    .dataframe tbody tr th:only-of-type {\n",
       "        vertical-align: middle;\n",
       "    }\n",
       "\n",
       "    .dataframe tbody tr th {\n",
       "        vertical-align: top;\n",
       "    }\n",
       "\n",
       "    .dataframe thead th {\n",
       "        text-align: right;\n",
       "    }\n",
       "</style>\n",
       "<table border=\"1\" class=\"dataframe\">\n",
       "  <thead>\n",
       "    <tr style=\"text-align: right;\">\n",
       "      <th>summary</th>\n",
       "      <th>count</th>\n",
       "      <th>mean</th>\n",
       "      <th>stddev</th>\n",
       "      <th>min</th>\n",
       "      <th>25%</th>\n",
       "      <th>50%</th>\n",
       "      <th>75%</th>\n",
       "      <th>max</th>\n",
       "    </tr>\n",
       "  </thead>\n",
       "  <tbody>\n",
       "    <tr>\n",
       "      <th>duration</th>\n",
<<<<<<< HEAD
       "      <td>3908135</td>\n",
       "      <td>4.819070402916412</td>\n",
       "      <td>12.195034652416567</td>\n",
       "      <td>2.0E-6</td>\n",
       "      <td>3.093985</td>\n",
       "      <td>3.132459</td>\n",
       "      <td>3.707868</td>\n",
       "      <td>582.169</td>\n",
       "    </tr>\n",
       "    <tr>\n",
       "      <th>orig_bytes</th>\n",
       "      <td>3908135</td>\n",
       "      <td>5.479529353795713E8</td>\n",
       "      <td>4.2898524266011305E9</td>\n",
=======
       "      <td>3907847</td>\n",
       "      <td>4.818981412719324</td>\n",
       "      <td>12.19116379852404</td>\n",
       "      <td>2.0E-6</td>\n",
       "      <td>3.093989</td>\n",
       "      <td>3.132466</td>\n",
       "      <td>3.707894</td>\n",
       "      <td>298.2853</td>\n",
       "    </tr>\n",
       "    <tr>\n",
       "      <th>orig_bytes</th>\n",
       "      <td>3907847</td>\n",
       "      <td>5.479933183422238E8</td>\n",
       "      <td>4.2900079210205865E9</td>\n",
>>>>>>> 4aaf0986c7893fe8035b68bba5c86946b3a43f5c
       "      <td>0.0</td>\n",
       "      <td>0.0</td>\n",
       "      <td>0.0</td>\n",
       "      <td>0.0</td>\n",
       "      <td>6.6205577E10</td>\n",
       "    </tr>\n",
       "    <tr>\n",
       "      <th>resp_bytes</th>\n",
<<<<<<< HEAD
       "      <td>3908135</td>\n",
       "      <td>8117.434889019954</td>\n",
       "      <td>1.6045579375473876E7</td>\n",
=======
       "      <td>3907847</td>\n",
       "      <td>8606.491755946432</td>\n",
       "      <td>1.6075197110959573E7</td>\n",
>>>>>>> 4aaf0986c7893fe8035b68bba5c86946b3a43f5c
       "      <td>0.0</td>\n",
       "      <td>0.0</td>\n",
       "      <td>0.0</td>\n",
       "      <td>0.0</td>\n",
       "      <td>3.17205115E10</td>\n",
       "    </tr>\n",
       "    <tr>\n",
       "      <th>missed_bytes</th>\n",
<<<<<<< HEAD
       "      <td>3908135</td>\n",
       "      <td>0.007410184141540658</td>\n",
       "      <td>5.9505275439564125</td>\n",
=======
       "      <td>3907847</td>\n",
       "      <td>488.4654941710871</td>\n",
       "      <td>965597.3763119328</td>\n",
>>>>>>> 4aaf0986c7893fe8035b68bba5c86946b3a43f5c
       "      <td>0.0</td>\n",
       "      <td>0.0</td>\n",
       "      <td>0.0</td>\n",
       "      <td>0.0</td>\n",
<<<<<<< HEAD
       "      <td>5792.0</td>\n",
       "    </tr>\n",
       "    <tr>\n",
       "      <th>orig_pkts</th>\n",
       "      <td>3908135</td>\n",
       "      <td>8.149263011641102</td>\n",
       "      <td>3723.045611918622</td>\n",
=======
       "      <td>1.90881946E9</td>\n",
       "    </tr>\n",
       "    <tr>\n",
       "      <th>orig_pkts</th>\n",
       "      <td>3907847</td>\n",
       "      <td>8.149622285621724</td>\n",
       "      <td>3723.1827994557348</td>\n",
>>>>>>> 4aaf0986c7893fe8035b68bba5c86946b3a43f5c
       "      <td>0.0</td>\n",
       "      <td>3.0</td>\n",
       "      <td>3.0</td>\n",
       "      <td>3.0</td>\n",
       "      <td>4027345.0</td>\n",
       "    </tr>\n",
       "    <tr>\n",
       "      <th>orig_ip_bytes</th>\n",
<<<<<<< HEAD
       "      <td>3908135</td>\n",
       "      <td>320.81802880402034</td>\n",
       "      <td>104245.66300444183</td>\n",
=======
       "      <td>3907847</td>\n",
       "      <td>320.825893900145</td>\n",
       "      <td>104249.50425852719</td>\n",
>>>>>>> 4aaf0986c7893fe8035b68bba5c86946b3a43f5c
       "      <td>0.0</td>\n",
       "      <td>120.0</td>\n",
       "      <td>180.0</td>\n",
       "      <td>180.0</td>\n",
       "      <td>1.12765664E8</td>\n",
       "    </tr>\n",
       "    <tr>\n",
       "      <th>resp_pkts</th>\n",
<<<<<<< HEAD
       "      <td>3908135</td>\n",
       "      <td>0.0011798466531990322</td>\n",
       "      <td>0.4196113514276769</td>\n",
=======
       "      <td>3907847</td>\n",
       "      <td>0.0012039877712714956</td>\n",
       "      <td>0.41998089905349073</td>\n",
>>>>>>> 4aaf0986c7893fe8035b68bba5c86946b3a43f5c
       "      <td>0.0</td>\n",
       "      <td>0.0</td>\n",
       "      <td>0.0</td>\n",
       "      <td>0.0</td>\n",
       "      <td>279.0</td>\n",
       "    </tr>\n",
       "    <tr>\n",
       "      <th>resp_ip_bytes</th>\n",
<<<<<<< HEAD
       "      <td>3908135</td>\n",
       "      <td>0.9622223899634992</td>\n",
       "      <td>613.0455433552934</td>\n",
=======
       "      <td>3907847</td>\n",
       "      <td>0.9638279083085903</td>\n",
       "      <td>613.0687765824869</td>\n",
>>>>>>> 4aaf0986c7893fe8035b68bba5c86946b3a43f5c
       "      <td>0.0</td>\n",
       "      <td>0.0</td>\n",
       "      <td>0.0</td>\n",
       "      <td>0.0</td>\n",
       "      <td>413488.0</td>\n",
       "    </tr>\n",
       "  </tbody>\n",
       "</table>\n",
       "</div>"
      ],
      "text/plain": [
       "summary          count                   mean                stddev     min  \\\n",
<<<<<<< HEAD
       "duration       3908135      4.819070402916412    12.195034652416567  2.0E-6   \n",
       "orig_bytes     3908135    5.479529353795713E8  4.2898524266011305E9     0.0   \n",
       "resp_bytes     3908135      8117.434889019954  1.6045579375473876E7     0.0   \n",
       "missed_bytes   3908135   0.007410184141540658    5.9505275439564125     0.0   \n",
       "orig_pkts      3908135      8.149263011641102     3723.045611918622     0.0   \n",
       "orig_ip_bytes  3908135     320.81802880402034    104245.66300444183     0.0   \n",
       "resp_pkts      3908135  0.0011798466531990322    0.4196113514276769     0.0   \n",
       "resp_ip_bytes  3908135     0.9622223899634992     613.0455433552934     0.0   \n",
       "\n",
       "summary             25%       50%       75%            max  \n",
       "duration       3.093985  3.132459  3.707868        582.169  \n",
       "orig_bytes          0.0       0.0       0.0   6.6205577E10  \n",
       "resp_bytes          0.0       0.0       0.0  3.17205115E10  \n",
       "missed_bytes        0.0       0.0       0.0         5792.0  \n",
=======
       "duration       3907847      4.818981412719324     12.19116379852404  2.0E-6   \n",
       "orig_bytes     3907847    5.479933183422238E8  4.2900079210205865E9     0.0   \n",
       "resp_bytes     3907847      8606.491755946432  1.6075197110959573E7     0.0   \n",
       "missed_bytes   3907847      488.4654941710871     965597.3763119328     0.0   \n",
       "orig_pkts      3907847      8.149622285621724    3723.1827994557348     0.0   \n",
       "orig_ip_bytes  3907847       320.825893900145    104249.50425852719     0.0   \n",
       "resp_pkts      3907847  0.0012039877712714956   0.41998089905349073     0.0   \n",
       "resp_ip_bytes  3907847     0.9638279083085903     613.0687765824869     0.0   \n",
       "\n",
       "summary             25%       50%       75%            max  \n",
       "duration       3.093989  3.132466  3.707894       298.2853  \n",
       "orig_bytes          0.0       0.0       0.0   6.6205577E10  \n",
       "resp_bytes          0.0       0.0       0.0  3.17205115E10  \n",
       "missed_bytes        0.0       0.0       0.0   1.90881946E9  \n",
>>>>>>> 4aaf0986c7893fe8035b68bba5c86946b3a43f5c
       "orig_pkts           3.0       3.0       3.0      4027345.0  \n",
       "orig_ip_bytes     120.0     180.0     180.0   1.12765664E8  \n",
       "resp_pkts           0.0       0.0       0.0          279.0  \n",
       "resp_ip_bytes       0.0       0.0       0.0       413488.0  "
      ]
     },
     "metadata": {},
     "output_type": "display_data"
    }
   ],
   "source": [
    "# convert numerical columns\n",
    "cols_to_convert = [\n",
    "    \"duration\", \"orig_bytes\", \"resp_bytes\",\n",
    "    \"missed_bytes\", \"orig_pkts\", \"orig_ip_bytes\", \"resp_pkts\", \"resp_ip_bytes\"\n",
    "]\n",
    "\n",
    "# Convert to FloatType\n",
    "for column in cols_to_convert:\n",
    "    df = df.withColumn(column, col(column).cast(FloatType()))\n",
    "\n",
    "# Descriptive stats with Pandas for nicer formatting\n",
    "desc_stats = df.select(cols_to_convert).summary().toPandas()\n",
    "desc_stats_pd = desc_stats.set_index('summary').rename_axis(None, axis=1).T\n",
    "display(desc_stats_pd)"
   ]
  },
  {
   "cell_type": "markdown",
   "metadata": {
    "application/vnd.databricks.v1+cell": {
     "cellMetadata": {},
     "inputWidgets": {},
     "nuid": "2f425b27-bfb5-4918-8322-8b4b63b6ffe1",
     "showTitle": false,
     "tableResultSettingsMap": {},
     "title": ""
    }
   },
   "source": [
    "## Boxplots for numerical variables"
   ]
  },
  {
   "cell_type": "code",
<<<<<<< HEAD
   "execution_count": 22,
=======
   "execution_count": 45,
>>>>>>> 4aaf0986c7893fe8035b68bba5c86946b3a43f5c
   "metadata": {
    "application/vnd.databricks.v1+cell": {
     "cellMetadata": {},
     "inputWidgets": {},
     "nuid": "e7b951d2-a171-431f-a381-31849f969465",
     "showTitle": false,
     "tableResultSettingsMap": {},
     "title": ""
    }
   },
   "outputs": [
    {
     "data": {
<<<<<<< HEAD
      "image/png": "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",
=======
      "image/png": "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",
>>>>>>> 4aaf0986c7893fe8035b68bba5c86946b3a43f5c
      "text/plain": [
       "<Figure size 2500x800 with 8 Axes>"
      ]
     },
     "metadata": {},
     "output_type": "display_data"
    }
   ],
   "source": [
    "import seaborn as sns\n",
    "import matplotlib.pyplot as plt\n",
    "\n",
    "# Use your actual numeric variables (but check for existence)\n",
    "all_numeric_cols = [\n",
    "    \"duration\", \"orig_bytes\", \"resp_bytes\",\n",
    "    \"missed_bytes\", \"orig_pkts\", \"orig_ip_bytes\", \"resp_pkts\", \"resp_ip_bytes\"\n",
    "]\n",
    "\n",
    "# Filter only columns that exist in df\n",
    "numeric_cols = [col_name for col_name in all_numeric_cols if col_name in df.columns]\n",
    "\n",
    "# Optional: handle nulls before collecting (replace with 0 or drop rows)\n",
    "from pyspark.sql.functions import when, isnan\n",
    "\n",
    "for col_name in numeric_cols:\n",
    "    df = df.withColumn(col_name, when(\n",
    "        (col(col_name).isNull()) | (isnan(col(col_name))), 0\n",
    "    ).otherwise(col(col_name)))\n",
    "\n",
    "# Sample to avoid memory issues (optional)\n",
    "df_sample = df.select(numeric_cols).sample(False, 0.5, seed=42)\n",
    "\n",
    "# Convert to pandas for plotting\n",
    "df_pandas = df_sample.toPandas()\n",
    "\n",
    "# Plot boxplots\n",
    "num_cols = 5\n",
    "num_vars = len(numeric_cols)\n",
    "num_rows = (num_vars + num_cols - 1) // num_cols\n",
    "\n",
    "fig, axes = plt.subplots(num_rows, num_cols, figsize=(5 * num_cols, 4 * num_rows))\n",
    "axes = axes.flatten()\n",
    "\n",
    "for i, col_name in enumerate(numeric_cols):\n",
    "    sns.boxplot(x=df_pandas[col_name], ax=axes[i], color='skyblue')\n",
    "    axes[i].set_title(col_name)\n",
    "    axes[i].set_xlabel(\"\")  # cleaner look\n",
    "\n",
    "# Remove empty plots\n",
    "for i in range(num_vars, len(axes)):\n",
    "    fig.delaxes(axes[i])\n",
    "\n",
    "plt.tight_layout()\n",
    "plt.show()\n"
   ]
  },
  {
   "cell_type": "markdown",
   "metadata": {
    "application/vnd.databricks.v1+cell": {
     "cellMetadata": {},
     "inputWidgets": {},
     "nuid": "b116220a-d9ac-4de7-8a04-27fe3cdf881c",
     "showTitle": false,
     "tableResultSettingsMap": {},
     "title": ""
    },
    "id": "x1Tp_JOOtNht"
   },
   "source": [
    "## Categorical Value Distibution"
   ]
  },
  {
   "cell_type": "code",
<<<<<<< HEAD
   "execution_count": 23,
=======
   "execution_count": 46,
>>>>>>> 4aaf0986c7893fe8035b68bba5c86946b3a43f5c
   "metadata": {
    "application/vnd.databricks.v1+cell": {
     "cellMetadata": {},
     "inputWidgets": {},
     "nuid": "cf9a65e7-1b59-4f98-9bcf-9aba2a00925f",
     "showTitle": false,
     "tableResultSettingsMap": {},
     "title": ""
    },
    "colab": {
     "base_uri": "https://localhost:8080/",
     "height": 1000
    },
    "collapsed": true,
    "id": "rVdzZqH_tQor",
    "outputId": "5ed9247b-a7d6-4d64-d5ff-d35fe708b9ad"
   },
   "outputs": [
    {
     "name": "stdout",
     "output_type": "stream",
     "text": [
      "=== proto Value Counts ===\n"
     ]
    },
    {
     "data": {
      "text/html": [
       "<div>\n",
       "<style scoped>\n",
       "    .dataframe tbody tr th:only-of-type {\n",
       "        vertical-align: middle;\n",
       "    }\n",
       "\n",
       "    .dataframe tbody tr th {\n",
       "        vertical-align: top;\n",
       "    }\n",
       "\n",
       "    .dataframe thead th {\n",
       "        text-align: right;\n",
       "    }\n",
       "</style>\n",
       "<table border=\"1\" class=\"dataframe\">\n",
       "  <thead>\n",
       "    <tr style=\"text-align: right;\">\n",
       "      <th></th>\n",
       "      <th>proto</th>\n",
       "      <th>count</th>\n",
       "    </tr>\n",
       "  </thead>\n",
       "  <tbody>\n",
       "    <tr>\n",
       "      <th>0</th>\n",
       "      <td>tcp</td>\n",
<<<<<<< HEAD
       "      <td>3907259</td>\n",
=======
       "      <td>3906977</td>\n",
>>>>>>> 4aaf0986c7893fe8035b68bba5c86946b3a43f5c
       "    </tr>\n",
       "    <tr>\n",
       "      <th>1</th>\n",
       "      <td>udp</td>\n",
<<<<<<< HEAD
       "      <td>865</td>\n",
       "    </tr>\n",
       "    <tr>\n",
       "      <th>2</th>\n",
       "      <td>icmp</td>\n",
       "      <td>11</td>\n",
=======
       "      <td>870</td>\n",
>>>>>>> 4aaf0986c7893fe8035b68bba5c86946b3a43f5c
       "    </tr>\n",
       "  </tbody>\n",
       "</table>\n",
       "</div>"
      ],
      "text/plain": [
       "  proto    count\n",
<<<<<<< HEAD
       "0   tcp  3907259\n",
       "1   udp      865\n",
       "2  icmp       11"
=======
       "0   tcp  3906977\n",
       "1   udp      870"
>>>>>>> 4aaf0986c7893fe8035b68bba5c86946b3a43f5c
      ]
     },
     "metadata": {},
     "output_type": "display_data"
    },
    {
     "name": "stdout",
     "output_type": "stream",
     "text": [
      "=== conn_state Value Counts ===\n"
     ]
    },
    {
     "data": {
      "text/html": [
       "<div>\n",
       "<style scoped>\n",
       "    .dataframe tbody tr th:only-of-type {\n",
       "        vertical-align: middle;\n",
       "    }\n",
       "\n",
       "    .dataframe tbody tr th {\n",
       "        vertical-align: top;\n",
       "    }\n",
       "\n",
       "    .dataframe thead th {\n",
       "        text-align: right;\n",
       "    }\n",
       "</style>\n",
       "<table border=\"1\" class=\"dataframe\">\n",
       "  <thead>\n",
       "    <tr style=\"text-align: right;\">\n",
       "      <th></th>\n",
       "      <th>conn_state</th>\n",
       "      <th>count</th>\n",
       "    </tr>\n",
       "  </thead>\n",
       "  <tbody>\n",
       "    <tr>\n",
       "      <th>0</th>\n",
       "      <td>S0</td>\n",
<<<<<<< HEAD
       "      <td>2000031</td>\n",
=======
       "      <td>1999710</td>\n",
>>>>>>> 4aaf0986c7893fe8035b68bba5c86946b3a43f5c
       "    </tr>\n",
       "    <tr>\n",
       "      <th>1</th>\n",
       "      <td>RSTOS0</td>\n",
       "      <td>1841172</td>\n",
       "    </tr>\n",
       "    <tr>\n",
       "      <th>2</th>\n",
       "      <td>OTH</td>\n",
<<<<<<< HEAD
       "      <td>65547</td>\n",
=======
       "      <td>65536</td>\n",
>>>>>>> 4aaf0986c7893fe8035b68bba5c86946b3a43f5c
       "    </tr>\n",
       "    <tr>\n",
       "      <th>3</th>\n",
       "      <td>REJ</td>\n",
<<<<<<< HEAD
       "      <td>933</td>\n",
=======
       "      <td>966</td>\n",
>>>>>>> 4aaf0986c7893fe8035b68bba5c86946b3a43f5c
       "    </tr>\n",
       "    <tr>\n",
       "      <th>4</th>\n",
       "      <td>SF</td>\n",
<<<<<<< HEAD
       "      <td>377</td>\n",
       "    </tr>\n",
       "    <tr>\n",
       "      <th>5</th>\n",
       "      <td>RSTR</td>\n",
=======
       "      <td>386</td>\n",
       "    </tr>\n",
       "    <tr>\n",
       "      <th>5</th>\n",
       "      <td>RSTO</td>\n",
>>>>>>> 4aaf0986c7893fe8035b68bba5c86946b3a43f5c
       "      <td>25</td>\n",
       "    </tr>\n",
       "    <tr>\n",
       "      <th>6</th>\n",
<<<<<<< HEAD
       "      <td>RSTO</td>\n",
=======
       "      <td>RSTR</td>\n",
>>>>>>> 4aaf0986c7893fe8035b68bba5c86946b3a43f5c
       "      <td>24</td>\n",
       "    </tr>\n",
       "    <tr>\n",
       "      <th>7</th>\n",
       "      <td>S2</td>\n",
<<<<<<< HEAD
       "      <td>12</td>\n",
=======
       "      <td>17</td>\n",
>>>>>>> 4aaf0986c7893fe8035b68bba5c86946b3a43f5c
       "    </tr>\n",
       "    <tr>\n",
       "      <th>8</th>\n",
       "      <td>S1</td>\n",
<<<<<<< HEAD
       "      <td>11</td>\n",
       "    </tr>\n",
       "    <tr>\n",
       "      <th>9</th>\n",
       "      <td>S3</td>\n",
       "      <td>1</td>\n",
       "    </tr>\n",
       "    <tr>\n",
       "      <th>10</th>\n",
       "      <td>SH</td>\n",
=======
       "      <td>8</td>\n",
       "    </tr>\n",
       "    <tr>\n",
       "      <th>9</th>\n",
       "      <td>SH</td>\n",
       "      <td>2</td>\n",
       "    </tr>\n",
       "    <tr>\n",
       "      <th>10</th>\n",
       "      <td>S3</td>\n",
>>>>>>> 4aaf0986c7893fe8035b68bba5c86946b3a43f5c
       "      <td>1</td>\n",
       "    </tr>\n",
       "  </tbody>\n",
       "</table>\n",
       "</div>"
      ],
      "text/plain": [
       "   conn_state    count\n",
<<<<<<< HEAD
       "0          S0  2000031\n",
       "1      RSTOS0  1841173\n",
       "2         OTH    65547\n",
       "3         REJ      933\n",
       "4          SF      377\n",
       "5        RSTR       25\n",
       "6        RSTO       24\n",
       "7          S2       12\n",
       "8          S1       11\n",
       "9          S3        1\n",
       "10         SH        1"
=======
       "0          S0  1999710\n",
       "1      RSTOS0  1841172\n",
       "2         OTH    65536\n",
       "3         REJ      966\n",
       "4          SF      386\n",
       "5        RSTO       25\n",
       "6        RSTR       24\n",
       "7          S2       17\n",
       "8          S1        8\n",
       "9          SH        2\n",
       "10         S3        1"
>>>>>>> 4aaf0986c7893fe8035b68bba5c86946b3a43f5c
      ]
     },
     "metadata": {},
     "output_type": "display_data"
    },
    {
     "name": "stdout",
     "output_type": "stream",
     "text": [
      "=== history Value Counts ===\n"
     ]
    },
    {
     "data": {
      "text/html": [
       "<div>\n",
       "<style scoped>\n",
       "    .dataframe tbody tr th:only-of-type {\n",
       "        vertical-align: middle;\n",
       "    }\n",
       "\n",
       "    .dataframe tbody tr th {\n",
       "        vertical-align: top;\n",
       "    }\n",
       "\n",
       "    .dataframe thead th {\n",
       "        text-align: right;\n",
       "    }\n",
       "</style>\n",
       "<table border=\"1\" class=\"dataframe\">\n",
       "  <thead>\n",
       "    <tr style=\"text-align: right;\">\n",
       "      <th></th>\n",
       "      <th>history</th>\n",
       "      <th>count</th>\n",
       "    </tr>\n",
       "  </thead>\n",
       "  <tbody>\n",
       "    <tr>\n",
       "      <th>0</th>\n",
       "      <td>S</td>\n",
<<<<<<< HEAD
       "      <td>1999488</td>\n",
=======
       "      <td>1999172</td>\n",
>>>>>>> 4aaf0986c7893fe8035b68bba5c86946b3a43f5c
       "    </tr>\n",
       "    <tr>\n",
       "      <th>1</th>\n",
       "      <td>I</td>\n",
       "      <td>1841162</td>\n",
       "    </tr>\n",
       "    <tr>\n",
       "      <th>2</th>\n",
       "      <td>DTT</td>\n",
       "      <td>65534</td>\n",
       "    </tr>\n",
       "    <tr>\n",
       "      <th>3</th>\n",
       "      <td>Sr</td>\n",
<<<<<<< HEAD
       "      <td>932</td>\n",
=======
       "      <td>965</td>\n",
>>>>>>> 4aaf0986c7893fe8035b68bba5c86946b3a43f5c
       "    </tr>\n",
       "    <tr>\n",
       "      <th>4</th>\n",
       "      <td>D</td>\n",
<<<<<<< HEAD
       "      <td>543</td>\n",
=======
       "      <td>538</td>\n",
>>>>>>> 4aaf0986c7893fe8035b68bba5c86946b3a43f5c
       "    </tr>\n",
       "    <tr>\n",
       "      <th>5</th>\n",
       "      <td>Dd</td>\n",
<<<<<<< HEAD
       "      <td>322</td>\n",
       "    </tr>\n",
       "    <tr>\n",
       "      <th>6</th>\n",
       "      <td>ShAr</td>\n",
       "      <td>15</td>\n",
       "    </tr>\n",
       "    <tr>\n",
       "      <th>7</th>\n",
       "      <td>ShAfFa</td>\n",
       "      <td>14</td>\n",
=======
       "      <td>332</td>\n",
       "    </tr>\n",
       "    <tr>\n",
       "      <th>6</th>\n",
       "      <td>ShAF</td>\n",
       "      <td>17</td>\n",
       "    </tr>\n",
       "    <tr>\n",
       "      <th>7</th>\n",
       "      <td>ShAr</td>\n",
       "      <td>15</td>\n",
>>>>>>> 4aaf0986c7893fe8035b68bba5c86946b3a43f5c
       "    </tr>\n",
       "    <tr>\n",
       "      <th>8</th>\n",
       "      <td>ShAdDaR</td>\n",
       "      <td>13</td>\n",
       "    </tr>\n",
       "    <tr>\n",
       "      <th>9</th>\n",
       "      <td>ShADdfFa</td>\n",
       "      <td>13</td>\n",
       "    </tr>\n",
       "    <tr>\n",
       "      <th>10</th>\n",
<<<<<<< HEAD
       "      <td>ShAF</td>\n",
=======
       "      <td>ShAfFa</td>\n",
>>>>>>> 4aaf0986c7893fe8035b68bba5c86946b3a43f5c
       "      <td>12</td>\n",
       "    </tr>\n",
       "    <tr>\n",
       "      <th>11</th>\n",
<<<<<<< HEAD
       "      <td>None</td>\n",
       "      <td>11</td>\n",
       "    </tr>\n",
       "    <tr>\n",
       "      <th>12</th>\n",
       "      <td>ShAdDaTR</td>\n",
       "      <td>10</td>\n",
       "    </tr>\n",
       "    <tr>\n",
       "      <th>13</th>\n",
       "      <td>ShwA</td>\n",
       "      <td>10</td>\n",
       "    </tr>\n",
       "    <tr>\n",
       "      <th>14</th>\n",
=======
>>>>>>> 4aaf0986c7893fe8035b68bba5c86946b3a43f5c
       "      <td>SI</td>\n",
       "      <td>10</td>\n",
       "    </tr>\n",
       "    <tr>\n",
<<<<<<< HEAD
       "      <th>15</th>\n",
=======
       "      <th>12</th>\n",
       "      <td>ShAdDaTR</td>\n",
       "      <td>8</td>\n",
       "    </tr>\n",
       "    <tr>\n",
       "      <th>13</th>\n",
>>>>>>> 4aaf0986c7893fe8035b68bba5c86946b3a43f5c
       "      <td>ShADdattFfR</td>\n",
       "      <td>8</td>\n",
       "    </tr>\n",
       "    <tr>\n",
<<<<<<< HEAD
       "      <th>16</th>\n",
       "      <td>ShAfF</td>\n",
       "      <td>4</td>\n",
       "    </tr>\n",
       "    <tr>\n",
       "      <th>17</th>\n",
       "      <td>ShwAr</td>\n",
       "      <td>4</td>\n",
       "    </tr>\n",
       "    <tr>\n",
       "      <th>18</th>\n",
=======
       "      <th>14</th>\n",
       "      <td>ShwA</td>\n",
       "      <td>7</td>\n",
       "    </tr>\n",
       "    <tr>\n",
       "      <th>15</th>\n",
       "      <td>ShADadFf</td>\n",
       "      <td>4</td>\n",
       "    </tr>\n",
       "    <tr>\n",
       "      <th>16</th>\n",
>>>>>>> 4aaf0986c7893fe8035b68bba5c86946b3a43f5c
       "      <td>ShADdfF</td>\n",
       "      <td>4</td>\n",
       "    </tr>\n",
       "    <tr>\n",
<<<<<<< HEAD
       "      <th>19</th>\n",
       "      <td>ShAdDaTFf</td>\n",
=======
       "      <th>17</th>\n",
       "      <td>ShAfF</td>\n",
       "      <td>3</td>\n",
       "    </tr>\n",
       "    <tr>\n",
       "      <th>18</th>\n",
       "      <td>ShAdDafF</td>\n",
       "      <td>3</td>\n",
       "    </tr>\n",
       "    <tr>\n",
       "      <th>19</th>\n",
       "      <td>ShwAr</td>\n",
>>>>>>> 4aaf0986c7893fe8035b68bba5c86946b3a43f5c
       "      <td>2</td>\n",
       "    </tr>\n",
       "    <tr>\n",
       "      <th>20</th>\n",
<<<<<<< HEAD
       "      <td>ShAdfr</td>\n",
=======
       "      <td>ShAdfFa</td>\n",
>>>>>>> 4aaf0986c7893fe8035b68bba5c86946b3a43f5c
       "      <td>2</td>\n",
       "    </tr>\n",
       "    <tr>\n",
       "      <th>21</th>\n",
<<<<<<< HEAD
       "      <td>ShADadFf</td>\n",
=======
       "      <td>ShAdaDR</td>\n",
>>>>>>> 4aaf0986c7893fe8035b68bba5c86946b3a43f5c
       "      <td>2</td>\n",
       "    </tr>\n",
       "    <tr>\n",
       "      <th>22</th>\n",
<<<<<<< HEAD
       "      <td>ShAdDafF</td>\n",
=======
       "      <td>ShAaw</td>\n",
>>>>>>> 4aaf0986c7893fe8035b68bba5c86946b3a43f5c
       "      <td>1</td>\n",
       "    </tr>\n",
       "    <tr>\n",
       "      <th>23</th>\n",
       "      <td>ShAdfDF</td>\n",
       "      <td>1</td>\n",
       "    </tr>\n",
       "    <tr>\n",
       "      <th>24</th>\n",
<<<<<<< HEAD
       "      <td>ShAdDaTfRr</td>\n",
       "      <td>1</td>\n",
       "    </tr>\n",
       "    <tr>\n",
       "      <th>25</th>\n",
       "      <td>SaR</td>\n",
       "      <td>1</td>\n",
       "    </tr>\n",
       "    <tr>\n",
       "      <th>26</th>\n",
       "      <td>ShAdDaTRft</td>\n",
       "      <td>1</td>\n",
       "    </tr>\n",
       "    <tr>\n",
       "      <th>27</th>\n",
       "      <td>^dtt</td>\n",
       "      <td>1</td>\n",
       "    </tr>\n",
       "    <tr>\n",
       "      <th>28</th>\n",
       "      <td>DrF</td>\n",
       "      <td>1</td>\n",
       "    </tr>\n",
       "    <tr>\n",
       "      <th>29</th>\n",
       "      <td>ShAdtfFa</td>\n",
       "      <td>1</td>\n",
       "    </tr>\n",
       "    <tr>\n",
       "      <th>30</th>\n",
       "      <td>ShAaw</td>\n",
       "      <td>1</td>\n",
       "    </tr>\n",
       "    <tr>\n",
       "      <th>31</th>\n",
       "      <td>DFr</td>\n",
       "      <td>1</td>\n",
       "    </tr>\n",
       "    <tr>\n",
       "      <th>32</th>\n",
       "      <td>ShAdfF</td>\n",
       "      <td>1</td>\n",
       "    </tr>\n",
       "    <tr>\n",
       "      <th>33</th>\n",
       "      <td>ShAdfFa</td>\n",
       "      <td>1</td>\n",
       "    </tr>\n",
       "    <tr>\n",
       "      <th>34</th>\n",
=======
       "      <td>ShAdDar</td>\n",
       "      <td>1</td>\n",
       "    </tr>\n",
       "    <tr>\n",
       "      <th>25</th>\n",
       "      <td>ShAdfr</td>\n",
       "      <td>1</td>\n",
       "    </tr>\n",
       "    <tr>\n",
       "      <th>26</th>\n",
       "      <td>Fa</td>\n",
       "      <td>1</td>\n",
       "    </tr>\n",
       "    <tr>\n",
       "      <th>27</th>\n",
       "      <td>ShAdDaRr</td>\n",
       "      <td>1</td>\n",
       "    </tr>\n",
       "    <tr>\n",
       "      <th>28</th>\n",
       "      <td>ShAdfDr</td>\n",
       "      <td>1</td>\n",
       "    </tr>\n",
       "    <tr>\n",
       "      <th>29</th>\n",
       "      <td>ShAdDaTfRr</td>\n",
       "      <td>1</td>\n",
       "    </tr>\n",
       "    <tr>\n",
       "      <th>30</th>\n",
       "      <td>ShAdDaTRft</td>\n",
       "      <td>1</td>\n",
       "    </tr>\n",
       "    <tr>\n",
       "      <th>31</th>\n",
       "      <td>^dtt</td>\n",
       "      <td>1</td>\n",
       "    </tr>\n",
       "    <tr>\n",
       "      <th>32</th>\n",
       "      <td>ShAdr</td>\n",
       "      <td>1</td>\n",
       "    </tr>\n",
       "    <tr>\n",
       "      <th>33</th>\n",
       "      <td>ShAdfF</td>\n",
       "      <td>1</td>\n",
       "    </tr>\n",
       "    <tr>\n",
       "      <th>34</th>\n",
       "      <td>ShAdDaTRf</td>\n",
       "      <td>1</td>\n",
       "    </tr>\n",
       "    <tr>\n",
       "      <th>35</th>\n",
>>>>>>> 4aaf0986c7893fe8035b68bba5c86946b3a43f5c
       "      <td>ShAdDafr</td>\n",
       "      <td>1</td>\n",
       "    </tr>\n",
       "    <tr>\n",
<<<<<<< HEAD
       "      <th>35</th>\n",
=======
       "      <th>36</th>\n",
>>>>>>> 4aaf0986c7893fe8035b68bba5c86946b3a43f5c
       "      <td>HaDdAr</td>\n",
       "      <td>1</td>\n",
       "    </tr>\n",
       "    <tr>\n",
<<<<<<< HEAD
       "      <th>36</th>\n",
=======
       "      <th>37</th>\n",
>>>>>>> 4aaf0986c7893fe8035b68bba5c86946b3a43f5c
       "      <td>DT</td>\n",
       "      <td>1</td>\n",
       "    </tr>\n",
       "    <tr>\n",
<<<<<<< HEAD
       "      <th>37</th>\n",
=======
       "      <th>38</th>\n",
>>>>>>> 4aaf0986c7893fe8035b68bba5c86946b3a43f5c
       "      <td>ShADdtatFfR</td>\n",
       "      <td>1</td>\n",
       "    </tr>\n",
       "    <tr>\n",
<<<<<<< HEAD
       "      <th>38</th>\n",
=======
       "      <th>39</th>\n",
>>>>>>> 4aaf0986c7893fe8035b68bba5c86946b3a43f5c
       "      <td>F</td>\n",
       "      <td>1</td>\n",
       "    </tr>\n",
       "    <tr>\n",
<<<<<<< HEAD
       "      <th>39</th>\n",
=======
       "      <th>40</th>\n",
>>>>>>> 4aaf0986c7893fe8035b68bba5c86946b3a43f5c
       "      <td>ShADdFaf</td>\n",
       "      <td>1</td>\n",
       "    </tr>\n",
       "    <tr>\n",
<<<<<<< HEAD
       "      <th>40</th>\n",
=======
       "      <th>41</th>\n",
>>>>>>> 4aaf0986c7893fe8035b68bba5c86946b3a43f5c
       "      <td>ShADdf</td>\n",
       "      <td>1</td>\n",
       "    </tr>\n",
       "    <tr>\n",
<<<<<<< HEAD
       "      <th>41</th>\n",
=======
       "      <th>42</th>\n",
>>>>>>> 4aaf0986c7893fe8035b68bba5c86946b3a43f5c
       "      <td>ShADdFf</td>\n",
       "      <td>1</td>\n",
       "    </tr>\n",
       "  </tbody>\n",
       "</table>\n",
       "</div>"
      ],
      "text/plain": [
       "        history    count\n",
<<<<<<< HEAD
       "0             S  1999488\n",
       "1             I  1841162\n",
       "2           DTT    65534\n",
       "3            Sr      932\n",
       "4             D      543\n",
       "5            Dd      322\n",
       "6          ShAr       15\n",
       "7        ShAfFa       14\n",
       "8       ShAdDaR       13\n",
       "9      ShADdfFa       13\n",
       "10         ShAF       12\n",
       "11         None       11\n",
       "12     ShAdDaTR       10\n",
       "13         ShwA       10\n",
       "14           SI       10\n",
       "15  ShADdattFfR        8\n",
       "16        ShAfF        4\n",
       "17        ShwAr        4\n",
       "18      ShADdfF        4\n",
       "19    ShAdDaTFf        2\n",
       "20       ShAdfr        2\n",
       "21     ShADadFf        2\n",
       "22     ShAdDafF        1\n",
       "23      ShAdfDF        1\n",
       "24   ShAdDaTfRr        1\n",
       "25          SaR        1\n",
       "26   ShAdDaTRft        1\n",
       "27         ^dtt        1\n",
       "28          DrF        1\n",
       "29     ShAdtfFa        1\n",
       "30        ShAaw        1\n",
       "31          DFr        1\n",
       "32       ShAdfF        1\n",
       "33      ShAdfFa        1\n",
       "34     ShAdDafr        1\n",
       "35       HaDdAr        1\n",
       "36           DT        1\n",
       "37  ShADdtatFfR        1\n",
       "38            F        1\n",
       "39     ShADdFaf        1\n",
       "40       ShADdf        1\n",
       "41      ShADdFf        1"
=======
       "0             S  1999172\n",
       "1             I  1841162\n",
       "2           DTT    65534\n",
       "3            Sr      965\n",
       "4             D      538\n",
       "5            Dd      332\n",
       "6          ShAF       17\n",
       "7          ShAr       15\n",
       "8       ShAdDaR       13\n",
       "9      ShADdfFa       13\n",
       "10       ShAfFa       12\n",
       "11           SI       10\n",
       "12     ShAdDaTR        8\n",
       "13  ShADdattFfR        8\n",
       "14         ShwA        7\n",
       "15     ShADadFf        4\n",
       "16      ShADdfF        4\n",
       "17        ShAfF        3\n",
       "18     ShAdDafF        3\n",
       "19        ShwAr        2\n",
       "20      ShAdfFa        2\n",
       "21      ShAdaDR        2\n",
       "22        ShAaw        1\n",
       "23      ShAdfDF        1\n",
       "24      ShAdDar        1\n",
       "25       ShAdfr        1\n",
       "26           Fa        1\n",
       "27     ShAdDaRr        1\n",
       "28      ShAdfDr        1\n",
       "29   ShAdDaTfRr        1\n",
       "30   ShAdDaTRft        1\n",
       "31         ^dtt        1\n",
       "32        ShAdr        1\n",
       "33       ShAdfF        1\n",
       "34    ShAdDaTRf        1\n",
       "35     ShAdDafr        1\n",
       "36       HaDdAr        1\n",
       "37           DT        1\n",
       "38  ShADdtatFfR        1\n",
       "39            F        1\n",
       "40     ShADdFaf        1\n",
       "41       ShADdf        1\n",
       "42      ShADdFf        1"
>>>>>>> 4aaf0986c7893fe8035b68bba5c86946b3a43f5c
      ]
     },
     "metadata": {},
     "output_type": "display_data"
    }
   ],
   "source": [
    "categorical_cols = [\"proto\", \"conn_state\", \"history\"]\n",
    "\n",
    "for col in categorical_cols:\n",
    "    count_df = df.groupBy(col).count().orderBy(\"count\", ascending=False).toPandas()\n",
    "    print(f\"=== {col} Value Counts ===\")\n",
    "    display(count_df)\n"
   ]
  },
  {
   "cell_type": "code",
<<<<<<< HEAD
   "execution_count": 24,
=======
   "execution_count": 47,
>>>>>>> 4aaf0986c7893fe8035b68bba5c86946b3a43f5c
   "metadata": {
    "application/vnd.databricks.v1+cell": {
     "cellMetadata": {},
     "inputWidgets": {},
     "nuid": "4da3c72b-6391-45a1-98d5-3cb1510ba5e4",
     "showTitle": false,
     "tableResultSettingsMap": {},
     "title": ""
    }
   },
   "outputs": [
    {
     "name": "stdout",
     "output_type": "stream",
     "text": [
<<<<<<< HEAD
      "Cardinality of id_orig_h: 15\n",
      "Cardinality of id_orig_p: 65536\n",
      "Cardinality of id_resp_h: 1998644\n",
      "Cardinality of id_resp_p: 14\n"
=======
      "Cardinality of id_orig_h: 3\n",
      "Cardinality of id_orig_p: 65536\n",
      "Cardinality of id_resp_h: 1998404\n",
      "Cardinality of id_resp_p: 10\n"
>>>>>>> 4aaf0986c7893fe8035b68bba5c86946b3a43f5c
     ]
    }
   ],
   "source": [
    "from pyspark.sql.functions import countDistinct\n",
    "\n",
    "# Count distinct values for each column\n",
    "cardinality = df.select(\n",
    "    countDistinct(\"id_orig_h\").alias(\"id_orig_h_cardinality\"),\n",
    "    countDistinct(\"id_orig_p\").alias(\"id_orig_p_cardinality\"),\n",
    "    countDistinct(\"id_resp_h\").alias(\"id_resp_h_cardinality\"),\n",
    "    countDistinct(\"id_resp_p\").alias(\"id_resp_p_cardinality\")\n",
    ").collect()[0]\n",
    "\n",
    "# Print the cardinality of each column\n",
    "print(f\"Cardinality of id_orig_h: {cardinality['id_orig_h_cardinality']}\")\n",
    "print(f\"Cardinality of id_orig_p: {cardinality['id_orig_p_cardinality']}\")\n",
    "print(f\"Cardinality of id_resp_h: {cardinality['id_resp_h_cardinality']}\")\n",
    "print(f\"Cardinality of id_resp_p: {cardinality['id_resp_p_cardinality']}\")"
   ]
  },
  {
   "cell_type": "markdown",
   "metadata": {
    "application/vnd.databricks.v1+cell": {
     "cellMetadata": {},
     "inputWidgets": {},
     "nuid": "a21cd5f4-9510-4c68-acbb-a3387701c63e",
     "showTitle": false,
     "tableResultSettingsMap": {},
     "title": ""
    }
   },
   "source": [
    "id_orig_h has low cardinality -> 28, so likely represent small number of internal source IPs (devices on your network)\n",
    "\n",
    "id_resp_p has low cardinality -> 16 destination ports, likely standard ones like 80, 443, 22. tells you what kind of service was accessed. "
   ]
  },
  {
   "cell_type": "markdown",
   "metadata": {
    "application/vnd.databricks.v1+cell": {
     "cellMetadata": {},
     "inputWidgets": {},
     "nuid": "c71a9ece-4a57-444f-af6f-37706f28e5f7",
     "showTitle": false,
     "tableResultSettingsMap": {},
     "title": ""
    },
    "id": "KL647mftDNjA"
   },
   "source": [
    "## Correlation matrix for numeric columns"
   ]
  },
  {
   "cell_type": "code",
<<<<<<< HEAD
   "execution_count": 25,
=======
   "execution_count": 48,
>>>>>>> 4aaf0986c7893fe8035b68bba5c86946b3a43f5c
   "metadata": {
    "application/vnd.databricks.v1+cell": {
     "cellMetadata": {
      "byteLimit": 2048000,
      "rowLimit": 10000
     },
     "inputWidgets": {},
     "nuid": "e8bbb42f-7bc5-4351-9660-3ecf4402f4b3",
     "showTitle": false,
     "tableResultSettingsMap": {},
     "title": ""
    },
    "colab": {
     "base_uri": "https://localhost:8080/",
     "height": 626
    },
    "collapsed": true,
    "id": "xtFeK3cX01Ul",
    "outputId": "bbcc9cf8-d740-477f-c64e-896f48d08fc7"
   },
   "outputs": [
    {
     "data": {
<<<<<<< HEAD
      "image/png": "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",
=======
      "image/png": "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",
>>>>>>> 4aaf0986c7893fe8035b68bba5c86946b3a43f5c
      "text/plain": [
       "<Figure size 1200x600 with 2 Axes>"
      ]
     },
     "metadata": {},
     "output_type": "display_data"
    }
   ],
   "source": [
    "from pyspark.sql.types import FloatType, DoubleType\n",
    "\n",
    "# Define numeric features to keep (excluding ID-like columns)\n",
    "numeric_cols = [\n",
    "    \"duration\", \"orig_bytes\", \"resp_bytes\",\n",
    "    \"missed_bytes\", \"orig_pkts\", \"orig_ip_bytes\", \"resp_pkts\", \"resp_ip_bytes\"\n",
    "]\n",
    "\n",
    "# Convert PySpark DataFrame to pandas DataFrame for correlation calculation\n",
    "pandas_df = df.select(numeric_cols).toPandas()\n",
    "\n",
    "# Plot correlation heatmap\n",
    "plt.figure(figsize=(12, 6))\n",
    "sns.heatmap(pandas_df.corr(), annot=True, cmap=\"coolwarm\", fmt=\".2f\")\n",
    "plt.title(\"Correlation Between Numeric Features\")\n",
    "plt.show()"
   ]
  },
  {
   "cell_type": "markdown",
   "metadata": {
    "application/vnd.databricks.v1+cell": {
     "cellMetadata": {},
     "inputWidgets": {},
     "nuid": "be979fe0-cd7f-4fb7-9c67-1d4907a41948",
     "showTitle": false,
     "tableResultSettingsMap": {},
     "title": ""
    },
    "id": "tM7tDTvfVa7T"
   },
   "source": [
    "From the correlation matrix, it can be seen that:\n",
    "1. Strong Positive Correlation (Close to 1.0)\n",
    "  - `resp_bytes` and `resp_ip_bytes` are similarly strongly correlated (0.98). This could also mean one of the columns might be redundant.\n",
    "  - `duration` and `resp_pkts` are also strongly correlated (0.95). This makes sense as longer durations correlate with more response packets, indicating sustained communication during the duration.\n",
    "2. Weak/Negligible Correlations (Close to 0):\n",
    "  - Port numbers (`id.orig_p`, `id.resp_p`) have near-zero correlations with other features suggesting that ports do not directly influence traffic metrics (e.g. duration, bytes). This is expected as ports are identifiers, not quantitative measures.\n",
    "  - Except for its strong positive correlation to `resp_ip_bytes`, `resp_bytes` and most other features have weak/negligible correlations (0.00-0.21) possibly indicating isolated response behaviors."
   ]
  },
  {
   "cell_type": "markdown",
   "metadata": {
    "application/vnd.databricks.v1+cell": {
     "cellMetadata": {},
     "inputWidgets": {},
     "nuid": "e679d16b-d2ae-4b5d-8b54-13ad7ac23e53",
     "showTitle": false,
     "tableResultSettingsMap": {},
     "title": ""
    },
    "id": "xvu7dhOjFPyJ"
   },
   "source": [
    "## Mutual Information Scoring"
   ]
  },
  {
   "cell_type": "code",
<<<<<<< HEAD
   "execution_count": 26,
=======
   "execution_count": 49,
>>>>>>> 4aaf0986c7893fe8035b68bba5c86946b3a43f5c
   "metadata": {
    "application/vnd.databricks.v1+cell": {
     "cellMetadata": {},
     "inputWidgets": {},
     "nuid": "f5b621ee-90d2-44ae-9022-daaeda200935",
     "showTitle": false,
     "tableResultSettingsMap": {},
     "title": ""
    },
    "colab": {
     "base_uri": "https://localhost:8080/"
    },
    "collapsed": true,
    "id": "1wRa5nMjUwBX",
    "outputId": "df3e051a-ae0a-4079-ed24-153fae89a2a6"
   },
   "outputs": [
    {
     "name": "stdout",
     "output_type": "stream",
     "text": [
<<<<<<< HEAD
      "MI for ts: 0.3676\n",
=======
      "MI for ts: 0.3672\n",
>>>>>>> 4aaf0986c7893fe8035b68bba5c86946b3a43f5c
      "MI for uid: 0.9996\n",
      "MI for id_orig_h: 0.0000\n",
      "MI for id_orig_p: 0.2570\n",
      "MI for id_resp_h: 0.9996\n",
      "MI for id_resp_p: 0.7279\n",
      "MI for proto: 0.0002\n",
<<<<<<< HEAD
      "MI for duration: 0.6270\n",
      "MI for orig_bytes: 0.0017\n",
      "MI for resp_bytes: 0.0017\n",
      "MI for conn_state: 0.9992\n",
      "MI for missed_bytes: 0.0017\n",
      "MI for history: 0.9993\n",
      "MI for orig_pkts: 0.5076\n",
      "MI for orig_ip_bytes: 0.6429\n",
      "MI for resp_pkts: 0.0017\n",
      "MI for resp_ip_bytes: 0.0017\n",
      "\n",
      "=== Features sorted by Mutual Information ===\n",
      "id_resp_h: 0.9996\n",
      "uid: 0.9996\n",
      "history: 0.9993\n",
      "conn_state: 0.9992\n",
      "id_resp_p: 0.7279\n",
      "orig_ip_bytes: 0.6429\n",
      "duration: 0.6270\n",
      "orig_pkts: 0.5076\n",
      "ts: 0.3676\n",
      "id_orig_p: 0.2570\n",
      "orig_bytes: 0.0017\n",
      "resp_bytes: 0.0017\n",
      "missed_bytes: 0.0017\n",
      "resp_pkts: 0.0017\n",
      "resp_ip_bytes: 0.0017\n",
      "proto: 0.0002\n",
      "id_orig_h: 0.0000\n"
=======
      "MI for duration: 0.6272\n",
      "MI for orig_bytes: 0.7450\n",
      "MI for resp_bytes: 0.3165\n",
      "MI for conn_state: 0.9993\n",
      "MI for missed_bytes: 0.0017\n",
      "MI for history: 0.9993\n",
      "MI for orig_pkts: 0.5075\n"
     ]
    },
    {
     "name": "stderr",
     "output_type": "stream",
     "text": [
      "ERROR:root:KeyboardInterrupt while sending command.\n",
      "Traceback (most recent call last):\n",
      "  File \"c:\\Users\\jessi\\Desktop\\BT4221\\maleware-detection-ml-model\\.venv\\Lib\\site-packages\\py4j\\java_gateway.py\", line 1038, in send_command\n",
      "    response = connection.send_command(command)\n",
      "  File \"c:\\Users\\jessi\\Desktop\\BT4221\\maleware-detection-ml-model\\.venv\\Lib\\site-packages\\py4j\\clientserver.py\", line 511, in send_command\n",
      "    answer = smart_decode(self.stream.readline()[:-1])\n",
      "                          ~~~~~~~~~~~~~~~~~~~~^^\n",
      "  File \"C:\\Users\\jessi\\AppData\\Local\\Programs\\Python\\Python313\\Lib\\socket.py\", line 719, in readinto\n",
      "    return self._sock.recv_into(b)\n",
      "           ~~~~~~~~~~~~~~~~~~~~^^^\n",
      "KeyboardInterrupt\n"
     ]
    },
    {
     "ename": "KeyboardInterrupt",
     "evalue": "",
     "output_type": "error",
     "traceback": [
      "\u001b[31m---------------------------------------------------------------------------\u001b[39m",
      "\u001b[31mKeyboardInterrupt\u001b[39m                         Traceback (most recent call last)",
      "\u001b[36mCell\u001b[39m\u001b[36m \u001b[39m\u001b[32mIn[49]\u001b[39m\u001b[32m, line 45\u001b[39m\n\u001b[32m     43\u001b[39m \u001b[38;5;28;01mif\u001b[39;00m feature == \u001b[33m\"\u001b[39m\u001b[33mlabel\u001b[39m\u001b[33m\"\u001b[39m:\n\u001b[32m     44\u001b[39m     \u001b[38;5;28;01mcontinue\u001b[39;00m\n\u001b[32m---> \u001b[39m\u001b[32m45\u001b[39m mi_score = \u001b[43mcompute_mutual_info\u001b[49m\u001b[43m(\u001b[49m\u001b[43mdf_mis\u001b[49m\u001b[43m,\u001b[49m\u001b[43m \u001b[49m\u001b[43mfeature\u001b[49m\u001b[43m)\u001b[49m\n\u001b[32m     46\u001b[39m mi_results[feature] = mi_score\n\u001b[32m     47\u001b[39m \u001b[38;5;28mprint\u001b[39m(\u001b[33mf\u001b[39m\u001b[33m\"\u001b[39m\u001b[33mMI for \u001b[39m\u001b[38;5;132;01m{\u001b[39;00mfeature\u001b[38;5;132;01m}\u001b[39;00m\u001b[33m: \u001b[39m\u001b[38;5;132;01m{\u001b[39;00mmi_score\u001b[38;5;132;01m:\u001b[39;00m\u001b[33m.4f\u001b[39m\u001b[38;5;132;01m}\u001b[39;00m\u001b[33m\"\u001b[39m)\n",
      "\u001b[36mCell\u001b[39m\u001b[36m \u001b[39m\u001b[32mIn[49]\u001b[39m\u001b[32m, line 17\u001b[39m, in \u001b[36mcompute_mutual_info\u001b[39m\u001b[34m(df, feature_col, target_col, n_bins)\u001b[39m\n\u001b[32m     11\u001b[39m     feature_col = \u001b[33mf\u001b[39m\u001b[33m\"\u001b[39m\u001b[38;5;132;01m{\u001b[39;00mfeature_col\u001b[38;5;132;01m}\u001b[39;00m\u001b[33m_bin\u001b[39m\u001b[33m\"\u001b[39m\n\u001b[32m     13\u001b[39m \u001b[38;5;66;03m# Compute joint probability P(X,Y)\u001b[39;00m\n\u001b[32m     14\u001b[39m joint_prob = (\n\u001b[32m     15\u001b[39m     df.groupBy(feature_col, target_col)\n\u001b[32m     16\u001b[39m     .agg(F.count(\u001b[33m\"\u001b[39m\u001b[33m*\u001b[39m\u001b[33m\"\u001b[39m).alias(\u001b[33m\"\u001b[39m\u001b[33mcount\u001b[39m\u001b[33m\"\u001b[39m))\n\u001b[32m---> \u001b[39m\u001b[32m17\u001b[39m     .withColumn(\u001b[33m\"\u001b[39m\u001b[33mp_xy\u001b[39m\u001b[33m\"\u001b[39m, F.col(\u001b[33m\"\u001b[39m\u001b[33mcount\u001b[39m\u001b[33m\"\u001b[39m) / \u001b[43mdf\u001b[49m\u001b[43m.\u001b[49m\u001b[43mcount\u001b[49m\u001b[43m(\u001b[49m\u001b[43m)\u001b[49m)\n\u001b[32m     18\u001b[39m )\n\u001b[32m     20\u001b[39m \u001b[38;5;66;03m# Compute marginal probabilities P(X) and P(Y)\u001b[39;00m\n\u001b[32m     21\u001b[39m p_x = joint_prob.groupBy(feature_col).agg(F.sum(\u001b[33m\"\u001b[39m\u001b[33mp_xy\u001b[39m\u001b[33m\"\u001b[39m).alias(\u001b[33m\"\u001b[39m\u001b[33mp_x\u001b[39m\u001b[33m\"\u001b[39m))\n",
      "\u001b[36mFile \u001b[39m\u001b[32mc:\\Users\\jessi\\Desktop\\BT4221\\maleware-detection-ml-model\\.venv\\Lib\\site-packages\\pyspark\\sql\\dataframe.py:1240\u001b[39m, in \u001b[36mDataFrame.count\u001b[39m\u001b[34m(self)\u001b[39m\n\u001b[32m   1217\u001b[39m \u001b[38;5;28;01mdef\u001b[39;00m\u001b[38;5;250m \u001b[39m\u001b[34mcount\u001b[39m(\u001b[38;5;28mself\u001b[39m) -> \u001b[38;5;28mint\u001b[39m:\n\u001b[32m   1218\u001b[39m \u001b[38;5;250m    \u001b[39m\u001b[33;03m\"\"\"Returns the number of rows in this :class:`DataFrame`.\u001b[39;00m\n\u001b[32m   1219\u001b[39m \n\u001b[32m   1220\u001b[39m \u001b[33;03m    .. versionadded:: 1.3.0\u001b[39;00m\n\u001b[32m   (...)\u001b[39m\u001b[32m   1238\u001b[39m \u001b[33;03m    3\u001b[39;00m\n\u001b[32m   1239\u001b[39m \u001b[33;03m    \"\"\"\u001b[39;00m\n\u001b[32m-> \u001b[39m\u001b[32m1240\u001b[39m     \u001b[38;5;28;01mreturn\u001b[39;00m \u001b[38;5;28mint\u001b[39m(\u001b[38;5;28;43mself\u001b[39;49m\u001b[43m.\u001b[49m\u001b[43m_jdf\u001b[49m\u001b[43m.\u001b[49m\u001b[43mcount\u001b[49m\u001b[43m(\u001b[49m\u001b[43m)\u001b[49m)\n",
      "\u001b[36mFile \u001b[39m\u001b[32mc:\\Users\\jessi\\Desktop\\BT4221\\maleware-detection-ml-model\\.venv\\Lib\\site-packages\\py4j\\java_gateway.py:1321\u001b[39m, in \u001b[36mJavaMember.__call__\u001b[39m\u001b[34m(self, *args)\u001b[39m\n\u001b[32m   1314\u001b[39m args_command, temp_args = \u001b[38;5;28mself\u001b[39m._build_args(*args)\n\u001b[32m   1316\u001b[39m command = proto.CALL_COMMAND_NAME +\\\n\u001b[32m   1317\u001b[39m     \u001b[38;5;28mself\u001b[39m.command_header +\\\n\u001b[32m   1318\u001b[39m     args_command +\\\n\u001b[32m   1319\u001b[39m     proto.END_COMMAND_PART\n\u001b[32m-> \u001b[39m\u001b[32m1321\u001b[39m answer = \u001b[38;5;28;43mself\u001b[39;49m\u001b[43m.\u001b[49m\u001b[43mgateway_client\u001b[49m\u001b[43m.\u001b[49m\u001b[43msend_command\u001b[49m\u001b[43m(\u001b[49m\u001b[43mcommand\u001b[49m\u001b[43m)\u001b[49m\n\u001b[32m   1322\u001b[39m return_value = get_return_value(\n\u001b[32m   1323\u001b[39m     answer, \u001b[38;5;28mself\u001b[39m.gateway_client, \u001b[38;5;28mself\u001b[39m.target_id, \u001b[38;5;28mself\u001b[39m.name)\n\u001b[32m   1325\u001b[39m \u001b[38;5;28;01mfor\u001b[39;00m temp_arg \u001b[38;5;129;01min\u001b[39;00m temp_args:\n",
      "\u001b[36mFile \u001b[39m\u001b[32mc:\\Users\\jessi\\Desktop\\BT4221\\maleware-detection-ml-model\\.venv\\Lib\\site-packages\\py4j\\java_gateway.py:1038\u001b[39m, in \u001b[36mGatewayClient.send_command\u001b[39m\u001b[34m(self, command, retry, binary)\u001b[39m\n\u001b[32m   1036\u001b[39m connection = \u001b[38;5;28mself\u001b[39m._get_connection()\n\u001b[32m   1037\u001b[39m \u001b[38;5;28;01mtry\u001b[39;00m:\n\u001b[32m-> \u001b[39m\u001b[32m1038\u001b[39m     response = \u001b[43mconnection\u001b[49m\u001b[43m.\u001b[49m\u001b[43msend_command\u001b[49m\u001b[43m(\u001b[49m\u001b[43mcommand\u001b[49m\u001b[43m)\u001b[49m\n\u001b[32m   1039\u001b[39m     \u001b[38;5;28;01mif\u001b[39;00m binary:\n\u001b[32m   1040\u001b[39m         \u001b[38;5;28;01mreturn\u001b[39;00m response, \u001b[38;5;28mself\u001b[39m._create_connection_guard(connection)\n",
      "\u001b[36mFile \u001b[39m\u001b[32mc:\\Users\\jessi\\Desktop\\BT4221\\maleware-detection-ml-model\\.venv\\Lib\\site-packages\\py4j\\clientserver.py:511\u001b[39m, in \u001b[36mClientServerConnection.send_command\u001b[39m\u001b[34m(self, command)\u001b[39m\n\u001b[32m    509\u001b[39m \u001b[38;5;28;01mtry\u001b[39;00m:\n\u001b[32m    510\u001b[39m     \u001b[38;5;28;01mwhile\u001b[39;00m \u001b[38;5;28;01mTrue\u001b[39;00m:\n\u001b[32m--> \u001b[39m\u001b[32m511\u001b[39m         answer = smart_decode(\u001b[38;5;28;43mself\u001b[39;49m\u001b[43m.\u001b[49m\u001b[43mstream\u001b[49m\u001b[43m.\u001b[49m\u001b[43mreadline\u001b[49m\u001b[43m(\u001b[49m\u001b[43m)\u001b[49m[:-\u001b[32m1\u001b[39m])\n\u001b[32m    512\u001b[39m         logger.debug(\u001b[33m\"\u001b[39m\u001b[33mAnswer received: \u001b[39m\u001b[38;5;132;01m{0}\u001b[39;00m\u001b[33m\"\u001b[39m.format(answer))\n\u001b[32m    513\u001b[39m         \u001b[38;5;66;03m# Happens when a the other end is dead. There might be an empty\u001b[39;00m\n\u001b[32m    514\u001b[39m         \u001b[38;5;66;03m# answer before the socket raises an error.\u001b[39;00m\n",
      "\u001b[36mFile \u001b[39m\u001b[32m~\\AppData\\Local\\Programs\\Python\\Python313\\Lib\\socket.py:719\u001b[39m, in \u001b[36mSocketIO.readinto\u001b[39m\u001b[34m(self, b)\u001b[39m\n\u001b[32m    717\u001b[39m     \u001b[38;5;28;01mraise\u001b[39;00m \u001b[38;5;167;01mOSError\u001b[39;00m(\u001b[33m\"\u001b[39m\u001b[33mcannot read from timed out object\u001b[39m\u001b[33m\"\u001b[39m)\n\u001b[32m    718\u001b[39m \u001b[38;5;28;01mtry\u001b[39;00m:\n\u001b[32m--> \u001b[39m\u001b[32m719\u001b[39m     \u001b[38;5;28;01mreturn\u001b[39;00m \u001b[38;5;28;43mself\u001b[39;49m\u001b[43m.\u001b[49m\u001b[43m_sock\u001b[49m\u001b[43m.\u001b[49m\u001b[43mrecv_into\u001b[49m\u001b[43m(\u001b[49m\u001b[43mb\u001b[49m\u001b[43m)\u001b[49m\n\u001b[32m    720\u001b[39m \u001b[38;5;28;01mexcept\u001b[39;00m timeout:\n\u001b[32m    721\u001b[39m     \u001b[38;5;28mself\u001b[39m._timeout_occurred = \u001b[38;5;28;01mTrue\u001b[39;00m\n",
      "\u001b[31mKeyboardInterrupt\u001b[39m: "
>>>>>>> 4aaf0986c7893fe8035b68bba5c86946b3a43f5c
     ]
    }
   ],
   "source": [
    "# Discretise numerical features\n",
    "numeric_cols = [col_name for col_name, dtype in df.dtypes if dtype in ['int', 'double', 'float']]\n",
    "\n",
    "# compute mutual info\n",
    "def compute_mutual_info(df, feature_col, target_col=\"label\", n_bins=5):\n",
    "    # 5 quantile based bins per numerical col\n",
    "    if feature_col in numeric_cols:\n",
    "        df = df.withColumn(\n",
    "            f\"{feature_col}_bin\",\n",
    "            F.ntile(n_bins).over(Window.orderBy(feature_col)))\n",
    "        feature_col = f\"{feature_col}_bin\"\n",
    "\n",
    "    # Compute joint probability P(X,Y)\n",
    "    joint_prob = (\n",
    "        df.groupBy(feature_col, target_col)\n",
    "        .agg(F.count(\"*\").alias(\"count\"))\n",
    "        .withColumn(\"p_xy\", F.col(\"count\") / df.count())\n",
    "    )\n",
    "\n",
    "    # Compute marginal probabilities P(X) and P(Y)\n",
    "    p_x = joint_prob.groupBy(feature_col).agg(F.sum(\"p_xy\").alias(\"p_x\"))\n",
    "    p_y = joint_prob.groupBy(target_col).agg(F.sum(\"p_xy\").alias(\"p_y\"))\n",
    "\n",
    "    # Calculate MI terms: p_xy * log2(p_xy / (p_x * p_y))\n",
    "    mi_terms = (\n",
    "        joint_prob.join(p_x, feature_col)\n",
    "        .join(p_y, target_col)\n",
    "        .withColumn(\n",
    "            \"mi_term\",\n",
    "            F.col(\"p_xy\") * F.log2(F.col(\"p_xy\") / (F.col(\"p_x\") * F.col(\"p_y\")))\n",
    "        )\n",
    "    )\n",
    "\n",
    "    # Sum MI terms to get final score\n",
    "    mi = mi_terms.agg(F.sum(\"mi_term\").alias(\"mi\")).collect()[0][\"mi\"]\n",
    "    return float(mi) if mi else 0.0\n",
    "\n",
    "# Compute MI for all features\n",
    "df_mis = df.select(\"*\")\n",
    "mi_results = {}\n",
    "\n",
    "for feature in df_mis.columns:  # Combine all features\n",
    "    if feature == \"label\":\n",
    "        continue\n",
    "    mi_score = compute_mutual_info(df_mis, feature)\n",
    "    mi_results[feature] = mi_score\n",
    "    print(f\"MI for {feature}: {mi_score:.4f}\")\n",
    "\n",
    "# Sort the MI and display results\n",
    "sorted_mi_results = sorted(mi_results.items(), key=lambda x: x[1], reverse=True)\n",
    "print(\"\\n=== Features sorted by Mutual Information ===\")\n",
    "for feature, mi_score in sorted_mi_results:\n",
    "    print(f\"{feature}: {mi_score:.4f}\")"
   ]
  },
  {
   "cell_type": "markdown",
   "metadata": {
    "application/vnd.databricks.v1+cell": {
     "cellMetadata": {},
     "inputWidgets": {},
     "nuid": "4b457bb5-cdd3-4a27-ac54-5b61dd405b9d",
     "showTitle": false,
     "tableResultSettingsMap": {},
     "title": ""
    },
    "id": "vXRzg0OfdxU1"
   },
   "source": [
    "**Interpretation of Mutual Information (MI) Scoring:**\n",
    "\n",
    "MI scoring is a measure of how much information one variable (feature) provides about another (target variable, in this case, `label`). It helps identify which features are most relevant for predicting the target, where a higher MI score means the feature is more informative for the prediction and should be prioritised for model training.\n",
    "\n",
    "From the results:\n",
    "The top 5 informative features are\n",
    "1. `id_resp_h` (0.901)\n",
    "2. `uid` (0.901)\n",
    "3. `history` (0.901)\n",
    "4. `conn_state` (0.901)\n",
    "5. `id_resp_p` (0.640)\n",
    "\n",
    "On the other hand, the features with low/zero MI score are `proto` (0.0002) and `id_orig_h` (0.000) which have very low MI and may have a negligible effect on prediction.\n",
    "\n",
    "**Data Leakage Issue** - to edit\n",
    "\n",
    "While `uid` has a high MI score, it could suggest that the `uid` is leaking information about the `label` as `uid` is supposed to be a unique identifier for the connection. Since it is unique per row, it has zero predictive power on new data and cannot be generalised onto new samples. This could cause the model to perform extremely well on training data but fail on unseen data."
   ]
  },
  {
   "cell_type": "markdown",
   "metadata": {
    "application/vnd.databricks.v1+cell": {
     "cellMetadata": {},
     "inputWidgets": {},
     "nuid": "d1a3f879-afbf-4ad8-9db6-d45561fc102d",
     "showTitle": false,
     "tableResultSettingsMap": {},
     "title": ""
    },
    "id": "-LwH82mRclPZ"
   },
   "source": [
    "# Feature Engineering"
   ]
  },
  {
   "cell_type": "markdown",
   "metadata": {
    "application/vnd.databricks.v1+cell": {
     "cellMetadata": {},
     "inputWidgets": {},
     "nuid": "9cec1cac-d7bf-4d31-bd7a-e8d6465b772b",
     "showTitle": false,
     "tableResultSettingsMap": {},
     "title": ""
    },
    "id": "rTUT3pONMZ4x"
   },
   "source": [
    "## Engineering new Meaningful Features"
   ]
  },
  {
   "cell_type": "code",
<<<<<<< HEAD
   "execution_count": 27,
=======
   "execution_count": 10,
>>>>>>> 4aaf0986c7893fe8035b68bba5c86946b3a43f5c
   "metadata": {
    "application/vnd.databricks.v1+cell": {
     "cellMetadata": {
      "byteLimit": 2048000,
      "rowLimit": 10000
     },
     "inputWidgets": {},
     "nuid": "d51361c8-45f9-44dd-8c68-3ba4b9e29aff",
     "showTitle": false,
     "tableResultSettingsMap": {},
     "title": ""
    },
    "id": "G5RsBjD0cn3k"
   },
   "outputs": [
    {
     "name": "stdout",
     "output_type": "stream",
     "text": [
      "+-----------+------------------+---------+----------+------------------+----------+\n",
      "|total_bytes|        byte_ratio|pkt_ratio|total_pkts|        throughput|efficiency|\n",
      "+-----------+------------------+---------+----------+------------------+----------+\n",
<<<<<<< HEAD
      "|       96.0|0.9795918367346939|      0.5|       2.0|  668.295643928812|      32.0|\n",
      "|       78.0|              78.0|      2.0|       2.0|15.599497018288181|      26.0|\n",
      "|       78.0|              78.0|      2.0|       2.0|15.583974122335873|      26.0|\n",
      "|       78.0|              78.0|      2.0|       2.0|15.583923643487838|      26.0|\n",
      "|       78.0|              78.0|      2.0|       2.0|15.583960760256039|      26.0|\n",
=======
      "|       96.0|0.9795918367346939|      0.5|       2.0| 668.2956372825429|      32.0|\n",
      "|       78.0|              78.0|      2.0|       2.0|15.599497696174183|      26.0|\n",
      "|       78.0|              78.0|      2.0|       2.0|15.583973441712542|      26.0|\n",
      "|       78.0|              78.0|      2.0|       2.0|15.583923624389081|      26.0|\n",
      "|       78.0|              78.0|      2.0|       2.0|15.583960987351817|      26.0|\n",
>>>>>>> 4aaf0986c7893fe8035b68bba5c86946b3a43f5c
      "+-----------+------------------+---------+----------+------------------+----------+\n",
      "only showing top 5 rows\n",
      "\n"
     ]
    }
   ],
   "source": [
    "from pyspark.sql.functions import col, when, lit, log1p\n",
    "\n",
    "# Total Bytes\n",
    "# Byte Ratio (orig_bytes / (resp_bytes + 1))\n",
    "# Packet Ratio (orig_pkts / (resp_pkts + 1))\n",
    "# Total Packet Counts\n",
    "# Throughput = total_bytes / (duration + 1e-6)\n",
    "# Data-to-packet efficiency\n",
    "\n",
    "df = df \\\n",
    "    .withColumn(\"total_bytes\", col(\"orig_bytes\") + col(\"resp_bytes\")) \\\n",
    "    .withColumn(\"byte_ratio\", col(\"orig_bytes\") / (col(\"resp_bytes\") + lit(1))) \\\n",
    "    .withColumn(\"pkt_ratio\", col(\"orig_pkts\") / (col(\"resp_pkts\") + lit(1))) \\\n",
    "    .withColumn(\"total_pkts\", col(\"orig_pkts\") + col(\"resp_pkts\")) \\\n",
    "    .withColumn(\"throughput\", col(\"total_bytes\") / (col(\"duration\") + lit(1e-6))) \\\n",
    "    .withColumn(\"efficiency\", col(\"total_bytes\") / (col(\"total_pkts\") + lit(1)))\n",
    "\n",
    "df.select(\"total_bytes\", \"byte_ratio\", \"pkt_ratio\", \"total_pkts\", \"throughput\", \"efficiency\").show(5)\n"
   ]
  },
  {
   "cell_type": "markdown",
   "metadata": {},
   "source": [
    "## Label Indexing and Train Data Splitting"
   ]
  },
  {
   "cell_type": "code",
   "execution_count": 11,
   "metadata": {},
   "outputs": [],
   "source": [
    "from pyspark.ml.feature import StringIndexer\n",
    "\n",
    "# Create a label indexer for string labels.\n",
    "label_indexer = StringIndexer(inputCol=\"label\", outputCol=\"label_index\", handleInvalid=\"keep\")\n",
    "\n",
    "train_df, test_df = df.randomSplit([0.8, 0.2], seed=42)"
   ]
  },
  {
   "cell_type": "markdown",
   "metadata": {
    "application/vnd.databricks.v1+cell": {
     "cellMetadata": {},
     "inputWidgets": {},
     "nuid": "81273552-2de1-494c-aef7-33ace3c97695",
     "showTitle": false,
     "tableResultSettingsMap": {},
     "title": ""
    },
    "id": "HpbaXcxPLdjk"
   },
   "source": [
    "## Encoding of Categorical Variables:"
   ]
  },
  {
   "cell_type": "markdown",
   "metadata": {
    "application/vnd.databricks.v1+cell": {
     "cellMetadata": {},
     "inputWidgets": {},
     "nuid": "f8eb3cd3-a280-45db-ac7b-3117917e8209",
     "showTitle": false,
     "tableResultSettingsMap": {},
     "title": ""
    }
   },
   "source": [
    "Categorical varaiables included are History, proto, conn_state, and id_resp_p. From data exploration, cardinality of each of them are 61, 3, 11, 16 respectively.\n",
    "\n",
    "History has high cardinality so need to do frequency encoding.\n",
    "Others have relative low cardinality so one-hot encoding is feasible."
   ]
  },
  {
   "cell_type": "code",
<<<<<<< HEAD
   "execution_count": 28,
=======
   "execution_count": 12,
>>>>>>> 4aaf0986c7893fe8035b68bba5c86946b3a43f5c
   "metadata": {
    "application/vnd.databricks.v1+cell": {
     "cellMetadata": {
      "byteLimit": 2048000,
      "rowLimit": 10000
     },
     "inputWidgets": {},
     "nuid": "7917b181-51e3-437c-bdfd-46cdc5f3a531",
     "showTitle": false,
     "tableResultSettingsMap": {},
     "title": ""
    },
    "id": "84nGnJXTLpDp"
   },
<<<<<<< HEAD
   "outputs": [
    {
     "name": "stdout",
     "output_type": "stream",
     "text": [
      "+-------+--------------------+\n",
      "|history|history_freq_encoded|\n",
      "+-------+--------------------+\n",
      "|      D|                 543|\n",
      "|      D|                 543|\n",
      "|      D|                 543|\n",
      "|      D|                 543|\n",
      "|      D|                 543|\n",
      "|      D|                 543|\n",
      "|      D|                 543|\n",
      "|      D|                 543|\n",
      "|      D|                 543|\n",
      "|      D|                 543|\n",
      "|      D|                 543|\n",
      "|      D|                 543|\n",
      "|      D|                 543|\n",
      "|      D|                 543|\n",
      "|     Dd|                 322|\n",
      "|     Dd|                 322|\n",
      "|     Dd|                 322|\n",
      "|     Dd|                 322|\n",
      "|     Dd|                 322|\n",
      "|     Dd|                 322|\n",
      "+-------+--------------------+\n",
      "only showing top 20 rows\n",
      "\n"
     ]
    }
   ],
=======
   "outputs": [],
>>>>>>> 4aaf0986c7893fe8035b68bba5c86946b3a43f5c
   "source": [
    "from pyspark.sql.functions import count\n",
    "\n",
    "# for high cardinality categorical features, use frequency encoding\n",
    "\n",
    "history_freq_train = train_df.groupBy(\"history\").count().withColumnRenamed(\"count\", \"history_freq\")\n",
    "\n",
    "# Join the frequency mapping to the training data.\n",
    "train_df = train_df.join(history_freq_train, on=\"history\", how=\"left\")\n",
    "\n",
    "# Join the same mapping to the test data.\n",
    "test_df = test_df.join(history_freq_train, on=\"history\", how=\"left\")\n",
    "# Fill null values in test set for unseen \"history\" categories (if any) with 0.\n",
    "test_df = test_df.fillna({\"history_freq\": 0.0})"
   ]
  },
  {
   "cell_type": "code",
<<<<<<< HEAD
   "execution_count": 29,
=======
   "execution_count": 13,
>>>>>>> 4aaf0986c7893fe8035b68bba5c86946b3a43f5c
   "metadata": {
    "application/vnd.databricks.v1+cell": {
     "cellMetadata": {
      "byteLimit": 2048000,
      "rowLimit": 10000
     },
     "inputWidgets": {},
     "nuid": "2d39d092-582d-45bf-a917-ae4688562227",
     "showTitle": false,
     "tableResultSettingsMap": {},
     "title": ""
    },
    "id": "Bsqzm_ErHsbU"
   },
<<<<<<< HEAD
   "outputs": [
    {
     "name": "stdout",
     "output_type": "stream",
     "text": [
      "+-----+-----------+-------------+----------+----------------+------------------+---------+---------------+-----------------+\n",
      "|proto|proto_index|proto_encoded|conn_state|conn_state_index|conn_state_encoded|id_resp_p|id_resp_p_index|id_resp_p_encoded|\n",
      "+-----+-----------+-------------+----------+----------------+------------------+---------+---------------+-----------------+\n",
      "|  udp|        1.0|(2,[1],[1.0])|        SF|             4.0|    (10,[4],[1.0])|    123.0|            5.0|   (13,[5],[1.0])|\n",
      "|  udp|        1.0|(2,[1],[1.0])|        S0|             0.0|    (10,[0],[1.0])|     53.0|            4.0|   (13,[4],[1.0])|\n",
      "|  udp|        1.0|(2,[1],[1.0])|        S0|             0.0|    (10,[0],[1.0])|     53.0|            4.0|   (13,[4],[1.0])|\n",
      "|  udp|        1.0|(2,[1],[1.0])|        S0|             0.0|    (10,[0],[1.0])|     53.0|            4.0|   (13,[4],[1.0])|\n",
      "|  udp|        1.0|(2,[1],[1.0])|        S0|             0.0|    (10,[0],[1.0])|     53.0|            4.0|   (13,[4],[1.0])|\n",
      "+-----+-----------+-------------+----------+----------------+------------------+---------+---------------+-----------------+\n",
      "only showing top 5 rows\n",
      "\n"
     ]
    }
   ],
=======
   "outputs": [],
>>>>>>> 4aaf0986c7893fe8035b68bba5c86946b3a43f5c
   "source": [
    "from pyspark.ml.feature import StringIndexer, OneHotEncoder\n",
    "\n",
    "# Low-cardinality categorical features to one-hot encode:\n",
    "low_card_cat = [\"proto\", \"conn_state\", \"id_resp_p\"]\n",
    "\n",
    "# Create StringIndexers for low-cardinality features.\n",
    "indexers = [StringIndexer(inputCol=cat, outputCol=cat + \"_index\", handleInvalid=\"keep\")\n",
    "            for cat in low_card_cat]\n",
    "\n",
    "# Create OneHotEncoders for the indexed features.\n",
    "encoders = [OneHotEncoder(inputCol=cat + \"_index\", outputCol=cat + \"_vec\")\n",
    "            for cat in low_card_cat]"
   ]
  },
  {
   "cell_type": "markdown",
   "metadata": {
    "application/vnd.databricks.v1+cell": {
     "cellMetadata": {},
     "inputWidgets": {},
     "nuid": "bafac25c-c3f4-4450-96b5-bd3d8e52731d",
     "showTitle": false,
     "tableResultSettingsMap": {},
     "title": ""
    },
    "id": "zIw_teB0ITOI"
   },
   "source": [
    "## Scaling of Numerical Features"
   ]
  },
  {
   "cell_type": "code",
<<<<<<< HEAD
   "execution_count": 30,
=======
   "execution_count": 14,
>>>>>>> 4aaf0986c7893fe8035b68bba5c86946b3a43f5c
   "metadata": {
    "application/vnd.databricks.v1+cell": {
     "cellMetadata": {
      "byteLimit": 2048000,
      "rowLimit": 10000
     },
     "inputWidgets": {},
     "nuid": "06d43ceb-63b3-45e5-abc2-a085800b51f9",
     "showTitle": false,
     "tableResultSettingsMap": {},
     "title": ""
    },
    "id": "sHA9IuSTIh0Q"
   },
<<<<<<< HEAD
   "outputs": [
    {
     "name": "stdout",
     "output_type": "stream",
     "text": [
      "+-------------------------------------------------------------------------------------------------------------------------------------------------------+\n",
      "|features_scaled                                                                                                                                        |\n",
      "+-------------------------------------------------------------------------------------------------------------------------------------------------------+\n",
      "|[-0.3833873816355685,-0.12773235064971267,-0.0020542609635286905,-0.12773335810705191,-0.0016519923171229866,-0.12876313103806422,-0.12775118809051392]|\n",
      "|[0.014849471078203438,-0.12773233269561995,-0.0016513650109855138,-0.1277333623029721,-0.0016519923171229866,-0.12876321964244647,-0.12776607221871794]|\n",
      "|[0.01525788025943071,-0.12773233269561995,-0.0016513650109855138,-0.1277333623029721,-0.0016519923171229866,-0.12876321964244647,-0.12776607257270314] |\n",
      "|[0.015259209690944516,-0.12773233269561995,-0.0016513650109855138,-0.1277333623029721,-0.0016519923171229866,-0.12876321964244647,-0.12776607257385428]|\n",
      "|[0.0152582321677726,-0.12773233269561995,-0.0016513650109855138,-0.1277333623029721,-0.0016519923171229866,-0.12876321964244647,-0.12776607257300784]  |\n",
      "+-------------------------------------------------------------------------------------------------------------------------------------------------------+\n",
      "only showing top 5 rows\n",
      "\n"
     ]
    }
   ],
=======
   "outputs": [],
>>>>>>> 4aaf0986c7893fe8035b68bba5c86946b3a43f5c
   "source": [
    "from pyspark.ml.feature import VectorAssembler, StandardScaler\n",
    "\n",
    "# List of numerical features to scale.\n",
    "numeric_features = [\"duration\", \"byte_ratio\", \"pkt_ratio\",\n",
    "                    \"total_bytes\", \"total_pkts\", \"efficiency\", \"throughput\", \"history_freq\"]\n",
    "\n",
    "# Ensure numeric feature columns are of type double.\n",
    "for feature in numeric_features:\n",
    "    train_df = train_df.withColumn(feature, col(feature).cast(\"double\"))\n",
    "    test_df = test_df.withColumn(feature, col(feature).cast(\"double\"))\n",
    "\n",
    "# Assemble numeric features into a vector.\n",
    "assembler_num = VectorAssembler(inputCols=numeric_features, outputCol=\"num_features\")\n",
    "\n",
    "# Scale numerical features using StandardScaler.\n",
    "scaler = StandardScaler(inputCol=\"num_features\", outputCol=\"features_scaled\")\n"
   ]
  },
  {
   "cell_type": "markdown",
   "metadata": {},
   "source": [
    "## K-Means clustering of categorical features into new cluster feature "
   ]
  },
  {
   "cell_type": "code",
   "execution_count": 31,
   "metadata": {},
   "outputs": [
    {
     "data": {
      "image/png": "iVBORw0KGgoAAAANSUhEUgAAArMAAAHWCAYAAABkNgFvAAAAOXRFWHRTb2Z0d2FyZQBNYXRwbG90bGliIHZlcnNpb24zLjcuMiwgaHR0cHM6Ly9tYXRwbG90bGliLm9yZy8pXeV/AAAACXBIWXMAAA9hAAAPYQGoP6dpAAB1o0lEQVR4nO3dd1xV9f8H8Ne5rMseIksRcIMI7r3FcID5K0dqudKWM6rvVytXQzSzzJ1+S81c5apwZe5BblyIA1FMAUVkyObe8/sDuXlleC/cy7kXXs/H4z7knvm6J6s3n/s+nyOIoiiCiIiIiMgIyaQOQERERERUXixmiYiIiMhosZglIiIiIqPFYpaIiIiIjBaLWSIiIiIyWixmiYiIiMhosZglIiIiIqPFYpaIiIiIjBaLWSIiIiIyWixmiUhjgiBg1qxZqvezZs2CIAhITk6WLpSB8vb2RkhIiN7Pc+jQIQiCgEOHDr1w29OnT6NDhw6wtraGIAiIiorSe77Kps31kOrc/PeGSLdYzBJVc2vWrIEgCKW+/v77b6kjlpu3tzcEQUBQUFCJ61etWqX6nGfOnNH6+NHR0Zg1axZu375dwaT6l5+fj0GDBiElJQXffvst1q1bBy8vL72fNz4+Hu+88w68vb1hYWEBFxcXDBgwAMePH6/QcZctW4Y1a9boJiQRGTVTqQMQkWH47LPP4OPjU2x5/fr1JUijO3K5HAcPHkRiYiLc3NzU1q1fvx5yuRw5OTnlOnZ0dDRmz56Nbt26wdvbWwdp9Sc2NhZ37tzBqlWrMHbs2Eo55/Hjx9G3b18AwNixY+Hn54fExESsWbMGnTt3xnfffYeJEyeW69jLli2Ds7MzRo0apba8S5cuyM7Ohrm5eUXjE5GRYDFLRACAPn36oFWrVlLH0LmOHTvi9OnT2Lx5MyZPnqxa/s8//+Do0aP4v//7P2zdulXChJXjwYMHAAAHBwedHTMzMxPW1tYlrnv8+DEGDhwIS0tLHD9+HPXq1VOtCwsLQ3BwMKZMmYKWLVuiQ4cOOsskk8kgl8t1djwiMnxsMyCiCktOTsbgwYNhZ2eHGjVqYPLkycVGOwsKCvD555+jXr16sLCwgLe3Nz7++GPk5uaqtgkLC0ONGjUgiqJq2cSJEyEIAhYtWqRalpSUBEEQsHz58hdmk8vleOWVV7Bhwwa15Rs3boSjoyOCg4NL3C8mJgYDBw6Ek5MT5HI5WrVqhd9//121fs2aNRg0aBAAoHv37qp2hef7JY8dO4Y2bdpALpejbt26+Omnn4qd69atWxg0aBCcnJxgZWWFdu3aYefOncW2++effzBgwABYW1vDxcUF77//vtr1K82oUaPQtWtXAMCgQYMgCAK6deumWn/gwAF07twZ1tbWcHBwwMsvv4yrV6+qHaOozzM6OhrDhg2Do6MjOnXqVOo5v//+eyQmJmL+/PlqhSwAWFpaYu3atRAEAZ999plqeVHLy5EjR/D222+jRo0asLOzw4gRI/D48WPVdt7e3rhy5QoOHz6suu5Fn6ekvtVu3brB398fFy9eRNeuXWFlZYX69etjy5YtAIDDhw+jbdu2sLS0RKNGjfDXX3+p5b1z5w7ee+89NGrUCJaWlqhRowYGDRqk0/aSO3fuoH79+vD390dSUpLOjktUHbCYJSIAQFpaGpKTk9Vejx490mjfwYMHIycnB+Hh4ejbty8WLVqEt956S22bsWPHYsaMGWjRogW+/fZbdO3aFeHh4XjttddU23Tu3BkpKSm4cuWKatnRo0chk8lw9OhRtWVA4VfKmhg2bBhOnTqF2NhY1bINGzZg4MCBMDMzK7b9lStX0K5dO1y9ehVTp07FggULYG1tjQEDBmD79u2qc0+aNAkA8PHHH2PdunVYt24dfH19Vce5efMmBg4ciF69emHBggVwdHTEqFGj1D5fUlISOnTogL179+K9997Dl19+iZycHPTv3191LgDIzs5Gz549sXfvXkyYMAGffPIJjh49iv/85z8v/Pxvv/02Pv74YwDApEmTsG7dOnzyyScAgL/++gvBwcF48OABZs2ahbCwMJw4cQIdO3YssVgbNGgQsrKyMGfOHIwbN67Uc/7xxx+Qy+UYPHhwiet9fHzQqVMnHDhwANnZ2WrrJkyYgKtXr2LWrFkYMWIE1q9fjwEDBqh+yVm4cCFq166Nxo0bq6570ecpzePHjxESEoK2bdviq6++goWFBV577TVs3rwZr732Gvr27Yu5c+ciMzMTAwcOREZGhmrf06dP48SJE3jttdewaNEivPPOO9i/fz+6deuGrKysMs+ridjYWHTp0gW2trY4dOgQXF1dK3xMompFJKJqbfXq1SKAEl8WFhZq2wIQZ86cqXo/c+ZMEYDYv39/te3ee+89EYB44cIFURRFMSoqSgQgjh07Vm27Dz/8UAQgHjhwQBRFUXzw4IEIQFy2bJkoiqKYmpoqymQycdCgQaKrq6tqv0mTJolOTk6iUqks87N5eXmJ/fr1EwsKCkQ3Nzfx888/F0VRFKOjo0UA4uHDh1Wf//Tp06r9evbsKTZt2lTMyclRLVMqlWKHDh3EBg0aqJb9+uuvIgDx4MGDJZ4bgHjkyBHVsgcPHogWFhbiBx98oFo2ZcoUEYB49OhR1bKMjAzRx8dH9Pb2FhUKhSiKorhw4UIRgPjLL7+otsvMzBTr169faoZnHTx4UAQg/vrrr2rLmzVrJrq4uIiPHj1SLbtw4YIok8nEESNGqJYV/bMeOnRomecp4uDgIAYGBpa5zaRJk0QA4sWLF0VR/PfvYsuWLcW8vDzVdl999ZUIQPztt99Uy5o0aSJ27dq11M/57PXo2rWrCEDcsGGDallMTIwIQJTJZOLff/+tWr53714RgLh69WrVsqysrGLniYyMFAGIP/30U5nnLknRtXz48KF49epV0cPDQ2zdurWYkpJS5n5EVDKOzBIRAGDp0qXYt2+f2mv37t0a7Tt+/Hi190U39ezatUvtz7CwMLXtPvjgAwBQfaVes2ZNNG7cGEeOHAFQeAORiYkJPvroIyQlJeHGjRsACkdmO3XqBEEQNMpnYmKCwYMHY+PGjQAKb/zy9PRE586di22bkpKCAwcOYPDgwcjIyFAbpQ4ODsaNGzdw7949jc7r5+endo6aNWuiUaNGuHXrlmrZrl270KZNG7Wv7G1sbPDWW2/h9u3biI6OVm3n7u6OgQMHqrazsrIqNgKujYSEBERFRWHUqFFwcnJSLQ8ICECvXr1U/9ye9c4772h07IyMDNja2pa5TdH69PR0teVvvfWW2oj5u+++C1NT0xLzaMrGxkbtW4BGjRrBwcEBvr6+aNu2rWp50c/P/jOytLRU/Zyfn49Hjx6hfv36cHBwwLlz58qd6fLly+jatSu8vb3x119/wdHRsdzHIqrOqnUxe+TIEYSGhsLDwwOCIGDHjh1a7V/UQ/b8q7QbIogMWZs2bRAUFKT26t69u0b7NmjQQO19vXr1IJPJVF9T37lzBzKZrNjMCG5ubnBwcMCdO3dUyzp37qxqIzh69ChatWqFVq1awcnJCUePHkV6ejouXLhQYiFalmHDhiE6OhoXLlzAhg0b8Nprr5VYDN+8eROiKGL69OmoWbOm2mvmzJkA/r2Z6kXq1KlTbJmjo6Na/+edO3fQqFGjYtsVtSsUXZuinsrnM5e0r6aKjl3a+ZOTk5GZmam2vKQZL0pia2ur9lV9SYrWP1/0Pv/3ycbGBu7u7hXqUa1du3axa2dvbw9PT89iywCo/TPKzs7GjBkz4OnpCQsLCzg7O6NmzZpITU1FWlpauTOFhobC1tYWe/fuhZ2dXbmPQ1TdVevZDDIzMxEYGIgxY8bglVde0Xr/Dz/8sNgoRc+ePdG6dWtdRSQySqWNmGoyktqpUyesWrUKt27dwtGjR9G5c2cIgoBOnTrh6NGj8PDwgFKp1LqYbdu2LerVq4cpU6YgLi4Ow4YNK3E7pVIJoPDf79JuDtN0ujITE5MSl4vP3OBmbJ4dpSyLr68vzp8/j9zcXFhYWJS4zcWLF2FmZlaseNWH0v5ZaPLPaOLEiVi9ejWmTJmC9u3bw97eHoIg4LXXXlP9fSmPV199FWvXrsX69evx9ttvl/s4RNVdtS5m+/Tpgz59+pS6Pjc3F5988gk2btyI1NRU+Pv7Y968eaq7Zm1sbGBjY6Pa/sKFC4iOjsaKFSv0HZ3IoNy4cUNtxO7mzZtQKpWquVe9vLygVCpx48YNtRukkpKSkJqaqjZ5f1GRum/fPpw+fRpTp04FUHjD1fLly+Hh4QFra2u0bNlS65xDhw7FF198AV9fXzRr1qzEberWrQsAMDMzK/VhC0U0bXMoi5eXF65du1ZseUxMjGp90Z+XL1+GKIpq5y1pX23OXdoxYmJi4OzsXO5vmkJCQhAZGYlff/0Vr7/+erH1t2/fxtGjRxEUFFSsQL5x44batwJPnjxBQkKCas5aQDfXXlNbtmzByJEjsWDBAtWynJwcpKamVui48+fPh6mpKd577z3Y2tqW+gsWEZWtWrcZvMiECRMQGRmJTZs24eLFixg0aBB69+6t6tt73v/+9z80bNhQ6xEjImO3dOlStfeLFy8GANUvi0VFyMKFC9W2++abbwAA/fr1Uy3z8fFBrVq18O233yI/Px8dO3YEUFjkxsbGYsuWLWjXrh1MTbX/XXzs2LGYOXOmWlHyPBcXF3Tr1g3ff/89EhISiq1/+PCh6ueiQq8iRU3fvn1x6tQpREZGqpZlZmZi5cqV8Pb2hp+fn2q7+/fvq6aTAoCsrCysXLmy3Od2d3dHs2bNsHbtWrXPcPnyZfz5559qxaO23n77bbi4uOCjjz5S6z8FCgvB0aNHQxRFzJgxo9i+K1euRH5+vur98uXLUVBQoDb4YG1tXeFiUlMmJibFRtMXL14MhUJRoeMKgoCVK1di4MCBGDlypNrUb0SkuWo9MluW+Ph4rF69GvHx8fDw8ABQ+LXjnj17sHr1asyZM0dt+5ycHKxfv141ikRkbHbv3q0aDXxWhw4dVKOVpYmLi0P//v3Ru3dvREZG4ueff8awYcMQGBgIAAgMDMTIkSOxcuVKpKamomvXrjh16hTWrl2LAQMGFOvN7dy5MzZt2oSmTZuqbopp0aIFrK2tcf369XKPYHl5eWHWrFkv3G7p0qXo1KkTmjZtinHjxqFu3bpISkpCZGQk/vnnH1y4cAEA0KxZM5iYmGDevHlIS0uDhYUFevToARcXF40zTZ06FRs3bkSfPn0wadIkODk5Ye3atYiLi8PWrVshkxWOOYwbNw5LlizBiBEjcPbsWbi7u2PdunWwsrIq17UoMn/+fPTp0wft27fHm2++iezsbCxevBj29vYaXavS1KhRA1u2bEG/fv3QokWLYk8Au3nzJr777rsSH5iQl5eHnj17YvDgwbh27RqWLVuGTp06oX///qptWrZsieXLl+OLL75A/fr14eLigh49epQ7b1lCQkKwbt062Nvbw8/PD5GRkfjrr79Qo0aNCh9bJpPh559/xoABAzB48GDs2rVLb5+DqMqScioFQwJA3L59u+p9RESECEC0trZWe5mamoqDBw8utv+GDRtEU1NTMTExsRJTE1VcWVNz4bkpilDK1FzR0dHiwIEDRVtbW9HR0VGcMGGCmJ2drXae/Px8cfbs2aKPj49oZmYmenp6itOmTVOb/qrI0qVLRQDiu+++q7Y8KChIBCDu379fo89WNDWXJp//2am5RFEUY2NjxREjRohubm6imZmZWKtWLTEkJETcsmWL2narVq0S69atK5qYmKhNy1Taubt27VpsSqnY2Fhx4MCBooODgyiXy8U2bdqIERERxfa9c+eO2L9/f9HKykp0dnYWJ0+eLO7Zs6dCU3OJoij+9ddfYseOHUVLS0vRzs5ODA0NFaOjo9W2eXY6KW3ExcWJ48aNE+vUqSOamZmJzs7OYv/+/dWmIitS9M/i8OHD4ltvvSU6OjqKNjY24vDhw9WmDhNFUUxMTBT79esn2traigBU17S0qbmaNGlS7Hyl/TMCII4fP171/vHjx+Lo0aNFZ2dn0cbGRgwODhZjYmJELy8vceTIkartyjM1V5GsrCyxa9euoo2NjdpUYUT0YoIoGvGdCDokCAK2b9+OAQMGAAA2b96M4cOH48qVK8VuELCxsSn2jPeePXvCzs5ObZJzIiLS3Jo1azB69GicPn26Sj5amYj0g20GpWjevDkUCgUePHjwwh7YuLg4HDx4kP1ORERERJWsWhezT548wc2bN1Xv4+LiEBUVBScnJzRs2BDDhw/HiBEjsGDBAjRv3hwPHz7E/v37ERAQoHbDyo8//gh3d/cyZ0YgIiIiIt2r1sXsmTNn1G48KXo60ciRI7FmzRqsXr0aX3zxBT744APcu3cPzs7OaNeuHUJCQlT7KJVKrFmzBqNGjSp1vkIiIiIi0g/2zBIRERGR0eI8s0RERERktFjMEhEREZHRqnY9s0qlEvfv34etrW2lPg6RiIiIiDQjiiIyMjLg4eGhenhMaapdMXv//n14enpKHYOIiIiIXuDu3buoXbt2mdtUu2LW1tYWQOHFsbOzkzgNERERET0vPT0dnp6eqrqtLNWumC1qLbCzs2MxS0RERGTANGkJ5Q1gRERERGS0WMwSERERkdFiMUtERERERovFLBEREREZLRazRERERGS0WMwSERERkdFiMUtERERERovFLBEREREZLRazRERERGS0qt0TwCqTQiniVFwKHmTkwMVWjjY+TjCRvfhJFkRERESkGRazerLncgJm/xGNhLQc1TJ3ezlmhvqht7+7hMmIiIiIqg62GejBnssJePfnc2qFLAAkpuXg3Z/PYc/lBImSEREREVUtLGZ1TKEUMfuPaIglrCtaNvuPaCiUJW1BRERERNpgMatjp+JSio3IPksEkJCWg1NxKZUXioiIiKiKYjGrYw8ySi9ky7MdEREREZWOxayOudjKdbodEREREZWOxayOtfFxgru9HKVNwCWgcFaDNj5OlRmLiIiIqEpiMatjJjIBM0P9AKDUgnZmqB/nmyUiIiLSARazetDb3x3LX28BN/virQTfDGnGeWaJiIiIdIQPTdCT3v7u6OXnVvgEsPQczNl9FUnpueCALBEREZHucGRWj0xkAtrXq4GXm9fCoJaeAICIi3xgAhEREZGusJitJP0CClsLDl97iPScfInTEBEREVUNLGYrSWM3W9SraY08hRL7riRJHYeIiIioSmAxW0kEQUBIgAcAIOLifYnTEBEREVUNLGYrUWhgYavB0RvJSM3KkzgNERERkfFjMVuJ6rvYorGbLQqUIvZeSZQ6DhEREZHRYzFbyUKe3gjGWQ2IiIiIKo7FbCXr97Rv9kTsIzx6kitxGiIiIiLjxmK2kvk4W6OJhx0UShF72GpAREREVCEsZiWgmtXgAlsNiIiIiCqCxawEivpmT8Y9woOMHInTEBERERkvSYvZI0eOIDQ0FB4eHhAEATt27Chz+23btqFXr16oWbMm7Ozs0L59e+zdu7dywuqQp5MVAj0doBSBPZfZakBERERUXpIWs5mZmQgMDMTSpUs12v7IkSPo1asXdu3ahbNnz6J79+4IDQ3F+fPn9ZxU90KaPp3VgK0GREREROUmiKIoSh0CKHxC1vbt2zFgwACt9mvSpAmGDBmCGTNmaLR9eno67O3tkZaWBjs7u3Ik1Y37qdnoMPcABAGInNoTbvZyybIQERERGRJt6jWj7plVKpXIyMiAk5NTqdvk5uYiPT1d7WUIPBws0dLLEaII7LzE0VkiIiKi8jDqYvbrr7/GkydPMHjw4FK3CQ8Ph729verl6elZiQnL9u8DFO5LnISIiIjIOBltMbthwwbMnj0bv/zyC1xcXErdbtq0aUhLS1O97t69W4kpy9a3qTsEATgfn4p/HmdJHYeIiIjI6BhlMbtp0yaMHTsWv/zyC4KCgsrc1sLCAnZ2dmovQ+FqJ0dr78IWiV1sNSAiIiLSmtEVsxs3bsTo0aOxceNG9OvXT+o4FRaqajVgMUtERESkLUmL2SdPniAqKgpRUVEAgLi4OERFRSE+Ph5AYYvAiBEjVNtv2LABI0aMwIIFC9C2bVskJiYiMTERaWlpUsTXid7+7pAJwMV/0nDnUabUcYiIiIiMiqTF7JkzZ9C8eXM0b94cABAWFobmzZurptlKSEhQFbYAsHLlShQUFGD8+PFwd3dXvSZPnixJfl2oaWuB9vVqAODoLBEREZG2DGae2cpiKPPMPmvjqXhM23YJfu522DW5s9RxiIiIiCRVbeaZrSqCm7jBRCYgOiEdtx4+kToOERERkdFgMWsAnKzN0bG+MwC2GhARERFpg8WsgeADFIiIiIi0x2LWQAT7ucHMRMD1pCe4npQhdRwiIiIio8Bi1kDYW5mhS4OaAICICxydJSIiItIEi1kDEhL4tNXgUgKq2SQTREREROXCYtaABPm6wtxUhlsPM3E1ga0GRERERC/CYtaA2MrN0K3h01YD3ghGRERE9EIsZg1MSKAHgMIputhqQERERFQ2FrMGpmdjF8jNZIhPycKle2lSxyEiIiIyaCxmDYy1hSl6NnYFAOzkAxSIiIiIysRi1gD1Uz1Aga0GRERERGVhMWuAujdygZW5Ce6lZuP83VSp4xAREREZLBazBsjS3ARBvoWtBhEX2GpAREREVBoWswYq5Gmrwa5LCVAq2WpAREREVJJyFbP5+fm4e/curl27hpSUFF1nIgBdGtaErYUpEtNzcDb+sdRxiIiIiAySxsVsRkYGli9fjq5du8LOzg7e3t7w9fVFzZo14eXlhXHjxuH06dP6zFqtyM1M0MuvqNWAD1AgIiIiKolGxew333wDb29vrF69GkFBQdixYweioqJw/fp1REZGYubMmSgoKMBLL72E3r1748aNG/rOXS2EBD5tNbicCAVbDYiIiIiKMdVko9OnT+PIkSNo0qRJievbtGmDMWPGYMWKFVi9ejWOHj2KBg0a6DRoddSpfk3YW5rhYUYuTsY9Qod6zlJHIiIiIjIoGhWzGzdu1OhgFhYWeOeddyoUiP5lbipDcBNX/HLmH0RcTGAxS0RERPScCs9mkJ6ejh07duDq1au6yEPPCQnwAADsuZyIAoVS4jREREREhkXrYnbw4MFYsmQJACA7OxutWrXC4MGDERAQgK1bt+o8YHXXoV4NOFqZISUzD5G3Hkkdh4iIiMigaF3MHjlyBJ07dwYAbN++HaIoIjU1FYsWLcIXX3yh84DVnamJDL39nz7elg9QICIiIlKjdTGblpYGJycnAMCePXvw6quvwsrKCv369eMsBnoS+vQBCnuuJCKvgK0GREREREW0LmY9PT0RGRmJzMxM7NmzBy+99BIA4PHjx5DL5ToPSEDbujXgbGOBtOx8HL+ZLHUcIiIiIoOhdTE7ZcoUDB8+HLVr14a7uzu6desGoLD9oGnTprrORwBMZAL6NnUDAPxxkQ9QICIiIiqidTH73nvvITIyEj/++COOHz8OmazwEHXr1mXPrB4VzWqw70oScgsUEqchIiIiMgzlmpqrVatW6NevH+7du4eCggIAQL9+/dCxY0edhqN/tfJyhKudBTJyC3DkOlsNiIiIiIByFLNZWVl48803YWVlhSZNmiA+Ph4AMHHiRMydO1fnAamQTCagb9Onsxqw1YCIiIgIQDmK2WnTpuHChQs4dOiQ2g1fQUFB2Lx5s07DkbqiVoO/opOQk89WAyIiIiKti9kdO3ZgyZIl6NSpEwRBUC1v0qQJYmNjdRqO1LWo44BaDpbIzFPgYMwDqeMQERERSU7rYvbhw4dwcXEptjwzM1OtuCXdEwQB/Z7OORtxiQ9QICIiItK6mG3VqhV27typel9UwP7vf/9D+/btdZeMStTvad/sgasPkJVXIHEaIiIiImmZarvDnDlz0KdPH0RHR6OgoADfffcdoqOjceLECRw+fFgfGekZAbXtUcfJCvEpWdh/9QFCAz2kjkREREQkGa1HZjt16oQLFy6goKAATZs2xZ9//gkXFxdERkaiZcuW+shIz1BrNeCsBkRERFTNaTUym5+fj7fffhvTp0/HqlWr9JWJXiAkwB3LD8Xi4LWHyMjJh63cTOpIRERERJLQamTWzMwMW7du1VcW0pCfux3qOlsjr0CJ/Vc5qwERERFVX1q3GQwYMAA7duzQQxTSFFsNiIiIiAppfQNYgwYN8Nlnn+H48eNo2bIlrK2t1dZPmjRJZ+GodCEBHlh84CYOX3+ItOx82Fuy1YCIiIiqH0EURVGbHXx8fEo/mCDg1q1bFQ6lT+np6bC3t0daWhrs7OykjlMhvb45jBsPnmD+wAAMauUpdRwiIiIindCmXtN6ZDYuLq7cwUi3QgI88O1f1xFxMYHFLBEREVVLWvfMkuEICSzsmz1+MxmPM/MkTkNERERU+bQemQWAf/75B7///jvi4+ORl6deRH3zzTc6CUYvVq+mDXzd7XA1IR17ryTitTZ1pI5EREREVKm0Lmb379+P/v37o27duoiJiYG/vz9u374NURTRokULfWSkMoQEuONqQjoiLiawmCUiIqJqR+s2g2nTpuHDDz/EpUuXIJfLsXXrVty9exddu3bFoEGD9JGRyhDydIquE7HJSH6SK3EaIiIiosqldTF79epVjBgxAgBgamqK7Oxs2NjY4LPPPsO8efO0OtaRI0cQGhoKDw8PCIKg0fy1hw4dQosWLWBhYYH69etjzZo12n6EKsWrhjWa1rKHUgR2X06UOg4RERFRpdK6mLW2tlb1ybq7uyM2Nla1Ljk5WatjZWZmIjAwEEuXLtVo+7i4OPTr1w/du3dHVFQUpkyZgrFjx2Lv3r1anbeqKRqdjbjABygQERFR9aJ1z2y7du1w7Ngx+Pr6om/fvvjggw9w6dIlbNu2De3atdPqWH369EGfPn003n7FihXw8fHBggULAAC+vr44duwYvv32WwQHB2t17qqkX4A7wnfH4NTtFDxIz4GLnVzqSERERESVQuuR2W+++QZt27YFAMyePRs9e/bE5s2b4e3tjR9++EHnAZ8VGRmJoKAgtWXBwcGIjIwsdZ/c3Fykp6ervaqa2o5WaObpAFEEdl1KkDoOERERUaXRemS2bt26qp+tra2xYsUKnQYqS2JiIlxdXdWWubq6Ij09HdnZ2bC0tCy2T3h4OGbPnl1ZESUTEuCOqLupiLiYgFEdS39KGxEREVFVUuUfmjBt2jSkpaWpXnfv3pU6kl70e9o3e+bOY9xPzZY4DREREVHl0LqYlclkMDExKfWlT25ubkhKSlJblpSUBDs7uxJHZQHAwsICdnZ2aq+qyN3eEq29HQGw1YCIiIiqD63bDLZv3672Pj8/H+fPn8fatWv1/nV++/btsWvXLrVl+/btQ/v27fV6XmMREuCB07cfI+JiAsZ2rvviHYiIiIiMnNbF7Msvv1xs2cCBA9GkSRNs3rwZb775psbHevLkCW7evKl6HxcXh6ioKDg5OaFOnTqYNm0a7t27h59++gkA8M4772DJkiX4z3/+gzFjxuDAgQP45ZdfsHPnTm0/RpXUx98Ns/64gqi7qbibkgVPJyupIxERERHplc56Ztu1a4f9+/drtc+ZM2fQvHlzNG/eHAAQFhaG5s2bY8aMGQCAhIQExMfHq7b38fHBzp07sW/fPgQGBmLBggX43//+V62n5XqWi50cbX2cAAA72WpARERE1YAgiqJY0YNkZ2dj2rRp2L17N65du6aLXHqTnp4Oe3t7pKWlVcn+2Z//voNPd1yGfy07REzsLHUcIiIiIq1pU69p3Wbg6OgIQRBU70VRREZGBqysrPDzzz9rn5Z0qo+/G2b+fgWX76XjdnImvJ2tpY5EREREpDdaF7PffvutWjErk8lQs2ZNtG3bFo6OjjoNR9qrYWOBDvVq4OiNZOy8lIDx3etLHYmIiIhIb7QuZkeNGqWHGKRL/Zq64+iNZPxx4T6LWSIiIqrStC5mL168qPG2AQEB2h6edKC3vxs+3XEZMYkZuPngCeq72EgdiYiIiEgvtC5mmzVrptZmUBJRFCEIAhQKRbmDUfk5WJmjUwNnHLr2EBEX72NKUEOpIxERERHphdZTc23btg0+Pj5YtmwZzp8/j/Pnz2PZsmWoV68etm7dilu3biEuLg63bt3SR17SUEiABwAg4mICdDBhBREREZFB0npkds6cOVi0aBH69u2rWhYQEABPT09Mnz4dZ8+e1WlAKp+XmrjCfJsMNx88wfWkJ2jkZit1JCIiIiKd03pk9tKlS/Dx8Sm23MfHB9HR0ToJRRVnJzdDl4Y1AQARF+9LnIaIiIhIP7QuZn19fREeHo68vDzVsry8PISHh8PX11en4ahiQgLcAbDVgIiIiKourdsMVqxYgdDQUNSuXVs1W8HFixchCAL++OMPnQek8gvyc4WFqQxxyZm4cj8d/rXspY5EREREpFNaF7Nt2rTBrVu3sH79esTExAAAhgwZgmHDhsHamk+bMiQ2Fqbo3sgFe64kIuJiAotZIiIiqnK0LmYBwNraGm+99Zaus5AehAS6Py1m7+O/vRu9cFo1IiIiImOicc/s9evXcerUKbVl+/fvR/fu3dGmTRvMmTNH5+Go4no0doGlmQn+eZyNi/+kSR2HiIiISKc0Lmb/+9//IiIiQvU+Li4OoaGhMDc3R/v27REeHo6FCxfqIyNVgJW5KXr4ugDgrAZERERU9WhczJ45cwZ9+vRRvV+/fj0aNmyIvXv34rvvvsPChQuxZs0afWSkCgp9OqvBzosJUCo5qwERERFVHRoXs8nJyahdu7bq/cGDBxEaGqp6361bN9y+fVun4Ug3ujVygbW5Ce6n5eD83cdSxyEiIiLSGY2LWScnJyQkJAAAlEolzpw5g3bt2qnW5+XlcS5TAyU3M0EvP1cAwB8XEiROQ0RERKQ7Ghez3bp1w+eff467d+9i4cKFUCqV6Natm2p9dHQ0vL299RCRdCEkwAMAsOsSWw2IiIio6tB4aq4vv/wSvXr1gpeXF0xMTLBo0SK1eWXXrVuHHj166CUkVVznhs6wlZviQUYuTt9OQdu6NaSORERERFRhGhez3t7euHr1Kq5cuYKaNWvCw8NDbf3s2bPVemrJsFiYmuAlPzdsPfcPIi4msJglIiKiKkHjNgMAMDU1RWBgYLFCFgACAwNRowYLJEMWElg4q8HuywkoUCglTkNERERUcVoVs2TcOtV3hoOVGZKf5OFkXIrUcYiIiIgqjMVsNWJmIkPvJm4AgIiLnNWAiIiIjB+L2WqmaFaDPZcTkM9WAyIiIjJyGhWzr7zyCtLT0wEAP/30E3Jzc/UaivSnXV0n1LA2x+OsfJyIfSR1HCIiIqIK0aiYjYiIQGZmJgBg9OjRSEtL02so0h9TExl6+z9tNbhwX+I0RERERBWj0dRcjRs3xrRp09C9e3eIoohffvkFdnZ2JW47YsQInQYk3QsJ8MD6k/HYeyURX/5fU5ibstuEiIiIjJMgavAM2hMnTiAsLAyxsbFISUmBra0tBEEofjBBQEqKYd8ln56eDnt7e6SlpZVakFd1CqWIduH78TAjFz+OaoUejV2ljkRERESkok29ptGQXIcOHfD333/j4cOHEEUR169fx+PHj4u9DL2QpUImMgH9mhbOORtxgbMaEBERkfHS+vvluLg41KxZUx9ZqBL1CygsZv+MTkJOvkLiNERERETlo/HjbIt4eXkhNTUVP/zwA65evQoA8PPzw5tvvgl7e3udByT9aFnHEW52ciSm5+Dw9YcIfjr/LBEREZEx0Xpk9syZM6hXrx6+/fZbpKSkICUlBd9++y3q1auHc+fO6SMj6YFMJqhGZ/kABSIiIjJWWhez77//Pvr374/bt29j27Zt2LZtG+Li4hASEoIpU6boISLpS8jTYnb/1SRk57HVgIiIiIxPuUZm//vf/8LU9N8OBVNTU/znP//BmTNndBqO9KuZpwNqOVgiK0+Bg9ceSB2HiIiISGtaF7N2dnaIj48vtvzu3buwtbXVSSiqHIIgqEZnIy7yAQpERERkfLQuZocMGYI333wTmzdvxt27d3H37l1s2rQJY8eOxdChQ/WRkfQoJMADAHAg5gEycwskTkNERESkHa1nM/j6668hCAJGjBiBgoLC4sfMzAzvvvsu5s6dq/OApF/+tezgVcMKdx5l4a+rSXi5WS2pIxERERFpTOuRWXNzc3z33Xd4/PgxoqKiEBUVpZrRwMLCQh8ZSY/UWw04qwEREREZF62L2SJWVlZo2rQpmjZtCisrK11mokpW1Gpw+NpDZOTkS5yGiIiISHPlLmap6mjsZou6Na2Rp1BiX3SS1HGIiIiINMZilp62GhSOzrLVgIiIiIwJi1kCAIQ+7Zs9euMh0rLYakBERETGgcUsAQAauNqikast8hUi9l5JlDoOERERkUa0npoLAO7fv49jx47hwYMHUCqVausmTZqkk2BU+UIC3HFtXwYiLiVgcGtPqeMQERERvZDWxeyaNWvw9ttvw9zcHDVq1IAgCKp1giBoXcwuXboU8+fPR2JiIgIDA7F48WK0adOm1O0XLlyI5cuXIz4+Hs7Ozhg4cCDCw8Mhl8u1/Sj0nH4B7liw7zqO30xGSmYenKzNpY5EREREVCat2wymT5+OGTNmIC0tDbdv30ZcXJzqdevWLa2OtXnzZoSFhWHmzJk4d+4cAgMDERwcjAcPHpS4/YYNGzB16lTMnDkTV69exQ8//IDNmzfj448/1vZjUAnq1rSBn7sdFEoRey6z1YCIiIgMn9bFbFZWFl577TXIZBVvt/3mm28wbtw4jB49Gn5+flixYgWsrKzw448/lrj9iRMn0LFjRwwbNgze3t546aWXMHToUJw6darCWahQSGDRAxTuS5yEiIiI6MW0rkjffPNN/PrrrxU+cV5eHs6ePYugoKB/w8hkCAoKQmRkZIn7dOjQAWfPnlUVr7du3cKuXbvQt2/fUs+Tm5uL9PR0tReVLqRp4RRdf996hIcZuRKnISIiIiqb1j2z4eHhCAkJwZ49e9C0aVOYmZmprf/mm280Ok5ycjIUCgVcXV3Vlru6uiImJqbEfYYNG4bk5GR06tQJoiiioKAA77zzTpltBuHh4Zg9e7ZGmQioU8MKgbXtceGfNOy+nIAR7b2ljkRERERUKq1HZsPDw7F3714kJSXh0qVLOH/+vOoVFRWlh4j/OnToEObMmYNly5bh3Llz2LZtG3bu3InPP/+81H2mTZuGtLQ01evu3bt6zVgV8AEKREREZCy0HpldsGABfvzxR4waNapCJ3Z2doaJiQmSktQfn5qUlAQ3N7cS95k+fTreeOMNjB07FgDQtGlTZGZm4q233sInn3xSYh+vhYUFLCwsKpS1uukb4I4vd13F6dspSErPgasdZ4ogIiIiw6T1yKyFhQU6duxY4RObm5ujZcuW2L9/v2qZUqnE/v370b59+xL3ycrKKlawmpiYAABEUaxwJipUy8ESLeo4QBSBnRydJSIiIgOmdTE7efJkLF68WCcnDwsLw6pVq7B27VpcvXoV7777LjIzMzF69GgAwIgRIzBt2jTV9qGhoVi+fDk2bdqEuLg47Nu3D9OnT0doaKiqqCXd+LfVgLMaEBERkeHSus3g1KlTOHDgACIiItCkSZNiN4Bt27ZN42MNGTIEDx8+xIwZM5CYmIhmzZphz549qpvC4uPj1UZiP/30UwiCgE8//RT37t1DzZo1ERoaii+//FLbj0Ev0C/AHZ/vjMa5+FTcS81GLQdLqSMRERERFSOIWn4/XzRqWprVq1dXKJC+paenw97eHmlpabCzs5M6jkEb/H0kTsWl4JO+vhjXpa7UcYiIiKia0KZe03pk1tCLVdKdkAB3nIpLQcTF+yxmiYiIyCBV/DFeVGX18XeHTAAu/JOG+EdZUschIiIiKkbrkVkfHx8IglDq+lu3blUoEBmOmrYWaFe3Bk7EPkLEpft4r1t9qSMRERERqdG6mJ0yZYra+/z8fJw/fx579uzBRx99pKtcZCBCAjwKi9kLCSxmiYiIyOBoXcxOnjy5xOVLly7FmTNnKhyIDEtvfzdM/+0yohPScevhE9StaSN1JCIiIiIVnfXM9unTB1u3btXV4chAOFmbo0O9GgD4AAUiIiIyPDorZrds2QInJyddHY4MSKjqAQosZomIiMiwaN1m0Lx5c7UbwERRRGJiIh4+fIhly5bpNBwZhuAmbvhkxyVcS8rAjaQMNHC1lToSEREREYByFLMDBgxQey+TyVCzZk1069YNjRs31lUuMiD2Vmbo3KAmDsQ8wB8XExDWi8UsERERGQati9mZM2fqIwcZuJAAdxyIeYCdF+/j/aAGZU7PRkRERFRZNC5mCwoKoFAoYGFhoVqWlJSEFStWIDMzE/3790enTp30EpKk18vPFeamMsQ+zERMYgZ83fkoYCIiIpKexjeAjRs3DpMmTVK9z8jIQOvWrbF06VLs3bsX3bt3x65du/QSkqRnKzdD14Y1AQARF+9LnIaIiIiokMbF7PHjx/Hqq6+q3v/0009QKBS4ceMGLly4gLCwMMyfP18vIckwhAS4Ayic1UAURYnTEBEREWlRzN67dw8NGjRQvd+/fz9effVV2NvbAwBGjhyJK1eu6D4hGYwgX1fIzWS48ygLl++lSx2HiIiISPNiVi6XIzs7W/X+77//Rtu2bdXWP3nyRLfpyKBYW5iiR2MXAGw1ICIiIsOgcTHbrFkzrFu3DgBw9OhRJCUloUePHqr1sbGx8PDw0H1CMighzzxAga0GREREJDWNZzOYMWMG+vTpg19++QUJCQkYNWoU3N3dVeu3b9+Ojh076iUkGY7ujVxgZW6Ce6nZiLqbiuZ1HKWORERERNWYxsVs165dcfbsWfz5559wc3PDoEGD1NY3a9YMbdq00XlAMiyW5ibo6euKPy7cR8TFBBazREREJClBrGbfFaenp8Pe3h5paWmws+NcqeWx90oi3l53Fm52cpyY2gMyGR+gQERERLqjTb2mcc8sUZGuDWvC1sIUiek5OBv/WOo4REREVI2xmCWtyc1M0MvPFQCw82KCxGmIiIioOmMxS+XS7+kDFHZeSoBCWa06VYiIiMiAaFXMKhQKHDlyBKmpqXqKQ8aic4OasJOb4mFGLk7FpUgdh4iIiKoprYpZExMTvPTSS3j8mH2S1Z25qQzBTdwA8AEKREREJB2t2wz8/f1x69YtfWQhIxMSWPgAhT2XE1GgUEqchoiIiKojrYvZL774Ah9++CEiIiKQkJCA9PR0tRdVHx3q1YCjlRkeZebh71tsNSAiIqLKp/FDE4r07dsXANC/f38Iwr/zi4qiCEEQoFAodJeODJqZiQy9/d2x8VQ8Ii7eR6cGzlJHIiIiompG62L24MGD+shBRiokoLCY3XMlEZ8P8IeZCSfIICIiosqjdTHbtWtXfeQgI9XWxwnONuZIfpKHYzeT0b2Ri9SRiIiIqBop1zDa0aNH8frrr6NDhw64d+8eAGDdunU4duyYTsOR4TM1kaGPf+GcsxEX+AAFIiIiqlxaF7Nbt25FcHAwLC0tce7cOeTm5gIA0tLSMGfOHJ0HJMMX8vQBCn9GJyK3gD3TREREVHnKNZvBihUrsGrVKpiZmamWd+zYEefOndNpODIOrb2d4GJrgYycAhy9nix1HCIiIqpGtC5mr127hi5duhRbbm9vzyeDVVMymYC+TZ+2GvABCkRERFSJtC5m3dzccPPmzWLLjx07hrp16+okFBmf0MDCYnZfdBJy8tlqQERERJVD62J23LhxmDx5Mk6ePAlBEHD//n2sX78eH374Id599119ZCQj0NzTER72cmTmKXDo2gOp4xAREVE1ofXUXFOnToVSqUTPnj2RlZWFLl26wMLCAh9++CEmTpyoj4xkBGQyAf0C3LHqaBz+uJiA3k9nOCAiIiLSJ0EURbE8O+bl5eHmzZt48uQJ/Pz8YGNjo+tsepGeng57e3ukpaXBzs5O6jhVyoW7qXh56XFYmpng7PQgWJlr/bsSERERkVb1mtZtBmPGjEFGRgbMzc3h5+eHNm3awMbGBpmZmRgzZky5Q5PxC6htD08nS2TnK3Aghq0GREREpH9aF7Nr165FdnZ2seXZ2dn46aefdBKKjJMgCOjX1AMAH6BARERElUPjYjY9PR1paWkQRREZGRlIT09XvR4/foxdu3bBxYWPMq3uih6gcPDaAzzJLZA4DREREVV1Gjc1Ojg4QBAECIKAhg0bFlsvCAJmz56t03BkfJp42MHH2RpxyZn4KzoJA5rXkjoSERERVWEaF7MHDx6EKIro0aMHtm7dCicnJ9U6c3NzeHl5wcPDQy8hyXgIgoCQAHcsPnATERcTWMwSERGRXmlczHbt2hUAEBcXhzp16kAQBL2FIuPW72kxe+T6Q6Rl58Pe0uzFOxERERGVg9Y3gF29ehXHjx9XvV+6dCmaNWuGYcOG4fHjxzoNR8apkast6rvYIE+hxL7oJKnjEBERURWmdTH70UcfIT09HQBw6dIlhIWFoW/fvoiLi0NYWJjOA5LxKWo1AICIi/clTkNERERVmdbFbFxcHPz8/AAAW7duRWhoKObMmYOlS5di9+7dWgdYunQpvL29IZfL0bZtW5w6darM7VNTUzF+/Hi4u7vDwsICDRs2xK5du7Q+L+lXSEBh//SxG8l4nJkncRoiIiKqqrQuZs3NzZGVlQUA+Ouvv/DSSy8BAJycnFQjtpravHkzwsLCMHPmTJw7dw6BgYEIDg7GgwclT7ifl5eHXr164fbt29iyZQuuXbuGVatWoVYt3mRkaOq72KCxmy0KlCL+jE6UOg4RERFVUVo/b7RTp04ICwtDx44dcerUKWzevBkAcP36ddSuXVurY33zzTcYN24cRo8eDQBYsWIFdu7ciR9//BFTp04ttv2PP/6IlJQUnDhxAmZmhTcVeXt7a/sRqJKEBnogJvEaIi4mYEjrOlLHISIioipI65HZJUuWwNTUFFu2bMHy5ctVo6K7d+9G7969NT5OXl4ezp49i6CgoH/DyGQICgpCZGRkifv8/vvvaN++PcaPHw9XV1f4+/tjzpw5UCgUpZ4nNzdX7QEP2o4eU/n1a1rYN3si9hEePcmVOA0RERFVRVqPzNapUwcRERHFln/77bdaHSc5ORkKhQKurq5qy11dXRETE1PiPrdu3cKBAwcwfPhw7Nq1Czdv3sR7772H/Px8zJw5s8R9wsPD+TAHiXg7W8O/lh0u30vH7suJeL2dl9SRiIiIqIrRupiNj48vc32dOvr7OlmpVMLFxQUrV66EiYkJWrZsiXv37mH+/PmlFrPTpk1Tm2UhPT0dnp6eestI6kICPHD5XjoiLt5nMUtEREQ6p3Ux6+3tXeYDE8r6yv9Zzs7OMDExQVKS+jykSUlJcHNzK3Efd3d3mJmZwcTERLXM19cXiYmJyMvLg7m5ebF9LCwsYGFhoVEm0r1+Td0xd3cMTsal4EFGDlxs5VJHIiIioipE657Z8+fP49y5c6rXyZMnsWLFCjRs2BC//vqrxscxNzdHy5YtsX//ftUypVKJ/fv3o3379iXu07FjR9y8eRNKpVK17Pr163B3dy+xkCXpeTpZoZmnA0QR2H2JsxoQERGRbmk9MhsYGFhsWatWreDh4YH58+fjlVde0fhYYWFhGDlyJFq1aoU2bdpg4cKFyMzMVM1uMGLECNSqVQvh4eEAgHfffRdLlizB5MmTMXHiRNy4cQNz5szBpEmTtP0YVIlCAtwRdTcVERfvY2QHb6njEBERURWidTFbmkaNGuH06dNa7TNkyBA8fPgQM2bMQGJiIpo1a4Y9e/aobgqLj4+HTPbv4LGnpyf27t2L999/HwEBAahVqxYmT56M//73v7r6GKQHfZu644udV3H69mMkpGXD3d5S6khERERURQiiKIra7PD81FaiKCIhIQGzZs1CTEwMoqKidJlP59LT02Fvb4+0tDTY2dlJHafaGLj8BM7ceYxP+/libOe6UschIiIiA6ZNvab1yKyDg0OxG8BEUYSnpyc2bdqk7eGomggJcMeZO48RcTGBxSwRERHpjNbF7MGDB9Xey2Qy1KxZE/Xr14epqc66FqiK6dvUHbMjohF1NxV3U7Lg6WQldSQiIiKqArSuPrt27aqPHFTFudjJ0cbbCSfjUrDrUgLe7lpP6khERERUBWhUzP7+++8aH7B///7lDkNVW0igB07GpSDiIotZIiIi0g2NitkBAwZodDBBEDR+aAJVP3383TDzt8u4dC8Nt5Mz4e1sLXUkIiIiMnIaPTRBqVRq9GIhS2VxtrFAh3rOAICdlxIkTkNERERVgdZPACOqiJAAdwBAxEUWs0RERFRxGhezBw4cgJ+fX7F5ZgEgLS0NTZo0wZEjR3Qajqqe4CZuMJUJuJqQjtiHT6SOQ0REREZO42J24cKFGDduXIkT19rb2+Ptt9/Gt99+q9NwVPU4WpujY/3CVoPlB2PxW9Q9RMY+gkKp1bM7iIiIiABoUcxeuHABvXv3LnX9Sy+9hLNnz+okFFVtXjUK55jdcu4fTN4UhaGr/kaneQew5zJbD4iIiEg7GhezSUlJMDMzK3W9qakpHj58qJNQVHXtuZyAdZF3ii1PTMvBuz+fY0FLREREWtG4mK1VqxYuX75c6vqLFy/C3d1dJ6GoalIoRcz+IxolNRQULZv9RzRbDoiIiEhjGhezffv2xfTp05GTk1NsXXZ2NmbOnImQkBCdhqOq5VRcChLSiv/9KSICSEjLwam4lMoLRUREREZN48fZfvrpp9i2bRsaNmyICRMmoFGjRgCAmJgYLF26FAqFAp988onegpLxe5BReiFbnu2IiIiINC5mXV1dceLECbz77ruYNm0aRLHwq2BBEBAcHIylS5fC1dVVb0HJ+LnYynW6HREREZHGxSwAeHl5YdeuXXj8+DFu3rwJURTRoEEDODo66isfVSFtfJzgbi9HYlpOiX2zAOBuL0cbH6dKzUVERETGq1xPAHN0dETr1q0RGxsLc3NzXWeiKspEJmBmqB8AQChlm6l9GsNEVtpaIiIiInUVepzt22+/jaSkJF1loWqgt787lr/eAm726q0ERfXr0RvJEqQiIiIiY6VVm8HzivpmibTR298dvfzccCouBQ8ycuBiK4dSKeKNH09iy9l/0NbHCYNaeUodk4iIiIxAhYpZovIykQloX6+G2rL3gxpiwb7rmP7bZQTUdkAjN1uJ0hEREZGxqFCbwe7du+Hh4aGrLFTNje9eH50bOCMnX4n31p9FZm6B1JGIiIjIwFWomO3UqRPkck6jRLohkwlYOKQZXO0sEPswE5/uuMxWFiIiIiqT1sVsUlIS3njjDXh4eMDU1BQmJiZqL6KKqGFjgcVDW8BEJmD7+XvYfPqu1JGIiIjIgGndMztq1CjEx8dj+vTpcHd3hyBwGiXSrTY+TvjgpYb4as81zPz9CgI9HeDrbid1LCIiIjJAgqjl97i2trY4evQomjVrpqdI+pWeng57e3ukpaXBzo4FkqFSKkW8ufY0Dl57CB9na/w+oSNs5WZSxyIiIqJKoE29pnWbgaenJ/sYSe9kMgELBjeDu70cccmZmLbtEv/eERERUTFaF7MLFy7E1KlTcfv2bT3EIfqXk7U5lgxrDlOZgIiLCfj5ZLzUkYiIiMjAaN1m4OjoiKysLBQUFMDKygpmZupf/aakpOg0oK6xzcD4rDwSizm7YmBuIsO29zrAv5a91JGIiIhIj7Sp17S+AWzhwoXlzUVULuM618WpuBT8dfUB3lt/DhGTOsGO/bNERESEcozMGjuOzBqn1Kw89Ft0DPdSs9HH3w3LhrfgTBpERERVlM5vAEtPT1f7uawXkT44WBX2z5qZCNh9ORFrT9yWOhIREREZAI2KWUdHRzx48AAA4ODgAEdHx2KvouVE+tK8jiOm9vEFAHy56you3E2VNhARERFJTqOe2QMHDsDJyQkAcPDgQb0GIirLmI7eOBX3CHuvJGH8hnPYObEz7K3YP0tERFRdsWeWjE5adj5CFh/F3ZRs9PJzxco3WrJ/loiIqArR62wGAJCamopTp07hwYMHUCqVautGjBhRnkMSacze0gzLhrXEq8tPYF90En44FoexnetKHYuIiIgkoPXI7B9//IHhw4fjyZMnsLOzUxsREwSB88xSpfkp8jZm/HYFpjIBv7zTHi3qsGebiIioKtDr42w/+OADjBkzBk+ePEFqaioeP36sehl6IUtVyxvtvNCvqTsKlCImbjiP1Kw8qSMRERFRJdO6mL137x4mTZoEKysrfeQh0pggCJj7alN417DCvdRsfPDLBSiV1aoFnIiIqNrTupgNDg7GmTNn9JGFSGu2cjMsHd4C5qYy7I95gFVHb0kdiYiIiCqRRjeA/f7776qf+/Xrh48++gjR0dFo2rQpzMzUp0Xq37+/bhMSvUATD3vMDPXDJ9sv46u919DSyxGtvJ2kjkVERESVQKMbwGQyzQZwBUGAQqGocCh94g1gVZMoipi8KQq/X7gPNzs5dk7qhBo2FlLHIiIionLQ+Q1gSqVSo5ehF7JUdQmCgDmvNEVdZ2skpufgffbPEhERVQta98z+9NNPyM3NLbY8Ly8PP/30k05CEZWHjYUplg5vAQtTGY5cf4jlh2OljkRERER6pnUxO3r0aKSlpRVbnpGRgdGjR+skFFF5+brb4bOXmwAAFvx5DX/feiRxIiIiItInrYtZURRLfHToP//8A3t7e52EIqqIwa088UrzWlCKwKSN5/Ewo/g3CURERFQ1aFzMNm/eHC1atIAgCOjZsydatGihegUGBqJz584ICgoqV4ilS5fC29sbcrkcbdu2xalTpzTab9OmTRAEAQMGDCjXealqEgQBX/yfP+q72OBBRi7e3xwFBftniYiIqiSNpuYCoCoYo6KiEBwcDBsbG9U6c3NzeHt749VXX9U6wObNmxEWFoYVK1agbdu2WLhwIYKDg3Ht2jW4uLiUut/t27fx4YcfonPnzlqfk6o+K3NTLBveAi8vOY5jN5Ox5MBNTA5qIHUsIiIi0jGNpuZ61tq1azFkyBDI5XKdBGjbti1at26NJUuWACicOcHT0xMTJ07E1KlTS9xHoVCgS5cuGDNmDI4ePYrU1FTs2LFDo/Nxaq7qZcvZf/DhrxcgCMD6N9uiQ31nqSMRERHRC+h8aq5njRw5UmeFbF5eHs6ePavWniCTyRAUFITIyMhS9/vss8/g4uKCN99884XnyM3NRXp6utqLqo+BLWtjUMvaEEVg0qYoPMjIkToSERER6ZBGxayTkxOSk5MBAI6OjnBycir1pY3k5GQoFAq4urqqLXd1dUViYmKJ+xw7dgw//PADVq1apdE5wsPDYW9vr3p5enpqlZGM32cv+6ORqy2Sn+Ri8kb2zxIREVUlGvXMfvvtt7C1tVX9XNJsBpUhIyMDb7zxBlatWgVnZ82+Lp42bRrCwsJU79PT01nQVjOW5iZYOrwF+i85hshbj/DdX9cR9lIjqWMRERGRDmhUzI4cOVL1oIRRo0bp7OTOzs4wMTFBUlKS2vKkpCS4ubkV2z42Nha3b99GaGioaplSqQQAmJqa4tq1a6hXr57aPhYWFrCw4GNNq7v6LjYIf6UpJm+KwuKDN9HK2wldGtaUOhYRERFVkMY9s/b29ujevTs+++wzHDt2DPn5+RU+ubm5OVq2bIn9+/erlimVSuzfvx/t27cvtn3jxo1x6dIlREVFqV79+/dH9+7dERUVxRFXKtPLzWphaJs6EEXg/c1RSEpn/ywREZGx07iYXbFiBby8vPDjjz+iS5cucHBwQK9evRAeHo6///4bCoWiXAHCwsKwatUqrF27FlevXsW7776LzMxM1dPERowYgWnTpgEA5HI5/P391V4ODg6wtbWFv78/zM3Ny5WBqo+ZoX7wdbfDo8w8TNxwHgUKpdSRiIiIqAI0LmZHjRqFNWvW4Pbt27h58yYWL14MDw8PrFixAh07doSjoyP69eundYAhQ4bg66+/xowZM9CsWTNERUVhz549qpvC4uPjkZCQoPVxiUoiNzPBsuEtYGNhilO3U/DNvutSRyIiIqIK0Hqe2efFxcXhhx9+wOLFi/HkyZNyj9BWFs4zSwAQcfE+Jmw4DwBYPbo1ujcq/QEdREREVLn0Os9sfHw81q5di9GjR8PHxwcBAQE4efIkPvzwQxw8eLDcoYkqU0iAB95o5wUACNschfup2RInIiIiovLQ+HG2Y8aMwaFDh5CSkoKOHTuic+fOeOutt9C6dWuYmmp8GCKD8WmIL87ffYzL99IxceN5bHqrHcxMtP79joiIiCSkcZuBTCZDnTp1MH78ePTs2RPNmzeXbL7ZimCbAT3rzqNMhCw6hozcArzVpS4+7usrdSQiIqJqTy9tBlevXsXUqVNx9uxZ9O3bF05OTggNDcXXX3+NM2fOqOZ7JTImXjWs8dXAAADAyiO38Fd00gv2ICIiIkNS7hvAoqOjcfjwYRw8eBBHjhxBTk4OOnXqhIiICF1n1CmOzFJJZv1+BWtO3Ia9pRl2TuqE2o5WUkciIiKqtvR6A1gRPz8/vPLKK3jllVfw8ssvQxRF7N69u7yHI5LUx319EVjbHmnZ+Ri/4TzyCvhNAxERkTHQqph98OABfvnlF7z77rvw9fWFh4cHRo8ejZiYGLz//vs4cOCAvnIS6ZW5qQxLhrWAndwUF+6mYu7uGKkjERERkQY0nobA19cX169fh6mpKVq3bo2BAweiW7du6NixI+RyuT4zElUKTycrfD0oEG+tO4sfj8ehjY8Tevu7SR2LiIiIyqBxMTtgwAB0794dnTp1gpUV+wmpanqpiRvGdvLB/47F4aMtF+Dnboc6Nfj3nYiIyFBV+AlgxoY3gNGL5CuUGPJ9JM7Fp6JpLXtsebc9LExNpI5FRERUbej8BrC5c+ciO1uzJySdPHkSO3fu1GhbIkNkZlLYP+tgZYZL99IwZ+dVqSMRERFRKTQqZqOjo1GnTh2899572L17Nx4+fKhaV1BQgIsXL2LZsmXo0KEDhgwZAltbW70FJqoMHg6W+HZwMwDA2sg72HkxQdpAREREVCKNitmffvoJf/31F/Lz8zFs2DC4ubnB3Nwctra2sLCwQPPmzfHjjz9ixIgRiImJQZcuXfSdm0jvujd2wTtd6wEA/rv1Im4nZ0qciIiIiJ6ndc+sUqnExYsXcefOHWRnZ8PZ2RnNmjWDs7OzvjLqFHtmSRsFCiWGrvobp28/hp+7Hba91wFyM/bPEhER6ZM29RpvACN6gcS0HPRddBQpmXkY3rYOvvy/plJHIiIiqtIq5QlgRNWFm70c3w5pBkEA1p+Mx29R96SORERERE+xmCXSQNeGNTG+W30AwMfbLiH24ROJExERERHAYpZIY1OCGqCtjxMy8xQYv/4ccvIVUkciIiKq9ljMEmnI1ESGxUObw9nGHDGJGZj52xWpIxEREVV7FS5m79y5g+joaCiVSl3kITJoLnZyfPdacwgCsPnMXWw794/UkYiIiKo1jYvZH3/8Ed98843asrfeegt169ZF06ZN4e/vj7t37+o8IJGh6VjfGZN6NAAAfLL9Mm4kZUiciIiIqPrSuJhduXIlHB0dVe/37NmD1atX46effsLp06fh4OCA2bNn6yUkkaGZ1LMBOtavgex8Bd5bfw5ZeQVSRyIiIqqWNC5mb9y4gVatWqne//bbb3j55ZcxfPhwtGjRAnPmzMH+/fv1EpLI0JjIBCwc0hw1bS1w48ETTN/B/lkiIiIpaFzMZmdnq01ae+LECbXH1tatWxeJiYm6TUdkwGraWmDRa80hE4Ct5/7BL2fYZkNERFTZNC5mvby8cPbsWQBAcnIyrly5go4dO6rWJyYmwt7eXvcJiQxY+3o18H5QQwDAjN8u41oi+2eJiIgqk8bF7MiRIzF+/Hh8/vnnGDRoEBo3boyWLVuq1p84cQL+/v56CUlkyMZ3r4/ODZyRk6/Ee+vPIjOX/bNERESVReNi9j//+Q/GjRuHbdu2QS6X49dff1Vbf/z4cQwdOlTnAYkMnUwmYOGQZnCzkyP2YSY+2X4JoihKHYuIiKhaEMRq9n/d9PR02NvbIy0tTa0HmKiiTt9OwWsr/4ZCKSL8laYY2qaO1JGIiIiMkjb1WoUempCTk4O1a9di2bJluHnzZkUORWT0Wns74cOXGgEAZv5+BdH30yVOREREVPVpXMyGhYVh4sSJqvd5eXlo3749xo0bh48//hjNmjVDZGSkXkISGYu3u9RF90Y1kVegxPgN55CRky91JCIioipN42L2zz//RK9evVTv169fjzt37uDGjRt4/PgxBg0ahC+++EIvIYmMhUwm4JvBzeBhL0dcciambWP/LBERkT5pXMzGx8fDz89P9f7PP//EwIED4eXlBUEQMHnyZJw/f14vIYmMiaO1ORYPawFTmYCIiwn4+WS81JGIiIiqLI2LWZlMpjbC9Pfff6Ndu3aq9w4ODnj8+LFu0xEZqZZejvhv78YAgM//iMble2kSJyIiIqqaNC5mfX198ccffwAArly5gvj4eHTv3l21/s6dO3B1ddV9QiIjNbazD4J8XZGnUOK99eeQzv5ZIiIindNqntlp06ahZ8+e6NmzJ/r27QsfHx/V+l27dqFNmzZ6CUlkjARBwIJBgajlYIn4lCz859eL7J8lIiLSMY2L2f/7v//Drl27EBAQgPfffx+bN29WW29lZYX33ntP5wGJjJm9lRmWDm8BMxMBe64kYs2J21JHIiIiqlL40ASiSvDjsTh8FhENMxMBv77TAc08HaSOREREZLD08tCEGzduYOjQoUhPLz4RfFpaGoYNG4Zbt25pn5aoGhjd0Ru9m7ghXyFi/PpzSMti/ywREZEuaFzMzp8/H56eniVWx/b29vD09MT8+fN1Go6oqhAEAfMGBsDTyRL3UrPx4ZYL7J8lIiLSAY2L2cOHD2PQoEGlrh88eDAOHDigk1BEVZG9pRmWDWsJcxMZ9kUn4YdjcVJHIiIiMnpaPTTBxcWl1PXOzs64e/euTkIRVVVNa9vj0xBfAMDc3TE4F8+5mYmIiCpC42LW3t4esbGxpa6/efMmb6gi0sAb7bzQr6k7CpQiJqw/h8eZeVJHIiIiMloaF7NdunTB4sWLS12/aNEidO7cWSehiKoyQRAw99Wm8K5hhftpOfjg1wtQKtk/S0REVB4aF7PTpk3D7t27MXDgQJw6dQppaWlIS0vDyZMn8eqrr2Lv3r2YNm2aPrMSVRm28sL5Z81NZTgQ8wArj3ImECIiovLQuJht3rw5tmzZgiNHjqB9+/ZwcnKCk5MTOnTogKNHj+KXX35BixYt9JmVqEpp4mGPWaFNAADz917D6dspEiciIiIyPhoXswAQEhKCO3fuYMuWLZg7dy7Cw8OxdetW3L59G/379y93iKVLl8Lb2xtyuRxt27bFqVOnSt121apV6Ny5MxwdHeHo6IigoKAytycyZEPbeOLlZh5QKEVM3HAeD9JzEBn7CL9F3UNk7CMo2H5ARERUJo2fABYXFwcfHx+dB9i8eTNGjBiBFStWoG3btli4cCF+/fVXXLt2rcTZE4YPH46OHTuiQ4cOkMvlmDdvHrZv344rV66gVq1aLzwfnwBGhiYztwChS47h1sNMmJvKkFegVK1zt5djZqgfevu7S5iQiIiocmlTr2lczMpkMnh5eaF79+7o0aMHunXrhtq1a1c4bNu2bdG6dWssWbIEAKBUKuHp6YmJEydi6tSpL9xfoVDA0dERS5YswYgRI4qtz83NRW5urup9eno6PD09WcySQfnfsVv4IuJqseXC0z+Xv96CBS0REVUbenmc7YEDBzBy5EjcunUL48aNg5eXFxo0aIC3334bmzZtQlJSktZB8/LycPbsWQQFBf0bSCZDUFAQIiMjNTpGVlYW8vPz4eTkVOL68PBw2Nvbq16enp5a5yTSJ4VSxA9HS36AQtFvmrP/iGbLARERUQk0Lma7deuGWbNm4dChQ3j8+DH27duHoUOH4urVqxg1ahQ8PDzQpEkTrU6enJwMhUIBV1dXteWurq5ITEzU6Bj//e9/4eHhoVYQP2vatGmqmRfS0tL4YAcyOKfiUpCQllPqehFAQloOTsXxBjEiIqLnmZZnJ7lcjh49eqBTp07o3r07du/eje+//x4xMTG6zlemuXPnYtOmTTh06BDkcnmJ21hYWMDCwqJScxFp40FG6YWs2nbpmm1HRERUnWhVzObl5eHvv//GwYMHcejQIZw8eRKenp7o0qULlixZgq5du2p1cmdnZ5iYmBRrUUhKSoKbm1uZ+3799deYO3cu/vrrLwQEBGh1XiJD4mJb8i9iz/tqbwzupWVjQLNa8HCw1HMqIiIi46BxMdujRw+cPHkSPj4+6Nq1K95++21s2LAB7u7lvynF3NwcLVu2xP79+zFgwAAAhTeA7d+/HxMmTCh1v6+++gpffvkl9u7di1atWpX7/ESGoI2PE9zt5UhMy0FZXbH3UnPw1Z5rmL/3Gtr51MD/taiFPv5usJWbVVpWIiIiQ6PxbAZmZmZwd3fHgAED0K1bN3Tt2hU1atSocIDNmzdj5MiR+P7779GmTRssXLgQv/zyC2JiYuDq6ooRI0agVq1aCA8PBwDMmzcPM2bMwIYNG9CxY0fVcWxsbGBjY/PC83FqLjJEey4n4N2fzwGAWkFbNJvBgsGByFcose3cPZx8pndWbiZDLz83vNK8Fjo3cIapiVZTRxMRERkkvUzNlZmZiaNHj+LQoUM4ePAgoqKi0LBhQ3Tt2lVV3NasWbNcgZcsWYL58+cjMTERzZo1w6JFi9C2bVsAhTeeeXt7Y82aNQAAb29v3Llzp9gxZs6ciVmzZr3wXCxmyVDtuZyA2X9Eq90MVtI8s3dTsvBb1D1sO38Ptx5mqpY725ijf2AtvNKiFpp42EEQBBARERkjvRSzz8vIyMCxY8dU/bMXLlxAgwYNcPny5XKFriwsZsmQKZQiTsWl4EFGDlxs5Wjj4wQTWclFqSiKuPhPGrafv4ffL9xHSmaeal0DFxv8X4ta7K8lIiKjVCnFrFKpxOnTp3Hw4EEcPHgQx44dQ05ODhQKRblCVxYWs1QV5SuUOHL9Ibadv4d90Umqp4gJAthfS0RERkcvxaxSqcSZM2dUbQbHjx9HZmYmatWqhe7du6teXl5eOvkQ+sJilqq69Jx87L6UUGJ/7Ut+bvi/FrXQuT77a4mIyHDppZi1s7NDZmYm3NzcVIVrt27dUK9ePZ2EriwsZqk6Kb2/1gL9Az3YX0tERAZJL8Xs999/j+7du6Nhw4Y6CSkVFrNUHbG/loiIjEml9MwaKxazVN2xv5aIiAwdi9kysJgl+lda9tP+2vP3cIr9tUREZCBYzJaBxSxRydhfS0REhoLFbBlYzBKVjf21REQkNRazZWAxS6Q59tcSEZEUWMyWgcUsUfmwv5aIiCoLi9kysJglqjj21xIRkT6xmC0Di1ki3XlRf+0rLWpjQHMPuNuzv5aIiDTHYrYMLGaJ9EPVX3vuHvZdVe+vbV+3Bv6veS30aeoOGwtTiZMSEZGhYzFbBhazRPrH/loiIqoIFrNlYDFLVLnYX0tERNpiMVsGFrNE0ijqr9127h/8cTFB6/5ahVLEqbgUPMjIgYutHG18nGAiYwFMRFQVsZgtA4tZIunlK5Q4fO0htp/XrL92z+UEzP4jGglpOapjuNvLMTPUD7393SX5DEREpD8sZsvAYpbIsLyov9bTyRLLDsbi+f9QFY3JLn+9BQtaIqIqhsVsGVjMEhmu0vprSyMAcLOX49h/e7DlgIioCtGmXuOtxERkMDydrDChRwPsD+uK38Z3RLCfa5nbiwAS0nKw+XQ8MnMLKickEREZFI7MEpHB+i3qHiZvitJ4exdbC/g4W8PH2RreT//0cbZGHScryM1M9BeUiIh0Spt6jbOXE5HBcrGVa7SdrdwUGTkFeJCRiwcZuTj5TO8tUHhjmYe9JerWtIZ3jcJCt+7Tgre2oyXMON8tEZHRYjFLRAarjY8T3O3lSEzLKXYDGKDeM/skpwBxjzJxOzkTt5IL/4x7+mdGbgHupWbjXmo2jt5IVjuGqUyAp5NV4WhuDWv4OFvBx9kG3s5W8LC3hIy9uEREBo3FLBEZLBOZgJmhfnj353MQALWCtqjEnBnqBxOZAHsrMzSzckAzTwe1Y4iiiEeZeYh7WtzGPVvoPspETr5Stfx5FqYyeNWw+rdtoca/rQs1bS34oAciIgPAnlkiMnj6mmdWqRSRlJGDuIeZiHuUibiHhQXureRM3E3JQr6i9P88WpubwNv5mZaFGtbwqVlY8Dpam5c7ExERcWquMrGYJTJOlf0EsAKFEvdTc3Ar+YlqJDfuURbikp/g3uNsKMv4L6eDldnTloV/b0Yr6tEtehCErvDJaERUFbGYLQOLWSKqqNwCBe6mZKtaFp7t0U1Mzylz35q2FvCpYQ3vp725RT26XjW0n3GBT0YjoqqKxWwZWMwSkT5l5RXgzqOsEnt0H2Xmlbpf0YwL3s5WaqO6Ps7W8HSyKjbjwp7LCXj353N8MhoRVUksZsvAYpaIpJKek/9vy8Izhe6t5Exk5JT+0AcTmYDajpaqGRe8na2w6K+bSMkquTjmk9EKsQWDyHixmC0Di1kiMjSiKCIlM6/w5rOnN6EVFrtZuJ2ciex8RbmO+2qLWmjgagtLM5PCl/m/f8rNTGBVwvuqMucuWzCIjBuL2TKwmCUiYyKKIpLSc/8dyX2UiRM3k3H5frpezmcqE2BpZgL500LX6mmhqyqGiwrg54rjomVycxNYPVMgFx3j2ffmpvotmNmCUTaOWJMx4BPAiIiqCEEQ4GYvh5u9HO3r1QAARMY+wtBVf79w316+rrCzNENOvgLZ+Qpk5ymQla9ATt7T90XL8gpUszMUKEVk5BYgI7f0toeKer5gLrEwfm7U2PKZkeTSCu2ikeVZv0eX+JANEYUF7ew/otHLz61aFnAcsaaqiCOzRERGRqEU0WneAY2ejKZJwSaKIvIVoqq4ffbPnHwFsop+fvpn1jPrCothhVrBrPbn0/2y8hVQlDWfWSXzdbeFs40FLExlMDORwfyZP81V7wWYm5jAzFRQLTM3Ud9efX/huf2LbydlAc0RazImHJklIqrCtHkymiYEQYC5aWEhZm9ppuu4ANQLZlWB/HxR/NyosapIfr5ALqXQ1qZgvpqQASBDL5+1LCYy4WmR/Exx/FyRbP5ccVx8+fNFsqB2nJKKbhOZgE92XOaINVVJHJklIjJS/Mq4uKPXH+KNH0+9cLtJPevDu4Y18hVK5BUokacQkVegVL3PVyiR+9z7PIUSeQUi8hRK5BcUvv93f+Vz+4uq5cbklRa10NbHCe72lvBwkMPd3hLWOn7QB5EmeANYGVjMElFVwpt51Om6BaOiikakSyySFUrkF4jIUyhKLJKLtvt3mVi8wH5BIV20/HFWHpKflD7PcVnsLc3g4WAJD3s53B3kT3+2hIeDJdyf9nNXlVkwyHCwzYCIqJowkQmqG8NI9y0YFfVsC4e1RaWcskSa3jTY09cFCqWIhNQc3E/NRkZuAdKy85GWnY+rCSXPoCEIgIutBdztLVHraYHr4fDvyK6HgyVqWJtDVo1/ySL9YjFLRERVSm9/dyx/vUWxFgy3atyC0cbHCe728heOWK98o5VaoZ+Rk4+EtBzcS81WFbj3057+/PTPPIUSSem5SErPRdTd1BLPb24ig7uD/N9C197yuVFeOWzl+unXpqqPbQZERFQlsQVDXdFsBkDJI9blmc1AqRTxKDMPCWnZuP+02FX9nJaN+6nZeJCRC00qDVsLU1WBWzjK++/IrodDYTuDhamJVvm0xb8zJZPiurBntgwsZomIqLqS4qbBfIUSSek5uJ+ag4S0bNUob+HPhX+mZuVrdCxnGwt4OMhVI7u1nha+RT/XtLEodzsDb6gsmVTXhcVsGVjMEhFRdWaIo49ZeQXFR3ZTs5GQ9m9rQ07+i2eGMJUVPmREvY3h2dFeS9hZmkIQ1D8v5+AtmZTXhcVsGVjMEhERGRdRFJGalV84qvtMgXs/NQcJT5clpudoNM+wlbmJWu+um70ca07cRlp2yaPDlT0DhqEomhnk2RHZZ+n7urCYLQOLWSIioqqnQKHEwye5hYXu0/aF+8/dtPYos3zTkxURhH9HJQVBeOZnQPVObZt/l5e477+7qEaLyzoHnjuWoNpfeOZnqI08q5ZrmaVotPxFNo5rp5cZVTg1FxEREVUrpiaywv5Ze0u09Cp5m5x8BRLSCkdzi0Z5I2OTEXkrRaNziOIzN88VGwusVmODKg8yXlzw6ptBFLNLly7F/PnzkZiYiMDAQCxevBht2rQpdftff/0V06dPx+3bt9GgQQPMmzcPffv2rcTEREREZGzkZibwcbaGj7O1allrbydE3nrxHLwrXm+BFl6OhW+eKWoLC1zxmZ+Llotq9W6Z2z2zDUrc5rl9n3tf0XMUHePZ7a7cS8PnO6++8Lq42MpfuI2+SV7Mbt68GWFhYVixYgXatm2LhQsXIjg4GNeuXYOLi0ux7U+cOIGhQ4ciPDwcISEh2LBhAwYMGIBz587B399fgk9ARERExkrTOXh7+blVq57Z1t5O+N+xuBdelzY+TpUdrXgWqXtm27Zti9atW2PJkiUAAKVSCU9PT0ycOBFTp04ttv2QIUOQmZmJiIgI1bJ27dqhWbNmWLFixQvPx55ZIiIiepY+5uCtCqS8LtrUa5I+TDkvLw9nz55FUFCQaplMJkNQUBAiIyNL3CcyMlJtewAIDg4udfvc3Fykp6ervYiIiIiKFD01zs1e/StzN3t5tS1kAeO5LpK2GSQnJ0OhUMDV1VVtuaurK2JiYkrcJzExscTtExMTS9w+PDwcs2fP1k1gIiIiqpJ6+7ujl5+bwc3BKzVjuC6S98zq27Rp0xAWFqZ6n56eDk9PTwkTERERkSEykQl6mWbK2Bn6dZG0mHV2doaJiQmSkpLUliclJcHNza3Efdzc3LTa3sLCAhYWFroJTEREREQGRdKeWXNzc7Rs2RL79+9XLVMqldi/fz/at29f4j7t27dX2x4A9u3bV+r2RERERFR1Sd5mEBYWhpEjR6JVq1Zo06YNFi5ciMzMTIwePRoAMGLECNSqVQvh4eEAgMmTJ6Nr165YsGAB+vXrh02bNuHMmTNYuXKllB+DiIiIiCQgeTE7ZMgQPHz4EDNmzEBiYiKaNWuGPXv2qG7yio+Ph0z27wByhw4dsGHDBnz66af4+OOP0aBBA+zYsYNzzBIRERFVQ5LPM1vZOM8sERERkWEzmnlmiYiIiIgqgsUsERERERktFrNEREREZLRYzBIRERGR0WIxS0RERERGS/KpuSpb0eQN6enpEichIiIiopIU1WmaTLpV7YrZjIwMAICnp6fESYiIiIioLBkZGbC3ty9zm2o3z6xSqcT9+/dha2sLQRD0fr709HR4enri7t27nNf2Obw2JeN1KR2vTcl4XUrHa1MyXpfS8dqUrLKviyiKyMjIgIeHh9rDs0pS7UZmZTIZateuXenntbOz478UpeC1KRmvS+l4bUrG61I6XpuS8bqUjtemZJV5XV40IluEN4ARERERkdFiMUtERERERovFrJ5ZWFhg5syZsLCwkDqKweG1KRmvS+l4bUrG61I6XpuS8bqUjtemZIZ8XardDWBEREREVHVwZJaIiIiIjBaLWSIiIiIyWixmiYiIiMhosZglIiIiIqPFYlZPwsPD0bp1a9ja2sLFxQUDBgzAtWvXpI5lEJYvX46AgADVxMvt27fH7t27pY5lcObOnQtBEDBlyhSpo0hu1qxZEARB7dW4cWOpYxmEe/fu4fXXX0eNGjVgaWmJpk2b4syZM1LHkpS3t3exvy+CIGD8+PFSR5OcQqHA9OnT4ePjA0tLS9SrVw+ff/45eC944WNTp0yZAi8vL1haWqJDhw44ffq01LEq3ZEjRxAaGgoPDw8IgoAdO3aorRdFETNmzIC7uzssLS0RFBSEGzduSBP2KRazenL48GGMHz8ef//9N/bt24f8/Hy89NJLyMzMlDqa5GrXro25c+fi7NmzOHPmDHr06IGXX34ZV65ckTqawTh9+jS+//57BAQESB3FYDRp0gQJCQmq17Fjx6SOJLnHjx+jY8eOMDMzw+7duxEdHY0FCxbA0dFR6miSOn36tNrflX379gEABg0aJHEy6c2bNw/Lly/HkiVLcPXqVcybNw9fffUVFi9eLHU0yY0dOxb79u3DunXrcOnSJbz00ksICgrCvXv3pI5WqTIzMxEYGIilS5eWuP6rr77CokWLsGLFCpw8eRLW1tYIDg5GTk5OJSd9hkiV4sGDByIA8fDhw1JHMUiOjo7i//73P6ljGISMjAyxQYMG4r59+8SuXbuKkydPljqS5GbOnCkGBgZKHcPg/Pe//xU7deokdQyDN3nyZLFevXqiUqmUOork+vXrJ44ZM0Zt2SuvvCIOHz5cokSGISsrSzQxMREjIiLUlrdo0UL85JNPJEolPQDi9u3bVe+VSqXo5uYmzp8/X7UsNTVVtLCwEDdu3ChBwkIcma0kaWlpAAAnJyeJkxgWhUKBTZs2ITMzE+3bt5c6jkEYP348+vXrh6CgIKmjGJQbN27Aw8MDdevWxfDhwxEfHy91JMn9/vvvaNWqFQYNGgQXFxc0b94cq1atkjqWQcnLy8PPP/+MMWPGQBAEqeNIrkOHDti/fz+uX78OALhw4QKOHTuGPn36SJxMWgUFBVAoFJDL5WrLLS0t+S3QM+Li4pCYmKj2/yd7e3u0bdsWkZGRkuUylezM1YhSqcSUKVPQsWNH+Pv7Sx3HIFy6dAnt27dHTk4ObGxssH37dvj5+UkdS3KbNm3CuXPnqmWfVlnatm2LNWvWoFGjRkhISMDs2bPRuXNnXL58Gba2tlLHk8ytW7ewfPlyhIWF4eOPP8bp06cxadIkmJubY+TIkVLHMwg7duxAamoqRo0aJXUUgzB16lSkp6ejcePGMDExgUKhwJdffonhw4dLHU1Stra2aN++PT7//HP4+vrC1dUVGzduRGRkJOrXry91PIORmJgIAHB1dVVb7urqqlonBRazlWD8+PG4fPkyf7t7RqNGjRAVFYW0tDRs2bIFI0eOxOHDh6t1QXv37l1MnjwZ+/btKzY6UN09O2oUEBCAtm3bwsvLC7/88gvefPNNCZNJS6lUolWrVpgzZw4AoHnz5rh8+TJWrFjBYvapH374AX369IGHh4fUUQzCL7/8gvXr12PDhg1o0qQJoqKiMGXKFHh4eFT7vzPr1q3DmDFjUKtWLZiYmKBFixYYOnQozp49K3U0egG2GejZhAkTEBERgYMHD6J27dpSxzEY5ubmqF+/Plq2bInw8HAEBgbiu+++kzqWpM6ePYsHDx6gRYsWMDU1hampKQ4fPoxFixbB1NQUCoVC6ogGw8HBAQ0bNsTNmzeljiIpd3f3Yr8A+vr6sgXjqTt37uCvv/7C2LFjpY5iMD766CNMnToVr732Gpo2bYo33ngD77//PsLDw6WOJrl69erh8OHDePLkCe7evYtTp04hPz8fdevWlTqawXBzcwMAJCUlqS1PSkpSrZMCi1k9EUUREyZMwPbt23HgwAH4+PhIHcmgKZVK5ObmSh1DUj179sSlS5cQFRWlerVq1QrDhw9HVFQUTExMpI5oMJ48eYLY2Fi4u7tLHUVSHTt2LDbl3/Xr1+Hl5SVRIsOyevVquLi4oF+/flJHMRhZWVmQydT/129iYgKlUilRIsNjbW0Nd3d3PH78GHv37sXLL78sdSSD4ePjAzc3N+zfv1+1LD09HSdPnpT0vhe2GejJ+PHjsWHDBvz222+wtbVV9ZLY29vD0tJS4nTSmjZtGvr06YM6deogIyMDGzZswKFDh7B3716po0nK1ta2WE+1tbU1atSoUe17rT/88EOEhobCy8sL9+/fx8yZM2FiYoKhQ4dKHU1S77//Pjp06IA5c+Zg8ODBOHXqFFauXImVK1dKHU1ySqUSq1evxsiRI2Fqyv/VFQkNDcWXX36JOnXqoEmTJjh//jy++eYbjBkzRupoktu7dy9EUUSjRo1w8+ZNfPTRR2jcuDFGjx4tdbRK9eTJE7VvveLi4hAVFQUnJyfUqVMHU6ZMwRdffIEGDRrAx8cH06dPh4eHBwYMGCBdaMnmUajiAJT4Wr16tdTRJDdmzBjRy8tLNDc3F2vWrCn27NlT/PPPP6WOZZA4NVehIUOGiO7u7qK5ublYq1YtcciQIeLNmzeljmUQ/vjjD9Hf31+0sLAQGzduLK5cuVLqSAZh7969IgDx2rVrUkcxKOnp6eLkyZPFOnXqiHK5XKxbt674ySefiLm5uVJHk9zmzZvFunXriubm5qKbm5s4fvx4MTU1VepYle7gwYMl1i8jR44URbFweq7p06eLrq6uooWFhdizZ0/J/z0TRJGP/SAiIiIi48SeWSIiIiIyWixmiYiIiMhosZglIiIiIqPFYpaIiIiIjBaLWSIiIiIyWixmiYiIiMhosZglIiIiIqPFYpaIiIiIjBaLWSKiZ9y+fRuCICAqKkrqKCoxMTFo164d5HI5mjVrVqFjCYKAHTt26CSXIdi/fz98fX2hUCgAALNmzSrzGu3ZswfNmjWDUqmspIREpG8sZonIoIwaNQqCIGDu3Llqy3fs2AFBECRKJa2ZM2fC2toa165dw/79+0vdLjExERMnTkTdunVhYWEBT09PhIaGlrlPRRw6dAiCICA1NVUvx9fEf/7zH3z66acwMTHRaPvevXvDzMwM69ev13MyIqosLGaJyODI5XLMmzcPjx8/ljqKzuTl5ZV739jYWHTq1AleXl6oUaNGidvcvn0bLVu2xIEDBzB//nxcunQJe/bsQffu3TF+/Phyn7syiKKIgoICrfc7duwYYmNj8eqrr2q136hRo7Bo0SKtz0dEhonFLBEZnKCgILi5uSE8PLzUbUr6OnnhwoXw9vZWvR81ahQGDBiAOXPmwNXVFQ4ODvjss89QUFCAjz76CE5OTqhduzZWr15d7PgxMTHo0KED5HI5/P39cfjwYbX1ly9fRp8+fWBjYwNXV1e88cYbSE5OVq3v1q0bJkyYgClTpsDZ2RnBwcElfg6lUonPPvsMtWvXhoWFBZo1a4Y9e/ao1guCgLNnz+Kzzz6DIAiYNWtWicd57733IAgCTp06hVdffRUNGzZEkyZNEBYWhr///rvEfUoaWY2KioIgCLh9+zYA4M6dOwgNDYWjoyOsra3RpEkT7Nq1C7dv30b37t0BAI6OjhAEAaNGjVJ9pvDwcPj4+MDS0hKBgYHYsmVLsfPu3r0bLVu2hIWFBY4dO4YLFy6ge/fusLW1hZ2dHVq2bIkzZ86UmB0ANm3ahF69ekEul5e6TWxsLOrWrYsJEyZAFEUAQGhoKM6cOYPY2NhS9yMi48FilogMjomJCebMmYPFixfjn3/+qdCxDhw4gPv37+PIkSP45ptvMHPmTISEhMDR0REnT57EO++8g7fffrvYeT766CN88MEHOH/+PNq3b4/Q0FA8evQIAJCamooePXqgefPmOHPmDPbs2YOkpCQMHjxY7Rhr166Fubk5jh8/jhUrVpSY77vvvsOCBQvw9ddf4+LFiwgODkb//v1x48YNAEBCQgKaNGmCDz74AAkJCfjwww+LHSMlJQV79uzB+PHjYW1tXWy9g4NDeS4dAGD8+PHIzc3FkSNHcOnSJcybNw82Njbw9PTE1q1bAQDXrl1DQkICvvvuOwBAeHg4fvrpJ6xYsQJXrlzB+++/j9dff73YLwRTp07F3LlzcfXqVQQEBGD48OGoXbs2Tp8+jbNnz2Lq1KkwMzMrNdvRo0fRqlWrUtdfvHgRnTp1wrBhw7BkyRJVm0qdOnXg6uqKo0ePlvu6EJEBEYmIDMjIkSPFl19+WRRFUWzXrp04ZswYURRFcfv27eKz/8maOXOmGBgYqLbvt99+K3p5eakdy8vLS1QoFKpljRo1Ejt37qx6X1BQIFpbW4sbN24URVEU4+LiRADi3LlzVdvk5+eLtWvXFufNmyeKoih+/vnn4ksvvaR27rt374oAxGvXromiKIpdu3YVmzdv/sLP6+HhIX755Zdqy1q3bi2+9957qveBgYHizJkzSz3GyZMnRQDitm3bXng+AOL27dtFURTFgwcPigDEx48fq9afP39eBCDGxcWJoiiKTZs2FWfNmlXisUraPycnR7SyshJPnDihtu2bb74pDh06VG2/HTt2qG1ja2srrlmz5oWfoYi9vb34008/qS0r+ntx/Phx0dHRUfz6669L3Ld58+alfi4iMi6mklXRREQvMG/ePPTo0aPE0UhNNWnSBDLZv19Cubq6wt/fX/XexMQENWrUwIMHD9T2a9++vepnU1NTtGrVClevXgUAXLhwAQcPHoSNjU2x88XGxqJhw4YAgJYtW5aZLT09Hffv30fHjh3Vlnfs2BEXLlzQ8BNC9fW5PkyaNAnvvvsu/vzzTwQFBeHVV19FQEBAqdvfvHkTWVlZ6NWrl9ryvLw8NG/eXG3Z86OqYWFhGDt2LNatW4egoCAMGjQI9erVK/Vc2dnZJbYYxMfHo1evXvjyyy8xZcqUEve1tLREVlZWqccmIuPBNgMiMlhdunRBcHAwpk2bVmydTCYrVsTl5+cX2+75r6kFQShxmTZTNT158gShoaGIiopSe924cQNdunRRbVfSV/760KBBAwiCgJiYGK32Kyryn72Oz1/DsWPH4tatW3jjjTdw6dIltGrVCosXLy71mE+ePAEA7Ny5U+3aREdHq/XNAsWvz6xZs3DlyhX069cPBw4cgJ+fH7Zv317quZydnUu8SbBmzZpo06YNNm7ciPT09BL3TUlJQc2aNUs9NhEZDxazRGTQ5s6diz/++AORkZFqy2vWrInExES1QkyXc8M+e9NUQUEBzp49C19fXwBAixYtcOXKFXh7e6N+/fpqL20KWDs7O3h4eOD48eNqy48fPw4/Pz+Nj+Pk5ITg4GAsXboUmZmZxdaXNnVWUTGXkJCgWlbSNfT09MQ777yDbdu24YMPPsCqVasAAObm5gCgmuMVAPz8/GBhYYH4+Phi18bT0/OFn6Vhw4Z4//338eeff+KVV14p8ea8Is2bN0d0dHSx5ZaWloiIiIBcLkdwcDAyMjLU1ufk5CA2NrbYSDERGScWs0Rk0Jo2bYrhw4cXm0qpW7duePjwIb766ivExsZi6dKl2L17t87Ou3TpUmzfvh0xMTEYP348Hj9+jDFjxgAovCkqJSUFQ4cOxenTpxEbG4u9e/di9OjRaoWdJj766CPMmzcPmzdvxrVr1zB16lRERUVh8uTJWudVKBRo06YNtm7dihs3buDq1atYtGiRWsvEs4oKzFmzZuHGjRvYuXMnFixYoLbNlClTsHfvXsTFxeHcuXM4ePCgqqj38vKCIAiIiIjAw4cP8eTJE9ja2uLDDz/E+++/j7Vr1yI2Nhbnzp3D4sWLsXbt2lLzZ2dnY8KECTh06BDu3LmD48eP4/Tp06pzlSQ4OBjHjh0rcZ21tTV27twJU1NT9OnTRzViDBT+omJhYVHqdSEi48JilogM3meffVasDcDX1xfLli3D0qVLERgYiFOnTlWot/Z5c+fOxdy5cxEYGIhjx47h999/h7OzMwCoRlMVCgVeeuklNG3aFFOmTIGDg4Naf64mJk2ahLCwMHzwwQdo2rQp9uzZg99//x0NGjTQ6jh169bFuXPn0L17d3zwwQfw9/dHr169sH//fixfvrzEfczMzLBx40bExMQgICAA8+bNwxdffKG2jUKhwPjx4+Hr64vevXujYcOGWLZsGQCgVq1amD17NqZOnQpXV1dMmDABAPD5559j+vTpCA8PV+23c+dO+Pj4lJrfxMQEjx49wogRI9CwYUMMHjwYffr0wezZs0vdZ/jw4bhy5QquXbtW4nobGxvs3r0boiiiX79+qlHrjRs3Yvjw4bCysir9ghKR0RBEfd45QEREpEcfffQR0tPT8f3332u0fXJyMho1aoQzZ86UWVwTkfHgyCwRERmtTz75BF5eXhrfwHf79m0sW7aMhSxRFcKRWSIiIiIyWhyZJSIiIiKjxWKWiIiIiIwWi1kiIiIiMlosZomIiIjIaLGYJSIiIiKjxWKWiIiIiIwWi1kiIiIiMlosZomIiIjIaLGYJSIiIiKj9f/1eF2RC0OPDQAAAABJRU5ErkJggg==",
      "text/plain": [
       "<Figure size 800x500 with 1 Axes>"
      ]
     },
     "metadata": {},
     "output_type": "display_data"
    }
   ],
   "source": [
    "from pyspark.ml.clustering import KMeans\n",
    "\n",
    "assembler = VectorAssembler(\n",
    "    inputCols=[\"features_scaled\", \"proto_encoded\", \"conn_state_encoded\", \"id_resp_p_encoded\"],\n",
    "    outputCol=\"kmeans_features\"\n",
    ")\n",
    "\n",
    "df_assembled = assembler.transform(df)\n",
    "\n",
    "# Define a range of k values to test\n",
    "k_values = range(2, 11)\n",
    "wcss = []\n",
    "\n",
    "for k in k_values:\n",
    "    kmeans = KMeans(featuresCol=\"kmeans_features\", k=k)\n",
    "    model = kmeans.fit(df_assembled)\n",
    "    wcss.append(model.summary.trainingCost)  # WCSS/Inertia\n",
    "\n",
    "# Plot the elbow curve\n",
    "plt.figure(figsize=(8, 5))\n",
    "plt.plot(k_values, wcss, marker='o')\n",
    "plt.title(\"Elbow Method for Optimal k\")\n",
    "plt.xlabel(\"Number of Clusters (k)\")\n",
    "plt.ylabel(\"WCSS (Within-Cluster Sum of Squares)\")\n",
    "plt.show()\n",
    "\n",
    "# Define K-Means model\n",
    "kmeans = KMeans(featuresCol=\"kmeans_features\", predictionCol=\"cluster\", k=2)  # Adjust k as needed\n",
    "\n",
    "# Fit the model\n",
    "kmeans_model = kmeans.fit(df_assembled)\n",
    "\n",
    "# Predict clusters\n",
    "df = kmeans_model.transform(df_assembled)"
   ]
  },
  {
   "cell_type": "markdown",
   "metadata": {
    "application/vnd.databricks.v1+cell": {
     "cellMetadata": {},
     "inputWidgets": {},
     "nuid": "bf3c9aed-7c13-41a3-b17d-4255b84e7533",
     "showTitle": false,
     "tableResultSettingsMap": {},
     "title": ""
    },
    "id": "X0I8dV6gL7zN"
   },
   "source": [
    "## Assemble Features"
   ]
  },
  {
   "cell_type": "code",
<<<<<<< HEAD
   "execution_count": 32,
=======
   "execution_count": null,
>>>>>>> 4aaf0986c7893fe8035b68bba5c86946b3a43f5c
   "metadata": {
    "application/vnd.databricks.v1+cell": {
     "cellMetadata": {
      "byteLimit": 2048000,
      "rowLimit": 10000
     },
     "inputWidgets": {},
     "nuid": "04d3d2a8-a4ff-4739-970c-a546b87bed05",
     "showTitle": false,
     "tableResultSettingsMap": {},
     "title": ""
    },
    "id": "_uL1kqhTL_7d"
   },
   "outputs": [],
   "source": [
    "from pyspark.ml.feature import VectorAssembler\n",
    "from pyspark.ml.classification import LogisticRegression\n",
    "\n",
<<<<<<< HEAD
    "final_features = [\n",
    "    \"features_scaled\",           # your numeric features\n",
    "    \"cluster\"\n",
    "]\n",
    "\n",
    "assembler = VectorAssembler(inputCols=final_features, outputCol=\"features\")\n",
    "df_clean = df.dropna(subset=final_features) # i think history still have null values :(\n",
    "df_model = assembler.transform(df_clean)"
=======
    "final_assembler = VectorAssembler(\n",
    "    inputCols=[\"features_scaled\"] + [cat + \"_vec\" for cat in low_card_cat] + [\"history_freq\"],\n",
    "    outputCol=\"features\"\n",
    ")"
>>>>>>> 4aaf0986c7893fe8035b68bba5c86946b3a43f5c
   ]
  },
  {
   "cell_type": "markdown",
   "metadata": {
    "application/vnd.databricks.v1+cell": {
     "cellMetadata": {},
     "inputWidgets": {},
     "nuid": "2d5e7df4-087a-4ca8-86b7-5816cea46ffa",
     "showTitle": false,
     "tableResultSettingsMap": {},
     "title": ""
    },
    "id": "R43x7rDi5sF8"
   },
   "source": [
    "# Model Training and Evaluation"
   ]
  },
  {
   "cell_type": "markdown",
   "metadata": {
    "application/vnd.databricks.v1+cell": {
     "cellMetadata": {},
     "inputWidgets": {},
     "nuid": "c99e9b25-dfbf-4411-8d71-0c6478fdc83c",
     "showTitle": false,
     "tableResultSettingsMap": {},
     "title": ""
    },
    "id": "yCclzB3TMgX6"
   },
   "source": [
    "## Logistic Regression"
   ]
  },
  {
   "cell_type": "code",
   "execution_count": null,
   "metadata": {
    "application/vnd.databricks.v1+cell": {
     "cellMetadata": {},
     "inputWidgets": {},
     "nuid": "e30e70db-550d-4186-b9c7-9209d09ac218",
     "showTitle": false,
     "tableResultSettingsMap": {},
     "title": ""
    },
    "id": "sqGI5rYwM39F"
   },
   "outputs": [],
   "source": [
    "from pyspark.ml.tuning import CrossValidator, ParamGridBuilder\n",
    "from pyspark.ml.evaluation import BinaryClassificationEvaluator, MulticlassClassificationEvaluator\n",
    "\n",
    "lr = LogisticRegression(featuresCol=\"features\", labelCol=\"label_index\", maxIter=20, regParam=0.1)\n",
    "\n",
    "pipeline = Pipeline(stages=[label_indexer] + indexers + encoders + [assembler_num, scaler, final_assembler, \n",
    "    lr])"
   ]
  },
  {
   "cell_type": "code",
   "execution_count": 17,
   "metadata": {
    "application/vnd.databricks.v1+cell": {
     "cellMetadata": {},
     "inputWidgets": {},
     "nuid": "99fef1d0-19a5-4d85-9abb-1c4497046aa4",
     "showTitle": false,
     "tableResultSettingsMap": {},
     "title": ""
    }
   },
   "outputs": [],
   "source": [
    "from pyspark.ml.tuning import CrossValidator, ParamGridBuilder\n",
    "from pyspark.ml.evaluation import BinaryClassificationEvaluator, MulticlassClassificationEvaluator\n",
    "\n",
    "# Setup parameter grid for Logistic Regression.\n",
    "paramGrid = ParamGridBuilder() \\\n",
    "    .addGrid(lr.regParam, [0.01, 0.1]) \\\n",
    "    .addGrid(lr.elasticNetParam, [0.0]) \\\n",
    "    .build()\n",
    "\n",
    "# Define evaluator using area under ROC.\n",
    "evaluator = MulticlassClassificationEvaluator(\n",
    "    labelCol=\"label_index\", \n",
    "    predictionCol=\"prediction\", # default is \"prediction\"\n",
    "    metricName=\"accuracy\")\n",
    "\n",
    "# Setup 3-fold cross-validation.\n",
    "cv = CrossValidator(\n",
    "    estimator=pipeline,\n",
    "    estimatorParamMaps=paramGrid,\n",
    "    evaluator=evaluator,\n",
    "    numFolds=5\n",
    ")\n",
    "\n",
    "# Train the model using cross-validation on the training set.\n",
    "cvModel = cv.fit(train_df)"
   ]
  },
  {
   "cell_type": "code",
   "execution_count": 18,
   "metadata": {},
   "outputs": [
    {
     "name": "stdout",
     "output_type": "stream",
     "text": [
      "Test AUC: 1.0000\n",
      "Test Accuracy: 1.0000\n",
      "Test F1 Score: 1.0000\n",
      "+-----------+----------+---------------------------------------------------------------+\n",
      "|label_index|prediction|probability                                                    |\n",
      "+-----------+----------+---------------------------------------------------------------+\n",
      "|0.0        |0.0       |[0.9836028516284148,0.016346922826093156,5.0225545492078395E-5]|\n",
      "|0.0        |0.0       |[0.9836028512741815,0.01634692317986537,5.022554595313352E-5]  |\n",
      "|0.0        |0.0       |[0.9836028509593076,0.01634692349432955,5.0225546362960246E-5] |\n",
      "|0.0        |0.0       |[0.9836030280356447,0.016346746648468122,5.0225315887113336E-5]|\n",
      "|0.0        |0.0       |[0.9836028016027313,0.016346972786665373,5.022561060334292E-5] |\n",
      "|0.0        |0.0       |[0.9836026547916361,0.016347119406678205,5.02258016856239E-5]  |\n",
      "|0.0        |0.0       |[0.9836028711112326,0.016346903368633196,5.0225520134053505E-5]|\n",
      "|0.0        |0.0       |[0.9836028515103371,0.016346922944017232,5.0225545645763416E-5]|\n",
      "|0.0        |0.0       |[0.808697708027979,0.19114067340344695,1.616185685739875E-4]   |\n",
      "|0.0        |0.0       |[0.9836028506837927,0.01634692376948574,5.022554672155866E-5]  |\n",
      "+-----------+----------+---------------------------------------------------------------+\n",
      "only showing top 10 rows\n",
      "\n"
     ]
    }
   ],
   "source": [
    "# Make predictions on the test set.\n",
    "predictions = cvModel.transform(test_df)\n",
    "\n",
    "# Evaluate using AUC.\n",
    "auc = evaluator.evaluate(predictions)\n",
    "print(f\"Test AUC: {auc:.4f}\")\n",
    "\n",
    "# Evaluate using Accuracy.\n",
    "accuracy_evaluator = MulticlassClassificationEvaluator(labelCol=\"label_index\", predictionCol=\"prediction\", metricName=\"accuracy\")\n",
    "accuracy = accuracy_evaluator.evaluate(predictions)\n",
    "print(f\"Test Accuracy: {accuracy:.4f}\")\n",
    "\n",
    "# Evaluate using F1 Score.\n",
    "f1_evaluator = MulticlassClassificationEvaluator(labelCol=\"label_index\", predictionCol=\"prediction\", metricName=\"f1\")\n",
    "f1 = f1_evaluator.evaluate(predictions)\n",
    "print(f\"Test F1 Score: {f1:.4f}\")\n",
    "\n",
    "# Show sample predictions.\n",
    "predictions.select(\"label_index\", \"prediction\", \"probability\").show(10, truncate=False)"
   ]
  },
  {
   "cell_type": "markdown",
   "metadata": {
    "application/vnd.databricks.v1+cell": {
     "cellMetadata": {},
     "inputWidgets": {},
     "nuid": "f7822bf8-8514-4c87-aa29-71e0f9e44f3f",
     "showTitle": false,
     "tableResultSettingsMap": {},
     "title": ""
    }
   },
   "source": [
    "model performs well for common classes (0.0 and 1.0) but completely fails to identify class 2.0 (probably due to class imbalance)\n",
    "\n",
    "F1 = 1.0"
   ]
  },
  {
   "cell_type": "markdown",
   "metadata": {
    "application/vnd.databricks.v1+cell": {
     "cellMetadata": {},
     "inputWidgets": {},
     "nuid": "5fe93d9c-f6bb-496e-b464-67f4e5e146f7",
     "showTitle": false,
     "tableResultSettingsMap": {},
     "title": ""
    },
    "id": "phW0E54BMjuc"
   },
   "source": [
    "## Random Forest"
   ]
  },
  {
   "cell_type": "code",
   "execution_count": 26,
   "metadata": {},
   "outputs": [],
   "source": [
    "df_model_RF = df_model"
   ]
  },
  {
   "cell_type": "code",
   "execution_count": 27,
   "metadata": {
    "application/vnd.databricks.v1+cell": {
     "cellMetadata": {},
     "inputWidgets": {},
     "nuid": "1e128c25-f640-406a-91e9-f41ef69f7f77",
     "showTitle": false,
     "tableResultSettingsMap": {},
     "title": ""
    },
    "id": "4NxND86oM56v"
   },
   "outputs": [],
   "source": [
    "from pyspark.ml import Pipeline\n",
    "from pyspark.ml.feature import StringIndexer, VectorAssembler\n",
    "from pyspark.ml.classification import RandomForestClassifier\n",
    "from pyspark.ml.evaluation import BinaryClassificationEvaluator, MulticlassClassificationEvaluator\n",
    "\n",
    "df_model_RF = df_model_RF.drop(\"label_index\") \n",
    "\n",
    "df_model_RF = df_model_RF.withColumn(\n",
    "    \"label\",\n",
    "    when(col(\"label\") == \"Benign\", \"Benign\").otherwise(\"Malicious\")\n",
    ")\n",
    "\n",
    "label_indexer = StringIndexer(inputCol=\"label\", outputCol=\"label_index\", handleInvalid=\"keep\")\n",
    "df_model_RF = label_indexer.fit(df_model_RF).transform(df_model_RF)\n",
    "\n",
    "rf = RandomForestClassifier(\n",
    "    featuresCol=\"features\",\n",
    "    labelCol=\"label_index\",\n",
    "    numTrees=10,  \n",
    "    maxDepth=5    \n",
    ")\n",
    "\n",
    "train_df, test_df = df_model_RF.randomSplit([0.8, 0.2], seed=42)\n",
    "\n",
    "rf_model = rf.fit(train_df)\n",
    "rf_predictions = rf_model.transform(test_df)"
   ]
  },
  {
   "cell_type": "code",
   "execution_count": 28,
   "metadata": {},
   "outputs": [
    {
     "name": "stdout",
     "output_type": "stream",
     "text": [
      "+------+-----------+---------------------------------------------+----------+\n",
      "|label |label_index|probability                                  |prediction|\n",
      "+------+-----------+---------------------------------------------+----------+\n",
      "|Benign|0.0        |[0.9931939207335848,0.006806079266415133,0.0]|0.0       |\n",
      "|Benign|0.0        |[0.878391080442616,0.12160891955738407,0.0]  |0.0       |\n",
      "|Benign|0.0        |[0.731081081081081,0.26891891891891895,0.0]  |0.0       |\n",
      "|Benign|0.0        |[0.9931939207335848,0.006806079266415133,0.0]|0.0       |\n",
      "|Benign|0.0        |[0.9994772576983946,5.227423016053018E-4,0.0]|0.0       |\n",
      "+------+-----------+---------------------------------------------+----------+\n",
      "only showing top 5 rows\n",
      "\n"
     ]
    }
   ],
   "source": [
    "rf_predictions.select(\"label\", \"label_index\", \"probability\", \"prediction\").show(5, truncate=False)"
   ]
  },
  {
   "cell_type": "code",
   "execution_count": 29,
   "metadata": {},
   "outputs": [
    {
     "name": "stdout",
     "output_type": "stream",
     "text": [
      "+-----------+-------+\n",
      "|label_index|  count|\n",
      "+-----------+-------+\n",
      "|        0.0|4108340|\n",
      "|        1.0|1906832|\n",
      "+-----------+-------+\n",
      "\n"
     ]
    }
   ],
   "source": [
    "df_model_RF.groupBy(\"label_index\").count().show()"
   ]
  },
  {
   "cell_type": "code",
   "execution_count": 30,
   "metadata": {},
   "outputs": [
    {
     "name": "stdout",
     "output_type": "stream",
     "text": [
      "Accuracy: 1.0000\n"
     ]
    }
   ],
   "source": [
    "# Model eval - accuracy\n",
    "evaluator_acc = MulticlassClassificationEvaluator(\n",
    "    labelCol=\"label_index\",  \n",
    "    predictionCol=\"prediction\",  \n",
    "    metricName=\"accuracy\"  \n",
    ")\n",
    "rf_accuracy = evaluator_acc.evaluate(rf_predictions)\n",
    "print(f\"Accuracy: {rf_accuracy:.4f}\")"
   ]
  },
  {
   "cell_type": "code",
   "execution_count": null,
   "metadata": {},
   "outputs": [],
   "source": [
    "stop"
   ]
  },
  {
   "cell_type": "markdown",
   "metadata": {
    "application/vnd.databricks.v1+cell": {
     "cellMetadata": {},
     "inputWidgets": {},
     "nuid": "969e8004-3262-4927-b50b-b2e052708484",
     "showTitle": false,
     "tableResultSettingsMap": {},
     "title": ""
    },
    "id": "VLBMnQuGMwBZ"
   },
   "source": [
    "## Gradient Boosted Trees"
   ]
  },
  {
   "cell_type": "code",
   "execution_count": 0,
   "metadata": {
    "application/vnd.databricks.v1+cell": {
     "cellMetadata": {
      "byteLimit": 2048000,
      "rowLimit": 10000
     },
     "inputWidgets": {},
     "nuid": "abc9e4ec-beae-4561-bc71-5635914ed671",
     "showTitle": false,
     "tableResultSettingsMap": {},
     "title": ""
    },
    "id": "Sy5xHJXsM7Nt"
   },
   "outputs": [],
   "source": [
    "# Gradient boosted tree is binary\n",
    "\n",
    "from pyspark.ml.classification import GBTClassifier\n",
    "# from pyspark.ml import Pipeline\n",
    "\n",
    "df_model = df_model.drop(\"label_index\") # force drop existing when rerunning the cell\n",
    "\n",
    "df_model = df_model.withColumn(\n",
    "    \"label\",\n",
    "    when(col(\"label\") == \"Benign\", \"Benign\").otherwise(\"Malicious\")\n",
    ")\n",
    "\n",
    "# reindex labels (Benign = 0, Malicious = 1)\n",
    "label_indexer = StringIndexer(inputCol=\"label\", outputCol=\"label_index\", handleInvalid=\"keep\")\n",
    "df_model = label_indexer.fit(df_model).transform(df_model)\n",
    "\n",
    "# train test split\n",
    "train_df, test_df = df_model.randomSplit([0.8, 0.2], seed=42)\n",
    "\n",
    "# gbt regressor\n",
    "gbt = GBTClassifier(featuresCol=\"features\",\n",
    "                    labelCol=\"label_index\", \n",
    "                    maxIter=50, \n",
    "                    maxDepth=5)\n",
    "\n",
    "# train the model\n",
    "gbt_model = gbt.fit(train_df)\n",
    "\n",
    "# Make predictions with Gradient Boosted Tree\n",
    "gbt_predictions = gbt_model.transform(test_df)\n",
    "\n",
    "# display predictions\n",
    "gbt_predictions.select(\"label\", \"label_index\", \"probability\", \"prediction\").show(5, truncate=False)"
   ]
  },
  {
   "cell_type": "code",
   "execution_count": 0,
   "metadata": {
    "application/vnd.databricks.v1+cell": {
     "cellMetadata": {
      "byteLimit": 2048000,
      "rowLimit": 10000
     },
     "inputWidgets": {},
     "nuid": "6fc624c7-042f-4fdd-98b3-6c5ec1ef94d0",
     "showTitle": false,
     "tableResultSettingsMap": {},
     "title": ""
    }
   },
   "outputs": [
    {
     "name": "stdout",
     "output_type": "stream",
     "text": [
      "+-----------+-------+\n",
      "|label_index|  count|\n",
      "+-----------+-------+\n",
      "|        0.0|4108318|\n",
      "|        1.0|1906832|\n",
      "+-----------+-------+\n",
      "\n"
     ]
    }
   ],
   "source": [
    "df_model.groupBy(\"label_index\").count().show()"
   ]
  },
  {
   "cell_type": "code",
   "execution_count": 0,
   "metadata": {
    "application/vnd.databricks.v1+cell": {
     "cellMetadata": {
      "byteLimit": 2048000,
      "rowLimit": 10000
     },
     "inputWidgets": {},
     "nuid": "9271c448-f9c5-4f1e-844d-6bc5e598cc03",
     "showTitle": false,
     "tableResultSettingsMap": {},
     "title": ""
    }
   },
   "outputs": [
    {
     "name": "stdout",
     "output_type": "stream",
     "text": [
      "GBT AUC: 1.0000\n",
      "Accuracy: 1.0000\n"
     ]
    }
   ],
   "source": [
    "from pyspark.ml.evaluation import BinaryClassificationEvaluator, MulticlassClassificationEvaluator\n",
    "\n",
    "# Evaluation\n",
    "# evaluate AUC using BinaryClassificationEvaluator\n",
    "evaluator_auc = BinaryClassificationEvaluator(\n",
    "    labelCol=\"label_index\",\n",
    "    rawPredictionCol=\"rawPrediction\",  # GBT outputs rawPrediction\n",
    "    metricName=\"areaUnderROC\"\n",
    ")\n",
    "\n",
    "gbt_auc = evaluator_auc.evaluate(gbt_predictions)\n",
    "print(f\"GBT AUC: {gbt_auc:.4f}\")\n",
    "\n",
    "evaluator_acc = MulticlassClassificationEvaluator(\n",
    "    labelCol=\"label_index\", \n",
    "    predictionCol=\"prediction\", \n",
    "    metricName=\"accuracy\"\n",
    ")\n",
    "\n",
    "gbt_accuracy = evaluator_acc.evaluate(gbt_predictions)\n",
    "print(f\"Accuracy: {gbt_accuracy:.4f}\")"
   ]
  },
  {
   "cell_type": "markdown",
   "metadata": {
    "application/vnd.databricks.v1+cell": {
     "cellMetadata": {},
     "inputWidgets": {},
     "nuid": "a345a235-a8c1-46fb-bf83-e4477bf6f0f9",
     "showTitle": false,
     "tableResultSettingsMap": {},
     "title": ""
    },
    "id": "Lehy1GtUM1bq"
   },
   "source": [
    "## MLP"
   ]
  },
  {
   "cell_type": "code",
   "execution_count": 33,
   "metadata": {},
   "outputs": [],
   "source": [
    "from pyspark.ml.feature import StringIndexer\n",
    "\n",
    "df_model = df_model.drop(\"label_index\") # force drop existing when rerunning the cell\n",
    "\n",
    "label_indexer = StringIndexer(inputCol=\"label\", outputCol=\"label_index\", handleInvalid=\"keep\")\n",
    "df_model = label_indexer.fit(df_model).transform(df_model)\n",
    "\n",
    "train_df, test_df = df_model.randomSplit([0.8, 0.2], seed=42)"
   ]
  },
  {
   "cell_type": "code",
   "execution_count": 34,
   "metadata": {
    "application/vnd.databricks.v1+cell": {
     "cellMetadata": {},
     "inputWidgets": {},
     "nuid": "9353c975-0344-463f-a616-8196f6f7b02e",
     "showTitle": false,
     "tableResultSettingsMap": {},
     "title": ""
    },
    "id": "MwdyBCqcM81h"
   },
   "outputs": [
    {
     "name": "stdout",
     "output_type": "stream",
     "text": [
      "+------+-----------+----------------------------------------+----------+\n",
      "|label |label_index|probability                             |prediction|\n",
      "+------+-----------+----------------------------------------+----------+\n",
      "|Benign|0.0        |[0.9181545583160051,0.08184544168399487]|0.0       |\n",
      "|Benign|0.0        |[0.903568435556681,0.09643156444331895] |0.0       |\n",
      "|Benign|0.0        |[0.8860422863896683,0.11395771361033155]|0.0       |\n",
      "|Benign|0.0        |[0.08633195661420173,0.9136680433857982]|1.0       |\n",
      "|Benign|0.0        |[0.08518375697967276,0.9148162430203273]|1.0       |\n",
      "+------+-----------+----------------------------------------+----------+\n",
      "only showing top 5 rows\n",
      "\n",
      "MLP Accuracy: 0.9510\n"
     ]
    }
   ],
   "source": [
    "from pyspark.ml.tuning import ParamGridBuilder, CrossValidator\n",
    "from pyspark.ml.evaluation import MulticlassClassificationEvaluator\n",
    "\n",
    "from pyspark.ml.classification import MultilayerPerceptronClassifier\n",
    "\n",
    "input_size = len(train_df.select(\"features\").first()['features'])\n",
    "layers = [input_size, 64, 32, 2]  # 2 output nodes for binary classification\n",
    "\n",
    "mlp = MultilayerPerceptronClassifier(\n",
    "    maxIter=100,\n",
    "    layers=layers,\n",
    "    blockSize=128,\n",
    "    seed=1234,\n",
    "    featuresCol=\"features\",\n",
    "    labelCol=\"label_index\"\n",
    ")\n",
    "\n",
    "mlp_model = mlp.fit(train_df)\n",
    "\n",
    "mlp_predictions = mlp_model.transform(test_df)\n",
    "\n",
    "mlp_predictions.select(\"label\", \"label_index\", \"probability\", \"prediction\").show(5, truncate=False)\n",
    "\n",
    "evaluator = MulticlassClassificationEvaluator(\n",
    "    labelCol=\"label_index\",\n",
    "    predictionCol=\"prediction\",\n",
    "    metricName=\"accuracy\"\n",
    ")\n",
    "\n",
    "\n",
    "mlp_accuracy = evaluator.evaluate(mlp_predictions)\n",
    "print(f\"MLP Accuracy: {mlp_accuracy:.4f}\")\n"
   ]
  },
  {
   "cell_type": "code",
   "execution_count": 35,
   "metadata": {},
   "outputs": [
    {
     "name": "stdout",
     "output_type": "stream",
     "text": [
      "+-----------+------+------+\n",
      "|label_index|   0.0|   1.0|\n",
      "+-----------+------+------+\n",
      "|        0.0|398617|  1472|\n",
      "|        1.0| 36815|344720|\n",
      "+-----------+------+------+\n",
      "\n"
     ]
    }
   ],
   "source": [
    "# Create the confusion matrix\n",
    "confusion_matrix = mlp_predictions.groupBy(\"label_index\").pivot(\"prediction\").count().na.fill(0)\n",
    "\n",
    "confusion_matrix.show()"
   ]
  },
  {
   "cell_type": "code",
   "execution_count": 37,
   "metadata": {},
   "outputs": [
    {
     "ename": "ConnectionRefusedError",
     "evalue": "[WinError 10061] No connection could be made because the target machine actively refused it",
     "output_type": "error",
     "traceback": [
      "\u001b[1;31m---------------------------------------------------------------------------\u001b[0m",
      "\u001b[1;31mConnectionRefusedError\u001b[0m                    Traceback (most recent call last)",
      "Cell \u001b[1;32mIn[37], line 21\u001b[0m\n\u001b[0;32m      6\u001b[0m paramGrid \u001b[38;5;241m=\u001b[39m ParamGridBuilder() \\\n\u001b[0;32m      7\u001b[0m     \u001b[38;5;241m.\u001b[39maddGrid(mlp\u001b[38;5;241m.\u001b[39mlayers, [\n\u001b[0;32m      8\u001b[0m         [input_size, \u001b[38;5;241m32\u001b[39m, \u001b[38;5;241m16\u001b[39m, \u001b[38;5;241m2\u001b[39m]\n\u001b[0;32m      9\u001b[0m     ]) \\\n\u001b[0;32m     10\u001b[0m     \u001b[38;5;241m.\u001b[39maddGrid(mlp\u001b[38;5;241m.\u001b[39mblockSize, [\u001b[38;5;241m64\u001b[39m, \u001b[38;5;241m128\u001b[39m]) \\\n\u001b[0;32m     11\u001b[0m     \u001b[38;5;241m.\u001b[39mbuild()\n\u001b[0;32m     13\u001b[0m cv \u001b[38;5;241m=\u001b[39m CrossValidator(\n\u001b[0;32m     14\u001b[0m     estimator\u001b[38;5;241m=\u001b[39mmlp,\n\u001b[0;32m     15\u001b[0m     estimatorParamMaps\u001b[38;5;241m=\u001b[39mparamGrid,\n\u001b[1;32m   (...)\u001b[0m\n\u001b[0;32m     18\u001b[0m     parallelism\u001b[38;5;241m=\u001b[39m\u001b[38;5;241m1\u001b[39m\n\u001b[0;32m     19\u001b[0m )\n\u001b[1;32m---> 21\u001b[0m cv_model \u001b[38;5;241m=\u001b[39m \u001b[43mcv\u001b[49m\u001b[38;5;241;43m.\u001b[39;49m\u001b[43mfit\u001b[49m\u001b[43m(\u001b[49m\u001b[43mtrain_df\u001b[49m\u001b[43m)\u001b[49m\n\u001b[0;32m     22\u001b[0m tuned_predictions \u001b[38;5;241m=\u001b[39m cv_model\u001b[38;5;241m.\u001b[39mbestModel\u001b[38;5;241m.\u001b[39mtransform(test_df)\n\u001b[0;32m     24\u001b[0m tuned_accuracy \u001b[38;5;241m=\u001b[39m evaluator\u001b[38;5;241m.\u001b[39mevaluate(tuned_predictions)\n",
      "File \u001b[1;32mc:\\Users\\Kenneth\\AppData\\Local\\Programs\\Python\\Python310\\lib\\site-packages\\pyspark\\ml\\base.py:205\u001b[0m, in \u001b[0;36mEstimator.fit\u001b[1;34m(self, dataset, params)\u001b[0m\n\u001b[0;32m    203\u001b[0m         \u001b[38;5;28;01mreturn\u001b[39;00m \u001b[38;5;28mself\u001b[39m\u001b[38;5;241m.\u001b[39mcopy(params)\u001b[38;5;241m.\u001b[39m_fit(dataset)\n\u001b[0;32m    204\u001b[0m     \u001b[38;5;28;01melse\u001b[39;00m:\n\u001b[1;32m--> 205\u001b[0m         \u001b[38;5;28;01mreturn\u001b[39;00m \u001b[38;5;28;43mself\u001b[39;49m\u001b[38;5;241;43m.\u001b[39;49m\u001b[43m_fit\u001b[49m\u001b[43m(\u001b[49m\u001b[43mdataset\u001b[49m\u001b[43m)\u001b[49m\n\u001b[0;32m    206\u001b[0m \u001b[38;5;28;01melse\u001b[39;00m:\n\u001b[0;32m    207\u001b[0m     \u001b[38;5;28;01mraise\u001b[39;00m \u001b[38;5;167;01mTypeError\u001b[39;00m(\n\u001b[0;32m    208\u001b[0m         \u001b[38;5;124m\"\u001b[39m\u001b[38;5;124mParams must be either a param map or a list/tuple of param maps, \u001b[39m\u001b[38;5;124m\"\u001b[39m\n\u001b[0;32m    209\u001b[0m         \u001b[38;5;124m\"\u001b[39m\u001b[38;5;124mbut got \u001b[39m\u001b[38;5;132;01m%s\u001b[39;00m\u001b[38;5;124m.\u001b[39m\u001b[38;5;124m\"\u001b[39m \u001b[38;5;241m%\u001b[39m \u001b[38;5;28mtype\u001b[39m(params)\n\u001b[0;32m    210\u001b[0m     )\n",
      "File \u001b[1;32mc:\\Users\\Kenneth\\AppData\\Local\\Programs\\Python\\Python310\\lib\\site-packages\\pyspark\\ml\\tuning.py:838\u001b[0m, in \u001b[0;36mCrossValidator._fit\u001b[1;34m(self, dataset)\u001b[0m\n\u001b[0;32m    835\u001b[0m \u001b[38;5;28;01mif\u001b[39;00m collectSubModelsParam:\n\u001b[0;32m    836\u001b[0m     subModels \u001b[38;5;241m=\u001b[39m [[\u001b[38;5;28;01mNone\u001b[39;00m \u001b[38;5;28;01mfor\u001b[39;00m j \u001b[38;5;129;01min\u001b[39;00m \u001b[38;5;28mrange\u001b[39m(numModels)] \u001b[38;5;28;01mfor\u001b[39;00m i \u001b[38;5;129;01min\u001b[39;00m \u001b[38;5;28mrange\u001b[39m(nFolds)]\n\u001b[1;32m--> 838\u001b[0m datasets \u001b[38;5;241m=\u001b[39m \u001b[38;5;28;43mself\u001b[39;49m\u001b[38;5;241;43m.\u001b[39;49m\u001b[43m_kFold\u001b[49m\u001b[43m(\u001b[49m\u001b[43mdataset\u001b[49m\u001b[43m)\u001b[49m\n\u001b[0;32m    839\u001b[0m \u001b[38;5;28;01mfor\u001b[39;00m i \u001b[38;5;129;01min\u001b[39;00m \u001b[38;5;28mrange\u001b[39m(nFolds):\n\u001b[0;32m    840\u001b[0m     validation \u001b[38;5;241m=\u001b[39m datasets[i][\u001b[38;5;241m1\u001b[39m]\u001b[38;5;241m.\u001b[39mcache()\n",
      "File \u001b[1;32mc:\\Users\\Kenneth\\AppData\\Local\\Programs\\Python\\Python310\\lib\\site-packages\\pyspark\\ml\\tuning.py:877\u001b[0m, in \u001b[0;36mCrossValidator._kFold\u001b[1;34m(self, dataset)\u001b[0m\n\u001b[0;32m    875\u001b[0m h \u001b[38;5;241m=\u001b[39m \u001b[38;5;241m1.0\u001b[39m \u001b[38;5;241m/\u001b[39m nFolds\n\u001b[0;32m    876\u001b[0m randCol \u001b[38;5;241m=\u001b[39m \u001b[38;5;28mself\u001b[39m\u001b[38;5;241m.\u001b[39muid \u001b[38;5;241m+\u001b[39m \u001b[38;5;124m\"\u001b[39m\u001b[38;5;124m_rand\u001b[39m\u001b[38;5;124m\"\u001b[39m\n\u001b[1;32m--> 877\u001b[0m df \u001b[38;5;241m=\u001b[39m dataset\u001b[38;5;241m.\u001b[39mselect(\u001b[38;5;124m\"\u001b[39m\u001b[38;5;124m*\u001b[39m\u001b[38;5;124m\"\u001b[39m, \u001b[43mrand\u001b[49m\u001b[43m(\u001b[49m\u001b[43mseed\u001b[49m\u001b[43m)\u001b[49m\u001b[38;5;241m.\u001b[39malias(randCol))\n\u001b[0;32m    878\u001b[0m \u001b[38;5;28;01mfor\u001b[39;00m i \u001b[38;5;129;01min\u001b[39;00m \u001b[38;5;28mrange\u001b[39m(nFolds):\n\u001b[0;32m    879\u001b[0m     validateLB \u001b[38;5;241m=\u001b[39m i \u001b[38;5;241m*\u001b[39m h\n",
      "File \u001b[1;32mc:\\Users\\Kenneth\\AppData\\Local\\Programs\\Python\\Python310\\lib\\site-packages\\pyspark\\sql\\utils.py:174\u001b[0m, in \u001b[0;36mtry_remote_functions.<locals>.wrapped\u001b[1;34m(*args, **kwargs)\u001b[0m\n\u001b[0;32m    172\u001b[0m     \u001b[38;5;28;01mreturn\u001b[39;00m \u001b[38;5;28mgetattr\u001b[39m(functions, f\u001b[38;5;241m.\u001b[39m\u001b[38;5;18m__name__\u001b[39m)(\u001b[38;5;241m*\u001b[39margs, \u001b[38;5;241m*\u001b[39m\u001b[38;5;241m*\u001b[39mkwargs)\n\u001b[0;32m    173\u001b[0m \u001b[38;5;28;01melse\u001b[39;00m:\n\u001b[1;32m--> 174\u001b[0m     \u001b[38;5;28;01mreturn\u001b[39;00m f(\u001b[38;5;241m*\u001b[39margs, \u001b[38;5;241m*\u001b[39m\u001b[38;5;241m*\u001b[39mkwargs)\n",
      "File \u001b[1;32mc:\\Users\\Kenneth\\AppData\\Local\\Programs\\Python\\Python310\\lib\\site-packages\\pyspark\\sql\\functions.py:4753\u001b[0m, in \u001b[0;36mrand\u001b[1;34m(seed)\u001b[0m\n\u001b[0;32m   4719\u001b[0m \u001b[38;5;250m\u001b[39m\u001b[38;5;124;03m\"\"\"Generates a random column with independent and identically distributed (i.i.d.) samples\u001b[39;00m\n\u001b[0;32m   4720\u001b[0m \u001b[38;5;124;03muniformly distributed in [0.0, 1.0).\u001b[39;00m\n\u001b[0;32m   4721\u001b[0m \n\u001b[1;32m   (...)\u001b[0m\n\u001b[0;32m   4750\u001b[0m \u001b[38;5;124;03m+---+------------------+\u001b[39;00m\n\u001b[0;32m   4751\u001b[0m \u001b[38;5;124;03m\"\"\"\u001b[39;00m\n\u001b[0;32m   4752\u001b[0m \u001b[38;5;28;01mif\u001b[39;00m seed \u001b[38;5;129;01mis\u001b[39;00m \u001b[38;5;129;01mnot\u001b[39;00m \u001b[38;5;28;01mNone\u001b[39;00m:\n\u001b[1;32m-> 4753\u001b[0m     \u001b[38;5;28;01mreturn\u001b[39;00m \u001b[43m_invoke_function\u001b[49m\u001b[43m(\u001b[49m\u001b[38;5;124;43m\"\u001b[39;49m\u001b[38;5;124;43mrand\u001b[39;49m\u001b[38;5;124;43m\"\u001b[39;49m\u001b[43m,\u001b[49m\u001b[43m \u001b[49m\u001b[43mseed\u001b[49m\u001b[43m)\u001b[49m\n\u001b[0;32m   4754\u001b[0m \u001b[38;5;28;01melse\u001b[39;00m:\n\u001b[0;32m   4755\u001b[0m     \u001b[38;5;28;01mreturn\u001b[39;00m _invoke_function(\u001b[38;5;124m\"\u001b[39m\u001b[38;5;124mrand\u001b[39m\u001b[38;5;124m\"\u001b[39m)\n",
      "File \u001b[1;32mc:\\Users\\Kenneth\\AppData\\Local\\Programs\\Python\\Python310\\lib\\site-packages\\pyspark\\sql\\functions.py:96\u001b[0m, in \u001b[0;36m_invoke_function\u001b[1;34m(name, *args)\u001b[0m\n\u001b[0;32m     91\u001b[0m \u001b[38;5;250m\u001b[39m\u001b[38;5;124;03m\"\"\"\u001b[39;00m\n\u001b[0;32m     92\u001b[0m \u001b[38;5;124;03mInvokes JVM function identified by name with args\u001b[39;00m\n\u001b[0;32m     93\u001b[0m \u001b[38;5;124;03mand wraps the result with :class:`~pyspark.sql.Column`.\u001b[39;00m\n\u001b[0;32m     94\u001b[0m \u001b[38;5;124;03m\"\"\"\u001b[39;00m\n\u001b[0;32m     95\u001b[0m \u001b[38;5;28;01massert\u001b[39;00m SparkContext\u001b[38;5;241m.\u001b[39m_active_spark_context \u001b[38;5;129;01mis\u001b[39;00m \u001b[38;5;129;01mnot\u001b[39;00m \u001b[38;5;28;01mNone\u001b[39;00m\n\u001b[1;32m---> 96\u001b[0m jf \u001b[38;5;241m=\u001b[39m \u001b[43m_get_jvm_function\u001b[49m\u001b[43m(\u001b[49m\u001b[43mname\u001b[49m\u001b[43m,\u001b[49m\u001b[43m \u001b[49m\u001b[43mSparkContext\u001b[49m\u001b[38;5;241;43m.\u001b[39;49m\u001b[43m_active_spark_context\u001b[49m\u001b[43m)\u001b[49m\n\u001b[0;32m     97\u001b[0m \u001b[38;5;28;01mreturn\u001b[39;00m Column(jf(\u001b[38;5;241m*\u001b[39margs))\n",
      "File \u001b[1;32mc:\\Users\\Kenneth\\AppData\\Local\\Programs\\Python\\Python310\\lib\\site-packages\\pyspark\\sql\\functions.py:87\u001b[0m, in \u001b[0;36m_get_jvm_function\u001b[1;34m(name, sc)\u001b[0m\n\u001b[0;32m     82\u001b[0m \u001b[38;5;250m\u001b[39m\u001b[38;5;124;03m\"\"\"\u001b[39;00m\n\u001b[0;32m     83\u001b[0m \u001b[38;5;124;03mRetrieves JVM function identified by name from\u001b[39;00m\n\u001b[0;32m     84\u001b[0m \u001b[38;5;124;03mJava gateway associated with sc.\u001b[39;00m\n\u001b[0;32m     85\u001b[0m \u001b[38;5;124;03m\"\"\"\u001b[39;00m\n\u001b[0;32m     86\u001b[0m \u001b[38;5;28;01massert\u001b[39;00m sc\u001b[38;5;241m.\u001b[39m_jvm \u001b[38;5;129;01mis\u001b[39;00m \u001b[38;5;129;01mnot\u001b[39;00m \u001b[38;5;28;01mNone\u001b[39;00m\n\u001b[1;32m---> 87\u001b[0m \u001b[38;5;28;01mreturn\u001b[39;00m \u001b[38;5;28mgetattr\u001b[39m(\u001b[43msc\u001b[49m\u001b[38;5;241;43m.\u001b[39;49m\u001b[43m_jvm\u001b[49m\u001b[38;5;241;43m.\u001b[39;49m\u001b[43mfunctions\u001b[49m, name)\n",
      "File \u001b[1;32mc:\\Users\\Kenneth\\AppData\\Local\\Programs\\Python\\Python310\\lib\\site-packages\\py4j\\java_gateway.py:1712\u001b[0m, in \u001b[0;36mJVMView.__getattr__\u001b[1;34m(self, name)\u001b[0m\n\u001b[0;32m   1709\u001b[0m \u001b[38;5;28;01mif\u001b[39;00m name \u001b[38;5;241m==\u001b[39m UserHelpAutoCompletion\u001b[38;5;241m.\u001b[39mKEY:\n\u001b[0;32m   1710\u001b[0m     \u001b[38;5;28;01mreturn\u001b[39;00m UserHelpAutoCompletion()\n\u001b[1;32m-> 1712\u001b[0m answer \u001b[38;5;241m=\u001b[39m \u001b[38;5;28;43mself\u001b[39;49m\u001b[38;5;241;43m.\u001b[39;49m\u001b[43m_gateway_client\u001b[49m\u001b[38;5;241;43m.\u001b[39;49m\u001b[43msend_command\u001b[49m\u001b[43m(\u001b[49m\n\u001b[0;32m   1713\u001b[0m \u001b[43m    \u001b[49m\u001b[43mproto\u001b[49m\u001b[38;5;241;43m.\u001b[39;49m\u001b[43mREFLECTION_COMMAND_NAME\u001b[49m\u001b[43m \u001b[49m\u001b[38;5;241;43m+\u001b[39;49m\n\u001b[0;32m   1714\u001b[0m \u001b[43m    \u001b[49m\u001b[43mproto\u001b[49m\u001b[38;5;241;43m.\u001b[39;49m\u001b[43mREFL_GET_UNKNOWN_SUB_COMMAND_NAME\u001b[49m\u001b[43m \u001b[49m\u001b[38;5;241;43m+\u001b[39;49m\u001b[43m \u001b[49m\u001b[43mname\u001b[49m\u001b[43m \u001b[49m\u001b[38;5;241;43m+\u001b[39;49m\u001b[43m \u001b[49m\u001b[38;5;124;43m\"\u001b[39;49m\u001b[38;5;130;43;01m\\n\u001b[39;49;00m\u001b[38;5;124;43m\"\u001b[39;49m\u001b[43m \u001b[49m\u001b[38;5;241;43m+\u001b[39;49m\u001b[43m \u001b[49m\u001b[38;5;28;43mself\u001b[39;49m\u001b[38;5;241;43m.\u001b[39;49m\u001b[43m_id\u001b[49m\u001b[43m \u001b[49m\u001b[38;5;241;43m+\u001b[39;49m\n\u001b[0;32m   1715\u001b[0m \u001b[43m    \u001b[49m\u001b[38;5;124;43m\"\u001b[39;49m\u001b[38;5;130;43;01m\\n\u001b[39;49;00m\u001b[38;5;124;43m\"\u001b[39;49m\u001b[43m \u001b[49m\u001b[38;5;241;43m+\u001b[39;49m\u001b[43m \u001b[49m\u001b[43mproto\u001b[49m\u001b[38;5;241;43m.\u001b[39;49m\u001b[43mEND_COMMAND_PART\u001b[49m\u001b[43m)\u001b[49m\n\u001b[0;32m   1716\u001b[0m \u001b[38;5;28;01mif\u001b[39;00m answer \u001b[38;5;241m==\u001b[39m proto\u001b[38;5;241m.\u001b[39mSUCCESS_PACKAGE:\n\u001b[0;32m   1717\u001b[0m     \u001b[38;5;28;01mreturn\u001b[39;00m JavaPackage(name, \u001b[38;5;28mself\u001b[39m\u001b[38;5;241m.\u001b[39m_gateway_client, jvm_id\u001b[38;5;241m=\u001b[39m\u001b[38;5;28mself\u001b[39m\u001b[38;5;241m.\u001b[39m_id)\n",
      "File \u001b[1;32mc:\\Users\\Kenneth\\AppData\\Local\\Programs\\Python\\Python310\\lib\\site-packages\\py4j\\java_gateway.py:1036\u001b[0m, in \u001b[0;36mGatewayClient.send_command\u001b[1;34m(self, command, retry, binary)\u001b[0m\n\u001b[0;32m   1015\u001b[0m \u001b[38;5;28;01mdef\u001b[39;00m\u001b[38;5;250m \u001b[39m\u001b[38;5;21msend_command\u001b[39m(\u001b[38;5;28mself\u001b[39m, command, retry\u001b[38;5;241m=\u001b[39m\u001b[38;5;28;01mTrue\u001b[39;00m, binary\u001b[38;5;241m=\u001b[39m\u001b[38;5;28;01mFalse\u001b[39;00m):\n\u001b[0;32m   1016\u001b[0m \u001b[38;5;250m    \u001b[39m\u001b[38;5;124;03m\"\"\"Sends a command to the JVM. This method is not intended to be\u001b[39;00m\n\u001b[0;32m   1017\u001b[0m \u001b[38;5;124;03m       called directly by Py4J users. It is usually called by\u001b[39;00m\n\u001b[0;32m   1018\u001b[0m \u001b[38;5;124;03m       :class:`JavaMember` instances.\u001b[39;00m\n\u001b[1;32m   (...)\u001b[0m\n\u001b[0;32m   1034\u001b[0m \u001b[38;5;124;03m     if `binary` is `True`.\u001b[39;00m\n\u001b[0;32m   1035\u001b[0m \u001b[38;5;124;03m    \"\"\"\u001b[39;00m\n\u001b[1;32m-> 1036\u001b[0m     connection \u001b[38;5;241m=\u001b[39m \u001b[38;5;28;43mself\u001b[39;49m\u001b[38;5;241;43m.\u001b[39;49m\u001b[43m_get_connection\u001b[49m\u001b[43m(\u001b[49m\u001b[43m)\u001b[49m\n\u001b[0;32m   1037\u001b[0m     \u001b[38;5;28;01mtry\u001b[39;00m:\n\u001b[0;32m   1038\u001b[0m         response \u001b[38;5;241m=\u001b[39m connection\u001b[38;5;241m.\u001b[39msend_command(command)\n",
      "File \u001b[1;32mc:\\Users\\Kenneth\\AppData\\Local\\Programs\\Python\\Python310\\lib\\site-packages\\py4j\\clientserver.py:284\u001b[0m, in \u001b[0;36mJavaClient._get_connection\u001b[1;34m(self)\u001b[0m\n\u001b[0;32m    281\u001b[0m     \u001b[38;5;28;01mpass\u001b[39;00m\n\u001b[0;32m    283\u001b[0m \u001b[38;5;28;01mif\u001b[39;00m connection \u001b[38;5;129;01mis\u001b[39;00m \u001b[38;5;28;01mNone\u001b[39;00m \u001b[38;5;129;01mor\u001b[39;00m connection\u001b[38;5;241m.\u001b[39msocket \u001b[38;5;129;01mis\u001b[39;00m \u001b[38;5;28;01mNone\u001b[39;00m:\n\u001b[1;32m--> 284\u001b[0m     connection \u001b[38;5;241m=\u001b[39m \u001b[38;5;28;43mself\u001b[39;49m\u001b[38;5;241;43m.\u001b[39;49m\u001b[43m_create_new_connection\u001b[49m\u001b[43m(\u001b[49m\u001b[43m)\u001b[49m\n\u001b[0;32m    285\u001b[0m \u001b[38;5;28;01mreturn\u001b[39;00m connection\n",
      "File \u001b[1;32mc:\\Users\\Kenneth\\AppData\\Local\\Programs\\Python\\Python310\\lib\\site-packages\\py4j\\clientserver.py:291\u001b[0m, in \u001b[0;36mJavaClient._create_new_connection\u001b[1;34m(self)\u001b[0m\n\u001b[0;32m    287\u001b[0m \u001b[38;5;28;01mdef\u001b[39;00m\u001b[38;5;250m \u001b[39m\u001b[38;5;21m_create_new_connection\u001b[39m(\u001b[38;5;28mself\u001b[39m):\n\u001b[0;32m    288\u001b[0m     connection \u001b[38;5;241m=\u001b[39m ClientServerConnection(\n\u001b[0;32m    289\u001b[0m         \u001b[38;5;28mself\u001b[39m\u001b[38;5;241m.\u001b[39mjava_parameters, \u001b[38;5;28mself\u001b[39m\u001b[38;5;241m.\u001b[39mpython_parameters,\n\u001b[0;32m    290\u001b[0m         \u001b[38;5;28mself\u001b[39m\u001b[38;5;241m.\u001b[39mgateway_property, \u001b[38;5;28mself\u001b[39m)\n\u001b[1;32m--> 291\u001b[0m     \u001b[43mconnection\u001b[49m\u001b[38;5;241;43m.\u001b[39;49m\u001b[43mconnect_to_java_server\u001b[49m\u001b[43m(\u001b[49m\u001b[43m)\u001b[49m\n\u001b[0;32m    292\u001b[0m     \u001b[38;5;28mself\u001b[39m\u001b[38;5;241m.\u001b[39mset_thread_connection(connection)\n\u001b[0;32m    293\u001b[0m     \u001b[38;5;28;01mreturn\u001b[39;00m connection\n",
      "File \u001b[1;32mc:\\Users\\Kenneth\\AppData\\Local\\Programs\\Python\\Python310\\lib\\site-packages\\py4j\\clientserver.py:438\u001b[0m, in \u001b[0;36mClientServerConnection.connect_to_java_server\u001b[1;34m(self)\u001b[0m\n\u001b[0;32m    435\u001b[0m \u001b[38;5;28;01mif\u001b[39;00m \u001b[38;5;28mself\u001b[39m\u001b[38;5;241m.\u001b[39mssl_context:\n\u001b[0;32m    436\u001b[0m     \u001b[38;5;28mself\u001b[39m\u001b[38;5;241m.\u001b[39msocket \u001b[38;5;241m=\u001b[39m \u001b[38;5;28mself\u001b[39m\u001b[38;5;241m.\u001b[39mssl_context\u001b[38;5;241m.\u001b[39mwrap_socket(\n\u001b[0;32m    437\u001b[0m         \u001b[38;5;28mself\u001b[39m\u001b[38;5;241m.\u001b[39msocket, server_hostname\u001b[38;5;241m=\u001b[39m\u001b[38;5;28mself\u001b[39m\u001b[38;5;241m.\u001b[39mjava_address)\n\u001b[1;32m--> 438\u001b[0m \u001b[38;5;28;43mself\u001b[39;49m\u001b[38;5;241;43m.\u001b[39;49m\u001b[43msocket\u001b[49m\u001b[38;5;241;43m.\u001b[39;49m\u001b[43mconnect\u001b[49m\u001b[43m(\u001b[49m\u001b[43m(\u001b[49m\u001b[38;5;28;43mself\u001b[39;49m\u001b[38;5;241;43m.\u001b[39;49m\u001b[43mjava_address\u001b[49m\u001b[43m,\u001b[49m\u001b[43m \u001b[49m\u001b[38;5;28;43mself\u001b[39;49m\u001b[38;5;241;43m.\u001b[39;49m\u001b[43mjava_port\u001b[49m\u001b[43m)\u001b[49m\u001b[43m)\u001b[49m\n\u001b[0;32m    439\u001b[0m \u001b[38;5;28mself\u001b[39m\u001b[38;5;241m.\u001b[39mstream \u001b[38;5;241m=\u001b[39m \u001b[38;5;28mself\u001b[39m\u001b[38;5;241m.\u001b[39msocket\u001b[38;5;241m.\u001b[39mmakefile(\u001b[38;5;124m\"\u001b[39m\u001b[38;5;124mrb\u001b[39m\u001b[38;5;124m\"\u001b[39m)\n\u001b[0;32m    440\u001b[0m \u001b[38;5;28mself\u001b[39m\u001b[38;5;241m.\u001b[39mis_connected \u001b[38;5;241m=\u001b[39m \u001b[38;5;28;01mTrue\u001b[39;00m\n",
      "\u001b[1;31mConnectionRefusedError\u001b[0m: [WinError 10061] No connection could be made because the target machine actively refused it"
     ]
    }
   ],
   "source": [
    "from pyspark.ml.tuning import ParamGridBuilder, CrossValidator\n",
    "from pyspark.ml.evaluation import MulticlassClassificationEvaluator\n",
    "from pyspark.ml.classification import MultilayerPerceptronClassifier\n",
    "from pyspark.sql import functions as F\n",
    "\n",
    "paramGrid = ParamGridBuilder() \\\n",
    "    .addGrid(mlp.layers, [\n",
    "        [input_size, 32, 16, 2]\n",
    "    ]) \\\n",
    "    .addGrid(mlp.blockSize, [64, 128]) \\\n",
    "    .build()\n",
    "\n",
    "cv = CrossValidator(\n",
    "    estimator=mlp,\n",
    "    estimatorParamMaps=paramGrid,\n",
    "    evaluator=evaluator,\n",
    "    numFolds=3,\n",
    "    parallelism=1\n",
    ")\n",
    "\n",
    "cv_model = cv.fit(train_df)\n",
    "tuned_predictions = cv_model.bestModel.transform(test_df)\n",
    "\n",
    "tuned_accuracy = evaluator.evaluate(tuned_predictions)\n",
    "print(f\"Tuned MLP Accuracy: {tuned_accuracy:.4f}\")\n",
    "\n",
    "tuned_predictions.select(\"label\", \"label_index\", \"probability\", \"prediction\").show(5, truncate=False)"
   ]
  },
  {
   "cell_type": "markdown",
   "metadata": {
    "application/vnd.databricks.v1+cell": {
     "cellMetadata": {},
     "inputWidgets": {},
     "nuid": "2745659a-e466-463c-8ffd-8438525b089d",
     "showTitle": false,
     "tableResultSettingsMap": {},
     "title": ""
    },
    "id": "O_f4FngJ5tOD"
   },
   "source": [
    "# Hyperparameter Tuning & Cross-Validation"
   ]
  },
  {
   "cell_type": "code",
   "execution_count": 0,
   "metadata": {
    "application/vnd.databricks.v1+cell": {
     "cellMetadata": {},
     "inputWidgets": {},
     "nuid": "b94701bd-edd8-4657-b039-c3bac6aad0fc",
     "showTitle": false,
     "tableResultSettingsMap": {},
     "title": ""
    },
    "id": "MHoLi5yvNHjz"
   },
   "outputs": [],
   "source": [
    "# to be done"
   ]
  },
  {
   "cell_type": "markdown",
   "metadata": {
    "application/vnd.databricks.v1+cell": {
     "cellMetadata": {},
     "inputWidgets": {},
     "nuid": "8ff4bec4-c10d-4b3e-9bbb-47c311d67481",
     "showTitle": false,
     "tableResultSettingsMap": {},
     "title": ""
    },
    "id": "sVSpNYqJ52bF"
   },
   "source": [
    "# Model Comparison"
   ]
  },
  {
   "cell_type": "code",
   "execution_count": 0,
   "metadata": {
    "application/vnd.databricks.v1+cell": {
     "cellMetadata": {},
     "inputWidgets": {},
     "nuid": "2675bcec-7c68-490c-a503-698301480209",
     "showTitle": false,
     "tableResultSettingsMap": {},
     "title": ""
    }
   },
   "outputs": [],
   "source": []
  },
  {
   "cell_type": "markdown",
   "metadata": {
    "application/vnd.databricks.v1+cell": {
     "cellMetadata": {},
     "inputWidgets": {},
     "nuid": "52a6158a-6cda-4227-8d3e-8d84445fab67",
     "showTitle": false,
     "tableResultSettingsMap": {},
     "title": ""
    },
    "id": "phT0fenb56Nq"
   },
   "source": [
    "write interpretations here"
   ]
  }
 ],
 "metadata": {
  "application/vnd.databricks.v1+notebook": {
   "computePreferences": null,
   "dashboards": [],
   "environmentMetadata": null,
   "inputWidgetPreferences": null,
   "language": "python",
   "notebookMetadata": {
    "pythonIndentUnit": 4
   },
   "notebookName": "V_2_BT4221_Group_Project",
   "widgets": {}
  },
  "colab": {
   "provenance": [],
   "toc_visible": true
  },
  "kernelspec": {
   "display_name": "Python 3",
   "language": "python",
   "name": "python3"
  },
  "language_info": {
   "codemirror_mode": {
    "name": "ipython",
    "version": 3
   },
   "file_extension": ".py",
   "mimetype": "text/x-python",
   "name": "python",
   "nbconvert_exporter": "python",
   "pygments_lexer": "ipython3",
   "version": "3.10.11"
  }
 },
 "nbformat": 4,
 "nbformat_minor": 0
}
