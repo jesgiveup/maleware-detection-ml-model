{
  "cells": [
    {
      "cell_type": "markdown",
      "metadata": {
        "id": "MuHMusOPE9ag"
      },
      "source": [
        "# Load Dataset"
      ]
    },
    {
      "cell_type": "code",
      "execution_count": 1,
      "metadata": {
        "colab": {
          "base_uri": "https://localhost:8080/"
        },
        "id": "U9d8CGDIJMeN",
        "outputId": "6e375b9c-f67a-494c-9065-176e66108b1b"
      },
      "outputs": [
        {
          "name": "stdout",
          "output_type": "stream",
          "text": [
            "Requirement already satisfied: pyspark in c:\\users\\jessi\\desktop\\bt4221\\maleware-detection-ml-model\\.venv\\lib\\site-packages (3.5.5)\n",
            "Requirement already satisfied: py4j==0.10.9.7 in c:\\users\\jessi\\desktop\\bt4221\\maleware-detection-ml-model\\.venv\\lib\\site-packages (from pyspark) (0.10.9.7)\n",
            "Note: you may need to restart the kernel to use updated packages.\n",
            "Requirement already satisfied: seaborn in c:\\users\\jessi\\desktop\\bt4221\\maleware-detection-ml-model\\.venv\\lib\\site-packages (0.13.2)\n",
            "Requirement already satisfied: numpy!=1.24.0,>=1.20 in c:\\users\\jessi\\desktop\\bt4221\\maleware-detection-ml-model\\.venv\\lib\\site-packages (from seaborn) (2.2.4)\n",
            "Requirement already satisfied: pandas>=1.2 in c:\\users\\jessi\\desktop\\bt4221\\maleware-detection-ml-model\\.venv\\lib\\site-packages (from seaborn) (2.2.3)\n",
            "Requirement already satisfied: matplotlib!=3.6.1,>=3.4 in c:\\users\\jessi\\desktop\\bt4221\\maleware-detection-ml-model\\.venv\\lib\\site-packages (from seaborn) (3.10.1)\n",
            "Requirement already satisfied: contourpy>=1.0.1 in c:\\users\\jessi\\desktop\\bt4221\\maleware-detection-ml-model\\.venv\\lib\\site-packages (from matplotlib!=3.6.1,>=3.4->seaborn) (1.3.1)\n",
            "Requirement already satisfied: cycler>=0.10 in c:\\users\\jessi\\desktop\\bt4221\\maleware-detection-ml-model\\.venv\\lib\\site-packages (from matplotlib!=3.6.1,>=3.4->seaborn) (0.12.1)\n",
            "Requirement already satisfied: fonttools>=4.22.0 in c:\\users\\jessi\\desktop\\bt4221\\maleware-detection-ml-model\\.venv\\lib\\site-packages (from matplotlib!=3.6.1,>=3.4->seaborn) (4.57.0)\n",
            "Requirement already satisfied: kiwisolver>=1.3.1 in c:\\users\\jessi\\desktop\\bt4221\\maleware-detection-ml-model\\.venv\\lib\\site-packages (from matplotlib!=3.6.1,>=3.4->seaborn) (1.4.8)\n",
            "Requirement already satisfied: packaging>=20.0 in c:\\users\\jessi\\desktop\\bt4221\\maleware-detection-ml-model\\.venv\\lib\\site-packages (from matplotlib!=3.6.1,>=3.4->seaborn) (24.2)\n",
            "Requirement already satisfied: pillow>=8 in c:\\users\\jessi\\desktop\\bt4221\\maleware-detection-ml-model\\.venv\\lib\\site-packages (from matplotlib!=3.6.1,>=3.4->seaborn) (11.1.0)\n",
            "Requirement already satisfied: pyparsing>=2.3.1 in c:\\users\\jessi\\desktop\\bt4221\\maleware-detection-ml-model\\.venv\\lib\\site-packages (from matplotlib!=3.6.1,>=3.4->seaborn) (3.2.3)\n",
            "Requirement already satisfied: python-dateutil>=2.7 in c:\\users\\jessi\\desktop\\bt4221\\maleware-detection-ml-model\\.venv\\lib\\site-packages (from matplotlib!=3.6.1,>=3.4->seaborn) (2.9.0.post0)\n",
            "Requirement already satisfied: pytz>=2020.1 in c:\\users\\jessi\\desktop\\bt4221\\maleware-detection-ml-model\\.venv\\lib\\site-packages (from pandas>=1.2->seaborn) (2025.2)\n",
            "Requirement already satisfied: tzdata>=2022.7 in c:\\users\\jessi\\desktop\\bt4221\\maleware-detection-ml-model\\.venv\\lib\\site-packages (from pandas>=1.2->seaborn) (2025.2)\n",
            "Requirement already satisfied: six>=1.5 in c:\\users\\jessi\\desktop\\bt4221\\maleware-detection-ml-model\\.venv\\lib\\site-packages (from python-dateutil>=2.7->matplotlib!=3.6.1,>=3.4->seaborn) (1.17.0)\n",
            "Note: you may need to restart the kernel to use updated packages.\n",
            "Requirement already satisfied: seaborn in c:\\users\\jessi\\desktop\\bt4221\\maleware-detection-ml-model\\.venv\\lib\\site-packages (0.13.2)\n",
            "Requirement already satisfied: matplotlib in c:\\users\\jessi\\desktop\\bt4221\\maleware-detection-ml-model\\.venv\\lib\\site-packages (3.10.1)\n",
            "Requirement already satisfied: pandas in c:\\users\\jessi\\desktop\\bt4221\\maleware-detection-ml-model\\.venv\\lib\\site-packages (2.2.3)\n",
            "Requirement already satisfied: numpy in c:\\users\\jessi\\desktop\\bt4221\\maleware-detection-ml-model\\.venv\\lib\\site-packages (2.2.4)\n",
            "Requirement already satisfied: contourpy>=1.0.1 in c:\\users\\jessi\\desktop\\bt4221\\maleware-detection-ml-model\\.venv\\lib\\site-packages (from matplotlib) (1.3.1)\n",
            "Requirement already satisfied: cycler>=0.10 in c:\\users\\jessi\\desktop\\bt4221\\maleware-detection-ml-model\\.venv\\lib\\site-packages (from matplotlib) (0.12.1)\n",
            "Requirement already satisfied: fonttools>=4.22.0 in c:\\users\\jessi\\desktop\\bt4221\\maleware-detection-ml-model\\.venv\\lib\\site-packages (from matplotlib) (4.57.0)\n",
            "Requirement already satisfied: kiwisolver>=1.3.1 in c:\\users\\jessi\\desktop\\bt4221\\maleware-detection-ml-model\\.venv\\lib\\site-packages (from matplotlib) (1.4.8)\n",
            "Requirement already satisfied: packaging>=20.0 in c:\\users\\jessi\\desktop\\bt4221\\maleware-detection-ml-model\\.venv\\lib\\site-packages (from matplotlib) (24.2)\n",
            "Requirement already satisfied: pillow>=8 in c:\\users\\jessi\\desktop\\bt4221\\maleware-detection-ml-model\\.venv\\lib\\site-packages (from matplotlib) (11.1.0)\n",
            "Requirement already satisfied: pyparsing>=2.3.1 in c:\\users\\jessi\\desktop\\bt4221\\maleware-detection-ml-model\\.venv\\lib\\site-packages (from matplotlib) (3.2.3)\n",
            "Requirement already satisfied: python-dateutil>=2.7 in c:\\users\\jessi\\desktop\\bt4221\\maleware-detection-ml-model\\.venv\\lib\\site-packages (from matplotlib) (2.9.0.post0)\n",
            "Requirement already satisfied: pytz>=2020.1 in c:\\users\\jessi\\desktop\\bt4221\\maleware-detection-ml-model\\.venv\\lib\\site-packages (from pandas) (2025.2)\n",
            "Requirement already satisfied: tzdata>=2022.7 in c:\\users\\jessi\\desktop\\bt4221\\maleware-detection-ml-model\\.venv\\lib\\site-packages (from pandas) (2025.2)\n",
            "Requirement already satisfied: six>=1.5 in c:\\users\\jessi\\desktop\\bt4221\\maleware-detection-ml-model\\.venv\\lib\\site-packages (from python-dateutil>=2.7->matplotlib) (1.17.0)\n",
            "Note: you may need to restart the kernel to use updated packages.\n"
          ]
        }
      ],
      "source": [
        "%pip install pyspark\n",
        "%pip install seaborn\n",
        "%pip install seaborn matplotlib pandas numpy\n"
      ]
    },
    {
      "cell_type": "code",
      "execution_count": 2,
      "metadata": {
        "id": "wza_1GzTtyur"
      },
      "outputs": [],
      "source": [
        "# imports\n",
        "from pyspark.sql import SparkSession\n",
        "from pyspark.sql import functions as F\n",
        "from pyspark.sql.functions import split, col, count, when, sum, expr, udf\n",
        "from pyspark.sql.types import FloatType, DoubleType\n",
        "from pyspark.sql.window import Window\n",
        "from pyspark.ml.clustering import KMeans\n",
        "from pyspark.ml.feature import VectorAssembler, StandardScaler\n",
        "from pyspark.ml import Pipeline\n",
        "\n",
        "import math\n",
        "import seaborn as sns\n",
        "import matplotlib.pyplot as plt\n",
        "import pandas as pd\n",
        "import numpy as np\n",
        "\n",
        "# from google.colab import files"
      ]
    },
    {
      "cell_type": "code",
      "execution_count": 3,
      "metadata": {},
      "outputs": [],
      "source": [
        "import os\n",
        "os.environ[\"JAVA_HOME\"] = \"C:\\\\Program Files\\\\Eclipse Adoptium\\\\jdk-8.0.442.6-hotspot\""
      ]
    },
    {
      "cell_type": "code",
      "execution_count": 4,
      "metadata": {
        "colab": {
          "base_uri": "https://localhost:8080/"
        },
        "id": "bHvifmtp9W8I",
        "outputId": "a1fd5426-fc7b-4d24-ee69-e9a5f0644a1c"
      },
      "outputs": [
        {
          "name": "stdout",
          "output_type": "stream",
          "text": [
            "✅ Spark session created.\n"
          ]
        }
      ],
      "source": [
        "from pyspark.sql import SparkSession\n",
        "\n",
        "# Check if a Spark session already exists\n",
        "spark = SparkSession.getActiveSession()\n",
        "if spark is None:\n",
        "    spark = SparkSession.builder.appName(\"NetTraffic\").getOrCreate()\n",
        "    print(\"✅ Spark session created.\")\n",
        "else:\n",
        "    print(\"🔄 Using existing Spark session.\")"
      ]
    },
    {
      "cell_type": "code",
      "execution_count": 5,
      "metadata": {},
      "outputs": [],
      "source": [
        "# Path to the file (same folder as notebook)\n",
        "file_path = \"dataset_malware.csv\" # change name if needed\n",
        "\n",
        "# Load the CSV into a Spark DataFrame\n",
        "df = spark.read.csv(file_path, header=True, inferSchema=True, sep=\"|\")"
      ]
    },
    {
      "cell_type": "markdown",
      "metadata": {
        "id": "7imKjAzND901"
      },
      "source": [
        "# Light Data Exploration"
      ]
    },
    {
      "cell_type": "markdown",
      "metadata": {
        "id": "KJExQrJbDw9S"
      },
      "source": [
        "## Display first 5 rows in dataset"
      ]
    },
    {
      "cell_type": "code",
      "execution_count": 33,
      "metadata": {
        "colab": {
          "base_uri": "https://localhost:8080/"
        },
        "collapsed": true,
        "id": "cTmZ3Gygzz4S",
        "outputId": "b967f68f-98ca-4d05-fda5-fd8dfe52cca1"
      },
      "outputs": [
        {
          "name": "stdout",
          "output_type": "stream",
          "text": [
            "+-------------------+------------------+-------------+---------+--------------+---------+-----+-------+--------+----------+----------+----------+----------+----------+------------+-------+---------+-------------+---------+-------------+--------------+---------------+--------------+\n",
            "|                 ts|               uid|    id.orig_h|id.orig_p|     id.resp_h|id.resp_p|proto|service|duration|orig_bytes|resp_bytes|conn_state|local_orig|local_resp|missed_bytes|history|orig_pkts|orig_ip_bytes|resp_pkts|resp_ip_bytes|tunnel_parents|          label|detailed-label|\n",
            "+-------------------+------------------+-------------+---------+--------------+---------+-----+-------+--------+----------+----------+----------+----------+----------+------------+-------+---------+-------------+---------+-------------+--------------+---------------+--------------+\n",
            "|1.545402842863612E9|CdNmOg26ZIaBRzPvWj|192.168.1.196|  59932.0|104.248.160.24|     80.0|  tcp|      -|3.097754|         0|         0|        S0|         -|         -|         0.0|      S|      3.0|        180.0|      0.0|          0.0|             -|Malicious   C&C|          NULL|\n",
            "|1.545402850041294E9|CgzGV333k9WCximeu8|192.168.1.196|  59932.0|104.248.160.24|     80.0|  tcp|      -|       -|         -|         -|        S0|         -|         -|         0.0|      S|      1.0|         60.0|      0.0|          0.0|             -|Malicious   C&C|          NULL|\n",
            "|1.545402858441479E9|CLm5Pd3ZnqmYVjrZ44|192.168.1.196|  59932.0|104.248.160.24|     80.0|  tcp|      -|       -|         -|         -|        S0|         -|         -|         0.0|      S|      1.0|         60.0|      0.0|          0.0|             -|Malicious   C&C|          NULL|\n",
            "|1.545402853913069E9|CDn2pd1rDD1lCMXAia|192.168.1.196|  35883.0|   192.168.1.1|     53.0|  udp|    dns|5.005148|        78|         0|        S0|         -|         -|         0.0|      D|      2.0|        134.0|      0.0|          0.0|             -|         Benign|             -|\n",
            "| 1.54540284390254E9|C1NKkV3tB4rImzbpDj|192.168.1.196|  43531.0|   192.168.1.1|     53.0|  udp|    dns|5.005145|        78|         0|        S0|         -|         -|         0.0|      D|      2.0|        134.0|      0.0|          0.0|             -|         Benign|             -|\n",
            "+-------------------+------------------+-------------+---------+--------------+---------+-----+-------+--------+----------+----------+----------+----------+----------+------------+-------+---------+-------------+---------+-------------+--------------+---------------+--------------+\n",
            "only showing top 5 rows\n",
            "\n"
          ]
        }
      ],
      "source": [
        "# print(df_split.head())\n",
        "# Show first 5 rows\n",
        "df.show(5)"
      ]
    },
    {
      "cell_type": "markdown",
      "metadata": {
        "id": "LlXAE87KCnu9"
      },
      "source": [
        "## Show schema to identify column types"
      ]
    },
    {
      "cell_type": "code",
      "execution_count": 34,
      "metadata": {
        "colab": {
          "base_uri": "https://localhost:8080/"
        },
        "collapsed": true,
        "id": "ocADM6cYz2kk",
        "outputId": "52e67fb5-554c-4b7f-a1ba-105e697feebc"
      },
      "outputs": [
        {
          "name": "stdout",
          "output_type": "stream",
          "text": [
            "root\n",
            " |-- ts: double (nullable = true)\n",
            " |-- uid: string (nullable = true)\n",
            " |-- id.orig_h: string (nullable = true)\n",
            " |-- id.orig_p: double (nullable = true)\n",
            " |-- id.resp_h: string (nullable = true)\n",
            " |-- id.resp_p: double (nullable = true)\n",
            " |-- proto: string (nullable = true)\n",
            " |-- service: string (nullable = true)\n",
            " |-- duration: string (nullable = true)\n",
            " |-- orig_bytes: string (nullable = true)\n",
            " |-- resp_bytes: string (nullable = true)\n",
            " |-- conn_state: string (nullable = true)\n",
            " |-- local_orig: string (nullable = true)\n",
            " |-- local_resp: string (nullable = true)\n",
            " |-- missed_bytes: double (nullable = true)\n",
            " |-- history: string (nullable = true)\n",
            " |-- orig_pkts: double (nullable = true)\n",
            " |-- orig_ip_bytes: double (nullable = true)\n",
            " |-- resp_pkts: double (nullable = true)\n",
            " |-- resp_ip_bytes: double (nullable = true)\n",
            " |-- tunnel_parents: string (nullable = true)\n",
            " |-- label: string (nullable = true)\n",
            " |-- detailed-label: string (nullable = true)\n",
            "\n"
          ]
        }
      ],
      "source": [
        "df.printSchema()"
      ]
    },
    {
      "cell_type": "markdown",
      "metadata": {},
      "source": [
        "## Check number of rows and columns"
      ]
    },
    {
      "cell_type": "code",
      "execution_count": 35,
      "metadata": {},
      "outputs": [
        {
          "name": "stdout",
          "output_type": "stream",
          "text": [
            "Number of rows: 10447787\n",
            "Number of columns: 23\n"
          ]
        }
      ],
      "source": [
        "num_rows = df.count()\n",
        "print(f\"Number of rows: {num_rows}\")\n",
        "num_columns = len(df.columns)\n",
        "print(f\"Number of columns: {num_columns}\")"
      ]
    },
    {
      "cell_type": "markdown",
      "metadata": {},
      "source": [
        "# Data Cleaning"
      ]
    },
    {
      "cell_type": "markdown",
      "metadata": {
        "id": "oE2c8Gp4RIIM"
      },
      "source": [
        "## Cast '-' to NaN change column names so that Spark will not misinterpret them"
      ]
    },
    {
      "cell_type": "code",
      "execution_count": 6,
      "metadata": {
        "colab": {
          "base_uri": "https://localhost:8080/"
        },
        "collapsed": true,
        "id": "GUlLAcOpRITz",
        "outputId": "2aa93cba-8a1e-41eb-b1fc-58f440aa63a2"
      },
      "outputs": [
        {
          "name": "stdout",
          "output_type": "stream",
          "text": [
            "+-------------------+------------------+-------------+---------+--------------+---------+-----+-------+--------+----------+----------+----------+----------+----------+------------+-------+---------+-------------+---------+-------------+--------------+---------------+--------------+\n",
            "|                 ts|               uid|    id_orig_h|id_orig_p|     id_resp_h|id_resp_p|proto|service|duration|orig_bytes|resp_bytes|conn_state|local_orig|local_resp|missed_bytes|history|orig_pkts|orig_ip_bytes|resp_pkts|resp_ip_bytes|tunnel_parents|          label|detailed-label|\n",
            "+-------------------+------------------+-------------+---------+--------------+---------+-----+-------+--------+----------+----------+----------+----------+----------+------------+-------+---------+-------------+---------+-------------+--------------+---------------+--------------+\n",
            "|1.545402842863612E9|CdNmOg26ZIaBRzPvWj|192.168.1.196|  59932.0|104.248.160.24|     80.0|  tcp|   NULL|3.097754|         0|         0|        S0|      NULL|      NULL|         0.0|      S|      3.0|        180.0|      0.0|          0.0|          NULL|Malicious   C&C|          NULL|\n",
            "|1.545402850041294E9|CgzGV333k9WCximeu8|192.168.1.196|  59932.0|104.248.160.24|     80.0|  tcp|   NULL|    NULL|      NULL|      NULL|        S0|      NULL|      NULL|         0.0|      S|      1.0|         60.0|      0.0|          0.0|          NULL|Malicious   C&C|          NULL|\n",
            "|1.545402858441479E9|CLm5Pd3ZnqmYVjrZ44|192.168.1.196|  59932.0|104.248.160.24|     80.0|  tcp|   NULL|    NULL|      NULL|      NULL|        S0|      NULL|      NULL|         0.0|      S|      1.0|         60.0|      0.0|          0.0|          NULL|Malicious   C&C|          NULL|\n",
            "|1.545402853913069E9|CDn2pd1rDD1lCMXAia|192.168.1.196|  35883.0|   192.168.1.1|     53.0|  udp|    dns|5.005148|        78|         0|        S0|      NULL|      NULL|         0.0|      D|      2.0|        134.0|      0.0|          0.0|          NULL|         Benign|          NULL|\n",
            "| 1.54540284390254E9|C1NKkV3tB4rImzbpDj|192.168.1.196|  43531.0|   192.168.1.1|     53.0|  udp|    dns|5.005145|        78|         0|        S0|      NULL|      NULL|         0.0|      D|      2.0|        134.0|      0.0|          0.0|          NULL|         Benign|          NULL|\n",
            "+-------------------+------------------+-------------+---------+--------------+---------+-----+-------+--------+----------+----------+----------+----------+----------+------------+-------+---------+-------------+---------+-------------+--------------+---------------+--------------+\n",
            "only showing top 5 rows\n",
            "\n"
          ]
        }
      ],
      "source": [
        "from pyspark.sql.functions import col, when\n",
        "\n",
        "for column in df.columns:\n",
        "    df = df.withColumn(column, when(col(f\"`{column}`\") == \"-\", None).otherwise(col(f\"`{column}`\")))\n",
        "\n",
        "# Rename columns to replace dots with underscores\n",
        "new_column_names = [c.replace(\".\", \"_\") for c in df.columns]\n",
        "df = df.toDF(*new_column_names)\n",
        "\n",
        "# Check\n",
        "df.show(5)"
      ]
    },
    {
      "cell_type": "markdown",
      "metadata": {},
      "source": [
        "## Dealing with missing values"
      ]
    },
    {
      "cell_type": "code",
      "execution_count": 7,
      "metadata": {},
      "outputs": [
        {
          "data": {
            "text/html": [
              "<div>\n",
              "<style scoped>\n",
              "    .dataframe tbody tr th:only-of-type {\n",
              "        vertical-align: middle;\n",
              "    }\n",
              "\n",
              "    .dataframe tbody tr th {\n",
              "        vertical-align: top;\n",
              "    }\n",
              "\n",
              "    .dataframe thead th {\n",
              "        text-align: right;\n",
              "    }\n",
              "</style>\n",
              "<table border=\"1\" class=\"dataframe\">\n",
              "  <thead>\n",
              "    <tr style=\"text-align: right;\">\n",
              "      <th></th>\n",
              "      <th>Count</th>\n",
              "    </tr>\n",
              "  </thead>\n",
              "  <tbody>\n",
              "    <tr>\n",
              "      <th>ts</th>\n",
              "      <td>0</td>\n",
              "    </tr>\n",
              "    <tr>\n",
              "      <th>uid</th>\n",
              "      <td>0</td>\n",
              "    </tr>\n",
              "    <tr>\n",
              "      <th>id_orig_h</th>\n",
              "      <td>0</td>\n",
              "    </tr>\n",
              "    <tr>\n",
              "      <th>id_orig_p</th>\n",
              "      <td>0</td>\n",
              "    </tr>\n",
              "    <tr>\n",
              "      <th>id_resp_h</th>\n",
              "      <td>0</td>\n",
              "    </tr>\n",
              "    <tr>\n",
              "      <th>id_resp_p</th>\n",
              "      <td>0</td>\n",
              "    </tr>\n",
              "    <tr>\n",
              "      <th>proto</th>\n",
              "      <td>0</td>\n",
              "    </tr>\n",
              "    <tr>\n",
              "      <th>service</th>\n",
              "      <td>10446261</td>\n",
              "    </tr>\n",
              "    <tr>\n",
              "      <th>duration</th>\n",
              "      <td>4432615</td>\n",
              "    </tr>\n",
              "    <tr>\n",
              "      <th>orig_bytes</th>\n",
              "      <td>4432615</td>\n",
              "    </tr>\n",
              "    <tr>\n",
              "      <th>resp_bytes</th>\n",
              "      <td>4432615</td>\n",
              "    </tr>\n",
              "    <tr>\n",
              "      <th>conn_state</th>\n",
              "      <td>0</td>\n",
              "    </tr>\n",
              "    <tr>\n",
              "      <th>local_orig</th>\n",
              "      <td>10447787</td>\n",
              "    </tr>\n",
              "    <tr>\n",
              "      <th>local_resp</th>\n",
              "      <td>10447787</td>\n",
              "    </tr>\n",
              "    <tr>\n",
              "      <th>missed_bytes</th>\n",
              "      <td>0</td>\n",
              "    </tr>\n",
              "    <tr>\n",
              "      <th>history</th>\n",
              "      <td>1638</td>\n",
              "    </tr>\n",
              "    <tr>\n",
              "      <th>orig_pkts</th>\n",
              "      <td>0</td>\n",
              "    </tr>\n",
              "    <tr>\n",
              "      <th>orig_ip_bytes</th>\n",
              "      <td>0</td>\n",
              "    </tr>\n",
              "    <tr>\n",
              "      <th>resp_pkts</th>\n",
              "      <td>0</td>\n",
              "    </tr>\n",
              "    <tr>\n",
              "      <th>resp_ip_bytes</th>\n",
              "      <td>0</td>\n",
              "    </tr>\n",
              "    <tr>\n",
              "      <th>tunnel_parents</th>\n",
              "      <td>10447787</td>\n",
              "    </tr>\n",
              "    <tr>\n",
              "      <th>label</th>\n",
              "      <td>0</td>\n",
              "    </tr>\n",
              "    <tr>\n",
              "      <th>detailed-label</th>\n",
              "      <td>10447775</td>\n",
              "    </tr>\n",
              "  </tbody>\n",
              "</table>\n",
              "</div>"
            ],
            "text/plain": [
              "                   Count\n",
              "ts                     0\n",
              "uid                    0\n",
              "id_orig_h              0\n",
              "id_orig_p              0\n",
              "id_resp_h              0\n",
              "id_resp_p              0\n",
              "proto                  0\n",
              "service         10446261\n",
              "duration         4432615\n",
              "orig_bytes       4432615\n",
              "resp_bytes       4432615\n",
              "conn_state             0\n",
              "local_orig      10447787\n",
              "local_resp      10447787\n",
              "missed_bytes           0\n",
              "history             1638\n",
              "orig_pkts              0\n",
              "orig_ip_bytes          0\n",
              "resp_pkts              0\n",
              "resp_ip_bytes          0\n",
              "tunnel_parents  10447787\n",
              "label                  0\n",
              "detailed-label  10447775"
            ]
          },
          "metadata": {},
          "output_type": "display_data"
        }
      ],
      "source": [
        "from pyspark.sql.functions import col, sum as spark_sum\n",
        "\n",
        "null_values = (\n",
        "    df.select([\n",
        "        spark_sum(col(c).isNull().cast(\"int\")).alias(c)\n",
        "        for c in df.columns\n",
        "    ])\n",
        "    .toPandas()\n",
        "    .T.rename(columns={0: \"Count\"})\n",
        ")\n",
        "\n",
        "display(null_values)"
      ]
    },
    {
      "cell_type": "markdown",
      "metadata": {},
      "source": [
        "Since duration, orig_bytes, resp_bytes all have same number of null values (4432615), very likely they are from the same few rows. All three columns are critical for modelling so it is best to drop the rows containing null values in those fields.\n",
        "\n",
        "Others like service, local_orig, local_resp, tunnel_parents amd detailed_label all have more than 10446261 out of 10447787 null values. These will not help our model and will just bloat memory, so we can drop these columns.\n",
        "\n",
        "22 nulls in history can be dropped too."
      ]
    },
    {
      "cell_type": "code",
      "execution_count": 8,
      "metadata": {},
      "outputs": [
        {
          "data": {
            "text/html": [
              "<div>\n",
              "<style scoped>\n",
              "    .dataframe tbody tr th:only-of-type {\n",
              "        vertical-align: middle;\n",
              "    }\n",
              "\n",
              "    .dataframe tbody tr th {\n",
              "        vertical-align: top;\n",
              "    }\n",
              "\n",
              "    .dataframe thead th {\n",
              "        text-align: right;\n",
              "    }\n",
              "</style>\n",
              "<table border=\"1\" class=\"dataframe\">\n",
              "  <thead>\n",
              "    <tr style=\"text-align: right;\">\n",
              "      <th></th>\n",
              "      <th>Count</th>\n",
              "    </tr>\n",
              "  </thead>\n",
              "  <tbody>\n",
              "    <tr>\n",
              "      <th>ts</th>\n",
              "      <td>0</td>\n",
              "    </tr>\n",
              "    <tr>\n",
              "      <th>uid</th>\n",
              "      <td>0</td>\n",
              "    </tr>\n",
              "    <tr>\n",
              "      <th>id_orig_h</th>\n",
              "      <td>0</td>\n",
              "    </tr>\n",
              "    <tr>\n",
              "      <th>id_orig_p</th>\n",
              "      <td>0</td>\n",
              "    </tr>\n",
              "    <tr>\n",
              "      <th>id_resp_h</th>\n",
              "      <td>0</td>\n",
              "    </tr>\n",
              "    <tr>\n",
              "      <th>id_resp_p</th>\n",
              "      <td>0</td>\n",
              "    </tr>\n",
              "    <tr>\n",
              "      <th>proto</th>\n",
              "      <td>0</td>\n",
              "    </tr>\n",
              "    <tr>\n",
              "      <th>duration</th>\n",
              "      <td>0</td>\n",
              "    </tr>\n",
              "    <tr>\n",
              "      <th>orig_bytes</th>\n",
              "      <td>0</td>\n",
              "    </tr>\n",
              "    <tr>\n",
              "      <th>resp_bytes</th>\n",
              "      <td>0</td>\n",
              "    </tr>\n",
              "    <tr>\n",
              "      <th>conn_state</th>\n",
              "      <td>0</td>\n",
              "    </tr>\n",
              "    <tr>\n",
              "      <th>missed_bytes</th>\n",
              "      <td>0</td>\n",
              "    </tr>\n",
              "    <tr>\n",
              "      <th>history</th>\n",
              "      <td>0</td>\n",
              "    </tr>\n",
              "    <tr>\n",
              "      <th>orig_pkts</th>\n",
              "      <td>0</td>\n",
              "    </tr>\n",
              "    <tr>\n",
              "      <th>orig_ip_bytes</th>\n",
              "      <td>0</td>\n",
              "    </tr>\n",
              "    <tr>\n",
              "      <th>resp_pkts</th>\n",
              "      <td>0</td>\n",
              "    </tr>\n",
              "    <tr>\n",
              "      <th>resp_ip_bytes</th>\n",
              "      <td>0</td>\n",
              "    </tr>\n",
              "    <tr>\n",
              "      <th>label</th>\n",
              "      <td>0</td>\n",
              "    </tr>\n",
              "  </tbody>\n",
              "</table>\n",
              "</div>"
            ],
            "text/plain": [
              "               Count\n",
              "ts                 0\n",
              "uid                0\n",
              "id_orig_h          0\n",
              "id_orig_p          0\n",
              "id_resp_h          0\n",
              "id_resp_p          0\n",
              "proto              0\n",
              "duration           0\n",
              "orig_bytes         0\n",
              "resp_bytes         0\n",
              "conn_state         0\n",
              "missed_bytes       0\n",
              "history            0\n",
              "orig_pkts          0\n",
              "orig_ip_bytes      0\n",
              "resp_pkts          0\n",
              "resp_ip_bytes      0\n",
              "label              0"
            ]
          },
          "metadata": {},
          "output_type": "display_data"
        }
      ],
      "source": [
        "from pyspark.sql.functions import when, col\n",
        "\n",
        "# Columns to clean:\n",
        "columns_to_clean = ['duration', 'orig_bytes', 'resp_bytes', 'history']\n",
        "\n",
        "# Replace \"NULL\" or \"null\" strings with actual nulls (None)\n",
        "for c in columns_to_clean:\n",
        "    df = df.withColumn(c, when((col(c) == \"NULL\") | (col(c) == \"null\"), None).otherwise(col(c)))\n",
        "\n",
        "# Drop rows where any of these are null\n",
        "df = df.dropna(subset=columns_to_clean)\n",
        "\n",
        "from pyspark.sql.functions import col, sum as spark_sum\n",
        "\n",
        "# Drop columns with largely null values\n",
        "columns_to_drop = [\"service\", \"local_orig\", \"local_resp\", \"tunnel_parents\", \"detailed-label\"]\n",
        "df = df.drop(*columns_to_drop)\n",
        "\n",
        "\n",
        "null_values = (\n",
        "    df.select([\n",
        "        spark_sum(col(c).isNull().cast(\"int\")).alias(c)\n",
        "        for c in df.columns\n",
        "    ])\n",
        "    .toPandas()\n",
        "    .T.rename(columns={0: \"Count\"})\n",
        ")\n",
        "\n",
        "display(null_values)"
      ]
    },
    {
      "cell_type": "markdown",
      "metadata": {},
      "source": [
        "They are indeed from the same few rows. now there are 0 NULL count for duration, orig_bytes and resp_bytes."
      ]
    },
    {
      "cell_type": "markdown",
      "metadata": {},
      "source": [
        "# Deeper Data Exploration"
      ]
    },
    {
      "cell_type": "markdown",
      "metadata": {
        "id": "talBuE4C5QnW"
      },
      "source": [
        "## Checking for Distribution of Target Variable\n"
      ]
    },
    {
      "cell_type": "code",
      "execution_count": 9,
      "metadata": {
        "id": "dnJM_1MM5ZA-"
      },
      "outputs": [
        {
          "name": "stdout",
          "output_type": "stream",
          "text": [
            "+------------------+-------+\n",
            "|             label|  count|\n",
            "+------------------+-------+\n",
            "|            Benign|4108318|\n",
            "|   Malicious   C&C|     33|\n",
            "|Malicious   Attack|      3|\n",
            "|  Malicious   DDoS|1906796|\n",
            "+------------------+-------+\n",
            "\n"
          ]
        }
      ],
      "source": [
        "# Register DataFrame as a SQL table\n",
        "df.createOrReplaceTempView(\"malware_data\")\n",
        "\n",
        "# Define SQL Query to count the number of rows with 0 and 1 in the target variable\n",
        "query = \"\"\"\n",
        "SELECT\n",
        "    label,\n",
        "    COUNT(*) AS count\n",
        "FROM\n",
        "    malware_data\n",
        "GROUP BY\n",
        "    label\n",
        "\"\"\"\n",
        "\n",
        "# Run the SQL query\n",
        "result = spark.sql(query)\n",
        "result.show()"
      ]
    },
    {
      "cell_type": "markdown",
      "metadata": {},
      "source": [
        "Malicious C&C and Mallitics Attack have significantly lower count than the other classes, causing severe imbalance. We decided to drop them."
      ]
    },
    {
      "cell_type": "code",
      "execution_count": 10,
      "metadata": {},
      "outputs": [],
      "source": [
        "from pyspark.sql.functions import col\n",
        "\n",
        "# Filter the DataFrame to keep only 'Benign' and 'Malicious   DDoS' labels\n",
        "df = df.filter(\n",
        "    (col(\"label\") == \"Benign\") | \n",
        "    (col(\"label\") == \"Malicious   DDoS\")\n",
        ")"
      ]
    },
    {
      "cell_type": "code",
      "execution_count": 11,
      "metadata": {},
      "outputs": [
        {
          "name": "stdout",
          "output_type": "stream",
          "text": [
            "Number of rows: 6015114\n",
            "Number of columns: 18\n"
          ]
        }
      ],
      "source": [
        "num_rows = df.count()\n",
        "print(f\"Number of rows: {num_rows}\")\n",
        "num_columns = len(df.columns)\n",
        "print(f\"Number of columns: {num_columns}\")"
      ]
    },
    {
      "cell_type": "code",
      "execution_count": 12,
      "metadata": {},
      "outputs": [
        {
          "name": "stdout",
          "output_type": "stream",
          "text": [
            "+----------------+-------+\n",
            "|           label|  count|\n",
            "+----------------+-------+\n",
            "|          Benign|4108318|\n",
            "|Malicious   DDoS|1906796|\n",
            "+----------------+-------+\n",
            "\n"
          ]
        }
      ],
      "source": [
        "# Register DataFrame as a SQL table\n",
        "df.createOrReplaceTempView(\"malware_data\")\n",
        "\n",
        "# Define SQL Query to count the number of rows with 0 and 1 in the target variable\n",
        "query = \"\"\"\n",
        "SELECT\n",
        "    label,\n",
        "    COUNT(*) AS count\n",
        "FROM\n",
        "    malware_data\n",
        "GROUP BY\n",
        "    label\n",
        "\"\"\"\n",
        "\n",
        "# Run the SQL query\n",
        "result = spark.sql(query)\n",
        "result.show()"
      ]
    },
    {
      "cell_type": "markdown",
      "metadata": {},
      "source": [
        "Roughly 2:1 ratio, mildly imbalanced."
      ]
    },
    {
      "cell_type": "markdown",
      "metadata": {
        "id": "p6wuYZ0OJzfC"
      },
      "source": [
        "## Summary statistics for numeric columns"
      ]
    },
    {
      "cell_type": "code",
      "execution_count": null,
      "metadata": {
        "id": "7fx_4-ySJ3-b"
      },
      "outputs": [
        {
          "data": {
            "text/html": [
              "<div>\n",
              "<style scoped>\n",
              "    .dataframe tbody tr th:only-of-type {\n",
              "        vertical-align: middle;\n",
              "    }\n",
              "\n",
              "    .dataframe tbody tr th {\n",
              "        vertical-align: top;\n",
              "    }\n",
              "\n",
              "    .dataframe thead th {\n",
              "        text-align: right;\n",
              "    }\n",
              "</style>\n",
              "<table border=\"1\" class=\"dataframe\">\n",
              "  <thead>\n",
              "    <tr style=\"text-align: right;\">\n",
              "      <th>summary</th>\n",
              "      <th>count</th>\n",
              "      <th>mean</th>\n",
              "      <th>stddev</th>\n",
              "      <th>min</th>\n",
              "      <th>max</th>\n",
              "    </tr>\n",
              "  </thead>\n",
              "  <tbody>\n",
              "    <tr>\n",
              "      <th>duration</th>\n",
              "      <td>6015136</td>\n",
              "      <td>4.223807251961909</td>\n",
              "      <td>9.869124951743423</td>\n",
              "      <td>2.0E-6</td>\n",
              "      <td>582.169</td>\n",
              "    </tr>\n",
              "    <tr>\n",
              "      <th>orig_bytes</th>\n",
              "      <td>6015136</td>\n",
              "      <td>3.560142356189428E8</td>\n",
              "      <td>3.46770275955462E9</td>\n",
              "      <td>0.0</td>\n",
              "      <td>6.6205577E10</td>\n",
              "    </tr>\n",
              "    <tr>\n",
              "      <th>resp_bytes</th>\n",
              "      <td>6015136</td>\n",
              "      <td>5591.376293902582</td>\n",
              "      <td>1.2956937373334212E7</td>\n",
              "      <td>0.0</td>\n",
              "      <td>3.17205115E10</td>\n",
              "    </tr>\n",
              "    <tr>\n",
              "      <th>missed_bytes</th>\n",
              "      <td>6015136</td>\n",
              "      <td>317.3408574635719</td>\n",
              "      <td>778291.2134145867</td>\n",
              "      <td>0.0</td>\n",
              "      <td>1.90881946E9</td>\n",
              "    </tr>\n",
              "    <tr>\n",
              "      <th>orig_pkts</th>\n",
              "      <td>6015136</td>\n",
              "      <td>6.343712261867396</td>\n",
              "      <td>3000.962278839396</td>\n",
              "      <td>0.0</td>\n",
              "      <td>4027345.0</td>\n",
              "    </tr>\n",
              "    <tr>\n",
              "      <th>orig_ip_bytes</th>\n",
              "      <td>6015136</td>\n",
              "      <td>271.38145455065353</td>\n",
              "      <td>84027.25369643705</td>\n",
              "      <td>0.0</td>\n",
              "      <td>1.12765664E8</td>\n",
              "    </tr>\n",
              "    <tr>\n",
              "      <th>resp_pkts</th>\n",
              "      <td>6015136</td>\n",
              "      <td>0.001142285062216382</td>\n",
              "      <td>0.3421853741378431</td>\n",
              "      <td>0.0</td>\n",
              "      <td>279.0</td>\n",
              "    </tr>\n",
              "    <tr>\n",
              "      <th>resp_ip_bytes</th>\n",
              "      <td>6015136</td>\n",
              "      <td>0.6466432346666808</td>\n",
              "      <td>494.1573836462667</td>\n",
              "      <td>0.0</td>\n",
              "      <td>413488.0</td>\n",
              "    </tr>\n",
              "  </tbody>\n",
              "</table>\n",
              "</div>"
            ],
            "text/plain": [
              "summary          count                  mean                stddev     min  \\\n",
              "duration       6015136     4.223807251961909     9.869124951743423  2.0E-6   \n",
              "orig_bytes     6015136   3.560142356189428E8    3.46770275955462E9     0.0   \n",
              "resp_bytes     6015136     5591.376293902582  1.2956937373334212E7     0.0   \n",
              "missed_bytes   6015136     317.3408574635719     778291.2134145867     0.0   \n",
              "orig_pkts      6015136     6.343712261867396     3000.962278839396     0.0   \n",
              "orig_ip_bytes  6015136    271.38145455065353     84027.25369643705     0.0   \n",
              "resp_pkts      6015136  0.001142285062216382    0.3421853741378431     0.0   \n",
              "resp_ip_bytes  6015136    0.6466432346666808     494.1573836462667     0.0   \n",
              "\n",
              "summary                  max  \n",
              "duration             582.169  \n",
              "orig_bytes      6.6205577E10  \n",
              "resp_bytes     3.17205115E10  \n",
              "missed_bytes    1.90881946E9  \n",
              "orig_pkts          4027345.0  \n",
              "orig_ip_bytes   1.12765664E8  \n",
              "resp_pkts              279.0  \n",
              "resp_ip_bytes       413488.0  "
            ]
          },
          "metadata": {},
          "output_type": "display_data"
        }
      ],
      "source": [
        "# convert numerical columns\n",
        "cols_to_convert = [\n",
        "    \"duration\", \"orig_bytes\", \"resp_bytes\",\n",
        "    \"missed_bytes\", \"orig_pkts\", \"orig_ip_bytes\", \"resp_pkts\", \"resp_ip_bytes\"\n",
        "]\n",
        "\n",
        "# Convert to FloatType\n",
        "for column in cols_to_convert:\n",
        "    df = df.withColumn(column, col(column).cast(FloatType()))\n",
        "\n",
        "# Descriptive stats with Pandas for nicer formatting\n",
        "desc_stats = df.describe(cols_to_convert)\n",
        "desc_stats_pd = desc_stats.toPandas().set_index('summary').T\n",
        "display(desc_stats_pd)"
      ]
    },
    {
      "cell_type": "markdown",
      "metadata": {},
      "source": [
        "## Boxplots for numerical variables"
      ]
    },
    {
      "cell_type": "code",
      "execution_count": null,
      "metadata": {},
      "outputs": [
        {
          "data": {
            "image/png": "[encoded data removed]",
            "text/plain": [
              "<Figure size 2500x800 with 8 Axes>"
            ]
          },
          "metadata": {},
          "output_type": "display_data"
        }
      ],
      "source": [
        "import seaborn as sns\n",
        "import matplotlib.pyplot as plt\n",
        "\n",
        "# Use your actual numeric variables (but check for existence)\n",
        "all_numeric_cols = [\n",
        "    \"duration\", \"orig_bytes\", \"resp_bytes\",\n",
        "    \"missed_bytes\", \"orig_pkts\", \"orig_ip_bytes\", \"resp_pkts\", \"resp_ip_bytes\"\n",
        "]\n",
        "\n",
        "# Filter only columns that exist in df\n",
        "numeric_cols = [col_name for col_name in all_numeric_cols if col_name in df.columns]\n",
        "\n",
        "# Optional: handle nulls before collecting (replace with 0 or drop rows)\n",
        "from pyspark.sql.functions import when, isnan\n",
        "\n",
        "for col_name in numeric_cols:\n",
        "    df = df.withColumn(col_name, when(\n",
        "        (col(col_name).isNull()) | (isnan(col(col_name))), 0\n",
        "    ).otherwise(col(col_name)))\n",
        "\n",
        "# Sample to avoid memory issues (optional)\n",
        "df_sample = df.select(numeric_cols).sample(False, 0.5, seed=42)\n",
        "\n",
        "# Convert to pandas for plotting\n",
        "df_pandas = df_sample.toPandas()\n",
        "\n",
        "# Plot boxplots\n",
        "num_cols = 5\n",
        "num_vars = len(numeric_cols)\n",
        "num_rows = (num_vars + num_cols - 1) // num_cols\n",
        "\n",
        "fig, axes = plt.subplots(num_rows, num_cols, figsize=(5 * num_cols, 4 * num_rows))\n",
        "axes = axes.flatten()\n",
        "\n",
        "for i, col_name in enumerate(numeric_cols):\n",
        "    sns.boxplot(x=df_pandas[col_name], ax=axes[i], color='skyblue')\n",
        "    axes[i].set_title(col_name)\n",
        "    axes[i].set_xlabel(\"\")  # cleaner look\n",
        "\n",
        "# Remove empty plots\n",
        "for i in range(num_vars, len(axes)):\n",
        "    fig.delaxes(axes[i])\n",
        "\n",
        "plt.tight_layout()\n",
        "plt.show()\n"
      ]
    },
    {
      "cell_type": "markdown",
      "metadata": {
        "id": "x1Tp_JOOtNht"
      },
      "source": [
        "## Categorical Value Distibution"
      ]
    },
    {
      "cell_type": "code",
      "execution_count": 21,
      "metadata": {
        "colab": {
          "base_uri": "https://localhost:8080/",
          "height": 1000
        },
        "collapsed": true,
        "id": "rVdzZqH_tQor",
        "outputId": "5ed9247b-a7d6-4d64-d5ff-d35fe708b9ad"
      },
      "outputs": [
        {
          "ename": "ConnectionRefusedError",
          "evalue": "[WinError 10061] No connection could be made because the target machine actively refused it",
          "output_type": "error",
          "traceback": [
            "\u001b[31m---------------------------------------------------------------------------\u001b[39m",
            "\u001b[31mConnectionRefusedError\u001b[39m                    Traceback (most recent call last)",
            "\u001b[36mCell\u001b[39m\u001b[36m \u001b[39m\u001b[32mIn[21]\u001b[39m\u001b[32m, line 4\u001b[39m\n\u001b[32m      1\u001b[39m categorical_cols = [\u001b[33m\"\u001b[39m\u001b[33mproto\u001b[39m\u001b[33m\"\u001b[39m, \u001b[33m\"\u001b[39m\u001b[33mconn_state\u001b[39m\u001b[33m\"\u001b[39m, \u001b[33m\"\u001b[39m\u001b[33mhistory\u001b[39m\u001b[33m\"\u001b[39m]\n\u001b[32m      3\u001b[39m \u001b[38;5;28;01mfor\u001b[39;00m col \u001b[38;5;129;01min\u001b[39;00m categorical_cols:\n\u001b[32m----> \u001b[39m\u001b[32m4\u001b[39m     count_df = \u001b[43mdf\u001b[49m\u001b[43m.\u001b[49m\u001b[43mgroupBy\u001b[49m\u001b[43m(\u001b[49m\u001b[43mcol\u001b[49m\u001b[43m)\u001b[49m.count().orderBy(\u001b[33m\"\u001b[39m\u001b[33mcount\u001b[39m\u001b[33m\"\u001b[39m, ascending=\u001b[38;5;28;01mFalse\u001b[39;00m).toPandas()\n\u001b[32m      5\u001b[39m     \u001b[38;5;28mprint\u001b[39m(\u001b[33mf\u001b[39m\u001b[33m\"\u001b[39m\u001b[33m=== \u001b[39m\u001b[38;5;132;01m{\u001b[39;00mcol\u001b[38;5;132;01m}\u001b[39;00m\u001b[33m Value Counts ===\u001b[39m\u001b[33m\"\u001b[39m)\n\u001b[32m      6\u001b[39m     display(count_df)\n",
            "\u001b[36mFile \u001b[39m\u001b[32mc:\\Users\\jessi\\Desktop\\BT4221\\maleware-detection-ml-model\\.venv\\Lib\\site-packages\\pyspark\\sql\\dataframe.py:3416\u001b[39m, in \u001b[36mDataFrame.groupBy\u001b[39m\u001b[34m(self, *cols)\u001b[39m\n\u001b[32m   3347\u001b[39m \u001b[38;5;28;01mdef\u001b[39;00m\u001b[38;5;250m \u001b[39m\u001b[34mgroupBy\u001b[39m(\u001b[38;5;28mself\u001b[39m, *cols: \u001b[33m\"\u001b[39m\u001b[33mColumnOrName\u001b[39m\u001b[33m\"\u001b[39m) -> \u001b[33m\"\u001b[39m\u001b[33mGroupedData\u001b[39m\u001b[33m\"\u001b[39m:  \u001b[38;5;66;03m# type: ignore[misc]\u001b[39;00m\n\u001b[32m   3348\u001b[39m \u001b[38;5;250m    \u001b[39m\u001b[33;03m\"\"\"Groups the :class:`DataFrame` using the specified columns,\u001b[39;00m\n\u001b[32m   3349\u001b[39m \u001b[33;03m    so we can run aggregation on them. See :class:`GroupedData`\u001b[39;00m\n\u001b[32m   3350\u001b[39m \u001b[33;03m    for all the available aggregate functions.\u001b[39;00m\n\u001b[32m   (...)\u001b[39m\u001b[32m   3414\u001b[39m \u001b[33;03m    +-----+---+-----+\u001b[39;00m\n\u001b[32m   3415\u001b[39m \u001b[33;03m    \"\"\"\u001b[39;00m\n\u001b[32m-> \u001b[39m\u001b[32m3416\u001b[39m     jgd = \u001b[38;5;28mself\u001b[39m._jdf.groupBy(\u001b[38;5;28;43mself\u001b[39;49m\u001b[43m.\u001b[49m\u001b[43m_jcols\u001b[49m\u001b[43m(\u001b[49m\u001b[43m*\u001b[49m\u001b[43mcols\u001b[49m\u001b[43m)\u001b[49m)\n\u001b[32m   3417\u001b[39m     \u001b[38;5;28;01mfrom\u001b[39;00m\u001b[38;5;250m \u001b[39m\u001b[34;01mpyspark\u001b[39;00m\u001b[34;01m.\u001b[39;00m\u001b[34;01msql\u001b[39;00m\u001b[34;01m.\u001b[39;00m\u001b[34;01mgroup\u001b[39;00m\u001b[38;5;250m \u001b[39m\u001b[38;5;28;01mimport\u001b[39;00m GroupedData\n\u001b[32m   3419\u001b[39m     \u001b[38;5;28;01mreturn\u001b[39;00m GroupedData(jgd, \u001b[38;5;28mself\u001b[39m)\n",
            "\u001b[36mFile \u001b[39m\u001b[32mc:\\Users\\jessi\\Desktop\\BT4221\\maleware-detection-ml-model\\.venv\\Lib\\site-packages\\pyspark\\sql\\dataframe.py:2766\u001b[39m, in \u001b[36mDataFrame._jcols\u001b[39m\u001b[34m(self, *cols)\u001b[39m\n\u001b[32m   2764\u001b[39m \u001b[38;5;28;01mif\u001b[39;00m \u001b[38;5;28mlen\u001b[39m(cols) == \u001b[32m1\u001b[39m \u001b[38;5;129;01mand\u001b[39;00m \u001b[38;5;28misinstance\u001b[39m(cols[\u001b[32m0\u001b[39m], \u001b[38;5;28mlist\u001b[39m):\n\u001b[32m   2765\u001b[39m     cols = cols[\u001b[32m0\u001b[39m]\n\u001b[32m-> \u001b[39m\u001b[32m2766\u001b[39m \u001b[38;5;28;01mreturn\u001b[39;00m \u001b[38;5;28;43mself\u001b[39;49m\u001b[43m.\u001b[49m\u001b[43m_jseq\u001b[49m\u001b[43m(\u001b[49m\u001b[43mcols\u001b[49m\u001b[43m,\u001b[49m\u001b[43m \u001b[49m\u001b[43m_to_java_column\u001b[49m\u001b[43m)\u001b[49m\n",
            "\u001b[36mFile \u001b[39m\u001b[32mc:\\Users\\jessi\\Desktop\\BT4221\\maleware-detection-ml-model\\.venv\\Lib\\site-packages\\pyspark\\sql\\dataframe.py:2753\u001b[39m, in \u001b[36mDataFrame._jseq\u001b[39m\u001b[34m(self, cols, converter)\u001b[39m\n\u001b[32m   2747\u001b[39m \u001b[38;5;28;01mdef\u001b[39;00m\u001b[38;5;250m \u001b[39m\u001b[34m_jseq\u001b[39m(\n\u001b[32m   2748\u001b[39m     \u001b[38;5;28mself\u001b[39m,\n\u001b[32m   2749\u001b[39m     cols: Sequence,\n\u001b[32m   2750\u001b[39m     converter: Optional[Callable[..., Union[\u001b[33m\"\u001b[39m\u001b[33mPrimitiveType\u001b[39m\u001b[33m\"\u001b[39m, JavaObject]]] = \u001b[38;5;28;01mNone\u001b[39;00m,\n\u001b[32m   2751\u001b[39m ) -> JavaObject:\n\u001b[32m   2752\u001b[39m \u001b[38;5;250m    \u001b[39m\u001b[33;03m\"\"\"Return a JVM Seq of Columns from a list of Column or names\"\"\"\u001b[39;00m\n\u001b[32m-> \u001b[39m\u001b[32m2753\u001b[39m     \u001b[38;5;28;01mreturn\u001b[39;00m \u001b[43m_to_seq\u001b[49m\u001b[43m(\u001b[49m\u001b[38;5;28;43mself\u001b[39;49m\u001b[43m.\u001b[49m\u001b[43msparkSession\u001b[49m\u001b[43m.\u001b[49m\u001b[43m_sc\u001b[49m\u001b[43m,\u001b[49m\u001b[43m \u001b[49m\u001b[43mcols\u001b[49m\u001b[43m,\u001b[49m\u001b[43m \u001b[49m\u001b[43mconverter\u001b[49m\u001b[43m)\u001b[49m\n",
            "\u001b[36mFile \u001b[39m\u001b[32mc:\\Users\\jessi\\Desktop\\BT4221\\maleware-detection-ml-model\\.venv\\Lib\\site-packages\\pyspark\\sql\\column.py:88\u001b[39m, in \u001b[36m_to_seq\u001b[39m\u001b[34m(sc, cols, converter)\u001b[39m\n\u001b[32m     81\u001b[39m \u001b[38;5;250m\u001b[39m\u001b[33;03m\"\"\"\u001b[39;00m\n\u001b[32m     82\u001b[39m \u001b[33;03mConvert a list of Columns (or names) into a JVM Seq of Column.\u001b[39;00m\n\u001b[32m     83\u001b[39m \n\u001b[32m     84\u001b[39m \u001b[33;03mAn optional `converter` could be used to convert items in `cols`\u001b[39;00m\n\u001b[32m     85\u001b[39m \u001b[33;03minto JVM Column objects.\u001b[39;00m\n\u001b[32m     86\u001b[39m \u001b[33;03m\"\"\"\u001b[39;00m\n\u001b[32m     87\u001b[39m \u001b[38;5;28;01mif\u001b[39;00m converter:\n\u001b[32m---> \u001b[39m\u001b[32m88\u001b[39m     cols = [\u001b[43mconverter\u001b[49m\u001b[43m(\u001b[49m\u001b[43mc\u001b[49m\u001b[43m)\u001b[49m \u001b[38;5;28;01mfor\u001b[39;00m c \u001b[38;5;129;01min\u001b[39;00m cols]\n\u001b[32m     89\u001b[39m \u001b[38;5;28;01massert\u001b[39;00m sc._jvm \u001b[38;5;129;01mis\u001b[39;00m \u001b[38;5;129;01mnot\u001b[39;00m \u001b[38;5;28;01mNone\u001b[39;00m\n\u001b[32m     90\u001b[39m \u001b[38;5;28;01mreturn\u001b[39;00m sc._jvm.PythonUtils.toSeq(cols)\n",
            "\u001b[36mFile \u001b[39m\u001b[32mc:\\Users\\jessi\\Desktop\\BT4221\\maleware-detection-ml-model\\.venv\\Lib\\site-packages\\pyspark\\sql\\column.py:63\u001b[39m, in \u001b[36m_to_java_column\u001b[39m\u001b[34m(col)\u001b[39m\n\u001b[32m     61\u001b[39m     jcol = col._jc\n\u001b[32m     62\u001b[39m \u001b[38;5;28;01melif\u001b[39;00m \u001b[38;5;28misinstance\u001b[39m(col, \u001b[38;5;28mstr\u001b[39m):\n\u001b[32m---> \u001b[39m\u001b[32m63\u001b[39m     jcol = \u001b[43m_create_column_from_name\u001b[49m\u001b[43m(\u001b[49m\u001b[43mcol\u001b[49m\u001b[43m)\u001b[49m\n\u001b[32m     64\u001b[39m \u001b[38;5;28;01melse\u001b[39;00m:\n\u001b[32m     65\u001b[39m     \u001b[38;5;28;01mraise\u001b[39;00m PySparkTypeError(\n\u001b[32m     66\u001b[39m         error_class=\u001b[33m\"\u001b[39m\u001b[33mNOT_COLUMN_OR_STR\u001b[39m\u001b[33m\"\u001b[39m,\n\u001b[32m     67\u001b[39m         message_parameters={\u001b[33m\"\u001b[39m\u001b[33marg_name\u001b[39m\u001b[33m\"\u001b[39m: \u001b[33m\"\u001b[39m\u001b[33mcol\u001b[39m\u001b[33m\"\u001b[39m, \u001b[33m\"\u001b[39m\u001b[33marg_type\u001b[39m\u001b[33m\"\u001b[39m: \u001b[38;5;28mtype\u001b[39m(col).\u001b[34m__name__\u001b[39m},\n\u001b[32m     68\u001b[39m     )\n",
            "\u001b[36mFile \u001b[39m\u001b[32mc:\\Users\\jessi\\Desktop\\BT4221\\maleware-detection-ml-model\\.venv\\Lib\\site-packages\\pyspark\\sql\\column.py:56\u001b[39m, in \u001b[36m_create_column_from_name\u001b[39m\u001b[34m(name)\u001b[39m\n\u001b[32m     54\u001b[39m \u001b[38;5;28;01mdef\u001b[39;00m\u001b[38;5;250m \u001b[39m\u001b[34m_create_column_from_name\u001b[39m(name: \u001b[38;5;28mstr\u001b[39m) -> \u001b[33m\"\u001b[39m\u001b[33mColumn\u001b[39m\u001b[33m\"\u001b[39m:\n\u001b[32m     55\u001b[39m     sc = get_active_spark_context()\n\u001b[32m---> \u001b[39m\u001b[32m56\u001b[39m     \u001b[38;5;28;01mreturn\u001b[39;00m \u001b[43mcast\u001b[49m\u001b[43m(\u001b[49m\u001b[43mJVMView\u001b[49m\u001b[43m,\u001b[49m\u001b[43m \u001b[49m\u001b[43msc\u001b[49m\u001b[43m.\u001b[49m\u001b[43m_jvm\u001b[49m\u001b[43m)\u001b[49m\u001b[43m.\u001b[49m\u001b[43mfunctions\u001b[49m.col(name)\n",
            "\u001b[36mFile \u001b[39m\u001b[32mc:\\Users\\jessi\\Desktop\\BT4221\\maleware-detection-ml-model\\.venv\\Lib\\site-packages\\py4j\\java_gateway.py:1712\u001b[39m, in \u001b[36mJVMView.__getattr__\u001b[39m\u001b[34m(self, name)\u001b[39m\n\u001b[32m   1709\u001b[39m \u001b[38;5;28;01mif\u001b[39;00m name == UserHelpAutoCompletion.KEY:\n\u001b[32m   1710\u001b[39m     \u001b[38;5;28;01mreturn\u001b[39;00m UserHelpAutoCompletion()\n\u001b[32m-> \u001b[39m\u001b[32m1712\u001b[39m answer = \u001b[38;5;28;43mself\u001b[39;49m\u001b[43m.\u001b[49m\u001b[43m_gateway_client\u001b[49m\u001b[43m.\u001b[49m\u001b[43msend_command\u001b[49m\u001b[43m(\u001b[49m\n\u001b[32m   1713\u001b[39m \u001b[43m    \u001b[49m\u001b[43mproto\u001b[49m\u001b[43m.\u001b[49m\u001b[43mREFLECTION_COMMAND_NAME\u001b[49m\u001b[43m \u001b[49m\u001b[43m+\u001b[49m\n\u001b[32m   1714\u001b[39m \u001b[43m    \u001b[49m\u001b[43mproto\u001b[49m\u001b[43m.\u001b[49m\u001b[43mREFL_GET_UNKNOWN_SUB_COMMAND_NAME\u001b[49m\u001b[43m \u001b[49m\u001b[43m+\u001b[49m\u001b[43m \u001b[49m\u001b[43mname\u001b[49m\u001b[43m \u001b[49m\u001b[43m+\u001b[49m\u001b[43m \u001b[49m\u001b[33;43m\"\u001b[39;49m\u001b[38;5;130;43;01m\\n\u001b[39;49;00m\u001b[33;43m\"\u001b[39;49m\u001b[43m \u001b[49m\u001b[43m+\u001b[49m\u001b[43m \u001b[49m\u001b[38;5;28;43mself\u001b[39;49m\u001b[43m.\u001b[49m\u001b[43m_id\u001b[49m\u001b[43m \u001b[49m\u001b[43m+\u001b[49m\n\u001b[32m   1715\u001b[39m \u001b[43m    \u001b[49m\u001b[33;43m\"\u001b[39;49m\u001b[38;5;130;43;01m\\n\u001b[39;49;00m\u001b[33;43m\"\u001b[39;49m\u001b[43m \u001b[49m\u001b[43m+\u001b[49m\u001b[43m \u001b[49m\u001b[43mproto\u001b[49m\u001b[43m.\u001b[49m\u001b[43mEND_COMMAND_PART\u001b[49m\u001b[43m)\u001b[49m\n\u001b[32m   1716\u001b[39m \u001b[38;5;28;01mif\u001b[39;00m answer == proto.SUCCESS_PACKAGE:\n\u001b[32m   1717\u001b[39m     \u001b[38;5;28;01mreturn\u001b[39;00m JavaPackage(name, \u001b[38;5;28mself\u001b[39m._gateway_client, jvm_id=\u001b[38;5;28mself\u001b[39m._id)\n",
            "\u001b[36mFile \u001b[39m\u001b[32mc:\\Users\\jessi\\Desktop\\BT4221\\maleware-detection-ml-model\\.venv\\Lib\\site-packages\\py4j\\java_gateway.py:1036\u001b[39m, in \u001b[36mGatewayClient.send_command\u001b[39m\u001b[34m(self, command, retry, binary)\u001b[39m\n\u001b[32m   1015\u001b[39m \u001b[38;5;28;01mdef\u001b[39;00m\u001b[38;5;250m \u001b[39m\u001b[34msend_command\u001b[39m(\u001b[38;5;28mself\u001b[39m, command, retry=\u001b[38;5;28;01mTrue\u001b[39;00m, binary=\u001b[38;5;28;01mFalse\u001b[39;00m):\n\u001b[32m   1016\u001b[39m \u001b[38;5;250m    \u001b[39m\u001b[33;03m\"\"\"Sends a command to the JVM. This method is not intended to be\u001b[39;00m\n\u001b[32m   1017\u001b[39m \u001b[33;03m       called directly by Py4J users. It is usually called by\u001b[39;00m\n\u001b[32m   1018\u001b[39m \u001b[33;03m       :class:`JavaMember` instances.\u001b[39;00m\n\u001b[32m   (...)\u001b[39m\u001b[32m   1034\u001b[39m \u001b[33;03m     if `binary` is `True`.\u001b[39;00m\n\u001b[32m   1035\u001b[39m \u001b[33;03m    \"\"\"\u001b[39;00m\n\u001b[32m-> \u001b[39m\u001b[32m1036\u001b[39m     connection = \u001b[38;5;28;43mself\u001b[39;49m\u001b[43m.\u001b[49m\u001b[43m_get_connection\u001b[49m\u001b[43m(\u001b[49m\u001b[43m)\u001b[49m\n\u001b[32m   1037\u001b[39m     \u001b[38;5;28;01mtry\u001b[39;00m:\n\u001b[32m   1038\u001b[39m         response = connection.send_command(command)\n",
            "\u001b[36mFile \u001b[39m\u001b[32mc:\\Users\\jessi\\Desktop\\BT4221\\maleware-detection-ml-model\\.venv\\Lib\\site-packages\\py4j\\clientserver.py:284\u001b[39m, in \u001b[36mJavaClient._get_connection\u001b[39m\u001b[34m(self)\u001b[39m\n\u001b[32m    281\u001b[39m     \u001b[38;5;28;01mpass\u001b[39;00m\n\u001b[32m    283\u001b[39m \u001b[38;5;28;01mif\u001b[39;00m connection \u001b[38;5;129;01mis\u001b[39;00m \u001b[38;5;28;01mNone\u001b[39;00m \u001b[38;5;129;01mor\u001b[39;00m connection.socket \u001b[38;5;129;01mis\u001b[39;00m \u001b[38;5;28;01mNone\u001b[39;00m:\n\u001b[32m--> \u001b[39m\u001b[32m284\u001b[39m     connection = \u001b[38;5;28;43mself\u001b[39;49m\u001b[43m.\u001b[49m\u001b[43m_create_new_connection\u001b[49m\u001b[43m(\u001b[49m\u001b[43m)\u001b[49m\n\u001b[32m    285\u001b[39m \u001b[38;5;28;01mreturn\u001b[39;00m connection\n",
            "\u001b[36mFile \u001b[39m\u001b[32mc:\\Users\\jessi\\Desktop\\BT4221\\maleware-detection-ml-model\\.venv\\Lib\\site-packages\\py4j\\clientserver.py:291\u001b[39m, in \u001b[36mJavaClient._create_new_connection\u001b[39m\u001b[34m(self)\u001b[39m\n\u001b[32m    287\u001b[39m \u001b[38;5;28;01mdef\u001b[39;00m\u001b[38;5;250m \u001b[39m\u001b[34m_create_new_connection\u001b[39m(\u001b[38;5;28mself\u001b[39m):\n\u001b[32m    288\u001b[39m     connection = ClientServerConnection(\n\u001b[32m    289\u001b[39m         \u001b[38;5;28mself\u001b[39m.java_parameters, \u001b[38;5;28mself\u001b[39m.python_parameters,\n\u001b[32m    290\u001b[39m         \u001b[38;5;28mself\u001b[39m.gateway_property, \u001b[38;5;28mself\u001b[39m)\n\u001b[32m--> \u001b[39m\u001b[32m291\u001b[39m     \u001b[43mconnection\u001b[49m\u001b[43m.\u001b[49m\u001b[43mconnect_to_java_server\u001b[49m\u001b[43m(\u001b[49m\u001b[43m)\u001b[49m\n\u001b[32m    292\u001b[39m     \u001b[38;5;28mself\u001b[39m.set_thread_connection(connection)\n\u001b[32m    293\u001b[39m     \u001b[38;5;28;01mreturn\u001b[39;00m connection\n",
            "\u001b[36mFile \u001b[39m\u001b[32mc:\\Users\\jessi\\Desktop\\BT4221\\maleware-detection-ml-model\\.venv\\Lib\\site-packages\\py4j\\clientserver.py:438\u001b[39m, in \u001b[36mClientServerConnection.connect_to_java_server\u001b[39m\u001b[34m(self)\u001b[39m\n\u001b[32m    435\u001b[39m \u001b[38;5;28;01mif\u001b[39;00m \u001b[38;5;28mself\u001b[39m.ssl_context:\n\u001b[32m    436\u001b[39m     \u001b[38;5;28mself\u001b[39m.socket = \u001b[38;5;28mself\u001b[39m.ssl_context.wrap_socket(\n\u001b[32m    437\u001b[39m         \u001b[38;5;28mself\u001b[39m.socket, server_hostname=\u001b[38;5;28mself\u001b[39m.java_address)\n\u001b[32m--> \u001b[39m\u001b[32m438\u001b[39m \u001b[38;5;28;43mself\u001b[39;49m\u001b[43m.\u001b[49m\u001b[43msocket\u001b[49m\u001b[43m.\u001b[49m\u001b[43mconnect\u001b[49m\u001b[43m(\u001b[49m\u001b[43m(\u001b[49m\u001b[38;5;28;43mself\u001b[39;49m\u001b[43m.\u001b[49m\u001b[43mjava_address\u001b[49m\u001b[43m,\u001b[49m\u001b[43m \u001b[49m\u001b[38;5;28;43mself\u001b[39;49m\u001b[43m.\u001b[49m\u001b[43mjava_port\u001b[49m\u001b[43m)\u001b[49m\u001b[43m)\u001b[49m\n\u001b[32m    439\u001b[39m \u001b[38;5;28mself\u001b[39m.stream = \u001b[38;5;28mself\u001b[39m.socket.makefile(\u001b[33m\"\u001b[39m\u001b[33mrb\u001b[39m\u001b[33m\"\u001b[39m)\n\u001b[32m    440\u001b[39m \u001b[38;5;28mself\u001b[39m.is_connected = \u001b[38;5;28;01mTrue\u001b[39;00m\n",
            "\u001b[31mConnectionRefusedError\u001b[39m: [WinError 10061] No connection could be made because the target machine actively refused it"
          ]
        }
      ],
      "source": [
        "categorical_cols = [\"proto\", \"conn_state\", \"history\"]\n",
        "\n",
        "for col in categorical_cols:\n",
        "    count_df = df.groupBy(col).count().orderBy(\"count\", ascending=False).toPandas()\n",
        "    print(f\"=== {col} Value Counts ===\")\n",
        "    display(count_df)\n"
      ]
    },
    {
      "cell_type": "code",
      "execution_count": null,
      "metadata": {},
      "outputs": [
        {
          "name": "stdout",
          "output_type": "stream",
          "text": [
            "Cardinality of id_orig_h: 28\n",
            "Cardinality of id_orig_p: 65536\n",
            "Cardinality of id_resp_h: 4098966\n",
            "Cardinality of id_resp_p: 16\n"
          ]
        }
      ],
      "source": [
        "from pyspark.sql.functions import countDistinct\n",
        "\n",
        "# Count distinct values for each column\n",
        "cardinality = df.select(\n",
        "    countDistinct(\"id_orig_h\").alias(\"id_orig_h_cardinality\"),\n",
        "    countDistinct(\"id_orig_p\").alias(\"id_orig_p_cardinality\"),\n",
        "    countDistinct(\"id_resp_h\").alias(\"id_resp_h_cardinality\"),\n",
        "    countDistinct(\"id_resp_p\").alias(\"id_resp_p_cardinality\")\n",
        ").collect()[0]\n",
        "\n",
        "# Print the cardinality of each column\n",
        "print(f\"Cardinality of id_orig_h: {cardinality['id_orig_h_cardinality']}\")\n",
        "print(f\"Cardinality of id_orig_p: {cardinality['id_orig_p_cardinality']}\")\n",
        "print(f\"Cardinality of id_resp_h: {cardinality['id_resp_h_cardinality']}\")\n",
        "print(f\"Cardinality of id_resp_p: {cardinality['id_resp_p_cardinality']}\")"
      ]
    },
    {
      "cell_type": "markdown",
      "metadata": {},
      "source": [
        "id_orig_h has low cardinality -> 28, so likely represent small number of internal source IPs (devices on your network)\n",
        "\n",
        "id_resp_p has low cardinality -> 16 destination ports, likely standard ones like 80, 443, 22. tells you what kind of service was accessed. "
      ]
    },
    {
      "cell_type": "markdown",
      "metadata": {
        "id": "KL647mftDNjA"
      },
      "source": [
        "## Correlation matrix for numeric columns"
      ]
    },
    {
      "cell_type": "code",
      "execution_count": 22,
      "metadata": {
        "colab": {
          "base_uri": "https://localhost:8080/",
          "height": 626
        },
        "collapsed": true,
        "id": "xtFeK3cX01Ul",
        "outputId": "bbcc9cf8-d740-477f-c64e-896f48d08fc7"
      },
      "outputs": [
        {
          "ename": "ConnectionRefusedError",
          "evalue": "[WinError 10061] No connection could be made because the target machine actively refused it",
          "output_type": "error",
          "traceback": [
            "\u001b[31m---------------------------------------------------------------------------\u001b[39m",
            "\u001b[31mConnectionRefusedError\u001b[39m                    Traceback (most recent call last)",
            "\u001b[36mCell\u001b[39m\u001b[36m \u001b[39m\u001b[32mIn[22]\u001b[39m\u001b[32m, line 10\u001b[39m\n\u001b[32m      4\u001b[39m numeric_cols = [\n\u001b[32m      5\u001b[39m     \u001b[33m\"\u001b[39m\u001b[33mduration\u001b[39m\u001b[33m\"\u001b[39m, \u001b[33m\"\u001b[39m\u001b[33morig_bytes\u001b[39m\u001b[33m\"\u001b[39m, \u001b[33m\"\u001b[39m\u001b[33mresp_bytes\u001b[39m\u001b[33m\"\u001b[39m,\n\u001b[32m      6\u001b[39m     \u001b[33m\"\u001b[39m\u001b[33mmissed_bytes\u001b[39m\u001b[33m\"\u001b[39m, \u001b[33m\"\u001b[39m\u001b[33morig_pkts\u001b[39m\u001b[33m\"\u001b[39m, \u001b[33m\"\u001b[39m\u001b[33morig_ip_bytes\u001b[39m\u001b[33m\"\u001b[39m, \u001b[33m\"\u001b[39m\u001b[33mresp_pkts\u001b[39m\u001b[33m\"\u001b[39m, \u001b[33m\"\u001b[39m\u001b[33mresp_ip_bytes\u001b[39m\u001b[33m\"\u001b[39m\n\u001b[32m      7\u001b[39m ]\n\u001b[32m      9\u001b[39m \u001b[38;5;66;03m# Convert PySpark DataFrame to pandas DataFrame for correlation calculation\u001b[39;00m\n\u001b[32m---> \u001b[39m\u001b[32m10\u001b[39m pandas_df = \u001b[43mdf\u001b[49m\u001b[43m.\u001b[49m\u001b[43mselect\u001b[49m\u001b[43m(\u001b[49m\u001b[43mnumeric_cols\u001b[49m\u001b[43m)\u001b[49m.toPandas()\n\u001b[32m     12\u001b[39m \u001b[38;5;66;03m# Plot correlation heatmap\u001b[39;00m\n\u001b[32m     13\u001b[39m plt.figure(figsize=(\u001b[32m12\u001b[39m, \u001b[32m6\u001b[39m))\n",
            "\u001b[36mFile \u001b[39m\u001b[32mc:\\Users\\jessi\\Desktop\\BT4221\\maleware-detection-ml-model\\.venv\\Lib\\site-packages\\pyspark\\sql\\dataframe.py:3229\u001b[39m, in \u001b[36mDataFrame.select\u001b[39m\u001b[34m(self, *cols)\u001b[39m\n\u001b[32m   3184\u001b[39m \u001b[38;5;28;01mdef\u001b[39;00m\u001b[38;5;250m \u001b[39m\u001b[34mselect\u001b[39m(\u001b[38;5;28mself\u001b[39m, *cols: \u001b[33m\"\u001b[39m\u001b[33mColumnOrName\u001b[39m\u001b[33m\"\u001b[39m) -> \u001b[33m\"\u001b[39m\u001b[33mDataFrame\u001b[39m\u001b[33m\"\u001b[39m:  \u001b[38;5;66;03m# type: ignore[misc]\u001b[39;00m\n\u001b[32m   3185\u001b[39m \u001b[38;5;250m    \u001b[39m\u001b[33;03m\"\"\"Projects a set of expressions and returns a new :class:`DataFrame`.\u001b[39;00m\n\u001b[32m   3186\u001b[39m \n\u001b[32m   3187\u001b[39m \u001b[33;03m    .. versionadded:: 1.3.0\u001b[39;00m\n\u001b[32m   (...)\u001b[39m\u001b[32m   3227\u001b[39m \u001b[33;03m    +-----+---+\u001b[39;00m\n\u001b[32m   3228\u001b[39m \u001b[33;03m    \"\"\"\u001b[39;00m\n\u001b[32m-> \u001b[39m\u001b[32m3229\u001b[39m     jdf = \u001b[38;5;28mself\u001b[39m._jdf.select(\u001b[38;5;28;43mself\u001b[39;49m\u001b[43m.\u001b[49m\u001b[43m_jcols\u001b[49m\u001b[43m(\u001b[49m\u001b[43m*\u001b[49m\u001b[43mcols\u001b[49m\u001b[43m)\u001b[49m)\n\u001b[32m   3230\u001b[39m     \u001b[38;5;28;01mreturn\u001b[39;00m DataFrame(jdf, \u001b[38;5;28mself\u001b[39m.sparkSession)\n",
            "\u001b[36mFile \u001b[39m\u001b[32mc:\\Users\\jessi\\Desktop\\BT4221\\maleware-detection-ml-model\\.venv\\Lib\\site-packages\\pyspark\\sql\\dataframe.py:2766\u001b[39m, in \u001b[36mDataFrame._jcols\u001b[39m\u001b[34m(self, *cols)\u001b[39m\n\u001b[32m   2764\u001b[39m \u001b[38;5;28;01mif\u001b[39;00m \u001b[38;5;28mlen\u001b[39m(cols) == \u001b[32m1\u001b[39m \u001b[38;5;129;01mand\u001b[39;00m \u001b[38;5;28misinstance\u001b[39m(cols[\u001b[32m0\u001b[39m], \u001b[38;5;28mlist\u001b[39m):\n\u001b[32m   2765\u001b[39m     cols = cols[\u001b[32m0\u001b[39m]\n\u001b[32m-> \u001b[39m\u001b[32m2766\u001b[39m \u001b[38;5;28;01mreturn\u001b[39;00m \u001b[38;5;28;43mself\u001b[39;49m\u001b[43m.\u001b[49m\u001b[43m_jseq\u001b[49m\u001b[43m(\u001b[49m\u001b[43mcols\u001b[49m\u001b[43m,\u001b[49m\u001b[43m \u001b[49m\u001b[43m_to_java_column\u001b[49m\u001b[43m)\u001b[49m\n",
            "\u001b[36mFile \u001b[39m\u001b[32mc:\\Users\\jessi\\Desktop\\BT4221\\maleware-detection-ml-model\\.venv\\Lib\\site-packages\\pyspark\\sql\\dataframe.py:2753\u001b[39m, in \u001b[36mDataFrame._jseq\u001b[39m\u001b[34m(self, cols, converter)\u001b[39m\n\u001b[32m   2747\u001b[39m \u001b[38;5;28;01mdef\u001b[39;00m\u001b[38;5;250m \u001b[39m\u001b[34m_jseq\u001b[39m(\n\u001b[32m   2748\u001b[39m     \u001b[38;5;28mself\u001b[39m,\n\u001b[32m   2749\u001b[39m     cols: Sequence,\n\u001b[32m   2750\u001b[39m     converter: Optional[Callable[..., Union[\u001b[33m\"\u001b[39m\u001b[33mPrimitiveType\u001b[39m\u001b[33m\"\u001b[39m, JavaObject]]] = \u001b[38;5;28;01mNone\u001b[39;00m,\n\u001b[32m   2751\u001b[39m ) -> JavaObject:\n\u001b[32m   2752\u001b[39m \u001b[38;5;250m    \u001b[39m\u001b[33;03m\"\"\"Return a JVM Seq of Columns from a list of Column or names\"\"\"\u001b[39;00m\n\u001b[32m-> \u001b[39m\u001b[32m2753\u001b[39m     \u001b[38;5;28;01mreturn\u001b[39;00m \u001b[43m_to_seq\u001b[49m\u001b[43m(\u001b[49m\u001b[38;5;28;43mself\u001b[39;49m\u001b[43m.\u001b[49m\u001b[43msparkSession\u001b[49m\u001b[43m.\u001b[49m\u001b[43m_sc\u001b[49m\u001b[43m,\u001b[49m\u001b[43m \u001b[49m\u001b[43mcols\u001b[49m\u001b[43m,\u001b[49m\u001b[43m \u001b[49m\u001b[43mconverter\u001b[49m\u001b[43m)\u001b[49m\n",
            "\u001b[36mFile \u001b[39m\u001b[32mc:\\Users\\jessi\\Desktop\\BT4221\\maleware-detection-ml-model\\.venv\\Lib\\site-packages\\pyspark\\sql\\column.py:88\u001b[39m, in \u001b[36m_to_seq\u001b[39m\u001b[34m(sc, cols, converter)\u001b[39m\n\u001b[32m     81\u001b[39m \u001b[38;5;250m\u001b[39m\u001b[33;03m\"\"\"\u001b[39;00m\n\u001b[32m     82\u001b[39m \u001b[33;03mConvert a list of Columns (or names) into a JVM Seq of Column.\u001b[39;00m\n\u001b[32m     83\u001b[39m \n\u001b[32m     84\u001b[39m \u001b[33;03mAn optional `converter` could be used to convert items in `cols`\u001b[39;00m\n\u001b[32m     85\u001b[39m \u001b[33;03minto JVM Column objects.\u001b[39;00m\n\u001b[32m     86\u001b[39m \u001b[33;03m\"\"\"\u001b[39;00m\n\u001b[32m     87\u001b[39m \u001b[38;5;28;01mif\u001b[39;00m converter:\n\u001b[32m---> \u001b[39m\u001b[32m88\u001b[39m     cols = [\u001b[43mconverter\u001b[49m\u001b[43m(\u001b[49m\u001b[43mc\u001b[49m\u001b[43m)\u001b[49m \u001b[38;5;28;01mfor\u001b[39;00m c \u001b[38;5;129;01min\u001b[39;00m cols]\n\u001b[32m     89\u001b[39m \u001b[38;5;28;01massert\u001b[39;00m sc._jvm \u001b[38;5;129;01mis\u001b[39;00m \u001b[38;5;129;01mnot\u001b[39;00m \u001b[38;5;28;01mNone\u001b[39;00m\n\u001b[32m     90\u001b[39m \u001b[38;5;28;01mreturn\u001b[39;00m sc._jvm.PythonUtils.toSeq(cols)\n",
            "\u001b[36mFile \u001b[39m\u001b[32mc:\\Users\\jessi\\Desktop\\BT4221\\maleware-detection-ml-model\\.venv\\Lib\\site-packages\\pyspark\\sql\\column.py:63\u001b[39m, in \u001b[36m_to_java_column\u001b[39m\u001b[34m(col)\u001b[39m\n\u001b[32m     61\u001b[39m     jcol = col._jc\n\u001b[32m     62\u001b[39m \u001b[38;5;28;01melif\u001b[39;00m \u001b[38;5;28misinstance\u001b[39m(col, \u001b[38;5;28mstr\u001b[39m):\n\u001b[32m---> \u001b[39m\u001b[32m63\u001b[39m     jcol = \u001b[43m_create_column_from_name\u001b[49m\u001b[43m(\u001b[49m\u001b[43mcol\u001b[49m\u001b[43m)\u001b[49m\n\u001b[32m     64\u001b[39m \u001b[38;5;28;01melse\u001b[39;00m:\n\u001b[32m     65\u001b[39m     \u001b[38;5;28;01mraise\u001b[39;00m PySparkTypeError(\n\u001b[32m     66\u001b[39m         error_class=\u001b[33m\"\u001b[39m\u001b[33mNOT_COLUMN_OR_STR\u001b[39m\u001b[33m\"\u001b[39m,\n\u001b[32m     67\u001b[39m         message_parameters={\u001b[33m\"\u001b[39m\u001b[33marg_name\u001b[39m\u001b[33m\"\u001b[39m: \u001b[33m\"\u001b[39m\u001b[33mcol\u001b[39m\u001b[33m\"\u001b[39m, \u001b[33m\"\u001b[39m\u001b[33marg_type\u001b[39m\u001b[33m\"\u001b[39m: \u001b[38;5;28mtype\u001b[39m(col).\u001b[34m__name__\u001b[39m},\n\u001b[32m     68\u001b[39m     )\n",
            "\u001b[36mFile \u001b[39m\u001b[32mc:\\Users\\jessi\\Desktop\\BT4221\\maleware-detection-ml-model\\.venv\\Lib\\site-packages\\pyspark\\sql\\column.py:56\u001b[39m, in \u001b[36m_create_column_from_name\u001b[39m\u001b[34m(name)\u001b[39m\n\u001b[32m     54\u001b[39m \u001b[38;5;28;01mdef\u001b[39;00m\u001b[38;5;250m \u001b[39m\u001b[34m_create_column_from_name\u001b[39m(name: \u001b[38;5;28mstr\u001b[39m) -> \u001b[33m\"\u001b[39m\u001b[33mColumn\u001b[39m\u001b[33m\"\u001b[39m:\n\u001b[32m     55\u001b[39m     sc = get_active_spark_context()\n\u001b[32m---> \u001b[39m\u001b[32m56\u001b[39m     \u001b[38;5;28;01mreturn\u001b[39;00m \u001b[43mcast\u001b[49m\u001b[43m(\u001b[49m\u001b[43mJVMView\u001b[49m\u001b[43m,\u001b[49m\u001b[43m \u001b[49m\u001b[43msc\u001b[49m\u001b[43m.\u001b[49m\u001b[43m_jvm\u001b[49m\u001b[43m)\u001b[49m\u001b[43m.\u001b[49m\u001b[43mfunctions\u001b[49m.col(name)\n",
            "\u001b[36mFile \u001b[39m\u001b[32mc:\\Users\\jessi\\Desktop\\BT4221\\maleware-detection-ml-model\\.venv\\Lib\\site-packages\\py4j\\java_gateway.py:1712\u001b[39m, in \u001b[36mJVMView.__getattr__\u001b[39m\u001b[34m(self, name)\u001b[39m\n\u001b[32m   1709\u001b[39m \u001b[38;5;28;01mif\u001b[39;00m name == UserHelpAutoCompletion.KEY:\n\u001b[32m   1710\u001b[39m     \u001b[38;5;28;01mreturn\u001b[39;00m UserHelpAutoCompletion()\n\u001b[32m-> \u001b[39m\u001b[32m1712\u001b[39m answer = \u001b[38;5;28;43mself\u001b[39;49m\u001b[43m.\u001b[49m\u001b[43m_gateway_client\u001b[49m\u001b[43m.\u001b[49m\u001b[43msend_command\u001b[49m\u001b[43m(\u001b[49m\n\u001b[32m   1713\u001b[39m \u001b[43m    \u001b[49m\u001b[43mproto\u001b[49m\u001b[43m.\u001b[49m\u001b[43mREFLECTION_COMMAND_NAME\u001b[49m\u001b[43m \u001b[49m\u001b[43m+\u001b[49m\n\u001b[32m   1714\u001b[39m \u001b[43m    \u001b[49m\u001b[43mproto\u001b[49m\u001b[43m.\u001b[49m\u001b[43mREFL_GET_UNKNOWN_SUB_COMMAND_NAME\u001b[49m\u001b[43m \u001b[49m\u001b[43m+\u001b[49m\u001b[43m \u001b[49m\u001b[43mname\u001b[49m\u001b[43m \u001b[49m\u001b[43m+\u001b[49m\u001b[43m \u001b[49m\u001b[33;43m\"\u001b[39;49m\u001b[38;5;130;43;01m\\n\u001b[39;49;00m\u001b[33;43m\"\u001b[39;49m\u001b[43m \u001b[49m\u001b[43m+\u001b[49m\u001b[43m \u001b[49m\u001b[38;5;28;43mself\u001b[39;49m\u001b[43m.\u001b[49m\u001b[43m_id\u001b[49m\u001b[43m \u001b[49m\u001b[43m+\u001b[49m\n\u001b[32m   1715\u001b[39m \u001b[43m    \u001b[49m\u001b[33;43m\"\u001b[39;49m\u001b[38;5;130;43;01m\\n\u001b[39;49;00m\u001b[33;43m\"\u001b[39;49m\u001b[43m \u001b[49m\u001b[43m+\u001b[49m\u001b[43m \u001b[49m\u001b[43mproto\u001b[49m\u001b[43m.\u001b[49m\u001b[43mEND_COMMAND_PART\u001b[49m\u001b[43m)\u001b[49m\n\u001b[32m   1716\u001b[39m \u001b[38;5;28;01mif\u001b[39;00m answer == proto.SUCCESS_PACKAGE:\n\u001b[32m   1717\u001b[39m     \u001b[38;5;28;01mreturn\u001b[39;00m JavaPackage(name, \u001b[38;5;28mself\u001b[39m._gateway_client, jvm_id=\u001b[38;5;28mself\u001b[39m._id)\n",
            "\u001b[36mFile \u001b[39m\u001b[32mc:\\Users\\jessi\\Desktop\\BT4221\\maleware-detection-ml-model\\.venv\\Lib\\site-packages\\py4j\\java_gateway.py:1036\u001b[39m, in \u001b[36mGatewayClient.send_command\u001b[39m\u001b[34m(self, command, retry, binary)\u001b[39m\n\u001b[32m   1015\u001b[39m \u001b[38;5;28;01mdef\u001b[39;00m\u001b[38;5;250m \u001b[39m\u001b[34msend_command\u001b[39m(\u001b[38;5;28mself\u001b[39m, command, retry=\u001b[38;5;28;01mTrue\u001b[39;00m, binary=\u001b[38;5;28;01mFalse\u001b[39;00m):\n\u001b[32m   1016\u001b[39m \u001b[38;5;250m    \u001b[39m\u001b[33;03m\"\"\"Sends a command to the JVM. This method is not intended to be\u001b[39;00m\n\u001b[32m   1017\u001b[39m \u001b[33;03m       called directly by Py4J users. It is usually called by\u001b[39;00m\n\u001b[32m   1018\u001b[39m \u001b[33;03m       :class:`JavaMember` instances.\u001b[39;00m\n\u001b[32m   (...)\u001b[39m\u001b[32m   1034\u001b[39m \u001b[33;03m     if `binary` is `True`.\u001b[39;00m\n\u001b[32m   1035\u001b[39m \u001b[33;03m    \"\"\"\u001b[39;00m\n\u001b[32m-> \u001b[39m\u001b[32m1036\u001b[39m     connection = \u001b[38;5;28;43mself\u001b[39;49m\u001b[43m.\u001b[49m\u001b[43m_get_connection\u001b[49m\u001b[43m(\u001b[49m\u001b[43m)\u001b[49m\n\u001b[32m   1037\u001b[39m     \u001b[38;5;28;01mtry\u001b[39;00m:\n\u001b[32m   1038\u001b[39m         response = connection.send_command(command)\n",
            "\u001b[36mFile \u001b[39m\u001b[32mc:\\Users\\jessi\\Desktop\\BT4221\\maleware-detection-ml-model\\.venv\\Lib\\site-packages\\py4j\\clientserver.py:284\u001b[39m, in \u001b[36mJavaClient._get_connection\u001b[39m\u001b[34m(self)\u001b[39m\n\u001b[32m    281\u001b[39m     \u001b[38;5;28;01mpass\u001b[39;00m\n\u001b[32m    283\u001b[39m \u001b[38;5;28;01mif\u001b[39;00m connection \u001b[38;5;129;01mis\u001b[39;00m \u001b[38;5;28;01mNone\u001b[39;00m \u001b[38;5;129;01mor\u001b[39;00m connection.socket \u001b[38;5;129;01mis\u001b[39;00m \u001b[38;5;28;01mNone\u001b[39;00m:\n\u001b[32m--> \u001b[39m\u001b[32m284\u001b[39m     connection = \u001b[38;5;28;43mself\u001b[39;49m\u001b[43m.\u001b[49m\u001b[43m_create_new_connection\u001b[49m\u001b[43m(\u001b[49m\u001b[43m)\u001b[49m\n\u001b[32m    285\u001b[39m \u001b[38;5;28;01mreturn\u001b[39;00m connection\n",
            "\u001b[36mFile \u001b[39m\u001b[32mc:\\Users\\jessi\\Desktop\\BT4221\\maleware-detection-ml-model\\.venv\\Lib\\site-packages\\py4j\\clientserver.py:291\u001b[39m, in \u001b[36mJavaClient._create_new_connection\u001b[39m\u001b[34m(self)\u001b[39m\n\u001b[32m    287\u001b[39m \u001b[38;5;28;01mdef\u001b[39;00m\u001b[38;5;250m \u001b[39m\u001b[34m_create_new_connection\u001b[39m(\u001b[38;5;28mself\u001b[39m):\n\u001b[32m    288\u001b[39m     connection = ClientServerConnection(\n\u001b[32m    289\u001b[39m         \u001b[38;5;28mself\u001b[39m.java_parameters, \u001b[38;5;28mself\u001b[39m.python_parameters,\n\u001b[32m    290\u001b[39m         \u001b[38;5;28mself\u001b[39m.gateway_property, \u001b[38;5;28mself\u001b[39m)\n\u001b[32m--> \u001b[39m\u001b[32m291\u001b[39m     \u001b[43mconnection\u001b[49m\u001b[43m.\u001b[49m\u001b[43mconnect_to_java_server\u001b[49m\u001b[43m(\u001b[49m\u001b[43m)\u001b[49m\n\u001b[32m    292\u001b[39m     \u001b[38;5;28mself\u001b[39m.set_thread_connection(connection)\n\u001b[32m    293\u001b[39m     \u001b[38;5;28;01mreturn\u001b[39;00m connection\n",
            "\u001b[36mFile \u001b[39m\u001b[32mc:\\Users\\jessi\\Desktop\\BT4221\\maleware-detection-ml-model\\.venv\\Lib\\site-packages\\py4j\\clientserver.py:438\u001b[39m, in \u001b[36mClientServerConnection.connect_to_java_server\u001b[39m\u001b[34m(self)\u001b[39m\n\u001b[32m    435\u001b[39m \u001b[38;5;28;01mif\u001b[39;00m \u001b[38;5;28mself\u001b[39m.ssl_context:\n\u001b[32m    436\u001b[39m     \u001b[38;5;28mself\u001b[39m.socket = \u001b[38;5;28mself\u001b[39m.ssl_context.wrap_socket(\n\u001b[32m    437\u001b[39m         \u001b[38;5;28mself\u001b[39m.socket, server_hostname=\u001b[38;5;28mself\u001b[39m.java_address)\n\u001b[32m--> \u001b[39m\u001b[32m438\u001b[39m \u001b[38;5;28;43mself\u001b[39;49m\u001b[43m.\u001b[49m\u001b[43msocket\u001b[49m\u001b[43m.\u001b[49m\u001b[43mconnect\u001b[49m\u001b[43m(\u001b[49m\u001b[43m(\u001b[49m\u001b[38;5;28;43mself\u001b[39;49m\u001b[43m.\u001b[49m\u001b[43mjava_address\u001b[49m\u001b[43m,\u001b[49m\u001b[43m \u001b[49m\u001b[38;5;28;43mself\u001b[39;49m\u001b[43m.\u001b[49m\u001b[43mjava_port\u001b[49m\u001b[43m)\u001b[49m\u001b[43m)\u001b[49m\n\u001b[32m    439\u001b[39m \u001b[38;5;28mself\u001b[39m.stream = \u001b[38;5;28mself\u001b[39m.socket.makefile(\u001b[33m\"\u001b[39m\u001b[33mrb\u001b[39m\u001b[33m\"\u001b[39m)\n\u001b[32m    440\u001b[39m \u001b[38;5;28mself\u001b[39m.is_connected = \u001b[38;5;28;01mTrue\u001b[39;00m\n",
            "\u001b[31mConnectionRefusedError\u001b[39m: [WinError 10061] No connection could be made because the target machine actively refused it"
          ]
        }
      ],
      "source": [
        "from pyspark.sql.types import FloatType, DoubleType\n",
        "\n",
        "# Define numeric features to keep (excluding ID-like columns)\n",
        "numeric_cols = [\n",
        "    \"duration\", \"orig_bytes\", \"resp_bytes\",\n",
        "    \"missed_bytes\", \"orig_pkts\", \"orig_ip_bytes\", \"resp_pkts\", \"resp_ip_bytes\"\n",
        "]\n",
        "\n",
        "# Convert PySpark DataFrame to pandas DataFrame for correlation calculation\n",
        "pandas_df = df.select(numeric_cols).toPandas()\n",
        "\n",
        "# Plot correlation heatmap\n",
        "plt.figure(figsize=(12, 6))\n",
        "sns.heatmap(pandas_df.corr(), annot=True, cmap=\"coolwarm\", fmt=\".2f\")\n",
        "plt.title(\"Correlation Between Numeric Features\")\n",
        "plt.show()"
      ]
    },
    {
      "cell_type": "markdown",
      "metadata": {
        "id": "tM7tDTvfVa7T"
      },
      "source": [
        "(need to rewrite as we using different dataset)\n",
        "From the correlation matrix, it can be seen that:\n",
        "1. Strong Positive Correlation (Close to 1.0)\n",
        "  - `orig_pkts` and `orig_ip_bytes` are perfectly correlated (1.00), suggesting that packet count and total IP bytes from the origin are directly proportional. One of the variables could be dropped to reduce redundancy.\n",
        "  - `resp_bytes` and `resp_ip_bytes` are similarly strongly correlated (0.98). This could also mean one of the columns might be redundant.\n",
        "  - `duration` and `resp_pkts` are also strongly correlated (0.95). This makes sense as longer durations correlate with more response packets, indicating sustained communication during the duration.\n",
        "2. Weak/Negligible Correlations (Close to 0):\n",
        "  - Port numbers (`id.orig_p`, `id.resp_p`) have near-zero correlations with other features suggesting that ports do not directly influence traffic metrics (e.g. duration, bytes). This is expected as ports are identifiers, not quantitative measures.\n",
        "  - Except for its strong positive correlation to `resp_ip_bytes`, `resp_bytes` and most other features have weak/negligible correlations (0.00-0.21) possibly indicating isolated response behaviors."
      ]
    },
    {
      "cell_type": "markdown",
      "metadata": {
        "id": "xvu7dhOjFPyJ"
      },
      "source": [
        "## Mutual Information Scoring"
      ]
    },
    {
      "cell_type": "code",
      "execution_count": null,
      "metadata": {
        "colab": {
          "base_uri": "https://localhost:8080/"
        },
        "collapsed": true,
        "id": "1wRa5nMjUwBX",
        "outputId": "df3e051a-ae0a-4079-ed24-153fae89a2a6"
      },
      "outputs": [
        {
          "name": "stdout",
          "output_type": "stream",
          "text": [
            "MI for ts: 0.0007\n",
            "MI for uid: 0.0282\n",
            "MI for id_orig_h: 0.0072\n",
            "MI for id_orig_p: 0.0025\n",
            "MI for id_resp_h: 0.0278\n",
            "MI for id_resp_p: 0.0016\n",
            "MI for proto: 0.0116\n",
            "MI for duration: 0.0039\n",
            "MI for orig_bytes: 0.0024\n",
            "MI for resp_bytes: 0.0004\n",
            "MI for conn_state: 0.0230\n",
            "MI for history: 0.0176\n",
            "MI for orig_pkts: 0.0010\n",
            "MI for orig_ip_bytes: 0.0017\n",
            "MI for resp_pkts: 0.0023\n",
            "MI for resp_ip_bytes: 0.0023\n",
            "MI for detailed-label: 0.0056\n",
            "\n",
            "=== Features sorted by Mutual Information ===\n",
            "uid: 0.0282\n",
            "id_resp_h: 0.0278\n",
            "conn_state: 0.0230\n",
            "history: 0.0176\n",
            "proto: 0.0116\n",
            "id_orig_h: 0.0072\n",
            "detailed-label: 0.0056\n",
            "duration: 0.0039\n",
            "id_orig_p: 0.0025\n",
            "orig_bytes: 0.0024\n",
            "resp_pkts: 0.0023\n",
            "resp_ip_bytes: 0.0023\n",
            "orig_ip_bytes: 0.0017\n",
            "id_resp_p: 0.0016\n",
            "orig_pkts: 0.0010\n",
            "ts: 0.0007\n",
            "resp_bytes: 0.0004\n"
          ]
        }
      ],
      "source": [
        "# Discretise numerical features\n",
        "numeric_cols = [col_name for col_name, dtype in df.dtypes if dtype in ['int', 'double', 'float']]\n",
        "\n",
        "# compute mutual info\n",
        "def compute_mutual_info(df, feature_col, target_col=\"label\", n_bins=5):\n",
        "    # 5 quantile based bins per numerical col\n",
        "    if feature_col in numeric_cols:\n",
        "        df = df.withColumn(\n",
        "            f\"{feature_col}_bin\",\n",
        "            F.ntile(n_bins).over(Window.orderBy(feature_col)))\n",
        "        feature_col = f\"{feature_col}_bin\"\n",
        "\n",
        "    # Compute joint probability P(X,Y)\n",
        "    joint_prob = (\n",
        "        df.groupBy(feature_col, target_col)\n",
        "        .agg(F.count(\"*\").alias(\"count\"))\n",
        "        .withColumn(\"p_xy\", F.col(\"count\") / df.count())\n",
        "    )\n",
        "\n",
        "    # Compute marginal probabilities P(X) and P(Y)\n",
        "    p_x = joint_prob.groupBy(feature_col).agg(F.sum(\"p_xy\").alias(\"p_x\"))\n",
        "    p_y = joint_prob.groupBy(target_col).agg(F.sum(\"p_xy\").alias(\"p_y\"))\n",
        "\n",
        "    # Calculate MI terms: p_xy * log2(p_xy / (p_x * p_y))\n",
        "    mi_terms = (\n",
        "        joint_prob.join(p_x, feature_col)\n",
        "        .join(p_y, target_col)\n",
        "        .withColumn(\n",
        "            \"mi_term\",\n",
        "            F.col(\"p_xy\") * F.log2(F.col(\"p_xy\") / (F.col(\"p_x\") * F.col(\"p_y\")))\n",
        "        )\n",
        "    )\n",
        "\n",
        "    # Sum MI terms to get final score\n",
        "    mi = mi_terms.agg(F.sum(\"mi_term\").alias(\"mi\")).collect()[0][\"mi\"]\n",
        "    return float(mi) if mi else 0.0\n",
        "\n",
        "# Compute MI for all features\n",
        "df_mis = df.select(\"*\")\n",
        "mi_results = {}\n",
        "\n",
        "for feature in df_mis.columns:  # Combine all features\n",
        "    if feature == \"label\":\n",
        "        continue\n",
        "    mi_score = compute_mutual_info(df_mis, feature)\n",
        "    mi_results[feature] = mi_score\n",
        "    print(f\"MI for {feature}: {mi_score:.4f}\")\n",
        "\n",
        "# Sort the MI and display results\n",
        "sorted_mi_results = sorted(mi_results.items(), key=lambda x: x[1], reverse=True)\n",
        "print(\"\\n=== Features sorted by Mutual Information ===\")\n",
        "for feature, mi_score in sorted_mi_results:\n",
        "    print(f\"{feature}: {mi_score:.4f}\")"
      ]
    },
    {
      "cell_type": "markdown",
      "metadata": {
        "id": "vXRzg0OfdxU1"
      },
      "source": [
        "(need to rewrite as we using different dataset now)\n",
        "**Interpretation of Mutual Information (MI) Scoring:**\n",
        "\n",
        "MI scoring is a measure of how much information one variable (feature) provides about another (target variable, in this case, `label`). It helps identify which features are most relevant for predicting the target, where a higher MI score means the feature is more informative for the prediction and should be prioritised for model training.\n",
        "\n",
        "From the results:\n",
        "The top 5 informative features are\n",
        "1. `uid` (0.0282)\n",
        "2. `id_resp_h` (0.0278)\n",
        "3. `conn_state` (0.0230)\n",
        "4. `history` (0.0176)\n",
        "5. `proto` (0.0116)\n",
        "\n",
        "On the other hand, the features with low/zero MI score are `resp_bytes` (0.0004) and `ts` (0.0007) which have very low MI and may have a negligible effect on prediction.\n",
        "\n",
        "**Data Leakage Issue**\n",
        "\n",
        "While `uid` has a high MI score, it could suggest that the `uid` is leaking information about the `label` as `uid` is supposed to be a unique identifier for the connection. Since it is unique per row, it has zero predictive power on new data and cannot be generalised onto new samples. This could cause the model to perform extremely well on training data but fail on unseen data."
      ]
    },
    {
      "cell_type": "markdown",
      "metadata": {
        "id": "-LwH82mRclPZ"
      },
      "source": [
        "# Feature Engineering"
      ]
    },
    {
      "cell_type": "markdown",
      "metadata": {
        "id": "rTUT3pONMZ4x"
      },
      "source": [
        "## Engineering new Meaningful Features"
      ]
    },
    {
      "cell_type": "code",
      "execution_count": 14,
      "metadata": {
        "id": "G5RsBjD0cn3k"
      },
      "outputs": [],
      "source": [
        "from pyspark.sql.functions import col, when, lit, log1p\n",
        "\n",
        "# Total Bytes\n",
        "# Byte Ratio (orig_bytes / (resp_bytes + 1))\n",
        "# Packet Ratio (orig_pkts / (resp_pkts + 1))\n",
        "# Total Packet Count\n",
        "# Throughput = total_bytes / (duration + 1e-6)\n",
        "# Data-to-packet efficiency\n",
        "\n",
        "df = df \\\n",
        "    .withColumn(\"total_bytes\", col(\"orig_bytes\") + col(\"resp_bytes\")) \\\n",
        "    .withColumn(\"byte_ratio\", col(\"orig_bytes\") / (col(\"resp_bytes\") + lit(1))) \\\n",
        "    .withColumn(\"pkt_ratio\", col(\"orig_pkts\") / (col(\"resp_pkts\") + lit(1))) \\\n",
        "    .withColumn(\"total_pkts\", col(\"orig_pkts\") + col(\"resp_pkts\")) \\\n",
        "    .withColumn(\"throughput\", col(\"total_bytes\") / (col(\"duration\") + lit(1e-6))) \\\n",
        "    .withColumn(\"efficiency\", col(\"total_bytes\") / (col(\"total_pkts\") + lit(1)))\n",
        "\n"
      ]
    },
    {
      "cell_type": "markdown",
      "metadata": {},
      "source": [
        "## Train-Test Split and label indexing"
      ]
    },
    {
      "cell_type": "code",
      "execution_count": 15,
      "metadata": {},
      "outputs": [
        {
          "name": "stdout",
          "output_type": "stream",
          "text": [
            "+------+-----------+\n",
            "| label|label_index|\n",
            "+------+-----------+\n",
            "|Benign|        0.0|\n",
            "|Benign|        0.0|\n",
            "|Benign|        0.0|\n",
            "|Benign|        0.0|\n",
            "|Benign|        0.0|\n",
            "|Benign|        0.0|\n",
            "|Benign|        0.0|\n",
            "|Benign|        0.0|\n",
            "|Benign|        0.0|\n",
            "|Benign|        0.0|\n",
            "+------+-----------+\n",
            "only showing top 10 rows\n",
            "\n"
          ]
        }
      ],
      "source": [
        "from pyspark.ml.feature import StringIndexer\n",
        "\n",
        "# Create a label indexer for string labels.\n",
        "label_indexer = StringIndexer(inputCol=\"label\", outputCol=\"label_index\", handleInvalid=\"keep\")\n",
        "\n",
        "df = label_indexer.fit(df).transform(df)\n",
        "\n",
        "# Show results to verify\n",
        "df.select(\"label\", \"label_index\").show(10)\n"
      ]
    },
    {
      "cell_type": "code",
      "execution_count": 16,
      "metadata": {},
      "outputs": [],
      "source": [
        "train_df, test_df = df.randomSplit([0.8, 0.2], seed=42)"
      ]
    },
    {
      "cell_type": "markdown",
      "metadata": {
        "id": "HpbaXcxPLdjk"
      },
      "source": [
        "## Encoding of Categorical Variables:"
      ]
    },
    {
      "cell_type": "markdown",
      "metadata": {},
      "source": [
        "Categorical varaiables included are History, proto, conn_state, and id_resp_p. From data exploration, cardinality of each of them are 61, 3, 11, 16 respectively.\n",
        "\n",
        "History has high cardinality so need to do frequency encoding.\n",
        "Others have relative low cardinality so one-hot encoding is feasible."
      ]
    },
    {
      "cell_type": "code",
      "execution_count": 17,
      "metadata": {},
      "outputs": [],
      "source": [
        "from pyspark.sql.functions import count\n",
        "\n",
        "# for high cardinality categorical features, use frequency encoding\n",
        "\n",
        "history_freq_train = train_df.groupBy(\"history\").count().withColumnRenamed(\"count\", \"history_freq\")\n",
        "\n",
        "# Join the frequency mapping to the training data.\n",
        "train_df = train_df.alias(\"left\") \\\n",
        "    .join(history_freq_train.alias(\"right\"), col(\"left.history\") == col(\"right.history\"), \"left\") \\\n",
        "    .select(\"left.*\", col(\"right.history_freq\"))\n",
        "\n",
        "# Join the same mapping to the test data.\n",
        "test_df = test_df.join(history_freq_train, on=\"history\", how=\"left\")\n",
        "# Fill null values in test set for unseen \"history\" categories (if any) with 0.\n",
        "test_df = test_df.fillna({\"history_freq\": 0.0})\n"
      ]
    },
    {
      "cell_type": "code",
      "execution_count": 18,
      "metadata": {},
      "outputs": [],
      "source": [
        "from pyspark.ml.feature import StringIndexer, OneHotEncoder\n",
        "\n",
        "# Low-cardinality categorical features to one-hot encode:\n",
        "low_card_cat = [\"proto\", \"conn_state\", \"id_resp_p\"]\n",
        "\n",
        "# Create StringIndexers for low-cardinality features.\n",
        "indexers = [StringIndexer(inputCol=cat, outputCol=cat + \"_index\", handleInvalid=\"keep\")\n",
        "            for cat in low_card_cat]\n",
        "\n",
        "# Create OneHotEncoders for the indexed features.\n",
        "encoders = [OneHotEncoder(inputCol=cat + \"_index\", outputCol=cat + \"_vec\")\n",
        "            for cat in low_card_cat]"
      ]
    },
    {
      "cell_type": "code",
      "execution_count": 19,
      "metadata": {},
      "outputs": [
        {
          "name": "stdout",
          "output_type": "stream",
          "text": [
            "['ts', 'uid', 'id_orig_h', 'id_orig_p', 'id_resp_h', 'id_resp_p', 'proto', 'duration', 'orig_bytes', 'resp_bytes', 'conn_state', 'missed_bytes', 'history', 'orig_pkts', 'orig_ip_bytes', 'resp_pkts', 'resp_ip_bytes', 'label', 'total_bytes', 'byte_ratio', 'pkt_ratio', 'total_pkts', 'throughput', 'efficiency', 'label_index', 'history_freq']\n"
          ]
        }
      ],
      "source": [
        "print(train_df.columns)\n"
      ]
    },
    {
      "cell_type": "markdown",
      "metadata": {
        "id": "zIw_teB0ITOI"
      },
      "source": [
        "## Scaling of Numerical Features"
      ]
    },
    {
      "cell_type": "code",
      "execution_count": 20,
      "metadata": {},
      "outputs": [],
      "source": [
        "from pyspark.ml.feature import VectorAssembler, StandardScaler\n",
        "\n",
        "# List of numerical features to scale.\n",
        "numeric_features = [\"duration\", \"byte_ratio\", \"pkt_ratio\",\n",
        "                    \"total_bytes\", \"total_pkts\", \"efficiency\", \"throughput\", \"history_freq\"]\n",
        "\n",
        "# Ensure numeric feature columns are of type double.\n",
        "for feature in numeric_features:\n",
        "    train_df = train_df.withColumn(feature, col(feature).cast(\"double\"))\n",
        "    test_df = test_df.withColumn(feature, col(feature).cast(\"double\"))\n",
        "\n",
        "# Assemble numeric features into a vector.\n",
        "assembler_num = VectorAssembler(inputCols=numeric_features, outputCol=\"num_features\")\n",
        "\n",
        "# Scale numerical features using StandardScaler.\n",
        "scaler = StandardScaler(inputCol=\"num_features\", outputCol=\"features_scaled\")"
      ]
    },
    {
      "cell_type": "markdown",
      "metadata": {
        "id": "X0I8dV6gL7zN"
      },
      "source": [
        "## Assemble Features"
      ]
    },
    {
      "cell_type": "code",
      "execution_count": 22,
      "metadata": {},
      "outputs": [],
      "source": [
        "from pyspark.ml.feature import VectorAssembler\n",
        "from pyspark.ml.classification import LogisticRegression\n",
        "\n",
        "final_assembler = VectorAssembler(\n",
        "    inputCols=[\"features_scaled\"] + [cat + \"_vec\" for cat in low_card_cat] + [\"history_freq\"],\n",
        "    outputCol=\"features\"\n",
        ")\n"
      ]
    },
    {
      "cell_type": "markdown",
      "metadata": {
        "id": "R43x7rDi5sF8"
      },
      "source": [
        "# Model Training and Evaluation"
      ]
    },
    {
      "cell_type": "markdown",
      "metadata": {
        "id": "yCclzB3TMgX6"
      },
      "source": [
        "## Logistic Regression"
      ]
    },
    {
      "cell_type": "code",
      "execution_count": 23,
      "metadata": {},
      "outputs": [],
      "source": [
        "lr = LogisticRegression(featuresCol=\"features\", labelCol=\"label_index\", maxIter=20, regParam=0.1)\n",
        "\n",
        "pipeline = Pipeline(stages=indexers + encoders + [assembler_num, scaler, final_assembler, \n",
        "    lr])\n"
      ]
    },
    {
      "cell_type": "markdown",
      "metadata": {},
      "source": [
        "## Hyperparameter Tunning and k-fold validation"
      ]
    },
    {
      "cell_type": "code",
      "execution_count": 25,
      "metadata": {},
      "outputs": [],
      "source": [
        "from pyspark.ml.tuning import CrossValidator, ParamGridBuilder\n",
        "from pyspark.ml.evaluation import BinaryClassificationEvaluator, MulticlassClassificationEvaluator\n",
        "\n",
        "# Setup parameter grid for Logistic Regression.\n",
        "paramGrid = ParamGridBuilder() \\\n",
        "    .addGrid(lr.regParam, [0.01, 0.1]) \\\n",
        "    .addGrid(lr.elasticNetParam, [0.0]) \\\n",
        "    .build()\n",
        "\n",
        "# Define evaluator using area under ROC.\n",
        "evaluator = MulticlassClassificationEvaluator(labelCol=\"label_index\", metricName=\"accuracy\")\n",
        "\n",
        "# Setup 3-fold cross-validation.\n",
        "cv = CrossValidator(\n",
        "    estimator=pipeline,\n",
        "    estimatorParamMaps=paramGrid,\n",
        "    evaluator=evaluator,\n",
        "    numFolds=3\n",
        ")\n",
        "\n",
        "# Train the model using cross-validation on the training set.\n",
        "cvModel = cv.fit(train_df)\n",
        "\n"
      ]
    },
    {
      "cell_type": "code",
      "execution_count": 26,
      "metadata": {},
      "outputs": [
        {
          "name": "stdout",
          "output_type": "stream",
          "text": [
            "Test AUC: 1.0000\n",
            "Test Accuracy: 1.0000\n",
            "Test F1 Score: 1.0000\n",
            "+-----------+----------+--------------------------------------------------------------+\n",
            "|label_index|prediction|probability                                                   |\n",
            "+-----------+----------+--------------------------------------------------------------+\n",
            "|0.0        |0.0       |[0.9907149802354839,0.009227392680974205,5.762708354181235E-5]|\n",
            "|0.0        |0.0       |[0.9907151801974939,0.009227193398812365,5.76264036937016E-5] |\n",
            "|0.0        |0.0       |[0.9907149805561322,0.009227392361416318,5.762708245165082E-5]|\n",
            "|0.0        |0.0       |[0.9907149801954028,0.00922739272091894,5.762708367808263E-5] |\n",
            "|0.0        |0.0       |[0.9907149804358891,0.009227392481250516,5.762708286046142E-5]|\n",
            "|0.0        |0.0       |[0.9907150603570749,0.009227312831786835,5.762681113831902E-5]|\n",
            "|0.0        |0.0       |[0.9907149706160373,0.009227402267716062,5.76271162466679E-5] |\n",
            "|0.0        |0.0       |[0.9907149904962165,0.009227382455127093,5.762704865665305E-5]|\n",
            "|0.0        |0.0       |[0.9907149001933699,0.009227472450955973,5.76273556740116E-5] |\n",
            "|0.0        |0.0       |[0.9907148507328533,0.009227521743314286,5.762752383243762E-5]|\n",
            "+-----------+----------+--------------------------------------------------------------+\n",
            "only showing top 10 rows\n",
            "\n"
          ]
        }
      ],
      "source": [
        "from pyspark.ml.evaluation import BinaryClassificationEvaluator# Make predictions on the test set.\n",
        "predictions = cvModel.transform(test_df)\n",
        "\n",
        "# Evaluate using AUC.\n",
        "auc = evaluator.evaluate(predictions)\n",
        "print(f\"Test AUC: {auc:.4f}\")\n",
        "\n",
        "# Evaluate using Accuracy.\n",
        "accuracy_evaluator = MulticlassClassificationEvaluator(labelCol=\"label_index\", predictionCol=\"prediction\", metricName=\"accuracy\")\n",
        "accuracy = accuracy_evaluator.evaluate(predictions)\n",
        "print(f\"Test Accuracy: {accuracy:.4f}\")\n",
        "\n",
        "# Evaluate using F1 Score.\n",
        "f1_evaluator = MulticlassClassificationEvaluator(labelCol=\"label_index\", predictionCol=\"prediction\", metricName=\"f1\")\n",
        "f1 = f1_evaluator.evaluate(predictions)\n",
        "print(f\"Test F1 Score: {f1:.4f}\")\n",
        "\n",
        "# Show sample predictions.\n",
        "predictions.select(\"label_index\", \"prediction\", \"probability\").show(10, truncate=False)"
      ]
    },
    {
      "cell_type": "markdown",
      "metadata": {
        "id": "phW0E54BMjuc"
      },
      "source": [
        "## Random Forest"
      ]
    },
    {
      "cell_type": "code",
      "execution_count": null,
      "metadata": {
        "id": "4NxND86oM56v"
      },
      "outputs": [],
      "source": [
        "# to be filled"
      ]
    },
    {
      "cell_type": "markdown",
      "metadata": {
        "id": "VLBMnQuGMwBZ"
      },
      "source": [
        "## Gradient Boosted Trees"
      ]
    },
    {
      "cell_type": "code",
      "execution_count": 26,
      "metadata": {
        "id": "Sy5xHJXsM7Nt"
      },
      "outputs": [
        {
          "ename": "NameError",
          "evalue": "name 'encoder' is not defined",
          "output_type": "error",
          "traceback": [
            "\u001b[31m---------------------------------------------------------------------------\u001b[39m",
            "\u001b[31mNameError\u001b[39m                                 Traceback (most recent call last)",
            "\u001b[36mCell\u001b[39m\u001b[36m \u001b[39m\u001b[32mIn[26]\u001b[39m\u001b[32m, line 13\u001b[39m\n\u001b[32m      6\u001b[39m gbt = GBTClassifier(featuresCol=\u001b[33m\"\u001b[39m\u001b[33mfeatures\u001b[39m\u001b[33m\"\u001b[39m,\n\u001b[32m      7\u001b[39m                     labelCol=\u001b[33m\"\u001b[39m\u001b[33mlabel_index\u001b[39m\u001b[33m\"\u001b[39m, \n\u001b[32m      8\u001b[39m                     maxIter=\u001b[32m50\u001b[39m, \n\u001b[32m      9\u001b[39m                     maxDepth=\u001b[32m5\u001b[39m)\n\u001b[32m     10\u001b[39m \u001b[38;5;66;03m# gbt pipeline\u001b[39;00m\n\u001b[32m     11\u001b[39m gbt_pipeline = Pipeline(stages=[\n\u001b[32m     12\u001b[39m     label_indexer,\n\u001b[32m---> \u001b[39m\u001b[32m13\u001b[39m     \u001b[43mencoder\u001b[49m, \u001b[38;5;66;03m# insert encoders !!\u001b[39;00m\n\u001b[32m     14\u001b[39m     assembler,\n\u001b[32m     15\u001b[39m     gbt\n\u001b[32m     16\u001b[39m ])\n\u001b[32m     17\u001b[39m \u001b[38;5;66;03m# train the model\u001b[39;00m\n\u001b[32m     18\u001b[39m gbt_model = gbt_pipeline.fit(train)\n",
            "\u001b[31mNameError\u001b[39m: name 'encoder' is not defined"
          ]
        }
      ],
      "source": [
        "from pyspark.ml.classification import GBTClassifier\n",
        "from pyspark.ml.evaluation import BinaryClassificationEvaluator, MulticlassClassificationEvaluator\n",
        "from pyspark.ml import Pipeline\n",
        "\n",
        "# gbt regressor\n",
        "gbt = GBTClassifier(featuresCol=\"features\",\n",
        "                    labelCol=\"label_index\", \n",
        "                    maxIter=50, \n",
        "                    maxDepth=5)\n",
        "# gbt pipeline\n",
        "gbt_pipeline = Pipeline(stages=[\n",
        "    label_indexer,\n",
        "    encoder, # insert encoders !!\n",
        "    assembler,\n",
        "    gbt\n",
        "])\n",
        "# train the model\n",
        "gbt_model = gbt_pipeline.fit(train)\n",
        "\n",
        "# Make predictions with Gradient Boosted Tree\n",
        "gbt_predictions = gbt_model.transform(test)\n",
        "\n",
        "# evaluate AUC using BinaryClassificationEvaluator\n",
        "evaluator_auc = BinaryClassificationEvaluator(\n",
        "    labelCol=\"label_index\",\n",
        "    rawPredictionCol=\"rawPrediction\",  # GBT outputs rawPrediction\n",
        "    metricName=\"areaUnderROC\"\n",
        ")\n",
        "\n",
        "gbt_auc = evaluator_auc.evaluate(gbt_predictions)\n",
        "print(f\"GBT AUC: {gbt_auc:.4f}\")\n",
        "\n",
        "evaluator_acc = MulticlassClassificationEvaluator(\n",
        "    labelCol=\"label_index\", \n",
        "    predictionCol=\"prediction\", \n",
        "    metricName=\"accuracy\"\n",
        ")\n",
        "\n",
        "gbt_accuracy = evaluator_acc.evaluate(gbt_predictions)\n",
        "print(f\"Accuracy: {gbt_accuracy:.4f}\")"
      ]
    },
    {
      "cell_type": "markdown",
      "metadata": {
        "id": "Lehy1GtUM1bq"
      },
      "source": [
        "## MLP"
      ]
    },
    {
      "cell_type": "code",
      "execution_count": null,
      "metadata": {
        "id": "MwdyBCqcM81h"
      },
      "outputs": [],
      "source": [
        "# to be filled"
      ]
    },
    {
      "cell_type": "markdown",
      "metadata": {
        "id": "O_f4FngJ5tOD"
      },
      "source": [
        "# Hyperparameter Tuning & Cross-Validation"
      ]
    },
    {
      "cell_type": "code",
      "execution_count": null,
      "metadata": {
        "id": "MHoLi5yvNHjz"
      },
      "outputs": [],
      "source": [
        "# to be done"
      ]
    },
    {
      "cell_type": "markdown",
      "metadata": {
        "id": "sVSpNYqJ52bF"
      },
      "source": [
        "# Model Comparison"
      ]
    },
    {
      "cell_type": "code",
      "execution_count": null,
      "metadata": {},
      "outputs": [],
      "source": []
    },
    {
      "cell_type": "markdown",
      "metadata": {
        "id": "phT0fenb56Nq"
      },
      "source": [
        "write interpretations here"
      ]
    }
  ],
  "metadata": {
    "colab": {
      "provenance": [],
      "toc_visible": true
    },
    "kernelspec": {
      "display_name": ".venv",
      "language": "python",
      "name": "python3"
    },
    "language_info": {
      "codemirror_mode": {
        "name": "ipython",
        "version": 3
      },
      "file_extension": ".py",
      "mimetype": "text/x-python",
      "name": "python",
      "nbconvert_exporter": "python",
      "pygments_lexer": "ipython3",
      "version": "3.13.2"
    }
  },
  "nbformat": 4,
  "nbformat_minor": 0
}
