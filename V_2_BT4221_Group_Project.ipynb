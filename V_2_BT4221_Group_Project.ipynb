{
<<<<<<< HEAD
  "cells": [
    {
      "cell_type": "markdown",
      "metadata": {
        "id": "MuHMusOPE9ag"
      },
      "source": [
        "# Load Dataset"
      ]
    },
    {
      "cell_type": "code",
      "execution_count": 1,
      "metadata": {
        "colab": {
          "base_uri": "https://localhost:8080/"
        },
        "id": "U9d8CGDIJMeN",
        "outputId": "6e375b9c-f67a-494c-9065-176e66108b1b"
      },
      "outputs": [
        {
          "name": "stdout",
          "output_type": "stream",
          "text": [
            "Requirement already satisfied: pyspark in c:\\users\\jessi\\desktop\\bt4221\\maleware-detection-ml-model\\.venv\\lib\\site-packages (3.5.5)\n",
            "Requirement already satisfied: py4j==0.10.9.7 in c:\\users\\jessi\\desktop\\bt4221\\maleware-detection-ml-model\\.venv\\lib\\site-packages (from pyspark) (0.10.9.7)\n",
            "Note: you may need to restart the kernel to use updated packages.\n",
            "Requirement already satisfied: seaborn in c:\\users\\jessi\\desktop\\bt4221\\maleware-detection-ml-model\\.venv\\lib\\site-packages (0.13.2)\n",
            "Requirement already satisfied: numpy!=1.24.0,>=1.20 in c:\\users\\jessi\\desktop\\bt4221\\maleware-detection-ml-model\\.venv\\lib\\site-packages (from seaborn) (2.2.4)\n",
            "Requirement already satisfied: pandas>=1.2 in c:\\users\\jessi\\desktop\\bt4221\\maleware-detection-ml-model\\.venv\\lib\\site-packages (from seaborn) (2.2.3)\n",
            "Requirement already satisfied: matplotlib!=3.6.1,>=3.4 in c:\\users\\jessi\\desktop\\bt4221\\maleware-detection-ml-model\\.venv\\lib\\site-packages (from seaborn) (3.10.1)\n",
            "Requirement already satisfied: contourpy>=1.0.1 in c:\\users\\jessi\\desktop\\bt4221\\maleware-detection-ml-model\\.venv\\lib\\site-packages (from matplotlib!=3.6.1,>=3.4->seaborn) (1.3.1)\n",
            "Requirement already satisfied: cycler>=0.10 in c:\\users\\jessi\\desktop\\bt4221\\maleware-detection-ml-model\\.venv\\lib\\site-packages (from matplotlib!=3.6.1,>=3.4->seaborn) (0.12.1)\n",
            "Requirement already satisfied: fonttools>=4.22.0 in c:\\users\\jessi\\desktop\\bt4221\\maleware-detection-ml-model\\.venv\\lib\\site-packages (from matplotlib!=3.6.1,>=3.4->seaborn) (4.57.0)\n",
            "Requirement already satisfied: kiwisolver>=1.3.1 in c:\\users\\jessi\\desktop\\bt4221\\maleware-detection-ml-model\\.venv\\lib\\site-packages (from matplotlib!=3.6.1,>=3.4->seaborn) (1.4.8)\n",
            "Requirement already satisfied: packaging>=20.0 in c:\\users\\jessi\\desktop\\bt4221\\maleware-detection-ml-model\\.venv\\lib\\site-packages (from matplotlib!=3.6.1,>=3.4->seaborn) (24.2)\n",
            "Requirement already satisfied: pillow>=8 in c:\\users\\jessi\\desktop\\bt4221\\maleware-detection-ml-model\\.venv\\lib\\site-packages (from matplotlib!=3.6.1,>=3.4->seaborn) (11.1.0)\n",
            "Requirement already satisfied: pyparsing>=2.3.1 in c:\\users\\jessi\\desktop\\bt4221\\maleware-detection-ml-model\\.venv\\lib\\site-packages (from matplotlib!=3.6.1,>=3.4->seaborn) (3.2.3)\n",
            "Requirement already satisfied: python-dateutil>=2.7 in c:\\users\\jessi\\desktop\\bt4221\\maleware-detection-ml-model\\.venv\\lib\\site-packages (from matplotlib!=3.6.1,>=3.4->seaborn) (2.9.0.post0)\n",
            "Requirement already satisfied: pytz>=2020.1 in c:\\users\\jessi\\desktop\\bt4221\\maleware-detection-ml-model\\.venv\\lib\\site-packages (from pandas>=1.2->seaborn) (2025.2)\n",
            "Requirement already satisfied: tzdata>=2022.7 in c:\\users\\jessi\\desktop\\bt4221\\maleware-detection-ml-model\\.venv\\lib\\site-packages (from pandas>=1.2->seaborn) (2025.2)\n",
            "Requirement already satisfied: six>=1.5 in c:\\users\\jessi\\desktop\\bt4221\\maleware-detection-ml-model\\.venv\\lib\\site-packages (from python-dateutil>=2.7->matplotlib!=3.6.1,>=3.4->seaborn) (1.17.0)\n",
            "Note: you may need to restart the kernel to use updated packages.\n",
            "Requirement already satisfied: seaborn in c:\\users\\jessi\\desktop\\bt4221\\maleware-detection-ml-model\\.venv\\lib\\site-packages (0.13.2)\n",
            "Requirement already satisfied: matplotlib in c:\\users\\jessi\\desktop\\bt4221\\maleware-detection-ml-model\\.venv\\lib\\site-packages (3.10.1)\n",
            "Requirement already satisfied: pandas in c:\\users\\jessi\\desktop\\bt4221\\maleware-detection-ml-model\\.venv\\lib\\site-packages (2.2.3)\n",
            "Requirement already satisfied: numpy in c:\\users\\jessi\\desktop\\bt4221\\maleware-detection-ml-model\\.venv\\lib\\site-packages (2.2.4)\n",
            "Requirement already satisfied: contourpy>=1.0.1 in c:\\users\\jessi\\desktop\\bt4221\\maleware-detection-ml-model\\.venv\\lib\\site-packages (from matplotlib) (1.3.1)\n",
            "Requirement already satisfied: cycler>=0.10 in c:\\users\\jessi\\desktop\\bt4221\\maleware-detection-ml-model\\.venv\\lib\\site-packages (from matplotlib) (0.12.1)\n",
            "Requirement already satisfied: fonttools>=4.22.0 in c:\\users\\jessi\\desktop\\bt4221\\maleware-detection-ml-model\\.venv\\lib\\site-packages (from matplotlib) (4.57.0)\n",
            "Requirement already satisfied: kiwisolver>=1.3.1 in c:\\users\\jessi\\desktop\\bt4221\\maleware-detection-ml-model\\.venv\\lib\\site-packages (from matplotlib) (1.4.8)\n",
            "Requirement already satisfied: packaging>=20.0 in c:\\users\\jessi\\desktop\\bt4221\\maleware-detection-ml-model\\.venv\\lib\\site-packages (from matplotlib) (24.2)\n",
            "Requirement already satisfied: pillow>=8 in c:\\users\\jessi\\desktop\\bt4221\\maleware-detection-ml-model\\.venv\\lib\\site-packages (from matplotlib) (11.1.0)\n",
            "Requirement already satisfied: pyparsing>=2.3.1 in c:\\users\\jessi\\desktop\\bt4221\\maleware-detection-ml-model\\.venv\\lib\\site-packages (from matplotlib) (3.2.3)\n",
            "Requirement already satisfied: python-dateutil>=2.7 in c:\\users\\jessi\\desktop\\bt4221\\maleware-detection-ml-model\\.venv\\lib\\site-packages (from matplotlib) (2.9.0.post0)\n",
            "Requirement already satisfied: pytz>=2020.1 in c:\\users\\jessi\\desktop\\bt4221\\maleware-detection-ml-model\\.venv\\lib\\site-packages (from pandas) (2025.2)\n",
            "Requirement already satisfied: tzdata>=2022.7 in c:\\users\\jessi\\desktop\\bt4221\\maleware-detection-ml-model\\.venv\\lib\\site-packages (from pandas) (2025.2)\n",
            "Requirement already satisfied: six>=1.5 in c:\\users\\jessi\\desktop\\bt4221\\maleware-detection-ml-model\\.venv\\lib\\site-packages (from python-dateutil>=2.7->matplotlib) (1.17.0)\n",
            "Note: you may need to restart the kernel to use updated packages.\n"
          ]
        }
      ],
      "source": [
        "%pip install pyspark\n",
        "%pip install seaborn\n",
        "%pip install seaborn matplotlib pandas numpy\n"
      ]
    },
    {
      "cell_type": "code",
      "execution_count": 2,
      "metadata": {
        "id": "wza_1GzTtyur"
      },
      "outputs": [],
      "source": [
        "# imports\n",
        "from pyspark.sql import SparkSession\n",
        "from pyspark.sql import functions as F\n",
        "from pyspark.sql.functions import split, col, count, when, sum, expr, udf\n",
        "from pyspark.sql.types import FloatType, DoubleType\n",
        "from pyspark.sql.window import Window\n",
        "from pyspark.ml.clustering import KMeans\n",
        "from pyspark.ml.feature import VectorAssembler, StandardScaler\n",
        "from pyspark.ml import Pipeline\n",
        "\n",
        "import math\n",
        "import seaborn as sns\n",
        "import matplotlib.pyplot as plt\n",
        "import pandas as pd\n",
        "import numpy as np\n",
        "\n",
        "# from google.colab import files"
      ]
    },
    {
      "cell_type": "code",
      "execution_count": 3,
      "metadata": {},
      "outputs": [],
      "source": [
        "import os\n",
        "os.environ[\"JAVA_HOME\"] = \"C:\\\\Program Files\\\\Eclipse Adoptium\\\\jdk-8.0.442.6-hotspot\""
      ]
    },
    {
      "cell_type": "code",
      "execution_count": 4,
      "metadata": {
        "colab": {
          "base_uri": "https://localhost:8080/"
        },
        "id": "bHvifmtp9W8I",
        "outputId": "a1fd5426-fc7b-4d24-ee69-e9a5f0644a1c"
      },
      "outputs": [
        {
          "name": "stdout",
          "output_type": "stream",
          "text": [
            "✅ Spark session created.\n"
          ]
        }
      ],
      "source": [
        "from pyspark.sql import SparkSession\n",
        "\n",
        "# Check if a Spark session already exists\n",
        "spark = SparkSession.getActiveSession()\n",
        "if spark is None:\n",
        "    spark = SparkSession.builder.appName(\"NetTraffic\").getOrCreate()\n",
        "    print(\"✅ Spark session created.\")\n",
        "else:\n",
        "    print(\"🔄 Using existing Spark session.\")"
      ]
    },
    {
      "cell_type": "code",
      "execution_count": 5,
      "metadata": {},
      "outputs": [],
      "source": [
        "# Path to the file (same folder as notebook)\n",
        "file_path = \"dataset_malware.csv\" # change name if needed\n",
        "\n",
        "# Load the CSV into a Spark DataFrame\n",
        "df = spark.read.csv(file_path, header=True, inferSchema=True, sep=\"|\")"
      ]
    },
    {
      "cell_type": "markdown",
      "metadata": {
        "id": "7imKjAzND901"
      },
      "source": [
        "# Light Data Exploration"
      ]
    },
    {
      "cell_type": "markdown",
      "metadata": {
        "id": "KJExQrJbDw9S"
      },
      "source": [
        "## Display first 5 rows in dataset"
      ]
    },
    {
      "cell_type": "code",
      "execution_count": 33,
      "metadata": {
        "colab": {
          "base_uri": "https://localhost:8080/"
        },
        "collapsed": true,
        "id": "cTmZ3Gygzz4S",
        "outputId": "b967f68f-98ca-4d05-fda5-fd8dfe52cca1"
      },
      "outputs": [
        {
          "name": "stdout",
          "output_type": "stream",
          "text": [
            "+-------------------+------------------+-------------+---------+--------------+---------+-----+-------+--------+----------+----------+----------+----------+----------+------------+-------+---------+-------------+---------+-------------+--------------+---------------+--------------+\n",
            "|                 ts|               uid|    id.orig_h|id.orig_p|     id.resp_h|id.resp_p|proto|service|duration|orig_bytes|resp_bytes|conn_state|local_orig|local_resp|missed_bytes|history|orig_pkts|orig_ip_bytes|resp_pkts|resp_ip_bytes|tunnel_parents|          label|detailed-label|\n",
            "+-------------------+------------------+-------------+---------+--------------+---------+-----+-------+--------+----------+----------+----------+----------+----------+------------+-------+---------+-------------+---------+-------------+--------------+---------------+--------------+\n",
            "|1.545402842863612E9|CdNmOg26ZIaBRzPvWj|192.168.1.196|  59932.0|104.248.160.24|     80.0|  tcp|      -|3.097754|         0|         0|        S0|         -|         -|         0.0|      S|      3.0|        180.0|      0.0|          0.0|             -|Malicious   C&C|          NULL|\n",
            "|1.545402850041294E9|CgzGV333k9WCximeu8|192.168.1.196|  59932.0|104.248.160.24|     80.0|  tcp|      -|       -|         -|         -|        S0|         -|         -|         0.0|      S|      1.0|         60.0|      0.0|          0.0|             -|Malicious   C&C|          NULL|\n",
            "|1.545402858441479E9|CLm5Pd3ZnqmYVjrZ44|192.168.1.196|  59932.0|104.248.160.24|     80.0|  tcp|      -|       -|         -|         -|        S0|         -|         -|         0.0|      S|      1.0|         60.0|      0.0|          0.0|             -|Malicious   C&C|          NULL|\n",
            "|1.545402853913069E9|CDn2pd1rDD1lCMXAia|192.168.1.196|  35883.0|   192.168.1.1|     53.0|  udp|    dns|5.005148|        78|         0|        S0|         -|         -|         0.0|      D|      2.0|        134.0|      0.0|          0.0|             -|         Benign|             -|\n",
            "| 1.54540284390254E9|C1NKkV3tB4rImzbpDj|192.168.1.196|  43531.0|   192.168.1.1|     53.0|  udp|    dns|5.005145|        78|         0|        S0|         -|         -|         0.0|      D|      2.0|        134.0|      0.0|          0.0|             -|         Benign|             -|\n",
            "+-------------------+------------------+-------------+---------+--------------+---------+-----+-------+--------+----------+----------+----------+----------+----------+------------+-------+---------+-------------+---------+-------------+--------------+---------------+--------------+\n",
            "only showing top 5 rows\n",
            "\n"
          ]
        }
      ],
      "source": [
        "# print(df_split.head())\n",
        "# Show first 5 rows\n",
        "df.show(5)"
      ]
    },
    {
      "cell_type": "markdown",
      "metadata": {
        "id": "LlXAE87KCnu9"
      },
      "source": [
        "## Show schema to identify column types"
      ]
    },
    {
      "cell_type": "code",
      "execution_count": 34,
      "metadata": {
        "colab": {
          "base_uri": "https://localhost:8080/"
        },
        "collapsed": true,
        "id": "ocADM6cYz2kk",
        "outputId": "52e67fb5-554c-4b7f-a1ba-105e697feebc"
      },
      "outputs": [
        {
          "name": "stdout",
          "output_type": "stream",
          "text": [
            "root\n",
            " |-- ts: double (nullable = true)\n",
            " |-- uid: string (nullable = true)\n",
            " |-- id.orig_h: string (nullable = true)\n",
            " |-- id.orig_p: double (nullable = true)\n",
            " |-- id.resp_h: string (nullable = true)\n",
            " |-- id.resp_p: double (nullable = true)\n",
            " |-- proto: string (nullable = true)\n",
            " |-- service: string (nullable = true)\n",
            " |-- duration: string (nullable = true)\n",
            " |-- orig_bytes: string (nullable = true)\n",
            " |-- resp_bytes: string (nullable = true)\n",
            " |-- conn_state: string (nullable = true)\n",
            " |-- local_orig: string (nullable = true)\n",
            " |-- local_resp: string (nullable = true)\n",
            " |-- missed_bytes: double (nullable = true)\n",
            " |-- history: string (nullable = true)\n",
            " |-- orig_pkts: double (nullable = true)\n",
            " |-- orig_ip_bytes: double (nullable = true)\n",
            " |-- resp_pkts: double (nullable = true)\n",
            " |-- resp_ip_bytes: double (nullable = true)\n",
            " |-- tunnel_parents: string (nullable = true)\n",
            " |-- label: string (nullable = true)\n",
            " |-- detailed-label: string (nullable = true)\n",
            "\n"
          ]
        }
      ],
      "source": [
        "df.printSchema()"
      ]
    },
    {
      "cell_type": "markdown",
      "metadata": {},
      "source": [
        "## Check number of rows and columns"
      ]
    },
    {
      "cell_type": "code",
      "execution_count": 35,
      "metadata": {},
      "outputs": [
        {
          "name": "stdout",
          "output_type": "stream",
          "text": [
            "Number of rows: 10447787\n",
            "Number of columns: 23\n"
          ]
        }
      ],
      "source": [
        "num_rows = df.count()\n",
        "print(f\"Number of rows: {num_rows}\")\n",
        "num_columns = len(df.columns)\n",
        "print(f\"Number of columns: {num_columns}\")"
      ]
    },
    {
      "cell_type": "markdown",
      "metadata": {},
      "source": [
        "# Data Cleaning"
      ]
    },
    {
      "cell_type": "markdown",
      "metadata": {
        "id": "oE2c8Gp4RIIM"
      },
      "source": [
        "## Cast '-' to NaN change column names so that Spark will not misinterpret them"
      ]
    },
    {
      "cell_type": "code",
      "execution_count": 6,
      "metadata": {
        "colab": {
          "base_uri": "https://localhost:8080/"
        },
        "collapsed": true,
        "id": "GUlLAcOpRITz",
        "outputId": "2aa93cba-8a1e-41eb-b1fc-58f440aa63a2"
      },
      "outputs": [
        {
          "name": "stdout",
          "output_type": "stream",
          "text": [
            "+-------------------+------------------+-------------+---------+--------------+---------+-----+-------+--------+----------+----------+----------+----------+----------+------------+-------+---------+-------------+---------+-------------+--------------+---------------+--------------+\n",
            "|                 ts|               uid|    id_orig_h|id_orig_p|     id_resp_h|id_resp_p|proto|service|duration|orig_bytes|resp_bytes|conn_state|local_orig|local_resp|missed_bytes|history|orig_pkts|orig_ip_bytes|resp_pkts|resp_ip_bytes|tunnel_parents|          label|detailed-label|\n",
            "+-------------------+------------------+-------------+---------+--------------+---------+-----+-------+--------+----------+----------+----------+----------+----------+------------+-------+---------+-------------+---------+-------------+--------------+---------------+--------------+\n",
            "|1.545402842863612E9|CdNmOg26ZIaBRzPvWj|192.168.1.196|  59932.0|104.248.160.24|     80.0|  tcp|   NULL|3.097754|         0|         0|        S0|      NULL|      NULL|         0.0|      S|      3.0|        180.0|      0.0|          0.0|          NULL|Malicious   C&C|          NULL|\n",
            "|1.545402850041294E9|CgzGV333k9WCximeu8|192.168.1.196|  59932.0|104.248.160.24|     80.0|  tcp|   NULL|    NULL|      NULL|      NULL|        S0|      NULL|      NULL|         0.0|      S|      1.0|         60.0|      0.0|          0.0|          NULL|Malicious   C&C|          NULL|\n",
            "|1.545402858441479E9|CLm5Pd3ZnqmYVjrZ44|192.168.1.196|  59932.0|104.248.160.24|     80.0|  tcp|   NULL|    NULL|      NULL|      NULL|        S0|      NULL|      NULL|         0.0|      S|      1.0|         60.0|      0.0|          0.0|          NULL|Malicious   C&C|          NULL|\n",
            "|1.545402853913069E9|CDn2pd1rDD1lCMXAia|192.168.1.196|  35883.0|   192.168.1.1|     53.0|  udp|    dns|5.005148|        78|         0|        S0|      NULL|      NULL|         0.0|      D|      2.0|        134.0|      0.0|          0.0|          NULL|         Benign|          NULL|\n",
            "| 1.54540284390254E9|C1NKkV3tB4rImzbpDj|192.168.1.196|  43531.0|   192.168.1.1|     53.0|  udp|    dns|5.005145|        78|         0|        S0|      NULL|      NULL|         0.0|      D|      2.0|        134.0|      0.0|          0.0|          NULL|         Benign|          NULL|\n",
            "+-------------------+------------------+-------------+---------+--------------+---------+-----+-------+--------+----------+----------+----------+----------+----------+------------+-------+---------+-------------+---------+-------------+--------------+---------------+--------------+\n",
            "only showing top 5 rows\n",
            "\n"
          ]
        }
      ],
      "source": [
        "from pyspark.sql.functions import col, when\n",
        "\n",
        "for column in df.columns:\n",
        "    df = df.withColumn(column, when(col(f\"`{column}`\") == \"-\", None).otherwise(col(f\"`{column}`\")))\n",
        "\n",
        "# Rename columns to replace dots with underscores\n",
        "new_column_names = [c.replace(\".\", \"_\") for c in df.columns]\n",
        "df = df.toDF(*new_column_names)\n",
        "\n",
        "# Check\n",
        "df.show(5)"
      ]
    },
    {
      "cell_type": "markdown",
      "metadata": {},
      "source": [
        "## Dealing with missing values"
      ]
    },
    {
      "cell_type": "code",
      "execution_count": 7,
      "metadata": {},
      "outputs": [
        {
          "data": {
            "text/html": [
              "<div>\n",
              "<style scoped>\n",
              "    .dataframe tbody tr th:only-of-type {\n",
              "        vertical-align: middle;\n",
              "    }\n",
              "\n",
              "    .dataframe tbody tr th {\n",
              "        vertical-align: top;\n",
              "    }\n",
              "\n",
              "    .dataframe thead th {\n",
              "        text-align: right;\n",
              "    }\n",
              "</style>\n",
              "<table border=\"1\" class=\"dataframe\">\n",
              "  <thead>\n",
              "    <tr style=\"text-align: right;\">\n",
              "      <th></th>\n",
              "      <th>Count</th>\n",
              "    </tr>\n",
              "  </thead>\n",
              "  <tbody>\n",
              "    <tr>\n",
              "      <th>ts</th>\n",
              "      <td>0</td>\n",
              "    </tr>\n",
              "    <tr>\n",
              "      <th>uid</th>\n",
              "      <td>0</td>\n",
              "    </tr>\n",
              "    <tr>\n",
              "      <th>id_orig_h</th>\n",
              "      <td>0</td>\n",
              "    </tr>\n",
              "    <tr>\n",
              "      <th>id_orig_p</th>\n",
              "      <td>0</td>\n",
              "    </tr>\n",
              "    <tr>\n",
              "      <th>id_resp_h</th>\n",
              "      <td>0</td>\n",
              "    </tr>\n",
              "    <tr>\n",
              "      <th>id_resp_p</th>\n",
              "      <td>0</td>\n",
              "    </tr>\n",
              "    <tr>\n",
              "      <th>proto</th>\n",
              "      <td>0</td>\n",
              "    </tr>\n",
              "    <tr>\n",
              "      <th>service</th>\n",
              "      <td>10446261</td>\n",
              "    </tr>\n",
              "    <tr>\n",
              "      <th>duration</th>\n",
              "      <td>4432615</td>\n",
              "    </tr>\n",
              "    <tr>\n",
              "      <th>orig_bytes</th>\n",
              "      <td>4432615</td>\n",
              "    </tr>\n",
              "    <tr>\n",
              "      <th>resp_bytes</th>\n",
              "      <td>4432615</td>\n",
              "    </tr>\n",
              "    <tr>\n",
              "      <th>conn_state</th>\n",
              "      <td>0</td>\n",
              "    </tr>\n",
              "    <tr>\n",
              "      <th>local_orig</th>\n",
              "      <td>10447787</td>\n",
              "    </tr>\n",
              "    <tr>\n",
              "      <th>local_resp</th>\n",
              "      <td>10447787</td>\n",
              "    </tr>\n",
              "    <tr>\n",
              "      <th>missed_bytes</th>\n",
              "      <td>0</td>\n",
              "    </tr>\n",
              "    <tr>\n",
              "      <th>history</th>\n",
              "      <td>1638</td>\n",
              "    </tr>\n",
              "    <tr>\n",
              "      <th>orig_pkts</th>\n",
              "      <td>0</td>\n",
              "    </tr>\n",
              "    <tr>\n",
              "      <th>orig_ip_bytes</th>\n",
              "      <td>0</td>\n",
              "    </tr>\n",
              "    <tr>\n",
              "      <th>resp_pkts</th>\n",
              "      <td>0</td>\n",
              "    </tr>\n",
              "    <tr>\n",
              "      <th>resp_ip_bytes</th>\n",
              "      <td>0</td>\n",
              "    </tr>\n",
              "    <tr>\n",
              "      <th>tunnel_parents</th>\n",
              "      <td>10447787</td>\n",
              "    </tr>\n",
              "    <tr>\n",
              "      <th>label</th>\n",
              "      <td>0</td>\n",
              "    </tr>\n",
              "    <tr>\n",
              "      <th>detailed-label</th>\n",
              "      <td>10447775</td>\n",
              "    </tr>\n",
              "  </tbody>\n",
              "</table>\n",
              "</div>"
            ],
            "text/plain": [
              "                   Count\n",
              "ts                     0\n",
              "uid                    0\n",
              "id_orig_h              0\n",
              "id_orig_p              0\n",
              "id_resp_h              0\n",
              "id_resp_p              0\n",
              "proto                  0\n",
              "service         10446261\n",
              "duration         4432615\n",
              "orig_bytes       4432615\n",
              "resp_bytes       4432615\n",
              "conn_state             0\n",
              "local_orig      10447787\n",
              "local_resp      10447787\n",
              "missed_bytes           0\n",
              "history             1638\n",
              "orig_pkts              0\n",
              "orig_ip_bytes          0\n",
              "resp_pkts              0\n",
              "resp_ip_bytes          0\n",
              "tunnel_parents  10447787\n",
              "label                  0\n",
              "detailed-label  10447775"
            ]
          },
          "metadata": {},
          "output_type": "display_data"
        }
      ],
      "source": [
        "from pyspark.sql.functions import col, sum as spark_sum\n",
        "\n",
        "null_values = (\n",
        "    df.select([\n",
        "        spark_sum(col(c).isNull().cast(\"int\")).alias(c)\n",
        "        for c in df.columns\n",
        "    ])\n",
        "    .toPandas()\n",
        "    .T.rename(columns={0: \"Count\"})\n",
        ")\n",
        "\n",
        "display(null_values)"
      ]
    },
    {
      "cell_type": "markdown",
      "metadata": {},
      "source": [
        "Since duration, orig_bytes, resp_bytes all have same number of null values (4432615), very likely they are from the same few rows. All three columns are critical for modelling so it is best to drop the rows containing null values in those fields.\n",
        "\n",
        "Others like service, local_orig, local_resp, tunnel_parents amd detailed_label all have more than 10446261 out of 10447787 null values. These will not help our model and will just bloat memory, so we can drop these columns.\n",
        "\n",
        "22 nulls in history can be dropped too."
      ]
    },
    {
      "cell_type": "code",
      "execution_count": 8,
      "metadata": {},
      "outputs": [
        {
          "data": {
            "text/html": [
              "<div>\n",
              "<style scoped>\n",
              "    .dataframe tbody tr th:only-of-type {\n",
              "        vertical-align: middle;\n",
              "    }\n",
              "\n",
              "    .dataframe tbody tr th {\n",
              "        vertical-align: top;\n",
              "    }\n",
              "\n",
              "    .dataframe thead th {\n",
              "        text-align: right;\n",
              "    }\n",
              "</style>\n",
              "<table border=\"1\" class=\"dataframe\">\n",
              "  <thead>\n",
              "    <tr style=\"text-align: right;\">\n",
              "      <th></th>\n",
              "      <th>Count</th>\n",
              "    </tr>\n",
              "  </thead>\n",
              "  <tbody>\n",
              "    <tr>\n",
              "      <th>ts</th>\n",
              "      <td>0</td>\n",
              "    </tr>\n",
              "    <tr>\n",
              "      <th>uid</th>\n",
              "      <td>0</td>\n",
              "    </tr>\n",
              "    <tr>\n",
              "      <th>id_orig_h</th>\n",
              "      <td>0</td>\n",
              "    </tr>\n",
              "    <tr>\n",
              "      <th>id_orig_p</th>\n",
              "      <td>0</td>\n",
              "    </tr>\n",
              "    <tr>\n",
              "      <th>id_resp_h</th>\n",
              "      <td>0</td>\n",
              "    </tr>\n",
              "    <tr>\n",
              "      <th>id_resp_p</th>\n",
              "      <td>0</td>\n",
              "    </tr>\n",
              "    <tr>\n",
              "      <th>proto</th>\n",
              "      <td>0</td>\n",
              "    </tr>\n",
              "    <tr>\n",
              "      <th>duration</th>\n",
              "      <td>0</td>\n",
              "    </tr>\n",
              "    <tr>\n",
              "      <th>orig_bytes</th>\n",
              "      <td>0</td>\n",
              "    </tr>\n",
              "    <tr>\n",
              "      <th>resp_bytes</th>\n",
              "      <td>0</td>\n",
              "    </tr>\n",
              "    <tr>\n",
              "      <th>conn_state</th>\n",
              "      <td>0</td>\n",
              "    </tr>\n",
              "    <tr>\n",
              "      <th>missed_bytes</th>\n",
              "      <td>0</td>\n",
              "    </tr>\n",
              "    <tr>\n",
              "      <th>history</th>\n",
              "      <td>0</td>\n",
              "    </tr>\n",
              "    <tr>\n",
              "      <th>orig_pkts</th>\n",
              "      <td>0</td>\n",
              "    </tr>\n",
              "    <tr>\n",
              "      <th>orig_ip_bytes</th>\n",
              "      <td>0</td>\n",
              "    </tr>\n",
              "    <tr>\n",
              "      <th>resp_pkts</th>\n",
              "      <td>0</td>\n",
              "    </tr>\n",
              "    <tr>\n",
              "      <th>resp_ip_bytes</th>\n",
              "      <td>0</td>\n",
              "    </tr>\n",
              "    <tr>\n",
              "      <th>label</th>\n",
              "      <td>0</td>\n",
              "    </tr>\n",
              "  </tbody>\n",
              "</table>\n",
              "</div>"
            ],
            "text/plain": [
              "               Count\n",
              "ts                 0\n",
              "uid                0\n",
              "id_orig_h          0\n",
              "id_orig_p          0\n",
              "id_resp_h          0\n",
              "id_resp_p          0\n",
              "proto              0\n",
              "duration           0\n",
              "orig_bytes         0\n",
              "resp_bytes         0\n",
              "conn_state         0\n",
              "missed_bytes       0\n",
              "history            0\n",
              "orig_pkts          0\n",
              "orig_ip_bytes      0\n",
              "resp_pkts          0\n",
              "resp_ip_bytes      0\n",
              "label              0"
            ]
          },
          "metadata": {},
          "output_type": "display_data"
        }
      ],
      "source": [
        "from pyspark.sql.functions import when, col\n",
        "\n",
        "# Columns to clean:\n",
        "columns_to_clean = ['duration', 'orig_bytes', 'resp_bytes', 'history']\n",
        "\n",
        "# Replace \"NULL\" or \"null\" strings with actual nulls (None)\n",
        "for c in columns_to_clean:\n",
        "    df = df.withColumn(c, when((col(c) == \"NULL\") | (col(c) == \"null\"), None).otherwise(col(c)))\n",
        "\n",
        "# Drop rows where any of these are null\n",
        "df = df.dropna(subset=columns_to_clean)\n",
        "\n",
        "from pyspark.sql.functions import col, sum as spark_sum\n",
        "\n",
        "# Drop columns with largely null values\n",
        "columns_to_drop = [\"service\", \"local_orig\", \"local_resp\", \"tunnel_parents\", \"detailed-label\"]\n",
        "df = df.drop(*columns_to_drop)\n",
        "\n",
        "\n",
        "null_values = (\n",
        "    df.select([\n",
        "        spark_sum(col(c).isNull().cast(\"int\")).alias(c)\n",
        "        for c in df.columns\n",
        "    ])\n",
        "    .toPandas()\n",
        "    .T.rename(columns={0: \"Count\"})\n",
        ")\n",
        "\n",
        "display(null_values)"
      ]
    },
    {
      "cell_type": "markdown",
      "metadata": {},
      "source": [
        "They are indeed from the same few rows. now there are 0 NULL count for duration, orig_bytes and resp_bytes."
      ]
    },
    {
      "cell_type": "markdown",
      "metadata": {},
      "source": [
        "# Deeper Data Exploration"
      ]
    },
    {
      "cell_type": "markdown",
      "metadata": {
        "id": "talBuE4C5QnW"
      },
      "source": [
        "## Checking for Distribution of Target Variable\n"
      ]
    },
    {
      "cell_type": "code",
      "execution_count": 9,
      "metadata": {
        "id": "dnJM_1MM5ZA-"
      },
      "outputs": [
        {
          "name": "stdout",
          "output_type": "stream",
          "text": [
            "+------------------+-------+\n",
            "|             label|  count|\n",
            "+------------------+-------+\n",
            "|            Benign|4108318|\n",
            "|   Malicious   C&C|     33|\n",
            "|Malicious   Attack|      3|\n",
            "|  Malicious   DDoS|1906796|\n",
            "+------------------+-------+\n",
            "\n"
          ]
        }
      ],
      "source": [
        "# Register DataFrame as a SQL table\n",
        "df.createOrReplaceTempView(\"malware_data\")\n",
        "\n",
        "# Define SQL Query to count the number of rows with 0 and 1 in the target variable\n",
        "query = \"\"\"\n",
        "SELECT\n",
        "    label,\n",
        "    COUNT(*) AS count\n",
        "FROM\n",
        "    malware_data\n",
        "GROUP BY\n",
        "    label\n",
        "\"\"\"\n",
        "\n",
        "# Run the SQL query\n",
        "result = spark.sql(query)\n",
        "result.show()"
      ]
    },
    {
      "cell_type": "markdown",
      "metadata": {},
      "source": [
        "Malicious C&C and Mallitics Attack have significantly lower count than the other classes, causing severe imbalance. We decided to drop them."
      ]
    },
    {
      "cell_type": "code",
      "execution_count": 10,
      "metadata": {},
      "outputs": [],
      "source": [
        "from pyspark.sql.functions import col\n",
        "\n",
        "# Filter the DataFrame to keep only 'Benign' and 'Malicious   DDoS' labels\n",
        "df = df.filter(\n",
        "    (col(\"label\") == \"Benign\") | \n",
        "    (col(\"label\") == \"Malicious   DDoS\")\n",
        ")"
      ]
    },
    {
      "cell_type": "code",
      "execution_count": 11,
      "metadata": {},
      "outputs": [
        {
          "name": "stdout",
          "output_type": "stream",
          "text": [
            "Number of rows: 6015114\n",
            "Number of columns: 18\n"
          ]
        }
      ],
      "source": [
        "num_rows = df.count()\n",
        "print(f\"Number of rows: {num_rows}\")\n",
        "num_columns = len(df.columns)\n",
        "print(f\"Number of columns: {num_columns}\")"
      ]
    },
    {
      "cell_type": "code",
      "execution_count": 12,
      "metadata": {},
      "outputs": [
        {
          "name": "stdout",
          "output_type": "stream",
          "text": [
            "+----------------+-------+\n",
            "|           label|  count|\n",
            "+----------------+-------+\n",
            "|          Benign|4108318|\n",
            "|Malicious   DDoS|1906796|\n",
            "+----------------+-------+\n",
            "\n"
          ]
        }
      ],
      "source": [
        "# Register DataFrame as a SQL table\n",
        "df.createOrReplaceTempView(\"malware_data\")\n",
        "\n",
        "# Define SQL Query to count the number of rows with 0 and 1 in the target variable\n",
        "query = \"\"\"\n",
        "SELECT\n",
        "    label,\n",
        "    COUNT(*) AS count\n",
        "FROM\n",
        "    malware_data\n",
        "GROUP BY\n",
        "    label\n",
        "\"\"\"\n",
        "\n",
        "# Run the SQL query\n",
        "result = spark.sql(query)\n",
        "result.show()"
      ]
    },
    {
      "cell_type": "markdown",
      "metadata": {},
      "source": [
        "Roughly 2:1 ratio, mildly imbalanced."
      ]
    },
    {
      "cell_type": "markdown",
      "metadata": {
        "id": "p6wuYZ0OJzfC"
      },
      "source": [
        "## Summary statistics for numeric columns"
      ]
    },
    {
      "cell_type": "code",
      "execution_count": null,
      "metadata": {
        "id": "7fx_4-ySJ3-b"
      },
      "outputs": [
        {
          "data": {
            "text/html": [
              "<div>\n",
              "<style scoped>\n",
              "    .dataframe tbody tr th:only-of-type {\n",
              "        vertical-align: middle;\n",
              "    }\n",
              "\n",
              "    .dataframe tbody tr th {\n",
              "        vertical-align: top;\n",
              "    }\n",
              "\n",
              "    .dataframe thead th {\n",
              "        text-align: right;\n",
              "    }\n",
              "</style>\n",
              "<table border=\"1\" class=\"dataframe\">\n",
              "  <thead>\n",
              "    <tr style=\"text-align: right;\">\n",
              "      <th>summary</th>\n",
              "      <th>count</th>\n",
              "      <th>mean</th>\n",
              "      <th>stddev</th>\n",
              "      <th>min</th>\n",
              "      <th>max</th>\n",
              "    </tr>\n",
              "  </thead>\n",
              "  <tbody>\n",
              "    <tr>\n",
              "      <th>duration</th>\n",
              "      <td>6015136</td>\n",
              "      <td>4.223807251961909</td>\n",
              "      <td>9.869124951743423</td>\n",
              "      <td>2.0E-6</td>\n",
              "      <td>582.169</td>\n",
              "    </tr>\n",
              "    <tr>\n",
              "      <th>orig_bytes</th>\n",
              "      <td>6015136</td>\n",
              "      <td>3.560142356189428E8</td>\n",
              "      <td>3.46770275955462E9</td>\n",
              "      <td>0.0</td>\n",
              "      <td>6.6205577E10</td>\n",
              "    </tr>\n",
              "    <tr>\n",
              "      <th>resp_bytes</th>\n",
              "      <td>6015136</td>\n",
              "      <td>5591.376293902582</td>\n",
              "      <td>1.2956937373334212E7</td>\n",
              "      <td>0.0</td>\n",
              "      <td>3.17205115E10</td>\n",
              "    </tr>\n",
              "    <tr>\n",
              "      <th>missed_bytes</th>\n",
              "      <td>6015136</td>\n",
              "      <td>317.3408574635719</td>\n",
              "      <td>778291.2134145867</td>\n",
              "      <td>0.0</td>\n",
              "      <td>1.90881946E9</td>\n",
              "    </tr>\n",
              "    <tr>\n",
              "      <th>orig_pkts</th>\n",
              "      <td>6015136</td>\n",
              "      <td>6.343712261867396</td>\n",
              "      <td>3000.962278839396</td>\n",
              "      <td>0.0</td>\n",
              "      <td>4027345.0</td>\n",
              "    </tr>\n",
              "    <tr>\n",
              "      <th>orig_ip_bytes</th>\n",
              "      <td>6015136</td>\n",
              "      <td>271.38145455065353</td>\n",
              "      <td>84027.25369643705</td>\n",
              "      <td>0.0</td>\n",
              "      <td>1.12765664E8</td>\n",
              "    </tr>\n",
              "    <tr>\n",
              "      <th>resp_pkts</th>\n",
              "      <td>6015136</td>\n",
              "      <td>0.001142285062216382</td>\n",
              "      <td>0.3421853741378431</td>\n",
              "      <td>0.0</td>\n",
              "      <td>279.0</td>\n",
              "    </tr>\n",
              "    <tr>\n",
              "      <th>resp_ip_bytes</th>\n",
              "      <td>6015136</td>\n",
              "      <td>0.6466432346666808</td>\n",
              "      <td>494.1573836462667</td>\n",
              "      <td>0.0</td>\n",
              "      <td>413488.0</td>\n",
              "    </tr>\n",
              "  </tbody>\n",
              "</table>\n",
              "</div>"
            ],
            "text/plain": [
              "summary          count                  mean                stddev     min  \\\n",
              "duration       6015136     4.223807251961909     9.869124951743423  2.0E-6   \n",
              "orig_bytes     6015136   3.560142356189428E8    3.46770275955462E9     0.0   \n",
              "resp_bytes     6015136     5591.376293902582  1.2956937373334212E7     0.0   \n",
              "missed_bytes   6015136     317.3408574635719     778291.2134145867     0.0   \n",
              "orig_pkts      6015136     6.343712261867396     3000.962278839396     0.0   \n",
              "orig_ip_bytes  6015136    271.38145455065353     84027.25369643705     0.0   \n",
              "resp_pkts      6015136  0.001142285062216382    0.3421853741378431     0.0   \n",
              "resp_ip_bytes  6015136    0.6466432346666808     494.1573836462667     0.0   \n",
              "\n",
              "summary                  max  \n",
              "duration             582.169  \n",
              "orig_bytes      6.6205577E10  \n",
              "resp_bytes     3.17205115E10  \n",
              "missed_bytes    1.90881946E9  \n",
              "orig_pkts          4027345.0  \n",
              "orig_ip_bytes   1.12765664E8  \n",
              "resp_pkts              279.0  \n",
              "resp_ip_bytes       413488.0  "
            ]
          },
          "metadata": {},
          "output_type": "display_data"
        }
      ],
      "source": [
        "# convert numerical columns\n",
        "cols_to_convert = [\n",
        "    \"duration\", \"orig_bytes\", \"resp_bytes\",\n",
        "    \"missed_bytes\", \"orig_pkts\", \"orig_ip_bytes\", \"resp_pkts\", \"resp_ip_bytes\"\n",
        "]\n",
        "\n",
        "# Convert to FloatType\n",
        "for column in cols_to_convert:\n",
        "    df = df.withColumn(column, col(column).cast(FloatType()))\n",
        "\n",
        "# Descriptive stats with Pandas for nicer formatting\n",
        "desc_stats = df.describe(cols_to_convert)\n",
        "desc_stats_pd = desc_stats.toPandas().set_index('summary').T\n",
        "display(desc_stats_pd)"
      ]
    },
    {
      "cell_type": "markdown",
      "metadata": {},
      "source": [
        "## Boxplots for numerical variables"
      ]
    },
    {
      "cell_type": "code",
      "execution_count": null,
      "metadata": {},
      "outputs": [
        {
          "data": {
            "image/png": "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",
            "text/plain": [
              "<Figure size 2500x800 with 8 Axes>"
            ]
          },
          "metadata": {},
          "output_type": "display_data"
        }
      ],
      "source": [
        "import seaborn as sns\n",
        "import matplotlib.pyplot as plt\n",
        "\n",
        "# Use your actual numeric variables (but check for existence)\n",
        "all_numeric_cols = [\n",
        "    \"duration\", \"orig_bytes\", \"resp_bytes\",\n",
        "    \"missed_bytes\", \"orig_pkts\", \"orig_ip_bytes\", \"resp_pkts\", \"resp_ip_bytes\"\n",
        "]\n",
        "\n",
        "# Filter only columns that exist in df\n",
        "numeric_cols = [col_name for col_name in all_numeric_cols if col_name in df.columns]\n",
        "\n",
        "# Optional: handle nulls before collecting (replace with 0 or drop rows)\n",
        "from pyspark.sql.functions import when, isnan\n",
        "\n",
        "for col_name in numeric_cols:\n",
        "    df = df.withColumn(col_name, when(\n",
        "        (col(col_name).isNull()) | (isnan(col(col_name))), 0\n",
        "    ).otherwise(col(col_name)))\n",
        "\n",
        "# Sample to avoid memory issues (optional)\n",
        "df_sample = df.select(numeric_cols).sample(False, 0.5, seed=42)\n",
        "\n",
        "# Convert to pandas for plotting\n",
        "df_pandas = df_sample.toPandas()\n",
        "\n",
        "# Plot boxplots\n",
        "num_cols = 5\n",
        "num_vars = len(numeric_cols)\n",
        "num_rows = (num_vars + num_cols - 1) // num_cols\n",
        "\n",
        "fig, axes = plt.subplots(num_rows, num_cols, figsize=(5 * num_cols, 4 * num_rows))\n",
        "axes = axes.flatten()\n",
        "\n",
        "for i, col_name in enumerate(numeric_cols):\n",
        "    sns.boxplot(x=df_pandas[col_name], ax=axes[i], color='skyblue')\n",
        "    axes[i].set_title(col_name)\n",
        "    axes[i].set_xlabel(\"\")  # cleaner look\n",
        "\n",
        "# Remove empty plots\n",
        "for i in range(num_vars, len(axes)):\n",
        "    fig.delaxes(axes[i])\n",
        "\n",
        "plt.tight_layout()\n",
        "plt.show()\n"
      ]
    },
    {
      "cell_type": "markdown",
      "metadata": {
        "id": "x1Tp_JOOtNht"
      },
      "source": [
        "## Categorical Value Distibution"
      ]
    },
    {
      "cell_type": "code",
      "execution_count": 21,
      "metadata": {
        "colab": {
          "base_uri": "https://localhost:8080/",
          "height": 1000
        },
        "collapsed": true,
        "id": "rVdzZqH_tQor",
        "outputId": "5ed9247b-a7d6-4d64-d5ff-d35fe708b9ad"
      },
      "outputs": [
        {
          "ename": "ConnectionRefusedError",
          "evalue": "[WinError 10061] No connection could be made because the target machine actively refused it",
          "output_type": "error",
          "traceback": [
            "\u001b[31m---------------------------------------------------------------------------\u001b[39m",
            "\u001b[31mConnectionRefusedError\u001b[39m                    Traceback (most recent call last)",
            "\u001b[36mCell\u001b[39m\u001b[36m \u001b[39m\u001b[32mIn[21]\u001b[39m\u001b[32m, line 4\u001b[39m\n\u001b[32m      1\u001b[39m categorical_cols = [\u001b[33m\"\u001b[39m\u001b[33mproto\u001b[39m\u001b[33m\"\u001b[39m, \u001b[33m\"\u001b[39m\u001b[33mconn_state\u001b[39m\u001b[33m\"\u001b[39m, \u001b[33m\"\u001b[39m\u001b[33mhistory\u001b[39m\u001b[33m\"\u001b[39m]\n\u001b[32m      3\u001b[39m \u001b[38;5;28;01mfor\u001b[39;00m col \u001b[38;5;129;01min\u001b[39;00m categorical_cols:\n\u001b[32m----> \u001b[39m\u001b[32m4\u001b[39m     count_df = \u001b[43mdf\u001b[49m\u001b[43m.\u001b[49m\u001b[43mgroupBy\u001b[49m\u001b[43m(\u001b[49m\u001b[43mcol\u001b[49m\u001b[43m)\u001b[49m.count().orderBy(\u001b[33m\"\u001b[39m\u001b[33mcount\u001b[39m\u001b[33m\"\u001b[39m, ascending=\u001b[38;5;28;01mFalse\u001b[39;00m).toPandas()\n\u001b[32m      5\u001b[39m     \u001b[38;5;28mprint\u001b[39m(\u001b[33mf\u001b[39m\u001b[33m\"\u001b[39m\u001b[33m=== \u001b[39m\u001b[38;5;132;01m{\u001b[39;00mcol\u001b[38;5;132;01m}\u001b[39;00m\u001b[33m Value Counts ===\u001b[39m\u001b[33m\"\u001b[39m)\n\u001b[32m      6\u001b[39m     display(count_df)\n",
            "\u001b[36mFile \u001b[39m\u001b[32mc:\\Users\\jessi\\Desktop\\BT4221\\maleware-detection-ml-model\\.venv\\Lib\\site-packages\\pyspark\\sql\\dataframe.py:3416\u001b[39m, in \u001b[36mDataFrame.groupBy\u001b[39m\u001b[34m(self, *cols)\u001b[39m\n\u001b[32m   3347\u001b[39m \u001b[38;5;28;01mdef\u001b[39;00m\u001b[38;5;250m \u001b[39m\u001b[34mgroupBy\u001b[39m(\u001b[38;5;28mself\u001b[39m, *cols: \u001b[33m\"\u001b[39m\u001b[33mColumnOrName\u001b[39m\u001b[33m\"\u001b[39m) -> \u001b[33m\"\u001b[39m\u001b[33mGroupedData\u001b[39m\u001b[33m\"\u001b[39m:  \u001b[38;5;66;03m# type: ignore[misc]\u001b[39;00m\n\u001b[32m   3348\u001b[39m \u001b[38;5;250m    \u001b[39m\u001b[33;03m\"\"\"Groups the :class:`DataFrame` using the specified columns,\u001b[39;00m\n\u001b[32m   3349\u001b[39m \u001b[33;03m    so we can run aggregation on them. See :class:`GroupedData`\u001b[39;00m\n\u001b[32m   3350\u001b[39m \u001b[33;03m    for all the available aggregate functions.\u001b[39;00m\n\u001b[32m   (...)\u001b[39m\u001b[32m   3414\u001b[39m \u001b[33;03m    +-----+---+-----+\u001b[39;00m\n\u001b[32m   3415\u001b[39m \u001b[33;03m    \"\"\"\u001b[39;00m\n\u001b[32m-> \u001b[39m\u001b[32m3416\u001b[39m     jgd = \u001b[38;5;28mself\u001b[39m._jdf.groupBy(\u001b[38;5;28;43mself\u001b[39;49m\u001b[43m.\u001b[49m\u001b[43m_jcols\u001b[49m\u001b[43m(\u001b[49m\u001b[43m*\u001b[49m\u001b[43mcols\u001b[49m\u001b[43m)\u001b[49m)\n\u001b[32m   3417\u001b[39m     \u001b[38;5;28;01mfrom\u001b[39;00m\u001b[38;5;250m \u001b[39m\u001b[34;01mpyspark\u001b[39;00m\u001b[34;01m.\u001b[39;00m\u001b[34;01msql\u001b[39;00m\u001b[34;01m.\u001b[39;00m\u001b[34;01mgroup\u001b[39;00m\u001b[38;5;250m \u001b[39m\u001b[38;5;28;01mimport\u001b[39;00m GroupedData\n\u001b[32m   3419\u001b[39m     \u001b[38;5;28;01mreturn\u001b[39;00m GroupedData(jgd, \u001b[38;5;28mself\u001b[39m)\n",
            "\u001b[36mFile \u001b[39m\u001b[32mc:\\Users\\jessi\\Desktop\\BT4221\\maleware-detection-ml-model\\.venv\\Lib\\site-packages\\pyspark\\sql\\dataframe.py:2766\u001b[39m, in \u001b[36mDataFrame._jcols\u001b[39m\u001b[34m(self, *cols)\u001b[39m\n\u001b[32m   2764\u001b[39m \u001b[38;5;28;01mif\u001b[39;00m \u001b[38;5;28mlen\u001b[39m(cols) == \u001b[32m1\u001b[39m \u001b[38;5;129;01mand\u001b[39;00m \u001b[38;5;28misinstance\u001b[39m(cols[\u001b[32m0\u001b[39m], \u001b[38;5;28mlist\u001b[39m):\n\u001b[32m   2765\u001b[39m     cols = cols[\u001b[32m0\u001b[39m]\n\u001b[32m-> \u001b[39m\u001b[32m2766\u001b[39m \u001b[38;5;28;01mreturn\u001b[39;00m \u001b[38;5;28;43mself\u001b[39;49m\u001b[43m.\u001b[49m\u001b[43m_jseq\u001b[49m\u001b[43m(\u001b[49m\u001b[43mcols\u001b[49m\u001b[43m,\u001b[49m\u001b[43m \u001b[49m\u001b[43m_to_java_column\u001b[49m\u001b[43m)\u001b[49m\n",
            "\u001b[36mFile \u001b[39m\u001b[32mc:\\Users\\jessi\\Desktop\\BT4221\\maleware-detection-ml-model\\.venv\\Lib\\site-packages\\pyspark\\sql\\dataframe.py:2753\u001b[39m, in \u001b[36mDataFrame._jseq\u001b[39m\u001b[34m(self, cols, converter)\u001b[39m\n\u001b[32m   2747\u001b[39m \u001b[38;5;28;01mdef\u001b[39;00m\u001b[38;5;250m \u001b[39m\u001b[34m_jseq\u001b[39m(\n\u001b[32m   2748\u001b[39m     \u001b[38;5;28mself\u001b[39m,\n\u001b[32m   2749\u001b[39m     cols: Sequence,\n\u001b[32m   2750\u001b[39m     converter: Optional[Callable[..., Union[\u001b[33m\"\u001b[39m\u001b[33mPrimitiveType\u001b[39m\u001b[33m\"\u001b[39m, JavaObject]]] = \u001b[38;5;28;01mNone\u001b[39;00m,\n\u001b[32m   2751\u001b[39m ) -> JavaObject:\n\u001b[32m   2752\u001b[39m \u001b[38;5;250m    \u001b[39m\u001b[33;03m\"\"\"Return a JVM Seq of Columns from a list of Column or names\"\"\"\u001b[39;00m\n\u001b[32m-> \u001b[39m\u001b[32m2753\u001b[39m     \u001b[38;5;28;01mreturn\u001b[39;00m \u001b[43m_to_seq\u001b[49m\u001b[43m(\u001b[49m\u001b[38;5;28;43mself\u001b[39;49m\u001b[43m.\u001b[49m\u001b[43msparkSession\u001b[49m\u001b[43m.\u001b[49m\u001b[43m_sc\u001b[49m\u001b[43m,\u001b[49m\u001b[43m \u001b[49m\u001b[43mcols\u001b[49m\u001b[43m,\u001b[49m\u001b[43m \u001b[49m\u001b[43mconverter\u001b[49m\u001b[43m)\u001b[49m\n",
            "\u001b[36mFile \u001b[39m\u001b[32mc:\\Users\\jessi\\Desktop\\BT4221\\maleware-detection-ml-model\\.venv\\Lib\\site-packages\\pyspark\\sql\\column.py:88\u001b[39m, in \u001b[36m_to_seq\u001b[39m\u001b[34m(sc, cols, converter)\u001b[39m\n\u001b[32m     81\u001b[39m \u001b[38;5;250m\u001b[39m\u001b[33;03m\"\"\"\u001b[39;00m\n\u001b[32m     82\u001b[39m \u001b[33;03mConvert a list of Columns (or names) into a JVM Seq of Column.\u001b[39;00m\n\u001b[32m     83\u001b[39m \n\u001b[32m     84\u001b[39m \u001b[33;03mAn optional `converter` could be used to convert items in `cols`\u001b[39;00m\n\u001b[32m     85\u001b[39m \u001b[33;03minto JVM Column objects.\u001b[39;00m\n\u001b[32m     86\u001b[39m \u001b[33;03m\"\"\"\u001b[39;00m\n\u001b[32m     87\u001b[39m \u001b[38;5;28;01mif\u001b[39;00m converter:\n\u001b[32m---> \u001b[39m\u001b[32m88\u001b[39m     cols = [\u001b[43mconverter\u001b[49m\u001b[43m(\u001b[49m\u001b[43mc\u001b[49m\u001b[43m)\u001b[49m \u001b[38;5;28;01mfor\u001b[39;00m c \u001b[38;5;129;01min\u001b[39;00m cols]\n\u001b[32m     89\u001b[39m \u001b[38;5;28;01massert\u001b[39;00m sc._jvm \u001b[38;5;129;01mis\u001b[39;00m \u001b[38;5;129;01mnot\u001b[39;00m \u001b[38;5;28;01mNone\u001b[39;00m\n\u001b[32m     90\u001b[39m \u001b[38;5;28;01mreturn\u001b[39;00m sc._jvm.PythonUtils.toSeq(cols)\n",
            "\u001b[36mFile \u001b[39m\u001b[32mc:\\Users\\jessi\\Desktop\\BT4221\\maleware-detection-ml-model\\.venv\\Lib\\site-packages\\pyspark\\sql\\column.py:63\u001b[39m, in \u001b[36m_to_java_column\u001b[39m\u001b[34m(col)\u001b[39m\n\u001b[32m     61\u001b[39m     jcol = col._jc\n\u001b[32m     62\u001b[39m \u001b[38;5;28;01melif\u001b[39;00m \u001b[38;5;28misinstance\u001b[39m(col, \u001b[38;5;28mstr\u001b[39m):\n\u001b[32m---> \u001b[39m\u001b[32m63\u001b[39m     jcol = \u001b[43m_create_column_from_name\u001b[49m\u001b[43m(\u001b[49m\u001b[43mcol\u001b[49m\u001b[43m)\u001b[49m\n\u001b[32m     64\u001b[39m \u001b[38;5;28;01melse\u001b[39;00m:\n\u001b[32m     65\u001b[39m     \u001b[38;5;28;01mraise\u001b[39;00m PySparkTypeError(\n\u001b[32m     66\u001b[39m         error_class=\u001b[33m\"\u001b[39m\u001b[33mNOT_COLUMN_OR_STR\u001b[39m\u001b[33m\"\u001b[39m,\n\u001b[32m     67\u001b[39m         message_parameters={\u001b[33m\"\u001b[39m\u001b[33marg_name\u001b[39m\u001b[33m\"\u001b[39m: \u001b[33m\"\u001b[39m\u001b[33mcol\u001b[39m\u001b[33m\"\u001b[39m, \u001b[33m\"\u001b[39m\u001b[33marg_type\u001b[39m\u001b[33m\"\u001b[39m: \u001b[38;5;28mtype\u001b[39m(col).\u001b[34m__name__\u001b[39m},\n\u001b[32m     68\u001b[39m     )\n",
            "\u001b[36mFile \u001b[39m\u001b[32mc:\\Users\\jessi\\Desktop\\BT4221\\maleware-detection-ml-model\\.venv\\Lib\\site-packages\\pyspark\\sql\\column.py:56\u001b[39m, in \u001b[36m_create_column_from_name\u001b[39m\u001b[34m(name)\u001b[39m\n\u001b[32m     54\u001b[39m \u001b[38;5;28;01mdef\u001b[39;00m\u001b[38;5;250m \u001b[39m\u001b[34m_create_column_from_name\u001b[39m(name: \u001b[38;5;28mstr\u001b[39m) -> \u001b[33m\"\u001b[39m\u001b[33mColumn\u001b[39m\u001b[33m\"\u001b[39m:\n\u001b[32m     55\u001b[39m     sc = get_active_spark_context()\n\u001b[32m---> \u001b[39m\u001b[32m56\u001b[39m     \u001b[38;5;28;01mreturn\u001b[39;00m \u001b[43mcast\u001b[49m\u001b[43m(\u001b[49m\u001b[43mJVMView\u001b[49m\u001b[43m,\u001b[49m\u001b[43m \u001b[49m\u001b[43msc\u001b[49m\u001b[43m.\u001b[49m\u001b[43m_jvm\u001b[49m\u001b[43m)\u001b[49m\u001b[43m.\u001b[49m\u001b[43mfunctions\u001b[49m.col(name)\n",
            "\u001b[36mFile \u001b[39m\u001b[32mc:\\Users\\jessi\\Desktop\\BT4221\\maleware-detection-ml-model\\.venv\\Lib\\site-packages\\py4j\\java_gateway.py:1712\u001b[39m, in \u001b[36mJVMView.__getattr__\u001b[39m\u001b[34m(self, name)\u001b[39m\n\u001b[32m   1709\u001b[39m \u001b[38;5;28;01mif\u001b[39;00m name == UserHelpAutoCompletion.KEY:\n\u001b[32m   1710\u001b[39m     \u001b[38;5;28;01mreturn\u001b[39;00m UserHelpAutoCompletion()\n\u001b[32m-> \u001b[39m\u001b[32m1712\u001b[39m answer = \u001b[38;5;28;43mself\u001b[39;49m\u001b[43m.\u001b[49m\u001b[43m_gateway_client\u001b[49m\u001b[43m.\u001b[49m\u001b[43msend_command\u001b[49m\u001b[43m(\u001b[49m\n\u001b[32m   1713\u001b[39m \u001b[43m    \u001b[49m\u001b[43mproto\u001b[49m\u001b[43m.\u001b[49m\u001b[43mREFLECTION_COMMAND_NAME\u001b[49m\u001b[43m \u001b[49m\u001b[43m+\u001b[49m\n\u001b[32m   1714\u001b[39m \u001b[43m    \u001b[49m\u001b[43mproto\u001b[49m\u001b[43m.\u001b[49m\u001b[43mREFL_GET_UNKNOWN_SUB_COMMAND_NAME\u001b[49m\u001b[43m \u001b[49m\u001b[43m+\u001b[49m\u001b[43m \u001b[49m\u001b[43mname\u001b[49m\u001b[43m \u001b[49m\u001b[43m+\u001b[49m\u001b[43m \u001b[49m\u001b[33;43m\"\u001b[39;49m\u001b[38;5;130;43;01m\\n\u001b[39;49;00m\u001b[33;43m\"\u001b[39;49m\u001b[43m \u001b[49m\u001b[43m+\u001b[49m\u001b[43m \u001b[49m\u001b[38;5;28;43mself\u001b[39;49m\u001b[43m.\u001b[49m\u001b[43m_id\u001b[49m\u001b[43m \u001b[49m\u001b[43m+\u001b[49m\n\u001b[32m   1715\u001b[39m \u001b[43m    \u001b[49m\u001b[33;43m\"\u001b[39;49m\u001b[38;5;130;43;01m\\n\u001b[39;49;00m\u001b[33;43m\"\u001b[39;49m\u001b[43m \u001b[49m\u001b[43m+\u001b[49m\u001b[43m \u001b[49m\u001b[43mproto\u001b[49m\u001b[43m.\u001b[49m\u001b[43mEND_COMMAND_PART\u001b[49m\u001b[43m)\u001b[49m\n\u001b[32m   1716\u001b[39m \u001b[38;5;28;01mif\u001b[39;00m answer == proto.SUCCESS_PACKAGE:\n\u001b[32m   1717\u001b[39m     \u001b[38;5;28;01mreturn\u001b[39;00m JavaPackage(name, \u001b[38;5;28mself\u001b[39m._gateway_client, jvm_id=\u001b[38;5;28mself\u001b[39m._id)\n",
            "\u001b[36mFile \u001b[39m\u001b[32mc:\\Users\\jessi\\Desktop\\BT4221\\maleware-detection-ml-model\\.venv\\Lib\\site-packages\\py4j\\java_gateway.py:1036\u001b[39m, in \u001b[36mGatewayClient.send_command\u001b[39m\u001b[34m(self, command, retry, binary)\u001b[39m\n\u001b[32m   1015\u001b[39m \u001b[38;5;28;01mdef\u001b[39;00m\u001b[38;5;250m \u001b[39m\u001b[34msend_command\u001b[39m(\u001b[38;5;28mself\u001b[39m, command, retry=\u001b[38;5;28;01mTrue\u001b[39;00m, binary=\u001b[38;5;28;01mFalse\u001b[39;00m):\n\u001b[32m   1016\u001b[39m \u001b[38;5;250m    \u001b[39m\u001b[33;03m\"\"\"Sends a command to the JVM. This method is not intended to be\u001b[39;00m\n\u001b[32m   1017\u001b[39m \u001b[33;03m       called directly by Py4J users. It is usually called by\u001b[39;00m\n\u001b[32m   1018\u001b[39m \u001b[33;03m       :class:`JavaMember` instances.\u001b[39;00m\n\u001b[32m   (...)\u001b[39m\u001b[32m   1034\u001b[39m \u001b[33;03m     if `binary` is `True`.\u001b[39;00m\n\u001b[32m   1035\u001b[39m \u001b[33;03m    \"\"\"\u001b[39;00m\n\u001b[32m-> \u001b[39m\u001b[32m1036\u001b[39m     connection = \u001b[38;5;28;43mself\u001b[39;49m\u001b[43m.\u001b[49m\u001b[43m_get_connection\u001b[49m\u001b[43m(\u001b[49m\u001b[43m)\u001b[49m\n\u001b[32m   1037\u001b[39m     \u001b[38;5;28;01mtry\u001b[39;00m:\n\u001b[32m   1038\u001b[39m         response = connection.send_command(command)\n",
            "\u001b[36mFile \u001b[39m\u001b[32mc:\\Users\\jessi\\Desktop\\BT4221\\maleware-detection-ml-model\\.venv\\Lib\\site-packages\\py4j\\clientserver.py:284\u001b[39m, in \u001b[36mJavaClient._get_connection\u001b[39m\u001b[34m(self)\u001b[39m\n\u001b[32m    281\u001b[39m     \u001b[38;5;28;01mpass\u001b[39;00m\n\u001b[32m    283\u001b[39m \u001b[38;5;28;01mif\u001b[39;00m connection \u001b[38;5;129;01mis\u001b[39;00m \u001b[38;5;28;01mNone\u001b[39;00m \u001b[38;5;129;01mor\u001b[39;00m connection.socket \u001b[38;5;129;01mis\u001b[39;00m \u001b[38;5;28;01mNone\u001b[39;00m:\n\u001b[32m--> \u001b[39m\u001b[32m284\u001b[39m     connection = \u001b[38;5;28;43mself\u001b[39;49m\u001b[43m.\u001b[49m\u001b[43m_create_new_connection\u001b[49m\u001b[43m(\u001b[49m\u001b[43m)\u001b[49m\n\u001b[32m    285\u001b[39m \u001b[38;5;28;01mreturn\u001b[39;00m connection\n",
            "\u001b[36mFile \u001b[39m\u001b[32mc:\\Users\\jessi\\Desktop\\BT4221\\maleware-detection-ml-model\\.venv\\Lib\\site-packages\\py4j\\clientserver.py:291\u001b[39m, in \u001b[36mJavaClient._create_new_connection\u001b[39m\u001b[34m(self)\u001b[39m\n\u001b[32m    287\u001b[39m \u001b[38;5;28;01mdef\u001b[39;00m\u001b[38;5;250m \u001b[39m\u001b[34m_create_new_connection\u001b[39m(\u001b[38;5;28mself\u001b[39m):\n\u001b[32m    288\u001b[39m     connection = ClientServerConnection(\n\u001b[32m    289\u001b[39m         \u001b[38;5;28mself\u001b[39m.java_parameters, \u001b[38;5;28mself\u001b[39m.python_parameters,\n\u001b[32m    290\u001b[39m         \u001b[38;5;28mself\u001b[39m.gateway_property, \u001b[38;5;28mself\u001b[39m)\n\u001b[32m--> \u001b[39m\u001b[32m291\u001b[39m     \u001b[43mconnection\u001b[49m\u001b[43m.\u001b[49m\u001b[43mconnect_to_java_server\u001b[49m\u001b[43m(\u001b[49m\u001b[43m)\u001b[49m\n\u001b[32m    292\u001b[39m     \u001b[38;5;28mself\u001b[39m.set_thread_connection(connection)\n\u001b[32m    293\u001b[39m     \u001b[38;5;28;01mreturn\u001b[39;00m connection\n",
            "\u001b[36mFile \u001b[39m\u001b[32mc:\\Users\\jessi\\Desktop\\BT4221\\maleware-detection-ml-model\\.venv\\Lib\\site-packages\\py4j\\clientserver.py:438\u001b[39m, in \u001b[36mClientServerConnection.connect_to_java_server\u001b[39m\u001b[34m(self)\u001b[39m\n\u001b[32m    435\u001b[39m \u001b[38;5;28;01mif\u001b[39;00m \u001b[38;5;28mself\u001b[39m.ssl_context:\n\u001b[32m    436\u001b[39m     \u001b[38;5;28mself\u001b[39m.socket = \u001b[38;5;28mself\u001b[39m.ssl_context.wrap_socket(\n\u001b[32m    437\u001b[39m         \u001b[38;5;28mself\u001b[39m.socket, server_hostname=\u001b[38;5;28mself\u001b[39m.java_address)\n\u001b[32m--> \u001b[39m\u001b[32m438\u001b[39m \u001b[38;5;28;43mself\u001b[39;49m\u001b[43m.\u001b[49m\u001b[43msocket\u001b[49m\u001b[43m.\u001b[49m\u001b[43mconnect\u001b[49m\u001b[43m(\u001b[49m\u001b[43m(\u001b[49m\u001b[38;5;28;43mself\u001b[39;49m\u001b[43m.\u001b[49m\u001b[43mjava_address\u001b[49m\u001b[43m,\u001b[49m\u001b[43m \u001b[49m\u001b[38;5;28;43mself\u001b[39;49m\u001b[43m.\u001b[49m\u001b[43mjava_port\u001b[49m\u001b[43m)\u001b[49m\u001b[43m)\u001b[49m\n\u001b[32m    439\u001b[39m \u001b[38;5;28mself\u001b[39m.stream = \u001b[38;5;28mself\u001b[39m.socket.makefile(\u001b[33m\"\u001b[39m\u001b[33mrb\u001b[39m\u001b[33m\"\u001b[39m)\n\u001b[32m    440\u001b[39m \u001b[38;5;28mself\u001b[39m.is_connected = \u001b[38;5;28;01mTrue\u001b[39;00m\n",
            "\u001b[31mConnectionRefusedError\u001b[39m: [WinError 10061] No connection could be made because the target machine actively refused it"
          ]
        }
      ],
      "source": [
        "categorical_cols = [\"proto\", \"conn_state\", \"history\"]\n",
        "\n",
        "for col in categorical_cols:\n",
        "    count_df = df.groupBy(col).count().orderBy(\"count\", ascending=False).toPandas()\n",
        "    print(f\"=== {col} Value Counts ===\")\n",
        "    display(count_df)\n"
      ]
    },
    {
      "cell_type": "code",
      "execution_count": null,
      "metadata": {},
      "outputs": [
        {
          "name": "stdout",
          "output_type": "stream",
          "text": [
            "Cardinality of id_orig_h: 28\n",
            "Cardinality of id_orig_p: 65536\n",
            "Cardinality of id_resp_h: 4098966\n",
            "Cardinality of id_resp_p: 16\n"
          ]
        }
      ],
      "source": [
        "from pyspark.sql.functions import countDistinct\n",
        "\n",
        "# Count distinct values for each column\n",
        "cardinality = df.select(\n",
        "    countDistinct(\"id_orig_h\").alias(\"id_orig_h_cardinality\"),\n",
        "    countDistinct(\"id_orig_p\").alias(\"id_orig_p_cardinality\"),\n",
        "    countDistinct(\"id_resp_h\").alias(\"id_resp_h_cardinality\"),\n",
        "    countDistinct(\"id_resp_p\").alias(\"id_resp_p_cardinality\")\n",
        ").collect()[0]\n",
        "\n",
        "# Print the cardinality of each column\n",
        "print(f\"Cardinality of id_orig_h: {cardinality['id_orig_h_cardinality']}\")\n",
        "print(f\"Cardinality of id_orig_p: {cardinality['id_orig_p_cardinality']}\")\n",
        "print(f\"Cardinality of id_resp_h: {cardinality['id_resp_h_cardinality']}\")\n",
        "print(f\"Cardinality of id_resp_p: {cardinality['id_resp_p_cardinality']}\")"
      ]
    },
    {
      "cell_type": "markdown",
      "metadata": {},
      "source": [
        "id_orig_h has low cardinality -> 28, so likely represent small number of internal source IPs (devices on your network)\n",
        "\n",
        "id_resp_p has low cardinality -> 16 destination ports, likely standard ones like 80, 443, 22. tells you what kind of service was accessed. "
      ]
    },
    {
      "cell_type": "markdown",
      "metadata": {
        "id": "KL647mftDNjA"
      },
      "source": [
        "## Correlation matrix for numeric columns"
      ]
    },
    {
      "cell_type": "code",
      "execution_count": 22,
      "metadata": {
        "colab": {
          "base_uri": "https://localhost:8080/",
          "height": 626
        },
        "collapsed": true,
        "id": "xtFeK3cX01Ul",
        "outputId": "bbcc9cf8-d740-477f-c64e-896f48d08fc7"
      },
      "outputs": [
        {
          "ename": "ConnectionRefusedError",
          "evalue": "[WinError 10061] No connection could be made because the target machine actively refused it",
          "output_type": "error",
          "traceback": [
            "\u001b[31m---------------------------------------------------------------------------\u001b[39m",
            "\u001b[31mConnectionRefusedError\u001b[39m                    Traceback (most recent call last)",
            "\u001b[36mCell\u001b[39m\u001b[36m \u001b[39m\u001b[32mIn[22]\u001b[39m\u001b[32m, line 10\u001b[39m\n\u001b[32m      4\u001b[39m numeric_cols = [\n\u001b[32m      5\u001b[39m     \u001b[33m\"\u001b[39m\u001b[33mduration\u001b[39m\u001b[33m\"\u001b[39m, \u001b[33m\"\u001b[39m\u001b[33morig_bytes\u001b[39m\u001b[33m\"\u001b[39m, \u001b[33m\"\u001b[39m\u001b[33mresp_bytes\u001b[39m\u001b[33m\"\u001b[39m,\n\u001b[32m      6\u001b[39m     \u001b[33m\"\u001b[39m\u001b[33mmissed_bytes\u001b[39m\u001b[33m\"\u001b[39m, \u001b[33m\"\u001b[39m\u001b[33morig_pkts\u001b[39m\u001b[33m\"\u001b[39m, \u001b[33m\"\u001b[39m\u001b[33morig_ip_bytes\u001b[39m\u001b[33m\"\u001b[39m, \u001b[33m\"\u001b[39m\u001b[33mresp_pkts\u001b[39m\u001b[33m\"\u001b[39m, \u001b[33m\"\u001b[39m\u001b[33mresp_ip_bytes\u001b[39m\u001b[33m\"\u001b[39m\n\u001b[32m      7\u001b[39m ]\n\u001b[32m      9\u001b[39m \u001b[38;5;66;03m# Convert PySpark DataFrame to pandas DataFrame for correlation calculation\u001b[39;00m\n\u001b[32m---> \u001b[39m\u001b[32m10\u001b[39m pandas_df = \u001b[43mdf\u001b[49m\u001b[43m.\u001b[49m\u001b[43mselect\u001b[49m\u001b[43m(\u001b[49m\u001b[43mnumeric_cols\u001b[49m\u001b[43m)\u001b[49m.toPandas()\n\u001b[32m     12\u001b[39m \u001b[38;5;66;03m# Plot correlation heatmap\u001b[39;00m\n\u001b[32m     13\u001b[39m plt.figure(figsize=(\u001b[32m12\u001b[39m, \u001b[32m6\u001b[39m))\n",
            "\u001b[36mFile \u001b[39m\u001b[32mc:\\Users\\jessi\\Desktop\\BT4221\\maleware-detection-ml-model\\.venv\\Lib\\site-packages\\pyspark\\sql\\dataframe.py:3229\u001b[39m, in \u001b[36mDataFrame.select\u001b[39m\u001b[34m(self, *cols)\u001b[39m\n\u001b[32m   3184\u001b[39m \u001b[38;5;28;01mdef\u001b[39;00m\u001b[38;5;250m \u001b[39m\u001b[34mselect\u001b[39m(\u001b[38;5;28mself\u001b[39m, *cols: \u001b[33m\"\u001b[39m\u001b[33mColumnOrName\u001b[39m\u001b[33m\"\u001b[39m) -> \u001b[33m\"\u001b[39m\u001b[33mDataFrame\u001b[39m\u001b[33m\"\u001b[39m:  \u001b[38;5;66;03m# type: ignore[misc]\u001b[39;00m\n\u001b[32m   3185\u001b[39m \u001b[38;5;250m    \u001b[39m\u001b[33;03m\"\"\"Projects a set of expressions and returns a new :class:`DataFrame`.\u001b[39;00m\n\u001b[32m   3186\u001b[39m \n\u001b[32m   3187\u001b[39m \u001b[33;03m    .. versionadded:: 1.3.0\u001b[39;00m\n\u001b[32m   (...)\u001b[39m\u001b[32m   3227\u001b[39m \u001b[33;03m    +-----+---+\u001b[39;00m\n\u001b[32m   3228\u001b[39m \u001b[33;03m    \"\"\"\u001b[39;00m\n\u001b[32m-> \u001b[39m\u001b[32m3229\u001b[39m     jdf = \u001b[38;5;28mself\u001b[39m._jdf.select(\u001b[38;5;28;43mself\u001b[39;49m\u001b[43m.\u001b[49m\u001b[43m_jcols\u001b[49m\u001b[43m(\u001b[49m\u001b[43m*\u001b[49m\u001b[43mcols\u001b[49m\u001b[43m)\u001b[49m)\n\u001b[32m   3230\u001b[39m     \u001b[38;5;28;01mreturn\u001b[39;00m DataFrame(jdf, \u001b[38;5;28mself\u001b[39m.sparkSession)\n",
            "\u001b[36mFile \u001b[39m\u001b[32mc:\\Users\\jessi\\Desktop\\BT4221\\maleware-detection-ml-model\\.venv\\Lib\\site-packages\\pyspark\\sql\\dataframe.py:2766\u001b[39m, in \u001b[36mDataFrame._jcols\u001b[39m\u001b[34m(self, *cols)\u001b[39m\n\u001b[32m   2764\u001b[39m \u001b[38;5;28;01mif\u001b[39;00m \u001b[38;5;28mlen\u001b[39m(cols) == \u001b[32m1\u001b[39m \u001b[38;5;129;01mand\u001b[39;00m \u001b[38;5;28misinstance\u001b[39m(cols[\u001b[32m0\u001b[39m], \u001b[38;5;28mlist\u001b[39m):\n\u001b[32m   2765\u001b[39m     cols = cols[\u001b[32m0\u001b[39m]\n\u001b[32m-> \u001b[39m\u001b[32m2766\u001b[39m \u001b[38;5;28;01mreturn\u001b[39;00m \u001b[38;5;28;43mself\u001b[39;49m\u001b[43m.\u001b[49m\u001b[43m_jseq\u001b[49m\u001b[43m(\u001b[49m\u001b[43mcols\u001b[49m\u001b[43m,\u001b[49m\u001b[43m \u001b[49m\u001b[43m_to_java_column\u001b[49m\u001b[43m)\u001b[49m\n",
            "\u001b[36mFile \u001b[39m\u001b[32mc:\\Users\\jessi\\Desktop\\BT4221\\maleware-detection-ml-model\\.venv\\Lib\\site-packages\\pyspark\\sql\\dataframe.py:2753\u001b[39m, in \u001b[36mDataFrame._jseq\u001b[39m\u001b[34m(self, cols, converter)\u001b[39m\n\u001b[32m   2747\u001b[39m \u001b[38;5;28;01mdef\u001b[39;00m\u001b[38;5;250m \u001b[39m\u001b[34m_jseq\u001b[39m(\n\u001b[32m   2748\u001b[39m     \u001b[38;5;28mself\u001b[39m,\n\u001b[32m   2749\u001b[39m     cols: Sequence,\n\u001b[32m   2750\u001b[39m     converter: Optional[Callable[..., Union[\u001b[33m\"\u001b[39m\u001b[33mPrimitiveType\u001b[39m\u001b[33m\"\u001b[39m, JavaObject]]] = \u001b[38;5;28;01mNone\u001b[39;00m,\n\u001b[32m   2751\u001b[39m ) -> JavaObject:\n\u001b[32m   2752\u001b[39m \u001b[38;5;250m    \u001b[39m\u001b[33;03m\"\"\"Return a JVM Seq of Columns from a list of Column or names\"\"\"\u001b[39;00m\n\u001b[32m-> \u001b[39m\u001b[32m2753\u001b[39m     \u001b[38;5;28;01mreturn\u001b[39;00m \u001b[43m_to_seq\u001b[49m\u001b[43m(\u001b[49m\u001b[38;5;28;43mself\u001b[39;49m\u001b[43m.\u001b[49m\u001b[43msparkSession\u001b[49m\u001b[43m.\u001b[49m\u001b[43m_sc\u001b[49m\u001b[43m,\u001b[49m\u001b[43m \u001b[49m\u001b[43mcols\u001b[49m\u001b[43m,\u001b[49m\u001b[43m \u001b[49m\u001b[43mconverter\u001b[49m\u001b[43m)\u001b[49m\n",
            "\u001b[36mFile \u001b[39m\u001b[32mc:\\Users\\jessi\\Desktop\\BT4221\\maleware-detection-ml-model\\.venv\\Lib\\site-packages\\pyspark\\sql\\column.py:88\u001b[39m, in \u001b[36m_to_seq\u001b[39m\u001b[34m(sc, cols, converter)\u001b[39m\n\u001b[32m     81\u001b[39m \u001b[38;5;250m\u001b[39m\u001b[33;03m\"\"\"\u001b[39;00m\n\u001b[32m     82\u001b[39m \u001b[33;03mConvert a list of Columns (or names) into a JVM Seq of Column.\u001b[39;00m\n\u001b[32m     83\u001b[39m \n\u001b[32m     84\u001b[39m \u001b[33;03mAn optional `converter` could be used to convert items in `cols`\u001b[39;00m\n\u001b[32m     85\u001b[39m \u001b[33;03minto JVM Column objects.\u001b[39;00m\n\u001b[32m     86\u001b[39m \u001b[33;03m\"\"\"\u001b[39;00m\n\u001b[32m     87\u001b[39m \u001b[38;5;28;01mif\u001b[39;00m converter:\n\u001b[32m---> \u001b[39m\u001b[32m88\u001b[39m     cols = [\u001b[43mconverter\u001b[49m\u001b[43m(\u001b[49m\u001b[43mc\u001b[49m\u001b[43m)\u001b[49m \u001b[38;5;28;01mfor\u001b[39;00m c \u001b[38;5;129;01min\u001b[39;00m cols]\n\u001b[32m     89\u001b[39m \u001b[38;5;28;01massert\u001b[39;00m sc._jvm \u001b[38;5;129;01mis\u001b[39;00m \u001b[38;5;129;01mnot\u001b[39;00m \u001b[38;5;28;01mNone\u001b[39;00m\n\u001b[32m     90\u001b[39m \u001b[38;5;28;01mreturn\u001b[39;00m sc._jvm.PythonUtils.toSeq(cols)\n",
            "\u001b[36mFile \u001b[39m\u001b[32mc:\\Users\\jessi\\Desktop\\BT4221\\maleware-detection-ml-model\\.venv\\Lib\\site-packages\\pyspark\\sql\\column.py:63\u001b[39m, in \u001b[36m_to_java_column\u001b[39m\u001b[34m(col)\u001b[39m\n\u001b[32m     61\u001b[39m     jcol = col._jc\n\u001b[32m     62\u001b[39m \u001b[38;5;28;01melif\u001b[39;00m \u001b[38;5;28misinstance\u001b[39m(col, \u001b[38;5;28mstr\u001b[39m):\n\u001b[32m---> \u001b[39m\u001b[32m63\u001b[39m     jcol = \u001b[43m_create_column_from_name\u001b[49m\u001b[43m(\u001b[49m\u001b[43mcol\u001b[49m\u001b[43m)\u001b[49m\n\u001b[32m     64\u001b[39m \u001b[38;5;28;01melse\u001b[39;00m:\n\u001b[32m     65\u001b[39m     \u001b[38;5;28;01mraise\u001b[39;00m PySparkTypeError(\n\u001b[32m     66\u001b[39m         error_class=\u001b[33m\"\u001b[39m\u001b[33mNOT_COLUMN_OR_STR\u001b[39m\u001b[33m\"\u001b[39m,\n\u001b[32m     67\u001b[39m         message_parameters={\u001b[33m\"\u001b[39m\u001b[33marg_name\u001b[39m\u001b[33m\"\u001b[39m: \u001b[33m\"\u001b[39m\u001b[33mcol\u001b[39m\u001b[33m\"\u001b[39m, \u001b[33m\"\u001b[39m\u001b[33marg_type\u001b[39m\u001b[33m\"\u001b[39m: \u001b[38;5;28mtype\u001b[39m(col).\u001b[34m__name__\u001b[39m},\n\u001b[32m     68\u001b[39m     )\n",
            "\u001b[36mFile \u001b[39m\u001b[32mc:\\Users\\jessi\\Desktop\\BT4221\\maleware-detection-ml-model\\.venv\\Lib\\site-packages\\pyspark\\sql\\column.py:56\u001b[39m, in \u001b[36m_create_column_from_name\u001b[39m\u001b[34m(name)\u001b[39m\n\u001b[32m     54\u001b[39m \u001b[38;5;28;01mdef\u001b[39;00m\u001b[38;5;250m \u001b[39m\u001b[34m_create_column_from_name\u001b[39m(name: \u001b[38;5;28mstr\u001b[39m) -> \u001b[33m\"\u001b[39m\u001b[33mColumn\u001b[39m\u001b[33m\"\u001b[39m:\n\u001b[32m     55\u001b[39m     sc = get_active_spark_context()\n\u001b[32m---> \u001b[39m\u001b[32m56\u001b[39m     \u001b[38;5;28;01mreturn\u001b[39;00m \u001b[43mcast\u001b[49m\u001b[43m(\u001b[49m\u001b[43mJVMView\u001b[49m\u001b[43m,\u001b[49m\u001b[43m \u001b[49m\u001b[43msc\u001b[49m\u001b[43m.\u001b[49m\u001b[43m_jvm\u001b[49m\u001b[43m)\u001b[49m\u001b[43m.\u001b[49m\u001b[43mfunctions\u001b[49m.col(name)\n",
            "\u001b[36mFile \u001b[39m\u001b[32mc:\\Users\\jessi\\Desktop\\BT4221\\maleware-detection-ml-model\\.venv\\Lib\\site-packages\\py4j\\java_gateway.py:1712\u001b[39m, in \u001b[36mJVMView.__getattr__\u001b[39m\u001b[34m(self, name)\u001b[39m\n\u001b[32m   1709\u001b[39m \u001b[38;5;28;01mif\u001b[39;00m name == UserHelpAutoCompletion.KEY:\n\u001b[32m   1710\u001b[39m     \u001b[38;5;28;01mreturn\u001b[39;00m UserHelpAutoCompletion()\n\u001b[32m-> \u001b[39m\u001b[32m1712\u001b[39m answer = \u001b[38;5;28;43mself\u001b[39;49m\u001b[43m.\u001b[49m\u001b[43m_gateway_client\u001b[49m\u001b[43m.\u001b[49m\u001b[43msend_command\u001b[49m\u001b[43m(\u001b[49m\n\u001b[32m   1713\u001b[39m \u001b[43m    \u001b[49m\u001b[43mproto\u001b[49m\u001b[43m.\u001b[49m\u001b[43mREFLECTION_COMMAND_NAME\u001b[49m\u001b[43m \u001b[49m\u001b[43m+\u001b[49m\n\u001b[32m   1714\u001b[39m \u001b[43m    \u001b[49m\u001b[43mproto\u001b[49m\u001b[43m.\u001b[49m\u001b[43mREFL_GET_UNKNOWN_SUB_COMMAND_NAME\u001b[49m\u001b[43m \u001b[49m\u001b[43m+\u001b[49m\u001b[43m \u001b[49m\u001b[43mname\u001b[49m\u001b[43m \u001b[49m\u001b[43m+\u001b[49m\u001b[43m \u001b[49m\u001b[33;43m\"\u001b[39;49m\u001b[38;5;130;43;01m\\n\u001b[39;49;00m\u001b[33;43m\"\u001b[39;49m\u001b[43m \u001b[49m\u001b[43m+\u001b[49m\u001b[43m \u001b[49m\u001b[38;5;28;43mself\u001b[39;49m\u001b[43m.\u001b[49m\u001b[43m_id\u001b[49m\u001b[43m \u001b[49m\u001b[43m+\u001b[49m\n\u001b[32m   1715\u001b[39m \u001b[43m    \u001b[49m\u001b[33;43m\"\u001b[39;49m\u001b[38;5;130;43;01m\\n\u001b[39;49;00m\u001b[33;43m\"\u001b[39;49m\u001b[43m \u001b[49m\u001b[43m+\u001b[49m\u001b[43m \u001b[49m\u001b[43mproto\u001b[49m\u001b[43m.\u001b[49m\u001b[43mEND_COMMAND_PART\u001b[49m\u001b[43m)\u001b[49m\n\u001b[32m   1716\u001b[39m \u001b[38;5;28;01mif\u001b[39;00m answer == proto.SUCCESS_PACKAGE:\n\u001b[32m   1717\u001b[39m     \u001b[38;5;28;01mreturn\u001b[39;00m JavaPackage(name, \u001b[38;5;28mself\u001b[39m._gateway_client, jvm_id=\u001b[38;5;28mself\u001b[39m._id)\n",
            "\u001b[36mFile \u001b[39m\u001b[32mc:\\Users\\jessi\\Desktop\\BT4221\\maleware-detection-ml-model\\.venv\\Lib\\site-packages\\py4j\\java_gateway.py:1036\u001b[39m, in \u001b[36mGatewayClient.send_command\u001b[39m\u001b[34m(self, command, retry, binary)\u001b[39m\n\u001b[32m   1015\u001b[39m \u001b[38;5;28;01mdef\u001b[39;00m\u001b[38;5;250m \u001b[39m\u001b[34msend_command\u001b[39m(\u001b[38;5;28mself\u001b[39m, command, retry=\u001b[38;5;28;01mTrue\u001b[39;00m, binary=\u001b[38;5;28;01mFalse\u001b[39;00m):\n\u001b[32m   1016\u001b[39m \u001b[38;5;250m    \u001b[39m\u001b[33;03m\"\"\"Sends a command to the JVM. This method is not intended to be\u001b[39;00m\n\u001b[32m   1017\u001b[39m \u001b[33;03m       called directly by Py4J users. It is usually called by\u001b[39;00m\n\u001b[32m   1018\u001b[39m \u001b[33;03m       :class:`JavaMember` instances.\u001b[39;00m\n\u001b[32m   (...)\u001b[39m\u001b[32m   1034\u001b[39m \u001b[33;03m     if `binary` is `True`.\u001b[39;00m\n\u001b[32m   1035\u001b[39m \u001b[33;03m    \"\"\"\u001b[39;00m\n\u001b[32m-> \u001b[39m\u001b[32m1036\u001b[39m     connection = \u001b[38;5;28;43mself\u001b[39;49m\u001b[43m.\u001b[49m\u001b[43m_get_connection\u001b[49m\u001b[43m(\u001b[49m\u001b[43m)\u001b[49m\n\u001b[32m   1037\u001b[39m     \u001b[38;5;28;01mtry\u001b[39;00m:\n\u001b[32m   1038\u001b[39m         response = connection.send_command(command)\n",
            "\u001b[36mFile \u001b[39m\u001b[32mc:\\Users\\jessi\\Desktop\\BT4221\\maleware-detection-ml-model\\.venv\\Lib\\site-packages\\py4j\\clientserver.py:284\u001b[39m, in \u001b[36mJavaClient._get_connection\u001b[39m\u001b[34m(self)\u001b[39m\n\u001b[32m    281\u001b[39m     \u001b[38;5;28;01mpass\u001b[39;00m\n\u001b[32m    283\u001b[39m \u001b[38;5;28;01mif\u001b[39;00m connection \u001b[38;5;129;01mis\u001b[39;00m \u001b[38;5;28;01mNone\u001b[39;00m \u001b[38;5;129;01mor\u001b[39;00m connection.socket \u001b[38;5;129;01mis\u001b[39;00m \u001b[38;5;28;01mNone\u001b[39;00m:\n\u001b[32m--> \u001b[39m\u001b[32m284\u001b[39m     connection = \u001b[38;5;28;43mself\u001b[39;49m\u001b[43m.\u001b[49m\u001b[43m_create_new_connection\u001b[49m\u001b[43m(\u001b[49m\u001b[43m)\u001b[49m\n\u001b[32m    285\u001b[39m \u001b[38;5;28;01mreturn\u001b[39;00m connection\n",
            "\u001b[36mFile \u001b[39m\u001b[32mc:\\Users\\jessi\\Desktop\\BT4221\\maleware-detection-ml-model\\.venv\\Lib\\site-packages\\py4j\\clientserver.py:291\u001b[39m, in \u001b[36mJavaClient._create_new_connection\u001b[39m\u001b[34m(self)\u001b[39m\n\u001b[32m    287\u001b[39m \u001b[38;5;28;01mdef\u001b[39;00m\u001b[38;5;250m \u001b[39m\u001b[34m_create_new_connection\u001b[39m(\u001b[38;5;28mself\u001b[39m):\n\u001b[32m    288\u001b[39m     connection = ClientServerConnection(\n\u001b[32m    289\u001b[39m         \u001b[38;5;28mself\u001b[39m.java_parameters, \u001b[38;5;28mself\u001b[39m.python_parameters,\n\u001b[32m    290\u001b[39m         \u001b[38;5;28mself\u001b[39m.gateway_property, \u001b[38;5;28mself\u001b[39m)\n\u001b[32m--> \u001b[39m\u001b[32m291\u001b[39m     \u001b[43mconnection\u001b[49m\u001b[43m.\u001b[49m\u001b[43mconnect_to_java_server\u001b[49m\u001b[43m(\u001b[49m\u001b[43m)\u001b[49m\n\u001b[32m    292\u001b[39m     \u001b[38;5;28mself\u001b[39m.set_thread_connection(connection)\n\u001b[32m    293\u001b[39m     \u001b[38;5;28;01mreturn\u001b[39;00m connection\n",
            "\u001b[36mFile \u001b[39m\u001b[32mc:\\Users\\jessi\\Desktop\\BT4221\\maleware-detection-ml-model\\.venv\\Lib\\site-packages\\py4j\\clientserver.py:438\u001b[39m, in \u001b[36mClientServerConnection.connect_to_java_server\u001b[39m\u001b[34m(self)\u001b[39m\n\u001b[32m    435\u001b[39m \u001b[38;5;28;01mif\u001b[39;00m \u001b[38;5;28mself\u001b[39m.ssl_context:\n\u001b[32m    436\u001b[39m     \u001b[38;5;28mself\u001b[39m.socket = \u001b[38;5;28mself\u001b[39m.ssl_context.wrap_socket(\n\u001b[32m    437\u001b[39m         \u001b[38;5;28mself\u001b[39m.socket, server_hostname=\u001b[38;5;28mself\u001b[39m.java_address)\n\u001b[32m--> \u001b[39m\u001b[32m438\u001b[39m \u001b[38;5;28;43mself\u001b[39;49m\u001b[43m.\u001b[49m\u001b[43msocket\u001b[49m\u001b[43m.\u001b[49m\u001b[43mconnect\u001b[49m\u001b[43m(\u001b[49m\u001b[43m(\u001b[49m\u001b[38;5;28;43mself\u001b[39;49m\u001b[43m.\u001b[49m\u001b[43mjava_address\u001b[49m\u001b[43m,\u001b[49m\u001b[43m \u001b[49m\u001b[38;5;28;43mself\u001b[39;49m\u001b[43m.\u001b[49m\u001b[43mjava_port\u001b[49m\u001b[43m)\u001b[49m\u001b[43m)\u001b[49m\n\u001b[32m    439\u001b[39m \u001b[38;5;28mself\u001b[39m.stream = \u001b[38;5;28mself\u001b[39m.socket.makefile(\u001b[33m\"\u001b[39m\u001b[33mrb\u001b[39m\u001b[33m\"\u001b[39m)\n\u001b[32m    440\u001b[39m \u001b[38;5;28mself\u001b[39m.is_connected = \u001b[38;5;28;01mTrue\u001b[39;00m\n",
            "\u001b[31mConnectionRefusedError\u001b[39m: [WinError 10061] No connection could be made because the target machine actively refused it"
          ]
        }
      ],
      "source": [
        "from pyspark.sql.types import FloatType, DoubleType\n",
        "\n",
        "# Define numeric features to keep (excluding ID-like columns)\n",
        "numeric_cols = [\n",
        "    \"duration\", \"orig_bytes\", \"resp_bytes\",\n",
        "    \"missed_bytes\", \"orig_pkts\", \"orig_ip_bytes\", \"resp_pkts\", \"resp_ip_bytes\"\n",
        "]\n",
        "\n",
        "# Convert PySpark DataFrame to pandas DataFrame for correlation calculation\n",
        "pandas_df = df.select(numeric_cols).toPandas()\n",
        "\n",
        "# Plot correlation heatmap\n",
        "plt.figure(figsize=(12, 6))\n",
        "sns.heatmap(pandas_df.corr(), annot=True, cmap=\"coolwarm\", fmt=\".2f\")\n",
        "plt.title(\"Correlation Between Numeric Features\")\n",
        "plt.show()"
      ]
    },
    {
      "cell_type": "markdown",
      "metadata": {
        "id": "tM7tDTvfVa7T"
      },
      "source": [
        "(need to rewrite as we using different dataset)\n",
        "From the correlation matrix, it can be seen that:\n",
        "1. Strong Positive Correlation (Close to 1.0)\n",
        "  - `orig_pkts` and `orig_ip_bytes` are perfectly correlated (1.00), suggesting that packet count and total IP bytes from the origin are directly proportional. One of the variables could be dropped to reduce redundancy.\n",
        "  - `resp_bytes` and `resp_ip_bytes` are similarly strongly correlated (0.98). This could also mean one of the columns might be redundant.\n",
        "  - `duration` and `resp_pkts` are also strongly correlated (0.95). This makes sense as longer durations correlate with more response packets, indicating sustained communication during the duration.\n",
        "2. Weak/Negligible Correlations (Close to 0):\n",
        "  - Port numbers (`id.orig_p`, `id.resp_p`) have near-zero correlations with other features suggesting that ports do not directly influence traffic metrics (e.g. duration, bytes). This is expected as ports are identifiers, not quantitative measures.\n",
        "  - Except for its strong positive correlation to `resp_ip_bytes`, `resp_bytes` and most other features have weak/negligible correlations (0.00-0.21) possibly indicating isolated response behaviors."
      ]
    },
    {
      "cell_type": "markdown",
      "metadata": {
        "id": "xvu7dhOjFPyJ"
      },
      "source": [
        "## Mutual Information Scoring"
      ]
    },
    {
      "cell_type": "code",
      "execution_count": null,
      "metadata": {
        "colab": {
          "base_uri": "https://localhost:8080/"
        },
        "collapsed": true,
        "id": "1wRa5nMjUwBX",
        "outputId": "df3e051a-ae0a-4079-ed24-153fae89a2a6"
      },
      "outputs": [
        {
          "name": "stdout",
          "output_type": "stream",
          "text": [
            "MI for ts: 0.0007\n",
            "MI for uid: 0.0282\n",
            "MI for id_orig_h: 0.0072\n",
            "MI for id_orig_p: 0.0025\n",
            "MI for id_resp_h: 0.0278\n",
            "MI for id_resp_p: 0.0016\n",
            "MI for proto: 0.0116\n",
            "MI for duration: 0.0039\n",
            "MI for orig_bytes: 0.0024\n",
            "MI for resp_bytes: 0.0004\n",
            "MI for conn_state: 0.0230\n",
            "MI for history: 0.0176\n",
            "MI for orig_pkts: 0.0010\n",
            "MI for orig_ip_bytes: 0.0017\n",
            "MI for resp_pkts: 0.0023\n",
            "MI for resp_ip_bytes: 0.0023\n",
            "MI for detailed-label: 0.0056\n",
            "\n",
            "=== Features sorted by Mutual Information ===\n",
            "uid: 0.0282\n",
            "id_resp_h: 0.0278\n",
            "conn_state: 0.0230\n",
            "history: 0.0176\n",
            "proto: 0.0116\n",
            "id_orig_h: 0.0072\n",
            "detailed-label: 0.0056\n",
            "duration: 0.0039\n",
            "id_orig_p: 0.0025\n",
            "orig_bytes: 0.0024\n",
            "resp_pkts: 0.0023\n",
            "resp_ip_bytes: 0.0023\n",
            "orig_ip_bytes: 0.0017\n",
            "id_resp_p: 0.0016\n",
            "orig_pkts: 0.0010\n",
            "ts: 0.0007\n",
            "resp_bytes: 0.0004\n"
          ]
        }
      ],
      "source": [
        "# Discretise numerical features\n",
        "numeric_cols = [col_name for col_name, dtype in df.dtypes if dtype in ['int', 'double', 'float']]\n",
        "\n",
        "# compute mutual info\n",
        "def compute_mutual_info(df, feature_col, target_col=\"label\", n_bins=5):\n",
        "    # 5 quantile based bins per numerical col\n",
        "    if feature_col in numeric_cols:\n",
        "        df = df.withColumn(\n",
        "            f\"{feature_col}_bin\",\n",
        "            F.ntile(n_bins).over(Window.orderBy(feature_col)))\n",
        "        feature_col = f\"{feature_col}_bin\"\n",
        "\n",
        "    # Compute joint probability P(X,Y)\n",
        "    joint_prob = (\n",
        "        df.groupBy(feature_col, target_col)\n",
        "        .agg(F.count(\"*\").alias(\"count\"))\n",
        "        .withColumn(\"p_xy\", F.col(\"count\") / df.count())\n",
        "    )\n",
        "\n",
        "    # Compute marginal probabilities P(X) and P(Y)\n",
        "    p_x = joint_prob.groupBy(feature_col).agg(F.sum(\"p_xy\").alias(\"p_x\"))\n",
        "    p_y = joint_prob.groupBy(target_col).agg(F.sum(\"p_xy\").alias(\"p_y\"))\n",
        "\n",
        "    # Calculate MI terms: p_xy * log2(p_xy / (p_x * p_y))\n",
        "    mi_terms = (\n",
        "        joint_prob.join(p_x, feature_col)\n",
        "        .join(p_y, target_col)\n",
        "        .withColumn(\n",
        "            \"mi_term\",\n",
        "            F.col(\"p_xy\") * F.log2(F.col(\"p_xy\") / (F.col(\"p_x\") * F.col(\"p_y\")))\n",
        "        )\n",
        "    )\n",
        "\n",
        "    # Sum MI terms to get final score\n",
        "    mi = mi_terms.agg(F.sum(\"mi_term\").alias(\"mi\")).collect()[0][\"mi\"]\n",
        "    return float(mi) if mi else 0.0\n",
        "\n",
        "# Compute MI for all features\n",
        "df_mis = df.select(\"*\")\n",
        "mi_results = {}\n",
        "\n",
        "for feature in df_mis.columns:  # Combine all features\n",
        "    if feature == \"label\":\n",
        "        continue\n",
        "    mi_score = compute_mutual_info(df_mis, feature)\n",
        "    mi_results[feature] = mi_score\n",
        "    print(f\"MI for {feature}: {mi_score:.4f}\")\n",
        "\n",
        "# Sort the MI and display results\n",
        "sorted_mi_results = sorted(mi_results.items(), key=lambda x: x[1], reverse=True)\n",
        "print(\"\\n=== Features sorted by Mutual Information ===\")\n",
        "for feature, mi_score in sorted_mi_results:\n",
        "    print(f\"{feature}: {mi_score:.4f}\")"
      ]
    },
    {
      "cell_type": "markdown",
      "metadata": {
        "id": "vXRzg0OfdxU1"
      },
      "source": [
        "(need to rewrite as we using different dataset now)\n",
        "**Interpretation of Mutual Information (MI) Scoring:**\n",
        "\n",
        "MI scoring is a measure of how much information one variable (feature) provides about another (target variable, in this case, `label`). It helps identify which features are most relevant for predicting the target, where a higher MI score means the feature is more informative for the prediction and should be prioritised for model training.\n",
        "\n",
        "From the results:\n",
        "The top 5 informative features are\n",
        "1. `uid` (0.0282)\n",
        "2. `id_resp_h` (0.0278)\n",
        "3. `conn_state` (0.0230)\n",
        "4. `history` (0.0176)\n",
        "5. `proto` (0.0116)\n",
        "\n",
        "On the other hand, the features with low/zero MI score are `resp_bytes` (0.0004) and `ts` (0.0007) which have very low MI and may have a negligible effect on prediction.\n",
        "\n",
        "**Data Leakage Issue**\n",
        "\n",
        "While `uid` has a high MI score, it could suggest that the `uid` is leaking information about the `label` as `uid` is supposed to be a unique identifier for the connection. Since it is unique per row, it has zero predictive power on new data and cannot be generalised onto new samples. This could cause the model to perform extremely well on training data but fail on unseen data."
      ]
    },
    {
      "cell_type": "markdown",
      "metadata": {
        "id": "-LwH82mRclPZ"
      },
      "source": [
        "# Feature Engineering"
      ]
    },
    {
      "cell_type": "markdown",
      "metadata": {
        "id": "rTUT3pONMZ4x"
      },
      "source": [
        "## Engineering new Meaningful Features"
      ]
    },
    {
      "cell_type": "code",
      "execution_count": 14,
      "metadata": {
        "id": "G5RsBjD0cn3k"
      },
      "outputs": [],
      "source": [
        "from pyspark.sql.functions import col, when, lit, log1p\n",
        "\n",
        "# Total Bytes\n",
        "# Byte Ratio (orig_bytes / (resp_bytes + 1))\n",
        "# Packet Ratio (orig_pkts / (resp_pkts + 1))\n",
        "# Total Packet Count\n",
        "# Throughput = total_bytes / (duration + 1e-6)\n",
        "# Data-to-packet efficiency\n",
        "\n",
        "df = df \\\n",
        "    .withColumn(\"total_bytes\", col(\"orig_bytes\") + col(\"resp_bytes\")) \\\n",
        "    .withColumn(\"byte_ratio\", col(\"orig_bytes\") / (col(\"resp_bytes\") + lit(1))) \\\n",
        "    .withColumn(\"pkt_ratio\", col(\"orig_pkts\") / (col(\"resp_pkts\") + lit(1))) \\\n",
        "    .withColumn(\"total_pkts\", col(\"orig_pkts\") + col(\"resp_pkts\")) \\\n",
        "    .withColumn(\"throughput\", col(\"total_bytes\") / (col(\"duration\") + lit(1e-6))) \\\n",
        "    .withColumn(\"efficiency\", col(\"total_bytes\") / (col(\"total_pkts\") + lit(1)))\n",
        "\n"
      ]
    },
    {
      "cell_type": "markdown",
      "metadata": {},
      "source": [
        "## Train-Test Split and label indexing"
      ]
    },
    {
      "cell_type": "code",
      "execution_count": 15,
      "metadata": {},
      "outputs": [
        {
          "name": "stdout",
          "output_type": "stream",
          "text": [
            "+------+-----------+\n",
            "| label|label_index|\n",
            "+------+-----------+\n",
            "|Benign|        0.0|\n",
            "|Benign|        0.0|\n",
            "|Benign|        0.0|\n",
            "|Benign|        0.0|\n",
            "|Benign|        0.0|\n",
            "|Benign|        0.0|\n",
            "|Benign|        0.0|\n",
            "|Benign|        0.0|\n",
            "|Benign|        0.0|\n",
            "|Benign|        0.0|\n",
            "+------+-----------+\n",
            "only showing top 10 rows\n",
            "\n"
          ]
        }
      ],
      "source": [
        "from pyspark.ml.feature import StringIndexer\n",
        "\n",
        "# Create a label indexer for string labels.\n",
        "label_indexer = StringIndexer(inputCol=\"label\", outputCol=\"label_index\", handleInvalid=\"keep\")\n",
        "\n",
        "df = label_indexer.fit(df).transform(df)\n",
        "\n",
        "# Show results to verify\n",
        "df.select(\"label\", \"label_index\").show(10)\n"
      ]
    },
    {
      "cell_type": "code",
      "execution_count": 16,
      "metadata": {},
      "outputs": [],
      "source": [
        "train_df, test_df = df.randomSplit([0.8, 0.2], seed=42)"
      ]
    },
    {
      "cell_type": "markdown",
      "metadata": {
        "id": "HpbaXcxPLdjk"
      },
      "source": [
        "## Encoding of Categorical Variables:"
      ]
    },
    {
      "cell_type": "markdown",
      "metadata": {},
      "source": [
        "Categorical varaiables included are History, proto, conn_state, and id_resp_p. From data exploration, cardinality of each of them are 61, 3, 11, 16 respectively.\n",
        "\n",
        "History has high cardinality so need to do frequency encoding.\n",
        "Others have relative low cardinality so one-hot encoding is feasible."
      ]
    },
    {
      "cell_type": "code",
      "execution_count": 17,
      "metadata": {},
      "outputs": [],
      "source": [
        "from pyspark.sql.functions import count\n",
        "\n",
        "# for high cardinality categorical features, use frequency encoding\n",
        "\n",
        "history_freq_train = train_df.groupBy(\"history\").count().withColumnRenamed(\"count\", \"history_freq\")\n",
        "\n",
        "# Join the frequency mapping to the training data.\n",
        "train_df = train_df.alias(\"left\") \\\n",
        "    .join(history_freq_train.alias(\"right\"), col(\"left.history\") == col(\"right.history\"), \"left\") \\\n",
        "    .select(\"left.*\", col(\"right.history_freq\"))\n",
        "\n",
        "# Join the same mapping to the test data.\n",
        "test_df = test_df.join(history_freq_train, on=\"history\", how=\"left\")\n",
        "# Fill null values in test set for unseen \"history\" categories (if any) with 0.\n",
        "test_df = test_df.fillna({\"history_freq\": 0.0})\n"
      ]
    },
    {
      "cell_type": "code",
      "execution_count": 18,
      "metadata": {},
      "outputs": [],
      "source": [
        "from pyspark.ml.feature import StringIndexer, OneHotEncoder\n",
        "\n",
        "# Low-cardinality categorical features to one-hot encode:\n",
        "low_card_cat = [\"proto\", \"conn_state\", \"id_resp_p\"]\n",
        "\n",
        "# Create StringIndexers for low-cardinality features.\n",
        "indexers = [StringIndexer(inputCol=cat, outputCol=cat + \"_index\", handleInvalid=\"keep\")\n",
        "            for cat in low_card_cat]\n",
        "\n",
        "# Create OneHotEncoders for the indexed features.\n",
        "encoders = [OneHotEncoder(inputCol=cat + \"_index\", outputCol=cat + \"_vec\")\n",
        "            for cat in low_card_cat]"
      ]
    },
    {
      "cell_type": "code",
      "execution_count": 19,
      "metadata": {},
      "outputs": [
        {
          "name": "stdout",
          "output_type": "stream",
          "text": [
            "['ts', 'uid', 'id_orig_h', 'id_orig_p', 'id_resp_h', 'id_resp_p', 'proto', 'duration', 'orig_bytes', 'resp_bytes', 'conn_state', 'missed_bytes', 'history', 'orig_pkts', 'orig_ip_bytes', 'resp_pkts', 'resp_ip_bytes', 'label', 'total_bytes', 'byte_ratio', 'pkt_ratio', 'total_pkts', 'throughput', 'efficiency', 'label_index', 'history_freq']\n"
          ]
        }
      ],
      "source": [
        "print(train_df.columns)\n"
      ]
    },
    {
      "cell_type": "markdown",
      "metadata": {
        "id": "zIw_teB0ITOI"
      },
      "source": [
        "## Scaling of Numerical Features"
      ]
    },
    {
      "cell_type": "code",
      "execution_count": 20,
      "metadata": {},
      "outputs": [],
      "source": [
        "from pyspark.ml.feature import VectorAssembler, StandardScaler\n",
        "\n",
        "# List of numerical features to scale.\n",
        "numeric_features = [\"duration\", \"byte_ratio\", \"pkt_ratio\",\n",
        "                    \"total_bytes\", \"total_pkts\", \"efficiency\", \"throughput\", \"history_freq\"]\n",
        "\n",
        "# Ensure numeric feature columns are of type double.\n",
        "for feature in numeric_features:\n",
        "    train_df = train_df.withColumn(feature, col(feature).cast(\"double\"))\n",
        "    test_df = test_df.withColumn(feature, col(feature).cast(\"double\"))\n",
        "\n",
        "# Assemble numeric features into a vector.\n",
        "assembler_num = VectorAssembler(inputCols=numeric_features, outputCol=\"num_features\")\n",
        "\n",
        "# Scale numerical features using StandardScaler.\n",
        "scaler = StandardScaler(inputCol=\"num_features\", outputCol=\"features_scaled\")"
      ]
    },
    {
      "cell_type": "markdown",
      "metadata": {
        "id": "X0I8dV6gL7zN"
      },
      "source": [
        "## Assemble Features"
      ]
    },
    {
      "cell_type": "code",
      "execution_count": 22,
      "metadata": {},
      "outputs": [],
      "source": [
        "from pyspark.ml.feature import VectorAssembler\n",
        "from pyspark.ml.classification import LogisticRegression\n",
        "\n",
        "final_assembler = VectorAssembler(\n",
        "    inputCols=[\"features_scaled\"] + [cat + \"_vec\" for cat in low_card_cat] + [\"history_freq\"],\n",
        "    outputCol=\"features\"\n",
        ")\n"
      ]
    },
    {
      "cell_type": "markdown",
      "metadata": {
        "id": "R43x7rDi5sF8"
      },
      "source": [
        "# Model Training and Evaluation"
      ]
    },
    {
      "cell_type": "markdown",
      "metadata": {
        "id": "yCclzB3TMgX6"
      },
      "source": [
        "## Logistic Regression"
      ]
    },
    {
      "cell_type": "code",
      "execution_count": 23,
      "metadata": {},
      "outputs": [],
      "source": [
        "lr = LogisticRegression(featuresCol=\"features\", labelCol=\"label_index\", maxIter=20, regParam=0.1)\n",
        "\n",
        "pipeline = Pipeline(stages=indexers + encoders + [assembler_num, scaler, final_assembler, \n",
        "    lr])\n"
      ]
    },
    {
      "cell_type": "markdown",
      "metadata": {},
      "source": [
        "## Hyperparameter Tunning and k-fold validation"
      ]
    },
    {
      "cell_type": "code",
      "execution_count": 25,
      "metadata": {},
      "outputs": [],
      "source": [
        "from pyspark.ml.tuning import CrossValidator, ParamGridBuilder\n",
        "from pyspark.ml.evaluation import BinaryClassificationEvaluator, MulticlassClassificationEvaluator\n",
        "\n",
        "# Setup parameter grid for Logistic Regression.\n",
        "paramGrid = ParamGridBuilder() \\\n",
        "    .addGrid(lr.regParam, [0.01, 0.1]) \\\n",
        "    .addGrid(lr.elasticNetParam, [0.0]) \\\n",
        "    .build()\n",
        "\n",
        "# Define evaluator using area under ROC.\n",
        "evaluator = MulticlassClassificationEvaluator(labelCol=\"label_index\", metricName=\"accuracy\")\n",
        "\n",
        "# Setup 3-fold cross-validation.\n",
        "cv = CrossValidator(\n",
        "    estimator=pipeline,\n",
        "    estimatorParamMaps=paramGrid,\n",
        "    evaluator=evaluator,\n",
        "    numFolds=3\n",
        ")\n",
        "\n",
        "# Train the model using cross-validation on the training set.\n",
        "cvModel = cv.fit(train_df)\n",
        "\n"
      ]
    },
    {
      "cell_type": "code",
      "execution_count": 26,
      "metadata": {},
      "outputs": [
        {
          "name": "stdout",
          "output_type": "stream",
          "text": [
            "Test AUC: 1.0000\n",
            "Test Accuracy: 1.0000\n",
            "Test F1 Score: 1.0000\n",
            "+-----------+----------+--------------------------------------------------------------+\n",
            "|label_index|prediction|probability                                                   |\n",
            "+-----------+----------+--------------------------------------------------------------+\n",
            "|0.0        |0.0       |[0.9907149802354839,0.009227392680974205,5.762708354181235E-5]|\n",
            "|0.0        |0.0       |[0.9907151801974939,0.009227193398812365,5.76264036937016E-5] |\n",
            "|0.0        |0.0       |[0.9907149805561322,0.009227392361416318,5.762708245165082E-5]|\n",
            "|0.0        |0.0       |[0.9907149801954028,0.00922739272091894,5.762708367808263E-5] |\n",
            "|0.0        |0.0       |[0.9907149804358891,0.009227392481250516,5.762708286046142E-5]|\n",
            "|0.0        |0.0       |[0.9907150603570749,0.009227312831786835,5.762681113831902E-5]|\n",
            "|0.0        |0.0       |[0.9907149706160373,0.009227402267716062,5.76271162466679E-5] |\n",
            "|0.0        |0.0       |[0.9907149904962165,0.009227382455127093,5.762704865665305E-5]|\n",
            "|0.0        |0.0       |[0.9907149001933699,0.009227472450955973,5.76273556740116E-5] |\n",
            "|0.0        |0.0       |[0.9907148507328533,0.009227521743314286,5.762752383243762E-5]|\n",
            "+-----------+----------+--------------------------------------------------------------+\n",
            "only showing top 10 rows\n",
            "\n"
          ]
        }
      ],
      "source": [
        "from pyspark.ml.evaluation import BinaryClassificationEvaluator# Make predictions on the test set.\n",
        "predictions = cvModel.transform(test_df)\n",
        "\n",
        "# Evaluate using AUC.\n",
        "auc = evaluator.evaluate(predictions)\n",
        "print(f\"Test AUC: {auc:.4f}\")\n",
        "\n",
        "# Evaluate using Accuracy.\n",
        "accuracy_evaluator = MulticlassClassificationEvaluator(labelCol=\"label_index\", predictionCol=\"prediction\", metricName=\"accuracy\")\n",
        "accuracy = accuracy_evaluator.evaluate(predictions)\n",
        "print(f\"Test Accuracy: {accuracy:.4f}\")\n",
        "\n",
        "# Evaluate using F1 Score.\n",
        "f1_evaluator = MulticlassClassificationEvaluator(labelCol=\"label_index\", predictionCol=\"prediction\", metricName=\"f1\")\n",
        "f1 = f1_evaluator.evaluate(predictions)\n",
        "print(f\"Test F1 Score: {f1:.4f}\")\n",
        "\n",
        "# Show sample predictions.\n",
        "predictions.select(\"label_index\", \"prediction\", \"probability\").show(10, truncate=False)"
      ]
    },
    {
      "cell_type": "markdown",
      "metadata": {
        "id": "phW0E54BMjuc"
      },
      "source": [
        "## Random Forest"
      ]
    },
    {
      "cell_type": "code",
      "execution_count": null,
      "metadata": {
        "id": "4NxND86oM56v"
      },
      "outputs": [],
      "source": [
        "# to be filled"
      ]
    },
    {
      "cell_type": "markdown",
      "metadata": {
        "id": "VLBMnQuGMwBZ"
      },
      "source": [
        "## Gradient Boosted Trees"
      ]
    },
    {
      "cell_type": "code",
      "execution_count": 26,
      "metadata": {
        "id": "Sy5xHJXsM7Nt"
      },
      "outputs": [
        {
          "ename": "NameError",
          "evalue": "name 'encoder' is not defined",
          "output_type": "error",
          "traceback": [
            "\u001b[31m---------------------------------------------------------------------------\u001b[39m",
            "\u001b[31mNameError\u001b[39m                                 Traceback (most recent call last)",
            "\u001b[36mCell\u001b[39m\u001b[36m \u001b[39m\u001b[32mIn[26]\u001b[39m\u001b[32m, line 13\u001b[39m\n\u001b[32m      6\u001b[39m gbt = GBTClassifier(featuresCol=\u001b[33m\"\u001b[39m\u001b[33mfeatures\u001b[39m\u001b[33m\"\u001b[39m,\n\u001b[32m      7\u001b[39m                     labelCol=\u001b[33m\"\u001b[39m\u001b[33mlabel_index\u001b[39m\u001b[33m\"\u001b[39m, \n\u001b[32m      8\u001b[39m                     maxIter=\u001b[32m50\u001b[39m, \n\u001b[32m      9\u001b[39m                     maxDepth=\u001b[32m5\u001b[39m)\n\u001b[32m     10\u001b[39m \u001b[38;5;66;03m# gbt pipeline\u001b[39;00m\n\u001b[32m     11\u001b[39m gbt_pipeline = Pipeline(stages=[\n\u001b[32m     12\u001b[39m     label_indexer,\n\u001b[32m---> \u001b[39m\u001b[32m13\u001b[39m     \u001b[43mencoder\u001b[49m, \u001b[38;5;66;03m# insert encoders !!\u001b[39;00m\n\u001b[32m     14\u001b[39m     assembler,\n\u001b[32m     15\u001b[39m     gbt\n\u001b[32m     16\u001b[39m ])\n\u001b[32m     17\u001b[39m \u001b[38;5;66;03m# train the model\u001b[39;00m\n\u001b[32m     18\u001b[39m gbt_model = gbt_pipeline.fit(train)\n",
            "\u001b[31mNameError\u001b[39m: name 'encoder' is not defined"
          ]
        }
      ],
      "source": [
        "from pyspark.ml.classification import GBTClassifier\n",
        "from pyspark.ml.evaluation import BinaryClassificationEvaluator, MulticlassClassificationEvaluator\n",
        "from pyspark.ml import Pipeline\n",
        "\n",
        "# gbt regressor\n",
        "gbt = GBTClassifier(featuresCol=\"features\",\n",
        "                    labelCol=\"label_index\", \n",
        "                    maxIter=50, \n",
        "                    maxDepth=5)\n",
        "# gbt pipeline\n",
        "gbt_pipeline = Pipeline(stages=[\n",
        "    label_indexer,\n",
        "    encoder, # insert encoders !!\n",
        "    assembler,\n",
        "    gbt\n",
        "])\n",
        "# train the model\n",
        "gbt_model = gbt_pipeline.fit(train)\n",
        "\n",
        "# Make predictions with Gradient Boosted Tree\n",
        "gbt_predictions = gbt_model.transform(test)\n",
        "\n",
        "# evaluate AUC using BinaryClassificationEvaluator\n",
        "evaluator_auc = BinaryClassificationEvaluator(\n",
        "    labelCol=\"label_index\",\n",
        "    rawPredictionCol=\"rawPrediction\",  # GBT outputs rawPrediction\n",
        "    metricName=\"areaUnderROC\"\n",
        ")\n",
        "\n",
        "gbt_auc = evaluator_auc.evaluate(gbt_predictions)\n",
        "print(f\"GBT AUC: {gbt_auc:.4f}\")\n",
        "\n",
        "evaluator_acc = MulticlassClassificationEvaluator(\n",
        "    labelCol=\"label_index\", \n",
        "    predictionCol=\"prediction\", \n",
        "    metricName=\"accuracy\"\n",
        ")\n",
        "\n",
        "gbt_accuracy = evaluator_acc.evaluate(gbt_predictions)\n",
        "print(f\"Accuracy: {gbt_accuracy:.4f}\")"
      ]
    },
    {
      "cell_type": "markdown",
      "metadata": {
        "id": "Lehy1GtUM1bq"
      },
      "source": [
        "## MLP"
      ]
    },
    {
      "cell_type": "code",
      "execution_count": null,
      "metadata": {
        "id": "MwdyBCqcM81h"
      },
      "outputs": [],
      "source": [
        "# to be filled"
      ]
    },
    {
      "cell_type": "markdown",
      "metadata": {
        "id": "O_f4FngJ5tOD"
      },
      "source": [
        "# Hyperparameter Tuning & Cross-Validation"
      ]
    },
    {
      "cell_type": "code",
      "execution_count": null,
      "metadata": {
        "id": "MHoLi5yvNHjz"
      },
      "outputs": [],
      "source": [
        "# to be done"
      ]
    },
    {
      "cell_type": "markdown",
      "metadata": {
        "id": "sVSpNYqJ52bF"
      },
      "source": [
        "# Model Comparison"
      ]
    },
    {
      "cell_type": "code",
      "execution_count": null,
      "metadata": {},
      "outputs": [],
      "source": []
    },
    {
      "cell_type": "markdown",
      "metadata": {
        "id": "phT0fenb56Nq"
      },
      "source": [
        "write interpretations here"
      ]
    }
  ],
  "metadata": {
    "colab": {
      "provenance": [],
      "toc_visible": true
    },
    "kernelspec": {
      "display_name": ".venv",
      "language": "python",
      "name": "python3"
    },
    "language_info": {
      "codemirror_mode": {
        "name": "ipython",
        "version": 3
      },
      "file_extension": ".py",
      "mimetype": "text/x-python",
      "name": "python",
      "nbconvert_exporter": "python",
      "pygments_lexer": "ipython3",
      "version": "3.13.2"
    }
=======
 "cells": [
  {
   "cell_type": "markdown",
   "metadata": {
    "application/vnd.databricks.v1+cell": {
     "cellMetadata": {},
     "inputWidgets": {},
     "nuid": "ab7fffc2-5b46-4c38-aed0-418e281837ee",
     "showTitle": false,
     "tableResultSettingsMap": {},
     "title": ""
    },
    "id": "MuHMusOPE9ag"
   },
   "source": [
    "# Load Dataset"
   ]
>>>>>>> a1b5199684cdb81227d51c88940efe3740d29cc8
  },
  {
   "cell_type": "code",
   "execution_count": 1,
   "metadata": {
    "application/vnd.databricks.v1+cell": {
     "cellMetadata": {},
     "inputWidgets": {},
     "nuid": "3015a722-fa1d-45bc-8909-0c1956f120a7",
     "showTitle": false,
     "tableResultSettingsMap": {},
     "title": ""
    },
    "colab": {
     "base_uri": "https://localhost:8080/"
    },
    "id": "U9d8CGDIJMeN",
    "outputId": "6e375b9c-f67a-494c-9065-176e66108b1b"
   },
   "outputs": [
    {
     "name": "stdout",
     "output_type": "stream",
     "text": [
      "Requirement already satisfied: pyspark in c:\\users\\aaron\\appdata\\local\\packages\\pythonsoftwarefoundation.python.3.11_qbz5n2kfra8p0\\localcache\\local-packages\\python311\\site-packages (3.5.5)\n",
      "Requirement already satisfied: py4j==0.10.9.7 in c:\\users\\aaron\\appdata\\local\\packages\\pythonsoftwarefoundation.python.3.11_qbz5n2kfra8p0\\localcache\\local-packages\\python311\\site-packages (from pyspark) (0.10.9.7)\n",
      "Note: you may need to restart the kernel to use updated packages.\n"
     ]
    },
    {
     "name": "stderr",
     "output_type": "stream",
     "text": [
      "\n",
      "[notice] A new release of pip is available: 24.0 -> 25.0.1\n",
      "[notice] To update, run: C:\\Users\\aaron\\AppData\\Local\\Microsoft\\WindowsApps\\PythonSoftwareFoundation.Python.3.11_qbz5n2kfra8p0\\python.exe -m pip install --upgrade pip\n"
     ]
    },
    {
     "name": "stdout",
     "output_type": "stream",
     "text": [
      "Requirement already satisfied: seaborn in c:\\users\\aaron\\appdata\\local\\packages\\pythonsoftwarefoundation.python.3.11_qbz5n2kfra8p0\\localcache\\local-packages\\python311\\site-packages (0.13.2)\n",
      "Requirement already satisfied: numpy!=1.24.0,>=1.20 in c:\\users\\aaron\\appdata\\local\\packages\\pythonsoftwarefoundation.python.3.11_qbz5n2kfra8p0\\localcache\\local-packages\\python311\\site-packages (from seaborn) (2.2.4)\n",
      "Requirement already satisfied: pandas>=1.2 in c:\\users\\aaron\\appdata\\local\\packages\\pythonsoftwarefoundation.python.3.11_qbz5n2kfra8p0\\localcache\\local-packages\\python311\\site-packages (from seaborn) (2.2.3)\n",
      "Requirement already satisfied: matplotlib!=3.6.1,>=3.4 in c:\\users\\aaron\\appdata\\local\\packages\\pythonsoftwarefoundation.python.3.11_qbz5n2kfra8p0\\localcache\\local-packages\\python311\\site-packages (from seaborn) (3.10.1)\n",
      "Requirement already satisfied: contourpy>=1.0.1 in c:\\users\\aaron\\appdata\\local\\packages\\pythonsoftwarefoundation.python.3.11_qbz5n2kfra8p0\\localcache\\local-packages\\python311\\site-packages (from matplotlib!=3.6.1,>=3.4->seaborn) (1.3.1)\n",
      "Requirement already satisfied: cycler>=0.10 in c:\\users\\aaron\\appdata\\local\\packages\\pythonsoftwarefoundation.python.3.11_qbz5n2kfra8p0\\localcache\\local-packages\\python311\\site-packages (from matplotlib!=3.6.1,>=3.4->seaborn) (0.12.1)\n",
      "Requirement already satisfied: fonttools>=4.22.0 in c:\\users\\aaron\\appdata\\local\\packages\\pythonsoftwarefoundation.python.3.11_qbz5n2kfra8p0\\localcache\\local-packages\\python311\\site-packages (from matplotlib!=3.6.1,>=3.4->seaborn) (4.57.0)\n",
      "Requirement already satisfied: kiwisolver>=1.3.1 in c:\\users\\aaron\\appdata\\local\\packages\\pythonsoftwarefoundation.python.3.11_qbz5n2kfra8p0\\localcache\\local-packages\\python311\\site-packages (from matplotlib!=3.6.1,>=3.4->seaborn) (1.4.8)\n",
      "Requirement already satisfied: packaging>=20.0 in c:\\users\\aaron\\appdata\\local\\packages\\pythonsoftwarefoundation.python.3.11_qbz5n2kfra8p0\\localcache\\local-packages\\python311\\site-packages (from matplotlib!=3.6.1,>=3.4->seaborn) (24.2)\n",
      "Requirement already satisfied: pillow>=8 in c:\\users\\aaron\\appdata\\local\\packages\\pythonsoftwarefoundation.python.3.11_qbz5n2kfra8p0\\localcache\\local-packages\\python311\\site-packages (from matplotlib!=3.6.1,>=3.4->seaborn) (11.1.0)\n",
      "Requirement already satisfied: pyparsing>=2.3.1 in c:\\users\\aaron\\appdata\\local\\packages\\pythonsoftwarefoundation.python.3.11_qbz5n2kfra8p0\\localcache\\local-packages\\python311\\site-packages (from matplotlib!=3.6.1,>=3.4->seaborn) (3.2.3)\n",
      "Requirement already satisfied: python-dateutil>=2.7 in c:\\users\\aaron\\appdata\\local\\packages\\pythonsoftwarefoundation.python.3.11_qbz5n2kfra8p0\\localcache\\local-packages\\python311\\site-packages (from matplotlib!=3.6.1,>=3.4->seaborn) (2.9.0.post0)\n",
      "Requirement already satisfied: pytz>=2020.1 in c:\\users\\aaron\\appdata\\local\\packages\\pythonsoftwarefoundation.python.3.11_qbz5n2kfra8p0\\localcache\\local-packages\\python311\\site-packages (from pandas>=1.2->seaborn) (2025.2)\n",
      "Requirement already satisfied: tzdata>=2022.7 in c:\\users\\aaron\\appdata\\local\\packages\\pythonsoftwarefoundation.python.3.11_qbz5n2kfra8p0\\localcache\\local-packages\\python311\\site-packages (from pandas>=1.2->seaborn) (2025.2)\n",
      "Requirement already satisfied: six>=1.5 in c:\\users\\aaron\\appdata\\local\\packages\\pythonsoftwarefoundation.python.3.11_qbz5n2kfra8p0\\localcache\\local-packages\\python311\\site-packages (from python-dateutil>=2.7->matplotlib!=3.6.1,>=3.4->seaborn) (1.17.0)\n",
      "Note: you may need to restart the kernel to use updated packages.\n"
     ]
    },
    {
     "name": "stderr",
     "output_type": "stream",
     "text": [
      "\n",
      "[notice] A new release of pip is available: 24.0 -> 25.0.1\n",
      "[notice] To update, run: C:\\Users\\aaron\\AppData\\Local\\Microsoft\\WindowsApps\\PythonSoftwareFoundation.Python.3.11_qbz5n2kfra8p0\\python.exe -m pip install --upgrade pip\n"
     ]
    },
    {
     "name": "stdout",
     "output_type": "stream",
     "text": [
      "Requirement already satisfied: seaborn in c:\\users\\aaron\\appdata\\local\\packages\\pythonsoftwarefoundation.python.3.11_qbz5n2kfra8p0\\localcache\\local-packages\\python311\\site-packages (0.13.2)\n",
      "Requirement already satisfied: matplotlib in c:\\users\\aaron\\appdata\\local\\packages\\pythonsoftwarefoundation.python.3.11_qbz5n2kfra8p0\\localcache\\local-packages\\python311\\site-packages (3.10.1)\n",
      "Requirement already satisfied: pandas in c:\\users\\aaron\\appdata\\local\\packages\\pythonsoftwarefoundation.python.3.11_qbz5n2kfra8p0\\localcache\\local-packages\\python311\\site-packages (2.2.3)\n",
      "Requirement already satisfied: numpy in c:\\users\\aaron\\appdata\\local\\packages\\pythonsoftwarefoundation.python.3.11_qbz5n2kfra8p0\\localcache\\local-packages\\python311\\site-packages (2.2.4)\n",
      "Requirement already satisfied: contourpy>=1.0.1 in c:\\users\\aaron\\appdata\\local\\packages\\pythonsoftwarefoundation.python.3.11_qbz5n2kfra8p0\\localcache\\local-packages\\python311\\site-packages (from matplotlib) (1.3.1)\n",
      "Requirement already satisfied: cycler>=0.10 in c:\\users\\aaron\\appdata\\local\\packages\\pythonsoftwarefoundation.python.3.11_qbz5n2kfra8p0\\localcache\\local-packages\\python311\\site-packages (from matplotlib) (0.12.1)\n",
      "Requirement already satisfied: fonttools>=4.22.0 in c:\\users\\aaron\\appdata\\local\\packages\\pythonsoftwarefoundation.python.3.11_qbz5n2kfra8p0\\localcache\\local-packages\\python311\\site-packages (from matplotlib) (4.57.0)\n",
      "Requirement already satisfied: kiwisolver>=1.3.1 in c:\\users\\aaron\\appdata\\local\\packages\\pythonsoftwarefoundation.python.3.11_qbz5n2kfra8p0\\localcache\\local-packages\\python311\\site-packages (from matplotlib) (1.4.8)\n",
      "Requirement already satisfied: packaging>=20.0 in c:\\users\\aaron\\appdata\\local\\packages\\pythonsoftwarefoundation.python.3.11_qbz5n2kfra8p0\\localcache\\local-packages\\python311\\site-packages (from matplotlib) (24.2)\n",
      "Requirement already satisfied: pillow>=8 in c:\\users\\aaron\\appdata\\local\\packages\\pythonsoftwarefoundation.python.3.11_qbz5n2kfra8p0\\localcache\\local-packages\\python311\\site-packages (from matplotlib) (11.1.0)\n",
      "Requirement already satisfied: pyparsing>=2.3.1 in c:\\users\\aaron\\appdata\\local\\packages\\pythonsoftwarefoundation.python.3.11_qbz5n2kfra8p0\\localcache\\local-packages\\python311\\site-packages (from matplotlib) (3.2.3)\n",
      "Requirement already satisfied: python-dateutil>=2.7 in c:\\users\\aaron\\appdata\\local\\packages\\pythonsoftwarefoundation.python.3.11_qbz5n2kfra8p0\\localcache\\local-packages\\python311\\site-packages (from matplotlib) (2.9.0.post0)\n",
      "Requirement already satisfied: pytz>=2020.1 in c:\\users\\aaron\\appdata\\local\\packages\\pythonsoftwarefoundation.python.3.11_qbz5n2kfra8p0\\localcache\\local-packages\\python311\\site-packages (from pandas) (2025.2)\n",
      "Requirement already satisfied: tzdata>=2022.7 in c:\\users\\aaron\\appdata\\local\\packages\\pythonsoftwarefoundation.python.3.11_qbz5n2kfra8p0\\localcache\\local-packages\\python311\\site-packages (from pandas) (2025.2)\n",
      "Requirement already satisfied: six>=1.5 in c:\\users\\aaron\\appdata\\local\\packages\\pythonsoftwarefoundation.python.3.11_qbz5n2kfra8p0\\localcache\\local-packages\\python311\\site-packages (from python-dateutil>=2.7->matplotlib) (1.17.0)\n",
      "Note: you may need to restart the kernel to use updated packages.\n"
     ]
    },
    {
     "name": "stderr",
     "output_type": "stream",
     "text": [
      "\n",
      "[notice] A new release of pip is available: 24.0 -> 25.0.1\n",
      "[notice] To update, run: C:\\Users\\aaron\\AppData\\Local\\Microsoft\\WindowsApps\\PythonSoftwareFoundation.Python.3.11_qbz5n2kfra8p0\\python.exe -m pip install --upgrade pip\n"
     ]
    }
   ],
   "source": [
    "%pip install pyspark\n",
    "%pip install seaborn\n",
    "%pip install seaborn matplotlib pandas numpy\n"
   ]
  },
  {
   "cell_type": "code",
   "execution_count": 2,
   "metadata": {
    "application/vnd.databricks.v1+cell": {
     "cellMetadata": {
      "byteLimit": 2048000,
      "rowLimit": 10000
     },
     "inputWidgets": {},
     "nuid": "de144ed6-9b78-43a3-9fc1-f501d3811db2",
     "showTitle": false,
     "tableResultSettingsMap": {},
     "title": ""
    },
    "id": "wza_1GzTtyur"
   },
   "outputs": [],
   "source": [
    "# imports\n",
    "from pyspark.sql import SparkSession\n",
    "from pyspark.sql import functions as F\n",
    "from pyspark.sql.functions import split, col, count, when, sum, expr, udf\n",
    "from pyspark.sql.types import FloatType, DoubleType\n",
    "from pyspark.sql.window import Window\n",
    "from pyspark.ml.clustering import KMeans\n",
    "from pyspark.ml.feature import VectorAssembler, StandardScaler\n",
    "from pyspark.ml import Pipeline\n",
    "\n",
    "import math\n",
    "import seaborn as sns\n",
    "import matplotlib.pyplot as plt\n",
    "import pandas as pd\n",
    "import numpy as np\n",
    "\n",
    "# from google.colab import files"
   ]
  },
  {
   "cell_type": "code",
   "execution_count": 3,
   "metadata": {
    "application/vnd.databricks.v1+cell": {
     "cellMetadata": {
      "byteLimit": 2048000,
      "rowLimit": 10000
     },
     "inputWidgets": {},
     "nuid": "515b6157-14c8-4c9e-a73c-5d9f995ce26c",
     "showTitle": false,
     "tableResultSettingsMap": {},
     "title": ""
    },
    "colab": {
     "base_uri": "https://localhost:8080/"
    },
    "id": "bHvifmtp9W8I",
    "outputId": "a1fd5426-fc7b-4d24-ee69-e9a5f0644a1c"
   },
   "outputs": [
    {
     "name": "stdout",
     "output_type": "stream",
     "text": [
      "Spark session created.\n"
     ]
    }
   ],
   "source": [
    "from pyspark.sql import SparkSession\n",
    "\n",
    "# Initialize Spark session\n",
    "spark = SparkSession.builder.appName(\"NetTraffic\").getOrCreate()\n",
    "print(\"Spark session created.\")"
   ]
  },
  {
   "cell_type": "code",
   "execution_count": 4,
   "metadata": {
    "application/vnd.databricks.v1+cell": {
     "cellMetadata": {
      "byteLimit": 2048000,
      "rowLimit": 10000
     },
     "inputWidgets": {},
     "nuid": "2c2c47ad-ebf3-4023-a566-911247bc3ba5",
     "showTitle": false,
     "tableResultSettingsMap": {},
     "title": ""
    }
   },
   "outputs": [],
   "source": [
    "# Path to the file (same folder as notebook)\n",
    "file_path = r\"C:\\Users\\aaron\\OneDrive\\Desktop\\NUS\\Y4S2 BZA\\BT4221\\maleware-detection-ml-model\\CTU_IoT_Malware_Capture_35_1conn.log_labeled.csv\" # change name if needed\n",
    "\n",
    "# Load the CSV into a Spark DataFrame\n",
    "df = spark.read.csv(file_path, header=True, inferSchema=True, sep=\"|\")"
   ]
  },
  {
   "cell_type": "markdown",
   "metadata": {
    "application/vnd.databricks.v1+cell": {
     "cellMetadata": {},
     "inputWidgets": {},
     "nuid": "ae4cea10-5ca9-4525-9e60-8bd65021b416",
     "showTitle": false,
     "tableResultSettingsMap": {},
     "title": ""
    },
    "id": "7imKjAzND901"
   },
   "source": [
    "# Light Data Exploration"
   ]
  },
  {
   "cell_type": "markdown",
   "metadata": {
    "application/vnd.databricks.v1+cell": {
     "cellMetadata": {},
     "inputWidgets": {},
     "nuid": "8a4c36ce-3941-44cd-8111-9855ca3178f5",
     "showTitle": false,
     "tableResultSettingsMap": {},
     "title": ""
    },
    "id": "KJExQrJbDw9S"
   },
   "source": [
    "## Display first 5 rows in dataset"
   ]
  },
  {
   "cell_type": "code",
   "execution_count": 5,
   "metadata": {
    "application/vnd.databricks.v1+cell": {
     "cellMetadata": {},
     "inputWidgets": {},
     "nuid": "3f94f75d-65f7-493c-bda0-bb9f42713118",
     "showTitle": false,
     "tableResultSettingsMap": {},
     "title": ""
    },
    "colab": {
     "base_uri": "https://localhost:8080/"
    },
    "collapsed": true,
    "id": "cTmZ3Gygzz4S",
    "outputId": "b967f68f-98ca-4d05-fda5-fd8dfe52cca1"
   },
   "outputs": [
    {
     "name": "stdout",
     "output_type": "stream",
     "text": [
      "+-------------------+------------------+-------------+---------+--------------+---------+-----+-------+--------+----------+----------+----------+----------+----------+------------+-------+---------+-------------+---------+-------------+--------------+---------------+--------------+\n",
      "|                 ts|               uid|    id.orig_h|id.orig_p|     id.resp_h|id.resp_p|proto|service|duration|orig_bytes|resp_bytes|conn_state|local_orig|local_resp|missed_bytes|history|orig_pkts|orig_ip_bytes|resp_pkts|resp_ip_bytes|tunnel_parents|          label|detailed-label|\n",
      "+-------------------+------------------+-------------+---------+--------------+---------+-----+-------+--------+----------+----------+----------+----------+----------+------------+-------+---------+-------------+---------+-------------+--------------+---------------+--------------+\n",
      "|1.545402842863612E9|CdNmOg26ZIaBRzPvWj|192.168.1.196|  59932.0|104.248.160.24|     80.0|  tcp|      -|3.097754|         0|         0|        S0|         -|         -|         0.0|      S|      3.0|        180.0|      0.0|          0.0|             -|Malicious   C&C|          NULL|\n",
      "|1.545402850041294E9|CgzGV333k9WCximeu8|192.168.1.196|  59932.0|104.248.160.24|     80.0|  tcp|      -|       -|         -|         -|        S0|         -|         -|         0.0|      S|      1.0|         60.0|      0.0|          0.0|             -|Malicious   C&C|          NULL|\n",
      "|1.545402858441479E9|CLm5Pd3ZnqmYVjrZ44|192.168.1.196|  59932.0|104.248.160.24|     80.0|  tcp|      -|       -|         -|         -|        S0|         -|         -|         0.0|      S|      1.0|         60.0|      0.0|          0.0|             -|Malicious   C&C|          NULL|\n",
      "|1.545402853913069E9|CDn2pd1rDD1lCMXAia|192.168.1.196|  35883.0|   192.168.1.1|     53.0|  udp|    dns|5.005148|        78|         0|        S0|         -|         -|         0.0|      D|      2.0|        134.0|      0.0|          0.0|             -|         Benign|             -|\n",
      "| 1.54540284390254E9|C1NKkV3tB4rImzbpDj|192.168.1.196|  43531.0|   192.168.1.1|     53.0|  udp|    dns|5.005145|        78|         0|        S0|         -|         -|         0.0|      D|      2.0|        134.0|      0.0|          0.0|             -|         Benign|             -|\n",
      "+-------------------+------------------+-------------+---------+--------------+---------+-----+-------+--------+----------+----------+----------+----------+----------+------------+-------+---------+-------------+---------+-------------+--------------+---------------+--------------+\n",
      "only showing top 5 rows\n",
      "\n"
     ]
    }
   ],
   "source": [
    "# print(df_split.head())\n",
    "# Show first 5 rows\n",
    "df.show(5)"
   ]
  },
  {
   "cell_type": "markdown",
   "metadata": {
    "application/vnd.databricks.v1+cell": {
     "cellMetadata": {},
     "inputWidgets": {},
     "nuid": "7ddb7214-867b-4ec8-874d-e68fa9b23691",
     "showTitle": false,
     "tableResultSettingsMap": {},
     "title": ""
    },
    "id": "LlXAE87KCnu9"
   },
   "source": [
    "## Show schema to identify column types"
   ]
  },
  {
   "cell_type": "code",
   "execution_count": 6,
   "metadata": {
    "application/vnd.databricks.v1+cell": {
     "cellMetadata": {},
     "inputWidgets": {},
     "nuid": "8b6c1d18-018f-4435-8bda-b942fa85d57f",
     "showTitle": false,
     "tableResultSettingsMap": {},
     "title": ""
    },
    "colab": {
     "base_uri": "https://localhost:8080/"
    },
    "collapsed": true,
    "id": "ocADM6cYz2kk",
    "outputId": "52e67fb5-554c-4b7f-a1ba-105e697feebc"
   },
   "outputs": [
    {
     "name": "stdout",
     "output_type": "stream",
     "text": [
      "root\n",
      " |-- ts: double (nullable = true)\n",
      " |-- uid: string (nullable = true)\n",
      " |-- id.orig_h: string (nullable = true)\n",
      " |-- id.orig_p: double (nullable = true)\n",
      " |-- id.resp_h: string (nullable = true)\n",
      " |-- id.resp_p: double (nullable = true)\n",
      " |-- proto: string (nullable = true)\n",
      " |-- service: string (nullable = true)\n",
      " |-- duration: string (nullable = true)\n",
      " |-- orig_bytes: string (nullable = true)\n",
      " |-- resp_bytes: string (nullable = true)\n",
      " |-- conn_state: string (nullable = true)\n",
      " |-- local_orig: string (nullable = true)\n",
      " |-- local_resp: string (nullable = true)\n",
      " |-- missed_bytes: double (nullable = true)\n",
      " |-- history: string (nullable = true)\n",
      " |-- orig_pkts: double (nullable = true)\n",
      " |-- orig_ip_bytes: double (nullable = true)\n",
      " |-- resp_pkts: double (nullable = true)\n",
      " |-- resp_ip_bytes: double (nullable = true)\n",
      " |-- tunnel_parents: string (nullable = true)\n",
      " |-- label: string (nullable = true)\n",
      " |-- detailed-label: string (nullable = true)\n",
      "\n"
     ]
    }
   ],
   "source": [
    "df.printSchema()"
   ]
  },
  {
   "cell_type": "markdown",
   "metadata": {
    "application/vnd.databricks.v1+cell": {
     "cellMetadata": {},
     "inputWidgets": {},
     "nuid": "7e24656b-aa19-4bb9-9030-65e5d23f7caa",
     "showTitle": false,
     "tableResultSettingsMap": {},
     "title": ""
    }
   },
   "source": [
    "## Check number of rows and columns"
   ]
  },
  {
   "cell_type": "code",
   "execution_count": 7,
   "metadata": {
    "application/vnd.databricks.v1+cell": {
     "cellMetadata": {},
     "inputWidgets": {},
     "nuid": "bba600aa-df94-42c2-9599-2371b84a236c",
     "showTitle": false,
     "tableResultSettingsMap": {},
     "title": ""
    }
   },
   "outputs": [
    {
     "name": "stdout",
     "output_type": "stream",
     "text": [
      "Number of rows: 10447787\n",
      "Number of columns: 23\n"
     ]
    }
   ],
   "source": [
    "num_rows = df.count()\n",
    "print(f\"Number of rows: {num_rows}\")\n",
    "num_columns = len(df.columns)\n",
    "print(f\"Number of columns: {num_columns}\")"
   ]
  },
  {
   "cell_type": "markdown",
   "metadata": {
    "application/vnd.databricks.v1+cell": {
     "cellMetadata": {},
     "inputWidgets": {},
     "nuid": "b2c493bc-4eee-4f8c-997a-7db6d3ddd96a",
     "showTitle": false,
     "tableResultSettingsMap": {},
     "title": ""
    }
   },
   "source": [
    "# Data Cleaning"
   ]
  },
  {
   "cell_type": "markdown",
   "metadata": {
    "application/vnd.databricks.v1+cell": {
     "cellMetadata": {},
     "inputWidgets": {},
     "nuid": "77968585-a0ea-4590-ae11-59c4eb3ec918",
     "showTitle": false,
     "tableResultSettingsMap": {},
     "title": ""
    },
    "id": "oE2c8Gp4RIIM"
   },
   "source": [
    "## Cast '-' to NaN change column names so that Spark will not misinterpret them"
   ]
  },
  {
   "cell_type": "code",
   "execution_count": 8,
   "metadata": {
    "application/vnd.databricks.v1+cell": {
     "cellMetadata": {
      "byteLimit": 2048000,
      "rowLimit": 10000
     },
     "inputWidgets": {},
     "nuid": "09fc8c04-bd82-46c0-9316-f1a03c7f65cf",
     "showTitle": false,
     "tableResultSettingsMap": {},
     "title": ""
    },
    "colab": {
     "base_uri": "https://localhost:8080/"
    },
    "collapsed": true,
    "id": "GUlLAcOpRITz",
    "outputId": "2aa93cba-8a1e-41eb-b1fc-58f440aa63a2"
   },
   "outputs": [
    {
     "name": "stdout",
     "output_type": "stream",
     "text": [
      "+-------------------+------------------+-------------+---------+--------------+---------+-----+-------+--------+----------+----------+----------+----------+----------+------------+-------+---------+-------------+---------+-------------+--------------+---------------+--------------+\n",
      "|                 ts|               uid|    id_orig_h|id_orig_p|     id_resp_h|id_resp_p|proto|service|duration|orig_bytes|resp_bytes|conn_state|local_orig|local_resp|missed_bytes|history|orig_pkts|orig_ip_bytes|resp_pkts|resp_ip_bytes|tunnel_parents|          label|detailed-label|\n",
      "+-------------------+------------------+-------------+---------+--------------+---------+-----+-------+--------+----------+----------+----------+----------+----------+------------+-------+---------+-------------+---------+-------------+--------------+---------------+--------------+\n",
      "|1.545402842863612E9|CdNmOg26ZIaBRzPvWj|192.168.1.196|  59932.0|104.248.160.24|     80.0|  tcp|   NULL|3.097754|         0|         0|        S0|      NULL|      NULL|         0.0|      S|      3.0|        180.0|      0.0|          0.0|          NULL|Malicious   C&C|          NULL|\n",
      "|1.545402850041294E9|CgzGV333k9WCximeu8|192.168.1.196|  59932.0|104.248.160.24|     80.0|  tcp|   NULL|    NULL|      NULL|      NULL|        S0|      NULL|      NULL|         0.0|      S|      1.0|         60.0|      0.0|          0.0|          NULL|Malicious   C&C|          NULL|\n",
      "|1.545402858441479E9|CLm5Pd3ZnqmYVjrZ44|192.168.1.196|  59932.0|104.248.160.24|     80.0|  tcp|   NULL|    NULL|      NULL|      NULL|        S0|      NULL|      NULL|         0.0|      S|      1.0|         60.0|      0.0|          0.0|          NULL|Malicious   C&C|          NULL|\n",
      "|1.545402853913069E9|CDn2pd1rDD1lCMXAia|192.168.1.196|  35883.0|   192.168.1.1|     53.0|  udp|    dns|5.005148|        78|         0|        S0|      NULL|      NULL|         0.0|      D|      2.0|        134.0|      0.0|          0.0|          NULL|         Benign|          NULL|\n",
      "| 1.54540284390254E9|C1NKkV3tB4rImzbpDj|192.168.1.196|  43531.0|   192.168.1.1|     53.0|  udp|    dns|5.005145|        78|         0|        S0|      NULL|      NULL|         0.0|      D|      2.0|        134.0|      0.0|          0.0|          NULL|         Benign|          NULL|\n",
      "+-------------------+------------------+-------------+---------+--------------+---------+-----+-------+--------+----------+----------+----------+----------+----------+------------+-------+---------+-------------+---------+-------------+--------------+---------------+--------------+\n",
      "only showing top 5 rows\n",
      "\n"
     ]
    }
   ],
   "source": [
    "from pyspark.sql.functions import col, when\n",
    "\n",
    "for column in df.columns:\n",
    "    df = df.withColumn(column, when(col(f\"`{column}`\") == \"-\", None).otherwise(col(f\"`{column}`\")))\n",
    "\n",
    "# Rename columns to replace dots with underscores\n",
    "new_column_names = [c.replace(\".\", \"_\") for c in df.columns]\n",
    "df = df.toDF(*new_column_names)\n",
    "\n",
    "# Check\n",
    "df.show(5)"
   ]
  },
  {
   "cell_type": "markdown",
   "metadata": {
    "application/vnd.databricks.v1+cell": {
     "cellMetadata": {},
     "inputWidgets": {},
     "nuid": "d3c757cd-2df2-495e-8119-3bb5ffc9e795",
     "showTitle": false,
     "tableResultSettingsMap": {},
     "title": ""
    }
   },
   "source": [
    "## Dealing with missing values"
   ]
  },
  {
   "cell_type": "code",
   "execution_count": 9,
   "metadata": {
    "application/vnd.databricks.v1+cell": {
     "cellMetadata": {
      "byteLimit": 2048000,
      "rowLimit": 10000
     },
     "inputWidgets": {},
     "nuid": "392bb792-a111-49fd-8d9b-aefe9e058da6",
     "showTitle": false,
     "tableResultSettingsMap": {},
     "title": ""
    }
   },
   "outputs": [
    {
     "data": {
      "text/html": [
       "<div>\n",
       "<style scoped>\n",
       "    .dataframe tbody tr th:only-of-type {\n",
       "        vertical-align: middle;\n",
       "    }\n",
       "\n",
       "    .dataframe tbody tr th {\n",
       "        vertical-align: top;\n",
       "    }\n",
       "\n",
       "    .dataframe thead th {\n",
       "        text-align: right;\n",
       "    }\n",
       "</style>\n",
       "<table border=\"1\" class=\"dataframe\">\n",
       "  <thead>\n",
       "    <tr style=\"text-align: right;\">\n",
       "      <th></th>\n",
       "      <th>Count</th>\n",
       "    </tr>\n",
       "  </thead>\n",
       "  <tbody>\n",
       "    <tr>\n",
       "      <th>ts</th>\n",
       "      <td>0</td>\n",
       "    </tr>\n",
       "    <tr>\n",
       "      <th>uid</th>\n",
       "      <td>0</td>\n",
       "    </tr>\n",
       "    <tr>\n",
       "      <th>id_orig_h</th>\n",
       "      <td>0</td>\n",
       "    </tr>\n",
       "    <tr>\n",
       "      <th>id_orig_p</th>\n",
       "      <td>0</td>\n",
       "    </tr>\n",
       "    <tr>\n",
       "      <th>id_resp_h</th>\n",
       "      <td>0</td>\n",
       "    </tr>\n",
       "    <tr>\n",
       "      <th>id_resp_p</th>\n",
       "      <td>0</td>\n",
       "    </tr>\n",
       "    <tr>\n",
       "      <th>proto</th>\n",
       "      <td>0</td>\n",
       "    </tr>\n",
       "    <tr>\n",
       "      <th>service</th>\n",
       "      <td>10446261</td>\n",
       "    </tr>\n",
       "    <tr>\n",
       "      <th>duration</th>\n",
       "      <td>4432615</td>\n",
       "    </tr>\n",
       "    <tr>\n",
       "      <th>orig_bytes</th>\n",
       "      <td>4432615</td>\n",
       "    </tr>\n",
       "    <tr>\n",
       "      <th>resp_bytes</th>\n",
       "      <td>4432615</td>\n",
       "    </tr>\n",
       "    <tr>\n",
       "      <th>conn_state</th>\n",
       "      <td>0</td>\n",
       "    </tr>\n",
       "    <tr>\n",
       "      <th>local_orig</th>\n",
       "      <td>10447787</td>\n",
       "    </tr>\n",
       "    <tr>\n",
       "      <th>local_resp</th>\n",
       "      <td>10447787</td>\n",
       "    </tr>\n",
       "    <tr>\n",
       "      <th>missed_bytes</th>\n",
       "      <td>0</td>\n",
       "    </tr>\n",
       "    <tr>\n",
       "      <th>history</th>\n",
       "      <td>1638</td>\n",
       "    </tr>\n",
       "    <tr>\n",
       "      <th>orig_pkts</th>\n",
       "      <td>0</td>\n",
       "    </tr>\n",
       "    <tr>\n",
       "      <th>orig_ip_bytes</th>\n",
       "      <td>0</td>\n",
       "    </tr>\n",
       "    <tr>\n",
       "      <th>resp_pkts</th>\n",
       "      <td>0</td>\n",
       "    </tr>\n",
       "    <tr>\n",
       "      <th>resp_ip_bytes</th>\n",
       "      <td>0</td>\n",
       "    </tr>\n",
       "    <tr>\n",
       "      <th>tunnel_parents</th>\n",
       "      <td>10447787</td>\n",
       "    </tr>\n",
       "    <tr>\n",
       "      <th>label</th>\n",
       "      <td>0</td>\n",
       "    </tr>\n",
       "    <tr>\n",
       "      <th>detailed-label</th>\n",
       "      <td>10447775</td>\n",
       "    </tr>\n",
       "  </tbody>\n",
       "</table>\n",
       "</div>"
      ],
      "text/plain": [
       "                   Count\n",
       "ts                     0\n",
       "uid                    0\n",
       "id_orig_h              0\n",
       "id_orig_p              0\n",
       "id_resp_h              0\n",
       "id_resp_p              0\n",
       "proto                  0\n",
       "service         10446261\n",
       "duration         4432615\n",
       "orig_bytes       4432615\n",
       "resp_bytes       4432615\n",
       "conn_state             0\n",
       "local_orig      10447787\n",
       "local_resp      10447787\n",
       "missed_bytes           0\n",
       "history             1638\n",
       "orig_pkts              0\n",
       "orig_ip_bytes          0\n",
       "resp_pkts              0\n",
       "resp_ip_bytes          0\n",
       "tunnel_parents  10447787\n",
       "label                  0\n",
       "detailed-label  10447775"
      ]
     },
     "metadata": {},
     "output_type": "display_data"
    }
   ],
   "source": [
    "from pyspark.sql.functions import col, sum as spark_sum\n",
    "\n",
    "null_values = (\n",
    "    df.select([\n",
    "        spark_sum(col(c).isNull().cast(\"int\")).alias(c)\n",
    "        for c in df.columns\n",
    "    ])\n",
    "    .toPandas()\n",
    "    .T.rename(columns={0: \"Count\"})\n",
    ")\n",
    "\n",
    "display(null_values)"
   ]
  },
  {
   "cell_type": "markdown",
   "metadata": {
    "application/vnd.databricks.v1+cell": {
     "cellMetadata": {},
     "inputWidgets": {},
     "nuid": "9e38f694-c9ff-461c-908f-ddc86cf30e2f",
     "showTitle": false,
     "tableResultSettingsMap": {},
     "title": ""
    }
   },
   "source": [
    "Since duration, orig_bytes, resp_bytes all have same number of null values (4432615), very likely they are from the same few rows. All three columns are critical for modelling so it is best to drop the rows containing null values in those fields.\n",
    "\n",
    "Others like service, local_orig, local_resp, tunnel_parents amd detailed_label all have more than 10446261 out of 10447787 null values. These will not help our model and will just bloat memory, so we can drop these columns."
   ]
  },
  {
   "cell_type": "code",
   "execution_count": 10,
   "metadata": {
    "application/vnd.databricks.v1+cell": {
     "cellMetadata": {
      "byteLimit": 2048000,
      "rowLimit": 10000
     },
     "inputWidgets": {},
     "nuid": "73748ea0-cadd-4e1c-b9d5-7e7dff1857e5",
     "showTitle": false,
     "tableResultSettingsMap": {},
     "title": ""
    }
   },
   "outputs": [
    {
     "data": {
      "text/html": [
       "<div>\n",
       "<style scoped>\n",
       "    .dataframe tbody tr th:only-of-type {\n",
       "        vertical-align: middle;\n",
       "    }\n",
       "\n",
       "    .dataframe tbody tr th {\n",
       "        vertical-align: top;\n",
       "    }\n",
       "\n",
       "    .dataframe thead th {\n",
       "        text-align: right;\n",
       "    }\n",
       "</style>\n",
       "<table border=\"1\" class=\"dataframe\">\n",
       "  <thead>\n",
       "    <tr style=\"text-align: right;\">\n",
       "      <th></th>\n",
       "      <th>Count</th>\n",
       "    </tr>\n",
       "  </thead>\n",
       "  <tbody>\n",
       "    <tr>\n",
       "      <th>ts</th>\n",
       "      <td>0</td>\n",
       "    </tr>\n",
       "    <tr>\n",
       "      <th>uid</th>\n",
       "      <td>0</td>\n",
       "    </tr>\n",
       "    <tr>\n",
       "      <th>id_orig_h</th>\n",
       "      <td>0</td>\n",
       "    </tr>\n",
       "    <tr>\n",
       "      <th>id_orig_p</th>\n",
       "      <td>0</td>\n",
       "    </tr>\n",
       "    <tr>\n",
       "      <th>id_resp_h</th>\n",
       "      <td>0</td>\n",
       "    </tr>\n",
       "    <tr>\n",
       "      <th>id_resp_p</th>\n",
       "      <td>0</td>\n",
       "    </tr>\n",
       "    <tr>\n",
       "      <th>proto</th>\n",
       "      <td>0</td>\n",
       "    </tr>\n",
       "    <tr>\n",
       "      <th>duration</th>\n",
       "      <td>0</td>\n",
       "    </tr>\n",
       "    <tr>\n",
       "      <th>orig_bytes</th>\n",
       "      <td>0</td>\n",
       "    </tr>\n",
       "    <tr>\n",
       "      <th>resp_bytes</th>\n",
       "      <td>0</td>\n",
       "    </tr>\n",
       "    <tr>\n",
       "      <th>conn_state</th>\n",
       "      <td>0</td>\n",
       "    </tr>\n",
       "    <tr>\n",
       "      <th>missed_bytes</th>\n",
       "      <td>0</td>\n",
       "    </tr>\n",
       "    <tr>\n",
       "      <th>history</th>\n",
       "      <td>22</td>\n",
       "    </tr>\n",
       "    <tr>\n",
       "      <th>orig_pkts</th>\n",
       "      <td>0</td>\n",
       "    </tr>\n",
       "    <tr>\n",
       "      <th>orig_ip_bytes</th>\n",
       "      <td>0</td>\n",
       "    </tr>\n",
       "    <tr>\n",
       "      <th>resp_pkts</th>\n",
       "      <td>0</td>\n",
       "    </tr>\n",
       "    <tr>\n",
       "      <th>resp_ip_bytes</th>\n",
       "      <td>0</td>\n",
       "    </tr>\n",
       "    <tr>\n",
       "      <th>label</th>\n",
       "      <td>0</td>\n",
       "    </tr>\n",
       "  </tbody>\n",
       "</table>\n",
       "</div>"
      ],
      "text/plain": [
       "               Count\n",
       "ts                 0\n",
       "uid                0\n",
       "id_orig_h          0\n",
       "id_orig_p          0\n",
       "id_resp_h          0\n",
       "id_resp_p          0\n",
       "proto              0\n",
       "duration           0\n",
       "orig_bytes         0\n",
       "resp_bytes         0\n",
       "conn_state         0\n",
       "missed_bytes       0\n",
       "history           22\n",
       "orig_pkts          0\n",
       "orig_ip_bytes      0\n",
       "resp_pkts          0\n",
       "resp_ip_bytes      0\n",
       "label              0"
      ]
     },
     "metadata": {},
     "output_type": "display_data"
    }
   ],
   "source": [
    "from pyspark.sql.functions import when, col\n",
    "\n",
    "# Columns you care about\n",
    "columns_to_clean = ['duration', 'orig_bytes', 'resp_bytes']\n",
    "\n",
    "# Replace \"NULL\" or \"null\" strings with actual nulls (None)\n",
    "for c in columns_to_clean:\n",
    "    df = df.withColumn(c, when((col(c) == \"NULL\") | (col(c) == \"null\"), None).otherwise(col(c)))\n",
    "\n",
    "# Now drop rows where any of these are null\n",
    "df = df.dropna(subset=columns_to_clean)\n",
    "\n",
    "from pyspark.sql.functions import col, sum as spark_sum\n",
    "\n",
    "# now drop columns with largely null values\n",
    "columns_to_drop = [\"service\", \"local_orig\", \"local_resp\", \"tunnel_parents\", \"detailed-label\"]\n",
    "df = df.drop(*columns_to_drop)\n",
    "\n",
    "\n",
    "null_values = (\n",
    "    df.select([\n",
    "        spark_sum(col(c).isNull().cast(\"int\")).alias(c)\n",
    "        for c in df.columns\n",
    "    ])\n",
    "    .toPandas()\n",
    "    .T.rename(columns={0: \"Count\"})\n",
    ")\n",
    "\n",
    "display(null_values)"
   ]
  },
  {
   "cell_type": "markdown",
   "metadata": {
    "application/vnd.databricks.v1+cell": {
     "cellMetadata": {},
     "inputWidgets": {},
     "nuid": "1eabe3f2-28c3-4935-83a1-ad17f6179db7",
     "showTitle": false,
     "tableResultSettingsMap": {},
     "title": ""
    }
   },
   "source": [
    "They are indeed from the same few rows. now there are 0 NULL count for duration, orig_bytes and resp_bytes."
   ]
  },
  {
   "cell_type": "markdown",
   "metadata": {
    "application/vnd.databricks.v1+cell": {
     "cellMetadata": {},
     "inputWidgets": {},
     "nuid": "5b88fafb-8a2a-4d36-a787-55667751abd1",
     "showTitle": false,
     "tableResultSettingsMap": {},
     "title": ""
    }
   },
   "source": [
    "## check number of rows and colums after dropping rows with null values"
   ]
  },
  {
   "cell_type": "code",
   "execution_count": 11,
   "metadata": {
    "application/vnd.databricks.v1+cell": {
     "cellMetadata": {},
     "inputWidgets": {},
     "nuid": "b88860d4-4e27-43db-8ff9-c46b035996dc",
     "showTitle": false,
     "tableResultSettingsMap": {},
     "title": ""
    }
   },
   "outputs": [
    {
     "name": "stdout",
     "output_type": "stream",
     "text": [
      "Number of rows: 6015172\n",
      "Number of columns: 18\n"
     ]
    }
   ],
   "source": [
    "num_rows = df.count()\n",
    "print(f\"Number of rows: {num_rows}\")\n",
    "num_columns = len(df.columns)\n",
    "print(f\"Number of columns: {num_columns}\")"
   ]
  },
  {
   "cell_type": "markdown",
   "metadata": {
    "application/vnd.databricks.v1+cell": {
     "cellMetadata": {},
     "inputWidgets": {},
     "nuid": "9b5ce9f0-2bcd-4588-91fd-5743f2b57b32",
     "showTitle": false,
     "tableResultSettingsMap": {},
     "title": ""
    }
   },
   "source": [
    "# Deeper Data Exploration"
   ]
  },
  {
   "cell_type": "markdown",
   "metadata": {
    "application/vnd.databricks.v1+cell": {
     "cellMetadata": {},
     "inputWidgets": {},
     "nuid": "d6a3c340-5822-4a60-871b-96bf60295c04",
     "showTitle": false,
     "tableResultSettingsMap": {},
     "title": ""
    },
    "id": "talBuE4C5QnW"
   },
   "source": [
    "## Checking for Distribution of Target Variable\n"
   ]
  },
  {
   "cell_type": "code",
   "execution_count": null,
   "metadata": {
    "application/vnd.databricks.v1+cell": {
     "cellMetadata": {
      "byteLimit": 2048000,
      "rowLimit": 10000
     },
     "inputWidgets": {},
     "nuid": "7f4155f5-801d-4398-adca-2c2837796586",
     "showTitle": false,
     "tableResultSettingsMap": {},
     "title": ""
    },
    "id": "dnJM_1MM5ZA-"
   },
   "outputs": [
    {
     "name": "stdout",
     "output_type": "stream",
     "text": [
      "+------------------+-------+\n",
      "|             label|  count|\n",
      "+------------------+-------+\n",
      "|            Benign|4108340|\n",
      "|Malicious   Attack|      3|\n",
      "|   Malicious   C&C|     33|\n",
      "|  Malicious   DDoS|1906796|\n",
      "+------------------+-------+\n",
      "\n"
     ]
    }
   ],
   "source": [
    "# DROPPING ROWS WITH VERY LOW FREQUENCY --------------------------------\n",
    "df = df.filter(~col(\"label\").isin(\"Malicious   Attack\", \"Malicious   C&C\"))\n",
    "\n",
    "# Register DataFrame as a SQL table\n",
    "df.createOrReplaceTempView(\"malware_data\")\n",
    "\n",
    "# Define SQL Query to count the number of rows with 0 and 1 in the target variable\n",
    "query = \"\"\"\n",
    "SELECT\n",
    "    label,\n",
    "    COUNT(*) AS count\n",
    "FROM\n",
    "    malware_data\n",
    "GROUP BY\n",
    "    label\n",
    "\"\"\"\n",
    "\n",
    "# Run the SQL query\n",
    "result = spark.sql(query)\n",
    "result.show()"
   ]
  },
  {
   "cell_type": "markdown",
   "metadata": {
    "application/vnd.databricks.v1+cell": {
     "cellMetadata": {},
     "inputWidgets": {},
     "nuid": "cb14e088-859b-4999-81c2-3413aa8d155b",
     "showTitle": false,
     "tableResultSettingsMap": {},
     "title": ""
    },
    "id": "ctcKSB-xd2Vm"
   },
   "source": [
    "Roughly 2:1 ratio, mildly imbalanced."
   ]
  },
  {
   "cell_type": "markdown",
   "metadata": {},
   "source": [
    "## Performing Stratified Undersampling of majority benign class"
   ]
  },
  {
   "cell_type": "code",
   "execution_count": null,
   "metadata": {},
   "outputs": [],
   "source": [
    "# Split the data set according to the target variable\n",
    "malware_df = df.filter(col(\"label\") == \"Malicious   DDoS\")\n",
    "benign_df = df.filter(col(\"label\") == \"Benign\")\n",
    "\n",
    "benign_strata_counts = benign_df.groupBy(\"conn_state\").count().collect()\n",
    "\n",
    "target_total = 2000000\n",
    "total_benign = benign_df.count()\n",
    "\n",
    "# Turn list of Rows into a Python dict for easier access\n",
    "stratum_counts = {row['conn_state']: row['count'] for row in benign_strata_counts}\n",
    "\n",
    "# Calculate sampling fraction per category\n",
    "sampling_fractions = {\n",
    "    k: (count / total_benign) * target_total / count\n",
    "    for k, count in stratum_counts.items()\n",
    "}\n",
    "\n",
    "# Sample the data set according to the calculated sampling fractions\n",
    "sampled_benign_df = benign_df.sampleBy(\"conn_state\", fractions=sampling_fractions, seed=42)\n",
    "\n",
    "# Union the sampled benign data with the malware data and create a new DataFrame\n",
    "final_balanced_df = sampled_benign_df.union(malware_df)\n",
    "df = final_balanced_df\n",
    " \n",
    "# ---------------------------------------------------------Show distribution of new undersampled data set -------------------------------------\n",
    "\n",
    "# Register DataFrame as a SQL table\n",
    "df.createOrReplaceTempView(\"malware_data\")\n",
    "\n",
    "# Define SQL Query to count the number of rows with 0 and 1 in the target variable\n",
    "sampled_query = \"\"\"\n",
    "SELECT\n",
    "    label,\n",
    "    COUNT(*) AS count\n",
    "FROM\n",
    "    malware_data\n",
    "GROUP BY\n",
    "    label\n",
    "\"\"\"\n",
    "\n",
    "# Run the SQL query\n",
    "result = spark.sql(sampled_query)\n",
    "result.show()"
   ]
  },
  {
   "cell_type": "markdown",
   "metadata": {
    "application/vnd.databricks.v1+cell": {
     "cellMetadata": {},
     "inputWidgets": {},
     "nuid": "bb5d53bf-5112-4cdd-8339-cb7bd7d7d6db",
     "showTitle": false,
     "tableResultSettingsMap": {},
     "title": ""
    },
    "id": "p6wuYZ0OJzfC"
   },
   "source": [
    "## Summary statistics for numeric columns"
   ]
  },
  {
   "cell_type": "code",
   "execution_count": 13,
   "metadata": {
    "application/vnd.databricks.v1+cell": {
     "cellMetadata": {
      "byteLimit": 2048000,
      "rowLimit": 10000
     },
     "inputWidgets": {},
     "nuid": "36322be7-16e8-466e-8b59-e64f350208a5",
     "showTitle": false,
     "tableResultSettingsMap": {},
     "title": ""
    },
    "id": "7fx_4-ySJ3-b"
   },
   "outputs": [
    {
     "data": {
      "text/html": [
       "<div>\n",
       "<style scoped>\n",
       "    .dataframe tbody tr th:only-of-type {\n",
       "        vertical-align: middle;\n",
       "    }\n",
       "\n",
       "    .dataframe tbody tr th {\n",
       "        vertical-align: top;\n",
       "    }\n",
       "\n",
       "    .dataframe thead th {\n",
       "        text-align: right;\n",
       "    }\n",
       "</style>\n",
       "<table border=\"1\" class=\"dataframe\">\n",
       "  <thead>\n",
       "    <tr style=\"text-align: right;\">\n",
       "      <th>summary</th>\n",
       "      <th>count</th>\n",
       "      <th>mean</th>\n",
       "      <th>stddev</th>\n",
       "      <th>min</th>\n",
       "      <th>25%</th>\n",
       "      <th>50%</th>\n",
       "      <th>75%</th>\n",
       "      <th>max</th>\n",
       "    </tr>\n",
       "  </thead>\n",
       "  <tbody>\n",
       "    <tr>\n",
       "      <th>duration</th>\n",
       "      <td>6015172</td>\n",
       "      <td>4.238091014245806</td>\n",
       "      <td>36.32997915353295</td>\n",
       "      <td>2.0E-6</td>\n",
       "      <td>3.097743</td>\n",
       "      <td>3.126737</td>\n",
       "      <td>3.155214</td>\n",
       "      <td>85755.84</td>\n",
       "    </tr>\n",
       "    <tr>\n",
       "      <th>orig_bytes</th>\n",
       "      <td>6015172</td>\n",
       "      <td>3.5601210492327917E8</td>\n",
       "      <td>3.46769249204301E9</td>\n",
       "      <td>0.0</td>\n",
       "      <td>0.0</td>\n",
       "      <td>0.0</td>\n",
       "      <td>0.0</td>\n",
       "      <td>6.6205577E10</td>\n",
       "    </tr>\n",
       "    <tr>\n",
       "      <th>resp_bytes</th>\n",
       "      <td>6015172</td>\n",
       "      <td>5591.520989258495</td>\n",
       "      <td>1.2956898601109164E7</td>\n",
       "      <td>0.0</td>\n",
       "      <td>0.0</td>\n",
       "      <td>0.0</td>\n",
       "      <td>0.0</td>\n",
       "      <td>3.1720511E10</td>\n",
       "    </tr>\n",
       "    <tr>\n",
       "      <th>missed_bytes</th>\n",
       "      <td>6015172</td>\n",
       "      <td>317.33895822097855</td>\n",
       "      <td>778288.884426677</td>\n",
       "      <td>0.0</td>\n",
       "      <td>0.0</td>\n",
       "      <td>0.0</td>\n",
       "      <td>0.0</td>\n",
       "      <td>1.9088195E9</td>\n",
       "    </tr>\n",
       "    <tr>\n",
       "      <th>orig_pkts</th>\n",
       "      <td>6015172</td>\n",
       "      <td>7.045628121689621</td>\n",
       "      <td>3458.6014117098466</td>\n",
       "      <td>0.0</td>\n",
       "      <td>3.0</td>\n",
       "      <td>3.0</td>\n",
       "      <td>3.0</td>\n",
       "      <td>4216883.0</td>\n",
       "    </tr>\n",
       "    <tr>\n",
       "      <th>orig_ip_bytes</th>\n",
       "      <td>6015172</td>\n",
       "      <td>291.06053143617504</td>\n",
       "      <td>96841.12785824487</td>\n",
       "      <td>0.0</td>\n",
       "      <td>180.0</td>\n",
       "      <td>180.0</td>\n",
       "      <td>180.0</td>\n",
       "      <td>1.1807272E8</td>\n",
       "    </tr>\n",
       "    <tr>\n",
       "      <th>resp_pkts</th>\n",
       "      <td>6015172</td>\n",
       "      <td>0.0020454942934300135</td>\n",
       "      <td>1.9174041298190307</td>\n",
       "      <td>0.0</td>\n",
       "      <td>0.0</td>\n",
       "      <td>0.0</td>\n",
       "      <td>0.0</td>\n",
       "      <td>4621.0</td>\n",
       "    </tr>\n",
       "    <tr>\n",
       "      <th>resp_ip_bytes</th>\n",
       "      <td>6015172</td>\n",
       "      <td>0.8743738333666934</td>\n",
       "      <td>523.391398494566</td>\n",
       "      <td>0.0</td>\n",
       "      <td>0.0</td>\n",
       "      <td>0.0</td>\n",
       "      <td>0.0</td>\n",
       "      <td>413488.0</td>\n",
       "    </tr>\n",
       "  </tbody>\n",
       "</table>\n",
       "</div>"
      ],
      "text/plain": [
       "summary          count                   mean                stddev     min  \\\n",
       "duration       6015172      4.238091014245806     36.32997915353295  2.0E-6   \n",
       "orig_bytes     6015172   3.5601210492327917E8    3.46769249204301E9     0.0   \n",
       "resp_bytes     6015172      5591.520989258495  1.2956898601109164E7     0.0   \n",
       "missed_bytes   6015172     317.33895822097855      778288.884426677     0.0   \n",
       "orig_pkts      6015172      7.045628121689621    3458.6014117098466     0.0   \n",
       "orig_ip_bytes  6015172     291.06053143617504     96841.12785824487     0.0   \n",
       "resp_pkts      6015172  0.0020454942934300135    1.9174041298190307     0.0   \n",
       "resp_ip_bytes  6015172     0.8743738333666934      523.391398494566     0.0   \n",
       "\n",
       "summary             25%       50%       75%           max  \n",
       "duration       3.097743  3.126737  3.155214      85755.84  \n",
       "orig_bytes          0.0       0.0       0.0  6.6205577E10  \n",
       "resp_bytes          0.0       0.0       0.0  3.1720511E10  \n",
       "missed_bytes        0.0       0.0       0.0   1.9088195E9  \n",
       "orig_pkts           3.0       3.0       3.0     4216883.0  \n",
       "orig_ip_bytes     180.0     180.0     180.0   1.1807272E8  \n",
       "resp_pkts           0.0       0.0       0.0        4621.0  \n",
       "resp_ip_bytes       0.0       0.0       0.0      413488.0  "
      ]
     },
     "metadata": {},
     "output_type": "display_data"
    }
   ],
   "source": [
    "# convert numerical columns\n",
    "cols_to_convert = [\n",
    "    \"duration\", \"orig_bytes\", \"resp_bytes\",\n",
    "    \"missed_bytes\", \"orig_pkts\", \"orig_ip_bytes\", \"resp_pkts\", \"resp_ip_bytes\"\n",
    "]\n",
    "\n",
    "# Convert to FloatType\n",
    "for column in cols_to_convert:\n",
    "    df = df.withColumn(column, col(column).cast(FloatType()))\n",
    "\n",
    "# Descriptive stats with Pandas for nicer formatting\n",
    "desc_stats = df.select(cols_to_convert).summary().toPandas()\n",
    "desc_stats_pd = desc_stats.set_index('summary').rename_axis(None, axis=1).T\n",
    "display(desc_stats_pd)"
   ]
  },
  {
   "cell_type": "markdown",
   "metadata": {
    "application/vnd.databricks.v1+cell": {
     "cellMetadata": {},
     "inputWidgets": {},
     "nuid": "2f425b27-bfb5-4918-8322-8b4b63b6ffe1",
     "showTitle": false,
     "tableResultSettingsMap": {},
     "title": ""
    }
   },
   "source": [
    "## Boxplots for numerical variables"
   ]
  },
  {
   "cell_type": "code",
   "execution_count": 14,
   "metadata": {
    "application/vnd.databricks.v1+cell": {
     "cellMetadata": {},
     "inputWidgets": {},
     "nuid": "e7b951d2-a171-431f-a381-31849f969465",
     "showTitle": false,
     "tableResultSettingsMap": {},
     "title": ""
    }
   },
   "outputs": [
    {
     "data": {
      "image/png": "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",
      "text/plain": [
       "<Figure size 2500x800 with 8 Axes>"
      ]
     },
     "metadata": {},
     "output_type": "display_data"
    }
   ],
   "source": [
    "import seaborn as sns\n",
    "import matplotlib.pyplot as plt\n",
    "\n",
    "# Use your actual numeric variables (but check for existence)\n",
    "all_numeric_cols = [\n",
    "    \"duration\", \"orig_bytes\", \"resp_bytes\",\n",
    "    \"missed_bytes\", \"orig_pkts\", \"orig_ip_bytes\", \"resp_pkts\", \"resp_ip_bytes\"\n",
    "]\n",
    "\n",
    "# Filter only columns that exist in df\n",
    "numeric_cols = [col_name for col_name in all_numeric_cols if col_name in df.columns]\n",
    "\n",
    "# Optional: handle nulls before collecting (replace with 0 or drop rows)\n",
    "from pyspark.sql.functions import when, isnan\n",
    "\n",
    "for col_name in numeric_cols:\n",
    "    df = df.withColumn(col_name, when(\n",
    "        (col(col_name).isNull()) | (isnan(col(col_name))), 0\n",
    "    ).otherwise(col(col_name)))\n",
    "\n",
    "# Sample to avoid memory issues (optional)\n",
    "df_sample = df.select(numeric_cols).sample(False, 0.5, seed=42)\n",
    "\n",
    "# Convert to pandas for plotting\n",
    "df_pandas = df_sample.toPandas()\n",
    "\n",
    "# Plot boxplots\n",
    "num_cols = 5\n",
    "num_vars = len(numeric_cols)\n",
    "num_rows = (num_vars + num_cols - 1) // num_cols\n",
    "\n",
    "fig, axes = plt.subplots(num_rows, num_cols, figsize=(5 * num_cols, 4 * num_rows))\n",
    "axes = axes.flatten()\n",
    "\n",
    "for i, col_name in enumerate(numeric_cols):\n",
    "    sns.boxplot(x=df_pandas[col_name], ax=axes[i], color='skyblue')\n",
    "    axes[i].set_title(col_name)\n",
    "    axes[i].set_xlabel(\"\")  # cleaner look\n",
    "\n",
    "# Remove empty plots\n",
    "for i in range(num_vars, len(axes)):\n",
    "    fig.delaxes(axes[i])\n",
    "\n",
    "plt.tight_layout()\n",
    "plt.show()\n"
   ]
  },
  {
   "cell_type": "markdown",
   "metadata": {
    "application/vnd.databricks.v1+cell": {
     "cellMetadata": {},
     "inputWidgets": {},
     "nuid": "b116220a-d9ac-4de7-8a04-27fe3cdf881c",
     "showTitle": false,
     "tableResultSettingsMap": {},
     "title": ""
    },
    "id": "x1Tp_JOOtNht"
   },
   "source": [
    "## Categorical Value Distibution"
   ]
  },
  {
   "cell_type": "code",
   "execution_count": 15,
   "metadata": {
    "application/vnd.databricks.v1+cell": {
     "cellMetadata": {},
     "inputWidgets": {},
     "nuid": "cf9a65e7-1b59-4f98-9bcf-9aba2a00925f",
     "showTitle": false,
     "tableResultSettingsMap": {},
     "title": ""
    },
    "colab": {
     "base_uri": "https://localhost:8080/",
     "height": 1000
    },
    "collapsed": true,
    "id": "rVdzZqH_tQor",
    "outputId": "5ed9247b-a7d6-4d64-d5ff-d35fe708b9ad"
   },
   "outputs": [
    {
     "name": "stdout",
     "output_type": "stream",
     "text": [
      "=== proto Value Counts ===\n"
     ]
    },
    {
     "data": {
      "text/html": [
       "<div>\n",
       "<style scoped>\n",
       "    .dataframe tbody tr th:only-of-type {\n",
       "        vertical-align: middle;\n",
       "    }\n",
       "\n",
       "    .dataframe tbody tr th {\n",
       "        vertical-align: top;\n",
       "    }\n",
       "\n",
       "    .dataframe thead th {\n",
       "        text-align: right;\n",
       "    }\n",
       "</style>\n",
       "<table border=\"1\" class=\"dataframe\">\n",
       "  <thead>\n",
       "    <tr style=\"text-align: right;\">\n",
       "      <th></th>\n",
       "      <th>proto</th>\n",
       "      <th>count</th>\n",
       "    </tr>\n",
       "  </thead>\n",
       "  <tbody>\n",
       "    <tr>\n",
       "      <th>0</th>\n",
       "      <td>tcp</td>\n",
       "      <td>6013405</td>\n",
       "    </tr>\n",
       "    <tr>\n",
       "      <th>1</th>\n",
       "      <td>udp</td>\n",
       "      <td>1745</td>\n",
       "    </tr>\n",
       "    <tr>\n",
       "      <th>2</th>\n",
       "      <td>icmp</td>\n",
       "      <td>22</td>\n",
       "    </tr>\n",
       "  </tbody>\n",
       "</table>\n",
       "</div>"
      ],
      "text/plain": [
       "  proto    count\n",
       "0   tcp  6013405\n",
       "1   udp     1745\n",
       "2  icmp       22"
      ]
     },
     "metadata": {},
     "output_type": "display_data"
    },
    {
     "name": "stdout",
     "output_type": "stream",
     "text": [
      "=== conn_state Value Counts ===\n"
     ]
    },
    {
     "data": {
      "text/html": [
       "<div>\n",
       "<style scoped>\n",
       "    .dataframe tbody tr th:only-of-type {\n",
       "        vertical-align: middle;\n",
       "    }\n",
       "\n",
       "    .dataframe tbody tr th {\n",
       "        vertical-align: top;\n",
       "    }\n",
       "\n",
       "    .dataframe thead th {\n",
       "        text-align: right;\n",
       "    }\n",
       "</style>\n",
       "<table border=\"1\" class=\"dataframe\">\n",
       "  <thead>\n",
       "    <tr style=\"text-align: right;\">\n",
       "      <th></th>\n",
       "      <th>conn_state</th>\n",
       "      <th>count</th>\n",
       "    </tr>\n",
       "  </thead>\n",
       "  <tbody>\n",
       "    <tr>\n",
       "      <th>0</th>\n",
       "      <td>S0</td>\n",
       "      <td>4105597</td>\n",
       "    </tr>\n",
       "    <tr>\n",
       "      <th>1</th>\n",
       "      <td>RSTOS0</td>\n",
       "      <td>1841173</td>\n",
       "    </tr>\n",
       "    <tr>\n",
       "      <th>2</th>\n",
       "      <td>OTH</td>\n",
       "      <td>65558</td>\n",
       "    </tr>\n",
       "    <tr>\n",
       "      <th>3</th>\n",
       "      <td>REJ</td>\n",
       "      <td>1949</td>\n",
       "    </tr>\n",
       "    <tr>\n",
       "      <th>4</th>\n",
       "      <td>SF</td>\n",
       "      <td>747</td>\n",
       "    </tr>\n",
       "    <tr>\n",
       "      <th>5</th>\n",
       "      <td>RSTO</td>\n",
       "      <td>52</td>\n",
       "    </tr>\n",
       "    <tr>\n",
       "      <th>6</th>\n",
       "      <td>RSTR</td>\n",
       "      <td>47</td>\n",
       "    </tr>\n",
       "    <tr>\n",
       "      <th>7</th>\n",
       "      <td>S2</td>\n",
       "      <td>26</td>\n",
       "    </tr>\n",
       "    <tr>\n",
       "      <th>8</th>\n",
       "      <td>S1</td>\n",
       "      <td>19</td>\n",
       "    </tr>\n",
       "    <tr>\n",
       "      <th>9</th>\n",
       "      <td>SH</td>\n",
       "      <td>2</td>\n",
       "    </tr>\n",
       "    <tr>\n",
       "      <th>10</th>\n",
       "      <td>RSTRH</td>\n",
       "      <td>1</td>\n",
       "    </tr>\n",
       "    <tr>\n",
       "      <th>11</th>\n",
       "      <td>S3</td>\n",
       "      <td>1</td>\n",
       "    </tr>\n",
       "  </tbody>\n",
       "</table>\n",
       "</div>"
      ],
      "text/plain": [
       "   conn_state    count\n",
       "0          S0  4105597\n",
       "1      RSTOS0  1841173\n",
       "2         OTH    65558\n",
       "3         REJ     1949\n",
       "4          SF      747\n",
       "5        RSTO       52\n",
       "6        RSTR       47\n",
       "7          S2       26\n",
       "8          S1       19\n",
       "9          SH        2\n",
       "10      RSTRH        1\n",
       "11         S3        1"
      ]
     },
     "metadata": {},
     "output_type": "display_data"
    },
    {
     "name": "stdout",
     "output_type": "stream",
     "text": [
      "=== history Value Counts ===\n"
     ]
    },
    {
     "data": {
      "text/html": [
       "<div>\n",
       "<style scoped>\n",
       "    .dataframe tbody tr th:only-of-type {\n",
       "        vertical-align: middle;\n",
       "    }\n",
       "\n",
       "    .dataframe tbody tr th {\n",
       "        vertical-align: top;\n",
       "    }\n",
       "\n",
       "    .dataframe thead th {\n",
       "        text-align: right;\n",
       "    }\n",
       "</style>\n",
       "<table border=\"1\" class=\"dataframe\">\n",
       "  <thead>\n",
       "    <tr style=\"text-align: right;\">\n",
       "      <th></th>\n",
       "      <th>history</th>\n",
       "      <th>count</th>\n",
       "    </tr>\n",
       "  </thead>\n",
       "  <tbody>\n",
       "    <tr>\n",
       "      <th>0</th>\n",
       "      <td>S</td>\n",
       "      <td>4104511</td>\n",
       "    </tr>\n",
       "    <tr>\n",
       "      <th>1</th>\n",
       "      <td>I</td>\n",
       "      <td>1841162</td>\n",
       "    </tr>\n",
       "    <tr>\n",
       "      <th>2</th>\n",
       "      <td>DTT</td>\n",
       "      <td>65534</td>\n",
       "    </tr>\n",
       "    <tr>\n",
       "      <th>3</th>\n",
       "      <td>Sr</td>\n",
       "      <td>1948</td>\n",
       "    </tr>\n",
       "    <tr>\n",
       "      <th>4</th>\n",
       "      <td>D</td>\n",
       "      <td>1086</td>\n",
       "    </tr>\n",
       "    <tr>\n",
       "      <th>...</th>\n",
       "      <td>...</td>\n",
       "      <td>...</td>\n",
       "    </tr>\n",
       "    <tr>\n",
       "      <th>57</th>\n",
       "      <td>ShAfdtF</td>\n",
       "      <td>1</td>\n",
       "    </tr>\n",
       "    <tr>\n",
       "      <th>58</th>\n",
       "      <td>ShADdFf</td>\n",
       "      <td>1</td>\n",
       "    </tr>\n",
       "    <tr>\n",
       "      <th>59</th>\n",
       "      <td>ShAdDaTRf</td>\n",
       "      <td>1</td>\n",
       "    </tr>\n",
       "    <tr>\n",
       "      <th>60</th>\n",
       "      <td>HaDdAr</td>\n",
       "      <td>1</td>\n",
       "    </tr>\n",
       "    <tr>\n",
       "      <th>61</th>\n",
       "      <td>ShADad</td>\n",
       "      <td>1</td>\n",
       "    </tr>\n",
       "  </tbody>\n",
       "</table>\n",
       "<p>62 rows × 2 columns</p>\n",
       "</div>"
      ],
      "text/plain": [
       "      history    count\n",
       "0           S  4104511\n",
       "1           I  1841162\n",
       "2         DTT    65534\n",
       "3          Sr     1948\n",
       "4           D     1086\n",
       "..        ...      ...\n",
       "57    ShAfdtF        1\n",
       "58    ShADdFf        1\n",
       "59  ShAdDaTRf        1\n",
       "60     HaDdAr        1\n",
       "61     ShADad        1\n",
       "\n",
       "[62 rows x 2 columns]"
      ]
     },
     "metadata": {},
     "output_type": "display_data"
    }
   ],
   "source": [
    "categorical_cols = [\"proto\", \"conn_state\", \"history\"]\n",
    "\n",
    "for col in categorical_cols:\n",
    "    count_df = df.groupBy(col).count().orderBy(\"count\", ascending=False).toPandas()\n",
    "    print(f\"=== {col} Value Counts ===\")\n",
    "    display(count_df)\n"
   ]
  },
  {
   "cell_type": "code",
   "execution_count": 16,
   "metadata": {
    "application/vnd.databricks.v1+cell": {
     "cellMetadata": {},
     "inputWidgets": {},
     "nuid": "4da3c72b-6391-45a1-98d5-3cb1510ba5e4",
     "showTitle": false,
     "tableResultSettingsMap": {},
     "title": ""
    }
   },
   "outputs": [
    {
     "name": "stdout",
     "output_type": "stream",
     "text": [
      "Cardinality of id_orig_h: 28\n",
      "Cardinality of id_orig_p: 65536\n",
      "Cardinality of id_resp_h: 4098969\n",
      "Cardinality of id_resp_p: 16\n"
     ]
    }
   ],
   "source": [
    "from pyspark.sql.functions import countDistinct\n",
    "\n",
    "# Count distinct values for each column\n",
    "cardinality = df.select(\n",
    "    countDistinct(\"id_orig_h\").alias(\"id_orig_h_cardinality\"),\n",
    "    countDistinct(\"id_orig_p\").alias(\"id_orig_p_cardinality\"),\n",
    "    countDistinct(\"id_resp_h\").alias(\"id_resp_h_cardinality\"),\n",
    "    countDistinct(\"id_resp_p\").alias(\"id_resp_p_cardinality\")\n",
    ").collect()[0]\n",
    "\n",
    "# Print the cardinality of each column\n",
    "print(f\"Cardinality of id_orig_h: {cardinality['id_orig_h_cardinality']}\")\n",
    "print(f\"Cardinality of id_orig_p: {cardinality['id_orig_p_cardinality']}\")\n",
    "print(f\"Cardinality of id_resp_h: {cardinality['id_resp_h_cardinality']}\")\n",
    "print(f\"Cardinality of id_resp_p: {cardinality['id_resp_p_cardinality']}\")"
   ]
  },
  {
   "cell_type": "markdown",
   "metadata": {
    "application/vnd.databricks.v1+cell": {
     "cellMetadata": {},
     "inputWidgets": {},
     "nuid": "a21cd5f4-9510-4c68-acbb-a3387701c63e",
     "showTitle": false,
     "tableResultSettingsMap": {},
     "title": ""
    }
   },
   "source": [
    "id_orig_h has low cardinality -> 28, so likely represent small number of internal source IPs (devices on your network)\n",
    "\n",
    "id_resp_p has low cardinality -> 16 destination ports, likely standard ones like 80, 443, 22. tells you what kind of service was accessed. "
   ]
  },
  {
   "cell_type": "markdown",
   "metadata": {
    "application/vnd.databricks.v1+cell": {
     "cellMetadata": {},
     "inputWidgets": {},
     "nuid": "c71a9ece-4a57-444f-af6f-37706f28e5f7",
     "showTitle": false,
     "tableResultSettingsMap": {},
     "title": ""
    },
    "id": "KL647mftDNjA"
   },
   "source": [
    "## Correlation matrix for numeric columns"
   ]
  },
  {
   "cell_type": "code",
   "execution_count": 17,
   "metadata": {
    "application/vnd.databricks.v1+cell": {
     "cellMetadata": {
      "byteLimit": 2048000,
      "rowLimit": 10000
     },
     "inputWidgets": {},
     "nuid": "e8bbb42f-7bc5-4351-9660-3ecf4402f4b3",
     "showTitle": false,
     "tableResultSettingsMap": {},
     "title": ""
    },
    "colab": {
     "base_uri": "https://localhost:8080/",
     "height": 626
    },
    "collapsed": true,
    "id": "xtFeK3cX01Ul",
    "outputId": "bbcc9cf8-d740-477f-c64e-896f48d08fc7"
   },
   "outputs": [
    {
     "data": {
      "image/png": "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",
      "text/plain": [
       "<Figure size 1200x600 with 2 Axes>"
      ]
     },
     "metadata": {},
     "output_type": "display_data"
    }
   ],
   "source": [
    "from pyspark.sql.types import FloatType, DoubleType\n",
    "\n",
    "# Define numeric features to keep (excluding ID-like columns)\n",
    "numeric_cols = [\n",
    "    \"duration\", \"orig_bytes\", \"resp_bytes\",\n",
    "    \"missed_bytes\", \"orig_pkts\", \"orig_ip_bytes\", \"resp_pkts\", \"resp_ip_bytes\"\n",
    "]\n",
    "\n",
    "# Convert PySpark DataFrame to pandas DataFrame for correlation calculation\n",
    "pandas_df = df.select(numeric_cols).toPandas()\n",
    "\n",
    "# Plot correlation heatmap\n",
    "plt.figure(figsize=(12, 6))\n",
    "sns.heatmap(pandas_df.corr(), annot=True, cmap=\"coolwarm\", fmt=\".2f\")\n",
    "plt.title(\"Correlation Between Numeric Features\")\n",
    "plt.show()"
   ]
  },
  {
   "cell_type": "markdown",
   "metadata": {
    "application/vnd.databricks.v1+cell": {
     "cellMetadata": {},
     "inputWidgets": {},
     "nuid": "be979fe0-cd7f-4fb7-9c67-1d4907a41948",
     "showTitle": false,
     "tableResultSettingsMap": {},
     "title": ""
    },
    "id": "tM7tDTvfVa7T"
   },
   "source": [
    "From the correlation matrix, it can be seen that:\n",
    "1. Strong Positive Correlation (Close to 1.0)\n",
    "  - `resp_bytes` and `resp_ip_bytes` are similarly strongly correlated (0.98). This could also mean one of the columns might be redundant.\n",
    "  - `duration` and `resp_pkts` are also strongly correlated (0.95). This makes sense as longer durations correlate with more response packets, indicating sustained communication during the duration.\n",
    "2. Weak/Negligible Correlations (Close to 0):\n",
    "  - Port numbers (`id.orig_p`, `id.resp_p`) have near-zero correlations with other features suggesting that ports do not directly influence traffic metrics (e.g. duration, bytes). This is expected as ports are identifiers, not quantitative measures.\n",
    "  - Except for its strong positive correlation to `resp_ip_bytes`, `resp_bytes` and most other features have weak/negligible correlations (0.00-0.21) possibly indicating isolated response behaviors."
   ]
  },
  {
   "cell_type": "code",
   "execution_count": 18,
   "metadata": {},
   "outputs": [
    {
     "ename": "NameError",
     "evalue": "name 'stp' is not defined",
     "output_type": "error",
     "traceback": [
      "\u001b[31m---------------------------------------------------------------------------\u001b[39m",
      "\u001b[31mNameError\u001b[39m                                 Traceback (most recent call last)",
      "\u001b[36mCell\u001b[39m\u001b[36m \u001b[39m\u001b[32mIn[18]\u001b[39m\u001b[32m, line 1\u001b[39m\n\u001b[32m----> \u001b[39m\u001b[32m1\u001b[39m \u001b[43mstp\u001b[49m\n",
      "\u001b[31mNameError\u001b[39m: name 'stp' is not defined"
     ]
    }
   ],
   "source": [
    "stp"
   ]
  },
  {
   "cell_type": "markdown",
   "metadata": {
    "application/vnd.databricks.v1+cell": {
     "cellMetadata": {},
     "inputWidgets": {},
     "nuid": "e679d16b-d2ae-4b5d-8b54-13ad7ac23e53",
     "showTitle": false,
     "tableResultSettingsMap": {},
     "title": ""
    },
    "id": "xvu7dhOjFPyJ"
   },
   "source": [
    "## Mutual Information Scoring"
   ]
  },
  {
   "cell_type": "code",
   "execution_count": 0,
   "metadata": {
    "application/vnd.databricks.v1+cell": {
     "cellMetadata": {},
     "inputWidgets": {},
     "nuid": "f5b621ee-90d2-44ae-9022-daaeda200935",
     "showTitle": false,
     "tableResultSettingsMap": {},
     "title": ""
    },
    "colab": {
     "base_uri": "https://localhost:8080/"
    },
    "collapsed": true,
    "id": "1wRa5nMjUwBX",
    "outputId": "df3e051a-ae0a-4079-ed24-153fae89a2a6"
   },
   "outputs": [
    {
     "name": "stdout",
     "output_type": "stream",
     "text": [
      "MI for ts: 0.0007\n",
      "MI for uid: 0.0282\n",
      "MI for id_orig_h: 0.0072\n",
      "MI for id_orig_p: 0.0025\n",
      "MI for id_resp_h: 0.0278\n",
      "MI for id_resp_p: 0.0016\n",
      "MI for proto: 0.0116\n",
      "MI for duration: 0.0039\n",
      "MI for orig_bytes: 0.0024\n",
      "MI for resp_bytes: 0.0004\n",
      "MI for conn_state: 0.0230\n",
      "MI for history: 0.0176\n",
      "MI for orig_pkts: 0.0010\n",
      "MI for orig_ip_bytes: 0.0017\n",
      "MI for resp_pkts: 0.0023\n",
      "MI for resp_ip_bytes: 0.0023\n",
      "MI for detailed-label: 0.0056\n",
      "\n",
      "=== Features sorted by Mutual Information ===\n",
      "uid: 0.0282\n",
      "id_resp_h: 0.0278\n",
      "conn_state: 0.0230\n",
      "history: 0.0176\n",
      "proto: 0.0116\n",
      "id_orig_h: 0.0072\n",
      "detailed-label: 0.0056\n",
      "duration: 0.0039\n",
      "id_orig_p: 0.0025\n",
      "orig_bytes: 0.0024\n",
      "resp_pkts: 0.0023\n",
      "resp_ip_bytes: 0.0023\n",
      "orig_ip_bytes: 0.0017\n",
      "id_resp_p: 0.0016\n",
      "orig_pkts: 0.0010\n",
      "ts: 0.0007\n",
      "resp_bytes: 0.0004\n"
     ]
    }
   ],
   "source": [
    "# Discretise numerical features\n",
    "numeric_cols = [col_name for col_name, dtype in df.dtypes if dtype in ['int', 'double', 'float']]\n",
    "\n",
    "# compute mutual info\n",
    "def compute_mutual_info(df, feature_col, target_col=\"label\", n_bins=5):\n",
    "    # 5 quantile based bins per numerical col\n",
    "    if feature_col in numeric_cols:\n",
    "        df = df.withColumn(\n",
    "            f\"{feature_col}_bin\",\n",
    "            F.ntile(n_bins).over(Window.orderBy(feature_col)))\n",
    "        feature_col = f\"{feature_col}_bin\"\n",
    "\n",
    "    # Compute joint probability P(X,Y)\n",
    "    joint_prob = (\n",
    "        df.groupBy(feature_col, target_col)\n",
    "        .agg(F.count(\"*\").alias(\"count\"))\n",
    "        .withColumn(\"p_xy\", F.col(\"count\") / df.count())\n",
    "    )\n",
    "\n",
    "    # Compute marginal probabilities P(X) and P(Y)\n",
    "    p_x = joint_prob.groupBy(feature_col).agg(F.sum(\"p_xy\").alias(\"p_x\"))\n",
    "    p_y = joint_prob.groupBy(target_col).agg(F.sum(\"p_xy\").alias(\"p_y\"))\n",
    "\n",
    "    # Calculate MI terms: p_xy * log2(p_xy / (p_x * p_y))\n",
    "    mi_terms = (\n",
    "        joint_prob.join(p_x, feature_col)\n",
    "        .join(p_y, target_col)\n",
    "        .withColumn(\n",
    "            \"mi_term\",\n",
    "            F.col(\"p_xy\") * F.log2(F.col(\"p_xy\") / (F.col(\"p_x\") * F.col(\"p_y\")))\n",
    "        )\n",
    "    )\n",
    "\n",
    "    # Sum MI terms to get final score\n",
    "    mi = mi_terms.agg(F.sum(\"mi_term\").alias(\"mi\")).collect()[0][\"mi\"]\n",
    "    return float(mi) if mi else 0.0\n",
    "\n",
    "# Compute MI for all features\n",
    "df_mis = df.select(\"*\")\n",
    "mi_results = {}\n",
    "\n",
    "for feature in df_mis.columns:  # Combine all features\n",
    "    if feature == \"label\":\n",
    "        continue\n",
    "    mi_score = compute_mutual_info(df_mis, feature)\n",
    "    mi_results[feature] = mi_score\n",
    "    print(f\"MI for {feature}: {mi_score:.4f}\")\n",
    "\n",
    "# Sort the MI and display results\n",
    "sorted_mi_results = sorted(mi_results.items(), key=lambda x: x[1], reverse=True)\n",
    "print(\"\\n=== Features sorted by Mutual Information ===\")\n",
    "for feature, mi_score in sorted_mi_results:\n",
    "    print(f\"{feature}: {mi_score:.4f}\")"
   ]
  },
  {
   "cell_type": "markdown",
   "metadata": {
    "application/vnd.databricks.v1+cell": {
     "cellMetadata": {},
     "inputWidgets": {},
     "nuid": "4b457bb5-cdd3-4a27-ac54-5b61dd405b9d",
     "showTitle": false,
     "tableResultSettingsMap": {},
     "title": ""
    },
    "id": "vXRzg0OfdxU1"
   },
   "source": [
    "**Interpretation of Mutual Information (MI) Scoring:**\n",
    "\n",
    "MI scoring is a measure of how much information one variable (feature) provides about another (target variable, in this case, `label`). It helps identify which features are most relevant for predicting the target, where a higher MI score means the feature is more informative for the prediction and should be prioritised for model training.\n",
    "\n",
    "From the results:\n",
    "The top 5 informative features are\n",
    "1. `id_resp_h` (0.901)\n",
    "2. `uid` (0.901)\n",
    "3. `history` (0.901)\n",
    "4. `conn_state` (0.901)\n",
    "5. `id_resp_p` (0.640)\n",
    "\n",
    "On the other hand, the features with low/zero MI score are `proto` (0.0002) and `id_orig_h` (0.000) which have very low MI and may have a negligible effect on prediction.\n",
    "\n",
    "**Data Leakage Issue** - to edit\n",
    "\n",
    "While `uid` has a high MI score, it could suggest that the `uid` is leaking information about the `label` as `uid` is supposed to be a unique identifier for the connection. Since it is unique per row, it has zero predictive power on new data and cannot be generalised onto new samples. This could cause the model to perform extremely well on training data but fail on unseen data."
   ]
  },
  {
   "cell_type": "markdown",
   "metadata": {
    "application/vnd.databricks.v1+cell": {
     "cellMetadata": {},
     "inputWidgets": {},
     "nuid": "d1a3f879-afbf-4ad8-9db6-d45561fc102d",
     "showTitle": false,
     "tableResultSettingsMap": {},
     "title": ""
    },
    "id": "-LwH82mRclPZ"
   },
   "source": [
    "# Feature Engineering"
   ]
  },
  {
   "cell_type": "markdown",
   "metadata": {
    "application/vnd.databricks.v1+cell": {
     "cellMetadata": {},
     "inputWidgets": {},
     "nuid": "9cec1cac-d7bf-4d31-bd7a-e8d6465b772b",
     "showTitle": false,
     "tableResultSettingsMap": {},
     "title": ""
    },
    "id": "rTUT3pONMZ4x"
   },
   "source": [
    "## Engineering new Meaningful Features"
   ]
  },
  {
   "cell_type": "code",
   "execution_count": 19,
   "metadata": {
    "application/vnd.databricks.v1+cell": {
     "cellMetadata": {
      "byteLimit": 2048000,
      "rowLimit": 10000
     },
     "inputWidgets": {},
     "nuid": "d51361c8-45f9-44dd-8c68-3ba4b9e29aff",
     "showTitle": false,
     "tableResultSettingsMap": {},
     "title": ""
    },
    "id": "G5RsBjD0cn3k"
   },
   "outputs": [
    {
     "name": "stdout",
     "output_type": "stream",
     "text": [
      "+-----------+------------------+---------+----------+------------------+----------+\n",
      "|total_bytes|        byte_ratio|pkt_ratio|total_pkts|        throughput|efficiency|\n",
      "+-----------+------------------+---------+----------+------------------+----------+\n",
      "|        0.0|               0.0|      3.0|       3.0|               0.0|       0.0|\n",
      "|       78.0|              78.0|      2.0|       2.0|15.583951852215545|      26.0|\n",
      "|       78.0|              78.0|      2.0|       2.0|15.583960760256039|      26.0|\n",
      "|       78.0|              78.0|      2.0|       2.0|15.583948882870978|      26.0|\n",
      "|       96.0|0.9795918367346939|      0.5|       2.0|  668.295643928812|      32.0|\n",
      "+-----------+------------------+---------+----------+------------------+----------+\n",
      "only showing top 5 rows\n",
      "\n"
     ]
    }
   ],
   "source": [
    "from pyspark.sql.functions import col, when, lit, log1p\n",
    "\n",
    "# Total Bytes\n",
    "df = df.withColumn(\"total_bytes\", col(\"orig_bytes\") + col(\"resp_bytes\"))\n",
    "\n",
    "# Byte Ratio (orig_bytes / (resp_bytes + 1))\n",
    "df = df.withColumn(\"byte_ratio\", col(\"orig_bytes\") / (col(\"resp_bytes\") + lit(1)))\n",
    "\n",
    "# Packet Ratio (orig_pkts / (resp_pkts + 1))\n",
    "df = df.withColumn(\"pkt_ratio\", col(\"orig_pkts\") / (col(\"resp_pkts\") + lit(1)))\n",
    "\n",
    "# Total Packet Count\n",
    "df = df.withColumn(\"total_pkts\", col(\"orig_pkts\") + col(\"resp_pkts\"))\n",
    "\n",
    "# Throughput = total_bytes / (duration + 1e-6)\n",
    "df = df.withColumn(\"throughput\", col(\"total_bytes\") / (col(\"duration\") + lit(1e-6)))\n",
    "\n",
    "# Data-to-packet efficiency\n",
    "df = df.withColumn(\"efficiency\", col(\"total_bytes\") / (col(\"total_pkts\") + lit(1)))\n",
    "\n",
    "df.select(\"total_bytes\", \"byte_ratio\", \"pkt_ratio\", \"total_pkts\", \"throughput\", \"efficiency\").show(5)\n"
   ]
  },
  {
   "cell_type": "markdown",
   "metadata": {
    "application/vnd.databricks.v1+cell": {
     "cellMetadata": {},
     "inputWidgets": {},
     "nuid": "81273552-2de1-494c-aef7-33ace3c97695",
     "showTitle": false,
     "tableResultSettingsMap": {},
     "title": ""
    },
    "id": "HpbaXcxPLdjk"
   },
   "source": [
    "## Encoding of Categorical Variables:"
   ]
  },
  {
   "cell_type": "markdown",
   "metadata": {
    "application/vnd.databricks.v1+cell": {
     "cellMetadata": {},
     "inputWidgets": {},
     "nuid": "f8eb3cd3-a280-45db-ac7b-3117917e8209",
     "showTitle": false,
     "tableResultSettingsMap": {},
     "title": ""
    }
   },
   "source": [
    "Categorical varaiables included are History, proto, conn_state, and id_resp_p. From data exploration, cardinality of each of them are 61, 3, 11, 16 respectively.\n",
    "\n",
    "History has high cardinality so need to do frequency encoding.\n",
    "Others have relative low cardinality so one-hot encoding is feasible."
   ]
  },
  {
   "cell_type": "code",
   "execution_count": 20,
   "metadata": {
    "application/vnd.databricks.v1+cell": {
     "cellMetadata": {
      "byteLimit": 2048000,
      "rowLimit": 10000
     },
     "inputWidgets": {},
     "nuid": "7917b181-51e3-437c-bdfd-46cdc5f3a531",
     "showTitle": false,
     "tableResultSettingsMap": {},
     "title": ""
    },
    "id": "84nGnJXTLpDp"
   },
   "outputs": [
    {
     "name": "stdout",
     "output_type": "stream",
     "text": [
      "+-------+--------------------+\n",
      "|history|history_freq_encoded|\n",
      "+-------+--------------------+\n",
      "| DdAaFf|                   1|\n",
      "|      D|                1086|\n",
      "|      D|                1086|\n",
      "|      D|                1086|\n",
      "|      D|                1086|\n",
      "|      D|                1086|\n",
      "|      D|                1086|\n",
      "|      D|                1086|\n",
      "|      D|                1086|\n",
      "|      D|                1086|\n",
      "|      D|                1086|\n",
      "|     Dd|                 659|\n",
      "|     Dd|                 659|\n",
      "|     Dd|                 659|\n",
      "|     Dd|                 659|\n",
      "|     Dd|                 659|\n",
      "|     Dd|                 659|\n",
      "|     Dd|                 659|\n",
      "|      S|             4104511|\n",
      "|      S|             4104511|\n",
      "+-------+--------------------+\n",
      "only showing top 20 rows\n",
      "\n"
     ]
    }
   ],
   "source": [
    "from pyspark.sql.functions import count\n",
    "\n",
    "## Frequency Encoding of High Cardinality Features such as History\n",
    "\n",
    "# Calculate frequency counts for each category in the 'history' column\n",
    "history_counts = df.groupBy(\"history\").agg(count(\"*\").alias(\"history_count\"))\n",
    "\n",
    "# Join the frequency counts back to the original DataFrame\n",
    "df = df.join(history_counts, \"history\", \"left\")\n",
    "\n",
    "# Create a new column 'history_freq_encoded' with the frequency counts\n",
    "df = df.withColumn(\"history_freq_encoded\", col(\"history_count\"))\n",
    "\n",
    "# Optionally drop the intermediate 'history_count' column\n",
    "df = df.drop(\"history_count\")\n",
    "\n",
    "# Show the DataFrame with the frequency encoded column\n",
    "df.select(\"history\", \"history_freq_encoded\").show()"
   ]
  },
  {
   "cell_type": "code",
   "execution_count": 21,
   "metadata": {
    "application/vnd.databricks.v1+cell": {
     "cellMetadata": {
      "byteLimit": 2048000,
      "rowLimit": 10000
     },
     "inputWidgets": {},
     "nuid": "2d39d092-582d-45bf-a917-ae4688562227",
     "showTitle": false,
     "tableResultSettingsMap": {},
     "title": ""
    },
    "id": "Bsqzm_ErHsbU"
   },
   "outputs": [
    {
     "name": "stdout",
     "output_type": "stream",
     "text": [
      "+-----+-----------+-------------+----------+----------------+------------------+---------+---------------+-----------------+\n",
      "|proto|proto_index|proto_encoded|conn_state|conn_state_index|conn_state_encoded|id_resp_p|id_resp_p_index|id_resp_p_encoded|\n",
      "+-----+-----------+-------------+----------+----------------+------------------+---------+---------------+-----------------+\n",
      "|  tcp|        0.0|(2,[0],[1.0])|        S0|             0.0|    (11,[0],[1.0])|     80.0|            2.0|   (15,[2],[1.0])|\n",
      "|  udp|        1.0|(2,[1],[1.0])|        S0|             0.0|    (11,[0],[1.0])|     53.0|            4.0|   (15,[4],[1.0])|\n",
      "|  udp|        1.0|(2,[1],[1.0])|        S0|             0.0|    (11,[0],[1.0])|     53.0|            4.0|   (15,[4],[1.0])|\n",
      "|  udp|        1.0|(2,[1],[1.0])|        S0|             0.0|    (11,[0],[1.0])|     53.0|            4.0|   (15,[4],[1.0])|\n",
      "|  udp|        1.0|(2,[1],[1.0])|        SF|             4.0|    (11,[4],[1.0])|    123.0|            5.0|   (15,[5],[1.0])|\n",
      "+-----+-----------+-------------+----------+----------------+------------------+---------+---------------+-----------------+\n",
      "only showing top 5 rows\n",
      "\n"
     ]
    }
   ],
   "source": [
    "from pyspark.ml.feature import StringIndexer, OneHotEncoder\n",
    "\n",
    "# one hot encoding of categorical features with low cardinality\n",
    "\n",
    "# Create StringIndexers for \"proto\" and \"conn_state\"\n",
    "proto_indexer = StringIndexer(inputCol=\"proto\", outputCol=\"proto_index\")\n",
    "conn_state_indexer = StringIndexer(inputCol=\"conn_state\", outputCol=\"conn_state_index\")\n",
    "port_indexer = StringIndexer(inputCol=\"id_resp_p\", outputCol=\"id_resp_p_index\")\n",
    "\n",
    "# Create OneHotEncoders for the indexed columns\n",
    "proto_encoder = OneHotEncoder(inputCol=\"proto_index\", outputCol=\"proto_encoded\")\n",
    "conn_state_encoder = OneHotEncoder(inputCol=\"conn_state_index\", outputCol=\"conn_state_encoded\")\n",
    "port_encoder = OneHotEncoder(inputCol=\"id_resp_p_index\", outputCol=\"id_resp_p_encoded\")\n",
    "\n",
    "# Fit and transform the DataFrame\n",
    "df = proto_indexer.fit(df).transform(df)\n",
    "df = conn_state_indexer.fit(df).transform(df)\n",
    "df = port_indexer.fit(df).transform(df)\n",
    "\n",
    "df = proto_encoder.fit(df).transform(df)\n",
    "df = conn_state_encoder.fit(df).transform(df)\n",
    "df = port_encoder.fit(df).transform(df)\n",
    "\n",
    "# Show the DataFrame with the one-hot encoded columns\n",
    "df.select(\"proto\", \"proto_index\", \"proto_encoded\", \"conn_state\", \"conn_state_index\", \"conn_state_encoded\", \"id_resp_p\", \"id_resp_p_index\", \"id_resp_p_encoded\").show(5)"
   ]
  },
  {
   "cell_type": "markdown",
   "metadata": {
    "application/vnd.databricks.v1+cell": {
     "cellMetadata": {},
     "inputWidgets": {},
     "nuid": "bafac25c-c3f4-4450-96b5-bd3d8e52731d",
     "showTitle": false,
     "tableResultSettingsMap": {},
     "title": ""
    },
    "id": "zIw_teB0ITOI"
   },
   "source": [
    "## Scaling of Numerical Features"
   ]
  },
  {
   "cell_type": "code",
   "execution_count": 22,
   "metadata": {
    "application/vnd.databricks.v1+cell": {
     "cellMetadata": {
      "byteLimit": 2048000,
      "rowLimit": 10000
     },
     "inputWidgets": {},
     "nuid": "06d43ceb-63b3-45e5-abc2-a085800b51f9",
     "showTitle": false,
     "tableResultSettingsMap": {},
     "title": ""
    },
    "id": "sHA9IuSTIh0Q"
   },
   "outputs": [
    {
     "name": "stdout",
     "output_type": "stream",
     "text": [
      "+---------------------------------------------------------------------------------------------------------------------------------------------------------+\n",
      "|features_scaled                                                                                                                                          |\n",
      "+---------------------------------------------------------------------------------------------------------------------------------------------------------+\n",
      "|[-0.031388320037541946,-0.10266541964926636,-0.0011691426302230367,-0.10266633244316568,-0.0011703203940343345,-0.10348968971642422,-0.10269310798838681]|\n",
      "|[0.021113607483025945,-0.10266539715592238,-0.0014582768872629774,-0.102666309949975,-0.001459454475748102,-0.10348921475423353,-0.102692668354665]      |\n",
      "|[0.021113528732005,-0.10266539715592238,-0.0014582768872629774,-0.102666309949975,-0.001459454475748102,-0.10348921475423353,-0.10269266835441371]       |\n",
      "|[0.02111363373336626,-0.10266539715592238,-0.0014582768872629774,-0.102666309949975,-0.001459454475748102,-0.10348921475423353,-0.10269266835474877]     |\n",
      "|[-0.11270149642450832,-0.10266541936677537,-0.0018919782728228887,-0.10266630475923869,-0.001459454475748102,-0.10348910514757413,-0.10267425492056485]  |\n",
      "+---------------------------------------------------------------------------------------------------------------------------------------------------------+\n",
      "only showing top 5 rows\n",
      "\n"
     ]
    }
   ],
   "source": [
    "# Assuming 'df' is your DataFrame and the features are already created\n",
    "\n",
    "# Define the columns to be scaled\n",
    "cols_to_scale = [\"duration\", \"byte_ratio\", \"pkt_ratio\", \"total_bytes\", \"total_pkts\", \"efficiency\", \"throughput\"]\n",
    "\n",
    "# Create a VectorAssembler to combine the features into a single vector column\n",
    "assembler = VectorAssembler(inputCols=cols_to_scale, outputCol=\"features_unscaled\")\n",
    "df = assembler.transform(df)\n",
    "\n",
    "# Create a StandardScaler to scale the features\n",
    "scaler = StandardScaler(inputCol=\"features_unscaled\", outputCol=\"features_scaled\", withStd=True, withMean=True)\n",
    "scaler_model = scaler.fit(df)\n",
    "df = scaler_model.transform(df)\n",
    "\n",
    "# Show the scaled features\n",
    "df.select(\"features_scaled\").show(5, truncate=False)\n"
   ]
  },
  {
   "cell_type": "markdown",
   "metadata": {},
   "source": [
    "## K-Means clustering of categorical features into new cluster feature "
   ]
  },
  {
   "cell_type": "code",
   "execution_count": 23,
   "metadata": {},
   "outputs": [
    {
     "data": {
      "image/png": "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",
      "text/plain": [
       "<Figure size 800x500 with 1 Axes>"
      ]
     },
     "metadata": {},
     "output_type": "display_data"
    }
   ],
   "source": [
    "from pyspark.ml.clustering import KMeans\n",
    "\n",
    "assembler = VectorAssembler(\n",
    "    inputCols=[\"features_scaled\", \"proto_encoded\", \"conn_state_encoded\", \"id_resp_p_encoded\"],\n",
    "    outputCol=\"kmeans_features\"\n",
    ")\n",
    "\n",
    "df_assembled = assembler.transform(df)\n",
    "\n",
    "# Define a range of k values to test\n",
    "k_values = range(2, 11)\n",
    "wcss = []\n",
    "\n",
    "for k in k_values:\n",
    "    kmeans = KMeans(featuresCol=\"kmeans_features\", k=k)\n",
    "    model = kmeans.fit(df_assembled)\n",
    "    wcss.append(model.summary.trainingCost)  # WCSS/Inertia\n",
    "\n",
    "# Plot the elbow curve\n",
    "plt.figure(figsize=(8, 5))\n",
    "plt.plot(k_values, wcss, marker='o')\n",
    "plt.title(\"Elbow Method for Optimal k\")\n",
    "plt.xlabel(\"Number of Clusters (k)\")\n",
    "plt.ylabel(\"WCSS (Within-Cluster Sum of Squares)\")\n",
    "plt.show()\n",
    "\n",
    "# Define K-Means model\n",
    "kmeans = KMeans(featuresCol=\"kmeans_features\", predictionCol=\"cluster\", k=2)  # Adjust k as needed\n",
    "\n",
    "# Fit the model\n",
    "kmeans_model = kmeans.fit(df_assembled)\n",
    "\n",
    "# Predict clusters\n",
    "df = kmeans_model.transform(df_assembled)"
   ]
  },
  {
   "cell_type": "markdown",
   "metadata": {
    "application/vnd.databricks.v1+cell": {
     "cellMetadata": {},
     "inputWidgets": {},
     "nuid": "bf3c9aed-7c13-41a3-b17d-4255b84e7533",
     "showTitle": false,
     "tableResultSettingsMap": {},
     "title": ""
    },
    "id": "X0I8dV6gL7zN"
   },
   "source": [
    "## Assemble Features for Modelling"
   ]
  },
  {
   "cell_type": "code",
   "execution_count": 24,
   "metadata": {
    "application/vnd.databricks.v1+cell": {
     "cellMetadata": {
      "byteLimit": 2048000,
      "rowLimit": 10000
     },
     "inputWidgets": {},
     "nuid": "04d3d2a8-a4ff-4739-970c-a546b87bed05",
     "showTitle": false,
     "tableResultSettingsMap": {},
     "title": ""
    },
    "id": "_uL1kqhTL_7d"
   },
   "outputs": [],
   "source": [
    "from pyspark.ml.feature import VectorAssembler\n",
    "\n",
    "final_features = [\n",
    "    \"features_scaled\",           # your numeric features\n",
    "    \"cluster\"\n",
    "]\n",
    "\n",
    "assembler = VectorAssembler(inputCols=final_features, outputCol=\"features\")\n",
    "df_clean = df.dropna(subset=final_features) # i think history still have null values :(\n",
    "df_model = assembler.transform(df_clean)"
   ]
  },
  {
   "cell_type": "code",
   "execution_count": 25,
   "metadata": {},
   "outputs": [
    {
     "ename": "NameError",
     "evalue": "name 'stop' is not defined",
     "output_type": "error",
     "traceback": [
      "\u001b[31m---------------------------------------------------------------------------\u001b[39m",
      "\u001b[31mNameError\u001b[39m                                 Traceback (most recent call last)",
      "\u001b[36mCell\u001b[39m\u001b[36m \u001b[39m\u001b[32mIn[25]\u001b[39m\u001b[32m, line 1\u001b[39m\n\u001b[32m----> \u001b[39m\u001b[32m1\u001b[39m \u001b[43mstop\u001b[49m\n",
      "\u001b[31mNameError\u001b[39m: name 'stop' is not defined"
     ]
    }
   ],
   "source": [
    "stop"
   ]
  },
  {
   "cell_type": "markdown",
   "metadata": {
    "application/vnd.databricks.v1+cell": {
     "cellMetadata": {},
     "inputWidgets": {},
     "nuid": "2d5e7df4-087a-4ca8-86b7-5816cea46ffa",
     "showTitle": false,
     "tableResultSettingsMap": {},
     "title": ""
    },
    "id": "R43x7rDi5sF8"
   },
   "source": [
    "# Model Training and Evaluation"
   ]
  },
  {
   "cell_type": "markdown",
   "metadata": {
    "application/vnd.databricks.v1+cell": {
     "cellMetadata": {},
     "inputWidgets": {},
     "nuid": "c99e9b25-dfbf-4411-8d71-0c6478fdc83c",
     "showTitle": false,
     "tableResultSettingsMap": {},
     "title": ""
    },
    "id": "yCclzB3TMgX6"
   },
   "source": [
    "## Logistic Regression"
   ]
  },
  {
   "cell_type": "code",
   "execution_count": 0,
   "metadata": {
    "application/vnd.databricks.v1+cell": {
     "cellMetadata": {},
     "inputWidgets": {},
     "nuid": "e30e70db-550d-4186-b9c7-9209d09ac218",
     "showTitle": false,
     "tableResultSettingsMap": {},
     "title": ""
    },
    "id": "sqGI5rYwM39F"
   },
   "outputs": [
    {
     "name": "stdout",
     "output_type": "stream",
     "text": [
      "+------+-----------+----------------------------------------------------------------------------------------------------------+----------+\n",
      "|label |label_index|probability                                                                                               |prediction|\n",
      "+------+-----------+----------------------------------------------------------------------------------------------------------+----------+\n",
      "|Benign|0.0        |[0.9471829434463268,0.052797362763439444,9.816902319680823E-7,1.3630853176379356E-7,1.8575791470258853E-5]|0.0       |\n",
      "|Benign|0.0        |[0.947182943544033,0.05279736266575741,9.81690230152097E-7,1.3630853160025183E-7,1.8575791448016232E-5]   |0.0       |\n",
      "|Benign|0.0        |[0.9471829434463268,0.052797362763439444,9.816902319680823E-7,1.3630853176379356E-7,1.8575791470258853E-5]|0.0       |\n",
      "|Benign|0.0        |[0.9471829404691611,0.052797365739866965,9.816902873022157E-7,1.363085367470043E-7,1.8575792148004477E-5] |0.0       |\n",
      "|Benign|0.0        |[0.9471829435038008,0.052797362705979387,9.816902308998564E-7,1.3630853166759264E-7,1.857579145717496E-5] |0.0       |\n",
      "+------+-----------+----------------------------------------------------------------------------------------------------------+----------+\n",
      "only showing top 5 rows\n",
      "\n"
     ]
    }
   ],
   "source": [
    "from pyspark.ml.classification import LogisticRegression\n",
    "from pyspark.ml.evaluation import BinaryClassificationEvaluator, MulticlassClassificationEvaluator\n",
    "\n",
    "from pyspark.ml.feature import StringIndexer\n",
    "\n",
    "# 2. Index the label\n",
    "df_model = df_model.drop(\"label_index\") # force drop existing when rerunning the cell\n",
    "\n",
    "label_indexer = StringIndexer(inputCol=\"label\", outputCol=\"label_index\", handleInvalid=\"keep\")\n",
    "df_model = label_indexer.fit(df_model).transform(df_model)\n",
    "\n",
    "train_df, test_df = df_model.randomSplit([0.8, 0.2], seed=42)\n",
    "\n",
    "lr = LogisticRegression(\n",
    "    featuresCol=\"features\",\n",
    "    labelCol=\"label_index\",\n",
    "    maxIter=20,\n",
    "    regParam=0.1,\n",
    "    elasticNetParam=0.0  # L2 regularization (Ridge)\n",
    ")\n",
    "lr_model = lr.fit(train_df)\n",
    "\n",
    "# 5. Predict on test set\n",
    "predictions = lr_model.transform(test_df)\n",
    "\n",
    "# 6. Show predictions\n",
    "predictions.select(\"label\", \"label_index\", \"probability\", \"prediction\").show(5, truncate=False)"
   ]
  },
  {
   "cell_type": "code",
   "execution_count": 0,
   "metadata": {
    "application/vnd.databricks.v1+cell": {
     "cellMetadata": {},
     "inputWidgets": {},
     "nuid": "99fef1d0-19a5-4d85-9abb-1c4497046aa4",
     "showTitle": false,
     "tableResultSettingsMap": {},
     "title": ""
    }
   },
   "outputs": [
    {
     "name": "stdout",
     "output_type": "stream",
     "text": [
      "Multiclass accuracy: 1.0000\n",
      "+-----------+----------+------+\n",
      "|label_index|prediction| count|\n",
      "+-----------+----------+------+\n",
      "|        2.0|       0.0|     5|\n",
      "|        2.0|       1.0|     1|\n",
      "|        0.0|       0.0|821951|\n",
      "|        1.0|       1.0|381230|\n",
      "|        0.0|       1.0|     2|\n",
      "|        1.0|       0.0|    12|\n",
      "+-----------+----------+------+\n",
      "\n",
      "F1 Score on test set: 1.0000\n"
     ]
    }
   ],
   "source": [
    "# 7. Evaluate ROC-AUC\n",
    "evaluator = MulticlassClassificationEvaluator(\n",
    "    labelCol=\"label_index\",\n",
    "    predictionCol=\"prediction\",\n",
    "    metricName=\"accuracy\"  # or \"f1\", \"weightedPrecision\", \"weightedRecall\"\n",
    ")\n",
    "\n",
    "accuracy = evaluator.evaluate(predictions)\n",
    "print(f\"Multiclass accuracy: {accuracy:.4f}\")\n",
    "\n",
    "# 8. Show confusion matrix\n",
    "predictions.groupBy(\"label_index\", \"prediction\").count().show()\n",
    "\n",
    "# 9. (Optional) Evaluate F1 score\n",
    "multi_eval = MulticlassClassificationEvaluator(\n",
    "    labelCol=\"label_index\", predictionCol=\"prediction\", metricName=\"f1\"\n",
    ")\n",
    "f1_score = multi_eval.evaluate(predictions)\n",
    "print(f\"F1 Score on test set: {f1_score:.4f}\")"
   ]
  },
  {
   "cell_type": "markdown",
   "metadata": {
    "application/vnd.databricks.v1+cell": {
     "cellMetadata": {},
     "inputWidgets": {},
     "nuid": "f7822bf8-8514-4c87-aa29-71e0f9e44f3f",
     "showTitle": false,
     "tableResultSettingsMap": {},
     "title": ""
    }
   },
   "source": [
    "model performs well for common classes (0.0 and 1.0) but completely fails to identify class 2.0 (probably due to class imbalance)\n",
    "\n",
    "F1 = 1.0"
   ]
  },
  {
   "cell_type": "code",
   "execution_count": 0,
   "metadata": {
    "application/vnd.databricks.v1+cell": {
     "cellMetadata": {},
     "inputWidgets": {},
     "nuid": "73aa0a2a-733d-4886-bca2-795313bbc11b",
     "showTitle": false,
     "tableResultSettingsMap": {},
     "title": ""
    }
   },
   "outputs": [
    {
     "name": "stdout",
     "output_type": "stream",
     "text": [
      "+------------------+-----------+\n",
      "|label             |label_index|\n",
      "+------------------+-----------+\n",
      "|Benign            |0.0        |\n",
      "|Malicious   DDoS  |1.0        |\n",
      "|Malicious   C&C   |2.0        |\n",
      "|Malicious   Attack|3.0        |\n",
      "+------------------+-----------+\n",
      "\n"
     ]
    }
   ],
   "source": [
    "df_model.select(\"label\", \"label_index\").distinct().orderBy(\"label_index\").show(truncate=False)"
   ]
  },
  {
   "cell_type": "code",
   "execution_count": 0,
   "metadata": {
    "application/vnd.databricks.v1+cell": {
     "cellMetadata": {},
     "inputWidgets": {},
     "nuid": "ef185b12-7d48-4496-a9ff-a8289f19c23d",
     "showTitle": false,
     "tableResultSettingsMap": {},
     "title": ""
    }
   },
   "outputs": [
    {
     "name": "stdout",
     "output_type": "stream",
     "text": [
      "+-----------+-------+\n",
      "|label_index|  count|\n",
      "+-----------+-------+\n",
      "|        0.0|4108318|\n",
      "|        3.0|      3|\n",
      "|        2.0|     33|\n",
      "|        1.0|1906796|\n",
      "+-----------+-------+\n",
      "\n",
      "+-----------+------+\n",
      "|label_index| count|\n",
      "+-----------+------+\n",
      "|        0.0|821953|\n",
      "|        2.0|     6|\n",
      "|        1.0|381242|\n",
      "+-----------+------+\n",
      "\n"
     ]
    }
   ],
   "source": [
    "df_model.groupBy(\"label_index\").count().show()\n",
    "test_df.groupBy(\"label_index\").count().show()"
   ]
  },
  {
   "cell_type": "markdown",
   "metadata": {
    "application/vnd.databricks.v1+cell": {
     "cellMetadata": {},
     "inputWidgets": {},
     "nuid": "5fe93d9c-f6bb-496e-b464-67f4e5e146f7",
     "showTitle": false,
     "tableResultSettingsMap": {},
     "title": ""
    },
    "id": "phW0E54BMjuc"
   },
   "source": [
    "## Random Forest"
   ]
  },
  {
   "cell_type": "code",
   "execution_count": 26,
   "metadata": {},
   "outputs": [],
   "source": [
    "df_model_RF = df_model"
   ]
  },
  {
   "cell_type": "code",
   "execution_count": 27,
   "metadata": {
    "application/vnd.databricks.v1+cell": {
     "cellMetadata": {},
     "inputWidgets": {},
     "nuid": "1e128c25-f640-406a-91e9-f41ef69f7f77",
     "showTitle": false,
     "tableResultSettingsMap": {},
     "title": ""
    },
    "id": "4NxND86oM56v"
   },
   "outputs": [],
   "source": [
    "from pyspark.ml import Pipeline\n",
    "from pyspark.ml.feature import StringIndexer, VectorAssembler\n",
    "from pyspark.ml.classification import RandomForestClassifier\n",
    "from pyspark.ml.evaluation import BinaryClassificationEvaluator, MulticlassClassificationEvaluator\n",
    "\n",
    "df_model_RF = df_model_RF.drop(\"label_index\") \n",
    "\n",
    "df_model_RF = df_model_RF.withColumn(\n",
    "    \"label\",\n",
    "    when(col(\"label\") == \"Benign\", \"Benign\").otherwise(\"Malicious\")\n",
    ")\n",
    "\n",
    "label_indexer = StringIndexer(inputCol=\"label\", outputCol=\"label_index\", handleInvalid=\"keep\")\n",
    "df_model_RF = label_indexer.fit(df_model_RF).transform(df_model_RF)\n",
    "\n",
    "rf = RandomForestClassifier(\n",
    "    featuresCol=\"features\",\n",
    "    labelCol=\"label_index\",\n",
    "    numTrees=10,  \n",
    "    maxDepth=5    \n",
    ")\n",
    "\n",
    "train_df, test_df = df_model_RF.randomSplit([0.8, 0.2], seed=42)\n",
    "\n",
    "rf_model = rf.fit(train_df)\n",
    "rf_predictions = rf_model.transform(test_df)"
   ]
  },
  {
   "cell_type": "code",
   "execution_count": 28,
   "metadata": {},
   "outputs": [
    {
     "name": "stdout",
     "output_type": "stream",
     "text": [
      "+------+-----------+---------------------------------------------+----------+\n",
      "|label |label_index|probability                                  |prediction|\n",
      "+------+-----------+---------------------------------------------+----------+\n",
      "|Benign|0.0        |[0.9931939207335848,0.006806079266415133,0.0]|0.0       |\n",
      "|Benign|0.0        |[0.878391080442616,0.12160891955738407,0.0]  |0.0       |\n",
      "|Benign|0.0        |[0.731081081081081,0.26891891891891895,0.0]  |0.0       |\n",
      "|Benign|0.0        |[0.9931939207335848,0.006806079266415133,0.0]|0.0       |\n",
      "|Benign|0.0        |[0.9994772576983946,5.227423016053018E-4,0.0]|0.0       |\n",
      "+------+-----------+---------------------------------------------+----------+\n",
      "only showing top 5 rows\n",
      "\n"
     ]
    }
   ],
   "source": [
    "rf_predictions.select(\"label\", \"label_index\", \"probability\", \"prediction\").show(5, truncate=False)"
   ]
  },
  {
   "cell_type": "code",
   "execution_count": 29,
   "metadata": {},
   "outputs": [
    {
     "name": "stdout",
     "output_type": "stream",
     "text": [
      "+-----------+-------+\n",
      "|label_index|  count|\n",
      "+-----------+-------+\n",
      "|        0.0|4108340|\n",
      "|        1.0|1906832|\n",
      "+-----------+-------+\n",
      "\n"
     ]
    }
   ],
   "source": [
    "df_model_RF.groupBy(\"label_index\").count().show()"
   ]
  },
  {
   "cell_type": "code",
   "execution_count": 30,
   "metadata": {},
   "outputs": [
    {
     "name": "stdout",
     "output_type": "stream",
     "text": [
      "Accuracy: 1.0000\n"
     ]
    }
   ],
   "source": [
    "# Model eval - accuracy\n",
    "evaluator_acc = MulticlassClassificationEvaluator(\n",
    "    labelCol=\"label_index\",  \n",
    "    predictionCol=\"prediction\",  \n",
    "    metricName=\"accuracy\"  \n",
    ")\n",
    "rf_accuracy = evaluator_acc.evaluate(rf_predictions)\n",
    "print(f\"Accuracy: {rf_accuracy:.4f}\")"
   ]
  },
  {
   "cell_type": "code",
   "execution_count": null,
   "metadata": {},
   "outputs": [],
   "source": [
    "stop"
   ]
  },
  {
   "cell_type": "markdown",
   "metadata": {
    "application/vnd.databricks.v1+cell": {
     "cellMetadata": {},
     "inputWidgets": {},
     "nuid": "969e8004-3262-4927-b50b-b2e052708484",
     "showTitle": false,
     "tableResultSettingsMap": {},
     "title": ""
    },
    "id": "VLBMnQuGMwBZ"
   },
   "source": [
    "## Gradient Boosted Trees"
   ]
  },
  {
   "cell_type": "code",
   "execution_count": 0,
   "metadata": {
    "application/vnd.databricks.v1+cell": {
     "cellMetadata": {
      "byteLimit": 2048000,
      "rowLimit": 10000
     },
     "inputWidgets": {},
     "nuid": "abc9e4ec-beae-4561-bc71-5635914ed671",
     "showTitle": false,
     "tableResultSettingsMap": {},
     "title": ""
    },
    "id": "Sy5xHJXsM7Nt"
   },
   "outputs": [],
   "source": [
    "# Gradient boosted tree is binary\n",
    "\n",
    "from pyspark.ml.classification import GBTClassifier\n",
    "# from pyspark.ml import Pipeline\n",
    "\n",
    "df_model = df_model.drop(\"label_index\") # force drop existing when rerunning the cell\n",
    "\n",
    "df_model = df_model.withColumn(\n",
    "    \"label\",\n",
    "    when(col(\"label\") == \"Benign\", \"Benign\").otherwise(\"Malicious\")\n",
    ")\n",
    "\n",
    "# reindex labels (Benign = 0, Malicious = 1)\n",
    "label_indexer = StringIndexer(inputCol=\"label\", outputCol=\"label_index\", handleInvalid=\"keep\")\n",
    "df_model = label_indexer.fit(df_model).transform(df_model)\n",
    "\n",
    "# train test split\n",
    "train_df, test_df = df_model.randomSplit([0.8, 0.2], seed=42)\n",
    "\n",
    "# gbt regressor\n",
    "gbt = GBTClassifier(featuresCol=\"features\",\n",
    "                    labelCol=\"label_index\", \n",
    "                    maxIter=50, \n",
    "                    maxDepth=5)\n",
    "\n",
    "# train the model\n",
    "gbt_model = gbt.fit(train_df)\n",
    "\n",
    "# Make predictions with Gradient Boosted Tree\n",
    "gbt_predictions = gbt_model.transform(test_df)\n",
    "\n",
    "# display predictions\n",
    "gbt_predictions.select(\"label\", \"label_index\", \"probability\", \"prediction\").show(5, truncate=False)"
   ]
  },
  {
   "cell_type": "code",
   "execution_count": 0,
   "metadata": {
    "application/vnd.databricks.v1+cell": {
     "cellMetadata": {
      "byteLimit": 2048000,
      "rowLimit": 10000
     },
     "inputWidgets": {},
     "nuid": "6fc624c7-042f-4fdd-98b3-6c5ec1ef94d0",
     "showTitle": false,
     "tableResultSettingsMap": {},
     "title": ""
    }
   },
   "outputs": [
    {
     "name": "stdout",
     "output_type": "stream",
     "text": [
      "+-----------+-------+\n",
      "|label_index|  count|\n",
      "+-----------+-------+\n",
      "|        0.0|4108318|\n",
      "|        1.0|1906832|\n",
      "+-----------+-------+\n",
      "\n"
     ]
    }
   ],
   "source": [
    "df_model.groupBy(\"label_index\").count().show()"
   ]
  },
  {
   "cell_type": "code",
   "execution_count": 0,
   "metadata": {
    "application/vnd.databricks.v1+cell": {
     "cellMetadata": {
      "byteLimit": 2048000,
      "rowLimit": 10000
     },
     "inputWidgets": {},
     "nuid": "9271c448-f9c5-4f1e-844d-6bc5e598cc03",
     "showTitle": false,
     "tableResultSettingsMap": {},
     "title": ""
    }
   },
   "outputs": [
    {
     "name": "stdout",
     "output_type": "stream",
     "text": [
      "GBT AUC: 1.0000\n",
      "Accuracy: 1.0000\n"
     ]
    }
   ],
   "source": [
    "from pyspark.ml.evaluation import BinaryClassificationEvaluator, MulticlassClassificationEvaluator\n",
    "\n",
    "# Evaluation\n",
    "# evaluate AUC using BinaryClassificationEvaluator\n",
    "evaluator_auc = BinaryClassificationEvaluator(\n",
    "    labelCol=\"label_index\",\n",
    "    rawPredictionCol=\"rawPrediction\",  # GBT outputs rawPrediction\n",
    "    metricName=\"areaUnderROC\"\n",
    ")\n",
    "\n",
    "gbt_auc = evaluator_auc.evaluate(gbt_predictions)\n",
    "print(f\"GBT AUC: {gbt_auc:.4f}\")\n",
    "\n",
    "evaluator_acc = MulticlassClassificationEvaluator(\n",
    "    labelCol=\"label_index\", \n",
    "    predictionCol=\"prediction\", \n",
    "    metricName=\"accuracy\"\n",
    ")\n",
    "\n",
    "gbt_accuracy = evaluator_acc.evaluate(gbt_predictions)\n",
    "print(f\"Accuracy: {gbt_accuracy:.4f}\")"
   ]
  },
  {
   "cell_type": "markdown",
   "metadata": {
    "application/vnd.databricks.v1+cell": {
     "cellMetadata": {},
     "inputWidgets": {},
     "nuid": "a345a235-a8c1-46fb-bf83-e4477bf6f0f9",
     "showTitle": false,
     "tableResultSettingsMap": {},
     "title": ""
    },
    "id": "Lehy1GtUM1bq"
   },
   "source": [
    "## MLP"
   ]
  },
  {
   "cell_type": "code",
   "execution_count": 0,
   "metadata": {
    "application/vnd.databricks.v1+cell": {
     "cellMetadata": {},
     "inputWidgets": {},
     "nuid": "9353c975-0344-463f-a616-8196f6f7b02e",
     "showTitle": false,
     "tableResultSettingsMap": {},
     "title": ""
    },
    "id": "MwdyBCqcM81h"
   },
   "outputs": [],
   "source": [
    "# to be filled"
   ]
  },
  {
   "cell_type": "markdown",
   "metadata": {
    "application/vnd.databricks.v1+cell": {
     "cellMetadata": {},
     "inputWidgets": {},
     "nuid": "2745659a-e466-463c-8ffd-8438525b089d",
     "showTitle": false,
     "tableResultSettingsMap": {},
     "title": ""
    },
    "id": "O_f4FngJ5tOD"
   },
   "source": [
    "# Hyperparameter Tuning & Cross-Validation"
   ]
  },
  {
   "cell_type": "code",
   "execution_count": 0,
   "metadata": {
    "application/vnd.databricks.v1+cell": {
     "cellMetadata": {},
     "inputWidgets": {},
     "nuid": "b94701bd-edd8-4657-b039-c3bac6aad0fc",
     "showTitle": false,
     "tableResultSettingsMap": {},
     "title": ""
    },
    "id": "MHoLi5yvNHjz"
   },
   "outputs": [],
   "source": [
    "# to be done"
   ]
  },
  {
   "cell_type": "markdown",
   "metadata": {
    "application/vnd.databricks.v1+cell": {
     "cellMetadata": {},
     "inputWidgets": {},
     "nuid": "8ff4bec4-c10d-4b3e-9bbb-47c311d67481",
     "showTitle": false,
     "tableResultSettingsMap": {},
     "title": ""
    },
    "id": "sVSpNYqJ52bF"
   },
   "source": [
    "# Model Comparison"
   ]
  },
  {
   "cell_type": "code",
   "execution_count": 0,
   "metadata": {
    "application/vnd.databricks.v1+cell": {
     "cellMetadata": {},
     "inputWidgets": {},
     "nuid": "2675bcec-7c68-490c-a503-698301480209",
     "showTitle": false,
     "tableResultSettingsMap": {},
     "title": ""
    }
   },
   "outputs": [],
   "source": []
  },
  {
   "cell_type": "markdown",
   "metadata": {
    "application/vnd.databricks.v1+cell": {
     "cellMetadata": {},
     "inputWidgets": {},
     "nuid": "52a6158a-6cda-4227-8d3e-8d84445fab67",
     "showTitle": false,
     "tableResultSettingsMap": {},
     "title": ""
    },
    "id": "phT0fenb56Nq"
   },
   "source": [
    "write interpretations here"
   ]
  }
 ],
 "metadata": {
  "application/vnd.databricks.v1+notebook": {
   "computePreferences": null,
   "dashboards": [],
   "environmentMetadata": null,
   "inputWidgetPreferences": null,
   "language": "python",
   "notebookMetadata": {
    "pythonIndentUnit": 4
   },
   "notebookName": "V_2_BT4221_Group_Project",
   "widgets": {}
  },
  "colab": {
   "provenance": [],
   "toc_visible": true
  },
  "kernelspec": {
   "display_name": "PySpark (Jupyter)",
   "language": "python",
   "name": "pyspark"
  },
  "language_info": {
   "codemirror_mode": {
    "name": "ipython",
    "version": 3
   },
   "file_extension": ".py",
   "mimetype": "text/x-python",
   "name": "python",
   "nbconvert_exporter": "python",
   "pygments_lexer": "ipython3",
   "version": "3.10.12"
  }
 },
 "nbformat": 4,
 "nbformat_minor": 0
}
