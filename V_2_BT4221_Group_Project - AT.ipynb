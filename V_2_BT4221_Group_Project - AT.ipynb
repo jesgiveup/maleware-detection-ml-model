{
 "cells": [
  {
   "cell_type": "markdown",
   "metadata": {
    "application/vnd.databricks.v1+cell": {
     "cellMetadata": {},
     "inputWidgets": {},
     "nuid": "ab7fffc2-5b46-4c38-aed0-418e281837ee",
     "showTitle": false,
     "tableResultSettingsMap": {},
     "title": ""
    },
    "id": "MuHMusOPE9ag"
   },
   "source": [
    "# Load Dataset"
   ]
  },
  {
   "cell_type": "code",
   "execution_count": 133,
   "metadata": {
    "application/vnd.databricks.v1+cell": {
     "cellMetadata": {},
     "inputWidgets": {},
     "nuid": "3015a722-fa1d-45bc-8909-0c1956f120a7",
     "showTitle": false,
     "tableResultSettingsMap": {},
     "title": ""
    },
    "colab": {
     "base_uri": "https://localhost:8080/"
    },
    "id": "U9d8CGDIJMeN",
    "outputId": "6e375b9c-f67a-494c-9065-176e66108b1b"
   },
   "outputs": [
    {
     "name": "stdout",
     "output_type": "stream",
     "text": [
      "Requirement already satisfied: pyspark in c:\\users\\aaron\\appdata\\local\\packages\\pythonsoftwarefoundation.python.3.11_qbz5n2kfra8p0\\localcache\\local-packages\\python311\\site-packages (3.5.5)\n",
      "Requirement already satisfied: py4j==0.10.9.7 in c:\\users\\aaron\\appdata\\local\\packages\\pythonsoftwarefoundation.python.3.11_qbz5n2kfra8p0\\localcache\\local-packages\\python311\\site-packages (from pyspark) (0.10.9.7)\n",
      "Note: you may need to restart the kernel to use updated packages.\n"
     ]
    },
    {
     "name": "stderr",
     "output_type": "stream",
     "text": [
      "\n",
      "[notice] A new release of pip is available: 24.0 -> 25.0.1\n",
      "[notice] To update, run: C:\\Users\\aaron\\AppData\\Local\\Microsoft\\WindowsApps\\PythonSoftwareFoundation.Python.3.11_qbz5n2kfra8p0\\python.exe -m pip install --upgrade pip\n"
     ]
    },
    {
     "name": "stdout",
     "output_type": "stream",
     "text": [
      "Requirement already satisfied: seaborn in c:\\users\\aaron\\appdata\\local\\packages\\pythonsoftwarefoundation.python.3.11_qbz5n2kfra8p0\\localcache\\local-packages\\python311\\site-packages (0.13.2)\n",
      "Requirement already satisfied: numpy!=1.24.0,>=1.20 in c:\\users\\aaron\\appdata\\local\\packages\\pythonsoftwarefoundation.python.3.11_qbz5n2kfra8p0\\localcache\\local-packages\\python311\\site-packages (from seaborn) (2.2.4)\n",
      "Requirement already satisfied: pandas>=1.2 in c:\\users\\aaron\\appdata\\local\\packages\\pythonsoftwarefoundation.python.3.11_qbz5n2kfra8p0\\localcache\\local-packages\\python311\\site-packages (from seaborn) (2.2.3)\n",
      "Requirement already satisfied: matplotlib!=3.6.1,>=3.4 in c:\\users\\aaron\\appdata\\local\\packages\\pythonsoftwarefoundation.python.3.11_qbz5n2kfra8p0\\localcache\\local-packages\\python311\\site-packages (from seaborn) (3.10.1)\n",
      "Requirement already satisfied: contourpy>=1.0.1 in c:\\users\\aaron\\appdata\\local\\packages\\pythonsoftwarefoundation.python.3.11_qbz5n2kfra8p0\\localcache\\local-packages\\python311\\site-packages (from matplotlib!=3.6.1,>=3.4->seaborn) (1.3.1)\n",
      "Requirement already satisfied: cycler>=0.10 in c:\\users\\aaron\\appdata\\local\\packages\\pythonsoftwarefoundation.python.3.11_qbz5n2kfra8p0\\localcache\\local-packages\\python311\\site-packages (from matplotlib!=3.6.1,>=3.4->seaborn) (0.12.1)\n",
      "Requirement already satisfied: fonttools>=4.22.0 in c:\\users\\aaron\\appdata\\local\\packages\\pythonsoftwarefoundation.python.3.11_qbz5n2kfra8p0\\localcache\\local-packages\\python311\\site-packages (from matplotlib!=3.6.1,>=3.4->seaborn) (4.57.0)\n",
      "Requirement already satisfied: kiwisolver>=1.3.1 in c:\\users\\aaron\\appdata\\local\\packages\\pythonsoftwarefoundation.python.3.11_qbz5n2kfra8p0\\localcache\\local-packages\\python311\\site-packages (from matplotlib!=3.6.1,>=3.4->seaborn) (1.4.8)\n",
      "Requirement already satisfied: packaging>=20.0 in c:\\users\\aaron\\appdata\\local\\packages\\pythonsoftwarefoundation.python.3.11_qbz5n2kfra8p0\\localcache\\local-packages\\python311\\site-packages (from matplotlib!=3.6.1,>=3.4->seaborn) (24.2)\n",
      "Requirement already satisfied: pillow>=8 in c:\\users\\aaron\\appdata\\local\\packages\\pythonsoftwarefoundation.python.3.11_qbz5n2kfra8p0\\localcache\\local-packages\\python311\\site-packages (from matplotlib!=3.6.1,>=3.4->seaborn) (11.1.0)\n",
      "Requirement already satisfied: pyparsing>=2.3.1 in c:\\users\\aaron\\appdata\\local\\packages\\pythonsoftwarefoundation.python.3.11_qbz5n2kfra8p0\\localcache\\local-packages\\python311\\site-packages (from matplotlib!=3.6.1,>=3.4->seaborn) (3.2.3)\n",
      "Requirement already satisfied: python-dateutil>=2.7 in c:\\users\\aaron\\appdata\\local\\packages\\pythonsoftwarefoundation.python.3.11_qbz5n2kfra8p0\\localcache\\local-packages\\python311\\site-packages (from matplotlib!=3.6.1,>=3.4->seaborn) (2.9.0.post0)\n",
      "Requirement already satisfied: pytz>=2020.1 in c:\\users\\aaron\\appdata\\local\\packages\\pythonsoftwarefoundation.python.3.11_qbz5n2kfra8p0\\localcache\\local-packages\\python311\\site-packages (from pandas>=1.2->seaborn) (2025.2)\n",
      "Requirement already satisfied: tzdata>=2022.7 in c:\\users\\aaron\\appdata\\local\\packages\\pythonsoftwarefoundation.python.3.11_qbz5n2kfra8p0\\localcache\\local-packages\\python311\\site-packages (from pandas>=1.2->seaborn) (2025.2)\n",
      "Requirement already satisfied: six>=1.5 in c:\\users\\aaron\\appdata\\local\\packages\\pythonsoftwarefoundation.python.3.11_qbz5n2kfra8p0\\localcache\\local-packages\\python311\\site-packages (from python-dateutil>=2.7->matplotlib!=3.6.1,>=3.4->seaborn) (1.17.0)\n",
      "Note: you may need to restart the kernel to use updated packages.\n"
     ]
    },
    {
     "name": "stderr",
     "output_type": "stream",
     "text": [
      "\n",
      "[notice] A new release of pip is available: 24.0 -> 25.0.1\n",
      "[notice] To update, run: C:\\Users\\aaron\\AppData\\Local\\Microsoft\\WindowsApps\\PythonSoftwareFoundation.Python.3.11_qbz5n2kfra8p0\\python.exe -m pip install --upgrade pip\n"
     ]
    },
    {
     "name": "stdout",
     "output_type": "stream",
     "text": [
      "Requirement already satisfied: seaborn in c:\\users\\aaron\\appdata\\local\\packages\\pythonsoftwarefoundation.python.3.11_qbz5n2kfra8p0\\localcache\\local-packages\\python311\\site-packages (0.13.2)\n",
      "Requirement already satisfied: matplotlib in c:\\users\\aaron\\appdata\\local\\packages\\pythonsoftwarefoundation.python.3.11_qbz5n2kfra8p0\\localcache\\local-packages\\python311\\site-packages (3.10.1)\n",
      "Requirement already satisfied: pandas in c:\\users\\aaron\\appdata\\local\\packages\\pythonsoftwarefoundation.python.3.11_qbz5n2kfra8p0\\localcache\\local-packages\\python311\\site-packages (2.2.3)\n",
      "Requirement already satisfied: numpy in c:\\users\\aaron\\appdata\\local\\packages\\pythonsoftwarefoundation.python.3.11_qbz5n2kfra8p0\\localcache\\local-packages\\python311\\site-packages (2.2.4)\n",
      "Requirement already satisfied: contourpy>=1.0.1 in c:\\users\\aaron\\appdata\\local\\packages\\pythonsoftwarefoundation.python.3.11_qbz5n2kfra8p0\\localcache\\local-packages\\python311\\site-packages (from matplotlib) (1.3.1)\n",
      "Requirement already satisfied: cycler>=0.10 in c:\\users\\aaron\\appdata\\local\\packages\\pythonsoftwarefoundation.python.3.11_qbz5n2kfra8p0\\localcache\\local-packages\\python311\\site-packages (from matplotlib) (0.12.1)\n",
      "Requirement already satisfied: fonttools>=4.22.0 in c:\\users\\aaron\\appdata\\local\\packages\\pythonsoftwarefoundation.python.3.11_qbz5n2kfra8p0\\localcache\\local-packages\\python311\\site-packages (from matplotlib) (4.57.0)\n",
      "Requirement already satisfied: kiwisolver>=1.3.1 in c:\\users\\aaron\\appdata\\local\\packages\\pythonsoftwarefoundation.python.3.11_qbz5n2kfra8p0\\localcache\\local-packages\\python311\\site-packages (from matplotlib) (1.4.8)\n",
      "Requirement already satisfied: packaging>=20.0 in c:\\users\\aaron\\appdata\\local\\packages\\pythonsoftwarefoundation.python.3.11_qbz5n2kfra8p0\\localcache\\local-packages\\python311\\site-packages (from matplotlib) (24.2)\n",
      "Requirement already satisfied: pillow>=8 in c:\\users\\aaron\\appdata\\local\\packages\\pythonsoftwarefoundation.python.3.11_qbz5n2kfra8p0\\localcache\\local-packages\\python311\\site-packages (from matplotlib) (11.1.0)\n",
      "Requirement already satisfied: pyparsing>=2.3.1 in c:\\users\\aaron\\appdata\\local\\packages\\pythonsoftwarefoundation.python.3.11_qbz5n2kfra8p0\\localcache\\local-packages\\python311\\site-packages (from matplotlib) (3.2.3)\n",
      "Requirement already satisfied: python-dateutil>=2.7 in c:\\users\\aaron\\appdata\\local\\packages\\pythonsoftwarefoundation.python.3.11_qbz5n2kfra8p0\\localcache\\local-packages\\python311\\site-packages (from matplotlib) (2.9.0.post0)\n",
      "Requirement already satisfied: pytz>=2020.1 in c:\\users\\aaron\\appdata\\local\\packages\\pythonsoftwarefoundation.python.3.11_qbz5n2kfra8p0\\localcache\\local-packages\\python311\\site-packages (from pandas) (2025.2)\n",
      "Requirement already satisfied: tzdata>=2022.7 in c:\\users\\aaron\\appdata\\local\\packages\\pythonsoftwarefoundation.python.3.11_qbz5n2kfra8p0\\localcache\\local-packages\\python311\\site-packages (from pandas) (2025.2)\n",
      "Requirement already satisfied: six>=1.5 in c:\\users\\aaron\\appdata\\local\\packages\\pythonsoftwarefoundation.python.3.11_qbz5n2kfra8p0\\localcache\\local-packages\\python311\\site-packages (from python-dateutil>=2.7->matplotlib) (1.17.0)\n",
      "Note: you may need to restart the kernel to use updated packages.\n"
     ]
    },
    {
     "name": "stderr",
     "output_type": "stream",
     "text": [
      "\n",
      "[notice] A new release of pip is available: 24.0 -> 25.0.1\n",
      "[notice] To update, run: C:\\Users\\aaron\\AppData\\Local\\Microsoft\\WindowsApps\\PythonSoftwareFoundation.Python.3.11_qbz5n2kfra8p0\\python.exe -m pip install --upgrade pip\n"
     ]
    }
   ],
   "source": [
    "%pip install pyspark\n",
    "%pip install seaborn\n",
    "%pip install seaborn matplotlib pandas numpy\n"
   ]
  },
  {
   "cell_type": "code",
   "execution_count": 134,
   "metadata": {
    "application/vnd.databricks.v1+cell": {
     "cellMetadata": {
      "byteLimit": 2048000,
      "rowLimit": 10000
     },
     "inputWidgets": {},
     "nuid": "de144ed6-9b78-43a3-9fc1-f501d3811db2",
     "showTitle": false,
     "tableResultSettingsMap": {},
     "title": ""
    },
    "id": "wza_1GzTtyur"
   },
   "outputs": [],
   "source": [
    "# imports\n",
    "from pyspark.sql import SparkSession\n",
    "from pyspark.sql import functions as F\n",
    "from pyspark.sql.functions import split, col, count, when, sum, expr, udf\n",
    "from pyspark.sql.types import FloatType, DoubleType\n",
    "from pyspark.sql.window import Window\n",
    "from pyspark.ml.clustering import KMeans\n",
    "from pyspark.ml.feature import VectorAssembler, StandardScaler\n",
    "from pyspark.ml import Pipeline\n",
    "\n",
    "import math\n",
    "import seaborn as sns\n",
    "import matplotlib.pyplot as plt\n",
    "import pandas as pd\n",
    "import numpy as np\n",
    "\n",
    "# from google.colab import files"
   ]
  },
  {
   "cell_type": "code",
   "execution_count": 135,
   "metadata": {
    "application/vnd.databricks.v1+cell": {
     "cellMetadata": {
      "byteLimit": 2048000,
      "rowLimit": 10000
     },
     "inputWidgets": {},
     "nuid": "515b6157-14c8-4c9e-a73c-5d9f995ce26c",
     "showTitle": false,
     "tableResultSettingsMap": {},
     "title": ""
    },
    "colab": {
     "base_uri": "https://localhost:8080/"
    },
    "id": "bHvifmtp9W8I",
    "outputId": "a1fd5426-fc7b-4d24-ee69-e9a5f0644a1c"
   },
   "outputs": [
    {
     "name": "stdout",
     "output_type": "stream",
     "text": [
      "Spark session created.\n"
     ]
    }
   ],
   "source": [
    "from pyspark.sql import SparkSession\n",
    "\n",
    "# Initialize Spark session\n",
    "spark = SparkSession.builder.appName(\"NetTraffic\").getOrCreate()\n",
    "print(\"Spark session created.\")"
   ]
  },
  {
   "cell_type": "code",
   "execution_count": null,
   "metadata": {
    "application/vnd.databricks.v1+cell": {
     "cellMetadata": {
      "byteLimit": 2048000,
      "rowLimit": 10000
     },
     "inputWidgets": {},
     "nuid": "2c2c47ad-ebf3-4023-a566-911247bc3ba5",
     "showTitle": false,
     "tableResultSettingsMap": {},
     "title": ""
    }
   },
   "outputs": [
    {
     "ename": "AnalysisException",
     "evalue": "[PATH_NOT_FOUND] Path does not exist: file:/C:/Users/aaron/OneDrive/Desktop/NUS/Y4S2 BZA/BT4221/maleware-detection-ml-model/CTU_IoT_Malware_Capture_35_1conn.log_labeled.csv.",
     "output_type": "error",
     "traceback": [
      "\u001b[31m---------------------------------------------------------------------------\u001b[39m",
      "\u001b[31mAnalysisException\u001b[39m                         Traceback (most recent call last)",
      "\u001b[36mCell\u001b[39m\u001b[36m \u001b[39m\u001b[32mIn[138]\u001b[39m\u001b[32m, line 5\u001b[39m\n\u001b[32m      2\u001b[39m file_path = \u001b[33mr\u001b[39m\u001b[33m\"\u001b[39m\u001b[33mC:\u001b[39m\u001b[33m\\\u001b[39m\u001b[33mUsers\u001b[39m\u001b[33m\\\u001b[39m\u001b[33maaron\u001b[39m\u001b[33m\\\u001b[39m\u001b[33mOneDrive\u001b[39m\u001b[33m\\\u001b[39m\u001b[33mDesktop\u001b[39m\u001b[33m\\\u001b[39m\u001b[33mNUS\u001b[39m\u001b[33m\\\u001b[39m\u001b[33mY4S2 BZA\u001b[39m\u001b[33m\\\u001b[39m\u001b[33mBT4221\u001b[39m\u001b[33m\\\u001b[39m\u001b[33mmaleware-detection-ml-model\u001b[39m\u001b[33m\\\u001b[39m\u001b[33mCTU_IoT_Malware_Capture_35_1conn.log_labeled.csv\u001b[39m\u001b[33m\"\u001b[39m \u001b[38;5;66;03m# change name if needed\u001b[39;00m\n\u001b[32m      4\u001b[39m \u001b[38;5;66;03m# Load the CSV into a Spark DataFrame\u001b[39;00m\n\u001b[32m----> \u001b[39m\u001b[32m5\u001b[39m df = \u001b[43mspark\u001b[49m\u001b[43m.\u001b[49m\u001b[43mread\u001b[49m\u001b[43m.\u001b[49m\u001b[43mcsv\u001b[49m\u001b[43m(\u001b[49m\u001b[43mfile_path\u001b[49m\u001b[43m,\u001b[49m\u001b[43m \u001b[49m\u001b[43mheader\u001b[49m\u001b[43m=\u001b[49m\u001b[38;5;28;43;01mTrue\u001b[39;49;00m\u001b[43m,\u001b[49m\u001b[43m \u001b[49m\u001b[43minferSchema\u001b[49m\u001b[43m=\u001b[49m\u001b[38;5;28;43;01mTrue\u001b[39;49;00m\u001b[43m,\u001b[49m\u001b[43m \u001b[49m\u001b[43msep\u001b[49m\u001b[43m=\u001b[49m\u001b[33;43m\"\u001b[39;49m\u001b[33;43m|\u001b[39;49m\u001b[33;43m\"\u001b[39;49m\u001b[43m)\u001b[49m\n",
      "\u001b[36mFile \u001b[39m\u001b[32m~\\AppData\\Local\\Packages\\PythonSoftwareFoundation.Python.3.11_qbz5n2kfra8p0\\LocalCache\\local-packages\\Python311\\site-packages\\pyspark\\sql\\readwriter.py:740\u001b[39m, in \u001b[36mDataFrameReader.csv\u001b[39m\u001b[34m(self, path, schema, sep, encoding, quote, escape, comment, header, inferSchema, ignoreLeadingWhiteSpace, ignoreTrailingWhiteSpace, nullValue, nanValue, positiveInf, negativeInf, dateFormat, timestampFormat, maxColumns, maxCharsPerColumn, maxMalformedLogPerPartition, mode, columnNameOfCorruptRecord, multiLine, charToEscapeQuoteEscaping, samplingRatio, enforceSchema, emptyValue, locale, lineSep, pathGlobFilter, recursiveFileLookup, modifiedBefore, modifiedAfter, unescapedQuoteHandling)\u001b[39m\n\u001b[32m    738\u001b[39m \u001b[38;5;28;01mif\u001b[39;00m \u001b[38;5;28mtype\u001b[39m(path) == \u001b[38;5;28mlist\u001b[39m:\n\u001b[32m    739\u001b[39m     \u001b[38;5;28;01massert\u001b[39;00m \u001b[38;5;28mself\u001b[39m._spark._sc._jvm \u001b[38;5;129;01mis\u001b[39;00m \u001b[38;5;129;01mnot\u001b[39;00m \u001b[38;5;28;01mNone\u001b[39;00m\n\u001b[32m--> \u001b[39m\u001b[32m740\u001b[39m     \u001b[38;5;28;01mreturn\u001b[39;00m \u001b[38;5;28mself\u001b[39m._df(\u001b[38;5;28;43mself\u001b[39;49m\u001b[43m.\u001b[49m\u001b[43m_jreader\u001b[49m\u001b[43m.\u001b[49m\u001b[43mcsv\u001b[49m\u001b[43m(\u001b[49m\u001b[38;5;28;43mself\u001b[39;49m\u001b[43m.\u001b[49m\u001b[43m_spark\u001b[49m\u001b[43m.\u001b[49m\u001b[43m_sc\u001b[49m\u001b[43m.\u001b[49m\u001b[43m_jvm\u001b[49m\u001b[43m.\u001b[49m\u001b[43mPythonUtils\u001b[49m\u001b[43m.\u001b[49m\u001b[43mtoSeq\u001b[49m\u001b[43m(\u001b[49m\u001b[43mpath\u001b[49m\u001b[43m)\u001b[49m\u001b[43m)\u001b[49m)\n\u001b[32m    741\u001b[39m \u001b[38;5;28;01melif\u001b[39;00m \u001b[38;5;28misinstance\u001b[39m(path, RDD):\n\u001b[32m    743\u001b[39m     \u001b[38;5;28;01mdef\u001b[39;00m\u001b[38;5;250m \u001b[39m\u001b[34mfunc\u001b[39m(iterator):\n",
      "\u001b[36mFile \u001b[39m\u001b[32m~\\AppData\\Local\\Packages\\PythonSoftwareFoundation.Python.3.11_qbz5n2kfra8p0\\LocalCache\\local-packages\\Python311\\site-packages\\py4j\\java_gateway.py:1322\u001b[39m, in \u001b[36mJavaMember.__call__\u001b[39m\u001b[34m(self, *args)\u001b[39m\n\u001b[32m   1316\u001b[39m command = proto.CALL_COMMAND_NAME +\\\n\u001b[32m   1317\u001b[39m     \u001b[38;5;28mself\u001b[39m.command_header +\\\n\u001b[32m   1318\u001b[39m     args_command +\\\n\u001b[32m   1319\u001b[39m     proto.END_COMMAND_PART\n\u001b[32m   1321\u001b[39m answer = \u001b[38;5;28mself\u001b[39m.gateway_client.send_command(command)\n\u001b[32m-> \u001b[39m\u001b[32m1322\u001b[39m return_value = \u001b[43mget_return_value\u001b[49m\u001b[43m(\u001b[49m\n\u001b[32m   1323\u001b[39m \u001b[43m    \u001b[49m\u001b[43manswer\u001b[49m\u001b[43m,\u001b[49m\u001b[43m \u001b[49m\u001b[38;5;28;43mself\u001b[39;49m\u001b[43m.\u001b[49m\u001b[43mgateway_client\u001b[49m\u001b[43m,\u001b[49m\u001b[43m \u001b[49m\u001b[38;5;28;43mself\u001b[39;49m\u001b[43m.\u001b[49m\u001b[43mtarget_id\u001b[49m\u001b[43m,\u001b[49m\u001b[43m \u001b[49m\u001b[38;5;28;43mself\u001b[39;49m\u001b[43m.\u001b[49m\u001b[43mname\u001b[49m\u001b[43m)\u001b[49m\n\u001b[32m   1325\u001b[39m \u001b[38;5;28;01mfor\u001b[39;00m temp_arg \u001b[38;5;129;01min\u001b[39;00m temp_args:\n\u001b[32m   1326\u001b[39m     \u001b[38;5;28;01mif\u001b[39;00m \u001b[38;5;28mhasattr\u001b[39m(temp_arg, \u001b[33m\"\u001b[39m\u001b[33m_detach\u001b[39m\u001b[33m\"\u001b[39m):\n",
      "\u001b[36mFile \u001b[39m\u001b[32m~\\AppData\\Local\\Packages\\PythonSoftwareFoundation.Python.3.11_qbz5n2kfra8p0\\LocalCache\\local-packages\\Python311\\site-packages\\pyspark\\errors\\exceptions\\captured.py:185\u001b[39m, in \u001b[36mcapture_sql_exception.<locals>.deco\u001b[39m\u001b[34m(*a, **kw)\u001b[39m\n\u001b[32m    181\u001b[39m converted = convert_exception(e.java_exception)\n\u001b[32m    182\u001b[39m \u001b[38;5;28;01mif\u001b[39;00m \u001b[38;5;129;01mnot\u001b[39;00m \u001b[38;5;28misinstance\u001b[39m(converted, UnknownException):\n\u001b[32m    183\u001b[39m     \u001b[38;5;66;03m# Hide where the exception came from that shows a non-Pythonic\u001b[39;00m\n\u001b[32m    184\u001b[39m     \u001b[38;5;66;03m# JVM exception message.\u001b[39;00m\n\u001b[32m--> \u001b[39m\u001b[32m185\u001b[39m     \u001b[38;5;28;01mraise\u001b[39;00m converted \u001b[38;5;28;01mfrom\u001b[39;00m\u001b[38;5;250m \u001b[39m\u001b[38;5;28;01mNone\u001b[39;00m\n\u001b[32m    186\u001b[39m \u001b[38;5;28;01melse\u001b[39;00m:\n\u001b[32m    187\u001b[39m     \u001b[38;5;28;01mraise\u001b[39;00m\n",
      "\u001b[31mAnalysisException\u001b[39m: [PATH_NOT_FOUND] Path does not exist: file:/C:/Users/aaron/OneDrive/Desktop/NUS/Y4S2 BZA/BT4221/maleware-detection-ml-model/CTU_IoT_Malware_Capture_35_1conn.log_labeled.csv."
     ]
    }
   ],
   "source": [
    "# Path to the file (same folder as notebook)\n",
    "file_path = r\"c:\\Users\\aaron\\OneDrive\\Desktop\\NUS\\Y4S2 BZA\\BT4221\\maleware-detection-ml-model\\CTU-IoT-Malware-Capture-35-1conn.log.labeled.csv\" # change name if needed\n",
    "\n",
    "# Load the CSV into a Spark DataFrame\n",
    "df = spark.read.csv(file_path, header=True, inferSchema=True, sep=\"|\")"
   ]
  },
  {
   "cell_type": "markdown",
   "metadata": {
    "application/vnd.databricks.v1+cell": {
     "cellMetadata": {},
     "inputWidgets": {},
     "nuid": "ae4cea10-5ca9-4525-9e60-8bd65021b416",
     "showTitle": false,
     "tableResultSettingsMap": {},
     "title": ""
    },
    "id": "7imKjAzND901"
   },
   "source": [
    "# Light Data Exploration"
   ]
  },
  {
   "cell_type": "markdown",
   "metadata": {
    "application/vnd.databricks.v1+cell": {
     "cellMetadata": {},
     "inputWidgets": {},
     "nuid": "8a4c36ce-3941-44cd-8111-9855ca3178f5",
     "showTitle": false,
     "tableResultSettingsMap": {},
     "title": ""
    },
    "id": "KJExQrJbDw9S"
   },
   "source": [
    "## Display first 5 rows in dataset"
   ]
  },
  {
   "cell_type": "code",
   "execution_count": null,
   "metadata": {
    "application/vnd.databricks.v1+cell": {
     "cellMetadata": {},
     "inputWidgets": {},
     "nuid": "3f94f75d-65f7-493c-bda0-bb9f42713118",
     "showTitle": false,
     "tableResultSettingsMap": {},
     "title": ""
    },
    "colab": {
     "base_uri": "https://localhost:8080/"
    },
    "collapsed": true,
    "id": "cTmZ3Gygzz4S",
    "outputId": "b967f68f-98ca-4d05-fda5-fd8dfe52cca1"
   },
   "outputs": [
    {
     "name": "stdout",
     "output_type": "stream",
     "text": [
      "+-------------------+------------------+-------------+---------+--------------+---------+-----+-------+--------+----------+----------+----------+----------+----------+------------+-------+---------+-------------+---------+-------------+--------------+---------------+--------------+\n",
      "|                 ts|               uid|    id.orig_h|id.orig_p|     id.resp_h|id.resp_p|proto|service|duration|orig_bytes|resp_bytes|conn_state|local_orig|local_resp|missed_bytes|history|orig_pkts|orig_ip_bytes|resp_pkts|resp_ip_bytes|tunnel_parents|          label|detailed-label|\n",
      "+-------------------+------------------+-------------+---------+--------------+---------+-----+-------+--------+----------+----------+----------+----------+----------+------------+-------+---------+-------------+---------+-------------+--------------+---------------+--------------+\n",
      "|1.545402842863612E9|CdNmOg26ZIaBRzPvWj|192.168.1.196|  59932.0|104.248.160.24|     80.0|  tcp|      -|3.097754|         0|         0|        S0|         -|         -|         0.0|      S|      3.0|        180.0|      0.0|          0.0|             -|Malicious   C&C|          NULL|\n",
      "|1.545402850041294E9|CgzGV333k9WCximeu8|192.168.1.196|  59932.0|104.248.160.24|     80.0|  tcp|      -|       -|         -|         -|        S0|         -|         -|         0.0|      S|      1.0|         60.0|      0.0|          0.0|             -|Malicious   C&C|          NULL|\n",
      "|1.545402858441479E9|CLm5Pd3ZnqmYVjrZ44|192.168.1.196|  59932.0|104.248.160.24|     80.0|  tcp|      -|       -|         -|         -|        S0|         -|         -|         0.0|      S|      1.0|         60.0|      0.0|          0.0|             -|Malicious   C&C|          NULL|\n",
      "|1.545402853913069E9|CDn2pd1rDD1lCMXAia|192.168.1.196|  35883.0|   192.168.1.1|     53.0|  udp|    dns|5.005148|        78|         0|        S0|         -|         -|         0.0|      D|      2.0|        134.0|      0.0|          0.0|             -|         Benign|             -|\n",
      "| 1.54540284390254E9|C1NKkV3tB4rImzbpDj|192.168.1.196|  43531.0|   192.168.1.1|     53.0|  udp|    dns|5.005145|        78|         0|        S0|         -|         -|         0.0|      D|      2.0|        134.0|      0.0|          0.0|             -|         Benign|             -|\n",
      "+-------------------+------------------+-------------+---------+--------------+---------+-----+-------+--------+----------+----------+----------+----------+----------+------------+-------+---------+-------------+---------+-------------+--------------+---------------+--------------+\n",
      "only showing top 5 rows\n",
      "\n"
     ]
    }
   ],
   "source": [
    "# print(df_split.head())\n",
    "# Show first 5 rows\n",
    "df.show(5)"
   ]
  },
  {
   "cell_type": "markdown",
   "metadata": {
    "application/vnd.databricks.v1+cell": {
     "cellMetadata": {},
     "inputWidgets": {},
     "nuid": "7ddb7214-867b-4ec8-874d-e68fa9b23691",
     "showTitle": false,
     "tableResultSettingsMap": {},
     "title": ""
    },
    "id": "LlXAE87KCnu9"
   },
   "source": [
    "## Show schema to identify column types"
   ]
  },
  {
   "cell_type": "code",
   "execution_count": null,
   "metadata": {
    "application/vnd.databricks.v1+cell": {
     "cellMetadata": {},
     "inputWidgets": {},
     "nuid": "8b6c1d18-018f-4435-8bda-b942fa85d57f",
     "showTitle": false,
     "tableResultSettingsMap": {},
     "title": ""
    },
    "colab": {
     "base_uri": "https://localhost:8080/"
    },
    "collapsed": true,
    "id": "ocADM6cYz2kk",
    "outputId": "52e67fb5-554c-4b7f-a1ba-105e697feebc"
   },
   "outputs": [
    {
     "name": "stdout",
     "output_type": "stream",
     "text": [
      "root\n",
      " |-- ts: double (nullable = true)\n",
      " |-- uid: string (nullable = true)\n",
      " |-- id.orig_h: string (nullable = true)\n",
      " |-- id.orig_p: double (nullable = true)\n",
      " |-- id.resp_h: string (nullable = true)\n",
      " |-- id.resp_p: double (nullable = true)\n",
      " |-- proto: string (nullable = true)\n",
      " |-- service: string (nullable = true)\n",
      " |-- duration: string (nullable = true)\n",
      " |-- orig_bytes: string (nullable = true)\n",
      " |-- resp_bytes: string (nullable = true)\n",
      " |-- conn_state: string (nullable = true)\n",
      " |-- local_orig: string (nullable = true)\n",
      " |-- local_resp: string (nullable = true)\n",
      " |-- missed_bytes: double (nullable = true)\n",
      " |-- history: string (nullable = true)\n",
      " |-- orig_pkts: double (nullable = true)\n",
      " |-- orig_ip_bytes: double (nullable = true)\n",
      " |-- resp_pkts: double (nullable = true)\n",
      " |-- resp_ip_bytes: double (nullable = true)\n",
      " |-- tunnel_parents: string (nullable = true)\n",
      " |-- label: string (nullable = true)\n",
      " |-- detailed-label: string (nullable = true)\n",
      "\n"
     ]
    }
   ],
   "source": [
    "df.printSchema()"
   ]
  },
  {
   "cell_type": "markdown",
   "metadata": {
    "application/vnd.databricks.v1+cell": {
     "cellMetadata": {},
     "inputWidgets": {},
     "nuid": "7e24656b-aa19-4bb9-9030-65e5d23f7caa",
     "showTitle": false,
     "tableResultSettingsMap": {},
     "title": ""
    }
   },
   "source": [
    "## Check number of rows and columns"
   ]
  },
  {
   "cell_type": "code",
   "execution_count": null,
   "metadata": {
    "application/vnd.databricks.v1+cell": {
     "cellMetadata": {},
     "inputWidgets": {},
     "nuid": "bba600aa-df94-42c2-9599-2371b84a236c",
     "showTitle": false,
     "tableResultSettingsMap": {},
     "title": ""
    }
   },
   "outputs": [
    {
     "name": "stdout",
     "output_type": "stream",
     "text": [
      "Number of rows: 10447787\n",
      "Number of columns: 23\n"
     ]
    }
   ],
   "source": [
    "num_rows = df.count()\n",
    "print(f\"Number of rows: {num_rows}\")\n",
    "num_columns = len(df.columns)\n",
    "print(f\"Number of columns: {num_columns}\")"
   ]
  },
  {
   "cell_type": "markdown",
   "metadata": {
    "application/vnd.databricks.v1+cell": {
     "cellMetadata": {},
     "inputWidgets": {},
     "nuid": "b2c493bc-4eee-4f8c-997a-7db6d3ddd96a",
     "showTitle": false,
     "tableResultSettingsMap": {},
     "title": ""
    }
   },
   "source": [
    "# Data Cleaning"
   ]
  },
  {
   "cell_type": "markdown",
   "metadata": {
    "application/vnd.databricks.v1+cell": {
     "cellMetadata": {},
     "inputWidgets": {},
     "nuid": "77968585-a0ea-4590-ae11-59c4eb3ec918",
     "showTitle": false,
     "tableResultSettingsMap": {},
     "title": ""
    },
    "id": "oE2c8Gp4RIIM"
   },
   "source": [
    "## Cast '-' to NaN change column names so that Spark will not misinterpret them"
   ]
  },
  {
   "cell_type": "code",
   "execution_count": null,
   "metadata": {
    "application/vnd.databricks.v1+cell": {
     "cellMetadata": {
      "byteLimit": 2048000,
      "rowLimit": 10000
     },
     "inputWidgets": {},
     "nuid": "09fc8c04-bd82-46c0-9316-f1a03c7f65cf",
     "showTitle": false,
     "tableResultSettingsMap": {},
     "title": ""
    },
    "colab": {
     "base_uri": "https://localhost:8080/"
    },
    "collapsed": true,
    "id": "GUlLAcOpRITz",
    "outputId": "2aa93cba-8a1e-41eb-b1fc-58f440aa63a2"
   },
   "outputs": [
    {
     "name": "stdout",
     "output_type": "stream",
     "text": [
      "+-------------------+------------------+-------------+---------+--------------+---------+-----+-------+--------+----------+----------+----------+----------+----------+------------+-------+---------+-------------+---------+-------------+--------------+---------------+--------------+\n",
      "|                 ts|               uid|    id_orig_h|id_orig_p|     id_resp_h|id_resp_p|proto|service|duration|orig_bytes|resp_bytes|conn_state|local_orig|local_resp|missed_bytes|history|orig_pkts|orig_ip_bytes|resp_pkts|resp_ip_bytes|tunnel_parents|          label|detailed-label|\n",
      "+-------------------+------------------+-------------+---------+--------------+---------+-----+-------+--------+----------+----------+----------+----------+----------+------------+-------+---------+-------------+---------+-------------+--------------+---------------+--------------+\n",
      "|1.545402842863612E9|CdNmOg26ZIaBRzPvWj|192.168.1.196|  59932.0|104.248.160.24|     80.0|  tcp|   NULL|3.097754|         0|         0|        S0|      NULL|      NULL|         0.0|      S|      3.0|        180.0|      0.0|          0.0|          NULL|Malicious   C&C|          NULL|\n",
      "|1.545402850041294E9|CgzGV333k9WCximeu8|192.168.1.196|  59932.0|104.248.160.24|     80.0|  tcp|   NULL|    NULL|      NULL|      NULL|        S0|      NULL|      NULL|         0.0|      S|      1.0|         60.0|      0.0|          0.0|          NULL|Malicious   C&C|          NULL|\n",
      "|1.545402858441479E9|CLm5Pd3ZnqmYVjrZ44|192.168.1.196|  59932.0|104.248.160.24|     80.0|  tcp|   NULL|    NULL|      NULL|      NULL|        S0|      NULL|      NULL|         0.0|      S|      1.0|         60.0|      0.0|          0.0|          NULL|Malicious   C&C|          NULL|\n",
      "|1.545402853913069E9|CDn2pd1rDD1lCMXAia|192.168.1.196|  35883.0|   192.168.1.1|     53.0|  udp|    dns|5.005148|        78|         0|        S0|      NULL|      NULL|         0.0|      D|      2.0|        134.0|      0.0|          0.0|          NULL|         Benign|          NULL|\n",
      "| 1.54540284390254E9|C1NKkV3tB4rImzbpDj|192.168.1.196|  43531.0|   192.168.1.1|     53.0|  udp|    dns|5.005145|        78|         0|        S0|      NULL|      NULL|         0.0|      D|      2.0|        134.0|      0.0|          0.0|          NULL|         Benign|          NULL|\n",
      "+-------------------+------------------+-------------+---------+--------------+---------+-----+-------+--------+----------+----------+----------+----------+----------+------------+-------+---------+-------------+---------+-------------+--------------+---------------+--------------+\n",
      "only showing top 5 rows\n",
      "\n"
     ]
    }
   ],
   "source": [
    "from pyspark.sql.functions import col, when\n",
    "\n",
    "for column in df.columns:\n",
    "    df = df.withColumn(column, when(col(f\"`{column}`\") == \"-\", None).otherwise(col(f\"`{column}`\")))\n",
    "\n",
    "# Rename columns to replace dots with underscores\n",
    "new_column_names = [c.replace(\".\", \"_\") for c in df.columns]\n",
    "df = df.toDF(*new_column_names)\n",
    "\n",
    "# Check\n",
    "df.show(5)"
   ]
  },
  {
   "cell_type": "markdown",
   "metadata": {
    "application/vnd.databricks.v1+cell": {
     "cellMetadata": {},
     "inputWidgets": {},
     "nuid": "d3c757cd-2df2-495e-8119-3bb5ffc9e795",
     "showTitle": false,
     "tableResultSettingsMap": {},
     "title": ""
    }
   },
   "source": [
    "## Dealing with missing values"
   ]
  },
  {
   "cell_type": "code",
   "execution_count": null,
   "metadata": {
    "application/vnd.databricks.v1+cell": {
     "cellMetadata": {
      "byteLimit": 2048000,
      "rowLimit": 10000
     },
     "inputWidgets": {},
     "nuid": "392bb792-a111-49fd-8d9b-aefe9e058da6",
     "showTitle": false,
     "tableResultSettingsMap": {},
     "title": ""
    }
   },
   "outputs": [
    {
     "data": {
      "text/html": [
       "<div>\n",
       "<style scoped>\n",
       "    .dataframe tbody tr th:only-of-type {\n",
       "        vertical-align: middle;\n",
       "    }\n",
       "\n",
       "    .dataframe tbody tr th {\n",
       "        vertical-align: top;\n",
       "    }\n",
       "\n",
       "    .dataframe thead th {\n",
       "        text-align: right;\n",
       "    }\n",
       "</style>\n",
       "<table border=\"1\" class=\"dataframe\">\n",
       "  <thead>\n",
       "    <tr style=\"text-align: right;\">\n",
       "      <th></th>\n",
       "      <th>Count</th>\n",
       "    </tr>\n",
       "  </thead>\n",
       "  <tbody>\n",
       "    <tr>\n",
       "      <th>ts</th>\n",
       "      <td>0</td>\n",
       "    </tr>\n",
       "    <tr>\n",
       "      <th>uid</th>\n",
       "      <td>0</td>\n",
       "    </tr>\n",
       "    <tr>\n",
       "      <th>id_orig_h</th>\n",
       "      <td>0</td>\n",
       "    </tr>\n",
       "    <tr>\n",
       "      <th>id_orig_p</th>\n",
       "      <td>0</td>\n",
       "    </tr>\n",
       "    <tr>\n",
       "      <th>id_resp_h</th>\n",
       "      <td>0</td>\n",
       "    </tr>\n",
       "    <tr>\n",
       "      <th>id_resp_p</th>\n",
       "      <td>0</td>\n",
       "    </tr>\n",
       "    <tr>\n",
       "      <th>proto</th>\n",
       "      <td>0</td>\n",
       "    </tr>\n",
       "    <tr>\n",
       "      <th>service</th>\n",
       "      <td>10446261</td>\n",
       "    </tr>\n",
       "    <tr>\n",
       "      <th>duration</th>\n",
       "      <td>4432615</td>\n",
       "    </tr>\n",
       "    <tr>\n",
       "      <th>orig_bytes</th>\n",
       "      <td>4432615</td>\n",
       "    </tr>\n",
       "    <tr>\n",
       "      <th>resp_bytes</th>\n",
       "      <td>4432615</td>\n",
       "    </tr>\n",
       "    <tr>\n",
       "      <th>conn_state</th>\n",
       "      <td>0</td>\n",
       "    </tr>\n",
       "    <tr>\n",
       "      <th>local_orig</th>\n",
       "      <td>10447787</td>\n",
       "    </tr>\n",
       "    <tr>\n",
       "      <th>local_resp</th>\n",
       "      <td>10447787</td>\n",
       "    </tr>\n",
       "    <tr>\n",
       "      <th>missed_bytes</th>\n",
       "      <td>0</td>\n",
       "    </tr>\n",
       "    <tr>\n",
       "      <th>history</th>\n",
       "      <td>1638</td>\n",
       "    </tr>\n",
       "    <tr>\n",
       "      <th>orig_pkts</th>\n",
       "      <td>0</td>\n",
       "    </tr>\n",
       "    <tr>\n",
       "      <th>orig_ip_bytes</th>\n",
       "      <td>0</td>\n",
       "    </tr>\n",
       "    <tr>\n",
       "      <th>resp_pkts</th>\n",
       "      <td>0</td>\n",
       "    </tr>\n",
       "    <tr>\n",
       "      <th>resp_ip_bytes</th>\n",
       "      <td>0</td>\n",
       "    </tr>\n",
       "    <tr>\n",
       "      <th>tunnel_parents</th>\n",
       "      <td>10447787</td>\n",
       "    </tr>\n",
       "    <tr>\n",
       "      <th>label</th>\n",
       "      <td>0</td>\n",
       "    </tr>\n",
       "    <tr>\n",
       "      <th>detailed-label</th>\n",
       "      <td>10447775</td>\n",
       "    </tr>\n",
       "  </tbody>\n",
       "</table>\n",
       "</div>"
      ],
      "text/plain": [
       "                   Count\n",
       "ts                     0\n",
       "uid                    0\n",
       "id_orig_h              0\n",
       "id_orig_p              0\n",
       "id_resp_h              0\n",
       "id_resp_p              0\n",
       "proto                  0\n",
       "service         10446261\n",
       "duration         4432615\n",
       "orig_bytes       4432615\n",
       "resp_bytes       4432615\n",
       "conn_state             0\n",
       "local_orig      10447787\n",
       "local_resp      10447787\n",
       "missed_bytes           0\n",
       "history             1638\n",
       "orig_pkts              0\n",
       "orig_ip_bytes          0\n",
       "resp_pkts              0\n",
       "resp_ip_bytes          0\n",
       "tunnel_parents  10447787\n",
       "label                  0\n",
       "detailed-label  10447775"
      ]
     },
     "metadata": {},
     "output_type": "display_data"
    }
   ],
   "source": [
    "from pyspark.sql.functions import col, sum as spark_sum\n",
    "\n",
    "null_values = (\n",
    "    df.select([\n",
    "        spark_sum(col(c).isNull().cast(\"int\")).alias(c)\n",
    "        for c in df.columns\n",
    "    ])\n",
    "    .toPandas()\n",
    "    .T.rename(columns={0: \"Count\"})\n",
    ")\n",
    "\n",
    "display(null_values)"
   ]
  },
  {
   "cell_type": "markdown",
   "metadata": {
    "application/vnd.databricks.v1+cell": {
     "cellMetadata": {},
     "inputWidgets": {},
     "nuid": "9e38f694-c9ff-461c-908f-ddc86cf30e2f",
     "showTitle": false,
     "tableResultSettingsMap": {},
     "title": ""
    }
   },
   "source": [
    "Since duration, orig_bytes, resp_bytes all have same number of null values (4432615), very likely they are from the same few rows. All three columns are critical for modelling so it is best to drop the rows containing null values in those fields.\n",
    "\n",
    "Others like service, local_orig, local_resp, tunnel_parents amd detailed_label all have more than 10446261 out of 10447787 null values. These will not help our model and will just bloat memory, so we can drop these columns."
   ]
  },
  {
   "cell_type": "code",
   "execution_count": null,
   "metadata": {
    "application/vnd.databricks.v1+cell": {
     "cellMetadata": {
      "byteLimit": 2048000,
      "rowLimit": 10000
     },
     "inputWidgets": {},
     "nuid": "73748ea0-cadd-4e1c-b9d5-7e7dff1857e5",
     "showTitle": false,
     "tableResultSettingsMap": {},
     "title": ""
    }
   },
   "outputs": [
    {
     "data": {
      "text/html": [
       "<div>\n",
       "<style scoped>\n",
       "    .dataframe tbody tr th:only-of-type {\n",
       "        vertical-align: middle;\n",
       "    }\n",
       "\n",
       "    .dataframe tbody tr th {\n",
       "        vertical-align: top;\n",
       "    }\n",
       "\n",
       "    .dataframe thead th {\n",
       "        text-align: right;\n",
       "    }\n",
       "</style>\n",
       "<table border=\"1\" class=\"dataframe\">\n",
       "  <thead>\n",
       "    <tr style=\"text-align: right;\">\n",
       "      <th></th>\n",
       "      <th>Count</th>\n",
       "    </tr>\n",
       "  </thead>\n",
       "  <tbody>\n",
       "    <tr>\n",
       "      <th>ts</th>\n",
       "      <td>0</td>\n",
       "    </tr>\n",
       "    <tr>\n",
       "      <th>uid</th>\n",
       "      <td>0</td>\n",
       "    </tr>\n",
       "    <tr>\n",
       "      <th>id_orig_h</th>\n",
       "      <td>0</td>\n",
       "    </tr>\n",
       "    <tr>\n",
       "      <th>id_orig_p</th>\n",
       "      <td>0</td>\n",
       "    </tr>\n",
       "    <tr>\n",
       "      <th>id_resp_h</th>\n",
       "      <td>0</td>\n",
       "    </tr>\n",
       "    <tr>\n",
       "      <th>id_resp_p</th>\n",
       "      <td>0</td>\n",
       "    </tr>\n",
       "    <tr>\n",
       "      <th>proto</th>\n",
       "      <td>0</td>\n",
       "    </tr>\n",
       "    <tr>\n",
       "      <th>duration</th>\n",
       "      <td>0</td>\n",
       "    </tr>\n",
       "    <tr>\n",
       "      <th>orig_bytes</th>\n",
       "      <td>0</td>\n",
       "    </tr>\n",
       "    <tr>\n",
       "      <th>resp_bytes</th>\n",
       "      <td>0</td>\n",
       "    </tr>\n",
       "    <tr>\n",
       "      <th>conn_state</th>\n",
       "      <td>0</td>\n",
       "    </tr>\n",
       "    <tr>\n",
       "      <th>missed_bytes</th>\n",
       "      <td>0</td>\n",
       "    </tr>\n",
       "    <tr>\n",
       "      <th>history</th>\n",
       "      <td>22</td>\n",
       "    </tr>\n",
       "    <tr>\n",
       "      <th>orig_pkts</th>\n",
       "      <td>0</td>\n",
       "    </tr>\n",
       "    <tr>\n",
       "      <th>orig_ip_bytes</th>\n",
       "      <td>0</td>\n",
       "    </tr>\n",
       "    <tr>\n",
       "      <th>resp_pkts</th>\n",
       "      <td>0</td>\n",
       "    </tr>\n",
       "    <tr>\n",
       "      <th>resp_ip_bytes</th>\n",
       "      <td>0</td>\n",
       "    </tr>\n",
       "    <tr>\n",
       "      <th>label</th>\n",
       "      <td>0</td>\n",
       "    </tr>\n",
       "  </tbody>\n",
       "</table>\n",
       "</div>"
      ],
      "text/plain": [
       "               Count\n",
       "ts                 0\n",
       "uid                0\n",
       "id_orig_h          0\n",
       "id_orig_p          0\n",
       "id_resp_h          0\n",
       "id_resp_p          0\n",
       "proto              0\n",
       "duration           0\n",
       "orig_bytes         0\n",
       "resp_bytes         0\n",
       "conn_state         0\n",
       "missed_bytes       0\n",
       "history           22\n",
       "orig_pkts          0\n",
       "orig_ip_bytes      0\n",
       "resp_pkts          0\n",
       "resp_ip_bytes      0\n",
       "label              0"
      ]
     },
     "metadata": {},
     "output_type": "display_data"
    }
   ],
   "source": [
    "from pyspark.sql.functions import when, col\n",
    "\n",
    "# Columns you care about\n",
    "columns_to_clean = ['duration', 'orig_bytes', 'resp_bytes']\n",
    "\n",
    "# Replace \"NULL\" or \"null\" strings with actual nulls (None)\n",
    "for c in columns_to_clean:\n",
    "    df = df.withColumn(c, when((col(c) == \"NULL\") | (col(c) == \"null\"), None).otherwise(col(c)))\n",
    "\n",
    "# Now drop rows where any of these are null\n",
    "df = df.dropna(subset=columns_to_clean)\n",
    "\n",
    "from pyspark.sql.functions import col, sum as spark_sum\n",
    "\n",
    "# now drop columns with largely null values\n",
    "columns_to_drop = [\"service\", \"local_orig\", \"local_resp\", \"tunnel_parents\", \"detailed-label\"]\n",
    "df = df.drop(*columns_to_drop)\n",
    "\n",
    "\n",
    "null_values = (\n",
    "    df.select([\n",
    "        spark_sum(col(c).isNull().cast(\"int\")).alias(c)\n",
    "        for c in df.columns\n",
    "    ])\n",
    "    .toPandas()\n",
    "    .T.rename(columns={0: \"Count\"})\n",
    ")\n",
    "\n",
    "display(null_values)"
   ]
  },
  {
   "cell_type": "markdown",
   "metadata": {
    "application/vnd.databricks.v1+cell": {
     "cellMetadata": {},
     "inputWidgets": {},
     "nuid": "1eabe3f2-28c3-4935-83a1-ad17f6179db7",
     "showTitle": false,
     "tableResultSettingsMap": {},
     "title": ""
    }
   },
   "source": [
    "They are indeed from the same few rows. now there are 0 NULL count for duration, orig_bytes and resp_bytes."
   ]
  },
  {
   "cell_type": "markdown",
   "metadata": {
    "application/vnd.databricks.v1+cell": {
     "cellMetadata": {},
     "inputWidgets": {},
     "nuid": "5b88fafb-8a2a-4d36-a787-55667751abd1",
     "showTitle": false,
     "tableResultSettingsMap": {},
     "title": ""
    }
   },
   "source": [
    "## check number of rows and colums after dropping rows with null values"
   ]
  },
  {
   "cell_type": "code",
   "execution_count": null,
   "metadata": {
    "application/vnd.databricks.v1+cell": {
     "cellMetadata": {},
     "inputWidgets": {},
     "nuid": "b88860d4-4e27-43db-8ff9-c46b035996dc",
     "showTitle": false,
     "tableResultSettingsMap": {},
     "title": ""
    }
   },
   "outputs": [
    {
     "name": "stdout",
     "output_type": "stream",
     "text": [
      "Number of rows: 6015172\n",
      "Number of columns: 18\n"
     ]
    }
   ],
   "source": [
    "num_rows = df.count()\n",
    "print(f\"Number of rows: {num_rows}\")\n",
    "num_columns = len(df.columns)\n",
    "print(f\"Number of columns: {num_columns}\")"
   ]
  },
  {
   "cell_type": "markdown",
   "metadata": {
    "application/vnd.databricks.v1+cell": {
     "cellMetadata": {},
     "inputWidgets": {},
     "nuid": "9b5ce9f0-2bcd-4588-91fd-5743f2b57b32",
     "showTitle": false,
     "tableResultSettingsMap": {},
     "title": ""
    }
   },
   "source": [
    "# Deeper Data Exploration"
   ]
  },
  {
   "cell_type": "markdown",
   "metadata": {
    "application/vnd.databricks.v1+cell": {
     "cellMetadata": {},
     "inputWidgets": {},
     "nuid": "d6a3c340-5822-4a60-871b-96bf60295c04",
     "showTitle": false,
     "tableResultSettingsMap": {},
     "title": ""
    },
    "id": "talBuE4C5QnW"
   },
   "source": [
    "## Checking for Distribution of Target Variable\n"
   ]
  },
  {
   "cell_type": "code",
   "execution_count": null,
   "metadata": {
    "application/vnd.databricks.v1+cell": {
     "cellMetadata": {
      "byteLimit": 2048000,
      "rowLimit": 10000
     },
     "inputWidgets": {},
     "nuid": "7f4155f5-801d-4398-adca-2c2837796586",
     "showTitle": false,
     "tableResultSettingsMap": {},
     "title": ""
    },
    "id": "dnJM_1MM5ZA-"
   },
   "outputs": [
    {
     "name": "stdout",
     "output_type": "stream",
     "text": [
      "+----------------+-------+\n",
      "|           label|  count|\n",
      "+----------------+-------+\n",
      "|          Benign|4108340|\n",
      "|Malicious   DDoS|1906796|\n",
      "+----------------+-------+\n",
      "\n"
     ]
    }
   ],
   "source": [
    "# DROPPING ROWS WITH VERY LOW FREQUENCY --------------------------------\n",
    "df = df.filter(~col(\"label\").isin(\"Malicious   Attack\", \"Malicious   C&C\"))\n",
    "\n",
    "# Register DataFrame as a SQL table\n",
    "df.createOrReplaceTempView(\"malware_data\")\n",
    "\n",
    "# Define SQL Query to count the number of rows with 0 and 1 in the target variable\n",
    "query = \"\"\"\n",
    "SELECT\n",
    "    label,\n",
    "    COUNT(*) AS count\n",
    "FROM\n",
    "    malware_data\n",
    "GROUP BY\n",
    "    label\n",
    "\"\"\"\n",
    "\n",
    "# Run the SQL query\n",
    "result = spark.sql(query)\n",
    "result.show()"
   ]
  },
  {
   "cell_type": "markdown",
   "metadata": {
    "application/vnd.databricks.v1+cell": {
     "cellMetadata": {},
     "inputWidgets": {},
     "nuid": "cb14e088-859b-4999-81c2-3413aa8d155b",
     "showTitle": false,
     "tableResultSettingsMap": {},
     "title": ""
    },
    "id": "ctcKSB-xd2Vm"
   },
   "source": [
    "Roughly 2:1 ratio, mildly imbalanced."
   ]
  },
  {
   "cell_type": "markdown",
   "metadata": {},
   "source": [
    "## Performing Stratified Undersampling of majority benign class"
   ]
  },
  {
   "cell_type": "code",
   "execution_count": null,
   "metadata": {},
   "outputs": [],
   "source": [
    "# Split the data set according to the target variable\n",
    "malware_df = df.filter(col(\"label\") == \"Malicious   DDoS\")\n",
    "benign_df = df.filter(col(\"label\") == \"Benign\")\n",
    "\n",
    "benign_strata_counts = benign_df.groupBy(\"conn_state\").count().collect()\n",
    "\n",
    "target_total = 2000000\n",
    "total_benign = benign_df.count()\n",
    "\n",
    "# Turn list of Rows into a Python dict for easier access\n",
    "stratum_counts = {row['conn_state']: row['count'] for row in benign_strata_counts}\n",
    "\n",
    "# Calculate sampling fraction per category\n",
    "sampling_fractions = {\n",
    "    k: (count / total_benign) * target_total / count\n",
    "    for k, count in stratum_counts.items()\n",
    "}\n",
    "\n",
    "# Sample the data set according to the calculated sampling fractions\n",
    "sampled_benign_df = benign_df.sampleBy(\"conn_state\", fractions=sampling_fractions, seed=42)\n",
    "\n",
    "# Union the sampled benign data with the malware data and create a new DataFrame\n",
    "final_balanced_df = sampled_benign_df.union(malware_df)\n",
    "df = final_balanced_df\n",
    " \n",
    "# ---------------------------------------------------------Show distribution of new undersampled data set -------------------------------------\n",
    "\n",
    "# Register DataFrame as a SQL table\n",
    "df.createOrReplaceTempView(\"malware_data\")\n",
    "\n",
    "# Define SQL Query to count the number of rows with 0 and 1 in the target variable\n",
    "sampled_query = \"\"\"\n",
    "SELECT\n",
    "    label,\n",
    "    COUNT(*) AS count\n",
    "FROM\n",
    "    malware_data\n",
    "GROUP BY\n",
    "    label\n",
    "\"\"\"\n",
    "\n",
    "# Run the SQL query\n",
    "result = spark.sql(sampled_query)\n",
    "result.show()"
   ]
  },
  {
   "cell_type": "markdown",
   "metadata": {
    "application/vnd.databricks.v1+cell": {
     "cellMetadata": {},
     "inputWidgets": {},
     "nuid": "bb5d53bf-5112-4cdd-8339-cb7bd7d7d6db",
     "showTitle": false,
     "tableResultSettingsMap": {},
     "title": ""
    },
    "id": "p6wuYZ0OJzfC"
   },
   "source": [
    "## Summary statistics for numeric columns"
   ]
  },
  {
   "cell_type": "code",
   "execution_count": null,
   "metadata": {
    "application/vnd.databricks.v1+cell": {
     "cellMetadata": {
      "byteLimit": 2048000,
      "rowLimit": 10000
     },
     "inputWidgets": {},
     "nuid": "36322be7-16e8-466e-8b59-e64f350208a5",
     "showTitle": false,
     "tableResultSettingsMap": {},
     "title": ""
    },
    "id": "7fx_4-ySJ3-b"
   },
   "outputs": [
    {
     "data": {
      "text/html": [
       "<div>\n",
       "<style scoped>\n",
       "    .dataframe tbody tr th:only-of-type {\n",
       "        vertical-align: middle;\n",
       "    }\n",
       "\n",
       "    .dataframe tbody tr th {\n",
       "        vertical-align: top;\n",
       "    }\n",
       "\n",
       "    .dataframe thead th {\n",
       "        text-align: right;\n",
       "    }\n",
       "</style>\n",
       "<table border=\"1\" class=\"dataframe\">\n",
       "  <thead>\n",
       "    <tr style=\"text-align: right;\">\n",
       "      <th>summary</th>\n",
       "      <th>count</th>\n",
       "      <th>mean</th>\n",
       "      <th>stddev</th>\n",
       "      <th>min</th>\n",
       "      <th>25%</th>\n",
       "      <th>50%</th>\n",
       "      <th>75%</th>\n",
       "      <th>max</th>\n",
       "    </tr>\n",
       "  </thead>\n",
       "  <tbody>\n",
       "    <tr>\n",
       "      <th>duration</th>\n",
       "      <td>6015136</td>\n",
       "      <td>4.223807251961909</td>\n",
       "      <td>9.869124951743224</td>\n",
       "      <td>2.0E-6</td>\n",
       "      <td>3.097743</td>\n",
       "      <td>3.126737</td>\n",
       "      <td>3.155214</td>\n",
       "      <td>582.169</td>\n",
       "    </tr>\n",
       "    <tr>\n",
       "      <th>orig_bytes</th>\n",
       "      <td>6015136</td>\n",
       "      <td>3.560142356189428E8</td>\n",
       "      <td>3.4677027595545945E9</td>\n",
       "      <td>0.0</td>\n",
       "      <td>0.0</td>\n",
       "      <td>0.0</td>\n",
       "      <td>0.0</td>\n",
       "      <td>6.6205577E10</td>\n",
       "    </tr>\n",
       "    <tr>\n",
       "      <th>resp_bytes</th>\n",
       "      <td>6015136</td>\n",
       "      <td>5591.376293902582</td>\n",
       "      <td>1.2956937373334207E7</td>\n",
       "      <td>0.0</td>\n",
       "      <td>0.0</td>\n",
       "      <td>0.0</td>\n",
       "      <td>0.0</td>\n",
       "      <td>3.1720511E10</td>\n",
       "    </tr>\n",
       "    <tr>\n",
       "      <th>missed_bytes</th>\n",
       "      <td>6015136</td>\n",
       "      <td>317.3408574635719</td>\n",
       "      <td>778291.2134145766</td>\n",
       "      <td>0.0</td>\n",
       "      <td>0.0</td>\n",
       "      <td>0.0</td>\n",
       "      <td>0.0</td>\n",
       "      <td>1.9088195E9</td>\n",
       "    </tr>\n",
       "    <tr>\n",
       "      <th>orig_pkts</th>\n",
       "      <td>6015136</td>\n",
       "      <td>6.343712261867396</td>\n",
       "      <td>3000.962278839347</td>\n",
       "      <td>0.0</td>\n",
       "      <td>3.0</td>\n",
       "      <td>3.0</td>\n",
       "      <td>3.0</td>\n",
       "      <td>4027345.0</td>\n",
       "    </tr>\n",
       "    <tr>\n",
       "      <th>orig_ip_bytes</th>\n",
       "      <td>6015136</td>\n",
       "      <td>271.38145455065353</td>\n",
       "      <td>84027.25369643723</td>\n",
       "      <td>0.0</td>\n",
       "      <td>180.0</td>\n",
       "      <td>180.0</td>\n",
       "      <td>180.0</td>\n",
       "      <td>1.1276566E8</td>\n",
       "    </tr>\n",
       "    <tr>\n",
       "      <th>resp_pkts</th>\n",
       "      <td>6015136</td>\n",
       "      <td>0.001142285062216382</td>\n",
       "      <td>0.3421853741378539</td>\n",
       "      <td>0.0</td>\n",
       "      <td>0.0</td>\n",
       "      <td>0.0</td>\n",
       "      <td>0.0</td>\n",
       "      <td>279.0</td>\n",
       "    </tr>\n",
       "    <tr>\n",
       "      <th>resp_ip_bytes</th>\n",
       "      <td>6015136</td>\n",
       "      <td>0.6466432346666808</td>\n",
       "      <td>494.15738364626117</td>\n",
       "      <td>0.0</td>\n",
       "      <td>0.0</td>\n",
       "      <td>0.0</td>\n",
       "      <td>0.0</td>\n",
       "      <td>413488.0</td>\n",
       "    </tr>\n",
       "  </tbody>\n",
       "</table>\n",
       "</div>"
      ],
      "text/plain": [
       "summary          count                  mean                stddev     min  \\\n",
       "duration       6015136     4.223807251961909     9.869124951743224  2.0E-6   \n",
       "orig_bytes     6015136   3.560142356189428E8  3.4677027595545945E9     0.0   \n",
       "resp_bytes     6015136     5591.376293902582  1.2956937373334207E7     0.0   \n",
       "missed_bytes   6015136     317.3408574635719     778291.2134145766     0.0   \n",
       "orig_pkts      6015136     6.343712261867396     3000.962278839347     0.0   \n",
       "orig_ip_bytes  6015136    271.38145455065353     84027.25369643723     0.0   \n",
       "resp_pkts      6015136  0.001142285062216382    0.3421853741378539     0.0   \n",
       "resp_ip_bytes  6015136    0.6466432346666808    494.15738364626117     0.0   \n",
       "\n",
       "summary             25%       50%       75%           max  \n",
       "duration       3.097743  3.126737  3.155214       582.169  \n",
       "orig_bytes          0.0       0.0       0.0  6.6205577E10  \n",
       "resp_bytes          0.0       0.0       0.0  3.1720511E10  \n",
       "missed_bytes        0.0       0.0       0.0   1.9088195E9  \n",
       "orig_pkts           3.0       3.0       3.0     4027345.0  \n",
       "orig_ip_bytes     180.0     180.0     180.0   1.1276566E8  \n",
       "resp_pkts           0.0       0.0       0.0         279.0  \n",
       "resp_ip_bytes       0.0       0.0       0.0      413488.0  "
      ]
     },
     "metadata": {},
     "output_type": "display_data"
    }
   ],
   "source": [
    "# convert numerical columns\n",
    "cols_to_convert = [\n",
    "    \"duration\", \"orig_bytes\", \"resp_bytes\",\n",
    "    \"missed_bytes\", \"orig_pkts\", \"orig_ip_bytes\", \"resp_pkts\", \"resp_ip_bytes\"\n",
    "]\n",
    "\n",
    "# Convert to FloatType\n",
    "for column in cols_to_convert:\n",
    "    df = df.withColumn(column, col(column).cast(FloatType()))\n",
    "\n",
    "# Descriptive stats with Pandas for nicer formatting\n",
    "desc_stats = df.select(cols_to_convert).summary().toPandas()\n",
    "desc_stats_pd = desc_stats.set_index('summary').rename_axis(None, axis=1).T\n",
    "display(desc_stats_pd)"
   ]
  },
  {
   "cell_type": "markdown",
   "metadata": {
    "application/vnd.databricks.v1+cell": {
     "cellMetadata": {},
     "inputWidgets": {},
     "nuid": "2f425b27-bfb5-4918-8322-8b4b63b6ffe1",
     "showTitle": false,
     "tableResultSettingsMap": {},
     "title": ""
    }
   },
   "source": [
    "## Boxplots for numerical variables"
   ]
  },
  {
   "cell_type": "code",
   "execution_count": null,
   "metadata": {
    "application/vnd.databricks.v1+cell": {
     "cellMetadata": {},
     "inputWidgets": {},
     "nuid": "e7b951d2-a171-431f-a381-31849f969465",
     "showTitle": false,
     "tableResultSettingsMap": {},
     "title": ""
    }
   },
   "outputs": [
    {
     "data": {
      "image/png": "[encoded data removed]",
      "text/plain": [
       "<Figure size 2500x800 with 8 Axes>"
      ]
     },
     "metadata": {},
     "output_type": "display_data"
    }
   ],
   "source": [
    "import seaborn as sns\n",
    "import matplotlib.pyplot as plt\n",
    "\n",
    "# Use your actual numeric variables (but check for existence)\n",
    "all_numeric_cols = [\n",
    "    \"duration\", \"orig_bytes\", \"resp_bytes\",\n",
    "    \"missed_bytes\", \"orig_pkts\", \"orig_ip_bytes\", \"resp_pkts\", \"resp_ip_bytes\"\n",
    "]\n",
    "\n",
    "# Filter only columns that exist in df\n",
    "numeric_cols = [col_name for col_name in all_numeric_cols if col_name in df.columns]\n",
    "\n",
    "# Optional: handle nulls before collecting (replace with 0 or drop rows)\n",
    "from pyspark.sql.functions import when, isnan\n",
    "\n",
    "for col_name in numeric_cols:\n",
    "    df = df.withColumn(col_name, when(\n",
    "        (col(col_name).isNull()) | (isnan(col(col_name))), 0\n",
    "    ).otherwise(col(col_name)))\n",
    "\n",
    "# Sample to avoid memory issues (optional)\n",
    "df_sample = df.select(numeric_cols).sample(False, 0.5, seed=42)\n",
    "\n",
    "# Convert to pandas for plotting\n",
    "df_pandas = df_sample.toPandas()\n",
    "\n",
    "# Plot boxplots\n",
    "num_cols = 5\n",
    "num_vars = len(numeric_cols)\n",
    "num_rows = (num_vars + num_cols - 1) // num_cols\n",
    "\n",
    "fig, axes = plt.subplots(num_rows, num_cols, figsize=(5 * num_cols, 4 * num_rows))\n",
    "axes = axes.flatten()\n",
    "\n",
    "for i, col_name in enumerate(numeric_cols):\n",
    "    sns.boxplot(x=df_pandas[col_name], ax=axes[i], color='skyblue')\n",
    "    axes[i].set_title(col_name)\n",
    "    axes[i].set_xlabel(\"\")  # cleaner look\n",
    "\n",
    "# Remove empty plots\n",
    "for i in range(num_vars, len(axes)):\n",
    "    fig.delaxes(axes[i])\n",
    "\n",
    "plt.tight_layout()\n",
    "plt.show()\n"
   ]
  },
  {
   "cell_type": "markdown",
   "metadata": {
    "application/vnd.databricks.v1+cell": {
     "cellMetadata": {},
     "inputWidgets": {},
     "nuid": "b116220a-d9ac-4de7-8a04-27fe3cdf881c",
     "showTitle": false,
     "tableResultSettingsMap": {},
     "title": ""
    },
    "id": "x1Tp_JOOtNht"
   },
   "source": [
    "## Categorical Value Distibution"
   ]
  },
  {
   "cell_type": "code",
   "execution_count": null,
   "metadata": {
    "application/vnd.databricks.v1+cell": {
     "cellMetadata": {},
     "inputWidgets": {},
     "nuid": "cf9a65e7-1b59-4f98-9bcf-9aba2a00925f",
     "showTitle": false,
     "tableResultSettingsMap": {},
     "title": ""
    },
    "colab": {
     "base_uri": "https://localhost:8080/",
     "height": 1000
    },
    "collapsed": true,
    "id": "rVdzZqH_tQor",
    "outputId": "5ed9247b-a7d6-4d64-d5ff-d35fe708b9ad"
   },
   "outputs": [
    {
     "name": "stdout",
     "output_type": "stream",
     "text": [
      "=== proto Value Counts ===\n"
     ]
    },
    {
     "data": {
      "text/html": [
       "<div>\n",
       "<style scoped>\n",
       "    .dataframe tbody tr th:only-of-type {\n",
       "        vertical-align: middle;\n",
       "    }\n",
       "\n",
       "    .dataframe tbody tr th {\n",
       "        vertical-align: top;\n",
       "    }\n",
       "\n",
       "    .dataframe thead th {\n",
       "        text-align: right;\n",
       "    }\n",
       "</style>\n",
       "<table border=\"1\" class=\"dataframe\">\n",
       "  <thead>\n",
       "    <tr style=\"text-align: right;\">\n",
       "      <th></th>\n",
       "      <th>proto</th>\n",
       "      <th>count</th>\n",
       "    </tr>\n",
       "  </thead>\n",
       "  <tbody>\n",
       "    <tr>\n",
       "      <th>0</th>\n",
       "      <td>tcp</td>\n",
       "      <td>6013370</td>\n",
       "    </tr>\n",
       "    <tr>\n",
       "      <th>1</th>\n",
       "      <td>udp</td>\n",
       "      <td>1744</td>\n",
       "    </tr>\n",
       "    <tr>\n",
       "      <th>2</th>\n",
       "      <td>icmp</td>\n",
       "      <td>22</td>\n",
       "    </tr>\n",
       "  </tbody>\n",
       "</table>\n",
       "</div>"
      ],
      "text/plain": [
       "  proto    count\n",
       "0   tcp  6013370\n",
       "1   udp     1744\n",
       "2  icmp       22"
      ]
     },
     "metadata": {},
     "output_type": "display_data"
    },
    {
     "name": "stdout",
     "output_type": "stream",
     "text": [
      "=== conn_state Value Counts ===\n"
     ]
    },
    {
     "data": {
      "text/html": [
       "<div>\n",
       "<style scoped>\n",
       "    .dataframe tbody tr th:only-of-type {\n",
       "        vertical-align: middle;\n",
       "    }\n",
       "\n",
       "    .dataframe tbody tr th {\n",
       "        vertical-align: top;\n",
       "    }\n",
       "\n",
       "    .dataframe thead th {\n",
       "        text-align: right;\n",
       "    }\n",
       "</style>\n",
       "<table border=\"1\" class=\"dataframe\">\n",
       "  <thead>\n",
       "    <tr style=\"text-align: right;\">\n",
       "      <th></th>\n",
       "      <th>conn_state</th>\n",
       "      <th>count</th>\n",
       "    </tr>\n",
       "  </thead>\n",
       "  <tbody>\n",
       "    <tr>\n",
       "      <th>0</th>\n",
       "      <td>S0</td>\n",
       "      <td>4105575</td>\n",
       "    </tr>\n",
       "    <tr>\n",
       "      <th>1</th>\n",
       "      <td>RSTOS0</td>\n",
       "      <td>1841173</td>\n",
       "    </tr>\n",
       "    <tr>\n",
       "      <th>2</th>\n",
       "      <td>OTH</td>\n",
       "      <td>65558</td>\n",
       "    </tr>\n",
       "    <tr>\n",
       "      <th>3</th>\n",
       "      <td>REJ</td>\n",
       "      <td>1949</td>\n",
       "    </tr>\n",
       "    <tr>\n",
       "      <th>4</th>\n",
       "      <td>SF</td>\n",
       "      <td>736</td>\n",
       "    </tr>\n",
       "    <tr>\n",
       "      <th>5</th>\n",
       "      <td>RSTO</td>\n",
       "      <td>51</td>\n",
       "    </tr>\n",
       "    <tr>\n",
       "      <th>6</th>\n",
       "      <td>RSTR</td>\n",
       "      <td>46</td>\n",
       "    </tr>\n",
       "    <tr>\n",
       "      <th>7</th>\n",
       "      <td>S2</td>\n",
       "      <td>26</td>\n",
       "    </tr>\n",
       "    <tr>\n",
       "      <th>8</th>\n",
       "      <td>S1</td>\n",
       "      <td>18</td>\n",
       "    </tr>\n",
       "    <tr>\n",
       "      <th>9</th>\n",
       "      <td>SH</td>\n",
       "      <td>2</td>\n",
       "    </tr>\n",
       "    <tr>\n",
       "      <th>10</th>\n",
       "      <td>RSTRH</td>\n",
       "      <td>1</td>\n",
       "    </tr>\n",
       "    <tr>\n",
       "      <th>11</th>\n",
       "      <td>S3</td>\n",
       "      <td>1</td>\n",
       "    </tr>\n",
       "  </tbody>\n",
       "</table>\n",
       "</div>"
      ],
      "text/plain": [
       "   conn_state    count\n",
       "0          S0  4105575\n",
       "1      RSTOS0  1841173\n",
       "2         OTH    65558\n",
       "3         REJ     1949\n",
       "4          SF      736\n",
       "5        RSTO       51\n",
       "6        RSTR       46\n",
       "7          S2       26\n",
       "8          S1       18\n",
       "9          SH        2\n",
       "10      RSTRH        1\n",
       "11         S3        1"
      ]
     },
     "metadata": {},
     "output_type": "display_data"
    },
    {
     "name": "stdout",
     "output_type": "stream",
     "text": [
      "=== history Value Counts ===\n"
     ]
    },
    {
     "data": {
      "text/html": [
       "<div>\n",
       "<style scoped>\n",
       "    .dataframe tbody tr th:only-of-type {\n",
       "        vertical-align: middle;\n",
       "    }\n",
       "\n",
       "    .dataframe tbody tr th {\n",
       "        vertical-align: top;\n",
       "    }\n",
       "\n",
       "    .dataframe thead th {\n",
       "        text-align: right;\n",
       "    }\n",
       "</style>\n",
       "<table border=\"1\" class=\"dataframe\">\n",
       "  <thead>\n",
       "    <tr style=\"text-align: right;\">\n",
       "      <th></th>\n",
       "      <th>history</th>\n",
       "      <th>count</th>\n",
       "    </tr>\n",
       "  </thead>\n",
       "  <tbody>\n",
       "    <tr>\n",
       "      <th>0</th>\n",
       "      <td>S</td>\n",
       "      <td>4104490</td>\n",
       "    </tr>\n",
       "    <tr>\n",
       "      <th>1</th>\n",
       "      <td>I</td>\n",
       "      <td>1841162</td>\n",
       "    </tr>\n",
       "    <tr>\n",
       "      <th>2</th>\n",
       "      <td>DTT</td>\n",
       "      <td>65534</td>\n",
       "    </tr>\n",
       "    <tr>\n",
       "      <th>3</th>\n",
       "      <td>Sr</td>\n",
       "      <td>1948</td>\n",
       "    </tr>\n",
       "    <tr>\n",
       "      <th>4</th>\n",
       "      <td>D</td>\n",
       "      <td>1085</td>\n",
       "    </tr>\n",
       "    <tr>\n",
       "      <th>5</th>\n",
       "      <td>Dd</td>\n",
       "      <td>659</td>\n",
       "    </tr>\n",
       "    <tr>\n",
       "      <th>6</th>\n",
       "      <td>ShAr</td>\n",
       "      <td>27</td>\n",
       "    </tr>\n",
       "    <tr>\n",
       "      <th>7</th>\n",
       "      <td>ShAF</td>\n",
       "      <td>26</td>\n",
       "    </tr>\n",
       "    <tr>\n",
       "      <th>8</th>\n",
       "      <td>ShAdDaR</td>\n",
       "      <td>24</td>\n",
       "    </tr>\n",
       "    <tr>\n",
       "      <th>9</th>\n",
       "      <td>None</td>\n",
       "      <td>22</td>\n",
       "    </tr>\n",
       "    <tr>\n",
       "      <th>10</th>\n",
       "      <td>ShAfFa</td>\n",
       "      <td>20</td>\n",
       "    </tr>\n",
       "    <tr>\n",
       "      <th>11</th>\n",
       "      <td>ShAdDaTR</td>\n",
       "      <td>19</td>\n",
       "    </tr>\n",
       "    <tr>\n",
       "      <th>12</th>\n",
       "      <td>ShwA</td>\n",
       "      <td>16</td>\n",
       "    </tr>\n",
       "    <tr>\n",
       "      <th>13</th>\n",
       "      <td>ShADdfFa</td>\n",
       "      <td>13</td>\n",
       "    </tr>\n",
       "    <tr>\n",
       "      <th>14</th>\n",
       "      <td>SI</td>\n",
       "      <td>10</td>\n",
       "    </tr>\n",
       "    <tr>\n",
       "      <th>15</th>\n",
       "      <td>ShADdattFfR</td>\n",
       "      <td>8</td>\n",
       "    </tr>\n",
       "    <tr>\n",
       "      <th>16</th>\n",
       "      <td>ShAfF</td>\n",
       "      <td>6</td>\n",
       "    </tr>\n",
       "    <tr>\n",
       "      <th>17</th>\n",
       "      <td>ShwAr</td>\n",
       "      <td>6</td>\n",
       "    </tr>\n",
       "    <tr>\n",
       "      <th>18</th>\n",
       "      <td>ShAdfFa</td>\n",
       "      <td>5</td>\n",
       "    </tr>\n",
       "    <tr>\n",
       "      <th>19</th>\n",
       "      <td>ShADadFf</td>\n",
       "      <td>5</td>\n",
       "    </tr>\n",
       "    <tr>\n",
       "      <th>20</th>\n",
       "      <td>ShADdfF</td>\n",
       "      <td>4</td>\n",
       "    </tr>\n",
       "    <tr>\n",
       "      <th>21</th>\n",
       "      <td>ShAdDafr</td>\n",
       "      <td>3</td>\n",
       "    </tr>\n",
       "    <tr>\n",
       "      <th>22</th>\n",
       "      <td>ShAdfr</td>\n",
       "      <td>3</td>\n",
       "    </tr>\n",
       "    <tr>\n",
       "      <th>23</th>\n",
       "      <td>ShAdDafF</td>\n",
       "      <td>3</td>\n",
       "    </tr>\n",
       "    <tr>\n",
       "      <th>24</th>\n",
       "      <td>ShAaw</td>\n",
       "      <td>2</td>\n",
       "    </tr>\n",
       "    <tr>\n",
       "      <th>25</th>\n",
       "      <td>ShAdDaTFf</td>\n",
       "      <td>2</td>\n",
       "    </tr>\n",
       "    <tr>\n",
       "      <th>26</th>\n",
       "      <td>ShAdDaTfF</td>\n",
       "      <td>2</td>\n",
       "    </tr>\n",
       "    <tr>\n",
       "      <th>27</th>\n",
       "      <td>ShAdaDR</td>\n",
       "      <td>2</td>\n",
       "    </tr>\n",
       "    <tr>\n",
       "      <th>28</th>\n",
       "      <td>DdAaFf</td>\n",
       "      <td>1</td>\n",
       "    </tr>\n",
       "    <tr>\n",
       "      <th>29</th>\n",
       "      <td>ShAdDaTFR</td>\n",
       "      <td>1</td>\n",
       "    </tr>\n",
       "    <tr>\n",
       "      <th>30</th>\n",
       "      <td>ShAdfDF</td>\n",
       "      <td>1</td>\n",
       "    </tr>\n",
       "    <tr>\n",
       "      <th>31</th>\n",
       "      <td>ShAdDar</td>\n",
       "      <td>1</td>\n",
       "    </tr>\n",
       "    <tr>\n",
       "      <th>32</th>\n",
       "      <td>ShAdDaRr</td>\n",
       "      <td>1</td>\n",
       "    </tr>\n",
       "    <tr>\n",
       "      <th>33</th>\n",
       "      <td>Fa</td>\n",
       "      <td>1</td>\n",
       "    </tr>\n",
       "    <tr>\n",
       "      <th>34</th>\n",
       "      <td>ShAdDaFf</td>\n",
       "      <td>1</td>\n",
       "    </tr>\n",
       "    <tr>\n",
       "      <th>35</th>\n",
       "      <td>ShAdDaTfRr</td>\n",
       "      <td>1</td>\n",
       "    </tr>\n",
       "    <tr>\n",
       "      <th>36</th>\n",
       "      <td>SaR</td>\n",
       "      <td>1</td>\n",
       "    </tr>\n",
       "    <tr>\n",
       "      <th>37</th>\n",
       "      <td>ShAdfDr</td>\n",
       "      <td>1</td>\n",
       "    </tr>\n",
       "    <tr>\n",
       "      <th>38</th>\n",
       "      <td>ShAdDafR</td>\n",
       "      <td>1</td>\n",
       "    </tr>\n",
       "    <tr>\n",
       "      <th>39</th>\n",
       "      <td>ShAdDaTRft</td>\n",
       "      <td>1</td>\n",
       "    </tr>\n",
       "    <tr>\n",
       "      <th>40</th>\n",
       "      <td>^dtt</td>\n",
       "      <td>1</td>\n",
       "    </tr>\n",
       "    <tr>\n",
       "      <th>41</th>\n",
       "      <td>ShAdr</td>\n",
       "      <td>1</td>\n",
       "    </tr>\n",
       "    <tr>\n",
       "      <th>42</th>\n",
       "      <td>DT</td>\n",
       "      <td>1</td>\n",
       "    </tr>\n",
       "    <tr>\n",
       "      <th>43</th>\n",
       "      <td>DrF</td>\n",
       "      <td>1</td>\n",
       "    </tr>\n",
       "    <tr>\n",
       "      <th>44</th>\n",
       "      <td>ShAdtfFa</td>\n",
       "      <td>1</td>\n",
       "    </tr>\n",
       "    <tr>\n",
       "      <th>45</th>\n",
       "      <td>DFr</td>\n",
       "      <td>1</td>\n",
       "    </tr>\n",
       "    <tr>\n",
       "      <th>46</th>\n",
       "      <td>ShAdfF</td>\n",
       "      <td>1</td>\n",
       "    </tr>\n",
       "    <tr>\n",
       "      <th>47</th>\n",
       "      <td>ShADdtatFfR</td>\n",
       "      <td>1</td>\n",
       "    </tr>\n",
       "    <tr>\n",
       "      <th>48</th>\n",
       "      <td>F</td>\n",
       "      <td>1</td>\n",
       "    </tr>\n",
       "    <tr>\n",
       "      <th>49</th>\n",
       "      <td>ShAdDaFRR</td>\n",
       "      <td>1</td>\n",
       "    </tr>\n",
       "    <tr>\n",
       "      <th>50</th>\n",
       "      <td>Dr</td>\n",
       "      <td>1</td>\n",
       "    </tr>\n",
       "    <tr>\n",
       "      <th>51</th>\n",
       "      <td>ShADdFaf</td>\n",
       "      <td>1</td>\n",
       "    </tr>\n",
       "    <tr>\n",
       "      <th>52</th>\n",
       "      <td>ShADdf</td>\n",
       "      <td>1</td>\n",
       "    </tr>\n",
       "    <tr>\n",
       "      <th>53</th>\n",
       "      <td>ShAdDaRRR</td>\n",
       "      <td>1</td>\n",
       "    </tr>\n",
       "    <tr>\n",
       "      <th>54</th>\n",
       "      <td>ShAfdtF</td>\n",
       "      <td>1</td>\n",
       "    </tr>\n",
       "    <tr>\n",
       "      <th>55</th>\n",
       "      <td>ShADdFf</td>\n",
       "      <td>1</td>\n",
       "    </tr>\n",
       "    <tr>\n",
       "      <th>56</th>\n",
       "      <td>ShAdDaTRf</td>\n",
       "      <td>1</td>\n",
       "    </tr>\n",
       "    <tr>\n",
       "      <th>57</th>\n",
       "      <td>HaDdAr</td>\n",
       "      <td>1</td>\n",
       "    </tr>\n",
       "  </tbody>\n",
       "</table>\n",
       "</div>"
      ],
      "text/plain": [
       "        history    count\n",
       "0             S  4104490\n",
       "1             I  1841162\n",
       "2           DTT    65534\n",
       "3            Sr     1948\n",
       "4             D     1085\n",
       "5            Dd      659\n",
       "6          ShAr       27\n",
       "7          ShAF       26\n",
       "8       ShAdDaR       24\n",
       "9          None       22\n",
       "10       ShAfFa       20\n",
       "11     ShAdDaTR       19\n",
       "12         ShwA       16\n",
       "13     ShADdfFa       13\n",
       "14           SI       10\n",
       "15  ShADdattFfR        8\n",
       "16        ShAfF        6\n",
       "17        ShwAr        6\n",
       "18      ShAdfFa        5\n",
       "19     ShADadFf        5\n",
       "20      ShADdfF        4\n",
       "21     ShAdDafr        3\n",
       "22       ShAdfr        3\n",
       "23     ShAdDafF        3\n",
       "24        ShAaw        2\n",
       "25    ShAdDaTFf        2\n",
       "26    ShAdDaTfF        2\n",
       "27      ShAdaDR        2\n",
       "28       DdAaFf        1\n",
       "29    ShAdDaTFR        1\n",
       "30      ShAdfDF        1\n",
       "31      ShAdDar        1\n",
       "32     ShAdDaRr        1\n",
       "33           Fa        1\n",
       "34     ShAdDaFf        1\n",
       "35   ShAdDaTfRr        1\n",
       "36          SaR        1\n",
       "37      ShAdfDr        1\n",
       "38     ShAdDafR        1\n",
       "39   ShAdDaTRft        1\n",
       "40         ^dtt        1\n",
       "41        ShAdr        1\n",
       "42           DT        1\n",
       "43          DrF        1\n",
       "44     ShAdtfFa        1\n",
       "45          DFr        1\n",
       "46       ShAdfF        1\n",
       "47  ShADdtatFfR        1\n",
       "48            F        1\n",
       "49    ShAdDaFRR        1\n",
       "50           Dr        1\n",
       "51     ShADdFaf        1\n",
       "52       ShADdf        1\n",
       "53    ShAdDaRRR        1\n",
       "54      ShAfdtF        1\n",
       "55      ShADdFf        1\n",
       "56    ShAdDaTRf        1\n",
       "57       HaDdAr        1"
      ]
     },
     "metadata": {},
     "output_type": "display_data"
    }
   ],
   "source": [
    "categorical_cols = [\"proto\", \"conn_state\", \"history\"]\n",
    "\n",
    "for col in categorical_cols:\n",
    "    count_df = df.groupBy(col).count().orderBy(\"count\", ascending=False).toPandas()\n",
    "    print(f\"=== {col} Value Counts ===\")\n",
    "    display(count_df)\n"
   ]
  },
  {
   "cell_type": "code",
   "execution_count": null,
   "metadata": {
    "application/vnd.databricks.v1+cell": {
     "cellMetadata": {},
     "inputWidgets": {},
     "nuid": "4da3c72b-6391-45a1-98d5-3cb1510ba5e4",
     "showTitle": false,
     "tableResultSettingsMap": {},
     "title": ""
    }
   },
   "outputs": [
    {
     "name": "stdout",
     "output_type": "stream",
     "text": [
      "Cardinality of id_orig_h: 28\n",
      "Cardinality of id_orig_p: 65536\n",
      "Cardinality of id_resp_h: 4098966\n",
      "Cardinality of id_resp_p: 16\n"
     ]
    }
   ],
   "source": [
    "from pyspark.sql.functions import countDistinct\n",
    "\n",
    "# Count distinct values for each column\n",
    "cardinality = df.select(\n",
    "    countDistinct(\"id_orig_h\").alias(\"id_orig_h_cardinality\"),\n",
    "    countDistinct(\"id_orig_p\").alias(\"id_orig_p_cardinality\"),\n",
    "    countDistinct(\"id_resp_h\").alias(\"id_resp_h_cardinality\"),\n",
    "    countDistinct(\"id_resp_p\").alias(\"id_resp_p_cardinality\")\n",
    ").collect()[0]\n",
    "\n",
    "# Print the cardinality of each column\n",
    "print(f\"Cardinality of id_orig_h: {cardinality['id_orig_h_cardinality']}\")\n",
    "print(f\"Cardinality of id_orig_p: {cardinality['id_orig_p_cardinality']}\")\n",
    "print(f\"Cardinality of id_resp_h: {cardinality['id_resp_h_cardinality']}\")\n",
    "print(f\"Cardinality of id_resp_p: {cardinality['id_resp_p_cardinality']}\")"
   ]
  },
  {
   "cell_type": "markdown",
   "metadata": {
    "application/vnd.databricks.v1+cell": {
     "cellMetadata": {},
     "inputWidgets": {},
     "nuid": "a21cd5f4-9510-4c68-acbb-a3387701c63e",
     "showTitle": false,
     "tableResultSettingsMap": {},
     "title": ""
    }
   },
   "source": [
    "id_orig_h has low cardinality -> 28, so likely represent small number of internal source IPs (devices on your network)\n",
    "\n",
    "id_resp_p has low cardinality -> 16 destination ports, likely standard ones like 80, 443, 22. tells you what kind of service was accessed. "
   ]
  },
  {
   "cell_type": "markdown",
   "metadata": {
    "application/vnd.databricks.v1+cell": {
     "cellMetadata": {},
     "inputWidgets": {},
     "nuid": "c71a9ece-4a57-444f-af6f-37706f28e5f7",
     "showTitle": false,
     "tableResultSettingsMap": {},
     "title": ""
    },
    "id": "KL647mftDNjA"
   },
   "source": [
    "## Correlation matrix for numeric columns"
   ]
  },
  {
   "cell_type": "code",
   "execution_count": null,
   "metadata": {
    "application/vnd.databricks.v1+cell": {
     "cellMetadata": {
      "byteLimit": 2048000,
      "rowLimit": 10000
     },
     "inputWidgets": {},
     "nuid": "e8bbb42f-7bc5-4351-9660-3ecf4402f4b3",
     "showTitle": false,
     "tableResultSettingsMap": {},
     "title": ""
    },
    "colab": {
     "base_uri": "https://localhost:8080/",
     "height": 626
    },
    "collapsed": true,
    "id": "xtFeK3cX01Ul",
    "outputId": "bbcc9cf8-d740-477f-c64e-896f48d08fc7"
   },
   "outputs": [
    {
     "data": {
      "image/png": "[encoded data removed]",
      "text/plain": [
       "<Figure size 1200x600 with 2 Axes>"
      ]
     },
     "metadata": {},
     "output_type": "display_data"
    }
   ],
   "source": [
    "from pyspark.sql.types import FloatType, DoubleType\n",
    "\n",
    "# Define numeric features to keep (excluding ID-like columns)\n",
    "numeric_cols = [\n",
    "    \"duration\", \"orig_bytes\", \"resp_bytes\",\n",
    "    \"missed_bytes\", \"orig_pkts\", \"orig_ip_bytes\", \"resp_pkts\", \"resp_ip_bytes\"\n",
    "]\n",
    "\n",
    "# Convert PySpark DataFrame to pandas DataFrame for correlation calculation\n",
    "pandas_df = df.select(numeric_cols).toPandas()\n",
    "\n",
    "# Plot correlation heatmap\n",
    "plt.figure(figsize=(12, 6))\n",
    "sns.heatmap(pandas_df.corr(), annot=True, cmap=\"coolwarm\", fmt=\".2f\")\n",
    "plt.title(\"Correlation Between Numeric Features\")\n",
    "plt.show()"
   ]
  },
  {
   "cell_type": "markdown",
   "metadata": {
    "application/vnd.databricks.v1+cell": {
     "cellMetadata": {},
     "inputWidgets": {},
     "nuid": "be979fe0-cd7f-4fb7-9c67-1d4907a41948",
     "showTitle": false,
     "tableResultSettingsMap": {},
     "title": ""
    },
    "id": "tM7tDTvfVa7T"
   },
   "source": [
    "From the correlation matrix, it can be seen that:\n",
    "1. Strong Positive Correlation (Close to 1.0)\n",
    "  - `resp_bytes` and `resp_ip_bytes` are similarly strongly correlated (0.98). This could also mean one of the columns might be redundant.\n",
    "  - `duration` and `resp_pkts` are also strongly correlated (0.95). This makes sense as longer durations correlate with more response packets, indicating sustained communication during the duration.\n",
    "2. Weak/Negligible Correlations (Close to 0):\n",
    "  - Port numbers (`id.orig_p`, `id.resp_p`) have near-zero correlations with other features suggesting that ports do not directly influence traffic metrics (e.g. duration, bytes). This is expected as ports are identifiers, not quantitative measures.\n",
    "  - Except for its strong positive correlation to `resp_ip_bytes`, `resp_bytes` and most other features have weak/negligible correlations (0.00-0.21) possibly indicating isolated response behaviors."
   ]
  },
  {
   "cell_type": "code",
   "execution_count": null,
   "metadata": {},
   "outputs": [
    {
     "ename": "NameError",
     "evalue": "name 'stp' is not defined",
     "output_type": "error",
     "traceback": [
      "\u001b[31m---------------------------------------------------------------------------\u001b[39m",
      "\u001b[31mNameError\u001b[39m                                 Traceback (most recent call last)",
      "\u001b[36mCell\u001b[39m\u001b[36m \u001b[39m\u001b[32mIn[80]\u001b[39m\u001b[32m, line 1\u001b[39m\n\u001b[32m----> \u001b[39m\u001b[32m1\u001b[39m \u001b[43mstp\u001b[49m\n",
      "\u001b[31mNameError\u001b[39m: name 'stp' is not defined"
     ]
    }
   ],
   "source": [
    "stp"
   ]
  },
  {
   "cell_type": "markdown",
   "metadata": {
    "application/vnd.databricks.v1+cell": {
     "cellMetadata": {},
     "inputWidgets": {},
     "nuid": "e679d16b-d2ae-4b5d-8b54-13ad7ac23e53",
     "showTitle": false,
     "tableResultSettingsMap": {},
     "title": ""
    },
    "id": "xvu7dhOjFPyJ"
   },
   "source": [
    "## Mutual Information Scoring"
   ]
  },
  {
   "cell_type": "code",
   "execution_count": 0,
   "metadata": {
    "application/vnd.databricks.v1+cell": {
     "cellMetadata": {},
     "inputWidgets": {},
     "nuid": "f5b621ee-90d2-44ae-9022-daaeda200935",
     "showTitle": false,
     "tableResultSettingsMap": {},
     "title": ""
    },
    "colab": {
     "base_uri": "https://localhost:8080/"
    },
    "collapsed": true,
    "id": "1wRa5nMjUwBX",
    "outputId": "df3e051a-ae0a-4079-ed24-153fae89a2a6"
   },
   "outputs": [
    {
     "name": "stdout",
     "output_type": "stream",
     "text": [
      "MI for ts: 0.0007\n",
      "MI for uid: 0.0282\n",
      "MI for id_orig_h: 0.0072\n",
      "MI for id_orig_p: 0.0025\n",
      "MI for id_resp_h: 0.0278\n",
      "MI for id_resp_p: 0.0016\n",
      "MI for proto: 0.0116\n",
      "MI for duration: 0.0039\n",
      "MI for orig_bytes: 0.0024\n",
      "MI for resp_bytes: 0.0004\n",
      "MI for conn_state: 0.0230\n",
      "MI for history: 0.0176\n",
      "MI for orig_pkts: 0.0010\n",
      "MI for orig_ip_bytes: 0.0017\n",
      "MI for resp_pkts: 0.0023\n",
      "MI for resp_ip_bytes: 0.0023\n",
      "MI for detailed-label: 0.0056\n",
      "\n",
      "=== Features sorted by Mutual Information ===\n",
      "uid: 0.0282\n",
      "id_resp_h: 0.0278\n",
      "conn_state: 0.0230\n",
      "history: 0.0176\n",
      "proto: 0.0116\n",
      "id_orig_h: 0.0072\n",
      "detailed-label: 0.0056\n",
      "duration: 0.0039\n",
      "id_orig_p: 0.0025\n",
      "orig_bytes: 0.0024\n",
      "resp_pkts: 0.0023\n",
      "resp_ip_bytes: 0.0023\n",
      "orig_ip_bytes: 0.0017\n",
      "id_resp_p: 0.0016\n",
      "orig_pkts: 0.0010\n",
      "ts: 0.0007\n",
      "resp_bytes: 0.0004\n"
     ]
    }
   ],
   "source": [
    "# Discretise numerical features\n",
    "numeric_cols = [col_name for col_name, dtype in df.dtypes if dtype in ['int', 'double', 'float']]\n",
    "\n",
    "# compute mutual info\n",
    "def compute_mutual_info(df, feature_col, target_col=\"label\", n_bins=5):\n",
    "    # 5 quantile based bins per numerical col\n",
    "    if feature_col in numeric_cols:\n",
    "        df = df.withColumn(\n",
    "            f\"{feature_col}_bin\",\n",
    "            F.ntile(n_bins).over(Window.orderBy(feature_col)))\n",
    "        feature_col = f\"{feature_col}_bin\"\n",
    "\n",
    "    # Compute joint probability P(X,Y)\n",
    "    joint_prob = (\n",
    "        df.groupBy(feature_col, target_col)\n",
    "        .agg(F.count(\"*\").alias(\"count\"))\n",
    "        .withColumn(\"p_xy\", F.col(\"count\") / df.count())\n",
    "    )\n",
    "\n",
    "    # Compute marginal probabilities P(X) and P(Y)\n",
    "    p_x = joint_prob.groupBy(feature_col).agg(F.sum(\"p_xy\").alias(\"p_x\"))\n",
    "    p_y = joint_prob.groupBy(target_col).agg(F.sum(\"p_xy\").alias(\"p_y\"))\n",
    "\n",
    "    # Calculate MI terms: p_xy * log2(p_xy / (p_x * p_y))\n",
    "    mi_terms = (\n",
    "        joint_prob.join(p_x, feature_col)\n",
    "        .join(p_y, target_col)\n",
    "        .withColumn(\n",
    "            \"mi_term\",\n",
    "            F.col(\"p_xy\") * F.log2(F.col(\"p_xy\") / (F.col(\"p_x\") * F.col(\"p_y\")))\n",
    "        )\n",
    "    )\n",
    "\n",
    "    # Sum MI terms to get final score\n",
    "    mi = mi_terms.agg(F.sum(\"mi_term\").alias(\"mi\")).collect()[0][\"mi\"]\n",
    "    return float(mi) if mi else 0.0\n",
    "\n",
    "# Compute MI for all features\n",
    "df_mis = df.select(\"*\")\n",
    "mi_results = {}\n",
    "\n",
    "for feature in df_mis.columns:  # Combine all features\n",
    "    if feature == \"label\":\n",
    "        continue\n",
    "    mi_score = compute_mutual_info(df_mis, feature)\n",
    "    mi_results[feature] = mi_score\n",
    "    print(f\"MI for {feature}: {mi_score:.4f}\")\n",
    "\n",
    "# Sort the MI and display results\n",
    "sorted_mi_results = sorted(mi_results.items(), key=lambda x: x[1], reverse=True)\n",
    "print(\"\\n=== Features sorted by Mutual Information ===\")\n",
    "for feature, mi_score in sorted_mi_results:\n",
    "    print(f\"{feature}: {mi_score:.4f}\")"
   ]
  },
  {
   "cell_type": "markdown",
   "metadata": {
    "application/vnd.databricks.v1+cell": {
     "cellMetadata": {},
     "inputWidgets": {},
     "nuid": "4b457bb5-cdd3-4a27-ac54-5b61dd405b9d",
     "showTitle": false,
     "tableResultSettingsMap": {},
     "title": ""
    },
    "id": "vXRzg0OfdxU1"
   },
   "source": [
    "**Interpretation of Mutual Information (MI) Scoring:**\n",
    "\n",
    "MI scoring is a measure of how much information one variable (feature) provides about another (target variable, in this case, `label`). It helps identify which features are most relevant for predicting the target, where a higher MI score means the feature is more informative for the prediction and should be prioritised for model training.\n",
    "\n",
    "From the results:\n",
    "The top 5 informative features are\n",
    "1. `id_resp_h` (0.901)\n",
    "2. `uid` (0.901)\n",
    "3. `history` (0.901)\n",
    "4. `conn_state` (0.901)\n",
    "5. `id_resp_p` (0.640)\n",
    "\n",
    "On the other hand, the features with low/zero MI score are `proto` (0.0002) and `id_orig_h` (0.000) which have very low MI and may have a negligible effect on prediction.\n",
    "\n",
    "**Data Leakage Issue** - to edit\n",
    "\n",
    "While `uid` has a high MI score, it could suggest that the `uid` is leaking information about the `label` as `uid` is supposed to be a unique identifier for the connection. Since it is unique per row, it has zero predictive power on new data and cannot be generalised onto new samples. This could cause the model to perform extremely well on training data but fail on unseen data."
   ]
  },
  {
   "cell_type": "markdown",
   "metadata": {
    "application/vnd.databricks.v1+cell": {
     "cellMetadata": {},
     "inputWidgets": {},
     "nuid": "d1a3f879-afbf-4ad8-9db6-d45561fc102d",
     "showTitle": false,
     "tableResultSettingsMap": {},
     "title": ""
    },
    "id": "-LwH82mRclPZ"
   },
   "source": [
    "# Feature Engineering"
   ]
  },
  {
   "cell_type": "markdown",
   "metadata": {
    "application/vnd.databricks.v1+cell": {
     "cellMetadata": {},
     "inputWidgets": {},
     "nuid": "9cec1cac-d7bf-4d31-bd7a-e8d6465b772b",
     "showTitle": false,
     "tableResultSettingsMap": {},
     "title": ""
    },
    "id": "rTUT3pONMZ4x"
   },
   "source": [
    "## Engineering new Meaningful Features"
   ]
  },
  {
   "cell_type": "code",
   "execution_count": null,
   "metadata": {
    "application/vnd.databricks.v1+cell": {
     "cellMetadata": {
      "byteLimit": 2048000,
      "rowLimit": 10000
     },
     "inputWidgets": {},
     "nuid": "d51361c8-45f9-44dd-8c68-3ba4b9e29aff",
     "showTitle": false,
     "tableResultSettingsMap": {},
     "title": ""
    },
    "id": "G5RsBjD0cn3k"
   },
   "outputs": [
    {
     "name": "stdout",
     "output_type": "stream",
     "text": [
      "+-----------+------------------+---------+----------+------------------+----------+\n",
      "|total_bytes|        byte_ratio|pkt_ratio|total_pkts|        throughput|efficiency|\n",
      "+-----------+------------------+---------+----------+------------------+----------+\n",
      "|       78.0|              78.0|      2.0|       2.0|15.583951852215545|      26.0|\n",
      "|       78.0|              78.0|      2.0|       2.0|15.583960760256039|      26.0|\n",
      "|       78.0|              78.0|      2.0|       2.0|15.583948882870978|      26.0|\n",
      "|       96.0|0.9795918367346939|      0.5|       2.0|  668.295643928812|      32.0|\n",
      "|       96.0|0.9795918367346939|      0.5|       2.0| 21419.00987527598|      32.0|\n",
      "+-----------+------------------+---------+----------+------------------+----------+\n",
      "only showing top 5 rows\n",
      "\n"
     ]
    }
   ],
   "source": [
    "from pyspark.sql.functions import col, when, lit, log1p\n",
    "\n",
    "# Total Bytes\n",
    "df = df.withColumn(\"total_bytes\", col(\"orig_bytes\") + col(\"resp_bytes\"))\n",
    "\n",
    "# Byte Ratio (orig_bytes / (resp_bytes + 1))\n",
    "df = df.withColumn(\"byte_ratio\", col(\"orig_bytes\") / (col(\"resp_bytes\") + lit(1)))\n",
    "\n",
    "# Packet Ratio (orig_pkts / (resp_pkts + 1))\n",
    "df = df.withColumn(\"pkt_ratio\", col(\"orig_pkts\") / (col(\"resp_pkts\") + lit(1)))\n",
    "\n",
    "# Total Packet Count\n",
    "df = df.withColumn(\"total_pkts\", col(\"orig_pkts\") + col(\"resp_pkts\"))\n",
    "\n",
    "# Throughput = total_bytes / (duration + 1e-6)\n",
    "df = df.withColumn(\"throughput\", col(\"total_bytes\") / (col(\"duration\") + lit(1e-6)))\n",
    "\n",
    "# Data-to-packet efficiency\n",
    "df = df.withColumn(\"efficiency\", col(\"total_bytes\") / (col(\"total_pkts\") + lit(1)))\n",
    "\n",
    "df.select(\"total_bytes\", \"byte_ratio\", \"pkt_ratio\", \"total_pkts\", \"throughput\", \"efficiency\").show(5)\n"
   ]
  },
  {
   "cell_type": "markdown",
   "metadata": {
    "application/vnd.databricks.v1+cell": {
     "cellMetadata": {},
     "inputWidgets": {},
     "nuid": "81273552-2de1-494c-aef7-33ace3c97695",
     "showTitle": false,
     "tableResultSettingsMap": {},
     "title": ""
    },
    "id": "HpbaXcxPLdjk"
   },
   "source": [
    "## Encoding of Categorical Variables:"
   ]
  },
  {
   "cell_type": "markdown",
   "metadata": {
    "application/vnd.databricks.v1+cell": {
     "cellMetadata": {},
     "inputWidgets": {},
     "nuid": "f8eb3cd3-a280-45db-ac7b-3117917e8209",
     "showTitle": false,
     "tableResultSettingsMap": {},
     "title": ""
    }
   },
   "source": [
    "Categorical varaiables included are History, proto, conn_state, and id_resp_p. From data exploration, cardinality of each of them are 61, 3, 11, 16 respectively.\n",
    "\n",
    "History has high cardinality so need to do frequency encoding.\n",
    "Others have relative low cardinality so one-hot encoding is feasible."
   ]
  },
  {
   "cell_type": "code",
   "execution_count": null,
   "metadata": {
    "application/vnd.databricks.v1+cell": {
     "cellMetadata": {
      "byteLimit": 2048000,
      "rowLimit": 10000
     },
     "inputWidgets": {},
     "nuid": "7917b181-51e3-437c-bdfd-46cdc5f3a531",
     "showTitle": false,
     "tableResultSettingsMap": {},
     "title": ""
    },
    "id": "84nGnJXTLpDp"
   },
   "outputs": [
    {
     "name": "stdout",
     "output_type": "stream",
     "text": [
      "+-------+--------------------+\n",
      "|history|history_freq_encoded|\n",
      "+-------+--------------------+\n",
      "| DdAaFf|                   1|\n",
      "|      D|                1085|\n",
      "|      D|                1085|\n",
      "|      D|                1085|\n",
      "|      D|                1085|\n",
      "|      D|                1085|\n",
      "|      D|                1085|\n",
      "|      D|                1085|\n",
      "|      D|                1085|\n",
      "|      D|                1085|\n",
      "|      D|                1085|\n",
      "|      D|                1085|\n",
      "|      D|                1085|\n",
      "|      D|                1085|\n",
      "|     Dd|                 659|\n",
      "|     Dd|                 659|\n",
      "|     Dd|                 659|\n",
      "|     Dd|                 659|\n",
      "|     Dd|                 659|\n",
      "|     Dd|                 659|\n",
      "+-------+--------------------+\n",
      "only showing top 20 rows\n",
      "\n"
     ]
    }
   ],
   "source": [
    "from pyspark.sql.functions import count\n",
    "\n",
    "## Frequency Encoding of High Cardinality Features such as History\n",
    "\n",
    "# Calculate frequency counts for each category in the 'history' column\n",
    "history_counts = df.groupBy(\"history\").agg(count(\"*\").alias(\"history_count\"))\n",
    "\n",
    "# Join the frequency counts back to the original DataFrame\n",
    "df = df.join(history_counts, \"history\", \"left\")\n",
    "\n",
    "# Create a new column 'history_freq_encoded' with the frequency counts\n",
    "df = df.withColumn(\"history_freq_encoded\", col(\"history_count\"))\n",
    "\n",
    "# Optionally drop the intermediate 'history_count' column\n",
    "df = df.drop(\"history_count\")\n",
    "\n",
    "# Show the DataFrame with the frequency encoded column\n",
    "df.select(\"history\", \"history_freq_encoded\").show()"
   ]
  },
  {
   "cell_type": "code",
   "execution_count": null,
   "metadata": {
    "application/vnd.databricks.v1+cell": {
     "cellMetadata": {
      "byteLimit": 2048000,
      "rowLimit": 10000
     },
     "inputWidgets": {},
     "nuid": "2d39d092-582d-45bf-a917-ae4688562227",
     "showTitle": false,
     "tableResultSettingsMap": {},
     "title": ""
    },
    "id": "Bsqzm_ErHsbU"
   },
   "outputs": [
    {
     "name": "stdout",
     "output_type": "stream",
     "text": [
      "+-----+-----------+-------------+----------+----------------+------------------+---------+---------------+-----------------+\n",
      "|proto|proto_index|proto_encoded|conn_state|conn_state_index|conn_state_encoded|id_resp_p|id_resp_p_index|id_resp_p_encoded|\n",
      "+-----+-----------+-------------+----------+----------------+------------------+---------+---------------+-----------------+\n",
      "|  udp|        1.0|(2,[1],[1.0])|        S0|             0.0|    (11,[0],[1.0])|     53.0|            4.0|   (15,[4],[1.0])|\n",
      "|  udp|        1.0|(2,[1],[1.0])|        S0|             0.0|    (11,[0],[1.0])|     53.0|            4.0|   (15,[4],[1.0])|\n",
      "|  udp|        1.0|(2,[1],[1.0])|        S0|             0.0|    (11,[0],[1.0])|     53.0|            4.0|   (15,[4],[1.0])|\n",
      "|  udp|        1.0|(2,[1],[1.0])|        SF|             4.0|    (11,[4],[1.0])|    123.0|            5.0|   (15,[5],[1.0])|\n",
      "|  udp|        1.0|(2,[1],[1.0])|        SF|             4.0|    (11,[4],[1.0])|    123.0|            5.0|   (15,[5],[1.0])|\n",
      "+-----+-----------+-------------+----------+----------------+------------------+---------+---------------+-----------------+\n",
      "only showing top 5 rows\n",
      "\n"
     ]
    }
   ],
   "source": [
    "from pyspark.ml.feature import StringIndexer, OneHotEncoder\n",
    "\n",
    "# one hot encoding of categorical features with low cardinality\n",
    "\n",
    "# Create StringIndexers for \"proto\" and \"conn_state\"\n",
    "proto_indexer = StringIndexer(inputCol=\"proto\", outputCol=\"proto_index\")\n",
    "conn_state_indexer = StringIndexer(inputCol=\"conn_state\", outputCol=\"conn_state_index\")\n",
    "port_indexer = StringIndexer(inputCol=\"id_resp_p\", outputCol=\"id_resp_p_index\")\n",
    "\n",
    "# Create OneHotEncoders for the indexed columns\n",
    "proto_encoder = OneHotEncoder(inputCol=\"proto_index\", outputCol=\"proto_encoded\")\n",
    "conn_state_encoder = OneHotEncoder(inputCol=\"conn_state_index\", outputCol=\"conn_state_encoded\")\n",
    "port_encoder = OneHotEncoder(inputCol=\"id_resp_p_index\", outputCol=\"id_resp_p_encoded\")\n",
    "\n",
    "# Fit and transform the DataFrame\n",
    "df = proto_indexer.fit(df).transform(df)\n",
    "df = conn_state_indexer.fit(df).transform(df)\n",
    "df = port_indexer.fit(df).transform(df)\n",
    "\n",
    "df = proto_encoder.fit(df).transform(df)\n",
    "df = conn_state_encoder.fit(df).transform(df)\n",
    "df = port_encoder.fit(df).transform(df)\n",
    "\n",
    "# Show the DataFrame with the one-hot encoded columns\n",
    "df.select(\"proto\", \"proto_index\", \"proto_encoded\", \"conn_state\", \"conn_state_index\", \"conn_state_encoded\", \"id_resp_p\", \"id_resp_p_index\", \"id_resp_p_encoded\").show(5)"
   ]
  },
  {
   "cell_type": "markdown",
   "metadata": {
    "application/vnd.databricks.v1+cell": {
     "cellMetadata": {},
     "inputWidgets": {},
     "nuid": "bafac25c-c3f4-4450-96b5-bd3d8e52731d",
     "showTitle": false,
     "tableResultSettingsMap": {},
     "title": ""
    },
    "id": "zIw_teB0ITOI"
   },
   "source": [
    "## Scaling of Numerical Features"
   ]
  },
  {
   "cell_type": "code",
   "execution_count": null,
   "metadata": {
    "application/vnd.databricks.v1+cell": {
     "cellMetadata": {
      "byteLimit": 2048000,
      "rowLimit": 10000
     },
     "inputWidgets": {},
     "nuid": "06d43ceb-63b3-45e5-abc2-a085800b51f9",
     "showTitle": false,
     "tableResultSettingsMap": {},
     "title": ""
    },
    "id": "sHA9IuSTIh0Q"
   },
   "outputs": [
    {
     "name": "stdout",
     "output_type": "stream",
     "text": [
      "+-----------------------------------------------------------------------------------------------------------------------------------------------------+\n",
      "|features_scaled                                                                                                                                      |\n",
      "+-----------------------------------------------------------------------------------------------------------------------------------------------------+\n",
      "|[0.07917020868806576,-0.10266570761490006,-0.001447063053035274,-0.10266662035929165,-0.001447820419838744,-0.10348952773676992,-0.10269297535213454]|\n",
      "|[0.07916991879175143,-0.10266570761490006,-0.001447063053035274,-0.10266662035929165,-0.001447820419838744,-0.10348952773676992,-0.10269297535188324]|\n",
      "|[0.07917030532017054,-0.10266570761490006,-0.001447063053035274,-0.10266662035929165,-0.001447820419838744,-0.10348952773676992,-0.10269297535221832]|\n",
      "|[-0.413426648597631,-0.10266572982568728,-0.0019469027274705473,-0.1026666151685707,-0.001447820419838744,-0.10348941813043501,-0.10267456197256093] |\n",
      "|[-0.427527898643348,-0.10266572982568728,-0.0019469027274705473,-0.1026666151685707,-0.001447820419838744,-0.10348941813043501,-0.10208917215619405] |\n",
      "+-----------------------------------------------------------------------------------------------------------------------------------------------------+\n",
      "only showing top 5 rows\n",
      "\n"
     ]
    }
   ],
   "source": [
    "# Assuming 'df' is your DataFrame and the features are already created\n",
    "\n",
    "# Define the columns to be scaled\n",
    "cols_to_scale = [\"duration\", \"byte_ratio\", \"pkt_ratio\", \"total_bytes\", \"total_pkts\", \"efficiency\", \"throughput\"]\n",
    "\n",
    "# Create a VectorAssembler to combine the features into a single vector column\n",
    "assembler = VectorAssembler(inputCols=cols_to_scale, outputCol=\"features_unscaled\")\n",
    "df = assembler.transform(df)\n",
    "\n",
    "# Create a StandardScaler to scale the features\n",
    "scaler = StandardScaler(inputCol=\"features_unscaled\", outputCol=\"features_scaled\", withStd=True, withMean=True)\n",
    "scaler_model = scaler.fit(df)\n",
    "df = scaler_model.transform(df)\n",
    "\n",
    "# Show the scaled features\n",
    "df.select(\"features_scaled\").show(5, truncate=False)\n"
   ]
  },
  {
   "cell_type": "markdown",
   "metadata": {},
   "source": [
    "## K-Means clustering of categorical features into new cluster feature "
   ]
  },
  {
   "cell_type": "code",
   "execution_count": null,
   "metadata": {},
   "outputs": [
    {
     "data": {
      "image/png": "[encoded data removed]",
      "text/plain": [
       "<Figure size 800x500 with 1 Axes>"
      ]
     },
     "metadata": {},
     "output_type": "display_data"
    }
   ],
   "source": [
    "from pyspark.ml.clustering import KMeans\n",
    "\n",
    "assembler = VectorAssembler(\n",
    "    inputCols=[\"features_scaled\", \"proto_encoded\", \"conn_state_encoded\", \"id_resp_p_encoded\"],\n",
    "    outputCol=\"kmeans_features\"\n",
    ")\n",
    "\n",
    "df_assembled = assembler.transform(df)\n",
    "\n",
    "# Define a range of k values to test\n",
    "k_values = range(2, 11)\n",
    "wcss = []\n",
    "\n",
    "for k in k_values:\n",
    "    kmeans = KMeans(featuresCol=\"kmeans_features\", k=k)\n",
    "    model = kmeans.fit(df_assembled)\n",
    "    wcss.append(model.summary.trainingCost)  # WCSS/Inertia\n",
    "\n",
    "# Plot the elbow curve\n",
    "plt.figure(figsize=(8, 5))\n",
    "plt.plot(k_values, wcss, marker='o')\n",
    "plt.title(\"Elbow Method for Optimal k\")\n",
    "plt.xlabel(\"Number of Clusters (k)\")\n",
    "plt.ylabel(\"WCSS (Within-Cluster Sum of Squares)\")\n",
    "plt.show()\n",
    "\n",
    "# Define K-Means model\n",
    "kmeans = KMeans(featuresCol=\"kmeans_features\", predictionCol=\"cluster\", k=2)  # Adjust k as needed\n",
    "\n",
    "# Fit the model\n",
    "kmeans_model = kmeans.fit(df_assembled)\n",
    "\n",
    "# Predict clusters\n",
    "df = kmeans_model.transform(df_assembled)"
   ]
  },
  {
   "cell_type": "markdown",
   "metadata": {
    "application/vnd.databricks.v1+cell": {
     "cellMetadata": {},
     "inputWidgets": {},
     "nuid": "bf3c9aed-7c13-41a3-b17d-4255b84e7533",
     "showTitle": false,
     "tableResultSettingsMap": {},
     "title": ""
    },
    "id": "X0I8dV6gL7zN"
   },
   "source": [
    "## Assemble Features for Modelling"
   ]
  },
  {
   "cell_type": "code",
   "execution_count": null,
   "metadata": {
    "application/vnd.databricks.v1+cell": {
     "cellMetadata": {
      "byteLimit": 2048000,
      "rowLimit": 10000
     },
     "inputWidgets": {},
     "nuid": "04d3d2a8-a4ff-4739-970c-a546b87bed05",
     "showTitle": false,
     "tableResultSettingsMap": {},
     "title": ""
    },
    "id": "_uL1kqhTL_7d"
   },
   "outputs": [],
   "source": [
    "from pyspark.ml.feature import VectorAssembler\n",
    "\n",
    "final_features = [\n",
    "    \"features_scaled\",           # your numeric features\n",
    "    \"cluster\"\n",
    "]\n",
    "\n",
    "assembler = VectorAssembler(inputCols=final_features, outputCol=\"features\", handleInvalid=\"skip\")\n",
    "\n",
    "df_clean = df.dropna(subset=final_features) # i think history still have null values :(\n",
    "df_model = assembler.transform(df_clean)"
   ]
  },
  {
   "cell_type": "code",
   "execution_count": null,
   "metadata": {},
   "outputs": [
    {
     "ename": "NameError",
     "evalue": "name 'stop' is not defined",
     "output_type": "error",
     "traceback": [
      "\u001b[31m---------------------------------------------------------------------------\u001b[39m",
      "\u001b[31mNameError\u001b[39m                                 Traceback (most recent call last)",
      "\u001b[36mCell\u001b[39m\u001b[36m \u001b[39m\u001b[32mIn[87]\u001b[39m\u001b[32m, line 1\u001b[39m\n\u001b[32m----> \u001b[39m\u001b[32m1\u001b[39m \u001b[43mstop\u001b[49m\n",
      "\u001b[31mNameError\u001b[39m: name 'stop' is not defined"
     ]
    }
   ],
   "source": [
    "stop"
   ]
  },
  {
   "cell_type": "markdown",
   "metadata": {
    "application/vnd.databricks.v1+cell": {
     "cellMetadata": {},
     "inputWidgets": {},
     "nuid": "2d5e7df4-087a-4ca8-86b7-5816cea46ffa",
     "showTitle": false,
     "tableResultSettingsMap": {},
     "title": ""
    },
    "id": "R43x7rDi5sF8"
   },
   "source": [
    "# Model Training and Evaluation"
   ]
  },
  {
   "cell_type": "markdown",
   "metadata": {
    "application/vnd.databricks.v1+cell": {
     "cellMetadata": {},
     "inputWidgets": {},
     "nuid": "c99e9b25-dfbf-4411-8d71-0c6478fdc83c",
     "showTitle": false,
     "tableResultSettingsMap": {},
     "title": ""
    },
    "id": "yCclzB3TMgX6"
   },
   "source": [
    "## Logistic Regression"
   ]
  },
  {
   "cell_type": "code",
   "execution_count": 0,
   "metadata": {
    "application/vnd.databricks.v1+cell": {
     "cellMetadata": {},
     "inputWidgets": {},
     "nuid": "e30e70db-550d-4186-b9c7-9209d09ac218",
     "showTitle": false,
     "tableResultSettingsMap": {},
     "title": ""
    },
    "id": "sqGI5rYwM39F"
   },
   "outputs": [
    {
     "name": "stdout",
     "output_type": "stream",
     "text": [
      "+------+-----------+----------------------------------------------------------------------------------------------------------+----------+\n",
      "|label |label_index|probability                                                                                               |prediction|\n",
      "+------+-----------+----------------------------------------------------------------------------------------------------------+----------+\n",
      "|Benign|0.0        |[0.9471829434463268,0.052797362763439444,9.816902319680823E-7,1.3630853176379356E-7,1.8575791470258853E-5]|0.0       |\n",
      "|Benign|0.0        |[0.947182943544033,0.05279736266575741,9.81690230152097E-7,1.3630853160025183E-7,1.8575791448016232E-5]   |0.0       |\n",
      "|Benign|0.0        |[0.9471829434463268,0.052797362763439444,9.816902319680823E-7,1.3630853176379356E-7,1.8575791470258853E-5]|0.0       |\n",
      "|Benign|0.0        |[0.9471829404691611,0.052797365739866965,9.816902873022157E-7,1.363085367470043E-7,1.8575792148004477E-5] |0.0       |\n",
      "|Benign|0.0        |[0.9471829435038008,0.052797362705979387,9.816902308998564E-7,1.3630853166759264E-7,1.857579145717496E-5] |0.0       |\n",
      "+------+-----------+----------------------------------------------------------------------------------------------------------+----------+\n",
      "only showing top 5 rows\n",
      "\n"
     ]
    }
   ],
   "source": [
    "from pyspark.ml.classification import LogisticRegression\n",
    "from pyspark.ml.evaluation import BinaryClassificationEvaluator, MulticlassClassificationEvaluator\n",
    "\n",
    "from pyspark.ml.feature import StringIndexer\n",
    "\n",
    "# 2. Index the label\n",
    "df_model = df_model.drop(\"label_index\") # force drop existing when rerunning the cell\n",
    "\n",
    "label_indexer = StringIndexer(inputCol=\"label\", outputCol=\"label_index\", handleInvalid=\"keep\")\n",
    "df_model = label_indexer.fit(df_model).transform(df_model)\n",
    "\n",
    "train_df, test_df = df_model.randomSplit([0.8, 0.2], seed=42)\n",
    "\n",
    "lr = LogisticRegression(\n",
    "    featuresCol=\"features\",\n",
    "    labelCol=\"label_index\",\n",
    "    maxIter=20,\n",
    "    regParam=0.1,\n",
    "    elasticNetParam=0.0  # L2 regularization (Ridge)\n",
    ")\n",
    "lr_model = lr.fit(train_df)\n",
    "\n",
    "# 5. Predict on test set\n",
    "predictions = lr_model.transform(test_df)\n",
    "\n",
    "# 6. Show predictions\n",
    "predictions.select(\"label\", \"label_index\", \"probability\", \"prediction\").show(5, truncate=False)"
   ]
  },
  {
   "cell_type": "code",
   "execution_count": 0,
   "metadata": {
    "application/vnd.databricks.v1+cell": {
     "cellMetadata": {},
     "inputWidgets": {},
     "nuid": "99fef1d0-19a5-4d85-9abb-1c4497046aa4",
     "showTitle": false,
     "tableResultSettingsMap": {},
     "title": ""
    }
   },
   "outputs": [
    {
     "name": "stdout",
     "output_type": "stream",
     "text": [
      "Multiclass accuracy: 1.0000\n",
      "+-----------+----------+------+\n",
      "|label_index|prediction| count|\n",
      "+-----------+----------+------+\n",
      "|        2.0|       0.0|     5|\n",
      "|        2.0|       1.0|     1|\n",
      "|        0.0|       0.0|821951|\n",
      "|        1.0|       1.0|381230|\n",
      "|        0.0|       1.0|     2|\n",
      "|        1.0|       0.0|    12|\n",
      "+-----------+----------+------+\n",
      "\n",
      "F1 Score on test set: 1.0000\n"
     ]
    }
   ],
   "source": [
    "# 7. Evaluate ROC-AUC\n",
    "evaluator = MulticlassClassificationEvaluator(\n",
    "    labelCol=\"label_index\",\n",
    "    predictionCol=\"prediction\",\n",
    "    metricName=\"accuracy\"  # or \"f1\", \"weightedPrecision\", \"weightedRecall\"\n",
    ")\n",
    "\n",
    "accuracy = evaluator.evaluate(predictions)\n",
    "print(f\"Multiclass accuracy: {accuracy:.4f}\")\n",
    "\n",
    "# 8. Show confusion matrix\n",
    "predictions.groupBy(\"label_index\", \"prediction\").count().show()\n",
    "\n",
    "# 9. (Optional) Evaluate F1 score\n",
    "multi_eval = MulticlassClassificationEvaluator(\n",
    "    labelCol=\"label_index\", predictionCol=\"prediction\", metricName=\"f1\"\n",
    ")\n",
    "f1_score = multi_eval.evaluate(predictions)\n",
    "print(f\"F1 Score on test set: {f1_score:.4f}\")"
   ]
  },
  {
   "cell_type": "markdown",
   "metadata": {
    "application/vnd.databricks.v1+cell": {
     "cellMetadata": {},
     "inputWidgets": {},
     "nuid": "f7822bf8-8514-4c87-aa29-71e0f9e44f3f",
     "showTitle": false,
     "tableResultSettingsMap": {},
     "title": ""
    }
   },
   "source": [
    "model performs well for common classes (0.0 and 1.0) but completely fails to identify class 2.0 (probably due to class imbalance)\n",
    "\n",
    "F1 = 1.0"
   ]
  },
  {
   "cell_type": "code",
   "execution_count": 0,
   "metadata": {
    "application/vnd.databricks.v1+cell": {
     "cellMetadata": {},
     "inputWidgets": {},
     "nuid": "73aa0a2a-733d-4886-bca2-795313bbc11b",
     "showTitle": false,
     "tableResultSettingsMap": {},
     "title": ""
    }
   },
   "outputs": [
    {
     "name": "stdout",
     "output_type": "stream",
     "text": [
      "+------------------+-----------+\n",
      "|label             |label_index|\n",
      "+------------------+-----------+\n",
      "|Benign            |0.0        |\n",
      "|Malicious   DDoS  |1.0        |\n",
      "|Malicious   C&C   |2.0        |\n",
      "|Malicious   Attack|3.0        |\n",
      "+------------------+-----------+\n",
      "\n"
     ]
    }
   ],
   "source": [
    "df_model.select(\"label\", \"label_index\").distinct().orderBy(\"label_index\").show(truncate=False)"
   ]
  },
  {
   "cell_type": "code",
   "execution_count": 0,
   "metadata": {
    "application/vnd.databricks.v1+cell": {
     "cellMetadata": {},
     "inputWidgets": {},
     "nuid": "ef185b12-7d48-4496-a9ff-a8289f19c23d",
     "showTitle": false,
     "tableResultSettingsMap": {},
     "title": ""
    }
   },
   "outputs": [
    {
     "name": "stdout",
     "output_type": "stream",
     "text": [
      "+-----------+-------+\n",
      "|label_index|  count|\n",
      "+-----------+-------+\n",
      "|        0.0|4108318|\n",
      "|        3.0|      3|\n",
      "|        2.0|     33|\n",
      "|        1.0|1906796|\n",
      "+-----------+-------+\n",
      "\n",
      "+-----------+------+\n",
      "|label_index| count|\n",
      "+-----------+------+\n",
      "|        0.0|821953|\n",
      "|        2.0|     6|\n",
      "|        1.0|381242|\n",
      "+-----------+------+\n",
      "\n"
     ]
    }
   ],
   "source": [
    "df_model.groupBy(\"label_index\").count().show()\n",
    "test_df.groupBy(\"label_index\").count().show()"
   ]
  },
  {
   "cell_type": "markdown",
   "metadata": {
    "application/vnd.databricks.v1+cell": {
     "cellMetadata": {},
     "inputWidgets": {},
     "nuid": "5fe93d9c-f6bb-496e-b464-67f4e5e146f7",
     "showTitle": false,
     "tableResultSettingsMap": {},
     "title": ""
    },
    "id": "phW0E54BMjuc"
   },
   "source": [
    "## Random Forest"
   ]
  },
  {
   "cell_type": "code",
   "execution_count": null,
   "metadata": {},
   "outputs": [],
   "source": [
    "df_model_RF = df_model"
   ]
  },
  {
   "cell_type": "code",
   "execution_count": null,
   "metadata": {
    "application/vnd.databricks.v1+cell": {
     "cellMetadata": {},
     "inputWidgets": {},
     "nuid": "1e128c25-f640-406a-91e9-f41ef69f7f77",
     "showTitle": false,
     "tableResultSettingsMap": {},
     "title": ""
    },
    "id": "4NxND86oM56v"
   },
   "outputs": [],
   "source": [
    "from pyspark.ml import Pipeline\n",
    "from pyspark.ml.feature import StringIndexer, VectorAssembler\n",
    "from pyspark.ml.classification import RandomForestClassifier\n",
    "from pyspark.ml.evaluation import BinaryClassificationEvaluator, MulticlassClassificationEvaluator\n",
    "\n",
    "df_model_RF = df_model_RF.drop(\"label_index\") \n",
    "\n",
    "df_model_RF = df_model_RF.withColumn(\n",
    "    \"label\",\n",
    "    when(col(\"label\") == \"Benign\", \"Benign\").otherwise(\"Malicious\")\n",
    ")\n",
    "\n",
    "label_indexer = StringIndexer(inputCol=\"label\", outputCol=\"label_index\", handleInvalid=\"skip\")\n",
    "df_model_RF = label_indexer.fit(df_model_RF).transform(df_model_RF)\n",
    "\n",
    "train_df, test_df = df_model_RF.randomSplit([0.8, 0.2], seed=42)\n",
    "\n",
    "rf = RandomForestClassifier(\n",
    "    featuresCol=\"features\",\n",
    "    labelCol=\"label_index\",\n",
    "    numTrees=10,  \n",
    "    maxDepth=5    \n",
    ")\n",
    "\n",
    "rf_model = rf.fit(train_df)\n",
    "rf_predictions = rf_model.transform(test_df)"
   ]
  },
  {
   "cell_type": "code",
   "execution_count": null,
   "metadata": {},
   "outputs": [
    {
     "name": "stdout",
     "output_type": "stream",
     "text": [
      "+------+-----------+-----------------------------------------+----------+\n",
      "|label |label_index|probability                              |prediction|\n",
      "+------+-----------+-----------------------------------------+----------+\n",
      "|Benign|0.0        |[0.930788590604027,0.06921140939597316]  |0.0       |\n",
      "|Benign|0.0        |[0.9853658451598651,0.014634154840134934]|0.0       |\n",
      "|Benign|0.0        |[0.9596700522796061,0.040329947720393826]|0.0       |\n",
      "|Benign|0.0        |[0.930788590604027,0.06921140939597316]  |0.0       |\n",
      "|Benign|0.0        |[0.9999341772155708,6.582278442929837E-5]|0.0       |\n",
      "+------+-----------+-----------------------------------------+----------+\n",
      "only showing top 5 rows\n",
      "\n"
     ]
    }
   ],
   "source": [
    "rf_predictions.select(\"label\", \"label_index\", \"probability\", \"prediction\").show(5, truncate=False)"
   ]
  },
  {
   "cell_type": "code",
   "execution_count": null,
   "metadata": {},
   "outputs": [
    {
     "name": "stdout",
     "output_type": "stream",
     "text": [
      "+-----------+-------+\n",
      "|label_index|  count|\n",
      "+-----------+-------+\n",
      "|        0.0|4108340|\n",
      "|        1.0|1906796|\n",
      "+-----------+-------+\n",
      "\n"
     ]
    }
   ],
   "source": [
    "df_model_RF.groupBy(\"label_index\").count().show()"
   ]
  },
  {
   "cell_type": "code",
   "execution_count": null,
   "metadata": {},
   "outputs": [
    {
     "name": "stdout",
     "output_type": "stream",
     "text": [
      "Accuracy: 1.0000\n"
     ]
    }
   ],
   "source": [
    "# Model eval - accuracy\n",
    "evaluator_acc = MulticlassClassificationEvaluator(\n",
    "    labelCol=\"label_index\",  \n",
    "    predictionCol=\"prediction\",  \n",
    "    metricName=\"accuracy\"  \n",
    ")\n",
    "rf_accuracy = evaluator_acc.evaluate(rf_predictions)\n",
    "print(f\"Accuracy: {rf_accuracy:.4f}\")"
   ]
  },
  {
   "cell_type": "code",
   "execution_count": null,
   "metadata": {},
   "outputs": [
    {
     "name": "stdout",
     "output_type": "stream",
     "text": [
      "RF AUC: 1.0000\n"
     ]
    }
   ],
   "source": [
    "evaluator_auc = BinaryClassificationEvaluator(\n",
    "    labelCol=\"label_index\",\n",
    "    rawPredictionCol=\"rawPrediction\", \n",
    "    metricName=\"areaUnderROC\"\n",
    ")\n",
    "\n",
    "rf_auc = evaluator_auc.evaluate(rf_predictions)\n",
    "print(f\"RF AUC: {rf_auc:.4f}\")"
   ]
  },
  {
   "cell_type": "code",
   "execution_count": null,
   "metadata": {},
   "outputs": [],
   "source": [
    "stop"
   ]
  },
  {
   "cell_type": "markdown",
   "metadata": {
    "application/vnd.databricks.v1+cell": {
     "cellMetadata": {},
     "inputWidgets": {},
     "nuid": "969e8004-3262-4927-b50b-b2e052708484",
     "showTitle": false,
     "tableResultSettingsMap": {},
     "title": ""
    },
    "id": "VLBMnQuGMwBZ"
   },
   "source": [
    "## Gradient Boosted Trees"
   ]
  },
  {
   "cell_type": "code",
   "execution_count": 0,
   "metadata": {
    "application/vnd.databricks.v1+cell": {
     "cellMetadata": {
      "byteLimit": 2048000,
      "rowLimit": 10000
     },
     "inputWidgets": {},
     "nuid": "abc9e4ec-beae-4561-bc71-5635914ed671",
     "showTitle": false,
     "tableResultSettingsMap": {},
     "title": ""
    },
    "id": "Sy5xHJXsM7Nt"
   },
   "outputs": [],
   "source": [
    "# Gradient boosted tree is binary\n",
    "\n",
    "from pyspark.ml.classification import GBTClassifier\n",
    "# from pyspark.ml import Pipeline\n",
    "\n",
    "df_model = df_model.drop(\"label_index\") # force drop existing when rerunning the cell\n",
    "\n",
    "df_model = df_model.withColumn(\n",
    "    \"label\",\n",
    "    when(col(\"label\") == \"Benign\", \"Benign\").otherwise(\"Malicious\")\n",
    ")\n",
    "\n",
    "# reindex labels (Benign = 0, Malicious = 1)\n",
    "label_indexer = StringIndexer(inputCol=\"label\", outputCol=\"label_index\", handleInvalid=\"keep\")\n",
    "df_model = label_indexer.fit(df_model).transform(df_model)\n",
    "\n",
    "# train test split\n",
    "train_df, test_df = df_model.randomSplit([0.8, 0.2], seed=42)\n",
    "\n",
    "# gbt regressor\n",
    "gbt = GBTClassifier(featuresCol=\"features\",\n",
    "                    labelCol=\"label_index\", \n",
    "                    maxIter=50, \n",
    "                    maxDepth=5)\n",
    "\n",
    "# train the model\n",
    "gbt_model = gbt.fit(train_df)\n",
    "\n",
    "# Make predictions with Gradient Boosted Tree\n",
    "gbt_predictions = gbt_model.transform(test_df)\n",
    "\n",
    "# display predictions\n",
    "gbt_predictions.select(\"label\", \"label_index\", \"probability\", \"prediction\").show(5, truncate=False)"
   ]
  },
  {
   "cell_type": "code",
   "execution_count": 0,
   "metadata": {
    "application/vnd.databricks.v1+cell": {
     "cellMetadata": {
      "byteLimit": 2048000,
      "rowLimit": 10000
     },
     "inputWidgets": {},
     "nuid": "6fc624c7-042f-4fdd-98b3-6c5ec1ef94d0",
     "showTitle": false,
     "tableResultSettingsMap": {},
     "title": ""
    }
   },
   "outputs": [
    {
     "name": "stdout",
     "output_type": "stream",
     "text": [
      "+-----------+-------+\n",
      "|label_index|  count|\n",
      "+-----------+-------+\n",
      "|        0.0|4108318|\n",
      "|        1.0|1906832|\n",
      "+-----------+-------+\n",
      "\n"
     ]
    }
   ],
   "source": [
    "df_model.groupBy(\"label_index\").count().show()"
   ]
  },
  {
   "cell_type": "code",
   "execution_count": 0,
   "metadata": {
    "application/vnd.databricks.v1+cell": {
     "cellMetadata": {
      "byteLimit": 2048000,
      "rowLimit": 10000
     },
     "inputWidgets": {},
     "nuid": "9271c448-f9c5-4f1e-844d-6bc5e598cc03",
     "showTitle": false,
     "tableResultSettingsMap": {},
     "title": ""
    }
   },
   "outputs": [
    {
     "name": "stdout",
     "output_type": "stream",
     "text": [
      "GBT AUC: 1.0000\n",
      "Accuracy: 1.0000\n"
     ]
    }
   ],
   "source": [
    "from pyspark.ml.evaluation import BinaryClassificationEvaluator, MulticlassClassificationEvaluator\n",
    "\n",
    "# Evaluation\n",
    "# evaluate AUC using BinaryClassificationEvaluator\n",
    "evaluator_auc = BinaryClassificationEvaluator(\n",
    "    labelCol=\"label_index\",\n",
    "    rawPredictionCol=\"rawPrediction\",  # GBT outputs rawPrediction\n",
    "    metricName=\"areaUnderROC\"\n",
    ")\n",
    "\n",
    "gbt_auc = evaluator_auc.evaluate(gbt_predictions)\n",
    "print(f\"GBT AUC: {gbt_auc:.4f}\")\n",
    "\n",
    "evaluator_acc = MulticlassClassificationEvaluator(\n",
    "    labelCol=\"label_index\", \n",
    "    predictionCol=\"prediction\", \n",
    "    metricName=\"accuracy\"\n",
    ")\n",
    "\n",
    "gbt_accuracy = evaluator_acc.evaluate(gbt_predictions)\n",
    "print(f\"Accuracy: {gbt_accuracy:.4f}\")"
   ]
  },
  {
   "cell_type": "markdown",
   "metadata": {
    "application/vnd.databricks.v1+cell": {
     "cellMetadata": {},
     "inputWidgets": {},
     "nuid": "a345a235-a8c1-46fb-bf83-e4477bf6f0f9",
     "showTitle": false,
     "tableResultSettingsMap": {},
     "title": ""
    },
    "id": "Lehy1GtUM1bq"
   },
   "source": [
    "## MLP"
   ]
  },
  {
   "cell_type": "code",
   "execution_count": 0,
   "metadata": {
    "application/vnd.databricks.v1+cell": {
     "cellMetadata": {},
     "inputWidgets": {},
     "nuid": "9353c975-0344-463f-a616-8196f6f7b02e",
     "showTitle": false,
     "tableResultSettingsMap": {},
     "title": ""
    },
    "id": "MwdyBCqcM81h"
   },
   "outputs": [],
   "source": [
    "# to be filled"
   ]
  },
  {
   "cell_type": "markdown",
   "metadata": {
    "application/vnd.databricks.v1+cell": {
     "cellMetadata": {},
     "inputWidgets": {},
     "nuid": "2745659a-e466-463c-8ffd-8438525b089d",
     "showTitle": false,
     "tableResultSettingsMap": {},
     "title": ""
    },
    "id": "O_f4FngJ5tOD"
   },
   "source": [
    "# Hyperparameter Tuning & Cross-Validation"
   ]
  },
  {
   "cell_type": "code",
   "execution_count": 0,
   "metadata": {
    "application/vnd.databricks.v1+cell": {
     "cellMetadata": {},
     "inputWidgets": {},
     "nuid": "b94701bd-edd8-4657-b039-c3bac6aad0fc",
     "showTitle": false,
     "tableResultSettingsMap": {},
     "title": ""
    },
    "id": "MHoLi5yvNHjz"
   },
   "outputs": [],
   "source": [
    "# to be done"
   ]
  },
  {
   "cell_type": "markdown",
   "metadata": {
    "application/vnd.databricks.v1+cell": {
     "cellMetadata": {},
     "inputWidgets": {},
     "nuid": "8ff4bec4-c10d-4b3e-9bbb-47c311d67481",
     "showTitle": false,
     "tableResultSettingsMap": {},
     "title": ""
    },
    "id": "sVSpNYqJ52bF"
   },
   "source": [
    "# Model Comparison"
   ]
  },
  {
   "cell_type": "code",
   "execution_count": 0,
   "metadata": {
    "application/vnd.databricks.v1+cell": {
     "cellMetadata": {},
     "inputWidgets": {},
     "nuid": "2675bcec-7c68-490c-a503-698301480209",
     "showTitle": false,
     "tableResultSettingsMap": {},
     "title": ""
    }
   },
   "outputs": [],
   "source": []
  },
  {
   "cell_type": "markdown",
   "metadata": {
    "application/vnd.databricks.v1+cell": {
     "cellMetadata": {},
     "inputWidgets": {},
     "nuid": "52a6158a-6cda-4227-8d3e-8d84445fab67",
     "showTitle": false,
     "tableResultSettingsMap": {},
     "title": ""
    },
    "id": "phT0fenb56Nq"
   },
   "source": [
    "write interpretations here"
   ]
  }
 ],
 "metadata": {
  "application/vnd.databricks.v1+notebook": {
   "computePreferences": null,
   "dashboards": [],
   "environmentMetadata": null,
   "inputWidgetPreferences": null,
   "language": "python",
   "notebookMetadata": {
    "pythonIndentUnit": 4
   },
   "notebookName": "V_2_BT4221_Group_Project",
   "widgets": {}
  },
  "colab": {
   "provenance": [],
   "toc_visible": true
  },
  "kernelspec": {
   "display_name": "Python 3",
   "language": "python",
   "name": "python3"
  },
  "language_info": {
   "codemirror_mode": {
    "name": "ipython",
    "version": 3
   },
   "file_extension": ".py",
   "mimetype": "text/x-python",
   "name": "python",
   "nbconvert_exporter": "python",
   "pygments_lexer": "ipython3",
   "version": "3.11.9"
  }
 },
 "nbformat": 4,
 "nbformat_minor": 0
}
